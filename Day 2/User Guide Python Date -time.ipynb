{
 "cells": [
  {
   "cell_type": "markdown",
   "metadata": {
    "id": "4pIa69q_Bs54"
   },
   "source": [
    "## Python datetime()\n",
    "Date variables are a special type of categorical variable. While, at first glance, a date gives us nothing more than a specific point on a timeline, when pre-processing properly, they can highly enrich the dataset. Common date formats contain numbers and sometimes text as well to specify months and days. Getting dates into a friendly format and extracting features of dates into new variables can be useful preprocessing steps.\n",
    "\n",
    "**For Example, from a date variable, you can extract basic features like,**\n",
    "- Month\n",
    "- Quarter\n",
    "- Semester\n",
    "- Year\n",
    "- Day\n",
    "- Day of the week\n",
    "- Weekend or not\n",
    "- Time difference in year / months / days etc"
   ]
  },
  {
   "cell_type": "markdown",
   "metadata": {
    "id": "NYlC_9CnBs56"
   },
   "source": [
    "- It represents a date in the format YYYY-MM-DD"
   ]
  },
  {
   "cell_type": "markdown",
   "metadata": {
    "id": "0hlR0YhxBs58"
   },
   "source": [
    "**Importing Packages and dataset:**"
   ]
  },
  {
   "cell_type": "code",
   "execution_count": 13,
   "metadata": {
    "executionInfo": {
     "elapsed": 1295,
     "status": "ok",
     "timestamp": 1610978370524,
     "user": {
      "displayName": "Maitreya Mohapatra",
      "photoUrl": "https://lh3.googleusercontent.com/a-/AOh14GiuLguxHmwS4RooiSqyiA9HOqQ0gwV5DJxFDF8xlw=s64",
      "userId": "09280851670421352060"
     },
     "user_tz": -330
    },
    "id": "cuemMCwMBs59"
   },
   "outputs": [],
   "source": [
    "import pandas as pd\n",
    "import numpy as np \n",
    "import datetime\n",
    "\n",
    "'''Now, let’s take the date variable ‘Date.of.Birth’ & 'DisbursalDate' from the dataset and work on.'''\n",
    "\n",
    "cols = ['Date.of.Birth', 'DisbursalDate']\n",
    "\n",
    "#  data = pd.read_csv('train.csv',usecols=cols, nrows = 100)\n",
    "data = pd.DataFrame(['2020-06-01', '2020-09-02'], columns=['Date.of.Birth'])\n"
   ]
  },
  {
   "cell_type": "markdown",
   "metadata": {
    "id": "3YBSaDvxBs6F"
   },
   "source": [
    "***Conversion to DateTime Datatype:***\n",
    "- The first step is to convert the data type of the column to DateTime. That can be done using .to_datetime() method in Pandas."
   ]
  },
  {
   "cell_type": "code",
   "execution_count": 2,
   "metadata": {
    "colab": {
     "base_uri": "https://localhost:8080/"
    },
    "executionInfo": {
     "elapsed": 1345,
     "status": "ok",
     "timestamp": 1610978408982,
     "user": {
      "displayName": "Maitreya Mohapatra",
      "photoUrl": "https://lh3.googleusercontent.com/a-/AOh14GiuLguxHmwS4RooiSqyiA9HOqQ0gwV5DJxFDF8xlw=s64",
      "userId": "09280851670421352060"
     },
     "user_tz": -330
    },
    "id": "z9L1ln7LBs6G",
    "outputId": "8674dfcb-e8aa-4f55-b63c-edeb4dcd1d5d"
   },
   "outputs": [
    {
     "data": {
      "text/plain": [
       "Date.of.Birth    datetime64[ns]\n",
       "dtype: object"
      ]
     },
     "execution_count": 2,
     "metadata": {},
     "output_type": "execute_result"
    }
   ],
   "source": [
    "data['Date.of.Birth']= pd.to_datetime(data['Date.of.Birth']) \n",
    "# data['DisbursalDate']= pd.to_datetime(data['DisbursalDate'])\n",
    "\n",
    "\n",
    "data.dtypes"
   ]
  },
  {
   "cell_type": "code",
   "execution_count": 3,
   "metadata": {
    "colab": {
     "base_uri": "https://localhost:8080/",
     "height": 109
    },
    "executionInfo": {
     "elapsed": 1287,
     "status": "ok",
     "timestamp": 1610978419374,
     "user": {
      "displayName": "Maitreya Mohapatra",
      "photoUrl": "https://lh3.googleusercontent.com/a-/AOh14GiuLguxHmwS4RooiSqyiA9HOqQ0gwV5DJxFDF8xlw=s64",
      "userId": "09280851670421352060"
     },
     "user_tz": -330
    },
    "id": "P_sbTYrcy8zM",
    "outputId": "6b222492-c555-4eaf-97f3-fb67731026e9"
   },
   "outputs": [
    {
     "data": {
      "text/html": [
       "<div>\n",
       "<style scoped>\n",
       "    .dataframe tbody tr th:only-of-type {\n",
       "        vertical-align: middle;\n",
       "    }\n",
       "\n",
       "    .dataframe tbody tr th {\n",
       "        vertical-align: top;\n",
       "    }\n",
       "\n",
       "    .dataframe thead th {\n",
       "        text-align: right;\n",
       "    }\n",
       "</style>\n",
       "<table border=\"1\" class=\"dataframe\">\n",
       "  <thead>\n",
       "    <tr style=\"text-align: right;\">\n",
       "      <th></th>\n",
       "      <th>Date.of.Birth</th>\n",
       "    </tr>\n",
       "  </thead>\n",
       "  <tbody>\n",
       "    <tr>\n",
       "      <th>0</th>\n",
       "      <td>2020-06-01</td>\n",
       "    </tr>\n",
       "    <tr>\n",
       "      <th>1</th>\n",
       "      <td>2020-09-02</td>\n",
       "    </tr>\n",
       "  </tbody>\n",
       "</table>\n",
       "</div>"
      ],
      "text/plain": [
       "  Date.of.Birth\n",
       "0    2020-06-01\n",
       "1    2020-09-02"
      ]
     },
     "execution_count": 3,
     "metadata": {},
     "output_type": "execute_result"
    }
   ],
   "source": [
    "data"
   ]
  },
  {
   "cell_type": "markdown",
   "metadata": {
    "id": "YjS214BpBs6O"
   },
   "source": [
    "***Series.dt :***\n",
    "Series.dt can be used to access the values of the series of a datetime variable and return several properties in the form of a numpy array.\n",
    "\n",
    "Some of its attributes are\n",
    "\n",
    "- ***pandas.Series.dt.year*** returns the year of the date time.\n",
    "- ***pandas.Series.dt.month*** returns the month of the date time.\n",
    "- ***pandas.Series.dt.day*** returns the day of the date time.\n",
    "- ***pandas.Series.dt.quarter*** returns the quarter of the date time.\n",
    "\n",
    "***Month from Date:***"
   ]
  },
  {
   "cell_type": "code",
   "execution_count": 4,
   "metadata": {
    "colab": {
     "base_uri": "https://localhost:8080/",
     "height": 109
    },
    "executionInfo": {
     "elapsed": 1340,
     "status": "ok",
     "timestamp": 1610978441103,
     "user": {
      "displayName": "Maitreya Mohapatra",
      "photoUrl": "https://lh3.googleusercontent.com/a-/AOh14GiuLguxHmwS4RooiSqyiA9HOqQ0gwV5DJxFDF8xlw=s64",
      "userId": "09280851670421352060"
     },
     "user_tz": -330
    },
    "id": "b9qzS4atBs6P",
    "outputId": "421f18cb-1cb3-4cf2-ed83-c83f2ae1d429"
   },
   "outputs": [
    {
     "data": {
      "text/html": [
       "<div>\n",
       "<style scoped>\n",
       "    .dataframe tbody tr th:only-of-type {\n",
       "        vertical-align: middle;\n",
       "    }\n",
       "\n",
       "    .dataframe tbody tr th {\n",
       "        vertical-align: top;\n",
       "    }\n",
       "\n",
       "    .dataframe thead th {\n",
       "        text-align: right;\n",
       "    }\n",
       "</style>\n",
       "<table border=\"1\" class=\"dataframe\">\n",
       "  <thead>\n",
       "    <tr style=\"text-align: right;\">\n",
       "      <th></th>\n",
       "      <th>Date.of.Birth</th>\n",
       "      <th>month</th>\n",
       "    </tr>\n",
       "  </thead>\n",
       "  <tbody>\n",
       "    <tr>\n",
       "      <th>0</th>\n",
       "      <td>2020-06-01</td>\n",
       "      <td>6</td>\n",
       "    </tr>\n",
       "    <tr>\n",
       "      <th>1</th>\n",
       "      <td>2020-09-02</td>\n",
       "      <td>9</td>\n",
       "    </tr>\n",
       "  </tbody>\n",
       "</table>\n",
       "</div>"
      ],
      "text/plain": [
       "  Date.of.Birth  month\n",
       "0    2020-06-01      6\n",
       "1    2020-09-02      9"
      ]
     },
     "execution_count": 4,
     "metadata": {},
     "output_type": "execute_result"
    }
   ],
   "source": [
    "data['month'] = data['Date.of.Birth'].dt.month\n",
    "data[['Date.of.Birth','month']].head()"
   ]
  },
  {
   "cell_type": "markdown",
   "metadata": {
    "id": "8FNsK-d-Bs6V"
   },
   "source": [
    "***Day from Date:***"
   ]
  },
  {
   "cell_type": "code",
   "execution_count": 5,
   "metadata": {
    "id": "rvm4ANG6Bs6W",
    "outputId": "f94af677-09ef-4a9b-f6f6-73ac889bf1a7"
   },
   "outputs": [
    {
     "data": {
      "text/html": [
       "<div>\n",
       "<style scoped>\n",
       "    .dataframe tbody tr th:only-of-type {\n",
       "        vertical-align: middle;\n",
       "    }\n",
       "\n",
       "    .dataframe tbody tr th {\n",
       "        vertical-align: top;\n",
       "    }\n",
       "\n",
       "    .dataframe thead th {\n",
       "        text-align: right;\n",
       "    }\n",
       "</style>\n",
       "<table border=\"1\" class=\"dataframe\">\n",
       "  <thead>\n",
       "    <tr style=\"text-align: right;\">\n",
       "      <th></th>\n",
       "      <th>Date.of.Birth</th>\n",
       "      <th>day</th>\n",
       "    </tr>\n",
       "  </thead>\n",
       "  <tbody>\n",
       "    <tr>\n",
       "      <th>0</th>\n",
       "      <td>2020-06-01</td>\n",
       "      <td>1</td>\n",
       "    </tr>\n",
       "    <tr>\n",
       "      <th>1</th>\n",
       "      <td>2020-09-02</td>\n",
       "      <td>2</td>\n",
       "    </tr>\n",
       "  </tbody>\n",
       "</table>\n",
       "</div>"
      ],
      "text/plain": [
       "  Date.of.Birth  day\n",
       "0    2020-06-01    1\n",
       "1    2020-09-02    2"
      ]
     },
     "execution_count": 5,
     "metadata": {},
     "output_type": "execute_result"
    }
   ],
   "source": [
    "data['day'] = data['Date.of.Birth'].dt.day\n",
    "data[['Date.of.Birth','day']].head()"
   ]
  },
  {
   "cell_type": "markdown",
   "metadata": {
    "id": "Th0UmgbcBs6c"
   },
   "source": [
    "***Year from Date:***"
   ]
  },
  {
   "cell_type": "code",
   "execution_count": 6,
   "metadata": {
    "id": "TWZvG9uNBs6d",
    "outputId": "ae79d759-0b34-4adf-9c90-dc22da9de992"
   },
   "outputs": [
    {
     "data": {
      "text/html": [
       "<div>\n",
       "<style scoped>\n",
       "    .dataframe tbody tr th:only-of-type {\n",
       "        vertical-align: middle;\n",
       "    }\n",
       "\n",
       "    .dataframe tbody tr th {\n",
       "        vertical-align: top;\n",
       "    }\n",
       "\n",
       "    .dataframe thead th {\n",
       "        text-align: right;\n",
       "    }\n",
       "</style>\n",
       "<table border=\"1\" class=\"dataframe\">\n",
       "  <thead>\n",
       "    <tr style=\"text-align: right;\">\n",
       "      <th></th>\n",
       "      <th>Date.of.Birth</th>\n",
       "      <th>year</th>\n",
       "    </tr>\n",
       "  </thead>\n",
       "  <tbody>\n",
       "    <tr>\n",
       "      <th>0</th>\n",
       "      <td>2020-06-01</td>\n",
       "      <td>2020</td>\n",
       "    </tr>\n",
       "    <tr>\n",
       "      <th>1</th>\n",
       "      <td>2020-09-02</td>\n",
       "      <td>2020</td>\n",
       "    </tr>\n",
       "  </tbody>\n",
       "</table>\n",
       "</div>"
      ],
      "text/plain": [
       "  Date.of.Birth  year\n",
       "0    2020-06-01  2020\n",
       "1    2020-09-02  2020"
      ]
     },
     "execution_count": 6,
     "metadata": {},
     "output_type": "execute_result"
    }
   ],
   "source": [
    "data['year'] = data['Date.of.Birth'].dt.year\n",
    "data[['Date.of.Birth','year']].head()"
   ]
  },
  {
   "cell_type": "markdown",
   "metadata": {
    "id": "uXgXiARdBs6l"
   },
   "source": [
    "***Quarter from Date:***"
   ]
  },
  {
   "cell_type": "code",
   "execution_count": 7,
   "metadata": {
    "colab": {
     "base_uri": "https://localhost:8080/",
     "height": 109
    },
    "executionInfo": {
     "elapsed": 1335,
     "status": "ok",
     "timestamp": 1610978469081,
     "user": {
      "displayName": "Maitreya Mohapatra",
      "photoUrl": "https://lh3.googleusercontent.com/a-/AOh14GiuLguxHmwS4RooiSqyiA9HOqQ0gwV5DJxFDF8xlw=s64",
      "userId": "09280851670421352060"
     },
     "user_tz": -330
    },
    "id": "N5kp1y6PBs6m",
    "outputId": "6677dae2-9040-46f3-d35d-abac3f8e1608"
   },
   "outputs": [
    {
     "data": {
      "text/html": [
       "<div>\n",
       "<style scoped>\n",
       "    .dataframe tbody tr th:only-of-type {\n",
       "        vertical-align: middle;\n",
       "    }\n",
       "\n",
       "    .dataframe tbody tr th {\n",
       "        vertical-align: top;\n",
       "    }\n",
       "\n",
       "    .dataframe thead th {\n",
       "        text-align: right;\n",
       "    }\n",
       "</style>\n",
       "<table border=\"1\" class=\"dataframe\">\n",
       "  <thead>\n",
       "    <tr style=\"text-align: right;\">\n",
       "      <th></th>\n",
       "      <th>Date.of.Birth</th>\n",
       "      <th>quarter</th>\n",
       "    </tr>\n",
       "  </thead>\n",
       "  <tbody>\n",
       "    <tr>\n",
       "      <th>0</th>\n",
       "      <td>2020-06-01</td>\n",
       "      <td>2</td>\n",
       "    </tr>\n",
       "    <tr>\n",
       "      <th>1</th>\n",
       "      <td>2020-09-02</td>\n",
       "      <td>3</td>\n",
       "    </tr>\n",
       "  </tbody>\n",
       "</table>\n",
       "</div>"
      ],
      "text/plain": [
       "  Date.of.Birth  quarter\n",
       "0    2020-06-01        2\n",
       "1    2020-09-02        3"
      ]
     },
     "execution_count": 7,
     "metadata": {},
     "output_type": "execute_result"
    }
   ],
   "source": [
    "data['quarter'] = data['Date.of.Birth'].dt.quarter\n",
    "data[['Date.of.Birth','quarter']].head()"
   ]
  },
  {
   "cell_type": "markdown",
   "metadata": {
    "id": "oEeKXv0ZBs6s"
   },
   "source": [
    "***Semester from Date:***"
   ]
  },
  {
   "cell_type": "markdown",
   "metadata": {
    "id": "DzwvLCOeBs6s"
   },
   "source": [
    "We can calculate the semester by applying a simple condition using the ***isin*** function on the quarter variable as follows,\n",
    "\n",
    "- Quarter 1 & 2 as Semester 1, the rest, Quarter 3 & 4 as Semester 2"
   ]
  },
  {
   "cell_type": "code",
   "execution_count": 8,
   "metadata": {
    "id": "WqXjMjMZBs6t",
    "outputId": "e4323cf3-f8e7-42bd-b26b-f9db8d53799e"
   },
   "outputs": [
    {
     "data": {
      "text/html": [
       "<div>\n",
       "<style scoped>\n",
       "    .dataframe tbody tr th:only-of-type {\n",
       "        vertical-align: middle;\n",
       "    }\n",
       "\n",
       "    .dataframe tbody tr th {\n",
       "        vertical-align: top;\n",
       "    }\n",
       "\n",
       "    .dataframe thead th {\n",
       "        text-align: right;\n",
       "    }\n",
       "</style>\n",
       "<table border=\"1\" class=\"dataframe\">\n",
       "  <thead>\n",
       "    <tr style=\"text-align: right;\">\n",
       "      <th></th>\n",
       "      <th>Date.of.Birth</th>\n",
       "      <th>semester</th>\n",
       "    </tr>\n",
       "  </thead>\n",
       "  <tbody>\n",
       "    <tr>\n",
       "      <th>0</th>\n",
       "      <td>2020-06-01</td>\n",
       "      <td>1</td>\n",
       "    </tr>\n",
       "    <tr>\n",
       "      <th>1</th>\n",
       "      <td>2020-09-02</td>\n",
       "      <td>2</td>\n",
       "    </tr>\n",
       "  </tbody>\n",
       "</table>\n",
       "</div>"
      ],
      "text/plain": [
       "  Date.of.Birth  semester\n",
       "0    2020-06-01         1\n",
       "1    2020-09-02         2"
      ]
     },
     "execution_count": 8,
     "metadata": {},
     "output_type": "execute_result"
    }
   ],
   "source": [
    "data['semester'] = np.where(data.quarter.isin([1,2]),1,2)\n",
    "data[['Date.of.Birth','semester']].head()"
   ]
  },
  {
   "cell_type": "markdown",
   "metadata": {
    "id": "mVvI7skyBs6z"
   },
   "source": [
    "***Day of the week from Date:***\n",
    "\n",
    "series.dt.dayofweek attribute returns a numpy array containing the day of the week of the DateTime variable with Monday = 0 & Sunday = 6"
   ]
  },
  {
   "cell_type": "code",
   "execution_count": 9,
   "metadata": {
    "id": "rjkukMqfBs60",
    "outputId": "e1798b53-3b9a-476b-ef5c-ea332783e27c"
   },
   "outputs": [
    {
     "data": {
      "text/html": [
       "<div>\n",
       "<style scoped>\n",
       "    .dataframe tbody tr th:only-of-type {\n",
       "        vertical-align: middle;\n",
       "    }\n",
       "\n",
       "    .dataframe tbody tr th {\n",
       "        vertical-align: top;\n",
       "    }\n",
       "\n",
       "    .dataframe thead th {\n",
       "        text-align: right;\n",
       "    }\n",
       "</style>\n",
       "<table border=\"1\" class=\"dataframe\">\n",
       "  <thead>\n",
       "    <tr style=\"text-align: right;\">\n",
       "      <th></th>\n",
       "      <th>Date.of.Birth</th>\n",
       "      <th>dayofweek</th>\n",
       "    </tr>\n",
       "  </thead>\n",
       "  <tbody>\n",
       "    <tr>\n",
       "      <th>0</th>\n",
       "      <td>2020-06-01</td>\n",
       "      <td>0</td>\n",
       "    </tr>\n",
       "    <tr>\n",
       "      <th>1</th>\n",
       "      <td>2020-09-02</td>\n",
       "      <td>2</td>\n",
       "    </tr>\n",
       "  </tbody>\n",
       "</table>\n",
       "</div>"
      ],
      "text/plain": [
       "  Date.of.Birth  dayofweek\n",
       "0    2020-06-01          0\n",
       "1    2020-09-02          2"
      ]
     },
     "execution_count": 9,
     "metadata": {},
     "output_type": "execute_result"
    }
   ],
   "source": [
    "data['dayofweek'] = data['Date.of.Birth'].dt.dayofweek\n",
    "data[['Date.of.Birth','dayofweek']].head()"
   ]
  },
  {
   "cell_type": "markdown",
   "metadata": {
    "id": "94_dMP_bBs66"
   },
   "source": [
    "Similarly, series.dt.weekday_name attribute returns an array the name of the day in a week."
   ]
  },
  {
   "cell_type": "code",
   "execution_count": 10,
   "metadata": {
    "id": "c4Jcn3LfBs67",
    "outputId": "93ff76cd-d8be-4506-bdcd-0d1d8447905a"
   },
   "outputs": [
    {
     "ename": "AttributeError",
     "evalue": "'DatetimeProperties' object has no attribute 'weekday_name'",
     "output_type": "error",
     "traceback": [
      "\u001b[1;31m---------------------------------------------------------------------------\u001b[0m",
      "\u001b[1;31mAttributeError\u001b[0m                            Traceback (most recent call last)",
      "\u001b[1;32m<ipython-input-10-4c874fc8a8b9>\u001b[0m in \u001b[0;36m<module>\u001b[1;34m\u001b[0m\n\u001b[1;32m----> 1\u001b[1;33m \u001b[0mdata\u001b[0m\u001b[1;33m[\u001b[0m\u001b[1;34m'dayofweek_name'\u001b[0m\u001b[1;33m]\u001b[0m \u001b[1;33m=\u001b[0m \u001b[0mdata\u001b[0m\u001b[1;33m[\u001b[0m\u001b[1;34m'Date.of.Birth'\u001b[0m\u001b[1;33m]\u001b[0m\u001b[1;33m.\u001b[0m\u001b[0mdt\u001b[0m\u001b[1;33m.\u001b[0m\u001b[0mweekday_name\u001b[0m\u001b[1;33m\u001b[0m\u001b[1;33m\u001b[0m\u001b[0m\n\u001b[0m\u001b[0;32m      2\u001b[0m \u001b[0mdata\u001b[0m\u001b[1;33m[\u001b[0m\u001b[1;33m[\u001b[0m\u001b[1;34m'Date.of.Birth'\u001b[0m\u001b[1;33m,\u001b[0m\u001b[1;34m'dayofweek_name'\u001b[0m\u001b[1;33m]\u001b[0m\u001b[1;33m]\u001b[0m\u001b[1;33m.\u001b[0m\u001b[0mhead\u001b[0m\u001b[1;33m(\u001b[0m\u001b[1;33m)\u001b[0m\u001b[1;33m\u001b[0m\u001b[1;33m\u001b[0m\u001b[0m\n",
      "\u001b[1;31mAttributeError\u001b[0m: 'DatetimeProperties' object has no attribute 'weekday_name'"
     ]
    }
   ],
   "source": [
    "data['dayofweek_name'] = data['Date.of.Birth'].dt.weekday_name\n",
    "data[['Date.of.Birth','dayofweek_name']].head()"
   ]
  },
  {
   "cell_type": "markdown",
   "metadata": {
    "id": "KWtmnQvjBs7C"
   },
   "source": [
    "***Whether the day is a weekend or not:***\n",
    "\n",
    "- We can determine whether a day is a weekend or not, by again using a simple ***isin*** function that assigns ‘Saturday’ and ‘Sunday’ to 1 and the rest of the days to 0."
   ]
  },
  {
   "cell_type": "code",
   "execution_count": null,
   "metadata": {
    "id": "TN1Y_nJ3Bs7D",
    "outputId": "826312ac-80ff-481c-d0da-902ad2f66c4e"
   },
   "outputs": [],
   "source": [
    "data['is_weekend'] = np.where(data['dayofweek_name'].isin(['Sunday','Saturday']),1,0)\n",
    "data[['Date.of.Birth','is_weekend']].head()"
   ]
  },
  {
   "cell_type": "markdown",
   "metadata": {
    "id": "rHl63KtMBs7J"
   },
   "source": [
    "***Difference between two dates:***\n",
    "- The datetime.today function returns the current local date. \n",
    "- Therefore in the below example, the current date — date of time will give us that age of the applicant"
   ]
  },
  {
   "cell_type": "code",
   "execution_count": null,
   "metadata": {
    "colab": {
     "base_uri": "https://localhost:8080/"
    },
    "executionInfo": {
     "elapsed": 1207,
     "status": "ok",
     "timestamp": 1610979009456,
     "user": {
      "displayName": "Maitreya Mohapatra",
      "photoUrl": "https://lh3.googleusercontent.com/a-/AOh14GiuLguxHmwS4RooiSqyiA9HOqQ0gwV5DJxFDF8xlw=s64",
      "userId": "09280851670421352060"
     },
     "user_tz": -330
    },
    "id": "_bfDk7kJ0HHS",
    "outputId": "af1749a4-8502-4b57-9c91-fddd72005f46"
   },
   "outputs": [],
   "source": [
    "data.iloc[0, 0] - data.iloc[1, 0]"
   ]
  },
  {
   "cell_type": "code",
   "execution_count": null,
   "metadata": {
    "colab": {
     "base_uri": "https://localhost:8080/",
     "height": 203
    },
    "executionInfo": {
     "elapsed": 1258,
     "status": "error",
     "timestamp": 1610978941998,
     "user": {
      "displayName": "Maitreya Mohapatra",
      "photoUrl": "https://lh3.googleusercontent.com/a-/AOh14GiuLguxHmwS4RooiSqyiA9HOqQ0gwV5DJxFDF8xlw=s64",
      "userId": "09280851670421352060"
     },
     "user_tz": -330
    },
    "id": "nOjmtFnF0Ztg",
    "outputId": "35ba26a8-edf6-4d6f-c84f-1daa8c6c0d61"
   },
   "outputs": [],
   "source": [
    "dt = datetime.datetime(2020, 6, 5)\n",
    "delta = datetime.timedelta(days=5)\n",
    "dt + delta"
   ]
  },
  {
   "cell_type": "code",
   "execution_count": null,
   "metadata": {
    "id": "dMS_a0sYBs7K",
    "outputId": "be48c010-e1c7-4a17-a154-46d55788bde3"
   },
   "outputs": [],
   "source": [
    "(datetime.datetime.today() - data['Date.of.Birth']).head()"
   ]
  },
  {
   "cell_type": "markdown",
   "metadata": {
    "id": "l-mx5NXHBs7P"
   },
   "source": [
    "You can print the current date and time using the now() function. now() function returns the current local date and time."
   ]
  },
  {
   "cell_type": "markdown",
   "metadata": {
    "id": "Z453T1i2Bs7Q"
   },
   "source": [
    "***Constructor Syntax:***\n",
    "\n",
    "- class datetime.datetime(year, month, day, hour=0, minute=0, second=0, microsecond=0, tzinfo=None, *, fold=0)"
   ]
  },
  {
   "cell_type": "code",
   "execution_count": null,
   "metadata": {
    "id": "B5qDD29dBs7R",
    "outputId": "b6d312d8-d78a-471b-fc6e-2db5143372ae"
   },
   "outputs": [],
   "source": [
    "from datetime import datetime \n",
    "  \n",
    "# Calling now() function \n",
    "today = datetime.now() \n",
    "  \n",
    "print(\"Current date and time is\", today)"
   ]
  },
  {
   "cell_type": "code",
   "execution_count": null,
   "metadata": {
    "id": "Blpa9GHa0wEM"
   },
   "outputs": [],
   "source": []
  },
  {
   "cell_type": "markdown",
   "metadata": {
    "id": "72Er2wDlBs7W"
   },
   "source": [
    "Similarly, if the variable had time along with the date, we can calculate the time difference in hours as well.\n",
    "\n",
    "Apart from these, there are other attributes of series.dt method that you can try out,\n",
    "\n",
    "- pandas.series.dt.hour\n",
    "- pandas.series.dt.second\n",
    "- pandas.series.dt.minute\n",
    "- pandas.series.dayofyear\n",
    "- pandas.series.dt.date\n",
    "- pandas.series.dt.time\n",
    "- pandas.series.dt.freq\n",
    "- pandas.series.weekofyear\n",
    "\n",
    "Since no machine learning algorithm would be able to look at a datetime object and automatically infer the above, simple steps like these provides the possibility for insight into a dataset."
   ]
  },
  {
   "cell_type": "markdown",
   "metadata": {
    "id": "4hFL0V4fBs7X"
   },
   "source": [
    "- To get More Details Visit [this](https://stackabuse.com/converting-strings-to-datetime-in-python/)"
   ]
  }
 ],
 "metadata": {
  "colab": {
   "name": "User Guide Python Date -time.ipynb",
   "provenance": []
  },
  "kernelspec": {
   "display_name": "Python 3",
   "language": "python",
   "name": "python3"
  },
  "language_info": {
   "codemirror_mode": {
    "name": "ipython",
    "version": 3
   },
   "file_extension": ".py",
   "mimetype": "text/x-python",
   "name": "python",
   "nbconvert_exporter": "python",
   "pygments_lexer": "ipython3",
   "version": "3.9.5"
  }
 },
 "nbformat": 4,
 "nbformat_minor": 1
}
