{
 "cells": [
  {
   "cell_type": "markdown",
   "id": "04c0297d",
   "metadata": {},
   "source": [
    "# ML Model to Predict the Clear Date of the Costumer"
   ]
  },
  {
   "cell_type": "markdown",
   "id": "4f04fc43",
   "metadata": {},
   "source": [
    "#### Ansukun Gouda   H2HBABBA1533\n"
   ]
  },
  {
   "cell_type": "code",
   "execution_count": 2,
   "id": "37304402",
   "metadata": {},
   "outputs": [],
   "source": [
    "import pandas as pd\n",
    "import numpy as np\n",
    "from sklearn.model_selection import train_test_split\n",
    "import seaborn as sns\n",
    "import matplotlib.pyplot as plt\n",
    "from math import sqrt\n",
    "import warnings\n",
    "warnings.filterwarnings('ignore')\n",
    "from sklearn.feature_selection import VarianceThreshold\n",
    "from sklearn.preprocessing import LabelEncoder\n",
    "from sklearn.linear_model import LinearRegression\n",
    "from xgboost import XGBRegressor\n",
    "from sklearn.ensemble import RandomForestRegressor\n",
    "from sklearn.metrics import mean_squared_error\n",
    "from sklearn.metrics import r2_score"
   ]
  },
  {
   "cell_type": "markdown",
   "id": "8a9cad68",
   "metadata": {},
   "source": [
    "#### Loading Datasets"
   ]
  },
  {
   "cell_type": "code",
   "execution_count": 3,
   "id": "c420ddc1",
   "metadata": {},
   "outputs": [],
   "source": [
    "#data set is loaded which is in csv format\n",
    "data = pd.read_csv('H2HBABBA1533.csv')"
   ]
  },
  {
   "cell_type": "code",
   "execution_count": 4,
   "id": "14a91b24",
   "metadata": {},
   "outputs": [
    {
     "data": {
      "text/html": [
       "<div>\n",
       "<style scoped>\n",
       "    .dataframe tbody tr th:only-of-type {\n",
       "        vertical-align: middle;\n",
       "    }\n",
       "\n",
       "    .dataframe tbody tr th {\n",
       "        vertical-align: top;\n",
       "    }\n",
       "\n",
       "    .dataframe thead th {\n",
       "        text-align: right;\n",
       "    }\n",
       "</style>\n",
       "<table border=\"1\" class=\"dataframe\">\n",
       "  <thead>\n",
       "    <tr style=\"text-align: right;\">\n",
       "      <th></th>\n",
       "      <th>business_code</th>\n",
       "      <th>cust_number</th>\n",
       "      <th>name_customer</th>\n",
       "      <th>clear_date</th>\n",
       "      <th>buisness_year</th>\n",
       "      <th>doc_id</th>\n",
       "      <th>posting_date</th>\n",
       "      <th>document_create_date</th>\n",
       "      <th>document_create_date.1</th>\n",
       "      <th>due_in_date</th>\n",
       "      <th>invoice_currency</th>\n",
       "      <th>document type</th>\n",
       "      <th>posting_id</th>\n",
       "      <th>area_business</th>\n",
       "      <th>total_open_amount</th>\n",
       "      <th>baseline_create_date</th>\n",
       "      <th>cust_payment_terms</th>\n",
       "      <th>invoice_id</th>\n",
       "      <th>isOpen</th>\n",
       "    </tr>\n",
       "  </thead>\n",
       "  <tbody>\n",
       "    <tr>\n",
       "      <th>0</th>\n",
       "      <td>U001</td>\n",
       "      <td>0200895843</td>\n",
       "      <td>US</td>\n",
       "      <td>2019-09-09 00:00:00</td>\n",
       "      <td>2019.0</td>\n",
       "      <td>1.929776e+09</td>\n",
       "      <td>2019-08-22</td>\n",
       "      <td>20190822</td>\n",
       "      <td>20190822</td>\n",
       "      <td>20190906.0</td>\n",
       "      <td>USD</td>\n",
       "      <td>RV</td>\n",
       "      <td>1.0</td>\n",
       "      <td>NaN</td>\n",
       "      <td>41386.61</td>\n",
       "      <td>20190822.0</td>\n",
       "      <td>NAA8</td>\n",
       "      <td>1.929776e+09</td>\n",
       "      <td>0</td>\n",
       "    </tr>\n",
       "    <tr>\n",
       "      <th>1</th>\n",
       "      <td>U001</td>\n",
       "      <td>0200769623</td>\n",
       "      <td>WAL-MAR</td>\n",
       "      <td>2019-11-25 00:00:00</td>\n",
       "      <td>2019.0</td>\n",
       "      <td>1.930144e+09</td>\n",
       "      <td>2019-11-12</td>\n",
       "      <td>20191112</td>\n",
       "      <td>20191112</td>\n",
       "      <td>20191127.0</td>\n",
       "      <td>USD</td>\n",
       "      <td>RV</td>\n",
       "      <td>1.0</td>\n",
       "      <td>NaN</td>\n",
       "      <td>47178.82</td>\n",
       "      <td>20191112.0</td>\n",
       "      <td>NAH4</td>\n",
       "      <td>1.930144e+09</td>\n",
       "      <td>0</td>\n",
       "    </tr>\n",
       "    <tr>\n",
       "      <th>2</th>\n",
       "      <td>U001</td>\n",
       "      <td>0200769623</td>\n",
       "      <td>WAL-MAR foundation</td>\n",
       "      <td>2019-04-23 00:00:00</td>\n",
       "      <td>2019.0</td>\n",
       "      <td>1.929131e+09</td>\n",
       "      <td>2019-04-12</td>\n",
       "      <td>20190411</td>\n",
       "      <td>20190412</td>\n",
       "      <td>20190427.0</td>\n",
       "      <td>USD</td>\n",
       "      <td>RV</td>\n",
       "      <td>1.0</td>\n",
       "      <td>NaN</td>\n",
       "      <td>51389.52</td>\n",
       "      <td>20190412.0</td>\n",
       "      <td>NAH4</td>\n",
       "      <td>1.929131e+09</td>\n",
       "      <td>0</td>\n",
       "    </tr>\n",
       "    <tr>\n",
       "      <th>3</th>\n",
       "      <td>U001</td>\n",
       "      <td>0200769623</td>\n",
       "      <td>WAL-MAR co</td>\n",
       "      <td>2019-11-26 00:00:00</td>\n",
       "      <td>2019.0</td>\n",
       "      <td>1.930124e+09</td>\n",
       "      <td>2019-11-15</td>\n",
       "      <td>20191107</td>\n",
       "      <td>20191115</td>\n",
       "      <td>20191130.0</td>\n",
       "      <td>USD</td>\n",
       "      <td>RV</td>\n",
       "      <td>1.0</td>\n",
       "      <td>NaN</td>\n",
       "      <td>18177.18</td>\n",
       "      <td>20191115.0</td>\n",
       "      <td>NAH4</td>\n",
       "      <td>1.930124e+09</td>\n",
       "      <td>0</td>\n",
       "    </tr>\n",
       "    <tr>\n",
       "      <th>4</th>\n",
       "      <td>U001</td>\n",
       "      <td>0200769623</td>\n",
       "      <td>WAL-MAR</td>\n",
       "      <td>NaN</td>\n",
       "      <td>2020.0</td>\n",
       "      <td>1.930737e+09</td>\n",
       "      <td>2020-04-03</td>\n",
       "      <td>20200403</td>\n",
       "      <td>20200403</td>\n",
       "      <td>20200418.0</td>\n",
       "      <td>USD</td>\n",
       "      <td>RV</td>\n",
       "      <td>1.0</td>\n",
       "      <td>NaN</td>\n",
       "      <td>24079.57</td>\n",
       "      <td>20200403.0</td>\n",
       "      <td>NAH4</td>\n",
       "      <td>1.930737e+09</td>\n",
       "      <td>1</td>\n",
       "    </tr>\n",
       "  </tbody>\n",
       "</table>\n",
       "</div>"
      ],
      "text/plain": [
       "  business_code cust_number       name_customer           clear_date  \\\n",
       "0          U001  0200895843                US    2019-09-09 00:00:00   \n",
       "1          U001  0200769623            WAL-MAR   2019-11-25 00:00:00   \n",
       "2          U001  0200769623  WAL-MAR foundation  2019-04-23 00:00:00   \n",
       "3          U001  0200769623          WAL-MAR co  2019-11-26 00:00:00   \n",
       "4          U001  0200769623            WAL-MAR                   NaN   \n",
       "\n",
       "   buisness_year        doc_id posting_date  document_create_date  \\\n",
       "0         2019.0  1.929776e+09   2019-08-22              20190822   \n",
       "1         2019.0  1.930144e+09   2019-11-12              20191112   \n",
       "2         2019.0  1.929131e+09   2019-04-12              20190411   \n",
       "3         2019.0  1.930124e+09   2019-11-15              20191107   \n",
       "4         2020.0  1.930737e+09   2020-04-03              20200403   \n",
       "\n",
       "   document_create_date.1  due_in_date invoice_currency document type  \\\n",
       "0                20190822   20190906.0              USD            RV   \n",
       "1                20191112   20191127.0              USD            RV   \n",
       "2                20190412   20190427.0              USD            RV   \n",
       "3                20191115   20191130.0              USD            RV   \n",
       "4                20200403   20200418.0              USD            RV   \n",
       "\n",
       "   posting_id  area_business  total_open_amount  baseline_create_date  \\\n",
       "0         1.0            NaN           41386.61            20190822.0   \n",
       "1         1.0            NaN           47178.82            20191112.0   \n",
       "2         1.0            NaN           51389.52            20190412.0   \n",
       "3         1.0            NaN           18177.18            20191115.0   \n",
       "4         1.0            NaN           24079.57            20200403.0   \n",
       "\n",
       "  cust_payment_terms    invoice_id  isOpen  \n",
       "0               NAA8  1.929776e+09       0  \n",
       "1               NAH4  1.930144e+09       0  \n",
       "2               NAH4  1.929131e+09       0  \n",
       "3               NAH4  1.930124e+09       0  \n",
       "4               NAH4  1.930737e+09       1  "
      ]
     },
     "execution_count": 4,
     "metadata": {},
     "output_type": "execute_result"
    }
   ],
   "source": [
    "data.head()"
   ]
  },
  {
   "cell_type": "code",
   "execution_count": 5,
   "id": "44f1fb3a",
   "metadata": {},
   "outputs": [],
   "source": [
    "#before preprocessign we need to train part so that we can predict and put in that datasets\n",
    "Temp2 = data.loc[data.clear_date.isnull()]"
   ]
  },
  {
   "cell_type": "code",
   "execution_count": 6,
   "id": "6ad0df3e",
   "metadata": {},
   "outputs": [
    {
     "data": {
      "text/plain": [
       "(50000, 19)"
      ]
     },
     "execution_count": 6,
     "metadata": {},
     "output_type": "execute_result"
    }
   ],
   "source": [
    "data.shape"
   ]
  },
  {
   "cell_type": "markdown",
   "id": "c2ee4f2b",
   "metadata": {},
   "source": [
    "# Data Preprocessing"
   ]
  },
  {
   "cell_type": "code",
   "execution_count": 7,
   "id": "62cc6767",
   "metadata": {},
   "outputs": [
    {
     "data": {
      "text/plain": [
       "business_code                 0\n",
       "cust_number                   0\n",
       "name_customer                 0\n",
       "clear_date                10000\n",
       "buisness_year                 0\n",
       "doc_id                        0\n",
       "posting_date                  0\n",
       "document_create_date          0\n",
       "document_create_date.1        0\n",
       "due_in_date                   0\n",
       "invoice_currency              0\n",
       "document type                 0\n",
       "posting_id                    0\n",
       "area_business             50000\n",
       "total_open_amount             0\n",
       "baseline_create_date          0\n",
       "cust_payment_terms            0\n",
       "invoice_id                    4\n",
       "isOpen                        0\n",
       "dtype: int64"
      ]
     },
     "execution_count": 7,
     "metadata": {},
     "output_type": "execute_result"
    }
   ],
   "source": [
    "#check for null values\n",
    "data.isnull().sum()"
   ]
  },
  {
   "cell_type": "code",
   "execution_count": 8,
   "id": "53b78ddc",
   "metadata": {},
   "outputs": [],
   "source": [
    "#since  area_business all  the values are null so drop it\n",
    "data.drop('area_business',axis = 1,inplace =True)"
   ]
  },
  {
   "cell_type": "code",
   "execution_count": 9,
   "id": "811eaa95",
   "metadata": {},
   "outputs": [
    {
     "data": {
      "text/plain": [
       "Index(['posting_id'], dtype='object')"
      ]
     },
     "execution_count": 9,
     "metadata": {},
     "output_type": "execute_result"
    }
   ],
   "source": [
    "#check for the conntant features\n",
    "data.columns[data.nunique()<=1]"
   ]
  },
  {
   "cell_type": "code",
   "execution_count": 10,
   "id": "9705399d",
   "metadata": {},
   "outputs": [],
   "source": [
    "#drop posting_id as it is a constant features\n",
    "data.drop('posting_id',axis = 1,inplace =True)"
   ]
  },
  {
   "cell_type": "code",
   "execution_count": 11,
   "id": "5def4ab9",
   "metadata": {},
   "outputs": [
    {
     "data": {
      "text/plain": [
       "1.929807e+09    3\n",
       "1.928856e+09    3\n",
       "1.929868e+09    3\n",
       "1.929196e+09    3\n",
       "1.930828e+09    3\n",
       "               ..\n",
       "1.930549e+09    1\n",
       "1.930214e+09    1\n",
       "1.928826e+09    1\n",
       "1.929491e+09    1\n",
       "1.928814e+09    1\n",
       "Name: doc_id, Length: 48788, dtype: int64"
      ]
     },
     "execution_count": 11,
     "metadata": {},
     "output_type": "execute_result"
    }
   ],
   "source": [
    "data['doc_id'].value_counts()"
   ]
  },
  {
   "cell_type": "code",
   "execution_count": 12,
   "id": "1fd103f7",
   "metadata": {},
   "outputs": [],
   "source": [
    "#since it is also getting almost constant do we can drop it \n",
    "data.drop('doc_id',axis = 1,inplace =True)"
   ]
  },
  {
   "cell_type": "code",
   "execution_count": 13,
   "id": "40ee7a72",
   "metadata": {},
   "outputs": [],
   "source": [
    "#since it is also getting almost unique do we can drop it  as we dont't need ids for training models\n",
    "data.drop('invoice_id',axis = 1,inplace =True)"
   ]
  },
  {
   "cell_type": "code",
   "execution_count": 14,
   "id": "309642db",
   "metadata": {},
   "outputs": [
    {
     "data": {
      "text/plain": [
       "buisness_year             float64\n",
       "document_create_date        int64\n",
       "document_create_date.1      int64\n",
       "due_in_date               float64\n",
       "total_open_amount         float64\n",
       "baseline_create_date      float64\n",
       "isOpen                      int64\n",
       "dtype: object"
      ]
     },
     "execution_count": 14,
     "metadata": {},
     "output_type": "execute_result"
    }
   ],
   "source": [
    "#creating a temp dataset to check for qausi-constants\n",
    "# a new list in created discarding the object datatype feature columns\n",
    "temp_data = data.drop(labels=['cust_number','business_code','name_customer','clear_date','posting_date','invoice_currency','document type','cust_payment_terms'], axis=1)\n",
    "temp_data.dtypes"
   ]
  },
  {
   "cell_type": "code",
   "execution_count": 15,
   "id": "924f240c",
   "metadata": {},
   "outputs": [
    {
     "data": {
      "text/plain": [
       "7"
      ]
     },
     "execution_count": 15,
     "metadata": {},
     "output_type": "execute_result"
    }
   ],
   "source": [
    "#checking for quasi-constant \n",
    "s = VarianceThreshold(\n",
    "    threshold=0.01)\n",
    "\n",
    "s.fit(temp_data)\n",
    "sum(s.get_support())"
   ]
  },
  {
   "cell_type": "code",
   "execution_count": 16,
   "id": "abfa13f2",
   "metadata": {},
   "outputs": [
    {
     "name": "stdout",
     "output_type": "stream",
     "text": [
      "0\n"
     ]
    },
    {
     "data": {
      "text/plain": [
       "[]"
      ]
     },
     "execution_count": 16,
     "metadata": {},
     "output_type": "execute_result"
    }
   ],
   "source": [
    "#  print the quasi-constant features if Any \n",
    "print(\n",
    "    len([\n",
    "        x for x in temp_data.columns\n",
    "        if x not in temp_data.columns[s.get_support()]\n",
    "    ]))\n",
    "\n",
    "[x for x in temp_data.columns if x not in temp_data.columns[s.get_support()]]"
   ]
  },
  {
   "cell_type": "code",
   "execution_count": 17,
   "id": "666bf53c",
   "metadata": {},
   "outputs": [],
   "source": [
    "#check for the duplicates doing transpose\n",
    "data_trans = data.T"
   ]
  },
  {
   "cell_type": "code",
   "execution_count": 18,
   "id": "db4d94da",
   "metadata": {},
   "outputs": [
    {
     "data": {
      "text/plain": [
       "0"
      ]
     },
     "execution_count": 18,
     "metadata": {},
     "output_type": "execute_result"
    }
   ],
   "source": [
    "data_trans.duplicated().sum()"
   ]
  },
  {
   "cell_type": "code",
   "execution_count": 19,
   "id": "9f9549f9",
   "metadata": {},
   "outputs": [
    {
     "data": {
      "text/plain": [
       "<AxesSubplot:>"
      ]
     },
     "execution_count": 19,
     "metadata": {},
     "output_type": "execute_result"
    },
    {
     "data": {
      "image/png": "[encoded data removed]",
      "text/plain": [
       "<Figure size 432x288 with 2 Axes>"
      ]
     },
     "metadata": {
      "needs_background": "light"
     },
     "output_type": "display_data"
    }
   ],
   "source": [
    "cor = data.corr()\n",
    "sns.heatmap(cor, xticklabels=cor.columns, yticklabels=cor.columns, annot=True)"
   ]
  },
  {
   "cell_type": "code",
   "execution_count": 20,
   "id": "f97025b7",
   "metadata": {},
   "outputs": [
    {
     "data": {
      "text/plain": [
       "business_code              object\n",
       "cust_number                object\n",
       "name_customer              object\n",
       "clear_date                 object\n",
       "buisness_year             float64\n",
       "posting_date               object\n",
       "document_create_date        int64\n",
       "document_create_date.1      int64\n",
       "due_in_date               float64\n",
       "invoice_currency           object\n",
       "document type              object\n",
       "total_open_amount         float64\n",
       "baseline_create_date      float64\n",
       "cust_payment_terms         object\n",
       "isOpen                      int64\n",
       "dtype: object"
      ]
     },
     "execution_count": 20,
     "metadata": {},
     "output_type": "execute_result"
    }
   ],
   "source": [
    "data.dtypes"
   ]
  },
  {
   "cell_type": "code",
   "execution_count": 21,
   "id": "edb305a3",
   "metadata": {},
   "outputs": [
    {
     "data": {
      "text/html": [
       "<div>\n",
       "<style scoped>\n",
       "    .dataframe tbody tr th:only-of-type {\n",
       "        vertical-align: middle;\n",
       "    }\n",
       "\n",
       "    .dataframe tbody tr th {\n",
       "        vertical-align: top;\n",
       "    }\n",
       "\n",
       "    .dataframe thead th {\n",
       "        text-align: right;\n",
       "    }\n",
       "</style>\n",
       "<table border=\"1\" class=\"dataframe\">\n",
       "  <thead>\n",
       "    <tr style=\"text-align: right;\">\n",
       "      <th></th>\n",
       "      <th>business_code</th>\n",
       "      <th>cust_number</th>\n",
       "      <th>name_customer</th>\n",
       "      <th>clear_date</th>\n",
       "      <th>buisness_year</th>\n",
       "      <th>posting_date</th>\n",
       "      <th>document_create_date</th>\n",
       "      <th>document_create_date.1</th>\n",
       "      <th>due_in_date</th>\n",
       "      <th>invoice_currency</th>\n",
       "      <th>document type</th>\n",
       "      <th>total_open_amount</th>\n",
       "      <th>baseline_create_date</th>\n",
       "      <th>cust_payment_terms</th>\n",
       "      <th>isOpen</th>\n",
       "    </tr>\n",
       "  </thead>\n",
       "  <tbody>\n",
       "    <tr>\n",
       "      <th>25</th>\n",
       "      <td>CA02</td>\n",
       "      <td>0140104409</td>\n",
       "      <td>LOB trust</td>\n",
       "      <td>NaN</td>\n",
       "      <td>2020.0</td>\n",
       "      <td>2020-02-29</td>\n",
       "      <td>20200229</td>\n",
       "      <td>20200229</td>\n",
       "      <td>20200314.0</td>\n",
       "      <td>CAD</td>\n",
       "      <td>RV</td>\n",
       "      <td>150136.21</td>\n",
       "      <td>20200304.0</td>\n",
       "      <td>CA10</td>\n",
       "      <td>1</td>\n",
       "    </tr>\n",
       "    <tr>\n",
       "      <th>36</th>\n",
       "      <td>CA02</td>\n",
       "      <td>0140104429</td>\n",
       "      <td>COSTCO co</td>\n",
       "      <td>2019-07-02 00:00:00</td>\n",
       "      <td>2019.0</td>\n",
       "      <td>2019-06-05</td>\n",
       "      <td>20190605</td>\n",
       "      <td>20190605</td>\n",
       "      <td>20190624.0</td>\n",
       "      <td>CAD</td>\n",
       "      <td>RV</td>\n",
       "      <td>15993.34</td>\n",
       "      <td>20190614.0</td>\n",
       "      <td>CA10</td>\n",
       "      <td>0</td>\n",
       "    </tr>\n",
       "    <tr>\n",
       "      <th>37</th>\n",
       "      <td>CA02</td>\n",
       "      <td>0140106408</td>\n",
       "      <td>WAL-M foundation</td>\n",
       "      <td>NaN</td>\n",
       "      <td>2020.0</td>\n",
       "      <td>2020-03-21</td>\n",
       "      <td>20200321</td>\n",
       "      <td>20200321</td>\n",
       "      <td>20200331.0</td>\n",
       "      <td>CAD</td>\n",
       "      <td>RV</td>\n",
       "      <td>4878.02</td>\n",
       "      <td>20200321.0</td>\n",
       "      <td>CA10</td>\n",
       "      <td>1</td>\n",
       "    </tr>\n",
       "    <tr>\n",
       "      <th>43</th>\n",
       "      <td>CA02</td>\n",
       "      <td>0140104423</td>\n",
       "      <td>METRO  llc</td>\n",
       "      <td>NaN</td>\n",
       "      <td>2020.0</td>\n",
       "      <td>2020-04-20</td>\n",
       "      <td>20200420</td>\n",
       "      <td>20200420</td>\n",
       "      <td>20200501.0</td>\n",
       "      <td>CAD</td>\n",
       "      <td>RV</td>\n",
       "      <td>162295.09</td>\n",
       "      <td>20200421.0</td>\n",
       "      <td>CA10</td>\n",
       "      <td>1</td>\n",
       "    </tr>\n",
       "    <tr>\n",
       "      <th>60</th>\n",
       "      <td>CA02</td>\n",
       "      <td>0140104429</td>\n",
       "      <td>COSTCO systems</td>\n",
       "      <td>NaN</td>\n",
       "      <td>2020.0</td>\n",
       "      <td>2020-02-27</td>\n",
       "      <td>20200227</td>\n",
       "      <td>20200227</td>\n",
       "      <td>20200309.0</td>\n",
       "      <td>CAD</td>\n",
       "      <td>RV</td>\n",
       "      <td>12383.81</td>\n",
       "      <td>20200228.0</td>\n",
       "      <td>CA10</td>\n",
       "      <td>1</td>\n",
       "    </tr>\n",
       "  </tbody>\n",
       "</table>\n",
       "</div>"
      ],
      "text/plain": [
       "   business_code cust_number     name_customer           clear_date  \\\n",
       "25          CA02  0140104409         LOB trust                  NaN   \n",
       "36          CA02  0140104429         COSTCO co  2019-07-02 00:00:00   \n",
       "37          CA02  0140106408  WAL-M foundation                  NaN   \n",
       "43          CA02  0140104423        METRO  llc                  NaN   \n",
       "60          CA02  0140104429    COSTCO systems                  NaN   \n",
       "\n",
       "    buisness_year posting_date  document_create_date  document_create_date.1  \\\n",
       "25         2020.0   2020-02-29              20200229                20200229   \n",
       "36         2019.0   2019-06-05              20190605                20190605   \n",
       "37         2020.0   2020-03-21              20200321                20200321   \n",
       "43         2020.0   2020-04-20              20200420                20200420   \n",
       "60         2020.0   2020-02-27              20200227                20200227   \n",
       "\n",
       "    due_in_date invoice_currency document type  total_open_amount  \\\n",
       "25   20200314.0              CAD            RV          150136.21   \n",
       "36   20190624.0              CAD            RV           15993.34   \n",
       "37   20200331.0              CAD            RV            4878.02   \n",
       "43   20200501.0              CAD            RV          162295.09   \n",
       "60   20200309.0              CAD            RV           12383.81   \n",
       "\n",
       "    baseline_create_date cust_payment_terms  isOpen  \n",
       "25            20200304.0               CA10       1  \n",
       "36            20190614.0               CA10       0  \n",
       "37            20200321.0               CA10       1  \n",
       "43            20200421.0               CA10       1  \n",
       "60            20200228.0               CA10       1  "
      ]
     },
     "execution_count": 21,
     "metadata": {},
     "output_type": "execute_result"
    }
   ],
   "source": [
    "data[data['invoice_currency'] == 'CAD'].head()"
   ]
  },
  {
   "cell_type": "code",
   "execution_count": 22,
   "id": "a2ff14b4",
   "metadata": {},
   "outputs": [],
   "source": [
    "#All the amounts which are in CAD currency are converted into USD currency format\n",
    "data['total_open_amount'] = np.where((data['invoice_currency'] == 'CAD') ,((data['total_open_amount'])*0.81),(data['total_open_amount']))"
   ]
  },
  {
   "cell_type": "code",
   "execution_count": 23,
   "id": "f872a0f6",
   "metadata": {},
   "outputs": [
    {
     "data": {
      "text/html": [
       "<div>\n",
       "<style scoped>\n",
       "    .dataframe tbody tr th:only-of-type {\n",
       "        vertical-align: middle;\n",
       "    }\n",
       "\n",
       "    .dataframe tbody tr th {\n",
       "        vertical-align: top;\n",
       "    }\n",
       "\n",
       "    .dataframe thead th {\n",
       "        text-align: right;\n",
       "    }\n",
       "</style>\n",
       "<table border=\"1\" class=\"dataframe\">\n",
       "  <thead>\n",
       "    <tr style=\"text-align: right;\">\n",
       "      <th></th>\n",
       "      <th>business_code</th>\n",
       "      <th>cust_number</th>\n",
       "      <th>name_customer</th>\n",
       "      <th>clear_date</th>\n",
       "      <th>buisness_year</th>\n",
       "      <th>posting_date</th>\n",
       "      <th>document_create_date</th>\n",
       "      <th>document_create_date.1</th>\n",
       "      <th>due_in_date</th>\n",
       "      <th>invoice_currency</th>\n",
       "      <th>document type</th>\n",
       "      <th>total_open_amount</th>\n",
       "      <th>baseline_create_date</th>\n",
       "      <th>cust_payment_terms</th>\n",
       "      <th>isOpen</th>\n",
       "    </tr>\n",
       "  </thead>\n",
       "  <tbody>\n",
       "    <tr>\n",
       "      <th>0</th>\n",
       "      <td>U001</td>\n",
       "      <td>0200895843</td>\n",
       "      <td>US</td>\n",
       "      <td>2019-09-09 00:00:00</td>\n",
       "      <td>2019.0</td>\n",
       "      <td>2019-08-22</td>\n",
       "      <td>20190822</td>\n",
       "      <td>20190822</td>\n",
       "      <td>20190906.0</td>\n",
       "      <td>USD</td>\n",
       "      <td>RV</td>\n",
       "      <td>41386.61</td>\n",
       "      <td>20190822.0</td>\n",
       "      <td>NAA8</td>\n",
       "      <td>0</td>\n",
       "    </tr>\n",
       "    <tr>\n",
       "      <th>1</th>\n",
       "      <td>U001</td>\n",
       "      <td>0200769623</td>\n",
       "      <td>WAL-MAR</td>\n",
       "      <td>2019-11-25 00:00:00</td>\n",
       "      <td>2019.0</td>\n",
       "      <td>2019-11-12</td>\n",
       "      <td>20191112</td>\n",
       "      <td>20191112</td>\n",
       "      <td>20191127.0</td>\n",
       "      <td>USD</td>\n",
       "      <td>RV</td>\n",
       "      <td>47178.82</td>\n",
       "      <td>20191112.0</td>\n",
       "      <td>NAH4</td>\n",
       "      <td>0</td>\n",
       "    </tr>\n",
       "    <tr>\n",
       "      <th>2</th>\n",
       "      <td>U001</td>\n",
       "      <td>0200769623</td>\n",
       "      <td>WAL-MAR foundation</td>\n",
       "      <td>2019-04-23 00:00:00</td>\n",
       "      <td>2019.0</td>\n",
       "      <td>2019-04-12</td>\n",
       "      <td>20190411</td>\n",
       "      <td>20190412</td>\n",
       "      <td>20190427.0</td>\n",
       "      <td>USD</td>\n",
       "      <td>RV</td>\n",
       "      <td>51389.52</td>\n",
       "      <td>20190412.0</td>\n",
       "      <td>NAH4</td>\n",
       "      <td>0</td>\n",
       "    </tr>\n",
       "    <tr>\n",
       "      <th>3</th>\n",
       "      <td>U001</td>\n",
       "      <td>0200769623</td>\n",
       "      <td>WAL-MAR co</td>\n",
       "      <td>2019-11-26 00:00:00</td>\n",
       "      <td>2019.0</td>\n",
       "      <td>2019-11-15</td>\n",
       "      <td>20191107</td>\n",
       "      <td>20191115</td>\n",
       "      <td>20191130.0</td>\n",
       "      <td>USD</td>\n",
       "      <td>RV</td>\n",
       "      <td>18177.18</td>\n",
       "      <td>20191115.0</td>\n",
       "      <td>NAH4</td>\n",
       "      <td>0</td>\n",
       "    </tr>\n",
       "    <tr>\n",
       "      <th>4</th>\n",
       "      <td>U001</td>\n",
       "      <td>0200769623</td>\n",
       "      <td>WAL-MAR</td>\n",
       "      <td>NaN</td>\n",
       "      <td>2020.0</td>\n",
       "      <td>2020-04-03</td>\n",
       "      <td>20200403</td>\n",
       "      <td>20200403</td>\n",
       "      <td>20200418.0</td>\n",
       "      <td>USD</td>\n",
       "      <td>RV</td>\n",
       "      <td>24079.57</td>\n",
       "      <td>20200403.0</td>\n",
       "      <td>NAH4</td>\n",
       "      <td>1</td>\n",
       "    </tr>\n",
       "  </tbody>\n",
       "</table>\n",
       "</div>"
      ],
      "text/plain": [
       "  business_code cust_number       name_customer           clear_date  \\\n",
       "0          U001  0200895843                US    2019-09-09 00:00:00   \n",
       "1          U001  0200769623            WAL-MAR   2019-11-25 00:00:00   \n",
       "2          U001  0200769623  WAL-MAR foundation  2019-04-23 00:00:00   \n",
       "3          U001  0200769623          WAL-MAR co  2019-11-26 00:00:00   \n",
       "4          U001  0200769623            WAL-MAR                   NaN   \n",
       "\n",
       "   buisness_year posting_date  document_create_date  document_create_date.1  \\\n",
       "0         2019.0   2019-08-22              20190822                20190822   \n",
       "1         2019.0   2019-11-12              20191112                20191112   \n",
       "2         2019.0   2019-04-12              20190411                20190412   \n",
       "3         2019.0   2019-11-15              20191107                20191115   \n",
       "4         2020.0   2020-04-03              20200403                20200403   \n",
       "\n",
       "   due_in_date invoice_currency document type  total_open_amount  \\\n",
       "0   20190906.0              USD            RV           41386.61   \n",
       "1   20191127.0              USD            RV           47178.82   \n",
       "2   20190427.0              USD            RV           51389.52   \n",
       "3   20191130.0              USD            RV           18177.18   \n",
       "4   20200418.0              USD            RV           24079.57   \n",
       "\n",
       "   baseline_create_date cust_payment_terms  isOpen  \n",
       "0            20190822.0               NAA8       0  \n",
       "1            20191112.0               NAH4       0  \n",
       "2            20190412.0               NAH4       0  \n",
       "3            20191115.0               NAH4       0  \n",
       "4            20200403.0               NAH4       1  "
      ]
     },
     "execution_count": 23,
     "metadata": {},
     "output_type": "execute_result"
    }
   ],
   "source": [
    "# All the CAD is converted to USD\n",
    "data['invoice_currency'] = 'USD'\n",
    "data.head()"
   ]
  },
  {
   "cell_type": "code",
   "execution_count": 24,
   "id": "002fc358",
   "metadata": {},
   "outputs": [
    {
     "data": {
      "text/plain": [
       "array(['USD'], dtype=object)"
      ]
     },
     "execution_count": 24,
     "metadata": {},
     "output_type": "execute_result"
    }
   ],
   "source": [
    "data['invoice_currency'].unique()"
   ]
  },
  {
   "cell_type": "code",
   "execution_count": 25,
   "id": "c899920a",
   "metadata": {},
   "outputs": [],
   "source": [
    "#since the invoice_currency becomes a constant so it is of no use thus dropped\n",
    "data.drop(columns=['invoice_currency'],inplace=True)"
   ]
  },
  {
   "cell_type": "code",
   "execution_count": 26,
   "id": "7492e150",
   "metadata": {},
   "outputs": [
    {
     "data": {
      "text/html": [
       "<div>\n",
       "<style scoped>\n",
       "    .dataframe tbody tr th:only-of-type {\n",
       "        vertical-align: middle;\n",
       "    }\n",
       "\n",
       "    .dataframe tbody tr th {\n",
       "        vertical-align: top;\n",
       "    }\n",
       "\n",
       "    .dataframe thead th {\n",
       "        text-align: right;\n",
       "    }\n",
       "</style>\n",
       "<table border=\"1\" class=\"dataframe\">\n",
       "  <thead>\n",
       "    <tr style=\"text-align: right;\">\n",
       "      <th></th>\n",
       "      <th>business_code</th>\n",
       "      <th>cust_number</th>\n",
       "      <th>name_customer</th>\n",
       "      <th>clear_date</th>\n",
       "      <th>buisness_year</th>\n",
       "      <th>posting_date</th>\n",
       "      <th>document_create_date</th>\n",
       "      <th>document_create_date.1</th>\n",
       "      <th>due_in_date</th>\n",
       "      <th>document type</th>\n",
       "      <th>total_open_amount</th>\n",
       "      <th>baseline_create_date</th>\n",
       "      <th>cust_payment_terms</th>\n",
       "      <th>isOpen</th>\n",
       "    </tr>\n",
       "  </thead>\n",
       "  <tbody>\n",
       "    <tr>\n",
       "      <th>0</th>\n",
       "      <td>U001</td>\n",
       "      <td>0200895843</td>\n",
       "      <td>US</td>\n",
       "      <td>2019-09-09</td>\n",
       "      <td>2019</td>\n",
       "      <td>2019-08-22</td>\n",
       "      <td>20190822</td>\n",
       "      <td>2019-08-22</td>\n",
       "      <td>2019-09-06</td>\n",
       "      <td>RV</td>\n",
       "      <td>41386.61</td>\n",
       "      <td>2019-09-06</td>\n",
       "      <td>NAA8</td>\n",
       "      <td>0</td>\n",
       "    </tr>\n",
       "    <tr>\n",
       "      <th>1</th>\n",
       "      <td>U001</td>\n",
       "      <td>0200769623</td>\n",
       "      <td>WAL-MAR</td>\n",
       "      <td>2019-11-25</td>\n",
       "      <td>2019</td>\n",
       "      <td>2019-11-12</td>\n",
       "      <td>20191112</td>\n",
       "      <td>2019-11-12</td>\n",
       "      <td>2019-11-27</td>\n",
       "      <td>RV</td>\n",
       "      <td>47178.82</td>\n",
       "      <td>2019-11-27</td>\n",
       "      <td>NAH4</td>\n",
       "      <td>0</td>\n",
       "    </tr>\n",
       "    <tr>\n",
       "      <th>2</th>\n",
       "      <td>U001</td>\n",
       "      <td>0200769623</td>\n",
       "      <td>WAL-MAR foundation</td>\n",
       "      <td>2019-04-23</td>\n",
       "      <td>2019</td>\n",
       "      <td>2019-04-12</td>\n",
       "      <td>20190411</td>\n",
       "      <td>2019-04-12</td>\n",
       "      <td>2019-04-27</td>\n",
       "      <td>RV</td>\n",
       "      <td>51389.52</td>\n",
       "      <td>2019-04-27</td>\n",
       "      <td>NAH4</td>\n",
       "      <td>0</td>\n",
       "    </tr>\n",
       "    <tr>\n",
       "      <th>3</th>\n",
       "      <td>U001</td>\n",
       "      <td>0200769623</td>\n",
       "      <td>WAL-MAR co</td>\n",
       "      <td>2019-11-26</td>\n",
       "      <td>2019</td>\n",
       "      <td>2019-11-15</td>\n",
       "      <td>20191107</td>\n",
       "      <td>2019-11-15</td>\n",
       "      <td>2019-11-30</td>\n",
       "      <td>RV</td>\n",
       "      <td>18177.18</td>\n",
       "      <td>2019-11-30</td>\n",
       "      <td>NAH4</td>\n",
       "      <td>0</td>\n",
       "    </tr>\n",
       "    <tr>\n",
       "      <th>4</th>\n",
       "      <td>U001</td>\n",
       "      <td>0200769623</td>\n",
       "      <td>WAL-MAR</td>\n",
       "      <td>NaT</td>\n",
       "      <td>2020</td>\n",
       "      <td>2020-04-03</td>\n",
       "      <td>20200403</td>\n",
       "      <td>2020-04-03</td>\n",
       "      <td>2020-04-18</td>\n",
       "      <td>RV</td>\n",
       "      <td>24079.57</td>\n",
       "      <td>2020-04-18</td>\n",
       "      <td>NAH4</td>\n",
       "      <td>1</td>\n",
       "    </tr>\n",
       "  </tbody>\n",
       "</table>\n",
       "</div>"
      ],
      "text/plain": [
       "  business_code cust_number       name_customer clear_date  buisness_year  \\\n",
       "0          U001  0200895843                US   2019-09-09           2019   \n",
       "1          U001  0200769623            WAL-MAR  2019-11-25           2019   \n",
       "2          U001  0200769623  WAL-MAR foundation 2019-04-23           2019   \n",
       "3          U001  0200769623          WAL-MAR co 2019-11-26           2019   \n",
       "4          U001  0200769623            WAL-MAR         NaT           2020   \n",
       "\n",
       "  posting_date  document_create_date document_create_date.1 due_in_date  \\\n",
       "0   2019-08-22              20190822             2019-08-22  2019-09-06   \n",
       "1   2019-11-12              20191112             2019-11-12  2019-11-27   \n",
       "2   2019-04-12              20190411             2019-04-12  2019-04-27   \n",
       "3   2019-11-15              20191107             2019-11-15  2019-11-30   \n",
       "4   2020-04-03              20200403             2020-04-03  2020-04-18   \n",
       "\n",
       "  document type  total_open_amount baseline_create_date cust_payment_terms  \\\n",
       "0            RV           41386.61           2019-09-06               NAA8   \n",
       "1            RV           47178.82           2019-11-27               NAH4   \n",
       "2            RV           51389.52           2019-04-27               NAH4   \n",
       "3            RV           18177.18           2019-11-30               NAH4   \n",
       "4            RV           24079.57           2020-04-18               NAH4   \n",
       "\n",
       "   isOpen  \n",
       "0       0  \n",
       "1       0  \n",
       "2       0  \n",
       "3       0  \n",
       "4       1  "
      ]
     },
     "execution_count": 26,
     "metadata": {},
     "output_type": "execute_result"
    }
   ],
   "source": [
    "#date feature columns are converted into datetime format for future operation\n",
    "data['clear_date'] = pd.to_datetime(data['clear_date'])\n",
    "data['buisness_year']=data['buisness_year'].astype('int')\n",
    "data['posting_date'] = pd.to_datetime(data['posting_date']) \n",
    "data['document_create_date.1'] = pd.to_datetime(data['document_create_date.1'], format='%Y%m%d')\n",
    "data['due_in_date'] = pd.to_datetime(data['due_in_date'], format='%Y%m%d')\n",
    "data['baseline_create_date'] = pd.to_datetime(data['due_in_date'], format='%Y%m%d')\n",
    "\n",
    "data.head()"
   ]
  },
  {
   "cell_type": "code",
   "execution_count": 27,
   "id": "43a5ea62",
   "metadata": {},
   "outputs": [
    {
     "data": {
      "text/html": [
       "<div>\n",
       "<style scoped>\n",
       "    .dataframe tbody tr th:only-of-type {\n",
       "        vertical-align: middle;\n",
       "    }\n",
       "\n",
       "    .dataframe tbody tr th {\n",
       "        vertical-align: top;\n",
       "    }\n",
       "\n",
       "    .dataframe thead th {\n",
       "        text-align: right;\n",
       "    }\n",
       "</style>\n",
       "<table border=\"1\" class=\"dataframe\">\n",
       "  <thead>\n",
       "    <tr style=\"text-align: right;\">\n",
       "      <th></th>\n",
       "      <th>business_code</th>\n",
       "      <th>cust_number</th>\n",
       "      <th>name_customer</th>\n",
       "      <th>clear_date</th>\n",
       "      <th>buisness_year</th>\n",
       "      <th>posting_date</th>\n",
       "      <th>document_create_date</th>\n",
       "      <th>document_create_date.1</th>\n",
       "      <th>due_in_date</th>\n",
       "      <th>document type</th>\n",
       "      <th>total_open_amount</th>\n",
       "      <th>baseline_create_date</th>\n",
       "      <th>cust_payment_terms</th>\n",
       "      <th>isOpen</th>\n",
       "    </tr>\n",
       "  </thead>\n",
       "  <tbody>\n",
       "    <tr>\n",
       "      <th>0</th>\n",
       "      <td>U001</td>\n",
       "      <td>0200726979</td>\n",
       "      <td>BJ'S  foundation</td>\n",
       "      <td>2019-01-15</td>\n",
       "      <td>2019</td>\n",
       "      <td>2018-12-30</td>\n",
       "      <td>20181229</td>\n",
       "      <td>2018-12-30</td>\n",
       "      <td>2019-01-14</td>\n",
       "      <td>RV</td>\n",
       "      <td>42.04</td>\n",
       "      <td>2019-01-14</td>\n",
       "      <td>NAA8</td>\n",
       "      <td>0</td>\n",
       "    </tr>\n",
       "    <tr>\n",
       "      <th>1</th>\n",
       "      <td>U001</td>\n",
       "      <td>0200726979</td>\n",
       "      <td>BJ'S  corporation</td>\n",
       "      <td>2019-01-15</td>\n",
       "      <td>2019</td>\n",
       "      <td>2018-12-30</td>\n",
       "      <td>20181229</td>\n",
       "      <td>2018-12-30</td>\n",
       "      <td>2019-01-14</td>\n",
       "      <td>RV</td>\n",
       "      <td>53.25</td>\n",
       "      <td>2019-01-14</td>\n",
       "      <td>NAA8</td>\n",
       "      <td>0</td>\n",
       "    </tr>\n",
       "    <tr>\n",
       "      <th>2</th>\n",
       "      <td>U001</td>\n",
       "      <td>0200769623</td>\n",
       "      <td>WAL-MAR us</td>\n",
       "      <td>2019-01-15</td>\n",
       "      <td>2019</td>\n",
       "      <td>2018-12-30</td>\n",
       "      <td>20181229</td>\n",
       "      <td>2018-12-30</td>\n",
       "      <td>2019-01-14</td>\n",
       "      <td>RV</td>\n",
       "      <td>344.01</td>\n",
       "      <td>2019-01-14</td>\n",
       "      <td>NAH4</td>\n",
       "      <td>0</td>\n",
       "    </tr>\n",
       "    <tr>\n",
       "      <th>3</th>\n",
       "      <td>U001</td>\n",
       "      <td>0200744019</td>\n",
       "      <td>TARG trust</td>\n",
       "      <td>2019-01-18</td>\n",
       "      <td>2019</td>\n",
       "      <td>2018-12-30</td>\n",
       "      <td>20181229</td>\n",
       "      <td>2018-12-30</td>\n",
       "      <td>2019-01-14</td>\n",
       "      <td>RV</td>\n",
       "      <td>11982.59</td>\n",
       "      <td>2019-01-14</td>\n",
       "      <td>NAA8</td>\n",
       "      <td>0</td>\n",
       "    </tr>\n",
       "    <tr>\n",
       "      <th>4</th>\n",
       "      <td>U001</td>\n",
       "      <td>0200769623</td>\n",
       "      <td>WAL-MAR co</td>\n",
       "      <td>2019-01-15</td>\n",
       "      <td>2019</td>\n",
       "      <td>2018-12-30</td>\n",
       "      <td>20181229</td>\n",
       "      <td>2018-12-30</td>\n",
       "      <td>2019-01-14</td>\n",
       "      <td>RV</td>\n",
       "      <td>65940.47</td>\n",
       "      <td>2019-01-14</td>\n",
       "      <td>NAH4</td>\n",
       "      <td>0</td>\n",
       "    </tr>\n",
       "  </tbody>\n",
       "</table>\n",
       "</div>"
      ],
      "text/plain": [
       "  business_code cust_number      name_customer clear_date  buisness_year  \\\n",
       "0          U001  0200726979   BJ'S  foundation 2019-01-15           2019   \n",
       "1          U001  0200726979  BJ'S  corporation 2019-01-15           2019   \n",
       "2          U001  0200769623         WAL-MAR us 2019-01-15           2019   \n",
       "3          U001  0200744019         TARG trust 2019-01-18           2019   \n",
       "4          U001  0200769623         WAL-MAR co 2019-01-15           2019   \n",
       "\n",
       "  posting_date  document_create_date document_create_date.1 due_in_date  \\\n",
       "0   2018-12-30              20181229             2018-12-30  2019-01-14   \n",
       "1   2018-12-30              20181229             2018-12-30  2019-01-14   \n",
       "2   2018-12-30              20181229             2018-12-30  2019-01-14   \n",
       "3   2018-12-30              20181229             2018-12-30  2019-01-14   \n",
       "4   2018-12-30              20181229             2018-12-30  2019-01-14   \n",
       "\n",
       "  document type  total_open_amount baseline_create_date cust_payment_terms  \\\n",
       "0            RV              42.04           2019-01-14               NAA8   \n",
       "1            RV              53.25           2019-01-14               NAA8   \n",
       "2            RV             344.01           2019-01-14               NAH4   \n",
       "3            RV           11982.59           2019-01-14               NAA8   \n",
       "4            RV           65940.47           2019-01-14               NAH4   \n",
       "\n",
       "   isOpen  \n",
       "0       0  \n",
       "1       0  \n",
       "2       0  \n",
       "3       0  \n",
       "4       0  "
      ]
     },
     "execution_count": 27,
     "metadata": {},
     "output_type": "execute_result"
    }
   ],
   "source": [
    "#sort the train data according to posting_date as we can't train model based on future data\n",
    "data.sort_values(['posting_date'],inplace=True)\n",
    "data.reset_index(inplace=True,drop=True)\n",
    "data.head()"
   ]
  },
  {
   "cell_type": "code",
   "execution_count": 28,
   "id": "19f70d1a",
   "metadata": {},
   "outputs": [],
   "source": [
    "# since we are using the normalized form document_create_date.1 so we can drop the other one document_create_date \n",
    "# as it is highly corelated  as stated in heatmap \n",
    "data.drop('document_create_date',axis=1,inplace=True)"
   ]
  },
  {
   "cell_type": "code",
   "execution_count": 29,
   "id": "06e8ed1d",
   "metadata": {},
   "outputs": [
    {
     "data": {
      "text/html": [
       "<div>\n",
       "<style scoped>\n",
       "    .dataframe tbody tr th:only-of-type {\n",
       "        vertical-align: middle;\n",
       "    }\n",
       "\n",
       "    .dataframe tbody tr th {\n",
       "        vertical-align: top;\n",
       "    }\n",
       "\n",
       "    .dataframe thead th {\n",
       "        text-align: right;\n",
       "    }\n",
       "</style>\n",
       "<table border=\"1\" class=\"dataframe\">\n",
       "  <thead>\n",
       "    <tr style=\"text-align: right;\">\n",
       "      <th></th>\n",
       "      <th>business_code</th>\n",
       "      <th>cust_number</th>\n",
       "      <th>name_customer</th>\n",
       "      <th>clear_date</th>\n",
       "      <th>buisness_year</th>\n",
       "      <th>posting_date</th>\n",
       "      <th>document_create_date.1</th>\n",
       "      <th>due_in_date</th>\n",
       "      <th>document type</th>\n",
       "      <th>total_open_amount</th>\n",
       "      <th>baseline_create_date</th>\n",
       "      <th>cust_payment_terms</th>\n",
       "      <th>isOpen</th>\n",
       "    </tr>\n",
       "  </thead>\n",
       "  <tbody>\n",
       "    <tr>\n",
       "      <th>0</th>\n",
       "      <td>U001</td>\n",
       "      <td>0200726979</td>\n",
       "      <td>BJ'S  foundation</td>\n",
       "      <td>2019-01-15</td>\n",
       "      <td>2019</td>\n",
       "      <td>2018-12-30</td>\n",
       "      <td>2018-12-30</td>\n",
       "      <td>2019-01-14</td>\n",
       "      <td>RV</td>\n",
       "      <td>42.04</td>\n",
       "      <td>2019-01-14</td>\n",
       "      <td>NAA8</td>\n",
       "      <td>0</td>\n",
       "    </tr>\n",
       "    <tr>\n",
       "      <th>1</th>\n",
       "      <td>U001</td>\n",
       "      <td>0200726979</td>\n",
       "      <td>BJ'S  corporation</td>\n",
       "      <td>2019-01-15</td>\n",
       "      <td>2019</td>\n",
       "      <td>2018-12-30</td>\n",
       "      <td>2018-12-30</td>\n",
       "      <td>2019-01-14</td>\n",
       "      <td>RV</td>\n",
       "      <td>53.25</td>\n",
       "      <td>2019-01-14</td>\n",
       "      <td>NAA8</td>\n",
       "      <td>0</td>\n",
       "    </tr>\n",
       "    <tr>\n",
       "      <th>2</th>\n",
       "      <td>U001</td>\n",
       "      <td>0200769623</td>\n",
       "      <td>WAL-MAR us</td>\n",
       "      <td>2019-01-15</td>\n",
       "      <td>2019</td>\n",
       "      <td>2018-12-30</td>\n",
       "      <td>2018-12-30</td>\n",
       "      <td>2019-01-14</td>\n",
       "      <td>RV</td>\n",
       "      <td>344.01</td>\n",
       "      <td>2019-01-14</td>\n",
       "      <td>NAH4</td>\n",
       "      <td>0</td>\n",
       "    </tr>\n",
       "    <tr>\n",
       "      <th>3</th>\n",
       "      <td>U001</td>\n",
       "      <td>0200744019</td>\n",
       "      <td>TARG trust</td>\n",
       "      <td>2019-01-18</td>\n",
       "      <td>2019</td>\n",
       "      <td>2018-12-30</td>\n",
       "      <td>2018-12-30</td>\n",
       "      <td>2019-01-14</td>\n",
       "      <td>RV</td>\n",
       "      <td>11982.59</td>\n",
       "      <td>2019-01-14</td>\n",
       "      <td>NAA8</td>\n",
       "      <td>0</td>\n",
       "    </tr>\n",
       "    <tr>\n",
       "      <th>4</th>\n",
       "      <td>U001</td>\n",
       "      <td>0200769623</td>\n",
       "      <td>WAL-MAR co</td>\n",
       "      <td>2019-01-15</td>\n",
       "      <td>2019</td>\n",
       "      <td>2018-12-30</td>\n",
       "      <td>2018-12-30</td>\n",
       "      <td>2019-01-14</td>\n",
       "      <td>RV</td>\n",
       "      <td>65940.47</td>\n",
       "      <td>2019-01-14</td>\n",
       "      <td>NAH4</td>\n",
       "      <td>0</td>\n",
       "    </tr>\n",
       "  </tbody>\n",
       "</table>\n",
       "</div>"
      ],
      "text/plain": [
       "  business_code cust_number      name_customer clear_date  buisness_year  \\\n",
       "0          U001  0200726979   BJ'S  foundation 2019-01-15           2019   \n",
       "1          U001  0200726979  BJ'S  corporation 2019-01-15           2019   \n",
       "2          U001  0200769623         WAL-MAR us 2019-01-15           2019   \n",
       "3          U001  0200744019         TARG trust 2019-01-18           2019   \n",
       "4          U001  0200769623         WAL-MAR co 2019-01-15           2019   \n",
       "\n",
       "  posting_date document_create_date.1 due_in_date document type  \\\n",
       "0   2018-12-30             2018-12-30  2019-01-14            RV   \n",
       "1   2018-12-30             2018-12-30  2019-01-14            RV   \n",
       "2   2018-12-30             2018-12-30  2019-01-14            RV   \n",
       "3   2018-12-30             2018-12-30  2019-01-14            RV   \n",
       "4   2018-12-30             2018-12-30  2019-01-14            RV   \n",
       "\n",
       "   total_open_amount baseline_create_date cust_payment_terms  isOpen  \n",
       "0              42.04           2019-01-14               NAA8       0  \n",
       "1              53.25           2019-01-14               NAA8       0  \n",
       "2             344.01           2019-01-14               NAH4       0  \n",
       "3           11982.59           2019-01-14               NAA8       0  \n",
       "4           65940.47           2019-01-14               NAH4       0  "
      ]
     },
     "execution_count": 29,
     "metadata": {},
     "output_type": "execute_result"
    }
   ],
   "source": [
    "data.head()"
   ]
  },
  {
   "cell_type": "code",
   "execution_count": 30,
   "id": "ab6e89ed",
   "metadata": {},
   "outputs": [
    {
     "data": {
      "text/html": [
       "<div>\n",
       "<style scoped>\n",
       "    .dataframe tbody tr th:only-of-type {\n",
       "        vertical-align: middle;\n",
       "    }\n",
       "\n",
       "    .dataframe tbody tr th {\n",
       "        vertical-align: top;\n",
       "    }\n",
       "\n",
       "    .dataframe thead th {\n",
       "        text-align: right;\n",
       "    }\n",
       "</style>\n",
       "<table border=\"1\" class=\"dataframe\">\n",
       "  <thead>\n",
       "    <tr style=\"text-align: right;\">\n",
       "      <th></th>\n",
       "      <th>buisness_year</th>\n",
       "      <th>total_open_amount</th>\n",
       "      <th>isOpen</th>\n",
       "    </tr>\n",
       "  </thead>\n",
       "  <tbody>\n",
       "    <tr>\n",
       "      <th>buisness_year</th>\n",
       "      <td>1.000000</td>\n",
       "      <td>0.006567</td>\n",
       "      <td>0.757732</td>\n",
       "    </tr>\n",
       "    <tr>\n",
       "      <th>total_open_amount</th>\n",
       "      <td>0.006567</td>\n",
       "      <td>1.000000</td>\n",
       "      <td>0.010158</td>\n",
       "    </tr>\n",
       "    <tr>\n",
       "      <th>isOpen</th>\n",
       "      <td>0.757732</td>\n",
       "      <td>0.010158</td>\n",
       "      <td>1.000000</td>\n",
       "    </tr>\n",
       "  </tbody>\n",
       "</table>\n",
       "</div>"
      ],
      "text/plain": [
       "                   buisness_year  total_open_amount    isOpen\n",
       "buisness_year           1.000000           0.006567  0.757732\n",
       "total_open_amount       0.006567           1.000000  0.010158\n",
       "isOpen                  0.757732           0.010158  1.000000"
      ]
     },
     "execution_count": 30,
     "metadata": {},
     "output_type": "execute_result"
    }
   ],
   "source": [
    "data.corr()"
   ]
  },
  {
   "cell_type": "code",
   "execution_count": 31,
   "id": "54f91351",
   "metadata": {},
   "outputs": [],
   "source": [
    "#we also don't need positng date so we can drop it too\n",
    "data.drop(columns = 'posting_date' , inplace = True)"
   ]
  },
  {
   "cell_type": "code",
   "execution_count": 32,
   "id": "727a85a3",
   "metadata": {},
   "outputs": [
    {
     "name": "stdout",
     "output_type": "stream",
     "text": [
      "<class 'pandas.core.frame.DataFrame'>\n",
      "RangeIndex: 50000 entries, 0 to 49999\n",
      "Data columns (total 12 columns):\n",
      " #   Column                  Non-Null Count  Dtype         \n",
      "---  ------                  --------------  -----         \n",
      " 0   business_code           50000 non-null  object        \n",
      " 1   cust_number             50000 non-null  object        \n",
      " 2   name_customer           50000 non-null  object        \n",
      " 3   clear_date              40000 non-null  datetime64[ns]\n",
      " 4   buisness_year           50000 non-null  int32         \n",
      " 5   document_create_date.1  50000 non-null  datetime64[ns]\n",
      " 6   due_in_date             50000 non-null  datetime64[ns]\n",
      " 7   document type           50000 non-null  object        \n",
      " 8   total_open_amount       50000 non-null  float64       \n",
      " 9   baseline_create_date    50000 non-null  datetime64[ns]\n",
      " 10  cust_payment_terms      50000 non-null  object        \n",
      " 11  isOpen                  50000 non-null  int64         \n",
      "dtypes: datetime64[ns](4), float64(1), int32(1), int64(1), object(5)\n",
      "memory usage: 4.4+ MB\n"
     ]
    }
   ],
   "source": [
    "data.info()"
   ]
  },
  {
   "cell_type": "markdown",
   "id": "ea8f1be5",
   "metadata": {},
   "source": [
    "# Splitting of data based on null values present in clear_dates"
   ]
  },
  {
   "cell_type": "code",
   "execution_count": 33,
   "id": "f6d009e7",
   "metadata": {},
   "outputs": [
    {
     "data": {
      "text/html": [
       "<div>\n",
       "<style scoped>\n",
       "    .dataframe tbody tr th:only-of-type {\n",
       "        vertical-align: middle;\n",
       "    }\n",
       "\n",
       "    .dataframe tbody tr th {\n",
       "        vertical-align: top;\n",
       "    }\n",
       "\n",
       "    .dataframe thead th {\n",
       "        text-align: right;\n",
       "    }\n",
       "</style>\n",
       "<table border=\"1\" class=\"dataframe\">\n",
       "  <thead>\n",
       "    <tr style=\"text-align: right;\">\n",
       "      <th></th>\n",
       "      <th>business_code</th>\n",
       "      <th>cust_number</th>\n",
       "      <th>name_customer</th>\n",
       "      <th>clear_date</th>\n",
       "      <th>buisness_year</th>\n",
       "      <th>document_create_date.1</th>\n",
       "      <th>due_in_date</th>\n",
       "      <th>document type</th>\n",
       "      <th>total_open_amount</th>\n",
       "      <th>baseline_create_date</th>\n",
       "      <th>cust_payment_terms</th>\n",
       "      <th>isOpen</th>\n",
       "    </tr>\n",
       "  </thead>\n",
       "  <tbody>\n",
       "    <tr>\n",
       "      <th>0</th>\n",
       "      <td>U001</td>\n",
       "      <td>0200726979</td>\n",
       "      <td>BJ'S  foundation</td>\n",
       "      <td>2019-01-15</td>\n",
       "      <td>2019</td>\n",
       "      <td>2018-12-30</td>\n",
       "      <td>2019-01-14</td>\n",
       "      <td>RV</td>\n",
       "      <td>42.04</td>\n",
       "      <td>2019-01-14</td>\n",
       "      <td>NAA8</td>\n",
       "      <td>0</td>\n",
       "    </tr>\n",
       "    <tr>\n",
       "      <th>1</th>\n",
       "      <td>U001</td>\n",
       "      <td>0200726979</td>\n",
       "      <td>BJ'S  corporation</td>\n",
       "      <td>2019-01-15</td>\n",
       "      <td>2019</td>\n",
       "      <td>2018-12-30</td>\n",
       "      <td>2019-01-14</td>\n",
       "      <td>RV</td>\n",
       "      <td>53.25</td>\n",
       "      <td>2019-01-14</td>\n",
       "      <td>NAA8</td>\n",
       "      <td>0</td>\n",
       "    </tr>\n",
       "    <tr>\n",
       "      <th>2</th>\n",
       "      <td>U001</td>\n",
       "      <td>0200769623</td>\n",
       "      <td>WAL-MAR us</td>\n",
       "      <td>2019-01-15</td>\n",
       "      <td>2019</td>\n",
       "      <td>2018-12-30</td>\n",
       "      <td>2019-01-14</td>\n",
       "      <td>RV</td>\n",
       "      <td>344.01</td>\n",
       "      <td>2019-01-14</td>\n",
       "      <td>NAH4</td>\n",
       "      <td>0</td>\n",
       "    </tr>\n",
       "    <tr>\n",
       "      <th>3</th>\n",
       "      <td>U001</td>\n",
       "      <td>0200744019</td>\n",
       "      <td>TARG trust</td>\n",
       "      <td>2019-01-18</td>\n",
       "      <td>2019</td>\n",
       "      <td>2018-12-30</td>\n",
       "      <td>2019-01-14</td>\n",
       "      <td>RV</td>\n",
       "      <td>11982.59</td>\n",
       "      <td>2019-01-14</td>\n",
       "      <td>NAA8</td>\n",
       "      <td>0</td>\n",
       "    </tr>\n",
       "    <tr>\n",
       "      <th>4</th>\n",
       "      <td>U001</td>\n",
       "      <td>0200769623</td>\n",
       "      <td>WAL-MAR co</td>\n",
       "      <td>2019-01-15</td>\n",
       "      <td>2019</td>\n",
       "      <td>2018-12-30</td>\n",
       "      <td>2019-01-14</td>\n",
       "      <td>RV</td>\n",
       "      <td>65940.47</td>\n",
       "      <td>2019-01-14</td>\n",
       "      <td>NAH4</td>\n",
       "      <td>0</td>\n",
       "    </tr>\n",
       "  </tbody>\n",
       "</table>\n",
       "</div>"
      ],
      "text/plain": [
       "  business_code cust_number      name_customer clear_date  buisness_year  \\\n",
       "0          U001  0200726979   BJ'S  foundation 2019-01-15           2019   \n",
       "1          U001  0200726979  BJ'S  corporation 2019-01-15           2019   \n",
       "2          U001  0200769623         WAL-MAR us 2019-01-15           2019   \n",
       "3          U001  0200744019         TARG trust 2019-01-18           2019   \n",
       "4          U001  0200769623         WAL-MAR co 2019-01-15           2019   \n",
       "\n",
       "  document_create_date.1 due_in_date document type  total_open_amount  \\\n",
       "0             2018-12-30  2019-01-14            RV              42.04   \n",
       "1             2018-12-30  2019-01-14            RV              53.25   \n",
       "2             2018-12-30  2019-01-14            RV             344.01   \n",
       "3             2018-12-30  2019-01-14            RV           11982.59   \n",
       "4             2018-12-30  2019-01-14            RV           65940.47   \n",
       "\n",
       "  baseline_create_date cust_payment_terms  isOpen  \n",
       "0           2019-01-14               NAA8       0  \n",
       "1           2019-01-14               NAA8       0  \n",
       "2           2019-01-14               NAH4       0  \n",
       "3           2019-01-14               NAA8       0  \n",
       "4           2019-01-14               NAH4       0  "
      ]
     },
     "execution_count": 33,
     "metadata": {},
     "output_type": "execute_result"
    }
   ],
   "source": [
    "#splitting the the test and train data based on the clear_data features\n",
    "#A new data set is created based on \n",
    "Train = data.loc[data['clear_date'].notnull()]\n",
    "Train.head()"
   ]
  },
  {
   "cell_type": "code",
   "execution_count": 34,
   "id": "f5945ca1",
   "metadata": {},
   "outputs": [
    {
     "data": {
      "text/plain": [
       "(10000, 12)"
      ]
     },
     "execution_count": 34,
     "metadata": {},
     "output_type": "execute_result"
    }
   ],
   "source": [
    "#Where clear_date == null is putted into test dataframe\n",
    "Test = data.loc[data.clear_date.isnull()]\n",
    "Test.shape"
   ]
  },
  {
   "cell_type": "code",
   "execution_count": 35,
   "id": "54131683",
   "metadata": {},
   "outputs": [],
   "source": [
    "#temp datset is created to put the clear_dates predicted at last into this dataset after predictions\n",
    "data_temp = Test"
   ]
  },
  {
   "cell_type": "code",
   "execution_count": 36,
   "id": "b25f26c0",
   "metadata": {},
   "outputs": [
    {
     "data": {
      "text/html": [
       "<div>\n",
       "<style scoped>\n",
       "    .dataframe tbody tr th:only-of-type {\n",
       "        vertical-align: middle;\n",
       "    }\n",
       "\n",
       "    .dataframe tbody tr th {\n",
       "        vertical-align: top;\n",
       "    }\n",
       "\n",
       "    .dataframe thead th {\n",
       "        text-align: right;\n",
       "    }\n",
       "</style>\n",
       "<table border=\"1\" class=\"dataframe\">\n",
       "  <thead>\n",
       "    <tr style=\"text-align: right;\">\n",
       "      <th></th>\n",
       "      <th>business_code</th>\n",
       "      <th>cust_number</th>\n",
       "      <th>name_customer</th>\n",
       "      <th>clear_date</th>\n",
       "      <th>buisness_year</th>\n",
       "      <th>document_create_date.1</th>\n",
       "      <th>due_in_date</th>\n",
       "      <th>document type</th>\n",
       "      <th>total_open_amount</th>\n",
       "      <th>baseline_create_date</th>\n",
       "      <th>cust_payment_terms</th>\n",
       "      <th>isOpen</th>\n",
       "      <th>DELAY</th>\n",
       "    </tr>\n",
       "  </thead>\n",
       "  <tbody>\n",
       "    <tr>\n",
       "      <th>0</th>\n",
       "      <td>U001</td>\n",
       "      <td>0200726979</td>\n",
       "      <td>BJ'S  foundation</td>\n",
       "      <td>2019-01-15</td>\n",
       "      <td>2019</td>\n",
       "      <td>2018-12-30</td>\n",
       "      <td>2019-01-14</td>\n",
       "      <td>RV</td>\n",
       "      <td>42.04</td>\n",
       "      <td>2019-01-14</td>\n",
       "      <td>NAA8</td>\n",
       "      <td>0</td>\n",
       "      <td>1</td>\n",
       "    </tr>\n",
       "    <tr>\n",
       "      <th>1</th>\n",
       "      <td>U001</td>\n",
       "      <td>0200726979</td>\n",
       "      <td>BJ'S  corporation</td>\n",
       "      <td>2019-01-15</td>\n",
       "      <td>2019</td>\n",
       "      <td>2018-12-30</td>\n",
       "      <td>2019-01-14</td>\n",
       "      <td>RV</td>\n",
       "      <td>53.25</td>\n",
       "      <td>2019-01-14</td>\n",
       "      <td>NAA8</td>\n",
       "      <td>0</td>\n",
       "      <td>1</td>\n",
       "    </tr>\n",
       "    <tr>\n",
       "      <th>2</th>\n",
       "      <td>U001</td>\n",
       "      <td>0200769623</td>\n",
       "      <td>WAL-MAR us</td>\n",
       "      <td>2019-01-15</td>\n",
       "      <td>2019</td>\n",
       "      <td>2018-12-30</td>\n",
       "      <td>2019-01-14</td>\n",
       "      <td>RV</td>\n",
       "      <td>344.01</td>\n",
       "      <td>2019-01-14</td>\n",
       "      <td>NAH4</td>\n",
       "      <td>0</td>\n",
       "      <td>1</td>\n",
       "    </tr>\n",
       "    <tr>\n",
       "      <th>3</th>\n",
       "      <td>U001</td>\n",
       "      <td>0200744019</td>\n",
       "      <td>TARG trust</td>\n",
       "      <td>2019-01-18</td>\n",
       "      <td>2019</td>\n",
       "      <td>2018-12-30</td>\n",
       "      <td>2019-01-14</td>\n",
       "      <td>RV</td>\n",
       "      <td>11982.59</td>\n",
       "      <td>2019-01-14</td>\n",
       "      <td>NAA8</td>\n",
       "      <td>0</td>\n",
       "      <td>4</td>\n",
       "    </tr>\n",
       "    <tr>\n",
       "      <th>4</th>\n",
       "      <td>U001</td>\n",
       "      <td>0200769623</td>\n",
       "      <td>WAL-MAR co</td>\n",
       "      <td>2019-01-15</td>\n",
       "      <td>2019</td>\n",
       "      <td>2018-12-30</td>\n",
       "      <td>2019-01-14</td>\n",
       "      <td>RV</td>\n",
       "      <td>65940.47</td>\n",
       "      <td>2019-01-14</td>\n",
       "      <td>NAH4</td>\n",
       "      <td>0</td>\n",
       "      <td>1</td>\n",
       "    </tr>\n",
       "  </tbody>\n",
       "</table>\n",
       "</div>"
      ],
      "text/plain": [
       "  business_code cust_number      name_customer clear_date  buisness_year  \\\n",
       "0          U001  0200726979   BJ'S  foundation 2019-01-15           2019   \n",
       "1          U001  0200726979  BJ'S  corporation 2019-01-15           2019   \n",
       "2          U001  0200769623         WAL-MAR us 2019-01-15           2019   \n",
       "3          U001  0200744019         TARG trust 2019-01-18           2019   \n",
       "4          U001  0200769623         WAL-MAR co 2019-01-15           2019   \n",
       "\n",
       "  document_create_date.1 due_in_date document type  total_open_amount  \\\n",
       "0             2018-12-30  2019-01-14            RV              42.04   \n",
       "1             2018-12-30  2019-01-14            RV              53.25   \n",
       "2             2018-12-30  2019-01-14            RV             344.01   \n",
       "3             2018-12-30  2019-01-14            RV           11982.59   \n",
       "4             2018-12-30  2019-01-14            RV           65940.47   \n",
       "\n",
       "  baseline_create_date cust_payment_terms  isOpen  DELAY  \n",
       "0           2019-01-14               NAA8       0      1  \n",
       "1           2019-01-14               NAA8       0      1  \n",
       "2           2019-01-14               NAH4       0      1  \n",
       "3           2019-01-14               NAA8       0      4  \n",
       "4           2019-01-14               NAH4       0      1  "
      ]
     },
     "execution_count": 36,
     "metadata": {},
     "output_type": "execute_result"
    }
   ],
   "source": [
    "#calculating  the delay feature using clear_date-due_date\n",
    "Train['DELAY']=Train['clear_date'] - Train['due_in_date']\n",
    "Train['DELAY'] =Train['DELAY'].dt.days\n",
    "Train.head()"
   ]
  },
  {
   "cell_type": "markdown",
   "id": "cbdd183a",
   "metadata": {},
   "source": [
    "# Check For Anomalies if Present "
   ]
  },
  {
   "cell_type": "code",
   "execution_count": 37,
   "id": "fa1ddeb4",
   "metadata": {},
   "outputs": [],
   "source": [
    "# #check for  data where clear_date can be before the document_create_date.1\n",
    "v1=Train[Train['clear_date']<Train['document_create_date.1']].index"
   ]
  },
  {
   "cell_type": "code",
   "execution_count": 38,
   "id": "df489c40",
   "metadata": {},
   "outputs": [
    {
     "data": {
      "text/plain": [
       "Int64Index([], dtype='int64')"
      ]
     },
     "execution_count": 38,
     "metadata": {},
     "output_type": "execute_result"
    }
   ],
   "source": [
    "v1 "
   ]
  },
  {
   "cell_type": "code",
   "execution_count": 39,
   "id": "71d8625c",
   "metadata": {},
   "outputs": [],
   "source": [
    "# #check for  data where due_in_date can be before the document_create_date.1\n",
    "v2=Train[Train['due_in_date']<Train['document_create_date.1']].index"
   ]
  },
  {
   "cell_type": "code",
   "execution_count": 40,
   "id": "d8a98b30",
   "metadata": {},
   "outputs": [
    {
     "data": {
      "text/plain": [
       "Int64Index([  828,   896,  2360,  2369,  2456,  2457,  2461,  2464,  2467,\n",
       "             2489,\n",
       "            ...\n",
       "            35702, 35741, 36263, 37161, 37169, 38522, 38608, 38635, 39680,\n",
       "            39875],\n",
       "           dtype='int64', length=105)"
      ]
     },
     "execution_count": 40,
     "metadata": {},
     "output_type": "execute_result"
    }
   ],
   "source": [
    "v2 "
   ]
  },
  {
   "cell_type": "code",
   "execution_count": 41,
   "id": "97d9dbd8",
   "metadata": {},
   "outputs": [],
   "source": [
    "v3=Train[Train['clear_date']<Train['baseline_create_date']].index #Anomalies found with clear_date before baseline_date that needs to b"
   ]
  },
  {
   "cell_type": "code",
   "execution_count": 42,
   "id": "bf4fc70d",
   "metadata": {},
   "outputs": [
    {
     "data": {
      "text/plain": [
       "Int64Index([    5,     7,    12,    14,    16,    17,    19,    27,    33,\n",
       "               35,\n",
       "            ...\n",
       "            39975, 39976, 39979, 39981, 39984, 39985, 39986, 40018, 40033,\n",
       "            40116],\n",
       "           dtype='int64', length=14701)"
      ]
     },
     "execution_count": 42,
     "metadata": {},
     "output_type": "execute_result"
    }
   ],
   "source": [
    "v3"
   ]
  },
  {
   "cell_type": "code",
   "execution_count": 43,
   "id": "942714d8",
   "metadata": {},
   "outputs": [],
   "source": [
    "#deleting the rows having anomalies\n",
    "Train.drop(v2,inplace=True)"
   ]
  },
  {
   "cell_type": "code",
   "execution_count": 44,
   "id": "b0b3c218",
   "metadata": {},
   "outputs": [],
   "source": [
    "#deleting the rows having anomalies\n",
    "Train.drop(v3,inplace=True)"
   ]
  },
  {
   "cell_type": "code",
   "execution_count": 45,
   "id": "356ea242",
   "metadata": {},
   "outputs": [],
   "source": [
    "#after checking for anomalies we dropped the baselin_date as it is highly corelated with doucment_create_date and other features\n",
    "Train.drop('baseline_create_date',axis= 1,inplace =True)"
   ]
  },
  {
   "cell_type": "code",
   "execution_count": 46,
   "id": "9efd468b",
   "metadata": {},
   "outputs": [
    {
     "data": {
      "text/plain": [
       "business_code                 6\n",
       "cust_number                1086\n",
       "name_customer              3053\n",
       "clear_date                  378\n",
       "buisness_year                 2\n",
       "document_create_date.1      421\n",
       "due_in_date                 480\n",
       "document type                 2\n",
       "total_open_amount         23082\n",
       "cust_payment_terms           65\n",
       "isOpen                        1\n",
       "DELAY                       120\n",
       "dtype: int64"
      ]
     },
     "execution_count": 46,
     "metadata": {},
     "output_type": "execute_result"
    }
   ],
   "source": [
    "Train.nunique()"
   ]
  },
  {
   "cell_type": "code",
   "execution_count": 47,
   "id": "570dec25",
   "metadata": {},
   "outputs": [],
   "source": [
    "#Since  isOpen has only one unique value  so we dropped it\n",
    "Train.drop(['isOpen'],axis = 1 ,inplace =True)"
   ]
  },
  {
   "cell_type": "code",
   "execution_count": 48,
   "id": "2f66c3b7",
   "metadata": {},
   "outputs": [],
   "source": [
    "# month_quarter,month are calculated for due date and document create date for further use in model prediction\n",
    "Train['document_create_date.1_month_quarter'] = Train['document_create_date.1'].dt.quarter\n",
    "Train['document_create_date.1_day'] = Train['document_create_date.1'].dt.dayofweek\n",
    "Train['document_create_date.1_month'] = Train['document_create_date.1'].dt.month\n",
    "Train['due_in_date_month_quarter'] =Train['due_in_date'].dt.quarter\n",
    "Train['due_in_date_month_day'] =Train['due_in_date'].dt.dayofweek\n",
    "Train['due_in_date_month'] =Train['due_in_date'].dt.month"
   ]
  },
  {
   "cell_type": "code",
   "execution_count": 49,
   "id": "4bc496ff",
   "metadata": {},
   "outputs": [
    {
     "data": {
      "text/html": [
       "<div>\n",
       "<style scoped>\n",
       "    .dataframe tbody tr th:only-of-type {\n",
       "        vertical-align: middle;\n",
       "    }\n",
       "\n",
       "    .dataframe tbody tr th {\n",
       "        vertical-align: top;\n",
       "    }\n",
       "\n",
       "    .dataframe thead th {\n",
       "        text-align: right;\n",
       "    }\n",
       "</style>\n",
       "<table border=\"1\" class=\"dataframe\">\n",
       "  <thead>\n",
       "    <tr style=\"text-align: right;\">\n",
       "      <th></th>\n",
       "      <th>business_code</th>\n",
       "      <th>cust_number</th>\n",
       "      <th>name_customer</th>\n",
       "      <th>clear_date</th>\n",
       "      <th>buisness_year</th>\n",
       "      <th>document_create_date.1</th>\n",
       "      <th>due_in_date</th>\n",
       "      <th>document type</th>\n",
       "      <th>total_open_amount</th>\n",
       "      <th>cust_payment_terms</th>\n",
       "      <th>DELAY</th>\n",
       "      <th>document_create_date.1_month_quarter</th>\n",
       "      <th>document_create_date.1_day</th>\n",
       "      <th>document_create_date.1_month</th>\n",
       "      <th>due_in_date_month_quarter</th>\n",
       "      <th>due_in_date_month_day</th>\n",
       "      <th>due_in_date_month</th>\n",
       "    </tr>\n",
       "  </thead>\n",
       "  <tbody>\n",
       "    <tr>\n",
       "      <th>0</th>\n",
       "      <td>U001</td>\n",
       "      <td>0200726979</td>\n",
       "      <td>BJ'S  foundation</td>\n",
       "      <td>2019-01-15</td>\n",
       "      <td>2019</td>\n",
       "      <td>2018-12-30</td>\n",
       "      <td>2019-01-14</td>\n",
       "      <td>RV</td>\n",
       "      <td>42.04</td>\n",
       "      <td>NAA8</td>\n",
       "      <td>1</td>\n",
       "      <td>4</td>\n",
       "      <td>6</td>\n",
       "      <td>12</td>\n",
       "      <td>1</td>\n",
       "      <td>0</td>\n",
       "      <td>1</td>\n",
       "    </tr>\n",
       "    <tr>\n",
       "      <th>1</th>\n",
       "      <td>U001</td>\n",
       "      <td>0200726979</td>\n",
       "      <td>BJ'S  corporation</td>\n",
       "      <td>2019-01-15</td>\n",
       "      <td>2019</td>\n",
       "      <td>2018-12-30</td>\n",
       "      <td>2019-01-14</td>\n",
       "      <td>RV</td>\n",
       "      <td>53.25</td>\n",
       "      <td>NAA8</td>\n",
       "      <td>1</td>\n",
       "      <td>4</td>\n",
       "      <td>6</td>\n",
       "      <td>12</td>\n",
       "      <td>1</td>\n",
       "      <td>0</td>\n",
       "      <td>1</td>\n",
       "    </tr>\n",
       "    <tr>\n",
       "      <th>2</th>\n",
       "      <td>U001</td>\n",
       "      <td>0200769623</td>\n",
       "      <td>WAL-MAR us</td>\n",
       "      <td>2019-01-15</td>\n",
       "      <td>2019</td>\n",
       "      <td>2018-12-30</td>\n",
       "      <td>2019-01-14</td>\n",
       "      <td>RV</td>\n",
       "      <td>344.01</td>\n",
       "      <td>NAH4</td>\n",
       "      <td>1</td>\n",
       "      <td>4</td>\n",
       "      <td>6</td>\n",
       "      <td>12</td>\n",
       "      <td>1</td>\n",
       "      <td>0</td>\n",
       "      <td>1</td>\n",
       "    </tr>\n",
       "    <tr>\n",
       "      <th>3</th>\n",
       "      <td>U001</td>\n",
       "      <td>0200744019</td>\n",
       "      <td>TARG trust</td>\n",
       "      <td>2019-01-18</td>\n",
       "      <td>2019</td>\n",
       "      <td>2018-12-30</td>\n",
       "      <td>2019-01-14</td>\n",
       "      <td>RV</td>\n",
       "      <td>11982.59</td>\n",
       "      <td>NAA8</td>\n",
       "      <td>4</td>\n",
       "      <td>4</td>\n",
       "      <td>6</td>\n",
       "      <td>12</td>\n",
       "      <td>1</td>\n",
       "      <td>0</td>\n",
       "      <td>1</td>\n",
       "    </tr>\n",
       "    <tr>\n",
       "      <th>4</th>\n",
       "      <td>U001</td>\n",
       "      <td>0200769623</td>\n",
       "      <td>WAL-MAR co</td>\n",
       "      <td>2019-01-15</td>\n",
       "      <td>2019</td>\n",
       "      <td>2018-12-30</td>\n",
       "      <td>2019-01-14</td>\n",
       "      <td>RV</td>\n",
       "      <td>65940.47</td>\n",
       "      <td>NAH4</td>\n",
       "      <td>1</td>\n",
       "      <td>4</td>\n",
       "      <td>6</td>\n",
       "      <td>12</td>\n",
       "      <td>1</td>\n",
       "      <td>0</td>\n",
       "      <td>1</td>\n",
       "    </tr>\n",
       "  </tbody>\n",
       "</table>\n",
       "</div>"
      ],
      "text/plain": [
       "  business_code cust_number      name_customer clear_date  buisness_year  \\\n",
       "0          U001  0200726979   BJ'S  foundation 2019-01-15           2019   \n",
       "1          U001  0200726979  BJ'S  corporation 2019-01-15           2019   \n",
       "2          U001  0200769623         WAL-MAR us 2019-01-15           2019   \n",
       "3          U001  0200744019         TARG trust 2019-01-18           2019   \n",
       "4          U001  0200769623         WAL-MAR co 2019-01-15           2019   \n",
       "\n",
       "  document_create_date.1 due_in_date document type  total_open_amount  \\\n",
       "0             2018-12-30  2019-01-14            RV              42.04   \n",
       "1             2018-12-30  2019-01-14            RV              53.25   \n",
       "2             2018-12-30  2019-01-14            RV             344.01   \n",
       "3             2018-12-30  2019-01-14            RV           11982.59   \n",
       "4             2018-12-30  2019-01-14            RV           65940.47   \n",
       "\n",
       "  cust_payment_terms  DELAY  document_create_date.1_month_quarter  \\\n",
       "0               NAA8      1                                     4   \n",
       "1               NAA8      1                                     4   \n",
       "2               NAH4      1                                     4   \n",
       "3               NAA8      4                                     4   \n",
       "4               NAH4      1                                     4   \n",
       "\n",
       "   document_create_date.1_day  document_create_date.1_month  \\\n",
       "0                           6                            12   \n",
       "1                           6                            12   \n",
       "2                           6                            12   \n",
       "3                           6                            12   \n",
       "4                           6                            12   \n",
       "\n",
       "   due_in_date_month_quarter  due_in_date_month_day  due_in_date_month  \n",
       "0                          1                      0                  1  \n",
       "1                          1                      0                  1  \n",
       "2                          1                      0                  1  \n",
       "3                          1                      0                  1  \n",
       "4                          1                      0                  1  "
      ]
     },
     "execution_count": 49,
     "metadata": {},
     "output_type": "execute_result"
    }
   ],
   "source": [
    "Train.head()"
   ]
  },
  {
   "cell_type": "markdown",
   "id": "8301adaf",
   "metadata": {},
   "source": [
    "# EDA"
   ]
  },
  {
   "cell_type": "code",
   "execution_count": 50,
   "id": "d5bdcf26",
   "metadata": {},
   "outputs": [
    {
     "name": "stdout",
     "output_type": "stream",
     "text": [
      "6.267301730177616\n"
     ]
    },
    {
     "data": {
      "text/plain": [
       "<AxesSubplot:xlabel='DELAY', ylabel='Density'>"
      ]
     },
     "execution_count": 50,
     "metadata": {},
     "output_type": "execute_result"
    },
    {
     "data": {
      "image/png": "[encoded data removed]",
      "text/plain": [
       "<Figure size 432x288 with 1 Axes>"
      ]
     },
     "metadata": {
      "needs_background": "light"
     },
     "output_type": "display_data"
    }
   ],
   "source": [
    "print(Train['DELAY'].skew())\n",
    "sns.distplot(Train['DELAY']) "
   ]
  },
  {
   "cell_type": "raw",
   "id": "49be5269",
   "metadata": {},
   "source": [
    "This delay graph is left skewed as it a sharp graph with low extends  towards 250 states that having less outliers"
   ]
  },
  {
   "cell_type": "code",
   "execution_count": 51,
   "id": "e3be6804",
   "metadata": {},
   "outputs": [
    {
     "name": "stdout",
     "output_type": "stream",
     "text": [
      "1.999995783111647\n"
     ]
    },
    {
     "data": {
      "text/plain": [
       "<AxesSubplot:xlabel='total_open_amount', ylabel='Density'>"
      ]
     },
     "execution_count": 51,
     "metadata": {},
     "output_type": "execute_result"
    },
    {
     "data": {
      "image/png": "[encoded data removed]",
      "text/plain": [
       "<Figure size 432x288 with 1 Axes>"
      ]
     },
     "metadata": {
      "needs_background": "light"
     },
     "output_type": "display_data"
    }
   ],
   "source": [
    "print(Train['total_open_amount'].skew())\n",
    "sns.distplot(Train['total_open_amount']) "
   ]
  },
  {
   "cell_type": "raw",
   "id": "cd8f3c30",
   "metadata": {},
   "source": [
    "From this graph we can say that Total amount is left skewed and also it has quite lesser outliers that we can handle it through log fuction"
   ]
  },
  {
   "cell_type": "code",
   "execution_count": 52,
   "id": "2da5f859",
   "metadata": {},
   "outputs": [
    {
     "name": "stdout",
     "output_type": "stream",
     "text": [
      "-1.0034646769163373\n"
     ]
    },
    {
     "data": {
      "text/plain": [
       "<AxesSubplot:xlabel='total_open_amount', ylabel='Density'>"
      ]
     },
     "execution_count": 52,
     "metadata": {},
     "output_type": "execute_result"
    },
    {
     "data": {
      "image/png": "[encoded data removed]",
      "text/plain": [
       "<Figure size 432x288 with 1 Axes>"
      ]
     },
     "metadata": {
      "needs_background": "light"
     },
     "output_type": "display_data"
    }
   ],
   "source": [
    "x_log = np.log(Train['total_open_amount'])\n",
    "print(x_log.skew())\n",
    "sns.distplot(np.log(Train['total_open_amount']))\n"
   ]
  },
  {
   "cell_type": "code",
   "execution_count": 53,
   "id": "fe7dca5f",
   "metadata": {},
   "outputs": [
    {
     "name": "stdout",
     "output_type": "stream",
     "text": [
      "-0.12043085295489626\n"
     ]
    },
    {
     "data": {
      "text/plain": [
       "<AxesSubplot:ylabel='Density'>"
      ]
     },
     "execution_count": 53,
     "metadata": {},
     "output_type": "execute_result"
    },
    {
     "data": {
      "image/png": "[encoded data removed]",
      "text/plain": [
       "<Figure size 432x288 with 1 Axes>"
      ]
     },
     "metadata": {
      "needs_background": "light"
     },
     "output_type": "display_data"
    }
   ],
   "source": [
    "from scipy import stats\n",
    "x2 = stats.boxcox(Train['total_open_amount'])[0]\n",
    "x3 = pd.Series(x2)\n",
    "print(x3.skew())\n",
    "sns.distplot(x2) "
   ]
  },
  {
   "cell_type": "raw",
   "id": "b4ad73bb",
   "metadata": {},
   "source": [
    "we got a better gaussian distribution for better predictions"
   ]
  },
  {
   "cell_type": "code",
   "execution_count": null,
   "id": "f103db8a",
   "metadata": {},
   "outputs": [],
   "source": [
    "colormap = plt.cm.RdBu\n",
    "plt.figure(figsize=(14,12))\n",
    "plt.title('Pearson Correlation of Features', y=1.05, size=15)\n",
    "sns.heatmap(Train.drop('DELAY',axis =1).corr(),linewidths=0.1,vmax=1.0, \n",
    "            square=True, cmap=colormap, linecolor='white', annot=True)"
   ]
  },
  {
   "cell_type": "raw",
   "id": "29b1be22",
   "metadata": {},
   "source": [
    "Document create date and due date highly corelated this means  if we create our document early then our due-date to pay the amount  will also become early  "
   ]
  },
  {
   "cell_type": "code",
   "execution_count": 500,
   "id": "c1dd422d",
   "metadata": {},
   "outputs": [
    {
     "data": {
      "text/plain": [
       "<AxesSubplot:xlabel='total_open_amount', ylabel='DELAY'>"
      ]
     },
     "execution_count": 500,
     "metadata": {},
     "output_type": "execute_result"
    },
    {
     "data": {
      "image/png": "[encoded data removed]",
      "text/plain": [
       "<Figure size 432x288 with 1 Axes>"
      ]
     },
     "metadata": {
      "needs_background": "light"
     },
     "output_type": "display_data"
    }
   ],
   "source": [
    "Train.plot(x=\"total_open_amount\", y=\"DELAY\", kind=\"scatter\")"
   ]
  },
  {
   "cell_type": "raw",
   "id": "cc3099fe",
   "metadata": {},
   "source": [
    "This graph states that delay is more concentrated for amount having in range 0-200000 amount bill"
   ]
  },
  {
   "cell_type": "code",
   "execution_count": 501,
   "id": "197e9c07",
   "metadata": {},
   "outputs": [
    {
     "data": {
      "image/png": "[encoded data removed]",
      "text/plain": [
       "<Figure size 432x288 with 1 Axes>"
      ]
     },
     "metadata": {
      "needs_background": "light"
     },
     "output_type": "display_data"
    }
   ],
   "source": [
    "plt.plot_date(Train['business_code'], Train['DELAY'], )\n",
    "plt.show()"
   ]
  },
  {
   "cell_type": "markdown",
   "id": "c243866e",
   "metadata": {},
   "source": [
    "#### This Graph states that one having business code as U001 makes the highest delay in paying the dues"
   ]
  },
  {
   "cell_type": "markdown",
   "id": "e8126fc6",
   "metadata": {},
   "source": [
    "# Feature Engineering"
   ]
  },
  {
   "cell_type": "code",
   "execution_count": 502,
   "id": "a515fe7b",
   "metadata": {},
   "outputs": [],
   "source": [
    "#clear_date,document_create_date.1,due_in_date are dropped because they are catagorical date  column and can not be passed into model for training\n",
    "Train.drop(columns=['clear_date','document_create_date.1','due_in_date'],inplace=True)"
   ]
  },
  {
   "cell_type": "code",
   "execution_count": 503,
   "id": "d29c41b7",
   "metadata": {},
   "outputs": [
    {
     "data": {
      "text/html": [
       "<div>\n",
       "<style scoped>\n",
       "    .dataframe tbody tr th:only-of-type {\n",
       "        vertical-align: middle;\n",
       "    }\n",
       "\n",
       "    .dataframe tbody tr th {\n",
       "        vertical-align: top;\n",
       "    }\n",
       "\n",
       "    .dataframe thead th {\n",
       "        text-align: right;\n",
       "    }\n",
       "</style>\n",
       "<table border=\"1\" class=\"dataframe\">\n",
       "  <thead>\n",
       "    <tr style=\"text-align: right;\">\n",
       "      <th></th>\n",
       "      <th>business_code</th>\n",
       "      <th>cust_number</th>\n",
       "      <th>name_customer</th>\n",
       "      <th>buisness_year</th>\n",
       "      <th>document type</th>\n",
       "      <th>total_open_amount</th>\n",
       "      <th>cust_payment_terms</th>\n",
       "      <th>DELAY</th>\n",
       "      <th>document_create_date.1_month_quarter</th>\n",
       "      <th>document_create_date.1_day</th>\n",
       "      <th>document_create_date.1_month</th>\n",
       "      <th>due_in_date_month_quarter</th>\n",
       "      <th>due_in_date_month_day</th>\n",
       "      <th>due_in_date_month</th>\n",
       "    </tr>\n",
       "  </thead>\n",
       "  <tbody>\n",
       "    <tr>\n",
       "      <th>0</th>\n",
       "      <td>U001</td>\n",
       "      <td>0200726979</td>\n",
       "      <td>BJ'S  foundation</td>\n",
       "      <td>2019</td>\n",
       "      <td>RV</td>\n",
       "      <td>42.04</td>\n",
       "      <td>NAA8</td>\n",
       "      <td>1</td>\n",
       "      <td>4</td>\n",
       "      <td>6</td>\n",
       "      <td>12</td>\n",
       "      <td>1</td>\n",
       "      <td>0</td>\n",
       "      <td>1</td>\n",
       "    </tr>\n",
       "    <tr>\n",
       "      <th>1</th>\n",
       "      <td>U001</td>\n",
       "      <td>0200726979</td>\n",
       "      <td>BJ'S  corporation</td>\n",
       "      <td>2019</td>\n",
       "      <td>RV</td>\n",
       "      <td>53.25</td>\n",
       "      <td>NAA8</td>\n",
       "      <td>1</td>\n",
       "      <td>4</td>\n",
       "      <td>6</td>\n",
       "      <td>12</td>\n",
       "      <td>1</td>\n",
       "      <td>0</td>\n",
       "      <td>1</td>\n",
       "    </tr>\n",
       "    <tr>\n",
       "      <th>2</th>\n",
       "      <td>U001</td>\n",
       "      <td>0200769623</td>\n",
       "      <td>WAL-MAR us</td>\n",
       "      <td>2019</td>\n",
       "      <td>RV</td>\n",
       "      <td>344.01</td>\n",
       "      <td>NAH4</td>\n",
       "      <td>1</td>\n",
       "      <td>4</td>\n",
       "      <td>6</td>\n",
       "      <td>12</td>\n",
       "      <td>1</td>\n",
       "      <td>0</td>\n",
       "      <td>1</td>\n",
       "    </tr>\n",
       "    <tr>\n",
       "      <th>3</th>\n",
       "      <td>U001</td>\n",
       "      <td>0200744019</td>\n",
       "      <td>TARG trust</td>\n",
       "      <td>2019</td>\n",
       "      <td>RV</td>\n",
       "      <td>11982.59</td>\n",
       "      <td>NAA8</td>\n",
       "      <td>4</td>\n",
       "      <td>4</td>\n",
       "      <td>6</td>\n",
       "      <td>12</td>\n",
       "      <td>1</td>\n",
       "      <td>0</td>\n",
       "      <td>1</td>\n",
       "    </tr>\n",
       "    <tr>\n",
       "      <th>4</th>\n",
       "      <td>U001</td>\n",
       "      <td>0200769623</td>\n",
       "      <td>WAL-MAR co</td>\n",
       "      <td>2019</td>\n",
       "      <td>RV</td>\n",
       "      <td>65940.47</td>\n",
       "      <td>NAH4</td>\n",
       "      <td>1</td>\n",
       "      <td>4</td>\n",
       "      <td>6</td>\n",
       "      <td>12</td>\n",
       "      <td>1</td>\n",
       "      <td>0</td>\n",
       "      <td>1</td>\n",
       "    </tr>\n",
       "  </tbody>\n",
       "</table>\n",
       "</div>"
      ],
      "text/plain": [
       "  business_code cust_number      name_customer  buisness_year document type  \\\n",
       "0          U001  0200726979   BJ'S  foundation           2019            RV   \n",
       "1          U001  0200726979  BJ'S  corporation           2019            RV   \n",
       "2          U001  0200769623         WAL-MAR us           2019            RV   \n",
       "3          U001  0200744019         TARG trust           2019            RV   \n",
       "4          U001  0200769623         WAL-MAR co           2019            RV   \n",
       "\n",
       "   total_open_amount cust_payment_terms  DELAY  \\\n",
       "0              42.04               NAA8      1   \n",
       "1              53.25               NAA8      1   \n",
       "2             344.01               NAH4      1   \n",
       "3           11982.59               NAA8      4   \n",
       "4           65940.47               NAH4      1   \n",
       "\n",
       "   document_create_date.1_month_quarter  document_create_date.1_day  \\\n",
       "0                                     4                           6   \n",
       "1                                     4                           6   \n",
       "2                                     4                           6   \n",
       "3                                     4                           6   \n",
       "4                                     4                           6   \n",
       "\n",
       "   document_create_date.1_month  due_in_date_month_quarter  \\\n",
       "0                            12                          1   \n",
       "1                            12                          1   \n",
       "2                            12                          1   \n",
       "3                            12                          1   \n",
       "4                            12                          1   \n",
       "\n",
       "   due_in_date_month_day  due_in_date_month  \n",
       "0                      0                  1  \n",
       "1                      0                  1  \n",
       "2                      0                  1  \n",
       "3                      0                  1  \n",
       "4                      0                  1  "
      ]
     },
     "execution_count": 503,
     "metadata": {},
     "output_type": "execute_result"
    }
   ],
   "source": [
    "Train.head()"
   ]
  },
  {
   "cell_type": "code",
   "execution_count": 504,
   "id": "bf58e35f",
   "metadata": {},
   "outputs": [],
   "source": [
    "#since some features are catagorical  we have done label-encoding so that we can pass to model \n",
    "labelencoder = LabelEncoder()\n",
    "Train.iloc[:,0] = labelencoder.fit_transform(Train.iloc[:,0])\n",
    "Train.iloc[:,1] = labelencoder.fit_transform(Train.iloc[:,1])\n",
    "Train.iloc[:,3] = labelencoder.fit_transform(Train.iloc[:,3])\n",
    "Train.iloc[:,4] = labelencoder.fit_transform(Train.iloc[:,4])\n",
    "Train.iloc[:,6] = labelencoder.fit_transform(Train.iloc[:,6])"
   ]
  },
  {
   "cell_type": "code",
   "execution_count": 505,
   "id": "4ca1aa39",
   "metadata": {},
   "outputs": [
    {
     "data": {
      "text/html": [
       "<div>\n",
       "<style scoped>\n",
       "    .dataframe tbody tr th:only-of-type {\n",
       "        vertical-align: middle;\n",
       "    }\n",
       "\n",
       "    .dataframe tbody tr th {\n",
       "        vertical-align: top;\n",
       "    }\n",
       "\n",
       "    .dataframe thead th {\n",
       "        text-align: right;\n",
       "    }\n",
       "</style>\n",
       "<table border=\"1\" class=\"dataframe\">\n",
       "  <thead>\n",
       "    <tr style=\"text-align: right;\">\n",
       "      <th></th>\n",
       "      <th>business_code</th>\n",
       "      <th>cust_number</th>\n",
       "      <th>name_customer</th>\n",
       "      <th>buisness_year</th>\n",
       "      <th>document type</th>\n",
       "      <th>total_open_amount</th>\n",
       "      <th>cust_payment_terms</th>\n",
       "      <th>DELAY</th>\n",
       "      <th>document_create_date.1_month_quarter</th>\n",
       "      <th>document_create_date.1_day</th>\n",
       "      <th>document_create_date.1_month</th>\n",
       "      <th>due_in_date_month_quarter</th>\n",
       "      <th>due_in_date_month_day</th>\n",
       "      <th>due_in_date_month</th>\n",
       "    </tr>\n",
       "  </thead>\n",
       "  <tbody>\n",
       "    <tr>\n",
       "      <th>0</th>\n",
       "      <td>1</td>\n",
       "      <td>601</td>\n",
       "      <td>BJ'S  foundation</td>\n",
       "      <td>0</td>\n",
       "      <td>0</td>\n",
       "      <td>42.04</td>\n",
       "      <td>20</td>\n",
       "      <td>1</td>\n",
       "      <td>4</td>\n",
       "      <td>6</td>\n",
       "      <td>12</td>\n",
       "      <td>1</td>\n",
       "      <td>0</td>\n",
       "      <td>1</td>\n",
       "    </tr>\n",
       "    <tr>\n",
       "      <th>1</th>\n",
       "      <td>1</td>\n",
       "      <td>601</td>\n",
       "      <td>BJ'S  corporation</td>\n",
       "      <td>0</td>\n",
       "      <td>0</td>\n",
       "      <td>53.25</td>\n",
       "      <td>20</td>\n",
       "      <td>1</td>\n",
       "      <td>4</td>\n",
       "      <td>6</td>\n",
       "      <td>12</td>\n",
       "      <td>1</td>\n",
       "      <td>0</td>\n",
       "      <td>1</td>\n",
       "    </tr>\n",
       "    <tr>\n",
       "      <th>2</th>\n",
       "      <td>1</td>\n",
       "      <td>687</td>\n",
       "      <td>WAL-MAR us</td>\n",
       "      <td>0</td>\n",
       "      <td>0</td>\n",
       "      <td>344.01</td>\n",
       "      <td>33</td>\n",
       "      <td>1</td>\n",
       "      <td>4</td>\n",
       "      <td>6</td>\n",
       "      <td>12</td>\n",
       "      <td>1</td>\n",
       "      <td>0</td>\n",
       "      <td>1</td>\n",
       "    </tr>\n",
       "    <tr>\n",
       "      <th>3</th>\n",
       "      <td>1</td>\n",
       "      <td>640</td>\n",
       "      <td>TARG trust</td>\n",
       "      <td>0</td>\n",
       "      <td>0</td>\n",
       "      <td>11982.59</td>\n",
       "      <td>20</td>\n",
       "      <td>4</td>\n",
       "      <td>4</td>\n",
       "      <td>6</td>\n",
       "      <td>12</td>\n",
       "      <td>1</td>\n",
       "      <td>0</td>\n",
       "      <td>1</td>\n",
       "    </tr>\n",
       "    <tr>\n",
       "      <th>4</th>\n",
       "      <td>1</td>\n",
       "      <td>687</td>\n",
       "      <td>WAL-MAR co</td>\n",
       "      <td>0</td>\n",
       "      <td>0</td>\n",
       "      <td>65940.47</td>\n",
       "      <td>33</td>\n",
       "      <td>1</td>\n",
       "      <td>4</td>\n",
       "      <td>6</td>\n",
       "      <td>12</td>\n",
       "      <td>1</td>\n",
       "      <td>0</td>\n",
       "      <td>1</td>\n",
       "    </tr>\n",
       "  </tbody>\n",
       "</table>\n",
       "</div>"
      ],
      "text/plain": [
       "   business_code  cust_number      name_customer  buisness_year  \\\n",
       "0              1          601   BJ'S  foundation              0   \n",
       "1              1          601  BJ'S  corporation              0   \n",
       "2              1          687         WAL-MAR us              0   \n",
       "3              1          640         TARG trust              0   \n",
       "4              1          687         WAL-MAR co              0   \n",
       "\n",
       "   document type  total_open_amount  cust_payment_terms  DELAY  \\\n",
       "0              0              42.04                  20      1   \n",
       "1              0              53.25                  20      1   \n",
       "2              0             344.01                  33      1   \n",
       "3              0           11982.59                  20      4   \n",
       "4              0           65940.47                  33      1   \n",
       "\n",
       "   document_create_date.1_month_quarter  document_create_date.1_day  \\\n",
       "0                                     4                           6   \n",
       "1                                     4                           6   \n",
       "2                                     4                           6   \n",
       "3                                     4                           6   \n",
       "4                                     4                           6   \n",
       "\n",
       "   document_create_date.1_month  due_in_date_month_quarter  \\\n",
       "0                            12                          1   \n",
       "1                            12                          1   \n",
       "2                            12                          1   \n",
       "3                            12                          1   \n",
       "4                            12                          1   \n",
       "\n",
       "   due_in_date_month_day  due_in_date_month  \n",
       "0                      0                  1  \n",
       "1                      0                  1  \n",
       "2                      0                  1  \n",
       "3                      0                  1  \n",
       "4                      0                  1  "
      ]
     },
     "execution_count": 505,
     "metadata": {},
     "output_type": "execute_result"
    }
   ],
   "source": [
    "Train.head()"
   ]
  },
  {
   "cell_type": "code",
   "execution_count": 506,
   "id": "ba394f2d",
   "metadata": {},
   "outputs": [],
   "source": [
    "## We can drop customer name as it is depicted by customer number\n",
    "Train.drop('name_customer',inplace=True,axis=1)"
   ]
  },
  {
   "cell_type": "code",
   "execution_count": 507,
   "id": "f315dea4",
   "metadata": {},
   "outputs": [
    {
     "data": {
      "text/html": [
       "<div>\n",
       "<style scoped>\n",
       "    .dataframe tbody tr th:only-of-type {\n",
       "        vertical-align: middle;\n",
       "    }\n",
       "\n",
       "    .dataframe tbody tr th {\n",
       "        vertical-align: top;\n",
       "    }\n",
       "\n",
       "    .dataframe thead th {\n",
       "        text-align: right;\n",
       "    }\n",
       "</style>\n",
       "<table border=\"1\" class=\"dataframe\">\n",
       "  <thead>\n",
       "    <tr style=\"text-align: right;\">\n",
       "      <th></th>\n",
       "      <th>business_code</th>\n",
       "      <th>cust_number</th>\n",
       "      <th>buisness_year</th>\n",
       "      <th>document type</th>\n",
       "      <th>total_open_amount</th>\n",
       "      <th>cust_payment_terms</th>\n",
       "      <th>DELAY</th>\n",
       "      <th>document_create_date.1_month_quarter</th>\n",
       "      <th>document_create_date.1_day</th>\n",
       "      <th>document_create_date.1_month</th>\n",
       "      <th>due_in_date_month_quarter</th>\n",
       "      <th>due_in_date_month_day</th>\n",
       "      <th>due_in_date_month</th>\n",
       "    </tr>\n",
       "  </thead>\n",
       "  <tbody>\n",
       "    <tr>\n",
       "      <th>0</th>\n",
       "      <td>1</td>\n",
       "      <td>601</td>\n",
       "      <td>0</td>\n",
       "      <td>0</td>\n",
       "      <td>42.04</td>\n",
       "      <td>20</td>\n",
       "      <td>1</td>\n",
       "      <td>4</td>\n",
       "      <td>6</td>\n",
       "      <td>12</td>\n",
       "      <td>1</td>\n",
       "      <td>0</td>\n",
       "      <td>1</td>\n",
       "    </tr>\n",
       "    <tr>\n",
       "      <th>1</th>\n",
       "      <td>1</td>\n",
       "      <td>601</td>\n",
       "      <td>0</td>\n",
       "      <td>0</td>\n",
       "      <td>53.25</td>\n",
       "      <td>20</td>\n",
       "      <td>1</td>\n",
       "      <td>4</td>\n",
       "      <td>6</td>\n",
       "      <td>12</td>\n",
       "      <td>1</td>\n",
       "      <td>0</td>\n",
       "      <td>1</td>\n",
       "    </tr>\n",
       "    <tr>\n",
       "      <th>2</th>\n",
       "      <td>1</td>\n",
       "      <td>687</td>\n",
       "      <td>0</td>\n",
       "      <td>0</td>\n",
       "      <td>344.01</td>\n",
       "      <td>33</td>\n",
       "      <td>1</td>\n",
       "      <td>4</td>\n",
       "      <td>6</td>\n",
       "      <td>12</td>\n",
       "      <td>1</td>\n",
       "      <td>0</td>\n",
       "      <td>1</td>\n",
       "    </tr>\n",
       "    <tr>\n",
       "      <th>3</th>\n",
       "      <td>1</td>\n",
       "      <td>640</td>\n",
       "      <td>0</td>\n",
       "      <td>0</td>\n",
       "      <td>11982.59</td>\n",
       "      <td>20</td>\n",
       "      <td>4</td>\n",
       "      <td>4</td>\n",
       "      <td>6</td>\n",
       "      <td>12</td>\n",
       "      <td>1</td>\n",
       "      <td>0</td>\n",
       "      <td>1</td>\n",
       "    </tr>\n",
       "    <tr>\n",
       "      <th>4</th>\n",
       "      <td>1</td>\n",
       "      <td>687</td>\n",
       "      <td>0</td>\n",
       "      <td>0</td>\n",
       "      <td>65940.47</td>\n",
       "      <td>33</td>\n",
       "      <td>1</td>\n",
       "      <td>4</td>\n",
       "      <td>6</td>\n",
       "      <td>12</td>\n",
       "      <td>1</td>\n",
       "      <td>0</td>\n",
       "      <td>1</td>\n",
       "    </tr>\n",
       "  </tbody>\n",
       "</table>\n",
       "</div>"
      ],
      "text/plain": [
       "   business_code  cust_number  buisness_year  document type  \\\n",
       "0              1          601              0              0   \n",
       "1              1          601              0              0   \n",
       "2              1          687              0              0   \n",
       "3              1          640              0              0   \n",
       "4              1          687              0              0   \n",
       "\n",
       "   total_open_amount  cust_payment_terms  DELAY  \\\n",
       "0              42.04                  20      1   \n",
       "1              53.25                  20      1   \n",
       "2             344.01                  33      1   \n",
       "3           11982.59                  20      4   \n",
       "4           65940.47                  33      1   \n",
       "\n",
       "   document_create_date.1_month_quarter  document_create_date.1_day  \\\n",
       "0                                     4                           6   \n",
       "1                                     4                           6   \n",
       "2                                     4                           6   \n",
       "3                                     4                           6   \n",
       "4                                     4                           6   \n",
       "\n",
       "   document_create_date.1_month  due_in_date_month_quarter  \\\n",
       "0                            12                          1   \n",
       "1                            12                          1   \n",
       "2                            12                          1   \n",
       "3                            12                          1   \n",
       "4                            12                          1   \n",
       "\n",
       "   due_in_date_month_day  due_in_date_month  \n",
       "0                      0                  1  \n",
       "1                      0                  1  \n",
       "2                      0                  1  \n",
       "3                      0                  1  \n",
       "4                      0                  1  "
      ]
     },
     "execution_count": 507,
     "metadata": {},
     "output_type": "execute_result"
    }
   ],
   "source": [
    "Train.head()"
   ]
  },
  {
   "cell_type": "code",
   "execution_count": 508,
   "id": "27e4286a",
   "metadata": {},
   "outputs": [
    {
     "data": {
      "text/html": [
       "<div>\n",
       "<style scoped>\n",
       "    .dataframe tbody tr th:only-of-type {\n",
       "        vertical-align: middle;\n",
       "    }\n",
       "\n",
       "    .dataframe tbody tr th {\n",
       "        vertical-align: top;\n",
       "    }\n",
       "\n",
       "    .dataframe thead th {\n",
       "        text-align: right;\n",
       "    }\n",
       "</style>\n",
       "<table border=\"1\" class=\"dataframe\">\n",
       "  <thead>\n",
       "    <tr style=\"text-align: right;\">\n",
       "      <th></th>\n",
       "      <th>business_code</th>\n",
       "      <th>cust_number</th>\n",
       "      <th>buisness_year</th>\n",
       "      <th>document type</th>\n",
       "      <th>total_open_amount</th>\n",
       "      <th>cust_payment_terms</th>\n",
       "      <th>DELAY</th>\n",
       "      <th>document_create_date.1_month_quarter</th>\n",
       "      <th>document_create_date.1_day</th>\n",
       "      <th>document_create_date.1_month</th>\n",
       "      <th>due_in_date_month_quarter</th>\n",
       "      <th>due_in_date_month_day</th>\n",
       "      <th>due_in_date_month</th>\n",
       "    </tr>\n",
       "  </thead>\n",
       "  <tbody>\n",
       "    <tr>\n",
       "      <th>0</th>\n",
       "      <td>1</td>\n",
       "      <td>601</td>\n",
       "      <td>0</td>\n",
       "      <td>0</td>\n",
       "      <td>42.04</td>\n",
       "      <td>20</td>\n",
       "      <td>1</td>\n",
       "      <td>4</td>\n",
       "      <td>6</td>\n",
       "      <td>12</td>\n",
       "      <td>1</td>\n",
       "      <td>0</td>\n",
       "      <td>1</td>\n",
       "    </tr>\n",
       "    <tr>\n",
       "      <th>1</th>\n",
       "      <td>1</td>\n",
       "      <td>601</td>\n",
       "      <td>0</td>\n",
       "      <td>0</td>\n",
       "      <td>53.25</td>\n",
       "      <td>20</td>\n",
       "      <td>1</td>\n",
       "      <td>4</td>\n",
       "      <td>6</td>\n",
       "      <td>12</td>\n",
       "      <td>1</td>\n",
       "      <td>0</td>\n",
       "      <td>1</td>\n",
       "    </tr>\n",
       "    <tr>\n",
       "      <th>2</th>\n",
       "      <td>1</td>\n",
       "      <td>687</td>\n",
       "      <td>0</td>\n",
       "      <td>0</td>\n",
       "      <td>344.01</td>\n",
       "      <td>33</td>\n",
       "      <td>1</td>\n",
       "      <td>4</td>\n",
       "      <td>6</td>\n",
       "      <td>12</td>\n",
       "      <td>1</td>\n",
       "      <td>0</td>\n",
       "      <td>1</td>\n",
       "    </tr>\n",
       "    <tr>\n",
       "      <th>3</th>\n",
       "      <td>1</td>\n",
       "      <td>640</td>\n",
       "      <td>0</td>\n",
       "      <td>0</td>\n",
       "      <td>11982.59</td>\n",
       "      <td>20</td>\n",
       "      <td>4</td>\n",
       "      <td>4</td>\n",
       "      <td>6</td>\n",
       "      <td>12</td>\n",
       "      <td>1</td>\n",
       "      <td>0</td>\n",
       "      <td>1</td>\n",
       "    </tr>\n",
       "    <tr>\n",
       "      <th>4</th>\n",
       "      <td>1</td>\n",
       "      <td>687</td>\n",
       "      <td>0</td>\n",
       "      <td>0</td>\n",
       "      <td>65940.47</td>\n",
       "      <td>33</td>\n",
       "      <td>1</td>\n",
       "      <td>4</td>\n",
       "      <td>6</td>\n",
       "      <td>12</td>\n",
       "      <td>1</td>\n",
       "      <td>0</td>\n",
       "      <td>1</td>\n",
       "    </tr>\n",
       "  </tbody>\n",
       "</table>\n",
       "</div>"
      ],
      "text/plain": [
       "   business_code  cust_number  buisness_year  document type  \\\n",
       "0              1          601              0              0   \n",
       "1              1          601              0              0   \n",
       "2              1          687              0              0   \n",
       "3              1          640              0              0   \n",
       "4              1          687              0              0   \n",
       "\n",
       "   total_open_amount  cust_payment_terms  DELAY  \\\n",
       "0              42.04                  20      1   \n",
       "1              53.25                  20      1   \n",
       "2             344.01                  33      1   \n",
       "3           11982.59                  20      4   \n",
       "4           65940.47                  33      1   \n",
       "\n",
       "   document_create_date.1_month_quarter  document_create_date.1_day  \\\n",
       "0                                     4                           6   \n",
       "1                                     4                           6   \n",
       "2                                     4                           6   \n",
       "3                                     4                           6   \n",
       "4                                     4                           6   \n",
       "\n",
       "   document_create_date.1_month  due_in_date_month_quarter  \\\n",
       "0                            12                          1   \n",
       "1                            12                          1   \n",
       "2                            12                          1   \n",
       "3                            12                          1   \n",
       "4                            12                          1   \n",
       "\n",
       "   due_in_date_month_day  due_in_date_month  \n",
       "0                      0                  1  \n",
       "1                      0                  1  \n",
       "2                      0                  1  \n",
       "3                      0                  1  \n",
       "4                      0                  1  "
      ]
     },
     "execution_count": 508,
     "metadata": {},
     "output_type": "execute_result"
    }
   ],
   "source": [
    "Train.head()"
   ]
  },
  {
   "cell_type": "code",
   "execution_count": 509,
   "id": "9aeffce2",
   "metadata": {},
   "outputs": [
    {
     "data": {
      "text/html": [
       "<div>\n",
       "<style scoped>\n",
       "    .dataframe tbody tr th:only-of-type {\n",
       "        vertical-align: middle;\n",
       "    }\n",
       "\n",
       "    .dataframe tbody tr th {\n",
       "        vertical-align: top;\n",
       "    }\n",
       "\n",
       "    .dataframe thead th {\n",
       "        text-align: right;\n",
       "    }\n",
       "</style>\n",
       "<table border=\"1\" class=\"dataframe\">\n",
       "  <thead>\n",
       "    <tr style=\"text-align: right;\">\n",
       "      <th></th>\n",
       "      <th>business_code</th>\n",
       "      <th>cust_number</th>\n",
       "      <th>buisness_year</th>\n",
       "      <th>document type</th>\n",
       "      <th>total_open_amount</th>\n",
       "      <th>cust_payment_terms</th>\n",
       "      <th>DELAY</th>\n",
       "      <th>document_create_date.1_month_quarter</th>\n",
       "      <th>document_create_date.1_day</th>\n",
       "      <th>document_create_date.1_month</th>\n",
       "      <th>due_in_date_month_quarter</th>\n",
       "      <th>due_in_date_month_day</th>\n",
       "      <th>due_in_date_month</th>\n",
       "    </tr>\n",
       "  </thead>\n",
       "  <tbody>\n",
       "    <tr>\n",
       "      <th>0</th>\n",
       "      <td>1</td>\n",
       "      <td>601</td>\n",
       "      <td>0</td>\n",
       "      <td>0</td>\n",
       "      <td>42.04</td>\n",
       "      <td>20</td>\n",
       "      <td>1</td>\n",
       "      <td>4</td>\n",
       "      <td>6</td>\n",
       "      <td>12</td>\n",
       "      <td>1</td>\n",
       "      <td>0</td>\n",
       "      <td>1</td>\n",
       "    </tr>\n",
       "    <tr>\n",
       "      <th>1</th>\n",
       "      <td>1</td>\n",
       "      <td>601</td>\n",
       "      <td>0</td>\n",
       "      <td>0</td>\n",
       "      <td>53.25</td>\n",
       "      <td>20</td>\n",
       "      <td>1</td>\n",
       "      <td>4</td>\n",
       "      <td>6</td>\n",
       "      <td>12</td>\n",
       "      <td>1</td>\n",
       "      <td>0</td>\n",
       "      <td>1</td>\n",
       "    </tr>\n",
       "    <tr>\n",
       "      <th>2</th>\n",
       "      <td>1</td>\n",
       "      <td>687</td>\n",
       "      <td>0</td>\n",
       "      <td>0</td>\n",
       "      <td>344.01</td>\n",
       "      <td>33</td>\n",
       "      <td>1</td>\n",
       "      <td>4</td>\n",
       "      <td>6</td>\n",
       "      <td>12</td>\n",
       "      <td>1</td>\n",
       "      <td>0</td>\n",
       "      <td>1</td>\n",
       "    </tr>\n",
       "    <tr>\n",
       "      <th>3</th>\n",
       "      <td>1</td>\n",
       "      <td>640</td>\n",
       "      <td>0</td>\n",
       "      <td>0</td>\n",
       "      <td>11982.59</td>\n",
       "      <td>20</td>\n",
       "      <td>4</td>\n",
       "      <td>4</td>\n",
       "      <td>6</td>\n",
       "      <td>12</td>\n",
       "      <td>1</td>\n",
       "      <td>0</td>\n",
       "      <td>1</td>\n",
       "    </tr>\n",
       "    <tr>\n",
       "      <th>4</th>\n",
       "      <td>1</td>\n",
       "      <td>687</td>\n",
       "      <td>0</td>\n",
       "      <td>0</td>\n",
       "      <td>65940.47</td>\n",
       "      <td>33</td>\n",
       "      <td>1</td>\n",
       "      <td>4</td>\n",
       "      <td>6</td>\n",
       "      <td>12</td>\n",
       "      <td>1</td>\n",
       "      <td>0</td>\n",
       "      <td>1</td>\n",
       "    </tr>\n",
       "  </tbody>\n",
       "</table>\n",
       "</div>"
      ],
      "text/plain": [
       "   business_code  cust_number  buisness_year  document type  \\\n",
       "0              1          601              0              0   \n",
       "1              1          601              0              0   \n",
       "2              1          687              0              0   \n",
       "3              1          640              0              0   \n",
       "4              1          687              0              0   \n",
       "\n",
       "   total_open_amount  cust_payment_terms  DELAY  \\\n",
       "0              42.04                  20      1   \n",
       "1              53.25                  20      1   \n",
       "2             344.01                  33      1   \n",
       "3           11982.59                  20      4   \n",
       "4           65940.47                  33      1   \n",
       "\n",
       "   document_create_date.1_month_quarter  document_create_date.1_day  \\\n",
       "0                                     4                           6   \n",
       "1                                     4                           6   \n",
       "2                                     4                           6   \n",
       "3                                     4                           6   \n",
       "4                                     4                           6   \n",
       "\n",
       "   document_create_date.1_month  due_in_date_month_quarter  \\\n",
       "0                            12                          1   \n",
       "1                            12                          1   \n",
       "2                            12                          1   \n",
       "3                            12                          1   \n",
       "4                            12                          1   \n",
       "\n",
       "   due_in_date_month_day  due_in_date_month  \n",
       "0                      0                  1  \n",
       "1                      0                  1  \n",
       "2                      0                  1  \n",
       "3                      0                  1  \n",
       "4                      0                  1  "
      ]
     },
     "execution_count": 509,
     "metadata": {},
     "output_type": "execute_result"
    }
   ],
   "source": [
    "Train.head()"
   ]
  },
  {
   "cell_type": "code",
   "execution_count": 510,
   "id": "d3665bfc",
   "metadata": {},
   "outputs": [
    {
     "data": {
      "text/plain": [
       "business_code                             int32\n",
       "cust_number                               int32\n",
       "buisness_year                             int64\n",
       "document type                             int32\n",
       "total_open_amount                       float64\n",
       "cust_payment_terms                        int32\n",
       "DELAY                                     int64\n",
       "document_create_date.1_month_quarter      int64\n",
       "document_create_date.1_day                int64\n",
       "document_create_date.1_month              int64\n",
       "due_in_date_month_quarter                 int64\n",
       "due_in_date_month_day                     int64\n",
       "due_in_date_month                         int64\n",
       "dtype: object"
      ]
     },
     "execution_count": 510,
     "metadata": {},
     "output_type": "execute_result"
    }
   ],
   "source": [
    "Train.dtypes"
   ]
  },
  {
   "cell_type": "code",
   "execution_count": 511,
   "id": "78a72e86",
   "metadata": {},
   "outputs": [
    {
     "name": "stdout",
     "output_type": "stream",
     "text": [
      "<class 'pandas.core.frame.DataFrame'>\n",
      "Int64Index: 25194 entries, 0 to 40097\n",
      "Data columns (total 13 columns):\n",
      " #   Column                                Non-Null Count  Dtype  \n",
      "---  ------                                --------------  -----  \n",
      " 0   business_code                         25194 non-null  int32  \n",
      " 1   cust_number                           25194 non-null  int32  \n",
      " 2   buisness_year                         25194 non-null  int64  \n",
      " 3   document type                         25194 non-null  int32  \n",
      " 4   total_open_amount                     25194 non-null  float64\n",
      " 5   cust_payment_terms                    25194 non-null  int32  \n",
      " 6   DELAY                                 25194 non-null  int64  \n",
      " 7   document_create_date.1_month_quarter  25194 non-null  int64  \n",
      " 8   document_create_date.1_day            25194 non-null  int64  \n",
      " 9   document_create_date.1_month          25194 non-null  int64  \n",
      " 10  due_in_date_month_quarter             25194 non-null  int64  \n",
      " 11  due_in_date_month_day                 25194 non-null  int64  \n",
      " 12  due_in_date_month                     25194 non-null  int64  \n",
      "dtypes: float64(1), int32(4), int64(8)\n",
      "memory usage: 2.3 MB\n"
     ]
    }
   ],
   "source": [
    "Train.info()"
   ]
  },
  {
   "cell_type": "code",
   "execution_count": 512,
   "id": "8140c44d",
   "metadata": {},
   "outputs": [
    {
     "data": {
      "text/plain": [
       "business_code                             int32\n",
       "cust_number                               int32\n",
       "buisness_year                             int64\n",
       "document type                             int32\n",
       "total_open_amount                       float64\n",
       "cust_payment_terms                        int32\n",
       "DELAY                                     int64\n",
       "document_create_date.1_month_quarter      int64\n",
       "document_create_date.1_day                int64\n",
       "document_create_date.1_month              int64\n",
       "due_in_date_month_quarter                 int64\n",
       "due_in_date_month_day                     int64\n",
       "due_in_date_month                         int64\n",
       "dtype: object"
      ]
     },
     "execution_count": 512,
     "metadata": {},
     "output_type": "execute_result"
    }
   ],
   "source": [
    "Train.dtypes"
   ]
  },
  {
   "cell_type": "markdown",
   "id": "b6ea42db",
   "metadata": {},
   "source": [
    "# Mapping the features in Main test set for predictions"
   ]
  },
  {
   "cell_type": "code",
   "execution_count": 513,
   "id": "cf1b30dd",
   "metadata": {},
   "outputs": [
    {
     "data": {
      "text/html": [
       "<div>\n",
       "<style scoped>\n",
       "    .dataframe tbody tr th:only-of-type {\n",
       "        vertical-align: middle;\n",
       "    }\n",
       "\n",
       "    .dataframe tbody tr th {\n",
       "        vertical-align: top;\n",
       "    }\n",
       "\n",
       "    .dataframe thead th {\n",
       "        text-align: right;\n",
       "    }\n",
       "</style>\n",
       "<table border=\"1\" class=\"dataframe\">\n",
       "  <thead>\n",
       "    <tr style=\"text-align: right;\">\n",
       "      <th></th>\n",
       "      <th>business_code</th>\n",
       "      <th>cust_number</th>\n",
       "      <th>name_customer</th>\n",
       "      <th>clear_date</th>\n",
       "      <th>buisness_year</th>\n",
       "      <th>document_create_date.1</th>\n",
       "      <th>due_in_date</th>\n",
       "      <th>document type</th>\n",
       "      <th>total_open_amount</th>\n",
       "      <th>baseline_create_date</th>\n",
       "      <th>cust_payment_terms</th>\n",
       "      <th>isOpen</th>\n",
       "    </tr>\n",
       "  </thead>\n",
       "  <tbody>\n",
       "    <tr>\n",
       "      <th>39994</th>\n",
       "      <td>U001</td>\n",
       "      <td>0200769623</td>\n",
       "      <td>WAL-MAR foundation</td>\n",
       "      <td>NaT</td>\n",
       "      <td>2020</td>\n",
       "      <td>2020-02-27</td>\n",
       "      <td>2020-03-13</td>\n",
       "      <td>RV</td>\n",
       "      <td>471.56</td>\n",
       "      <td>2020-03-13</td>\n",
       "      <td>NAH4</td>\n",
       "      <td>1</td>\n",
       "    </tr>\n",
       "    <tr>\n",
       "      <th>39995</th>\n",
       "      <td>U001</td>\n",
       "      <td>0200418007</td>\n",
       "      <td>AM llc</td>\n",
       "      <td>NaT</td>\n",
       "      <td>2020</td>\n",
       "      <td>2020-02-27</td>\n",
       "      <td>2020-03-13</td>\n",
       "      <td>RV</td>\n",
       "      <td>1215.32</td>\n",
       "      <td>2020-03-13</td>\n",
       "      <td>NAA8</td>\n",
       "      <td>1</td>\n",
       "    </tr>\n",
       "    <tr>\n",
       "      <th>39996</th>\n",
       "      <td>U001</td>\n",
       "      <td>0200782001</td>\n",
       "      <td>GORDO</td>\n",
       "      <td>NaT</td>\n",
       "      <td>2020</td>\n",
       "      <td>2020-02-27</td>\n",
       "      <td>2020-03-13</td>\n",
       "      <td>RV</td>\n",
       "      <td>37980.09</td>\n",
       "      <td>2020-03-13</td>\n",
       "      <td>NAA8</td>\n",
       "      <td>1</td>\n",
       "    </tr>\n",
       "    <tr>\n",
       "      <th>39997</th>\n",
       "      <td>U001</td>\n",
       "      <td>0200799367</td>\n",
       "      <td>MCL systems</td>\n",
       "      <td>NaT</td>\n",
       "      <td>2020</td>\n",
       "      <td>2020-02-27</td>\n",
       "      <td>2020-03-13</td>\n",
       "      <td>RV</td>\n",
       "      <td>8690.06</td>\n",
       "      <td>2020-03-13</td>\n",
       "      <td>NAA8</td>\n",
       "      <td>1</td>\n",
       "    </tr>\n",
       "    <tr>\n",
       "      <th>39998</th>\n",
       "      <td>U001</td>\n",
       "      <td>0200290370</td>\n",
       "      <td>BARGAIN  llc</td>\n",
       "      <td>NaT</td>\n",
       "      <td>2020</td>\n",
       "      <td>2020-02-27</td>\n",
       "      <td>2020-03-13</td>\n",
       "      <td>RV</td>\n",
       "      <td>16865.11</td>\n",
       "      <td>2020-03-13</td>\n",
       "      <td>NAA8</td>\n",
       "      <td>1</td>\n",
       "    </tr>\n",
       "  </tbody>\n",
       "</table>\n",
       "</div>"
      ],
      "text/plain": [
       "      business_code cust_number       name_customer clear_date  buisness_year  \\\n",
       "39994          U001  0200769623  WAL-MAR foundation        NaT           2020   \n",
       "39995          U001  0200418007              AM llc        NaT           2020   \n",
       "39996          U001  0200782001              GORDO         NaT           2020   \n",
       "39997          U001  0200799367         MCL systems        NaT           2020   \n",
       "39998          U001  0200290370        BARGAIN  llc        NaT           2020   \n",
       "\n",
       "      document_create_date.1 due_in_date document type  total_open_amount  \\\n",
       "39994             2020-02-27  2020-03-13            RV             471.56   \n",
       "39995             2020-02-27  2020-03-13            RV            1215.32   \n",
       "39996             2020-02-27  2020-03-13            RV           37980.09   \n",
       "39997             2020-02-27  2020-03-13            RV            8690.06   \n",
       "39998             2020-02-27  2020-03-13            RV           16865.11   \n",
       "\n",
       "      baseline_create_date cust_payment_terms  isOpen  \n",
       "39994           2020-03-13               NAH4       1  \n",
       "39995           2020-03-13               NAA8       1  \n",
       "39996           2020-03-13               NAA8       1  \n",
       "39997           2020-03-13               NAA8       1  \n",
       "39998           2020-03-13               NAA8       1  "
      ]
     },
     "execution_count": 513,
     "metadata": {},
     "output_type": "execute_result"
    }
   ],
   "source": [
    "Test.head()"
   ]
  },
  {
   "cell_type": "code",
   "execution_count": 514,
   "id": "95daedda",
   "metadata": {},
   "outputs": [
    {
     "data": {
      "text/html": [
       "<div>\n",
       "<style scoped>\n",
       "    .dataframe tbody tr th:only-of-type {\n",
       "        vertical-align: middle;\n",
       "    }\n",
       "\n",
       "    .dataframe tbody tr th {\n",
       "        vertical-align: top;\n",
       "    }\n",
       "\n",
       "    .dataframe thead th {\n",
       "        text-align: right;\n",
       "    }\n",
       "</style>\n",
       "<table border=\"1\" class=\"dataframe\">\n",
       "  <thead>\n",
       "    <tr style=\"text-align: right;\">\n",
       "      <th></th>\n",
       "      <th>business_code</th>\n",
       "      <th>cust_number</th>\n",
       "      <th>name_customer</th>\n",
       "      <th>clear_date</th>\n",
       "      <th>buisness_year</th>\n",
       "      <th>document_create_date.1</th>\n",
       "      <th>due_in_date</th>\n",
       "      <th>document type</th>\n",
       "      <th>total_open_amount</th>\n",
       "      <th>baseline_create_date</th>\n",
       "      <th>cust_payment_terms</th>\n",
       "      <th>isOpen</th>\n",
       "    </tr>\n",
       "  </thead>\n",
       "  <tbody>\n",
       "    <tr>\n",
       "      <th>39994</th>\n",
       "      <td>U001</td>\n",
       "      <td>0200769623</td>\n",
       "      <td>WAL-MAR foundation</td>\n",
       "      <td>NaT</td>\n",
       "      <td>2020</td>\n",
       "      <td>2020-02-27</td>\n",
       "      <td>2020-03-13</td>\n",
       "      <td>RV</td>\n",
       "      <td>471.56</td>\n",
       "      <td>2020-03-13</td>\n",
       "      <td>NAH4</td>\n",
       "      <td>1</td>\n",
       "    </tr>\n",
       "    <tr>\n",
       "      <th>39995</th>\n",
       "      <td>U001</td>\n",
       "      <td>0200418007</td>\n",
       "      <td>AM llc</td>\n",
       "      <td>NaT</td>\n",
       "      <td>2020</td>\n",
       "      <td>2020-02-27</td>\n",
       "      <td>2020-03-13</td>\n",
       "      <td>RV</td>\n",
       "      <td>1215.32</td>\n",
       "      <td>2020-03-13</td>\n",
       "      <td>NAA8</td>\n",
       "      <td>1</td>\n",
       "    </tr>\n",
       "    <tr>\n",
       "      <th>39996</th>\n",
       "      <td>U001</td>\n",
       "      <td>0200782001</td>\n",
       "      <td>GORDO</td>\n",
       "      <td>NaT</td>\n",
       "      <td>2020</td>\n",
       "      <td>2020-02-27</td>\n",
       "      <td>2020-03-13</td>\n",
       "      <td>RV</td>\n",
       "      <td>37980.09</td>\n",
       "      <td>2020-03-13</td>\n",
       "      <td>NAA8</td>\n",
       "      <td>1</td>\n",
       "    </tr>\n",
       "    <tr>\n",
       "      <th>39997</th>\n",
       "      <td>U001</td>\n",
       "      <td>0200799367</td>\n",
       "      <td>MCL systems</td>\n",
       "      <td>NaT</td>\n",
       "      <td>2020</td>\n",
       "      <td>2020-02-27</td>\n",
       "      <td>2020-03-13</td>\n",
       "      <td>RV</td>\n",
       "      <td>8690.06</td>\n",
       "      <td>2020-03-13</td>\n",
       "      <td>NAA8</td>\n",
       "      <td>1</td>\n",
       "    </tr>\n",
       "    <tr>\n",
       "      <th>39998</th>\n",
       "      <td>U001</td>\n",
       "      <td>0200290370</td>\n",
       "      <td>BARGAIN  llc</td>\n",
       "      <td>NaT</td>\n",
       "      <td>2020</td>\n",
       "      <td>2020-02-27</td>\n",
       "      <td>2020-03-13</td>\n",
       "      <td>RV</td>\n",
       "      <td>16865.11</td>\n",
       "      <td>2020-03-13</td>\n",
       "      <td>NAA8</td>\n",
       "      <td>1</td>\n",
       "    </tr>\n",
       "  </tbody>\n",
       "</table>\n",
       "</div>"
      ],
      "text/plain": [
       "      business_code cust_number       name_customer clear_date  buisness_year  \\\n",
       "39994          U001  0200769623  WAL-MAR foundation        NaT           2020   \n",
       "39995          U001  0200418007              AM llc        NaT           2020   \n",
       "39996          U001  0200782001              GORDO         NaT           2020   \n",
       "39997          U001  0200799367         MCL systems        NaT           2020   \n",
       "39998          U001  0200290370        BARGAIN  llc        NaT           2020   \n",
       "\n",
       "      document_create_date.1 due_in_date document type  total_open_amount  \\\n",
       "39994             2020-02-27  2020-03-13            RV             471.56   \n",
       "39995             2020-02-27  2020-03-13            RV            1215.32   \n",
       "39996             2020-02-27  2020-03-13            RV           37980.09   \n",
       "39997             2020-02-27  2020-03-13            RV            8690.06   \n",
       "39998             2020-02-27  2020-03-13            RV           16865.11   \n",
       "\n",
       "      baseline_create_date cust_payment_terms  isOpen  \n",
       "39994           2020-03-13               NAH4       1  \n",
       "39995           2020-03-13               NAA8       1  \n",
       "39996           2020-03-13               NAA8       1  \n",
       "39997           2020-03-13               NAA8       1  \n",
       "39998           2020-03-13               NAA8       1  "
      ]
     },
     "execution_count": 514,
     "metadata": {},
     "output_type": "execute_result"
    }
   ],
   "source": [
    "Test.head()"
   ]
  },
  {
   "cell_type": "code",
   "execution_count": 515,
   "id": "8946ed35",
   "metadata": {},
   "outputs": [],
   "source": [
    "#dropping the features \n",
    "Test.drop(['name_customer','isOpen'],axis =1,inplace =True)"
   ]
  },
  {
   "cell_type": "code",
   "execution_count": 516,
   "id": "183a1d5e",
   "metadata": {},
   "outputs": [
    {
     "data": {
      "text/plain": [
       "business_code                     object\n",
       "cust_number                       object\n",
       "clear_date                datetime64[ns]\n",
       "buisness_year                      int32\n",
       "document_create_date.1    datetime64[ns]\n",
       "due_in_date               datetime64[ns]\n",
       "document type                     object\n",
       "total_open_amount                float64\n",
       "baseline_create_date      datetime64[ns]\n",
       "cust_payment_terms                object\n",
       "dtype: object"
      ]
     },
     "execution_count": 516,
     "metadata": {},
     "output_type": "execute_result"
    }
   ],
   "source": [
    "Test.dtypes"
   ]
  },
  {
   "cell_type": "code",
   "execution_count": 517,
   "id": "fb042f26",
   "metadata": {},
   "outputs": [],
   "source": [
    "#segregating the date columns into day , months and year \n",
    "Test['document_create_date.1_month_quarter'] = Test['document_create_date.1'].dt.quarter\n",
    "Test['document_create_date.1_day'] = Test['document_create_date.1'].dt.dayofweek\n",
    "Test['document_create_date.1_month'] = Test['document_create_date.1'].dt.month\n",
    "Test['due_in_date_month_quarter'] =Test['due_in_date'].dt.quarter\n",
    "Test['due_in_date_month_day'] =Test['due_in_date'].dt.dayofweek\n",
    "Test['due_in_date_month'] =Test['due_in_date'].dt.month"
   ]
  },
  {
   "cell_type": "code",
   "execution_count": 518,
   "id": "1f63fa03",
   "metadata": {},
   "outputs": [
    {
     "data": {
      "text/plain": [
       "business_code                                   object\n",
       "cust_number                                     object\n",
       "clear_date                              datetime64[ns]\n",
       "buisness_year                                    int32\n",
       "document_create_date.1                  datetime64[ns]\n",
       "due_in_date                             datetime64[ns]\n",
       "document type                                   object\n",
       "total_open_amount                              float64\n",
       "baseline_create_date                    datetime64[ns]\n",
       "cust_payment_terms                              object\n",
       "document_create_date.1_month_quarter             int64\n",
       "document_create_date.1_day                       int64\n",
       "document_create_date.1_month                     int64\n",
       "due_in_date_month_quarter                        int64\n",
       "due_in_date_month_day                            int64\n",
       "due_in_date_month                                int64\n",
       "dtype: object"
      ]
     },
     "execution_count": 518,
     "metadata": {},
     "output_type": "execute_result"
    }
   ],
   "source": [
    "Test.dtypes"
   ]
  },
  {
   "cell_type": "code",
   "execution_count": 519,
   "id": "eb45e873",
   "metadata": {},
   "outputs": [],
   "source": [
    "#clear_date,document_create_date.1,due_in_date are dropped because they are  date column and can not be passed into model for training\n",
    "Test.drop(columns=['clear_date','document_create_date.1','due_in_date'],axis =1,inplace=True)"
   ]
  },
  {
   "cell_type": "code",
   "execution_count": 520,
   "id": "41e9c50b",
   "metadata": {},
   "outputs": [
    {
     "name": "stdout",
     "output_type": "stream",
     "text": [
      "<class 'pandas.core.frame.DataFrame'>\n",
      "Int64Index: 10000 entries, 39994 to 49999\n",
      "Data columns (total 13 columns):\n",
      " #   Column                                Non-Null Count  Dtype         \n",
      "---  ------                                --------------  -----         \n",
      " 0   business_code                         10000 non-null  object        \n",
      " 1   cust_number                           10000 non-null  object        \n",
      " 2   buisness_year                         10000 non-null  int32         \n",
      " 3   document type                         10000 non-null  object        \n",
      " 4   total_open_amount                     10000 non-null  float64       \n",
      " 5   baseline_create_date                  10000 non-null  datetime64[ns]\n",
      " 6   cust_payment_terms                    10000 non-null  object        \n",
      " 7   document_create_date.1_month_quarter  10000 non-null  int64         \n",
      " 8   document_create_date.1_day            10000 non-null  int64         \n",
      " 9   document_create_date.1_month          10000 non-null  int64         \n",
      " 10  due_in_date_month_quarter             10000 non-null  int64         \n",
      " 11  due_in_date_month_day                 10000 non-null  int64         \n",
      " 12  due_in_date_month                     10000 non-null  int64         \n",
      "dtypes: datetime64[ns](1), float64(1), int32(1), int64(6), object(4)\n",
      "memory usage: 1.0+ MB\n"
     ]
    }
   ],
   "source": [
    "Test.info()"
   ]
  },
  {
   "cell_type": "code",
   "execution_count": 521,
   "id": "a23970a5",
   "metadata": {},
   "outputs": [
    {
     "name": "stdout",
     "output_type": "stream",
     "text": [
      "<class 'pandas.core.frame.DataFrame'>\n",
      "Int64Index: 10000 entries, 39994 to 49999\n",
      "Data columns (total 13 columns):\n",
      " #   Column                                Non-Null Count  Dtype         \n",
      "---  ------                                --------------  -----         \n",
      " 0   business_code                         10000 non-null  object        \n",
      " 1   cust_number                           10000 non-null  object        \n",
      " 2   buisness_year                         10000 non-null  int32         \n",
      " 3   document type                         10000 non-null  object        \n",
      " 4   total_open_amount                     10000 non-null  float64       \n",
      " 5   baseline_create_date                  10000 non-null  datetime64[ns]\n",
      " 6   cust_payment_terms                    10000 non-null  object        \n",
      " 7   document_create_date.1_month_quarter  10000 non-null  int64         \n",
      " 8   document_create_date.1_day            10000 non-null  int64         \n",
      " 9   document_create_date.1_month          10000 non-null  int64         \n",
      " 10  due_in_date_month_quarter             10000 non-null  int64         \n",
      " 11  due_in_date_month_day                 10000 non-null  int64         \n",
      " 12  due_in_date_month                     10000 non-null  int64         \n",
      "dtypes: datetime64[ns](1), float64(1), int32(1), int64(6), object(4)\n",
      "memory usage: 1.0+ MB\n"
     ]
    }
   ],
   "source": [
    "Test.info()"
   ]
  },
  {
   "cell_type": "code",
   "execution_count": 522,
   "id": "cb4854ba",
   "metadata": {},
   "outputs": [
    {
     "data": {
      "text/html": [
       "<div>\n",
       "<style scoped>\n",
       "    .dataframe tbody tr th:only-of-type {\n",
       "        vertical-align: middle;\n",
       "    }\n",
       "\n",
       "    .dataframe tbody tr th {\n",
       "        vertical-align: top;\n",
       "    }\n",
       "\n",
       "    .dataframe thead th {\n",
       "        text-align: right;\n",
       "    }\n",
       "</style>\n",
       "<table border=\"1\" class=\"dataframe\">\n",
       "  <thead>\n",
       "    <tr style=\"text-align: right;\">\n",
       "      <th></th>\n",
       "      <th>business_code</th>\n",
       "      <th>cust_number</th>\n",
       "      <th>buisness_year</th>\n",
       "      <th>document type</th>\n",
       "      <th>total_open_amount</th>\n",
       "      <th>baseline_create_date</th>\n",
       "      <th>cust_payment_terms</th>\n",
       "      <th>document_create_date.1_month_quarter</th>\n",
       "      <th>document_create_date.1_day</th>\n",
       "      <th>document_create_date.1_month</th>\n",
       "      <th>due_in_date_month_quarter</th>\n",
       "      <th>due_in_date_month_day</th>\n",
       "      <th>due_in_date_month</th>\n",
       "    </tr>\n",
       "  </thead>\n",
       "  <tbody>\n",
       "    <tr>\n",
       "      <th>39994</th>\n",
       "      <td>U001</td>\n",
       "      <td>0200769623</td>\n",
       "      <td>2020</td>\n",
       "      <td>RV</td>\n",
       "      <td>471.56</td>\n",
       "      <td>2020-03-13</td>\n",
       "      <td>NAH4</td>\n",
       "      <td>1</td>\n",
       "      <td>3</td>\n",
       "      <td>2</td>\n",
       "      <td>1</td>\n",
       "      <td>4</td>\n",
       "      <td>3</td>\n",
       "    </tr>\n",
       "    <tr>\n",
       "      <th>39995</th>\n",
       "      <td>U001</td>\n",
       "      <td>0200418007</td>\n",
       "      <td>2020</td>\n",
       "      <td>RV</td>\n",
       "      <td>1215.32</td>\n",
       "      <td>2020-03-13</td>\n",
       "      <td>NAA8</td>\n",
       "      <td>1</td>\n",
       "      <td>3</td>\n",
       "      <td>2</td>\n",
       "      <td>1</td>\n",
       "      <td>4</td>\n",
       "      <td>3</td>\n",
       "    </tr>\n",
       "    <tr>\n",
       "      <th>39996</th>\n",
       "      <td>U001</td>\n",
       "      <td>0200782001</td>\n",
       "      <td>2020</td>\n",
       "      <td>RV</td>\n",
       "      <td>37980.09</td>\n",
       "      <td>2020-03-13</td>\n",
       "      <td>NAA8</td>\n",
       "      <td>1</td>\n",
       "      <td>3</td>\n",
       "      <td>2</td>\n",
       "      <td>1</td>\n",
       "      <td>4</td>\n",
       "      <td>3</td>\n",
       "    </tr>\n",
       "    <tr>\n",
       "      <th>39997</th>\n",
       "      <td>U001</td>\n",
       "      <td>0200799367</td>\n",
       "      <td>2020</td>\n",
       "      <td>RV</td>\n",
       "      <td>8690.06</td>\n",
       "      <td>2020-03-13</td>\n",
       "      <td>NAA8</td>\n",
       "      <td>1</td>\n",
       "      <td>3</td>\n",
       "      <td>2</td>\n",
       "      <td>1</td>\n",
       "      <td>4</td>\n",
       "      <td>3</td>\n",
       "    </tr>\n",
       "    <tr>\n",
       "      <th>39998</th>\n",
       "      <td>U001</td>\n",
       "      <td>0200290370</td>\n",
       "      <td>2020</td>\n",
       "      <td>RV</td>\n",
       "      <td>16865.11</td>\n",
       "      <td>2020-03-13</td>\n",
       "      <td>NAA8</td>\n",
       "      <td>1</td>\n",
       "      <td>3</td>\n",
       "      <td>2</td>\n",
       "      <td>1</td>\n",
       "      <td>4</td>\n",
       "      <td>3</td>\n",
       "    </tr>\n",
       "  </tbody>\n",
       "</table>\n",
       "</div>"
      ],
      "text/plain": [
       "      business_code cust_number  buisness_year document type  \\\n",
       "39994          U001  0200769623           2020            RV   \n",
       "39995          U001  0200418007           2020            RV   \n",
       "39996          U001  0200782001           2020            RV   \n",
       "39997          U001  0200799367           2020            RV   \n",
       "39998          U001  0200290370           2020            RV   \n",
       "\n",
       "       total_open_amount baseline_create_date cust_payment_terms  \\\n",
       "39994             471.56           2020-03-13               NAH4   \n",
       "39995            1215.32           2020-03-13               NAA8   \n",
       "39996           37980.09           2020-03-13               NAA8   \n",
       "39997            8690.06           2020-03-13               NAA8   \n",
       "39998           16865.11           2020-03-13               NAA8   \n",
       "\n",
       "       document_create_date.1_month_quarter  document_create_date.1_day  \\\n",
       "39994                                     1                           3   \n",
       "39995                                     1                           3   \n",
       "39996                                     1                           3   \n",
       "39997                                     1                           3   \n",
       "39998                                     1                           3   \n",
       "\n",
       "       document_create_date.1_month  due_in_date_month_quarter  \\\n",
       "39994                             2                          1   \n",
       "39995                             2                          1   \n",
       "39996                             2                          1   \n",
       "39997                             2                          1   \n",
       "39998                             2                          1   \n",
       "\n",
       "       due_in_date_month_day  due_in_date_month  \n",
       "39994                      4                  3  \n",
       "39995                      4                  3  \n",
       "39996                      4                  3  \n",
       "39997                      4                  3  \n",
       "39998                      4                  3  "
      ]
     },
     "execution_count": 522,
     "metadata": {},
     "output_type": "execute_result"
    }
   ],
   "source": [
    "Test.head()"
   ]
  },
  {
   "cell_type": "code",
   "execution_count": 523,
   "id": "50e141f8",
   "metadata": {},
   "outputs": [],
   "source": [
    "#Label encoding the object fetures\n",
    "labelencoder = LabelEncoder()\n",
    "Test.iloc[:,0] = labelencoder.fit_transform(Test.iloc[:,0])\n",
    "Test.iloc[:,1] = labelencoder.fit_transform(Test.iloc[:,1])\n",
    "Test.iloc[:,3] = labelencoder.fit_transform(Test.iloc[:,3])\n",
    "Test.iloc[:,6] = labelencoder.fit_transform(Test.iloc[:,6])"
   ]
  },
  {
   "cell_type": "code",
   "execution_count": 524,
   "id": "7e7d9dc3",
   "metadata": {},
   "outputs": [
    {
     "name": "stdout",
     "output_type": "stream",
     "text": [
      "<class 'pandas.core.frame.DataFrame'>\n",
      "Int64Index: 10000 entries, 39994 to 49999\n",
      "Data columns (total 13 columns):\n",
      " #   Column                                Non-Null Count  Dtype         \n",
      "---  ------                                --------------  -----         \n",
      " 0   business_code                         10000 non-null  int32         \n",
      " 1   cust_number                           10000 non-null  int32         \n",
      " 2   buisness_year                         10000 non-null  int32         \n",
      " 3   document type                         10000 non-null  int32         \n",
      " 4   total_open_amount                     10000 non-null  float64       \n",
      " 5   baseline_create_date                  10000 non-null  datetime64[ns]\n",
      " 6   cust_payment_terms                    10000 non-null  int32         \n",
      " 7   document_create_date.1_month_quarter  10000 non-null  int64         \n",
      " 8   document_create_date.1_day            10000 non-null  int64         \n",
      " 9   document_create_date.1_month          10000 non-null  int64         \n",
      " 10  due_in_date_month_quarter             10000 non-null  int64         \n",
      " 11  due_in_date_month_day                 10000 non-null  int64         \n",
      " 12  due_in_date_month                     10000 non-null  int64         \n",
      "dtypes: datetime64[ns](1), float64(1), int32(5), int64(6)\n",
      "memory usage: 898.4 KB\n"
     ]
    }
   ],
   "source": [
    "Test.info()"
   ]
  },
  {
   "cell_type": "code",
   "execution_count": 525,
   "id": "1811f54f",
   "metadata": {},
   "outputs": [
    {
     "data": {
      "text/plain": [
       "business_code                           0\n",
       "cust_number                             0\n",
       "buisness_year                           0\n",
       "document type                           0\n",
       "total_open_amount                       0\n",
       "baseline_create_date                    0\n",
       "cust_payment_terms                      0\n",
       "document_create_date.1_month_quarter    0\n",
       "document_create_date.1_day              0\n",
       "document_create_date.1_month            0\n",
       "due_in_date_month_quarter               0\n",
       "due_in_date_month_day                   0\n",
       "due_in_date_month                       0\n",
       "dtype: int64"
      ]
     },
     "execution_count": 525,
     "metadata": {},
     "output_type": "execute_result"
    }
   ],
   "source": [
    "Test.isnull().sum()"
   ]
  },
  {
   "cell_type": "code",
   "execution_count": 526,
   "id": "4db2d322",
   "metadata": {},
   "outputs": [],
   "source": [
    "Test.drop('baseline_create_date',axis =1,inplace =True)"
   ]
  },
  {
   "cell_type": "code",
   "execution_count": 527,
   "id": "748547ce",
   "metadata": {},
   "outputs": [
    {
     "name": "stdout",
     "output_type": "stream",
     "text": [
      "<class 'pandas.core.frame.DataFrame'>\n",
      "Int64Index: 10000 entries, 39994 to 49999\n",
      "Data columns (total 12 columns):\n",
      " #   Column                                Non-Null Count  Dtype  \n",
      "---  ------                                --------------  -----  \n",
      " 0   business_code                         10000 non-null  int32  \n",
      " 1   cust_number                           10000 non-null  int32  \n",
      " 2   buisness_year                         10000 non-null  int32  \n",
      " 3   document type                         10000 non-null  int32  \n",
      " 4   total_open_amount                     10000 non-null  float64\n",
      " 5   cust_payment_terms                    10000 non-null  int32  \n",
      " 6   document_create_date.1_month_quarter  10000 non-null  int64  \n",
      " 7   document_create_date.1_day            10000 non-null  int64  \n",
      " 8   document_create_date.1_month          10000 non-null  int64  \n",
      " 9   due_in_date_month_quarter             10000 non-null  int64  \n",
      " 10  due_in_date_month_day                 10000 non-null  int64  \n",
      " 11  due_in_date_month                     10000 non-null  int64  \n",
      "dtypes: float64(1), int32(5), int64(6)\n",
      "memory usage: 820.3 KB\n"
     ]
    }
   ],
   "source": [
    "Test.info()"
   ]
  },
  {
   "cell_type": "code",
   "execution_count": 528,
   "id": "cdd52f41",
   "metadata": {},
   "outputs": [
    {
     "name": "stdout",
     "output_type": "stream",
     "text": [
      "<class 'pandas.core.frame.DataFrame'>\n",
      "Int64Index: 10000 entries, 39994 to 49999\n",
      "Data columns (total 12 columns):\n",
      " #   Column                                Non-Null Count  Dtype  \n",
      "---  ------                                --------------  -----  \n",
      " 0   business_code                         10000 non-null  int32  \n",
      " 1   cust_number                           10000 non-null  int32  \n",
      " 2   buisness_year                         10000 non-null  int32  \n",
      " 3   document type                         10000 non-null  int32  \n",
      " 4   total_open_amount                     10000 non-null  float64\n",
      " 5   cust_payment_terms                    10000 non-null  int32  \n",
      " 6   document_create_date.1_month_quarter  10000 non-null  int64  \n",
      " 7   document_create_date.1_day            10000 non-null  int64  \n",
      " 8   document_create_date.1_month          10000 non-null  int64  \n",
      " 9   due_in_date_month_quarter             10000 non-null  int64  \n",
      " 10  due_in_date_month_day                 10000 non-null  int64  \n",
      " 11  due_in_date_month                     10000 non-null  int64  \n",
      "dtypes: float64(1), int32(5), int64(6)\n",
      "memory usage: 820.3 KB\n"
     ]
    }
   ],
   "source": [
    "Test.info()"
   ]
  },
  {
   "cell_type": "markdown",
   "id": "1dba0dbf",
   "metadata": {},
   "source": [
    "#### Now the Test set is also ready to feed  the model for predictions"
   ]
  },
  {
   "cell_type": "markdown",
   "id": "d8b1c74e",
   "metadata": {},
   "source": [
    "#  Outliers Handling Through IQR Treatment"
   ]
  },
  {
   "cell_type": "code",
   "execution_count": 529,
   "id": "0af978f9",
   "metadata": {},
   "outputs": [
    {
     "name": "stdout",
     "output_type": "stream",
     "text": [
      "164898.9778999999\n"
     ]
    }
   ],
   "source": [
    "#to handle the outliers present in total open amount we are doing the IQR treatment\n",
    "upper_limit=Train['total_open_amount'].quantile(0.99) \n",
    "print(upper_limit)"
   ]
  },
  {
   "cell_type": "code",
   "execution_count": 530,
   "id": "69225951",
   "metadata": {},
   "outputs": [],
   "source": [
    "Train.loc[(Train['total_open_amount']>upper_limit),'total_open_amount']=upper_limit"
   ]
  },
  {
   "cell_type": "markdown",
   "id": "5c7beeda",
   "metadata": {},
   "source": [
    "# Splitting the dataset into x and y dataset to feed the model"
   ]
  },
  {
   "cell_type": "code",
   "execution_count": 531,
   "id": "6bf54efe",
   "metadata": {},
   "outputs": [
    {
     "data": {
      "text/plain": [
       "((20155, 13), (5039, 13))"
      ]
     },
     "execution_count": 531,
     "metadata": {},
     "output_type": "execute_result"
    }
   ],
   "source": [
    "X_train, valid = train_test_split(Train,test_size=.2,shuffle=False)\n",
    "X_train.shape,valid.shape"
   ]
  },
  {
   "cell_type": "code",
   "execution_count": 532,
   "id": "212a796c",
   "metadata": {},
   "outputs": [
    {
     "data": {
      "text/plain": [
       "((2520, 13), (2519, 13))"
      ]
     },
     "execution_count": 532,
     "metadata": {},
     "output_type": "execute_result"
    }
   ],
   "source": [
    "valid_set,test_set = train_test_split(valid,test_size=.5,shuffle=False)\n",
    "test_set.shape,valid_set.shape"
   ]
  },
  {
   "cell_type": "code",
   "execution_count": 533,
   "id": "81190c35",
   "metadata": {},
   "outputs": [],
   "source": [
    "# splitting datsets into train set , valid sets and test sets\n",
    "X=X_train.drop('DELAY',axis=1)\n",
    "y=X_train.DELAY\n",
    "x_val=valid_set.drop('DELAY',axis=1)\n",
    "y_val=valid_set.DELAY\n",
    "x_test=test_set.drop('DELAY',axis=1)\n",
    "y_test=test_set.DELAY"
   ]
  },
  {
   "cell_type": "markdown",
   "id": "c74759a2",
   "metadata": {},
   "source": [
    "# Model Training using Linear Regression"
   ]
  },
  {
   "cell_type": "code",
   "execution_count": 534,
   "id": "eb89cd80",
   "metadata": {},
   "outputs": [
    {
     "name": "stdout",
     "output_type": "stream",
     "text": [
      "Training complete.\n"
     ]
    }
   ],
   "source": [
    "#linear regession \n",
    "reg = LinearRegression(normalize=True)\n",
    "reg.fit(X,y)\n",
    "pred_value1 = reg.predict(x_val)\n",
    "print(\"Training complete.\")"
   ]
  },
  {
   "cell_type": "code",
   "execution_count": 535,
   "id": "4ffffc3d",
   "metadata": {},
   "outputs": [
    {
     "name": "stdout",
     "output_type": "stream",
     "text": [
      "11.506115431494335 %\n"
     ]
    }
   ],
   "source": [
    "#accuracy on validate set\n",
    "score = reg.score(x_val,y_val)\n",
    "print(score*100,'%')"
   ]
  },
  {
   "cell_type": "code",
   "execution_count": 536,
   "id": "5187fc49",
   "metadata": {},
   "outputs": [
    {
     "data": {
      "text/plain": [
       "7.290392660533359"
      ]
     },
     "execution_count": 536,
     "metadata": {},
     "output_type": "execute_result"
    }
   ],
   "source": [
    "#Mean squared error on validation set\n",
    "mse = mean_squared_error(y_val,pred_value1,squared=False)\n",
    "mse"
   ]
  },
  {
   "cell_type": "code",
   "execution_count": 537,
   "id": "df35ae91",
   "metadata": {},
   "outputs": [
    {
     "data": {
      "text/html": [
       "<div>\n",
       "<style scoped>\n",
       "    .dataframe tbody tr th:only-of-type {\n",
       "        vertical-align: middle;\n",
       "    }\n",
       "\n",
       "    .dataframe tbody tr th {\n",
       "        vertical-align: top;\n",
       "    }\n",
       "\n",
       "    .dataframe thead th {\n",
       "        text-align: right;\n",
       "    }\n",
       "</style>\n",
       "<table border=\"1\" class=\"dataframe\">\n",
       "  <thead>\n",
       "    <tr style=\"text-align: right;\">\n",
       "      <th></th>\n",
       "      <th>Actual</th>\n",
       "      <th>Predicted</th>\n",
       "    </tr>\n",
       "  </thead>\n",
       "  <tbody>\n",
       "    <tr>\n",
       "      <th>0</th>\n",
       "      <td>1</td>\n",
       "      <td>3.174090</td>\n",
       "    </tr>\n",
       "    <tr>\n",
       "      <th>1</th>\n",
       "      <td>4</td>\n",
       "      <td>-0.911920</td>\n",
       "    </tr>\n",
       "    <tr>\n",
       "      <th>2</th>\n",
       "      <td>37</td>\n",
       "      <td>19.378930</td>\n",
       "    </tr>\n",
       "    <tr>\n",
       "      <th>3</th>\n",
       "      <td>0</td>\n",
       "      <td>4.253750</td>\n",
       "    </tr>\n",
       "    <tr>\n",
       "      <th>4</th>\n",
       "      <td>1</td>\n",
       "      <td>1.179836</td>\n",
       "    </tr>\n",
       "    <tr>\n",
       "      <th>...</th>\n",
       "      <td>...</td>\n",
       "      <td>...</td>\n",
       "    </tr>\n",
       "    <tr>\n",
       "      <th>2514</th>\n",
       "      <td>0</td>\n",
       "      <td>4.202863</td>\n",
       "    </tr>\n",
       "    <tr>\n",
       "      <th>2515</th>\n",
       "      <td>46</td>\n",
       "      <td>20.318017</td>\n",
       "    </tr>\n",
       "    <tr>\n",
       "      <th>2516</th>\n",
       "      <td>1</td>\n",
       "      <td>9.100387</td>\n",
       "    </tr>\n",
       "    <tr>\n",
       "      <th>2517</th>\n",
       "      <td>0</td>\n",
       "      <td>8.887811</td>\n",
       "    </tr>\n",
       "    <tr>\n",
       "      <th>2518</th>\n",
       "      <td>1</td>\n",
       "      <td>5.092672</td>\n",
       "    </tr>\n",
       "  </tbody>\n",
       "</table>\n",
       "<p>2519 rows × 2 columns</p>\n",
       "</div>"
      ],
      "text/plain": [
       "      Actual  Predicted\n",
       "0          1   3.174090\n",
       "1          4  -0.911920\n",
       "2         37  19.378930\n",
       "3          0   4.253750\n",
       "4          1   1.179836\n",
       "...      ...        ...\n",
       "2514       0   4.202863\n",
       "2515      46  20.318017\n",
       "2516       1   9.100387\n",
       "2517       0   8.887811\n",
       "2518       1   5.092672\n",
       "\n",
       "[2519 rows x 2 columns]"
      ]
     },
     "execution_count": 537,
     "metadata": {},
     "output_type": "execute_result"
    }
   ],
   "source": [
    "#comparing data with actual and predicted sets\n",
    "deta = pd.DataFrame(zip(y_val,pred_value1),columns=['Actual','Predicted'])\n",
    "deta"
   ]
  },
  {
   "cell_type": "code",
   "execution_count": 538,
   "id": "fd1f55dc",
   "metadata": {},
   "outputs": [],
   "source": [
    "#predict value on test set \n",
    "pred_value1 = reg.predict(x_test)"
   ]
  },
  {
   "cell_type": "code",
   "execution_count": 539,
   "id": "5849d920",
   "metadata": {},
   "outputs": [
    {
     "name": "stdout",
     "output_type": "stream",
     "text": [
      "15.503354559102133 %\n"
     ]
    }
   ],
   "source": [
    "#Accuracy on test set\n",
    "Score1 = reg.score(x_test,y_test)\n",
    "print(Score1*100,'%')"
   ]
  },
  {
   "cell_type": "code",
   "execution_count": 540,
   "id": "d48cfdcf",
   "metadata": {},
   "outputs": [
    {
     "data": {
      "text/plain": [
       "8.10733207982474"
      ]
     },
     "execution_count": 540,
     "metadata": {},
     "output_type": "execute_result"
    }
   ],
   "source": [
    "#Mean squared error on test set\n",
    "mse1 = mean_squared_error(y_test, pred_value1,squared=False)\n",
    "mse1"
   ]
  },
  {
   "cell_type": "code",
   "execution_count": 541,
   "id": "cf96b6b3",
   "metadata": {},
   "outputs": [
    {
     "data": {
      "text/html": [
       "<div>\n",
       "<style scoped>\n",
       "    .dataframe tbody tr th:only-of-type {\n",
       "        vertical-align: middle;\n",
       "    }\n",
       "\n",
       "    .dataframe tbody tr th {\n",
       "        vertical-align: top;\n",
       "    }\n",
       "\n",
       "    .dataframe thead th {\n",
       "        text-align: right;\n",
       "    }\n",
       "</style>\n",
       "<table border=\"1\" class=\"dataframe\">\n",
       "  <thead>\n",
       "    <tr style=\"text-align: right;\">\n",
       "      <th></th>\n",
       "      <th>Actual</th>\n",
       "      <th>Predicted</th>\n",
       "    </tr>\n",
       "  </thead>\n",
       "  <tbody>\n",
       "    <tr>\n",
       "      <th>0</th>\n",
       "      <td>0</td>\n",
       "      <td>2.580135</td>\n",
       "    </tr>\n",
       "    <tr>\n",
       "      <th>1</th>\n",
       "      <td>0</td>\n",
       "      <td>4.874817</td>\n",
       "    </tr>\n",
       "    <tr>\n",
       "      <th>2</th>\n",
       "      <td>0</td>\n",
       "      <td>4.278527</td>\n",
       "    </tr>\n",
       "    <tr>\n",
       "      <th>3</th>\n",
       "      <td>6</td>\n",
       "      <td>1.468783</td>\n",
       "    </tr>\n",
       "    <tr>\n",
       "      <th>4</th>\n",
       "      <td>0</td>\n",
       "      <td>4.030283</td>\n",
       "    </tr>\n",
       "    <tr>\n",
       "      <th>...</th>\n",
       "      <td>...</td>\n",
       "      <td>...</td>\n",
       "    </tr>\n",
       "    <tr>\n",
       "      <th>2515</th>\n",
       "      <td>0</td>\n",
       "      <td>8.800253</td>\n",
       "    </tr>\n",
       "    <tr>\n",
       "      <th>2516</th>\n",
       "      <td>8</td>\n",
       "      <td>3.101058</td>\n",
       "    </tr>\n",
       "    <tr>\n",
       "      <th>2517</th>\n",
       "      <td>0</td>\n",
       "      <td>3.796295</td>\n",
       "    </tr>\n",
       "    <tr>\n",
       "      <th>2518</th>\n",
       "      <td>4</td>\n",
       "      <td>8.934772</td>\n",
       "    </tr>\n",
       "    <tr>\n",
       "      <th>2519</th>\n",
       "      <td>7</td>\n",
       "      <td>3.603098</td>\n",
       "    </tr>\n",
       "  </tbody>\n",
       "</table>\n",
       "<p>2520 rows × 2 columns</p>\n",
       "</div>"
      ],
      "text/plain": [
       "      Actual  Predicted\n",
       "0          0   2.580135\n",
       "1          0   4.874817\n",
       "2          0   4.278527\n",
       "3          6   1.468783\n",
       "4          0   4.030283\n",
       "...      ...        ...\n",
       "2515       0   8.800253\n",
       "2516       8   3.101058\n",
       "2517       0   3.796295\n",
       "2518       4   8.934772\n",
       "2519       7   3.603098\n",
       "\n",
       "[2520 rows x 2 columns]"
      ]
     },
     "execution_count": 541,
     "metadata": {},
     "output_type": "execute_result"
    }
   ],
   "source": [
    "#comparing the actual data with predicted data\n",
    "deta = pd.DataFrame(zip(y_test,pred_value1),columns=['Actual','Predicted'])\n",
    "deta "
   ]
  },
  {
   "cell_type": "code",
   "execution_count": 542,
   "id": "62c34556",
   "metadata": {},
   "outputs": [
    {
     "data": {
      "text/plain": [
       "0.8169394192913808"
      ]
     },
     "execution_count": 542,
     "metadata": {},
     "output_type": "execute_result"
    }
   ],
   "source": [
    "##difference in mse of validation and test set\n",
    "mse_linear= mse1-mse\n",
    "mse_linear"
   ]
  },
  {
   "cell_type": "markdown",
   "id": "562c8556",
   "metadata": {},
   "source": [
    "# Model Training using XG-boost"
   ]
  },
  {
   "cell_type": "code",
   "execution_count": 543,
   "id": "59f7fc0b",
   "metadata": {},
   "outputs": [],
   "source": [
    "model2 = XGBRegressor(max_depth =50)\n",
    "model2.fit(X,y)\n",
    "pred_value2 = model2.predict(x_val)"
   ]
  },
  {
   "cell_type": "code",
   "execution_count": 544,
   "id": "3a636edf",
   "metadata": {},
   "outputs": [
    {
     "data": {
      "text/plain": [
       "0.09990861968017795"
      ]
     },
     "execution_count": 544,
     "metadata": {},
     "output_type": "execute_result"
    }
   ],
   "source": [
    "Score = model2.score(x_val,y_val)\n",
    "Score"
   ]
  },
  {
   "cell_type": "code",
   "execution_count": 545,
   "id": "ac9f1a19",
   "metadata": {},
   "outputs": [
    {
     "data": {
      "text/plain": [
       "7.352543314459446"
      ]
     },
     "execution_count": 545,
     "metadata": {},
     "output_type": "execute_result"
    }
   ],
   "source": [
    "#Mean squared error on test set\n",
    "mse = mean_squared_error(y_val, pred_value2,squared=False)\n",
    "mse"
   ]
  },
  {
   "cell_type": "code",
   "execution_count": 546,
   "id": "ad38dc66",
   "metadata": {},
   "outputs": [
    {
     "data": {
      "text/html": [
       "<div>\n",
       "<style scoped>\n",
       "    .dataframe tbody tr th:only-of-type {\n",
       "        vertical-align: middle;\n",
       "    }\n",
       "\n",
       "    .dataframe tbody tr th {\n",
       "        vertical-align: top;\n",
       "    }\n",
       "\n",
       "    .dataframe thead th {\n",
       "        text-align: right;\n",
       "    }\n",
       "</style>\n",
       "<table border=\"1\" class=\"dataframe\">\n",
       "  <thead>\n",
       "    <tr style=\"text-align: right;\">\n",
       "      <th></th>\n",
       "      <th>Actual</th>\n",
       "      <th>Predicted</th>\n",
       "    </tr>\n",
       "  </thead>\n",
       "  <tbody>\n",
       "    <tr>\n",
       "      <th>0</th>\n",
       "      <td>0</td>\n",
       "      <td>2.401744</td>\n",
       "    </tr>\n",
       "    <tr>\n",
       "      <th>1</th>\n",
       "      <td>0</td>\n",
       "      <td>7.419261</td>\n",
       "    </tr>\n",
       "    <tr>\n",
       "      <th>2</th>\n",
       "      <td>0</td>\n",
       "      <td>39.173893</td>\n",
       "    </tr>\n",
       "    <tr>\n",
       "      <th>3</th>\n",
       "      <td>6</td>\n",
       "      <td>0.000467</td>\n",
       "    </tr>\n",
       "    <tr>\n",
       "      <th>4</th>\n",
       "      <td>0</td>\n",
       "      <td>-0.002680</td>\n",
       "    </tr>\n",
       "    <tr>\n",
       "      <th>...</th>\n",
       "      <td>...</td>\n",
       "      <td>...</td>\n",
       "    </tr>\n",
       "    <tr>\n",
       "      <th>2514</th>\n",
       "      <td>1</td>\n",
       "      <td>1.605128</td>\n",
       "    </tr>\n",
       "    <tr>\n",
       "      <th>2515</th>\n",
       "      <td>0</td>\n",
       "      <td>47.072750</td>\n",
       "    </tr>\n",
       "    <tr>\n",
       "      <th>2516</th>\n",
       "      <td>8</td>\n",
       "      <td>1.173860</td>\n",
       "    </tr>\n",
       "    <tr>\n",
       "      <th>2517</th>\n",
       "      <td>0</td>\n",
       "      <td>1.377486</td>\n",
       "    </tr>\n",
       "    <tr>\n",
       "      <th>2518</th>\n",
       "      <td>4</td>\n",
       "      <td>2.697232</td>\n",
       "    </tr>\n",
       "  </tbody>\n",
       "</table>\n",
       "<p>2519 rows × 2 columns</p>\n",
       "</div>"
      ],
      "text/plain": [
       "      Actual  Predicted\n",
       "0          0   2.401744\n",
       "1          0   7.419261\n",
       "2          0  39.173893\n",
       "3          6   0.000467\n",
       "4          0  -0.002680\n",
       "...      ...        ...\n",
       "2514       1   1.605128\n",
       "2515       0  47.072750\n",
       "2516       8   1.173860\n",
       "2517       0   1.377486\n",
       "2518       4   2.697232\n",
       "\n",
       "[2519 rows x 2 columns]"
      ]
     },
     "execution_count": 546,
     "metadata": {},
     "output_type": "execute_result"
    }
   ],
   "source": [
    "#comparing tha actual data with predicted data\n",
    "deta2 = pd.DataFrame(zip(y_test,pred_value2),columns=['Actual','Predicted'])\n",
    "deta2"
   ]
  },
  {
   "cell_type": "code",
   "execution_count": 547,
   "id": "d4933cb1",
   "metadata": {},
   "outputs": [],
   "source": [
    "#predict on test set \n",
    "pred_value2 = model2.predict(x_test)"
   ]
  },
  {
   "cell_type": "code",
   "execution_count": 548,
   "id": "a2ce4b7e",
   "metadata": {},
   "outputs": [
    {
     "data": {
      "text/plain": [
       "0.01222530181184689"
      ]
     },
     "execution_count": 548,
     "metadata": {},
     "output_type": "execute_result"
    }
   ],
   "source": [
    "Score2 = model2.score(x_test,y_test)\n",
    "Score2"
   ]
  },
  {
   "cell_type": "code",
   "execution_count": 549,
   "id": "143a70c7",
   "metadata": {},
   "outputs": [
    {
     "name": "stdout",
     "output_type": "stream",
     "text": [
      "1.222530181184689 %\n"
     ]
    }
   ],
   "source": [
    "#percentage of accuracy\n",
    "print(Score2*100,'%')"
   ]
  },
  {
   "cell_type": "code",
   "execution_count": 550,
   "id": "9d2ed633",
   "metadata": {},
   "outputs": [
    {
     "data": {
      "text/plain": [
       "8.765711587509003"
      ]
     },
     "execution_count": 550,
     "metadata": {},
     "output_type": "execute_result"
    }
   ],
   "source": [
    "#mean squared error for xg boost on test set\n",
    "mse2 = mean_squared_error(y_test, pred_value2,squared=False)\n",
    "mse2"
   ]
  },
  {
   "cell_type": "code",
   "execution_count": 551,
   "id": "911b0e6b",
   "metadata": {},
   "outputs": [
    {
     "data": {
      "text/plain": [
       "1.413168273049557"
      ]
     },
     "execution_count": 551,
     "metadata": {},
     "output_type": "execute_result"
    }
   ],
   "source": [
    "#difference in mse of validation and test set\n",
    "mse_xgboost = mse2-mse\n",
    "mse_xgboost    "
   ]
  },
  {
   "cell_type": "markdown",
   "id": "5e7d1941",
   "metadata": {},
   "source": [
    "# Model Training using Random Forest"
   ]
  },
  {
   "cell_type": "code",
   "execution_count": 564,
   "id": "fdac6781",
   "metadata": {},
   "outputs": [],
   "source": [
    "model_4 = RandomForestRegressor(max_depth = 20)\n",
    "model_4.fit(X,y)\n",
    "pred_value3 = model_4.predict(x_val)"
   ]
  },
  {
   "cell_type": "code",
   "execution_count": 565,
   "id": "b3334ccc",
   "metadata": {},
   "outputs": [
    {
     "data": {
      "text/plain": [
       "0.36173129077783694"
      ]
     },
     "execution_count": 565,
     "metadata": {},
     "output_type": "execute_result"
    }
   ],
   "source": [
    "#Score on validation set\n",
    "Score = model_4.score(x_val,y_val)\n",
    "Score"
   ]
  },
  {
   "cell_type": "code",
   "execution_count": 566,
   "id": "02d8140a",
   "metadata": {},
   "outputs": [
    {
     "name": "stdout",
     "output_type": "stream",
     "text": [
      "36.17312907778369 %\n"
     ]
    }
   ],
   "source": [
    "#percentage of accuracy ion validation set\n",
    "print(Score*100,'%')"
   ]
  },
  {
   "cell_type": "code",
   "execution_count": 567,
   "id": "f7b2c069",
   "metadata": {},
   "outputs": [
    {
     "data": {
      "text/plain": [
       "6.191502708464755"
      ]
     },
     "execution_count": 567,
     "metadata": {},
     "output_type": "execute_result"
    }
   ],
   "source": [
    "#Mean squared error on validation set\n",
    "mse = mean_squared_error(y_val, pred_value3,squared=False)\n",
    "mse"
   ]
  },
  {
   "cell_type": "code",
   "execution_count": 568,
   "id": "1783ba5b",
   "metadata": {},
   "outputs": [
    {
     "data": {
      "text/html": [
       "<div>\n",
       "<style scoped>\n",
       "    .dataframe tbody tr th:only-of-type {\n",
       "        vertical-align: middle;\n",
       "    }\n",
       "\n",
       "    .dataframe tbody tr th {\n",
       "        vertical-align: top;\n",
       "    }\n",
       "\n",
       "    .dataframe thead th {\n",
       "        text-align: right;\n",
       "    }\n",
       "</style>\n",
       "<table border=\"1\" class=\"dataframe\">\n",
       "  <thead>\n",
       "    <tr style=\"text-align: right;\">\n",
       "      <th></th>\n",
       "      <th>Actual</th>\n",
       "      <th>Predicted</th>\n",
       "    </tr>\n",
       "  </thead>\n",
       "  <tbody>\n",
       "    <tr>\n",
       "      <th>2514</th>\n",
       "      <td>1</td>\n",
       "      <td>2.506978</td>\n",
       "    </tr>\n",
       "    <tr>\n",
       "      <th>2515</th>\n",
       "      <td>0</td>\n",
       "      <td>46.000000</td>\n",
       "    </tr>\n",
       "    <tr>\n",
       "      <th>2516</th>\n",
       "      <td>8</td>\n",
       "      <td>1.713107</td>\n",
       "    </tr>\n",
       "    <tr>\n",
       "      <th>2517</th>\n",
       "      <td>0</td>\n",
       "      <td>2.404607</td>\n",
       "    </tr>\n",
       "    <tr>\n",
       "      <th>2518</th>\n",
       "      <td>4</td>\n",
       "      <td>1.230013</td>\n",
       "    </tr>\n",
       "  </tbody>\n",
       "</table>\n",
       "</div>"
      ],
      "text/plain": [
       "      Actual  Predicted\n",
       "2514       1   2.506978\n",
       "2515       0  46.000000\n",
       "2516       8   1.713107\n",
       "2517       0   2.404607\n",
       "2518       4   1.230013"
      ]
     },
     "execution_count": 568,
     "metadata": {},
     "output_type": "execute_result"
    }
   ],
   "source": [
    "deta2 = pd.DataFrame(zip(y_test,pred_value3),columns=['Actual','Predicted'])\n",
    "deta2.tail()"
   ]
  },
  {
   "cell_type": "code",
   "execution_count": 569,
   "id": "5cd5dd1d",
   "metadata": {},
   "outputs": [],
   "source": [
    "#predict the value on test set\n",
    "pred_value3 = model_4.predict(x_test)"
   ]
  },
  {
   "cell_type": "code",
   "execution_count": 570,
   "id": "5b7d49bd",
   "metadata": {},
   "outputs": [
    {
     "data": {
      "text/plain": [
       "0.17838147536528315"
      ]
     },
     "execution_count": 570,
     "metadata": {},
     "output_type": "execute_result"
    }
   ],
   "source": [
    "#Score on test set\n",
    "Score3 = model_4.score(x_test,y_test)\n",
    "Score3"
   ]
  },
  {
   "cell_type": "code",
   "execution_count": 571,
   "id": "3c0958ba",
   "metadata": {},
   "outputs": [
    {
     "data": {
      "text/plain": [
       "7.994537421564295"
      ]
     },
     "execution_count": 571,
     "metadata": {},
     "output_type": "execute_result"
    }
   ],
   "source": [
    "#mean squared error for xg boost on test set\n",
    "mse3 = mean_squared_error(y_test, pred_value3,squared=False)\n",
    "mse3"
   ]
  },
  {
   "cell_type": "code",
   "execution_count": 572,
   "id": "d1be028f",
   "metadata": {},
   "outputs": [
    {
     "data": {
      "text/plain": [
       "1.8030347130995397"
      ]
     },
     "execution_count": 572,
     "metadata": {},
     "output_type": "execute_result"
    }
   ],
   "source": [
    "#difference in mse of validation and test set\n",
    "mse_randomforest = mse3-mse\n",
    "mse_randomforest"
   ]
  },
  {
   "cell_type": "markdown",
   "id": "9199fe95",
   "metadata": {},
   "source": [
    "#### Creating a data frame for selecting a best model "
   ]
  },
  {
   "cell_type": "code",
   "execution_count": 573,
   "id": "27af7325",
   "metadata": {},
   "outputs": [],
   "source": [
    "algo = pd.Series(['Linear Regression','XGBOOST',' Random Forest'])\n"
   ]
  },
  {
   "cell_type": "code",
   "execution_count": 574,
   "id": "43e89358",
   "metadata": {},
   "outputs": [],
   "source": [
    "mse = pd.Series([mse1,mse2,mse3])"
   ]
  },
  {
   "cell_type": "code",
   "execution_count": 575,
   "id": "b6d9596a",
   "metadata": {},
   "outputs": [],
   "source": [
    "mse_compare = pd.Series([mse_linear,mse_xgboost,mse_randomforest])\n"
   ]
  },
  {
   "cell_type": "code",
   "execution_count": 576,
   "id": "2140612f",
   "metadata": {},
   "outputs": [],
   "source": [
    "Score_all = pd.Series([Score1,Score2, Score3])"
   ]
  },
  {
   "cell_type": "code",
   "execution_count": 577,
   "id": "c246fbaa",
   "metadata": {},
   "outputs": [],
   "source": [
    "compare = pd.DataFrame(zip(algo,Score_all,mse,mse_compare),columns = ['Algorithm','Scores','Mse-(Squared = False)-Test-set',\"Diff in MSE(y_val-y-test) \"])"
   ]
  },
  {
   "cell_type": "markdown",
   "id": "549572e8",
   "metadata": {},
   "source": [
    "# Score Data for Selection of best Model"
   ]
  },
  {
   "cell_type": "code",
   "execution_count": 578,
   "id": "41a9f114",
   "metadata": {},
   "outputs": [
    {
     "data": {
      "text/html": [
       "<div>\n",
       "<style scoped>\n",
       "    .dataframe tbody tr th:only-of-type {\n",
       "        vertical-align: middle;\n",
       "    }\n",
       "\n",
       "    .dataframe tbody tr th {\n",
       "        vertical-align: top;\n",
       "    }\n",
       "\n",
       "    .dataframe thead th {\n",
       "        text-align: right;\n",
       "    }\n",
       "</style>\n",
       "<table border=\"1\" class=\"dataframe\">\n",
       "  <thead>\n",
       "    <tr style=\"text-align: right;\">\n",
       "      <th></th>\n",
       "      <th>Algorithm</th>\n",
       "      <th>Scores</th>\n",
       "      <th>Mse-(Squared = False)-Test-set</th>\n",
       "      <th>Diff in MSE(y_val-y-test)</th>\n",
       "    </tr>\n",
       "  </thead>\n",
       "  <tbody>\n",
       "    <tr>\n",
       "      <th>0</th>\n",
       "      <td>Linear Regression</td>\n",
       "      <td>0.155034</td>\n",
       "      <td>8.107332</td>\n",
       "      <td>0.816939</td>\n",
       "    </tr>\n",
       "    <tr>\n",
       "      <th>1</th>\n",
       "      <td>XGBOOST</td>\n",
       "      <td>0.012225</td>\n",
       "      <td>8.765712</td>\n",
       "      <td>1.413168</td>\n",
       "    </tr>\n",
       "    <tr>\n",
       "      <th>2</th>\n",
       "      <td>Random Forest</td>\n",
       "      <td>0.178381</td>\n",
       "      <td>7.994537</td>\n",
       "      <td>1.803035</td>\n",
       "    </tr>\n",
       "  </tbody>\n",
       "</table>\n",
       "</div>"
      ],
      "text/plain": [
       "           Algorithm    Scores  Mse-(Squared = False)-Test-set  \\\n",
       "0  Linear Regression  0.155034                        8.107332   \n",
       "1            XGBOOST  0.012225                        8.765712   \n",
       "2      Random Forest  0.178381                        7.994537   \n",
       "\n",
       "   Diff in MSE(y_val-y-test)   \n",
       "0                    0.816939  \n",
       "1                    1.413168  \n",
       "2                    1.803035  "
      ]
     },
     "execution_count": 578,
     "metadata": {},
     "output_type": "execute_result"
    }
   ],
   "source": [
    "compare"
   ]
  },
  {
   "cell_type": "markdown",
   "id": "b647fe27",
   "metadata": {},
   "source": [
    "#### From this we infered that Random Forest will be the best model for our predictions "
   ]
  },
  {
   "cell_type": "markdown",
   "id": "121b411d",
   "metadata": {},
   "source": [
    "# Prediction on real Test set"
   ]
  },
  {
   "cell_type": "code",
   "execution_count": 579,
   "id": "b908e9de",
   "metadata": {},
   "outputs": [],
   "source": [
    "#Prediction the delay on main test sets\n",
    "actual = model_4.predict(Test)"
   ]
  },
  {
   "cell_type": "code",
   "execution_count": 580,
   "id": "316ad10b",
   "metadata": {},
   "outputs": [],
   "source": [
    "#adding the predicted delay column into our temp datasets that we have created \n",
    "Temp2[\"delay\"] = actual"
   ]
  },
  {
   "cell_type": "code",
   "execution_count": 581,
   "id": "a9cab18f",
   "metadata": {},
   "outputs": [
    {
     "data": {
      "text/html": [
       "<div>\n",
       "<style scoped>\n",
       "    .dataframe tbody tr th:only-of-type {\n",
       "        vertical-align: middle;\n",
       "    }\n",
       "\n",
       "    .dataframe tbody tr th {\n",
       "        vertical-align: top;\n",
       "    }\n",
       "\n",
       "    .dataframe thead th {\n",
       "        text-align: right;\n",
       "    }\n",
       "</style>\n",
       "<table border=\"1\" class=\"dataframe\">\n",
       "  <thead>\n",
       "    <tr style=\"text-align: right;\">\n",
       "      <th></th>\n",
       "      <th>business_code</th>\n",
       "      <th>cust_number</th>\n",
       "      <th>name_customer</th>\n",
       "      <th>clear_date</th>\n",
       "      <th>buisness_year</th>\n",
       "      <th>doc_id</th>\n",
       "      <th>posting_date</th>\n",
       "      <th>document_create_date</th>\n",
       "      <th>document_create_date.1</th>\n",
       "      <th>due_in_date</th>\n",
       "      <th>invoice_currency</th>\n",
       "      <th>document type</th>\n",
       "      <th>posting_id</th>\n",
       "      <th>area_business</th>\n",
       "      <th>total_open_amount</th>\n",
       "      <th>baseline_create_date</th>\n",
       "      <th>cust_payment_terms</th>\n",
       "      <th>invoice_id</th>\n",
       "      <th>isOpen</th>\n",
       "      <th>delay</th>\n",
       "    </tr>\n",
       "  </thead>\n",
       "  <tbody>\n",
       "    <tr>\n",
       "      <th>4</th>\n",
       "      <td>U001</td>\n",
       "      <td>0200769623</td>\n",
       "      <td>WAL-MAR</td>\n",
       "      <td>NaN</td>\n",
       "      <td>2020.0</td>\n",
       "      <td>1.930737e+09</td>\n",
       "      <td>2020-04-03</td>\n",
       "      <td>20200403</td>\n",
       "      <td>20200403</td>\n",
       "      <td>20200418.0</td>\n",
       "      <td>USD</td>\n",
       "      <td>RV</td>\n",
       "      <td>1.0</td>\n",
       "      <td>NaN</td>\n",
       "      <td>24079.57</td>\n",
       "      <td>20200403.0</td>\n",
       "      <td>NAH4</td>\n",
       "      <td>1.930737e+09</td>\n",
       "      <td>1</td>\n",
       "      <td>6.893261</td>\n",
       "    </tr>\n",
       "    <tr>\n",
       "      <th>5</th>\n",
       "      <td>U001</td>\n",
       "      <td>0200704045</td>\n",
       "      <td>RA</td>\n",
       "      <td>NaN</td>\n",
       "      <td>2020.0</td>\n",
       "      <td>1.930830e+09</td>\n",
       "      <td>2020-04-27</td>\n",
       "      <td>20200427</td>\n",
       "      <td>20200427</td>\n",
       "      <td>20200512.0</td>\n",
       "      <td>USD</td>\n",
       "      <td>RV</td>\n",
       "      <td>1.0</td>\n",
       "      <td>NaN</td>\n",
       "      <td>17937.75</td>\n",
       "      <td>20200427.0</td>\n",
       "      <td>NAA8</td>\n",
       "      <td>1.930830e+09</td>\n",
       "      <td>1</td>\n",
       "      <td>10.017814</td>\n",
       "    </tr>\n",
       "    <tr>\n",
       "      <th>9</th>\n",
       "      <td>U001</td>\n",
       "      <td>0200782001</td>\n",
       "      <td>GORDO associates</td>\n",
       "      <td>NaN</td>\n",
       "      <td>2020.0</td>\n",
       "      <td>1.930578e+09</td>\n",
       "      <td>2020-02-27</td>\n",
       "      <td>20200227</td>\n",
       "      <td>20200227</td>\n",
       "      <td>20200313.0</td>\n",
       "      <td>USD</td>\n",
       "      <td>RV</td>\n",
       "      <td>1.0</td>\n",
       "      <td>NaN</td>\n",
       "      <td>31129.05</td>\n",
       "      <td>20200227.0</td>\n",
       "      <td>NAA8</td>\n",
       "      <td>1.930578e+09</td>\n",
       "      <td>1</td>\n",
       "      <td>7.453289</td>\n",
       "    </tr>\n",
       "    <tr>\n",
       "      <th>11</th>\n",
       "      <td>U001</td>\n",
       "      <td>0200762301</td>\n",
       "      <td>C&amp;S WH corp</td>\n",
       "      <td>NaN</td>\n",
       "      <td>2020.0</td>\n",
       "      <td>1.930829e+09</td>\n",
       "      <td>2020-04-29</td>\n",
       "      <td>20200428</td>\n",
       "      <td>20200429</td>\n",
       "      <td>20200514.0</td>\n",
       "      <td>USD</td>\n",
       "      <td>RV</td>\n",
       "      <td>1.0</td>\n",
       "      <td>NaN</td>\n",
       "      <td>21021.43</td>\n",
       "      <td>20200429.0</td>\n",
       "      <td>NAC6</td>\n",
       "      <td>1.930829e+09</td>\n",
       "      <td>1</td>\n",
       "      <td>4.777321</td>\n",
       "    </tr>\n",
       "    <tr>\n",
       "      <th>13</th>\n",
       "      <td>U001</td>\n",
       "      <td>0200769623</td>\n",
       "      <td>WAL-MAR trust</td>\n",
       "      <td>NaN</td>\n",
       "      <td>2020.0</td>\n",
       "      <td>1.930709e+09</td>\n",
       "      <td>2020-03-28</td>\n",
       "      <td>20200327</td>\n",
       "      <td>20200328</td>\n",
       "      <td>20200412.0</td>\n",
       "      <td>USD</td>\n",
       "      <td>RV</td>\n",
       "      <td>1.0</td>\n",
       "      <td>NaN</td>\n",
       "      <td>6594.48</td>\n",
       "      <td>20200328.0</td>\n",
       "      <td>NAH4</td>\n",
       "      <td>1.930709e+09</td>\n",
       "      <td>1</td>\n",
       "      <td>5.901956</td>\n",
       "    </tr>\n",
       "  </tbody>\n",
       "</table>\n",
       "</div>"
      ],
      "text/plain": [
       "   business_code cust_number     name_customer clear_date  buisness_year  \\\n",
       "4           U001  0200769623          WAL-MAR         NaN         2020.0   \n",
       "5           U001  0200704045               RA         NaN         2020.0   \n",
       "9           U001  0200782001  GORDO associates        NaN         2020.0   \n",
       "11          U001  0200762301       C&S WH corp        NaN         2020.0   \n",
       "13          U001  0200769623     WAL-MAR trust        NaN         2020.0   \n",
       "\n",
       "          doc_id posting_date  document_create_date  document_create_date.1  \\\n",
       "4   1.930737e+09   2020-04-03              20200403                20200403   \n",
       "5   1.930830e+09   2020-04-27              20200427                20200427   \n",
       "9   1.930578e+09   2020-02-27              20200227                20200227   \n",
       "11  1.930829e+09   2020-04-29              20200428                20200429   \n",
       "13  1.930709e+09   2020-03-28              20200327                20200328   \n",
       "\n",
       "    due_in_date invoice_currency document type  posting_id  area_business  \\\n",
       "4    20200418.0              USD            RV         1.0            NaN   \n",
       "5    20200512.0              USD            RV         1.0            NaN   \n",
       "9    20200313.0              USD            RV         1.0            NaN   \n",
       "11   20200514.0              USD            RV         1.0            NaN   \n",
       "13   20200412.0              USD            RV         1.0            NaN   \n",
       "\n",
       "    total_open_amount  baseline_create_date cust_payment_terms    invoice_id  \\\n",
       "4            24079.57            20200403.0               NAH4  1.930737e+09   \n",
       "5            17937.75            20200427.0               NAA8  1.930830e+09   \n",
       "9            31129.05            20200227.0               NAA8  1.930578e+09   \n",
       "11           21021.43            20200429.0               NAC6  1.930829e+09   \n",
       "13            6594.48            20200328.0               NAH4  1.930709e+09   \n",
       "\n",
       "    isOpen      delay  \n",
       "4        1   6.893261  \n",
       "5        1  10.017814  \n",
       "9        1   7.453289  \n",
       "11       1   4.777321  \n",
       "13       1   5.901956  "
      ]
     },
     "execution_count": 581,
     "metadata": {},
     "output_type": "execute_result"
    }
   ],
   "source": [
    "# delay is added to main test data where clear dates are null\n",
    "Temp2['delay'] = actual\n",
    "Temp2.head()"
   ]
  },
  {
   "cell_type": "code",
   "execution_count": 582,
   "id": "7648fcb1",
   "metadata": {},
   "outputs": [],
   "source": [
    "#buckting Delay feature column into a catagorical column\n",
    "list1 =Temp2['delay'].tolist() \n",
    "list2 = [] \n",
    "for x in list1:\n",
    "    if x < 0:\n",
    "        list2.append('0-15 days')\n",
    "    elif x >= 0 and x <= 15:\n",
    "        list2.append('0-15 days')\n",
    "    elif x >= 16 and x <= 30:\n",
    "        list2.append('16-30 days')\n",
    "    elif x >=31 and x <= 45:\n",
    "        list2.append('31-45 days')\n",
    "    elif x >=46 and x <= 60:\n",
    "        list2.append('46-60 days')\n",
    "    else:\n",
    "        list2.append('> 60 days')"
   ]
  },
  {
   "cell_type": "code",
   "execution_count": 583,
   "id": "288b3dbf",
   "metadata": {},
   "outputs": [
    {
     "data": {
      "text/html": [
       "<div>\n",
       "<style scoped>\n",
       "    .dataframe tbody tr th:only-of-type {\n",
       "        vertical-align: middle;\n",
       "    }\n",
       "\n",
       "    .dataframe tbody tr th {\n",
       "        vertical-align: top;\n",
       "    }\n",
       "\n",
       "    .dataframe thead th {\n",
       "        text-align: right;\n",
       "    }\n",
       "</style>\n",
       "<table border=\"1\" class=\"dataframe\">\n",
       "  <thead>\n",
       "    <tr style=\"text-align: right;\">\n",
       "      <th></th>\n",
       "      <th>business_code</th>\n",
       "      <th>cust_number</th>\n",
       "      <th>name_customer</th>\n",
       "      <th>clear_date</th>\n",
       "      <th>buisness_year</th>\n",
       "      <th>doc_id</th>\n",
       "      <th>posting_date</th>\n",
       "      <th>document_create_date</th>\n",
       "      <th>document_create_date.1</th>\n",
       "      <th>due_in_date</th>\n",
       "      <th>...</th>\n",
       "      <th>document type</th>\n",
       "      <th>posting_id</th>\n",
       "      <th>area_business</th>\n",
       "      <th>total_open_amount</th>\n",
       "      <th>baseline_create_date</th>\n",
       "      <th>cust_payment_terms</th>\n",
       "      <th>invoice_id</th>\n",
       "      <th>isOpen</th>\n",
       "      <th>delay</th>\n",
       "      <th>Delay_Grouped</th>\n",
       "    </tr>\n",
       "  </thead>\n",
       "  <tbody>\n",
       "    <tr>\n",
       "      <th>4</th>\n",
       "      <td>U001</td>\n",
       "      <td>0200769623</td>\n",
       "      <td>WAL-MAR</td>\n",
       "      <td>NaN</td>\n",
       "      <td>2020.0</td>\n",
       "      <td>1.930737e+09</td>\n",
       "      <td>2020-04-03</td>\n",
       "      <td>20200403</td>\n",
       "      <td>20200403</td>\n",
       "      <td>20200418.0</td>\n",
       "      <td>...</td>\n",
       "      <td>RV</td>\n",
       "      <td>1.0</td>\n",
       "      <td>NaN</td>\n",
       "      <td>24079.57</td>\n",
       "      <td>20200403.0</td>\n",
       "      <td>NAH4</td>\n",
       "      <td>1.930737e+09</td>\n",
       "      <td>1</td>\n",
       "      <td>6.893261</td>\n",
       "      <td>0-15 days</td>\n",
       "    </tr>\n",
       "    <tr>\n",
       "      <th>5</th>\n",
       "      <td>U001</td>\n",
       "      <td>0200704045</td>\n",
       "      <td>RA</td>\n",
       "      <td>NaN</td>\n",
       "      <td>2020.0</td>\n",
       "      <td>1.930830e+09</td>\n",
       "      <td>2020-04-27</td>\n",
       "      <td>20200427</td>\n",
       "      <td>20200427</td>\n",
       "      <td>20200512.0</td>\n",
       "      <td>...</td>\n",
       "      <td>RV</td>\n",
       "      <td>1.0</td>\n",
       "      <td>NaN</td>\n",
       "      <td>17937.75</td>\n",
       "      <td>20200427.0</td>\n",
       "      <td>NAA8</td>\n",
       "      <td>1.930830e+09</td>\n",
       "      <td>1</td>\n",
       "      <td>10.017814</td>\n",
       "      <td>0-15 days</td>\n",
       "    </tr>\n",
       "    <tr>\n",
       "      <th>9</th>\n",
       "      <td>U001</td>\n",
       "      <td>0200782001</td>\n",
       "      <td>GORDO associates</td>\n",
       "      <td>NaN</td>\n",
       "      <td>2020.0</td>\n",
       "      <td>1.930578e+09</td>\n",
       "      <td>2020-02-27</td>\n",
       "      <td>20200227</td>\n",
       "      <td>20200227</td>\n",
       "      <td>20200313.0</td>\n",
       "      <td>...</td>\n",
       "      <td>RV</td>\n",
       "      <td>1.0</td>\n",
       "      <td>NaN</td>\n",
       "      <td>31129.05</td>\n",
       "      <td>20200227.0</td>\n",
       "      <td>NAA8</td>\n",
       "      <td>1.930578e+09</td>\n",
       "      <td>1</td>\n",
       "      <td>7.453289</td>\n",
       "      <td>0-15 days</td>\n",
       "    </tr>\n",
       "    <tr>\n",
       "      <th>11</th>\n",
       "      <td>U001</td>\n",
       "      <td>0200762301</td>\n",
       "      <td>C&amp;S WH corp</td>\n",
       "      <td>NaN</td>\n",
       "      <td>2020.0</td>\n",
       "      <td>1.930829e+09</td>\n",
       "      <td>2020-04-29</td>\n",
       "      <td>20200428</td>\n",
       "      <td>20200429</td>\n",
       "      <td>20200514.0</td>\n",
       "      <td>...</td>\n",
       "      <td>RV</td>\n",
       "      <td>1.0</td>\n",
       "      <td>NaN</td>\n",
       "      <td>21021.43</td>\n",
       "      <td>20200429.0</td>\n",
       "      <td>NAC6</td>\n",
       "      <td>1.930829e+09</td>\n",
       "      <td>1</td>\n",
       "      <td>4.777321</td>\n",
       "      <td>0-15 days</td>\n",
       "    </tr>\n",
       "    <tr>\n",
       "      <th>13</th>\n",
       "      <td>U001</td>\n",
       "      <td>0200769623</td>\n",
       "      <td>WAL-MAR trust</td>\n",
       "      <td>NaN</td>\n",
       "      <td>2020.0</td>\n",
       "      <td>1.930709e+09</td>\n",
       "      <td>2020-03-28</td>\n",
       "      <td>20200327</td>\n",
       "      <td>20200328</td>\n",
       "      <td>20200412.0</td>\n",
       "      <td>...</td>\n",
       "      <td>RV</td>\n",
       "      <td>1.0</td>\n",
       "      <td>NaN</td>\n",
       "      <td>6594.48</td>\n",
       "      <td>20200328.0</td>\n",
       "      <td>NAH4</td>\n",
       "      <td>1.930709e+09</td>\n",
       "      <td>1</td>\n",
       "      <td>5.901956</td>\n",
       "      <td>0-15 days</td>\n",
       "    </tr>\n",
       "  </tbody>\n",
       "</table>\n",
       "<p>5 rows × 21 columns</p>\n",
       "</div>"
      ],
      "text/plain": [
       "   business_code cust_number     name_customer clear_date  buisness_year  \\\n",
       "4           U001  0200769623          WAL-MAR         NaN         2020.0   \n",
       "5           U001  0200704045               RA         NaN         2020.0   \n",
       "9           U001  0200782001  GORDO associates        NaN         2020.0   \n",
       "11          U001  0200762301       C&S WH corp        NaN         2020.0   \n",
       "13          U001  0200769623     WAL-MAR trust        NaN         2020.0   \n",
       "\n",
       "          doc_id posting_date  document_create_date  document_create_date.1  \\\n",
       "4   1.930737e+09   2020-04-03              20200403                20200403   \n",
       "5   1.930830e+09   2020-04-27              20200427                20200427   \n",
       "9   1.930578e+09   2020-02-27              20200227                20200227   \n",
       "11  1.930829e+09   2020-04-29              20200428                20200429   \n",
       "13  1.930709e+09   2020-03-28              20200327                20200328   \n",
       "\n",
       "    due_in_date  ... document type posting_id  area_business  \\\n",
       "4    20200418.0  ...            RV        1.0            NaN   \n",
       "5    20200512.0  ...            RV        1.0            NaN   \n",
       "9    20200313.0  ...            RV        1.0            NaN   \n",
       "11   20200514.0  ...            RV        1.0            NaN   \n",
       "13   20200412.0  ...            RV        1.0            NaN   \n",
       "\n",
       "    total_open_amount  baseline_create_date  cust_payment_terms    invoice_id  \\\n",
       "4            24079.57            20200403.0                NAH4  1.930737e+09   \n",
       "5            17937.75            20200427.0                NAA8  1.930830e+09   \n",
       "9            31129.05            20200227.0                NAA8  1.930578e+09   \n",
       "11           21021.43            20200429.0                NAC6  1.930829e+09   \n",
       "13            6594.48            20200328.0                NAH4  1.930709e+09   \n",
       "\n",
       "    isOpen      delay  Delay_Grouped  \n",
       "4        1   6.893261      0-15 days  \n",
       "5        1  10.017814      0-15 days  \n",
       "9        1   7.453289      0-15 days  \n",
       "11       1   4.777321      0-15 days  \n",
       "13       1   5.901956      0-15 days  \n",
       "\n",
       "[5 rows x 21 columns]"
      ]
     },
     "execution_count": 583,
     "metadata": {},
     "output_type": "execute_result"
    }
   ],
   "source": [
    "Temp2['Delay_Grouped'] = list2\n",
    "Temp2.head()"
   ]
  },
  {
   "cell_type": "code",
   "execution_count": 584,
   "id": "3764716c",
   "metadata": {},
   "outputs": [
    {
     "data": {
      "text/html": [
       "<div>\n",
       "<style scoped>\n",
       "    .dataframe tbody tr th:only-of-type {\n",
       "        vertical-align: middle;\n",
       "    }\n",
       "\n",
       "    .dataframe tbody tr th {\n",
       "        vertical-align: top;\n",
       "    }\n",
       "\n",
       "    .dataframe thead th {\n",
       "        text-align: right;\n",
       "    }\n",
       "</style>\n",
       "<table border=\"1\" class=\"dataframe\">\n",
       "  <thead>\n",
       "    <tr style=\"text-align: right;\">\n",
       "      <th></th>\n",
       "      <th>business_code</th>\n",
       "      <th>cust_number</th>\n",
       "      <th>name_customer</th>\n",
       "      <th>clear_date</th>\n",
       "      <th>buisness_year</th>\n",
       "      <th>doc_id</th>\n",
       "      <th>posting_date</th>\n",
       "      <th>document_create_date</th>\n",
       "      <th>document_create_date.1</th>\n",
       "      <th>due_in_date</th>\n",
       "      <th>...</th>\n",
       "      <th>document type</th>\n",
       "      <th>posting_id</th>\n",
       "      <th>area_business</th>\n",
       "      <th>total_open_amount</th>\n",
       "      <th>baseline_create_date</th>\n",
       "      <th>cust_payment_terms</th>\n",
       "      <th>invoice_id</th>\n",
       "      <th>isOpen</th>\n",
       "      <th>delay</th>\n",
       "      <th>Delay_Grouped</th>\n",
       "    </tr>\n",
       "  </thead>\n",
       "  <tbody>\n",
       "    <tr>\n",
       "      <th>4</th>\n",
       "      <td>U001</td>\n",
       "      <td>0200769623</td>\n",
       "      <td>WAL-MAR</td>\n",
       "      <td>NaT</td>\n",
       "      <td>2020.0</td>\n",
       "      <td>1.930737e+09</td>\n",
       "      <td>2020-04-03</td>\n",
       "      <td>20200403</td>\n",
       "      <td>20200403</td>\n",
       "      <td>2020-04-18</td>\n",
       "      <td>...</td>\n",
       "      <td>RV</td>\n",
       "      <td>1.0</td>\n",
       "      <td>NaN</td>\n",
       "      <td>24079.57</td>\n",
       "      <td>20200403.0</td>\n",
       "      <td>NAH4</td>\n",
       "      <td>1.930737e+09</td>\n",
       "      <td>1</td>\n",
       "      <td>6.893261</td>\n",
       "      <td>0-15 days</td>\n",
       "    </tr>\n",
       "    <tr>\n",
       "      <th>5</th>\n",
       "      <td>U001</td>\n",
       "      <td>0200704045</td>\n",
       "      <td>RA</td>\n",
       "      <td>NaT</td>\n",
       "      <td>2020.0</td>\n",
       "      <td>1.930830e+09</td>\n",
       "      <td>2020-04-27</td>\n",
       "      <td>20200427</td>\n",
       "      <td>20200427</td>\n",
       "      <td>2020-05-12</td>\n",
       "      <td>...</td>\n",
       "      <td>RV</td>\n",
       "      <td>1.0</td>\n",
       "      <td>NaN</td>\n",
       "      <td>17937.75</td>\n",
       "      <td>20200427.0</td>\n",
       "      <td>NAA8</td>\n",
       "      <td>1.930830e+09</td>\n",
       "      <td>1</td>\n",
       "      <td>10.017814</td>\n",
       "      <td>0-15 days</td>\n",
       "    </tr>\n",
       "    <tr>\n",
       "      <th>9</th>\n",
       "      <td>U001</td>\n",
       "      <td>0200782001</td>\n",
       "      <td>GORDO associates</td>\n",
       "      <td>NaT</td>\n",
       "      <td>2020.0</td>\n",
       "      <td>1.930578e+09</td>\n",
       "      <td>2020-02-27</td>\n",
       "      <td>20200227</td>\n",
       "      <td>20200227</td>\n",
       "      <td>2020-03-13</td>\n",
       "      <td>...</td>\n",
       "      <td>RV</td>\n",
       "      <td>1.0</td>\n",
       "      <td>NaN</td>\n",
       "      <td>31129.05</td>\n",
       "      <td>20200227.0</td>\n",
       "      <td>NAA8</td>\n",
       "      <td>1.930578e+09</td>\n",
       "      <td>1</td>\n",
       "      <td>7.453289</td>\n",
       "      <td>0-15 days</td>\n",
       "    </tr>\n",
       "    <tr>\n",
       "      <th>11</th>\n",
       "      <td>U001</td>\n",
       "      <td>0200762301</td>\n",
       "      <td>C&amp;S WH corp</td>\n",
       "      <td>NaT</td>\n",
       "      <td>2020.0</td>\n",
       "      <td>1.930829e+09</td>\n",
       "      <td>2020-04-29</td>\n",
       "      <td>20200428</td>\n",
       "      <td>20200429</td>\n",
       "      <td>2020-05-14</td>\n",
       "      <td>...</td>\n",
       "      <td>RV</td>\n",
       "      <td>1.0</td>\n",
       "      <td>NaN</td>\n",
       "      <td>21021.43</td>\n",
       "      <td>20200429.0</td>\n",
       "      <td>NAC6</td>\n",
       "      <td>1.930829e+09</td>\n",
       "      <td>1</td>\n",
       "      <td>4.777321</td>\n",
       "      <td>0-15 days</td>\n",
       "    </tr>\n",
       "    <tr>\n",
       "      <th>13</th>\n",
       "      <td>U001</td>\n",
       "      <td>0200769623</td>\n",
       "      <td>WAL-MAR trust</td>\n",
       "      <td>NaT</td>\n",
       "      <td>2020.0</td>\n",
       "      <td>1.930709e+09</td>\n",
       "      <td>2020-03-28</td>\n",
       "      <td>20200327</td>\n",
       "      <td>20200328</td>\n",
       "      <td>2020-04-12</td>\n",
       "      <td>...</td>\n",
       "      <td>RV</td>\n",
       "      <td>1.0</td>\n",
       "      <td>NaN</td>\n",
       "      <td>6594.48</td>\n",
       "      <td>20200328.0</td>\n",
       "      <td>NAH4</td>\n",
       "      <td>1.930709e+09</td>\n",
       "      <td>1</td>\n",
       "      <td>5.901956</td>\n",
       "      <td>0-15 days</td>\n",
       "    </tr>\n",
       "  </tbody>\n",
       "</table>\n",
       "<p>5 rows × 21 columns</p>\n",
       "</div>"
      ],
      "text/plain": [
       "   business_code cust_number     name_customer clear_date  buisness_year  \\\n",
       "4           U001  0200769623          WAL-MAR         NaT         2020.0   \n",
       "5           U001  0200704045               RA         NaT         2020.0   \n",
       "9           U001  0200782001  GORDO associates        NaT         2020.0   \n",
       "11          U001  0200762301       C&S WH corp        NaT         2020.0   \n",
       "13          U001  0200769623     WAL-MAR trust        NaT         2020.0   \n",
       "\n",
       "          doc_id posting_date  document_create_date  document_create_date.1  \\\n",
       "4   1.930737e+09   2020-04-03              20200403                20200403   \n",
       "5   1.930830e+09   2020-04-27              20200427                20200427   \n",
       "9   1.930578e+09   2020-02-27              20200227                20200227   \n",
       "11  1.930829e+09   2020-04-29              20200428                20200429   \n",
       "13  1.930709e+09   2020-03-28              20200327                20200328   \n",
       "\n",
       "   due_in_date  ... document type posting_id  area_business  \\\n",
       "4   2020-04-18  ...            RV        1.0            NaN   \n",
       "5   2020-05-12  ...            RV        1.0            NaN   \n",
       "9   2020-03-13  ...            RV        1.0            NaN   \n",
       "11  2020-05-14  ...            RV        1.0            NaN   \n",
       "13  2020-04-12  ...            RV        1.0            NaN   \n",
       "\n",
       "    total_open_amount  baseline_create_date  cust_payment_terms    invoice_id  \\\n",
       "4            24079.57            20200403.0                NAH4  1.930737e+09   \n",
       "5            17937.75            20200427.0                NAA8  1.930830e+09   \n",
       "9            31129.05            20200227.0                NAA8  1.930578e+09   \n",
       "11           21021.43            20200429.0                NAC6  1.930829e+09   \n",
       "13            6594.48            20200328.0                NAH4  1.930709e+09   \n",
       "\n",
       "    isOpen      delay  Delay_Grouped  \n",
       "4        1   6.893261      0-15 days  \n",
       "5        1  10.017814      0-15 days  \n",
       "9        1   7.453289      0-15 days  \n",
       "11       1   4.777321      0-15 days  \n",
       "13       1   5.901956      0-15 days  \n",
       "\n",
       "[5 rows x 21 columns]"
      ]
     },
     "execution_count": 584,
     "metadata": {},
     "output_type": "execute_result"
    }
   ],
   "source": [
    "#Now clear_date,due_in_date are converted to datetime format for predicting the clear_date having null values\n",
    "Temp2['clear_date'] = pd.to_datetime(Temp2['clear_date'])\n",
    "Temp2['due_in_date'] = pd.to_datetime(Temp2['due_in_date'], format='%Y%m%d')\n",
    "Temp2.head()"
   ]
  },
  {
   "cell_type": "code",
   "execution_count": 585,
   "id": "7cc173b8",
   "metadata": {},
   "outputs": [],
   "source": [
    "#Predicting the null clear dates using by due_date+delay\n",
    "delay_converted = Temp2['delay'].apply(np.ceil).apply(lambda x: pd.Timedelta(x, unit='D'))\n",
    "Temp2['clear_date'] = Temp2['due_in_date'] + delay_converted"
   ]
  },
  {
   "cell_type": "code",
   "execution_count": 586,
   "id": "a07cc9c9",
   "metadata": {},
   "outputs": [
    {
     "data": {
      "text/html": [
       "<div>\n",
       "<style scoped>\n",
       "    .dataframe tbody tr th:only-of-type {\n",
       "        vertical-align: middle;\n",
       "    }\n",
       "\n",
       "    .dataframe tbody tr th {\n",
       "        vertical-align: top;\n",
       "    }\n",
       "\n",
       "    .dataframe thead th {\n",
       "        text-align: right;\n",
       "    }\n",
       "</style>\n",
       "<table border=\"1\" class=\"dataframe\">\n",
       "  <thead>\n",
       "    <tr style=\"text-align: right;\">\n",
       "      <th></th>\n",
       "      <th>business_code</th>\n",
       "      <th>cust_number</th>\n",
       "      <th>name_customer</th>\n",
       "      <th>clear_date</th>\n",
       "      <th>buisness_year</th>\n",
       "      <th>doc_id</th>\n",
       "      <th>posting_date</th>\n",
       "      <th>document_create_date</th>\n",
       "      <th>document_create_date.1</th>\n",
       "      <th>due_in_date</th>\n",
       "      <th>...</th>\n",
       "      <th>document type</th>\n",
       "      <th>posting_id</th>\n",
       "      <th>area_business</th>\n",
       "      <th>total_open_amount</th>\n",
       "      <th>baseline_create_date</th>\n",
       "      <th>cust_payment_terms</th>\n",
       "      <th>invoice_id</th>\n",
       "      <th>isOpen</th>\n",
       "      <th>delay</th>\n",
       "      <th>Delay_Grouped</th>\n",
       "    </tr>\n",
       "  </thead>\n",
       "  <tbody>\n",
       "    <tr>\n",
       "      <th>4</th>\n",
       "      <td>U001</td>\n",
       "      <td>0200769623</td>\n",
       "      <td>WAL-MAR</td>\n",
       "      <td>2020-04-25</td>\n",
       "      <td>2020.0</td>\n",
       "      <td>1.930737e+09</td>\n",
       "      <td>2020-04-03</td>\n",
       "      <td>20200403</td>\n",
       "      <td>20200403</td>\n",
       "      <td>2020-04-18</td>\n",
       "      <td>...</td>\n",
       "      <td>RV</td>\n",
       "      <td>1.0</td>\n",
       "      <td>NaN</td>\n",
       "      <td>24079.57</td>\n",
       "      <td>20200403.0</td>\n",
       "      <td>NAH4</td>\n",
       "      <td>1.930737e+09</td>\n",
       "      <td>1</td>\n",
       "      <td>6.893261</td>\n",
       "      <td>0-15 days</td>\n",
       "    </tr>\n",
       "    <tr>\n",
       "      <th>5</th>\n",
       "      <td>U001</td>\n",
       "      <td>0200704045</td>\n",
       "      <td>RA</td>\n",
       "      <td>2020-05-23</td>\n",
       "      <td>2020.0</td>\n",
       "      <td>1.930830e+09</td>\n",
       "      <td>2020-04-27</td>\n",
       "      <td>20200427</td>\n",
       "      <td>20200427</td>\n",
       "      <td>2020-05-12</td>\n",
       "      <td>...</td>\n",
       "      <td>RV</td>\n",
       "      <td>1.0</td>\n",
       "      <td>NaN</td>\n",
       "      <td>17937.75</td>\n",
       "      <td>20200427.0</td>\n",
       "      <td>NAA8</td>\n",
       "      <td>1.930830e+09</td>\n",
       "      <td>1</td>\n",
       "      <td>10.017814</td>\n",
       "      <td>0-15 days</td>\n",
       "    </tr>\n",
       "    <tr>\n",
       "      <th>9</th>\n",
       "      <td>U001</td>\n",
       "      <td>0200782001</td>\n",
       "      <td>GORDO associates</td>\n",
       "      <td>2020-03-21</td>\n",
       "      <td>2020.0</td>\n",
       "      <td>1.930578e+09</td>\n",
       "      <td>2020-02-27</td>\n",
       "      <td>20200227</td>\n",
       "      <td>20200227</td>\n",
       "      <td>2020-03-13</td>\n",
       "      <td>...</td>\n",
       "      <td>RV</td>\n",
       "      <td>1.0</td>\n",
       "      <td>NaN</td>\n",
       "      <td>31129.05</td>\n",
       "      <td>20200227.0</td>\n",
       "      <td>NAA8</td>\n",
       "      <td>1.930578e+09</td>\n",
       "      <td>1</td>\n",
       "      <td>7.453289</td>\n",
       "      <td>0-15 days</td>\n",
       "    </tr>\n",
       "    <tr>\n",
       "      <th>11</th>\n",
       "      <td>U001</td>\n",
       "      <td>0200762301</td>\n",
       "      <td>C&amp;S WH corp</td>\n",
       "      <td>2020-05-19</td>\n",
       "      <td>2020.0</td>\n",
       "      <td>1.930829e+09</td>\n",
       "      <td>2020-04-29</td>\n",
       "      <td>20200428</td>\n",
       "      <td>20200429</td>\n",
       "      <td>2020-05-14</td>\n",
       "      <td>...</td>\n",
       "      <td>RV</td>\n",
       "      <td>1.0</td>\n",
       "      <td>NaN</td>\n",
       "      <td>21021.43</td>\n",
       "      <td>20200429.0</td>\n",
       "      <td>NAC6</td>\n",
       "      <td>1.930829e+09</td>\n",
       "      <td>1</td>\n",
       "      <td>4.777321</td>\n",
       "      <td>0-15 days</td>\n",
       "    </tr>\n",
       "    <tr>\n",
       "      <th>13</th>\n",
       "      <td>U001</td>\n",
       "      <td>0200769623</td>\n",
       "      <td>WAL-MAR trust</td>\n",
       "      <td>2020-04-18</td>\n",
       "      <td>2020.0</td>\n",
       "      <td>1.930709e+09</td>\n",
       "      <td>2020-03-28</td>\n",
       "      <td>20200327</td>\n",
       "      <td>20200328</td>\n",
       "      <td>2020-04-12</td>\n",
       "      <td>...</td>\n",
       "      <td>RV</td>\n",
       "      <td>1.0</td>\n",
       "      <td>NaN</td>\n",
       "      <td>6594.48</td>\n",
       "      <td>20200328.0</td>\n",
       "      <td>NAH4</td>\n",
       "      <td>1.930709e+09</td>\n",
       "      <td>1</td>\n",
       "      <td>5.901956</td>\n",
       "      <td>0-15 days</td>\n",
       "    </tr>\n",
       "  </tbody>\n",
       "</table>\n",
       "<p>5 rows × 21 columns</p>\n",
       "</div>"
      ],
      "text/plain": [
       "   business_code cust_number     name_customer clear_date  buisness_year  \\\n",
       "4           U001  0200769623          WAL-MAR  2020-04-25         2020.0   \n",
       "5           U001  0200704045               RA  2020-05-23         2020.0   \n",
       "9           U001  0200782001  GORDO associates 2020-03-21         2020.0   \n",
       "11          U001  0200762301       C&S WH corp 2020-05-19         2020.0   \n",
       "13          U001  0200769623     WAL-MAR trust 2020-04-18         2020.0   \n",
       "\n",
       "          doc_id posting_date  document_create_date  document_create_date.1  \\\n",
       "4   1.930737e+09   2020-04-03              20200403                20200403   \n",
       "5   1.930830e+09   2020-04-27              20200427                20200427   \n",
       "9   1.930578e+09   2020-02-27              20200227                20200227   \n",
       "11  1.930829e+09   2020-04-29              20200428                20200429   \n",
       "13  1.930709e+09   2020-03-28              20200327                20200328   \n",
       "\n",
       "   due_in_date  ... document type posting_id  area_business  \\\n",
       "4   2020-04-18  ...            RV        1.0            NaN   \n",
       "5   2020-05-12  ...            RV        1.0            NaN   \n",
       "9   2020-03-13  ...            RV        1.0            NaN   \n",
       "11  2020-05-14  ...            RV        1.0            NaN   \n",
       "13  2020-04-12  ...            RV        1.0            NaN   \n",
       "\n",
       "    total_open_amount  baseline_create_date  cust_payment_terms    invoice_id  \\\n",
       "4            24079.57            20200403.0                NAH4  1.930737e+09   \n",
       "5            17937.75            20200427.0                NAA8  1.930830e+09   \n",
       "9            31129.05            20200227.0                NAA8  1.930578e+09   \n",
       "11           21021.43            20200429.0                NAC6  1.930829e+09   \n",
       "13            6594.48            20200328.0                NAH4  1.930709e+09   \n",
       "\n",
       "    isOpen      delay  Delay_Grouped  \n",
       "4        1   6.893261      0-15 days  \n",
       "5        1  10.017814      0-15 days  \n",
       "9        1   7.453289      0-15 days  \n",
       "11       1   4.777321      0-15 days  \n",
       "13       1   5.901956      0-15 days  \n",
       "\n",
       "[5 rows x 21 columns]"
      ]
     },
     "execution_count": 586,
     "metadata": {},
     "output_type": "execute_result"
    }
   ],
   "source": [
    "Temp2.head()"
   ]
  },
  {
   "cell_type": "markdown",
   "id": "a1278cd2",
   "metadata": {},
   "source": [
    "# Finally We Predicted The Clear Dates !!"
   ]
  },
  {
   "cell_type": "code",
   "execution_count": null,
   "id": "dc0997c0",
   "metadata": {},
   "outputs": [],
   "source": []
  }
 ],
 "metadata": {
  "kernelspec": {
   "display_name": "Python 3",
   "language": "python",
   "name": "python3"
  },
  "language_info": {
   "codemirror_mode": {
    "name": "ipython",
    "version": 3
   },
   "file_extension": ".py",
   "mimetype": "text/x-python",
   "name": "python",
   "nbconvert_exporter": "python",
   "pygments_lexer": "ipython3",
   "version": "3.9.5"
  }
 },
 "nbformat": 4,
 "nbformat_minor": 5
}
