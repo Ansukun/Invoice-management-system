{
 "cells": [
  {
   "cell_type": "code",
   "execution_count": 2,
   "id": "b40761d9",
   "metadata": {},
   "outputs": [],
   "source": [
    "import pandas as pd\n",
    "import numpy as np\n",
    "from sklearn.feature_selection import VarianceThreshold"
   ]
  },
  {
   "cell_type": "code",
   "execution_count": 3,
   "id": "82baaafe",
   "metadata": {},
   "outputs": [],
   "source": [
    "data = pd.read_csv('H2HBABBA1533.csv')"
   ]
  },
  {
   "cell_type": "code",
   "execution_count": 4,
   "id": "4189fa5c",
   "metadata": {},
   "outputs": [
    {
     "data": {
      "text/html": [
       "<div>\n",
       "<style scoped>\n",
       "    .dataframe tbody tr th:only-of-type {\n",
       "        vertical-align: middle;\n",
       "    }\n",
       "\n",
       "    .dataframe tbody tr th {\n",
       "        vertical-align: top;\n",
       "    }\n",
       "\n",
       "    .dataframe thead th {\n",
       "        text-align: right;\n",
       "    }\n",
       "</style>\n",
       "<table border=\"1\" class=\"dataframe\">\n",
       "  <thead>\n",
       "    <tr style=\"text-align: right;\">\n",
       "      <th></th>\n",
       "      <th>business_code</th>\n",
       "      <th>cust_number</th>\n",
       "      <th>name_customer</th>\n",
       "      <th>clear_date</th>\n",
       "      <th>buisness_year</th>\n",
       "      <th>doc_id</th>\n",
       "      <th>posting_date</th>\n",
       "      <th>document_create_date</th>\n",
       "      <th>document_create_date.1</th>\n",
       "      <th>due_in_date</th>\n",
       "      <th>invoice_currency</th>\n",
       "      <th>document type</th>\n",
       "      <th>posting_id</th>\n",
       "      <th>area_business</th>\n",
       "      <th>total_open_amount</th>\n",
       "      <th>baseline_create_date</th>\n",
       "      <th>cust_payment_terms</th>\n",
       "      <th>invoice_id</th>\n",
       "      <th>isOpen</th>\n",
       "    </tr>\n",
       "  </thead>\n",
       "  <tbody>\n",
       "    <tr>\n",
       "      <th>0</th>\n",
       "      <td>U001</td>\n",
       "      <td>0200895843</td>\n",
       "      <td>US</td>\n",
       "      <td>2019-09-09 00:00:00</td>\n",
       "      <td>2019.0</td>\n",
       "      <td>1.929776e+09</td>\n",
       "      <td>2019-08-22</td>\n",
       "      <td>20190822</td>\n",
       "      <td>20190822</td>\n",
       "      <td>20190906.0</td>\n",
       "      <td>USD</td>\n",
       "      <td>RV</td>\n",
       "      <td>1.0</td>\n",
       "      <td>NaN</td>\n",
       "      <td>41386.61</td>\n",
       "      <td>20190822.0</td>\n",
       "      <td>NAA8</td>\n",
       "      <td>1.929776e+09</td>\n",
       "      <td>0</td>\n",
       "    </tr>\n",
       "    <tr>\n",
       "      <th>1</th>\n",
       "      <td>U001</td>\n",
       "      <td>0200769623</td>\n",
       "      <td>WAL-MAR</td>\n",
       "      <td>2019-11-25 00:00:00</td>\n",
       "      <td>2019.0</td>\n",
       "      <td>1.930144e+09</td>\n",
       "      <td>2019-11-12</td>\n",
       "      <td>20191112</td>\n",
       "      <td>20191112</td>\n",
       "      <td>20191127.0</td>\n",
       "      <td>USD</td>\n",
       "      <td>RV</td>\n",
       "      <td>1.0</td>\n",
       "      <td>NaN</td>\n",
       "      <td>47178.82</td>\n",
       "      <td>20191112.0</td>\n",
       "      <td>NAH4</td>\n",
       "      <td>1.930144e+09</td>\n",
       "      <td>0</td>\n",
       "    </tr>\n",
       "    <tr>\n",
       "      <th>2</th>\n",
       "      <td>U001</td>\n",
       "      <td>0200769623</td>\n",
       "      <td>WAL-MAR foundation</td>\n",
       "      <td>2019-04-23 00:00:00</td>\n",
       "      <td>2019.0</td>\n",
       "      <td>1.929131e+09</td>\n",
       "      <td>2019-04-12</td>\n",
       "      <td>20190411</td>\n",
       "      <td>20190412</td>\n",
       "      <td>20190427.0</td>\n",
       "      <td>USD</td>\n",
       "      <td>RV</td>\n",
       "      <td>1.0</td>\n",
       "      <td>NaN</td>\n",
       "      <td>51389.52</td>\n",
       "      <td>20190412.0</td>\n",
       "      <td>NAH4</td>\n",
       "      <td>1.929131e+09</td>\n",
       "      <td>0</td>\n",
       "    </tr>\n",
       "    <tr>\n",
       "      <th>3</th>\n",
       "      <td>U001</td>\n",
       "      <td>0200769623</td>\n",
       "      <td>WAL-MAR co</td>\n",
       "      <td>2019-11-26 00:00:00</td>\n",
       "      <td>2019.0</td>\n",
       "      <td>1.930124e+09</td>\n",
       "      <td>2019-11-15</td>\n",
       "      <td>20191107</td>\n",
       "      <td>20191115</td>\n",
       "      <td>20191130.0</td>\n",
       "      <td>USD</td>\n",
       "      <td>RV</td>\n",
       "      <td>1.0</td>\n",
       "      <td>NaN</td>\n",
       "      <td>18177.18</td>\n",
       "      <td>20191115.0</td>\n",
       "      <td>NAH4</td>\n",
       "      <td>1.930124e+09</td>\n",
       "      <td>0</td>\n",
       "    </tr>\n",
       "    <tr>\n",
       "      <th>4</th>\n",
       "      <td>U001</td>\n",
       "      <td>0200769623</td>\n",
       "      <td>WAL-MAR</td>\n",
       "      <td>NaN</td>\n",
       "      <td>2020.0</td>\n",
       "      <td>1.930737e+09</td>\n",
       "      <td>2020-04-03</td>\n",
       "      <td>20200403</td>\n",
       "      <td>20200403</td>\n",
       "      <td>20200418.0</td>\n",
       "      <td>USD</td>\n",
       "      <td>RV</td>\n",
       "      <td>1.0</td>\n",
       "      <td>NaN</td>\n",
       "      <td>24079.57</td>\n",
       "      <td>20200403.0</td>\n",
       "      <td>NAH4</td>\n",
       "      <td>1.930737e+09</td>\n",
       "      <td>1</td>\n",
       "    </tr>\n",
       "  </tbody>\n",
       "</table>\n",
       "</div>"
      ],
      "text/plain": [
       "  business_code cust_number       name_customer           clear_date  \\\n",
       "0          U001  0200895843                US    2019-09-09 00:00:00   \n",
       "1          U001  0200769623            WAL-MAR   2019-11-25 00:00:00   \n",
       "2          U001  0200769623  WAL-MAR foundation  2019-04-23 00:00:00   \n",
       "3          U001  0200769623          WAL-MAR co  2019-11-26 00:00:00   \n",
       "4          U001  0200769623            WAL-MAR                   NaN   \n",
       "\n",
       "   buisness_year        doc_id posting_date  document_create_date  \\\n",
       "0         2019.0  1.929776e+09   2019-08-22              20190822   \n",
       "1         2019.0  1.930144e+09   2019-11-12              20191112   \n",
       "2         2019.0  1.929131e+09   2019-04-12              20190411   \n",
       "3         2019.0  1.930124e+09   2019-11-15              20191107   \n",
       "4         2020.0  1.930737e+09   2020-04-03              20200403   \n",
       "\n",
       "   document_create_date.1  due_in_date invoice_currency document type  \\\n",
       "0                20190822   20190906.0              USD            RV   \n",
       "1                20191112   20191127.0              USD            RV   \n",
       "2                20190412   20190427.0              USD            RV   \n",
       "3                20191115   20191130.0              USD            RV   \n",
       "4                20200403   20200418.0              USD            RV   \n",
       "\n",
       "   posting_id  area_business  total_open_amount  baseline_create_date  \\\n",
       "0         1.0            NaN           41386.61            20190822.0   \n",
       "1         1.0            NaN           47178.82            20191112.0   \n",
       "2         1.0            NaN           51389.52            20190412.0   \n",
       "3         1.0            NaN           18177.18            20191115.0   \n",
       "4         1.0            NaN           24079.57            20200403.0   \n",
       "\n",
       "  cust_payment_terms    invoice_id  isOpen  \n",
       "0               NAA8  1.929776e+09       0  \n",
       "1               NAH4  1.930144e+09       0  \n",
       "2               NAH4  1.929131e+09       0  \n",
       "3               NAH4  1.930124e+09       0  \n",
       "4               NAH4  1.930737e+09       1  "
      ]
     },
     "execution_count": 4,
     "metadata": {},
     "output_type": "execute_result"
    }
   ],
   "source": [
    "data.head()"
   ]
  },
  {
   "cell_type": "code",
   "execution_count": 5,
   "id": "a3be3128",
   "metadata": {},
   "outputs": [
    {
     "data": {
      "text/plain": [
       "business_code                 0\n",
       "cust_number                   0\n",
       "name_customer                 0\n",
       "clear_date                10000\n",
       "buisness_year                 0\n",
       "doc_id                        0\n",
       "posting_date                  0\n",
       "document_create_date          0\n",
       "document_create_date.1        0\n",
       "due_in_date                   0\n",
       "invoice_currency              0\n",
       "document type                 0\n",
       "posting_id                    0\n",
       "area_business             50000\n",
       "total_open_amount             0\n",
       "baseline_create_date          0\n",
       "cust_payment_terms            0\n",
       "invoice_id                    4\n",
       "isOpen                        0\n",
       "dtype: int64"
      ]
     },
     "execution_count": 5,
     "metadata": {},
     "output_type": "execute_result"
    }
   ],
   "source": [
    "data.isnull().sum()"
   ]
  },
  {
   "cell_type": "code",
   "execution_count": 6,
   "id": "66e67162",
   "metadata": {},
   "outputs": [],
   "source": [
    "data.drop(columns=['area_business','invoice_id'],inplace=True)"
   ]
  },
  {
   "cell_type": "code",
   "execution_count": 7,
   "id": "981d1b06",
   "metadata": {},
   "outputs": [
    {
     "data": {
      "text/plain": [
       "business_code                 0\n",
       "cust_number                   0\n",
       "name_customer                 0\n",
       "clear_date                10000\n",
       "buisness_year                 0\n",
       "doc_id                        0\n",
       "posting_date                  0\n",
       "document_create_date          0\n",
       "document_create_date.1        0\n",
       "due_in_date                   0\n",
       "invoice_currency              0\n",
       "document type                 0\n",
       "posting_id                    0\n",
       "total_open_amount             0\n",
       "baseline_create_date          0\n",
       "cust_payment_terms            0\n",
       "isOpen                        0\n",
       "dtype: int64"
      ]
     },
     "execution_count": 7,
     "metadata": {},
     "output_type": "execute_result"
    }
   ],
   "source": [
    "data.isnull().sum()"
   ]
  },
  {
   "cell_type": "code",
   "execution_count": 8,
   "id": "eefef441",
   "metadata": {},
   "outputs": [
    {
     "data": {
      "text/plain": [
       "1212"
      ]
     },
     "execution_count": 8,
     "metadata": {},
     "output_type": "execute_result"
    }
   ],
   "source": [
    "data.duplicated().sum()"
   ]
  },
  {
   "cell_type": "code",
   "execution_count": 9,
   "id": "c60de2fb",
   "metadata": {},
   "outputs": [
    {
     "ename": "NameError",
     "evalue": "name 'VarianceThreshold' is not defined",
     "output_type": "error",
     "traceback": [
      "\u001b[1;31m---------------------------------------------------------------------------\u001b[0m",
      "\u001b[1;31mNameError\u001b[0m                                 Traceback (most recent call last)",
      "\u001b[1;32m<ipython-input-9-103dde1c9cad>\u001b[0m in \u001b[0;36m<module>\u001b[1;34m\u001b[0m\n\u001b[1;32m----> 1\u001b[1;33m sel = VarianceThreshold(\n\u001b[0m\u001b[0;32m      2\u001b[0m     threshold=0.01)  # 0.1 indicates 99% of observations approximately\n\u001b[0;32m      3\u001b[0m \u001b[1;33m\u001b[0m\u001b[0m\n\u001b[0;32m      4\u001b[0m \u001b[0msel\u001b[0m\u001b[1;33m.\u001b[0m\u001b[0mfit\u001b[0m\u001b[1;33m(\u001b[0m\u001b[0mX_train\u001b[0m\u001b[1;33m)\u001b[0m  \u001b[1;31m# fit finds the features with low variance\u001b[0m\u001b[1;33m\u001b[0m\u001b[1;33m\u001b[0m\u001b[0m\n",
      "\u001b[1;31mNameError\u001b[0m: name 'VarianceThreshold' is not defined"
     ]
    }
   ],
   "source": [
    "sel = VarianceThreshold(\n",
    "    threshold=0.01)  # 0.1 indicates 99% of observations approximately\n",
    "\n",
    "sel.fit(X_train)  # fit finds the features with low variance"
   ]
  }
 ],
 "metadata": {
  "kernelspec": {
   "display_name": "Python 3",
   "language": "python",
   "name": "python3"
  },
  "language_info": {
   "codemirror_mode": {
    "name": "ipython",
    "version": 3
   },
   "file_extension": ".py",
   "mimetype": "text/x-python",
   "name": "python",
   "nbconvert_exporter": "python",
   "pygments_lexer": "ipython3",
   "version": "3.9.5"
  }
 },
 "nbformat": 4,
 "nbformat_minor": 5
}
