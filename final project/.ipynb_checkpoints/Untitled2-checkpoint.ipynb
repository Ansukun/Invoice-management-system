{
 "cells": [
  {
   "cell_type": "code",
   "execution_count": 1,
   "id": "bd2eb224",
   "metadata": {},
   "outputs": [],
   "source": [
    "import pandas as pd\n",
    "import numpy as np\n",
    "from sklearn.model_selection import train_test_split\n",
    "import seaborn as sns\n",
    "import matplotlib.pyplot as plt\n",
    "from math import sqrt\n",
    "from sklearn.feature_selection import VarianceThreshold\n",
    "from sklearn.preprocessing import StandardScaler\n",
    "from sklearn.preprocessing import LabelEncoder\n",
    "from sklearn.linear_model import LinearRegression\n",
    "from sklearn.svm import SVR\n",
    "from sklearn.tree import DecisionTreeRegressor\n",
    "from sklearn.ensemble import RandomForestRegressor\n",
    "from sklearn.datasets import load_boston\n",
    "from sklearn.metrics import mean_squared_error\n",
    "from sklearn.metrics import r2_score"
   ]
  },
  {
   "cell_type": "code",
   "execution_count": 2,
   "id": "7e2d0b41",
   "metadata": {},
   "outputs": [],
   "source": [
    "#reading  csv file data \n",
    "data=pd.read_csv(\"H2HBABBA1533.csv\")"
   ]
  },
  {
   "cell_type": "code",
   "execution_count": 3,
   "id": "dc77bf45",
   "metadata": {},
   "outputs": [
    {
     "data": {
      "text/plain": [
       "1212"
      ]
     },
     "execution_count": 3,
     "metadata": {},
     "output_type": "execute_result"
    }
   ],
   "source": [
    "#check if  dupilcates are present in data\n",
    "data.duplicated().sum()"
   ]
  },
  {
   "cell_type": "code",
   "execution_count": 4,
   "id": "c33671e3",
   "metadata": {},
   "outputs": [],
   "source": [
    "#deleteing dupicates\n",
    "data.drop_duplicates(keep =False,inplace  = True)"
   ]
  },
  {
   "cell_type": "code",
   "execution_count": 5,
   "id": "fac57c7e",
   "metadata": {},
   "outputs": [
    {
     "data": {
      "text/html": [
       "<div>\n",
       "<style scoped>\n",
       "    .dataframe tbody tr th:only-of-type {\n",
       "        vertical-align: middle;\n",
       "    }\n",
       "\n",
       "    .dataframe tbody tr th {\n",
       "        vertical-align: top;\n",
       "    }\n",
       "\n",
       "    .dataframe thead th {\n",
       "        text-align: right;\n",
       "    }\n",
       "</style>\n",
       "<table border=\"1\" class=\"dataframe\">\n",
       "  <thead>\n",
       "    <tr style=\"text-align: right;\">\n",
       "      <th></th>\n",
       "      <th>business_code</th>\n",
       "      <th>cust_number</th>\n",
       "      <th>name_customer</th>\n",
       "      <th>clear_date</th>\n",
       "      <th>buisness_year</th>\n",
       "      <th>doc_id</th>\n",
       "      <th>posting_date</th>\n",
       "      <th>document_create_date</th>\n",
       "      <th>document_create_date.1</th>\n",
       "      <th>due_in_date</th>\n",
       "      <th>invoice_currency</th>\n",
       "      <th>document type</th>\n",
       "      <th>posting_id</th>\n",
       "      <th>area_business</th>\n",
       "      <th>total_open_amount</th>\n",
       "      <th>baseline_create_date</th>\n",
       "      <th>cust_payment_terms</th>\n",
       "      <th>invoice_id</th>\n",
       "      <th>isOpen</th>\n",
       "    </tr>\n",
       "  </thead>\n",
       "  <tbody>\n",
       "    <tr>\n",
       "      <th>0</th>\n",
       "      <td>U001</td>\n",
       "      <td>0200895843</td>\n",
       "      <td>US</td>\n",
       "      <td>2019-09-09 00:00:00</td>\n",
       "      <td>2019.0</td>\n",
       "      <td>1.929776e+09</td>\n",
       "      <td>2019-08-22</td>\n",
       "      <td>20190822</td>\n",
       "      <td>20190822</td>\n",
       "      <td>20190906.0</td>\n",
       "      <td>USD</td>\n",
       "      <td>RV</td>\n",
       "      <td>1.0</td>\n",
       "      <td>NaN</td>\n",
       "      <td>41386.61</td>\n",
       "      <td>20190822.0</td>\n",
       "      <td>NAA8</td>\n",
       "      <td>1.929776e+09</td>\n",
       "      <td>0</td>\n",
       "    </tr>\n",
       "    <tr>\n",
       "      <th>1</th>\n",
       "      <td>U001</td>\n",
       "      <td>0200769623</td>\n",
       "      <td>WAL-MAR</td>\n",
       "      <td>2019-11-25 00:00:00</td>\n",
       "      <td>2019.0</td>\n",
       "      <td>1.930144e+09</td>\n",
       "      <td>2019-11-12</td>\n",
       "      <td>20191112</td>\n",
       "      <td>20191112</td>\n",
       "      <td>20191127.0</td>\n",
       "      <td>USD</td>\n",
       "      <td>RV</td>\n",
       "      <td>1.0</td>\n",
       "      <td>NaN</td>\n",
       "      <td>47178.82</td>\n",
       "      <td>20191112.0</td>\n",
       "      <td>NAH4</td>\n",
       "      <td>1.930144e+09</td>\n",
       "      <td>0</td>\n",
       "    </tr>\n",
       "    <tr>\n",
       "      <th>2</th>\n",
       "      <td>U001</td>\n",
       "      <td>0200769623</td>\n",
       "      <td>WAL-MAR foundation</td>\n",
       "      <td>2019-04-23 00:00:00</td>\n",
       "      <td>2019.0</td>\n",
       "      <td>1.929131e+09</td>\n",
       "      <td>2019-04-12</td>\n",
       "      <td>20190411</td>\n",
       "      <td>20190412</td>\n",
       "      <td>20190427.0</td>\n",
       "      <td>USD</td>\n",
       "      <td>RV</td>\n",
       "      <td>1.0</td>\n",
       "      <td>NaN</td>\n",
       "      <td>51389.52</td>\n",
       "      <td>20190412.0</td>\n",
       "      <td>NAH4</td>\n",
       "      <td>1.929131e+09</td>\n",
       "      <td>0</td>\n",
       "    </tr>\n",
       "    <tr>\n",
       "      <th>3</th>\n",
       "      <td>U001</td>\n",
       "      <td>0200769623</td>\n",
       "      <td>WAL-MAR co</td>\n",
       "      <td>2019-11-26 00:00:00</td>\n",
       "      <td>2019.0</td>\n",
       "      <td>1.930124e+09</td>\n",
       "      <td>2019-11-15</td>\n",
       "      <td>20191107</td>\n",
       "      <td>20191115</td>\n",
       "      <td>20191130.0</td>\n",
       "      <td>USD</td>\n",
       "      <td>RV</td>\n",
       "      <td>1.0</td>\n",
       "      <td>NaN</td>\n",
       "      <td>18177.18</td>\n",
       "      <td>20191115.0</td>\n",
       "      <td>NAH4</td>\n",
       "      <td>1.930124e+09</td>\n",
       "      <td>0</td>\n",
       "    </tr>\n",
       "    <tr>\n",
       "      <th>4</th>\n",
       "      <td>U001</td>\n",
       "      <td>0200769623</td>\n",
       "      <td>WAL-MAR</td>\n",
       "      <td>NaN</td>\n",
       "      <td>2020.0</td>\n",
       "      <td>1.930737e+09</td>\n",
       "      <td>2020-04-03</td>\n",
       "      <td>20200403</td>\n",
       "      <td>20200403</td>\n",
       "      <td>20200418.0</td>\n",
       "      <td>USD</td>\n",
       "      <td>RV</td>\n",
       "      <td>1.0</td>\n",
       "      <td>NaN</td>\n",
       "      <td>24079.57</td>\n",
       "      <td>20200403.0</td>\n",
       "      <td>NAH4</td>\n",
       "      <td>1.930737e+09</td>\n",
       "      <td>1</td>\n",
       "    </tr>\n",
       "  </tbody>\n",
       "</table>\n",
       "</div>"
      ],
      "text/plain": [
       "  business_code cust_number       name_customer           clear_date  \\\n",
       "0          U001  0200895843                US    2019-09-09 00:00:00   \n",
       "1          U001  0200769623            WAL-MAR   2019-11-25 00:00:00   \n",
       "2          U001  0200769623  WAL-MAR foundation  2019-04-23 00:00:00   \n",
       "3          U001  0200769623          WAL-MAR co  2019-11-26 00:00:00   \n",
       "4          U001  0200769623            WAL-MAR                   NaN   \n",
       "\n",
       "   buisness_year        doc_id posting_date  document_create_date  \\\n",
       "0         2019.0  1.929776e+09   2019-08-22              20190822   \n",
       "1         2019.0  1.930144e+09   2019-11-12              20191112   \n",
       "2         2019.0  1.929131e+09   2019-04-12              20190411   \n",
       "3         2019.0  1.930124e+09   2019-11-15              20191107   \n",
       "4         2020.0  1.930737e+09   2020-04-03              20200403   \n",
       "\n",
       "   document_create_date.1  due_in_date invoice_currency document type  \\\n",
       "0                20190822   20190906.0              USD            RV   \n",
       "1                20191112   20191127.0              USD            RV   \n",
       "2                20190412   20190427.0              USD            RV   \n",
       "3                20191115   20191130.0              USD            RV   \n",
       "4                20200403   20200418.0              USD            RV   \n",
       "\n",
       "   posting_id  area_business  total_open_amount  baseline_create_date  \\\n",
       "0         1.0            NaN           41386.61            20190822.0   \n",
       "1         1.0            NaN           47178.82            20191112.0   \n",
       "2         1.0            NaN           51389.52            20190412.0   \n",
       "3         1.0            NaN           18177.18            20191115.0   \n",
       "4         1.0            NaN           24079.57            20200403.0   \n",
       "\n",
       "  cust_payment_terms    invoice_id  isOpen  \n",
       "0               NAA8  1.929776e+09       0  \n",
       "1               NAH4  1.930144e+09       0  \n",
       "2               NAH4  1.929131e+09       0  \n",
       "3               NAH4  1.930124e+09       0  \n",
       "4               NAH4  1.930737e+09       1  "
      ]
     },
     "execution_count": 5,
     "metadata": {},
     "output_type": "execute_result"
    }
   ],
   "source": [
    "data.head()"
   ]
  },
  {
   "cell_type": "code",
   "execution_count": 6,
   "id": "34be2142",
   "metadata": {},
   "outputs": [
    {
     "data": {
      "text/plain": [
       "Index(['posting_id', 'area_business'], dtype='object')"
      ]
     },
     "execution_count": 6,
     "metadata": {},
     "output_type": "execute_result"
    }
   ],
   "source": [
    "#check fro any constant features are present or not\n",
    "data.columns[data.nunique()<=1]"
   ]
  },
  {
   "cell_type": "code",
   "execution_count": 7,
   "id": "f82a68ef",
   "metadata": {},
   "outputs": [],
   "source": [
    "#delete the constant features\n",
    "data.drop(columns=['posting_id', 'area_business'],inplace=True)"
   ]
  },
  {
   "cell_type": "code",
   "execution_count": 8,
   "id": "93f8047d",
   "metadata": {},
   "outputs": [
    {
     "data": {
      "text/plain": [
       "buisness_year             float64\n",
       "doc_id                    float64\n",
       "document_create_date        int64\n",
       "document_create_date.1      int64\n",
       "due_in_date               float64\n",
       "total_open_amount         float64\n",
       "baseline_create_date      float64\n",
       "invoice_id                float64\n",
       "isOpen                      int64\n",
       "dtype: object"
      ]
     },
     "execution_count": 8,
     "metadata": {},
     "output_type": "execute_result"
    }
   ],
   "source": [
    "# a new list in created discarding the object datatype \n",
    "temp_data = data.drop(labels=['cust_number','business_code','name_customer','clear_date','posting_date','invoice_currency','document type','cust_payment_terms'], axis=1)\n",
    "temp_data.dtypes"
   ]
  },
  {
   "cell_type": "code",
   "execution_count": 9,
   "id": "75734326",
   "metadata": {},
   "outputs": [
    {
     "data": {
      "text/html": [
       "<div>\n",
       "<style scoped>\n",
       "    .dataframe tbody tr th:only-of-type {\n",
       "        vertical-align: middle;\n",
       "    }\n",
       "\n",
       "    .dataframe tbody tr th {\n",
       "        vertical-align: top;\n",
       "    }\n",
       "\n",
       "    .dataframe thead th {\n",
       "        text-align: right;\n",
       "    }\n",
       "</style>\n",
       "<table border=\"1\" class=\"dataframe\">\n",
       "  <thead>\n",
       "    <tr style=\"text-align: right;\">\n",
       "      <th></th>\n",
       "      <th>buisness_year</th>\n",
       "      <th>doc_id</th>\n",
       "      <th>document_create_date</th>\n",
       "      <th>document_create_date.1</th>\n",
       "      <th>due_in_date</th>\n",
       "      <th>total_open_amount</th>\n",
       "      <th>baseline_create_date</th>\n",
       "      <th>invoice_id</th>\n",
       "      <th>isOpen</th>\n",
       "    </tr>\n",
       "  </thead>\n",
       "  <tbody>\n",
       "    <tr>\n",
       "      <th>0</th>\n",
       "      <td>2019.0</td>\n",
       "      <td>1.929776e+09</td>\n",
       "      <td>20190822</td>\n",
       "      <td>20190822</td>\n",
       "      <td>20190906.0</td>\n",
       "      <td>41386.61</td>\n",
       "      <td>20190822.0</td>\n",
       "      <td>1.929776e+09</td>\n",
       "      <td>0</td>\n",
       "    </tr>\n",
       "    <tr>\n",
       "      <th>1</th>\n",
       "      <td>2019.0</td>\n",
       "      <td>1.930144e+09</td>\n",
       "      <td>20191112</td>\n",
       "      <td>20191112</td>\n",
       "      <td>20191127.0</td>\n",
       "      <td>47178.82</td>\n",
       "      <td>20191112.0</td>\n",
       "      <td>1.930144e+09</td>\n",
       "      <td>0</td>\n",
       "    </tr>\n",
       "    <tr>\n",
       "      <th>2</th>\n",
       "      <td>2019.0</td>\n",
       "      <td>1.929131e+09</td>\n",
       "      <td>20190411</td>\n",
       "      <td>20190412</td>\n",
       "      <td>20190427.0</td>\n",
       "      <td>51389.52</td>\n",
       "      <td>20190412.0</td>\n",
       "      <td>1.929131e+09</td>\n",
       "      <td>0</td>\n",
       "    </tr>\n",
       "    <tr>\n",
       "      <th>3</th>\n",
       "      <td>2019.0</td>\n",
       "      <td>1.930124e+09</td>\n",
       "      <td>20191107</td>\n",
       "      <td>20191115</td>\n",
       "      <td>20191130.0</td>\n",
       "      <td>18177.18</td>\n",
       "      <td>20191115.0</td>\n",
       "      <td>1.930124e+09</td>\n",
       "      <td>0</td>\n",
       "    </tr>\n",
       "    <tr>\n",
       "      <th>4</th>\n",
       "      <td>2020.0</td>\n",
       "      <td>1.930737e+09</td>\n",
       "      <td>20200403</td>\n",
       "      <td>20200403</td>\n",
       "      <td>20200418.0</td>\n",
       "      <td>24079.57</td>\n",
       "      <td>20200403.0</td>\n",
       "      <td>1.930737e+09</td>\n",
       "      <td>1</td>\n",
       "    </tr>\n",
       "  </tbody>\n",
       "</table>\n",
       "</div>"
      ],
      "text/plain": [
       "   buisness_year        doc_id  document_create_date  document_create_date.1  \\\n",
       "0         2019.0  1.929776e+09              20190822                20190822   \n",
       "1         2019.0  1.930144e+09              20191112                20191112   \n",
       "2         2019.0  1.929131e+09              20190411                20190412   \n",
       "3         2019.0  1.930124e+09              20191107                20191115   \n",
       "4         2020.0  1.930737e+09              20200403                20200403   \n",
       "\n",
       "   due_in_date  total_open_amount  baseline_create_date    invoice_id  isOpen  \n",
       "0   20190906.0           41386.61            20190822.0  1.929776e+09       0  \n",
       "1   20191127.0           47178.82            20191112.0  1.930144e+09       0  \n",
       "2   20190427.0           51389.52            20190412.0  1.929131e+09       0  \n",
       "3   20191130.0           18177.18            20191115.0  1.930124e+09       0  \n",
       "4   20200418.0           24079.57            20200403.0  1.930737e+09       1  "
      ]
     },
     "execution_count": 9,
     "metadata": {},
     "output_type": "execute_result"
    }
   ],
   "source": [
    "temp_data.head()"
   ]
  },
  {
   "cell_type": "code",
   "execution_count": 10,
   "id": "b26239eb",
   "metadata": {},
   "outputs": [
    {
     "data": {
      "text/plain": [
       "9"
      ]
     },
     "execution_count": 10,
     "metadata": {},
     "output_type": "execute_result"
    }
   ],
   "source": [
    "#checking for quasi-constant \n",
    "s = VarianceThreshold(\n",
    "    threshold=0.01)\n",
    "\n",
    "s.fit(temp_data)\n",
    "sum(s.get_support())"
   ]
  },
  {
   "cell_type": "code",
   "execution_count": 11,
   "id": "7b2197eb",
   "metadata": {},
   "outputs": [
    {
     "name": "stdout",
     "output_type": "stream",
     "text": [
      "0\n"
     ]
    },
    {
     "data": {
      "text/plain": [
       "[]"
      ]
     },
     "execution_count": 11,
     "metadata": {},
     "output_type": "execute_result"
    }
   ],
   "source": [
    "#  print the quasi-constant features if Any \n",
    "print(\n",
    "    len([\n",
    "        x for x in temp_data.columns\n",
    "        if x not in temp_data.columns[s.get_support()]\n",
    "    ]))\n",
    "\n",
    "[x for x in temp_data.columns if x not in temp_data.columns[s.get_support()]]"
   ]
  },
  {
   "cell_type": "code",
   "execution_count": 12,
   "id": "8b9591be",
   "metadata": {},
   "outputs": [
    {
     "data": {
      "text/plain": [
       "RV    47598\n",
       "X2        4\n",
       "Name: document type, dtype: int64"
      ]
     },
     "execution_count": 12,
     "metadata": {},
     "output_type": "execute_result"
    }
   ],
   "source": [
    "# checkin for majority of data\n",
    "data[\"document type\"].value_counts()"
   ]
  },
  {
   "cell_type": "code",
   "execution_count": 13,
   "id": "80a9b258",
   "metadata": {},
   "outputs": [],
   "source": [
    "#since we are getting rv as 0.999 so it is of no use so we can delete it\n",
    "data.drop('document type',axis = 1,inplace = True)"
   ]
  },
  {
   "cell_type": "code",
   "execution_count": 14,
   "id": "34bea6f3",
   "metadata": {},
   "outputs": [
    {
     "data": {
      "text/html": [
       "<div>\n",
       "<style scoped>\n",
       "    .dataframe tbody tr th:only-of-type {\n",
       "        vertical-align: middle;\n",
       "    }\n",
       "\n",
       "    .dataframe tbody tr th {\n",
       "        vertical-align: top;\n",
       "    }\n",
       "\n",
       "    .dataframe thead th {\n",
       "        text-align: right;\n",
       "    }\n",
       "</style>\n",
       "<table border=\"1\" class=\"dataframe\">\n",
       "  <thead>\n",
       "    <tr style=\"text-align: right;\">\n",
       "      <th></th>\n",
       "      <th>business_code</th>\n",
       "      <th>cust_number</th>\n",
       "      <th>name_customer</th>\n",
       "      <th>clear_date</th>\n",
       "      <th>buisness_year</th>\n",
       "      <th>doc_id</th>\n",
       "      <th>posting_date</th>\n",
       "      <th>document_create_date</th>\n",
       "      <th>document_create_date.1</th>\n",
       "      <th>due_in_date</th>\n",
       "      <th>invoice_currency</th>\n",
       "      <th>total_open_amount</th>\n",
       "      <th>baseline_create_date</th>\n",
       "      <th>cust_payment_terms</th>\n",
       "      <th>invoice_id</th>\n",
       "      <th>isOpen</th>\n",
       "    </tr>\n",
       "  </thead>\n",
       "  <tbody>\n",
       "    <tr>\n",
       "      <th>25</th>\n",
       "      <td>CA02</td>\n",
       "      <td>0140104409</td>\n",
       "      <td>LOB trust</td>\n",
       "      <td>NaN</td>\n",
       "      <td>2020.0</td>\n",
       "      <td>2.960617e+09</td>\n",
       "      <td>2020-02-29</td>\n",
       "      <td>20200229</td>\n",
       "      <td>20200229</td>\n",
       "      <td>20200314.0</td>\n",
       "      <td>CAD</td>\n",
       "      <td>150136.21</td>\n",
       "      <td>20200304.0</td>\n",
       "      <td>CA10</td>\n",
       "      <td>2.960617e+09</td>\n",
       "      <td>1</td>\n",
       "    </tr>\n",
       "    <tr>\n",
       "      <th>36</th>\n",
       "      <td>CA02</td>\n",
       "      <td>0140104429</td>\n",
       "      <td>COSTCO co</td>\n",
       "      <td>2019-07-02 00:00:00</td>\n",
       "      <td>2019.0</td>\n",
       "      <td>2.960553e+09</td>\n",
       "      <td>2019-06-05</td>\n",
       "      <td>20190605</td>\n",
       "      <td>20190605</td>\n",
       "      <td>20190624.0</td>\n",
       "      <td>CAD</td>\n",
       "      <td>15993.34</td>\n",
       "      <td>20190614.0</td>\n",
       "      <td>CA10</td>\n",
       "      <td>2.960553e+09</td>\n",
       "      <td>0</td>\n",
       "    </tr>\n",
       "    <tr>\n",
       "      <th>37</th>\n",
       "      <td>CA02</td>\n",
       "      <td>0140106408</td>\n",
       "      <td>WAL-M foundation</td>\n",
       "      <td>NaN</td>\n",
       "      <td>2020.0</td>\n",
       "      <td>2.960623e+09</td>\n",
       "      <td>2020-03-21</td>\n",
       "      <td>20200321</td>\n",
       "      <td>20200321</td>\n",
       "      <td>20200331.0</td>\n",
       "      <td>CAD</td>\n",
       "      <td>4878.02</td>\n",
       "      <td>20200321.0</td>\n",
       "      <td>CA10</td>\n",
       "      <td>2.960623e+09</td>\n",
       "      <td>1</td>\n",
       "    </tr>\n",
       "    <tr>\n",
       "      <th>43</th>\n",
       "      <td>CA02</td>\n",
       "      <td>0140104423</td>\n",
       "      <td>METRO  llc</td>\n",
       "      <td>NaN</td>\n",
       "      <td>2020.0</td>\n",
       "      <td>2.960630e+09</td>\n",
       "      <td>2020-04-20</td>\n",
       "      <td>20200420</td>\n",
       "      <td>20200420</td>\n",
       "      <td>20200501.0</td>\n",
       "      <td>CAD</td>\n",
       "      <td>162295.09</td>\n",
       "      <td>20200421.0</td>\n",
       "      <td>CA10</td>\n",
       "      <td>2.960630e+09</td>\n",
       "      <td>1</td>\n",
       "    </tr>\n",
       "    <tr>\n",
       "      <th>60</th>\n",
       "      <td>CA02</td>\n",
       "      <td>0140104429</td>\n",
       "      <td>COSTCO systems</td>\n",
       "      <td>NaN</td>\n",
       "      <td>2020.0</td>\n",
       "      <td>2.960617e+09</td>\n",
       "      <td>2020-02-27</td>\n",
       "      <td>20200227</td>\n",
       "      <td>20200227</td>\n",
       "      <td>20200309.0</td>\n",
       "      <td>CAD</td>\n",
       "      <td>12383.81</td>\n",
       "      <td>20200228.0</td>\n",
       "      <td>CA10</td>\n",
       "      <td>2.960617e+09</td>\n",
       "      <td>1</td>\n",
       "    </tr>\n",
       "  </tbody>\n",
       "</table>\n",
       "</div>"
      ],
      "text/plain": [
       "   business_code cust_number     name_customer           clear_date  \\\n",
       "25          CA02  0140104409         LOB trust                  NaN   \n",
       "36          CA02  0140104429         COSTCO co  2019-07-02 00:00:00   \n",
       "37          CA02  0140106408  WAL-M foundation                  NaN   \n",
       "43          CA02  0140104423        METRO  llc                  NaN   \n",
       "60          CA02  0140104429    COSTCO systems                  NaN   \n",
       "\n",
       "    buisness_year        doc_id posting_date  document_create_date  \\\n",
       "25         2020.0  2.960617e+09   2020-02-29              20200229   \n",
       "36         2019.0  2.960553e+09   2019-06-05              20190605   \n",
       "37         2020.0  2.960623e+09   2020-03-21              20200321   \n",
       "43         2020.0  2.960630e+09   2020-04-20              20200420   \n",
       "60         2020.0  2.960617e+09   2020-02-27              20200227   \n",
       "\n",
       "    document_create_date.1  due_in_date invoice_currency  total_open_amount  \\\n",
       "25                20200229   20200314.0              CAD          150136.21   \n",
       "36                20190605   20190624.0              CAD           15993.34   \n",
       "37                20200321   20200331.0              CAD            4878.02   \n",
       "43                20200420   20200501.0              CAD          162295.09   \n",
       "60                20200227   20200309.0              CAD           12383.81   \n",
       "\n",
       "    baseline_create_date cust_payment_terms    invoice_id  isOpen  \n",
       "25            20200304.0               CA10  2.960617e+09       1  \n",
       "36            20190614.0               CA10  2.960553e+09       0  \n",
       "37            20200321.0               CA10  2.960623e+09       1  \n",
       "43            20200421.0               CA10  2.960630e+09       1  \n",
       "60            20200228.0               CA10  2.960617e+09       1  "
      ]
     },
     "execution_count": 14,
     "metadata": {},
     "output_type": "execute_result"
    }
   ],
   "source": [
    "data[data['invoice_currency'] == 'CAD'].head()"
   ]
  },
  {
   "cell_type": "code",
   "execution_count": 15,
   "id": "5a51e1bc",
   "metadata": {},
   "outputs": [],
   "source": [
    "#CAD in converted into USD and all the values are stored in new column Total-open-Amount \n",
    "data['total_open_amount'] = np.where((data['invoice_currency'] == 'CAD') ,((data['total_open_amount'])*0.78),(data['total_open_amount']))"
   ]
  },
  {
   "cell_type": "code",
   "execution_count": 16,
   "id": "a0163e87",
   "metadata": {},
   "outputs": [
    {
     "data": {
      "text/html": [
       "<div>\n",
       "<style scoped>\n",
       "    .dataframe tbody tr th:only-of-type {\n",
       "        vertical-align: middle;\n",
       "    }\n",
       "\n",
       "    .dataframe tbody tr th {\n",
       "        vertical-align: top;\n",
       "    }\n",
       "\n",
       "    .dataframe thead th {\n",
       "        text-align: right;\n",
       "    }\n",
       "</style>\n",
       "<table border=\"1\" class=\"dataframe\">\n",
       "  <thead>\n",
       "    <tr style=\"text-align: right;\">\n",
       "      <th></th>\n",
       "      <th>business_code</th>\n",
       "      <th>cust_number</th>\n",
       "      <th>name_customer</th>\n",
       "      <th>clear_date</th>\n",
       "      <th>buisness_year</th>\n",
       "      <th>doc_id</th>\n",
       "      <th>posting_date</th>\n",
       "      <th>document_create_date</th>\n",
       "      <th>document_create_date.1</th>\n",
       "      <th>due_in_date</th>\n",
       "      <th>invoice_currency</th>\n",
       "      <th>total_open_amount</th>\n",
       "      <th>baseline_create_date</th>\n",
       "      <th>cust_payment_terms</th>\n",
       "      <th>invoice_id</th>\n",
       "      <th>isOpen</th>\n",
       "    </tr>\n",
       "  </thead>\n",
       "  <tbody>\n",
       "    <tr>\n",
       "      <th>0</th>\n",
       "      <td>U001</td>\n",
       "      <td>0200895843</td>\n",
       "      <td>US</td>\n",
       "      <td>2019-09-09 00:00:00</td>\n",
       "      <td>2019.0</td>\n",
       "      <td>1.929776e+09</td>\n",
       "      <td>2019-08-22</td>\n",
       "      <td>20190822</td>\n",
       "      <td>20190822</td>\n",
       "      <td>20190906.0</td>\n",
       "      <td>USD</td>\n",
       "      <td>41386.61</td>\n",
       "      <td>20190822.0</td>\n",
       "      <td>NAA8</td>\n",
       "      <td>1.929776e+09</td>\n",
       "      <td>0</td>\n",
       "    </tr>\n",
       "    <tr>\n",
       "      <th>1</th>\n",
       "      <td>U001</td>\n",
       "      <td>0200769623</td>\n",
       "      <td>WAL-MAR</td>\n",
       "      <td>2019-11-25 00:00:00</td>\n",
       "      <td>2019.0</td>\n",
       "      <td>1.930144e+09</td>\n",
       "      <td>2019-11-12</td>\n",
       "      <td>20191112</td>\n",
       "      <td>20191112</td>\n",
       "      <td>20191127.0</td>\n",
       "      <td>USD</td>\n",
       "      <td>47178.82</td>\n",
       "      <td>20191112.0</td>\n",
       "      <td>NAH4</td>\n",
       "      <td>1.930144e+09</td>\n",
       "      <td>0</td>\n",
       "    </tr>\n",
       "    <tr>\n",
       "      <th>2</th>\n",
       "      <td>U001</td>\n",
       "      <td>0200769623</td>\n",
       "      <td>WAL-MAR foundation</td>\n",
       "      <td>2019-04-23 00:00:00</td>\n",
       "      <td>2019.0</td>\n",
       "      <td>1.929131e+09</td>\n",
       "      <td>2019-04-12</td>\n",
       "      <td>20190411</td>\n",
       "      <td>20190412</td>\n",
       "      <td>20190427.0</td>\n",
       "      <td>USD</td>\n",
       "      <td>51389.52</td>\n",
       "      <td>20190412.0</td>\n",
       "      <td>NAH4</td>\n",
       "      <td>1.929131e+09</td>\n",
       "      <td>0</td>\n",
       "    </tr>\n",
       "    <tr>\n",
       "      <th>3</th>\n",
       "      <td>U001</td>\n",
       "      <td>0200769623</td>\n",
       "      <td>WAL-MAR co</td>\n",
       "      <td>2019-11-26 00:00:00</td>\n",
       "      <td>2019.0</td>\n",
       "      <td>1.930124e+09</td>\n",
       "      <td>2019-11-15</td>\n",
       "      <td>20191107</td>\n",
       "      <td>20191115</td>\n",
       "      <td>20191130.0</td>\n",
       "      <td>USD</td>\n",
       "      <td>18177.18</td>\n",
       "      <td>20191115.0</td>\n",
       "      <td>NAH4</td>\n",
       "      <td>1.930124e+09</td>\n",
       "      <td>0</td>\n",
       "    </tr>\n",
       "    <tr>\n",
       "      <th>4</th>\n",
       "      <td>U001</td>\n",
       "      <td>0200769623</td>\n",
       "      <td>WAL-MAR</td>\n",
       "      <td>NaN</td>\n",
       "      <td>2020.0</td>\n",
       "      <td>1.930737e+09</td>\n",
       "      <td>2020-04-03</td>\n",
       "      <td>20200403</td>\n",
       "      <td>20200403</td>\n",
       "      <td>20200418.0</td>\n",
       "      <td>USD</td>\n",
       "      <td>24079.57</td>\n",
       "      <td>20200403.0</td>\n",
       "      <td>NAH4</td>\n",
       "      <td>1.930737e+09</td>\n",
       "      <td>1</td>\n",
       "    </tr>\n",
       "  </tbody>\n",
       "</table>\n",
       "</div>"
      ],
      "text/plain": [
       "  business_code cust_number       name_customer           clear_date  \\\n",
       "0          U001  0200895843                US    2019-09-09 00:00:00   \n",
       "1          U001  0200769623            WAL-MAR   2019-11-25 00:00:00   \n",
       "2          U001  0200769623  WAL-MAR foundation  2019-04-23 00:00:00   \n",
       "3          U001  0200769623          WAL-MAR co  2019-11-26 00:00:00   \n",
       "4          U001  0200769623            WAL-MAR                   NaN   \n",
       "\n",
       "   buisness_year        doc_id posting_date  document_create_date  \\\n",
       "0         2019.0  1.929776e+09   2019-08-22              20190822   \n",
       "1         2019.0  1.930144e+09   2019-11-12              20191112   \n",
       "2         2019.0  1.929131e+09   2019-04-12              20190411   \n",
       "3         2019.0  1.930124e+09   2019-11-15              20191107   \n",
       "4         2020.0  1.930737e+09   2020-04-03              20200403   \n",
       "\n",
       "   document_create_date.1  due_in_date invoice_currency  total_open_amount  \\\n",
       "0                20190822   20190906.0              USD           41386.61   \n",
       "1                20191112   20191127.0              USD           47178.82   \n",
       "2                20190412   20190427.0              USD           51389.52   \n",
       "3                20191115   20191130.0              USD           18177.18   \n",
       "4                20200403   20200418.0              USD           24079.57   \n",
       "\n",
       "   baseline_create_date cust_payment_terms    invoice_id  isOpen  \n",
       "0            20190822.0               NAA8  1.929776e+09       0  \n",
       "1            20191112.0               NAH4  1.930144e+09       0  \n",
       "2            20190412.0               NAH4  1.929131e+09       0  \n",
       "3            20191115.0               NAH4  1.930124e+09       0  \n",
       "4            20200403.0               NAH4  1.930737e+09       1  "
      ]
     },
     "execution_count": 16,
     "metadata": {},
     "output_type": "execute_result"
    }
   ],
   "source": [
    "# All the CAD is converted to USD\n",
    "data['invoice_currency'] = 'USD'\n",
    "data.head()"
   ]
  },
  {
   "cell_type": "code",
   "execution_count": 17,
   "id": "6300d48e",
   "metadata": {},
   "outputs": [
    {
     "data": {
      "text/plain": [
       "array(['USD'], dtype=object)"
      ]
     },
     "execution_count": 17,
     "metadata": {},
     "output_type": "execute_result"
    }
   ],
   "source": [
    "data['invoice_currency'].unique()"
   ]
  },
  {
   "cell_type": "code",
   "execution_count": 18,
   "id": "a318c65b",
   "metadata": {},
   "outputs": [],
   "source": [
    "#since the invoice_currency becomes a constant so it is of no use thus dropped\n",
    "data.drop(columns=['invoice_currency'],inplace=True)\n"
   ]
  },
  {
   "cell_type": "code",
   "execution_count": 19,
   "id": "572ca7a5",
   "metadata": {},
   "outputs": [
    {
     "data": {
      "text/plain": [
       "<AxesSubplot:>"
      ]
     },
     "execution_count": 19,
     "metadata": {},
     "output_type": "execute_result"
    },
    {
     "data": {
      "image/png": "[encoded data removed]",
      "text/plain": [
       "<Figure size 432x288 with 2 Axes>"
      ]
     },
     "metadata": {
      "needs_background": "light"
     },
     "output_type": "display_data"
    }
   ],
   "source": [
    "# corelation plot is done to eliminate some highly coorelated features\n",
    "cor = data.corr()\n",
    "sns.heatmap(cor, xticklabels=cor.columns, yticklabels=cor.columns, annot=True)\n",
    " "
   ]
  },
  {
   "cell_type": "code",
   "execution_count": 20,
   "id": "7684e94a",
   "metadata": {},
   "outputs": [],
   "source": [
    "# Since 'document_create_date','buisness_year','invoice_id','baseline_create_date' are corelated with others \n",
    "# so we can drop these features\n",
    "\n",
    "data.drop(columns=['document_create_date','buisness_year','invoice_id','baseline_create_date'],inplace=True)"
   ]
  },
  {
   "cell_type": "code",
   "execution_count": 21,
   "id": "10181659",
   "metadata": {},
   "outputs": [
    {
     "data": {
      "text/plain": [
       "business_code              object\n",
       "cust_number                object\n",
       "name_customer              object\n",
       "clear_date                 object\n",
       "doc_id                    float64\n",
       "posting_date               object\n",
       "document_create_date.1      int64\n",
       "due_in_date               float64\n",
       "total_open_amount         float64\n",
       "cust_payment_terms         object\n",
       "isOpen                      int64\n",
       "dtype: object"
      ]
     },
     "execution_count": 21,
     "metadata": {},
     "output_type": "execute_result"
    }
   ],
   "source": [
    "data.dtypes"
   ]
  },
  {
   "cell_type": "code",
   "execution_count": 22,
   "id": "e4ee6be7",
   "metadata": {},
   "outputs": [],
   "source": [
    "#since doc-id is a unique ids for the entitites we don't need it to train model so dropped\n",
    "data.drop(columns=['doc_id'],inplace=True)"
   ]
  },
  {
   "cell_type": "code",
   "execution_count": 23,
   "id": "29eb8a4d",
   "metadata": {},
   "outputs": [
    {
     "data": {
      "text/html": [
       "<div>\n",
       "<style scoped>\n",
       "    .dataframe tbody tr th:only-of-type {\n",
       "        vertical-align: middle;\n",
       "    }\n",
       "\n",
       "    .dataframe tbody tr th {\n",
       "        vertical-align: top;\n",
       "    }\n",
       "\n",
       "    .dataframe thead th {\n",
       "        text-align: right;\n",
       "    }\n",
       "</style>\n",
       "<table border=\"1\" class=\"dataframe\">\n",
       "  <thead>\n",
       "    <tr style=\"text-align: right;\">\n",
       "      <th></th>\n",
       "      <th>business_code</th>\n",
       "      <th>cust_number</th>\n",
       "      <th>name_customer</th>\n",
       "      <th>clear_date</th>\n",
       "      <th>posting_date</th>\n",
       "      <th>document_create_date.1</th>\n",
       "      <th>due_in_date</th>\n",
       "      <th>total_open_amount</th>\n",
       "      <th>cust_payment_terms</th>\n",
       "      <th>isOpen</th>\n",
       "    </tr>\n",
       "  </thead>\n",
       "  <tbody>\n",
       "    <tr>\n",
       "      <th>0</th>\n",
       "      <td>U001</td>\n",
       "      <td>0200895843</td>\n",
       "      <td>US</td>\n",
       "      <td>2019-09-09</td>\n",
       "      <td>2019-08-22</td>\n",
       "      <td>2019-08-22</td>\n",
       "      <td>2019-09-06</td>\n",
       "      <td>41386.61</td>\n",
       "      <td>NAA8</td>\n",
       "      <td>0</td>\n",
       "    </tr>\n",
       "    <tr>\n",
       "      <th>1</th>\n",
       "      <td>U001</td>\n",
       "      <td>0200769623</td>\n",
       "      <td>WAL-MAR</td>\n",
       "      <td>2019-11-25</td>\n",
       "      <td>2019-11-12</td>\n",
       "      <td>2019-11-12</td>\n",
       "      <td>2019-11-27</td>\n",
       "      <td>47178.82</td>\n",
       "      <td>NAH4</td>\n",
       "      <td>0</td>\n",
       "    </tr>\n",
       "    <tr>\n",
       "      <th>2</th>\n",
       "      <td>U001</td>\n",
       "      <td>0200769623</td>\n",
       "      <td>WAL-MAR foundation</td>\n",
       "      <td>2019-04-23</td>\n",
       "      <td>2019-04-12</td>\n",
       "      <td>2019-04-12</td>\n",
       "      <td>2019-04-27</td>\n",
       "      <td>51389.52</td>\n",
       "      <td>NAH4</td>\n",
       "      <td>0</td>\n",
       "    </tr>\n",
       "    <tr>\n",
       "      <th>3</th>\n",
       "      <td>U001</td>\n",
       "      <td>0200769623</td>\n",
       "      <td>WAL-MAR co</td>\n",
       "      <td>2019-11-26</td>\n",
       "      <td>2019-11-15</td>\n",
       "      <td>2019-11-15</td>\n",
       "      <td>2019-11-30</td>\n",
       "      <td>18177.18</td>\n",
       "      <td>NAH4</td>\n",
       "      <td>0</td>\n",
       "    </tr>\n",
       "    <tr>\n",
       "      <th>4</th>\n",
       "      <td>U001</td>\n",
       "      <td>0200769623</td>\n",
       "      <td>WAL-MAR</td>\n",
       "      <td>NaT</td>\n",
       "      <td>2020-04-03</td>\n",
       "      <td>2020-04-03</td>\n",
       "      <td>2020-04-18</td>\n",
       "      <td>24079.57</td>\n",
       "      <td>NAH4</td>\n",
       "      <td>1</td>\n",
       "    </tr>\n",
       "  </tbody>\n",
       "</table>\n",
       "</div>"
      ],
      "text/plain": [
       "  business_code cust_number       name_customer clear_date posting_date  \\\n",
       "0          U001  0200895843                US   2019-09-09   2019-08-22   \n",
       "1          U001  0200769623            WAL-MAR  2019-11-25   2019-11-12   \n",
       "2          U001  0200769623  WAL-MAR foundation 2019-04-23   2019-04-12   \n",
       "3          U001  0200769623          WAL-MAR co 2019-11-26   2019-11-15   \n",
       "4          U001  0200769623            WAL-MAR         NaT   2020-04-03   \n",
       "\n",
       "  document_create_date.1 due_in_date  total_open_amount cust_payment_terms  \\\n",
       "0             2019-08-22  2019-09-06           41386.61               NAA8   \n",
       "1             2019-11-12  2019-11-27           47178.82               NAH4   \n",
       "2             2019-04-12  2019-04-27           51389.52               NAH4   \n",
       "3             2019-11-15  2019-11-30           18177.18               NAH4   \n",
       "4             2020-04-03  2020-04-18           24079.57               NAH4   \n",
       "\n",
       "   isOpen  \n",
       "0       0  \n",
       "1       0  \n",
       "2       0  \n",
       "3       0  \n",
       "4       1  "
      ]
     },
     "execution_count": 23,
     "metadata": {},
     "output_type": "execute_result"
    }
   ],
   "source": [
    "#clear_date,posting_date,document_create_date.1,due_in_date are converted into datetime format for future operation\n",
    "data['clear_date'] = pd.to_datetime(data['clear_date'])\n",
    "data['posting_date'] = pd.to_datetime(data['posting_date']) \n",
    "data['document_create_date.1'] = pd.to_datetime(data['document_create_date.1'], format='%Y%m%d')\n",
    "data['due_in_date'] = pd.to_datetime(data['due_in_date'], format='%Y%m%d')\n",
    "data.head()"
   ]
  },
  {
   "cell_type": "code",
   "execution_count": 24,
   "id": "31738014",
   "metadata": {},
   "outputs": [
    {
     "data": {
      "text/html": [
       "<div>\n",
       "<style scoped>\n",
       "    .dataframe tbody tr th:only-of-type {\n",
       "        vertical-align: middle;\n",
       "    }\n",
       "\n",
       "    .dataframe tbody tr th {\n",
       "        vertical-align: top;\n",
       "    }\n",
       "\n",
       "    .dataframe thead th {\n",
       "        text-align: right;\n",
       "    }\n",
       "</style>\n",
       "<table border=\"1\" class=\"dataframe\">\n",
       "  <thead>\n",
       "    <tr style=\"text-align: right;\">\n",
       "      <th></th>\n",
       "      <th>business_code</th>\n",
       "      <th>cust_number</th>\n",
       "      <th>name_customer</th>\n",
       "      <th>clear_date</th>\n",
       "      <th>posting_date</th>\n",
       "      <th>document_create_date.1</th>\n",
       "      <th>due_in_date</th>\n",
       "      <th>total_open_amount</th>\n",
       "      <th>cust_payment_terms</th>\n",
       "      <th>isOpen</th>\n",
       "    </tr>\n",
       "  </thead>\n",
       "  <tbody>\n",
       "    <tr>\n",
       "      <th>0</th>\n",
       "      <td>U001</td>\n",
       "      <td>0200739534</td>\n",
       "      <td>OK co</td>\n",
       "      <td>2019-01-14</td>\n",
       "      <td>2018-12-30</td>\n",
       "      <td>2018-12-30</td>\n",
       "      <td>2019-01-14</td>\n",
       "      <td>90998.8000</td>\n",
       "      <td>NAA8</td>\n",
       "      <td>0</td>\n",
       "    </tr>\n",
       "    <tr>\n",
       "      <th>1</th>\n",
       "      <td>U001</td>\n",
       "      <td>0200769623</td>\n",
       "      <td>WAL-MAR associates</td>\n",
       "      <td>2019-01-09</td>\n",
       "      <td>2018-12-30</td>\n",
       "      <td>2018-12-30</td>\n",
       "      <td>2019-01-14</td>\n",
       "      <td>11025.2700</td>\n",
       "      <td>NAH4</td>\n",
       "      <td>0</td>\n",
       "    </tr>\n",
       "    <tr>\n",
       "      <th>2</th>\n",
       "      <td>CA02</td>\n",
       "      <td>0140105847</td>\n",
       "      <td>GORDON F in</td>\n",
       "      <td>2019-01-14</td>\n",
       "      <td>2018-12-30</td>\n",
       "      <td>2018-12-30</td>\n",
       "      <td>2019-01-12</td>\n",
       "      <td>14088.2976</td>\n",
       "      <td>CA10</td>\n",
       "      <td>0</td>\n",
       "    </tr>\n",
       "    <tr>\n",
       "      <th>3</th>\n",
       "      <td>U001</td>\n",
       "      <td>0200769623</td>\n",
       "      <td>WAL-MAR systems</td>\n",
       "      <td>2019-01-14</td>\n",
       "      <td>2018-12-30</td>\n",
       "      <td>2018-12-30</td>\n",
       "      <td>2019-01-14</td>\n",
       "      <td>21794.7000</td>\n",
       "      <td>NAH4</td>\n",
       "      <td>0</td>\n",
       "    </tr>\n",
       "    <tr>\n",
       "      <th>4</th>\n",
       "      <td>U001</td>\n",
       "      <td>0200769623</td>\n",
       "      <td>WAL-MAR co</td>\n",
       "      <td>2019-01-15</td>\n",
       "      <td>2018-12-30</td>\n",
       "      <td>2018-12-30</td>\n",
       "      <td>2019-01-14</td>\n",
       "      <td>65940.4700</td>\n",
       "      <td>NAH4</td>\n",
       "      <td>0</td>\n",
       "    </tr>\n",
       "  </tbody>\n",
       "</table>\n",
       "</div>"
      ],
      "text/plain": [
       "  business_code cust_number       name_customer clear_date posting_date  \\\n",
       "0          U001  0200739534               OK co 2019-01-14   2018-12-30   \n",
       "1          U001  0200769623  WAL-MAR associates 2019-01-09   2018-12-30   \n",
       "2          CA02  0140105847         GORDON F in 2019-01-14   2018-12-30   \n",
       "3          U001  0200769623     WAL-MAR systems 2019-01-14   2018-12-30   \n",
       "4          U001  0200769623          WAL-MAR co 2019-01-15   2018-12-30   \n",
       "\n",
       "  document_create_date.1 due_in_date  total_open_amount cust_payment_terms  \\\n",
       "0             2018-12-30  2019-01-14         90998.8000               NAA8   \n",
       "1             2018-12-30  2019-01-14         11025.2700               NAH4   \n",
       "2             2018-12-30  2019-01-12         14088.2976               CA10   \n",
       "3             2018-12-30  2019-01-14         21794.7000               NAH4   \n",
       "4             2018-12-30  2019-01-14         65940.4700               NAH4   \n",
       "\n",
       "   isOpen  \n",
       "0       0  \n",
       "1       0  \n",
       "2       0  \n",
       "3       0  \n",
       "4       0  "
      ]
     },
     "execution_count": 24,
     "metadata": {},
     "output_type": "execute_result"
    }
   ],
   "source": [
    "#sort the train data according to document_create_date.1 as we can't train model based on future data\n",
    "data.sort_values(['posting_date'],inplace=True)\n",
    "data.reset_index(inplace=True,drop=True)\n",
    "data.head()"
   ]
  },
  {
   "cell_type": "code",
   "execution_count": 25,
   "id": "f90443b3",
   "metadata": {},
   "outputs": [
    {
     "data": {
      "text/html": [
       "<div>\n",
       "<style scoped>\n",
       "    .dataframe tbody tr th:only-of-type {\n",
       "        vertical-align: middle;\n",
       "    }\n",
       "\n",
       "    .dataframe tbody tr th {\n",
       "        vertical-align: top;\n",
       "    }\n",
       "\n",
       "    .dataframe thead th {\n",
       "        text-align: right;\n",
       "    }\n",
       "</style>\n",
       "<table border=\"1\" class=\"dataframe\">\n",
       "  <thead>\n",
       "    <tr style=\"text-align: right;\">\n",
       "      <th></th>\n",
       "      <th>business_code</th>\n",
       "      <th>cust_number</th>\n",
       "      <th>name_customer</th>\n",
       "      <th>clear_date</th>\n",
       "      <th>posting_date</th>\n",
       "      <th>document_create_date.1</th>\n",
       "      <th>due_in_date</th>\n",
       "      <th>total_open_amount</th>\n",
       "      <th>cust_payment_terms</th>\n",
       "      <th>isOpen</th>\n",
       "    </tr>\n",
       "  </thead>\n",
       "  <tbody>\n",
       "    <tr>\n",
       "      <th>0</th>\n",
       "      <td>U001</td>\n",
       "      <td>0200739534</td>\n",
       "      <td>OK co</td>\n",
       "      <td>2019-01-14</td>\n",
       "      <td>2018-12-30</td>\n",
       "      <td>2018-12-30</td>\n",
       "      <td>2019-01-14</td>\n",
       "      <td>90998.8000</td>\n",
       "      <td>NAA8</td>\n",
       "      <td>0</td>\n",
       "    </tr>\n",
       "    <tr>\n",
       "      <th>1</th>\n",
       "      <td>U001</td>\n",
       "      <td>0200769623</td>\n",
       "      <td>WAL-MAR associates</td>\n",
       "      <td>2019-01-09</td>\n",
       "      <td>2018-12-30</td>\n",
       "      <td>2018-12-30</td>\n",
       "      <td>2019-01-14</td>\n",
       "      <td>11025.2700</td>\n",
       "      <td>NAH4</td>\n",
       "      <td>0</td>\n",
       "    </tr>\n",
       "    <tr>\n",
       "      <th>2</th>\n",
       "      <td>CA02</td>\n",
       "      <td>0140105847</td>\n",
       "      <td>GORDON F in</td>\n",
       "      <td>2019-01-14</td>\n",
       "      <td>2018-12-30</td>\n",
       "      <td>2018-12-30</td>\n",
       "      <td>2019-01-12</td>\n",
       "      <td>14088.2976</td>\n",
       "      <td>CA10</td>\n",
       "      <td>0</td>\n",
       "    </tr>\n",
       "    <tr>\n",
       "      <th>3</th>\n",
       "      <td>U001</td>\n",
       "      <td>0200769623</td>\n",
       "      <td>WAL-MAR systems</td>\n",
       "      <td>2019-01-14</td>\n",
       "      <td>2018-12-30</td>\n",
       "      <td>2018-12-30</td>\n",
       "      <td>2019-01-14</td>\n",
       "      <td>21794.7000</td>\n",
       "      <td>NAH4</td>\n",
       "      <td>0</td>\n",
       "    </tr>\n",
       "    <tr>\n",
       "      <th>4</th>\n",
       "      <td>U001</td>\n",
       "      <td>0200769623</td>\n",
       "      <td>WAL-MAR co</td>\n",
       "      <td>2019-01-15</td>\n",
       "      <td>2018-12-30</td>\n",
       "      <td>2018-12-30</td>\n",
       "      <td>2019-01-14</td>\n",
       "      <td>65940.4700</td>\n",
       "      <td>NAH4</td>\n",
       "      <td>0</td>\n",
       "    </tr>\n",
       "  </tbody>\n",
       "</table>\n",
       "</div>"
      ],
      "text/plain": [
       "  business_code cust_number       name_customer clear_date posting_date  \\\n",
       "0          U001  0200739534               OK co 2019-01-14   2018-12-30   \n",
       "1          U001  0200769623  WAL-MAR associates 2019-01-09   2018-12-30   \n",
       "2          CA02  0140105847         GORDON F in 2019-01-14   2018-12-30   \n",
       "3          U001  0200769623     WAL-MAR systems 2019-01-14   2018-12-30   \n",
       "4          U001  0200769623          WAL-MAR co 2019-01-15   2018-12-30   \n",
       "\n",
       "  document_create_date.1 due_in_date  total_open_amount cust_payment_terms  \\\n",
       "0             2018-12-30  2019-01-14         90998.8000               NAA8   \n",
       "1             2018-12-30  2019-01-14         11025.2700               NAH4   \n",
       "2             2018-12-30  2019-01-12         14088.2976               CA10   \n",
       "3             2018-12-30  2019-01-14         21794.7000               NAH4   \n",
       "4             2018-12-30  2019-01-14         65940.4700               NAH4   \n",
       "\n",
       "   isOpen  \n",
       "0       0  \n",
       "1       0  \n",
       "2       0  \n",
       "3       0  \n",
       "4       0  "
      ]
     },
     "execution_count": 25,
     "metadata": {},
     "output_type": "execute_result"
    }
   ],
   "source": [
    "#splitting the the test and train data based on the clear_data features\n",
    "#A new data set is created based on \n",
    "Train = data.loc[data['clear_date'].notnull()]\n",
    "Train.head()"
   ]
  },
  {
   "cell_type": "code",
   "execution_count": 26,
   "id": "8608f240",
   "metadata": {},
   "outputs": [
    {
     "data": {
      "text/plain": [
       "(9414, 10)"
      ]
     },
     "execution_count": 26,
     "metadata": {},
     "output_type": "execute_result"
    }
   ],
   "source": [
    "#Where clear_date == null is putted into test dataframe\n",
    "Test = data.loc[data.clear_date.isnull()]\n",
    "Test.shape"
   ]
  },
  {
   "cell_type": "code",
   "execution_count": 27,
   "id": "dbaa5fa5",
   "metadata": {},
   "outputs": [
    {
     "name": "stderr",
     "output_type": "stream",
     "text": [
      "<ipython-input-27-10028587da12>:3: SettingWithCopyWarning: \n",
      "A value is trying to be set on a copy of a slice from a DataFrame.\n",
      "Try using .loc[row_indexer,col_indexer] = value instead\n",
      "\n",
      "See the caveats in the documentation: https://pandas.pydata.org/pandas-docs/stable/user_guide/indexing.html#returning-a-view-versus-a-copy\n",
      "  Train['DELAY']=Train['clear_date'] - Train['due_in_date']\n"
     ]
    },
    {
     "data": {
      "text/html": [
       "<div>\n",
       "<style scoped>\n",
       "    .dataframe tbody tr th:only-of-type {\n",
       "        vertical-align: middle;\n",
       "    }\n",
       "\n",
       "    .dataframe tbody tr th {\n",
       "        vertical-align: top;\n",
       "    }\n",
       "\n",
       "    .dataframe thead th {\n",
       "        text-align: right;\n",
       "    }\n",
       "</style>\n",
       "<table border=\"1\" class=\"dataframe\">\n",
       "  <thead>\n",
       "    <tr style=\"text-align: right;\">\n",
       "      <th></th>\n",
       "      <th>business_code</th>\n",
       "      <th>cust_number</th>\n",
       "      <th>name_customer</th>\n",
       "      <th>clear_date</th>\n",
       "      <th>posting_date</th>\n",
       "      <th>document_create_date.1</th>\n",
       "      <th>due_in_date</th>\n",
       "      <th>total_open_amount</th>\n",
       "      <th>cust_payment_terms</th>\n",
       "      <th>isOpen</th>\n",
       "      <th>DELAY</th>\n",
       "    </tr>\n",
       "  </thead>\n",
       "  <tbody>\n",
       "    <tr>\n",
       "      <th>0</th>\n",
       "      <td>U001</td>\n",
       "      <td>0200739534</td>\n",
       "      <td>OK co</td>\n",
       "      <td>2019-01-14</td>\n",
       "      <td>2018-12-30</td>\n",
       "      <td>2018-12-30</td>\n",
       "      <td>2019-01-14</td>\n",
       "      <td>90998.8000</td>\n",
       "      <td>NAA8</td>\n",
       "      <td>0</td>\n",
       "      <td>0 days</td>\n",
       "    </tr>\n",
       "    <tr>\n",
       "      <th>1</th>\n",
       "      <td>U001</td>\n",
       "      <td>0200769623</td>\n",
       "      <td>WAL-MAR associates</td>\n",
       "      <td>2019-01-09</td>\n",
       "      <td>2018-12-30</td>\n",
       "      <td>2018-12-30</td>\n",
       "      <td>2019-01-14</td>\n",
       "      <td>11025.2700</td>\n",
       "      <td>NAH4</td>\n",
       "      <td>0</td>\n",
       "      <td>-5 days</td>\n",
       "    </tr>\n",
       "    <tr>\n",
       "      <th>2</th>\n",
       "      <td>CA02</td>\n",
       "      <td>0140105847</td>\n",
       "      <td>GORDON F in</td>\n",
       "      <td>2019-01-14</td>\n",
       "      <td>2018-12-30</td>\n",
       "      <td>2018-12-30</td>\n",
       "      <td>2019-01-12</td>\n",
       "      <td>14088.2976</td>\n",
       "      <td>CA10</td>\n",
       "      <td>0</td>\n",
       "      <td>2 days</td>\n",
       "    </tr>\n",
       "    <tr>\n",
       "      <th>3</th>\n",
       "      <td>U001</td>\n",
       "      <td>0200769623</td>\n",
       "      <td>WAL-MAR systems</td>\n",
       "      <td>2019-01-14</td>\n",
       "      <td>2018-12-30</td>\n",
       "      <td>2018-12-30</td>\n",
       "      <td>2019-01-14</td>\n",
       "      <td>21794.7000</td>\n",
       "      <td>NAH4</td>\n",
       "      <td>0</td>\n",
       "      <td>0 days</td>\n",
       "    </tr>\n",
       "    <tr>\n",
       "      <th>4</th>\n",
       "      <td>U001</td>\n",
       "      <td>0200769623</td>\n",
       "      <td>WAL-MAR co</td>\n",
       "      <td>2019-01-15</td>\n",
       "      <td>2018-12-30</td>\n",
       "      <td>2018-12-30</td>\n",
       "      <td>2019-01-14</td>\n",
       "      <td>65940.4700</td>\n",
       "      <td>NAH4</td>\n",
       "      <td>0</td>\n",
       "      <td>1 days</td>\n",
       "    </tr>\n",
       "  </tbody>\n",
       "</table>\n",
       "</div>"
      ],
      "text/plain": [
       "  business_code cust_number       name_customer clear_date posting_date  \\\n",
       "0          U001  0200739534               OK co 2019-01-14   2018-12-30   \n",
       "1          U001  0200769623  WAL-MAR associates 2019-01-09   2018-12-30   \n",
       "2          CA02  0140105847         GORDON F in 2019-01-14   2018-12-30   \n",
       "3          U001  0200769623     WAL-MAR systems 2019-01-14   2018-12-30   \n",
       "4          U001  0200769623          WAL-MAR co 2019-01-15   2018-12-30   \n",
       "\n",
       "  document_create_date.1 due_in_date  total_open_amount cust_payment_terms  \\\n",
       "0             2018-12-30  2019-01-14         90998.8000               NAA8   \n",
       "1             2018-12-30  2019-01-14         11025.2700               NAH4   \n",
       "2             2018-12-30  2019-01-12         14088.2976               CA10   \n",
       "3             2018-12-30  2019-01-14         21794.7000               NAH4   \n",
       "4             2018-12-30  2019-01-14         65940.4700               NAH4   \n",
       "\n",
       "   isOpen   DELAY  \n",
       "0       0  0 days  \n",
       "1       0 -5 days  \n",
       "2       0  2 days  \n",
       "3       0  0 days  \n",
       "4       0  1 days  "
      ]
     },
     "execution_count": 27,
     "metadata": {},
     "output_type": "execute_result"
    }
   ],
   "source": [
    "#calculate the delay feature using clear_date-due_date\n",
    "#DELAY is calculated by (clear_date-due_in_date)\n",
    "Train['DELAY']=Train['clear_date'] - Train['due_in_date']\n",
    "Train.head()"
   ]
  },
  {
   "cell_type": "markdown",
   "id": "cb1c4cbf",
   "metadata": {},
   "source": [
    "# EDA PART\n"
   ]
  },
  {
   "cell_type": "code",
   "execution_count": 28,
   "id": "81acbd0f",
   "metadata": {},
   "outputs": [
    {
     "data": {
      "image/png": "[encoded data removed]",
      "text/plain": [
       "<Figure size 432x288 with 1 Axes>"
      ]
     },
     "metadata": {
      "needs_background": "light"
     },
     "output_type": "display_data"
    }
   ],
   "source": [
    "import matplotlib.pyplot as p\n",
    "p.plot_date(Train['posting_date'], Train['document_create_date.1'],'r')\n",
    "p.show()"
   ]
  },
  {
   "cell_type": "markdown",
   "id": "04c11422",
   "metadata": {},
   "source": [
    "From this Graph we are getting to know that Total-open-amount havs high no. of outliers present thus we need to handle it for better predictions of the model "
   ]
  },
  {
   "cell_type": "code",
   "execution_count": 29,
   "id": "ef6106be",
   "metadata": {},
   "outputs": [
    {
     "name": "stderr",
     "output_type": "stream",
     "text": [
      "c:\\users\\telecom division\\appdata\\local\\programs\\python\\python39\\lib\\site-packages\\pandas\\core\\frame.py:4308: SettingWithCopyWarning: \n",
      "A value is trying to be set on a copy of a slice from a DataFrame\n",
      "\n",
      "See the caveats in the documentation: https://pandas.pydata.org/pandas-docs/stable/user_guide/indexing.html#returning-a-view-versus-a-copy\n",
      "  return super().drop(\n"
     ]
    }
   ],
   "source": [
    "#since 'posting_date' ,'document_create_date.1'  features data are almost same so we can ignore either of feature\n",
    "Train.drop(columns=['posting_date'],inplace=True)"
   ]
  },
  {
   "cell_type": "code",
   "execution_count": 30,
   "id": "0561bdb2",
   "metadata": {},
   "outputs": [
    {
     "data": {
      "image/png": "[encoded data removed]",
      "text/plain": [
       "<Figure size 432x288 with 1 Axes>"
      ]
     },
     "metadata": {
      "needs_background": "light"
     },
     "output_type": "display_data"
    }
   ],
   "source": [
    "sns.boxplot(data=Train)\n",
    "plt.xticks(rotation =90)\n",
    "plt.show()"
   ]
  },
  {
   "cell_type": "code",
   "execution_count": 31,
   "id": "2b0e9b0a",
   "metadata": {
    "scrolled": false
   },
   "outputs": [
    {
     "data": {
      "image/png": "[encoded data removed]",
      "text/plain": [
       "<Figure size 432x288 with 1 Axes>"
      ]
     },
     "metadata": {},
     "output_type": "display_data"
    }
   ],
   "source": [
    "plt.style.use('ggplot')\n",
    "plt.hist(Train['total_open_amount'],bins=50)\n",
    "plt.show()"
   ]
  },
  {
   "cell_type": "raw",
   "id": "7e7e103f",
   "metadata": {},
   "source": [
    "From this graphs we infered that the total_open_amount feature is left skewed thus it will not right   estimations to make it as a gausian ditribution we need to handle the outliers using standardization methods"
   ]
  },
  {
   "cell_type": "code",
   "execution_count": 32,
   "id": "a175e452",
   "metadata": {},
   "outputs": [
    {
     "data": {
      "text/plain": [
       "Not Outlier    37522\n",
       "Outlier          666\n",
       "dtype: int64"
      ]
     },
     "execution_count": 32,
     "metadata": {},
     "output_type": "execute_result"
    }
   ],
   "source": [
    "# checkin for Outliers in total_open_amount  present\n",
    "from scipy.stats import zscore\n",
    "z_scores = zscore(Train['total_open_amount'])\n",
    "abs_z_scores = np.abs(z_scores)\n",
    "out=pd.DataFrame(np.where(abs_z_scores<3,'Not Outlier','Outlier'))\n",
    "out.value_counts()"
   ]
  },
  {
   "cell_type": "markdown",
   "id": "97724d03",
   "metadata": {},
   "source": [
    "from this inference we found that 666 no of outliers are present in total_open_amount we need to handle it \n",
    "through standarizations or normalizations before training "
   ]
  },
  {
   "cell_type": "markdown",
   "id": "bb148887",
   "metadata": {},
   "source": [
    "# Feature Engineering\n"
   ]
  },
  {
   "cell_type": "code",
   "execution_count": 33,
   "id": "a0596f6d",
   "metadata": {},
   "outputs": [
    {
     "name": "stderr",
     "output_type": "stream",
     "text": [
      "<ipython-input-33-a19fcca5893c>:2: SettingWithCopyWarning: \n",
      "A value is trying to be set on a copy of a slice from a DataFrame.\n",
      "Try using .loc[row_indexer,col_indexer] = value instead\n",
      "\n",
      "See the caveats in the documentation: https://pandas.pydata.org/pandas-docs/stable/user_guide/indexing.html#returning-a-view-versus-a-copy\n",
      "  Train['document_create_date.1_month-in-quarter'] = Train['document_create_date.1'].dt.quarter\n",
      "<ipython-input-33-a19fcca5893c>:3: SettingWithCopyWarning: \n",
      "A value is trying to be set on a copy of a slice from a DataFrame.\n",
      "Try using .loc[row_indexer,col_indexer] = value instead\n",
      "\n",
      "See the caveats in the documentation: https://pandas.pydata.org/pandas-docs/stable/user_guide/indexing.html#returning-a-view-versus-a-copy\n",
      "  Train['document_create_date.-in-_month'] = Train['document_create_date.1'].dt.month\n",
      "<ipython-input-33-a19fcca5893c>:4: SettingWithCopyWarning: \n",
      "A value is trying to be set on a copy of a slice from a DataFrame.\n",
      "Try using .loc[row_indexer,col_indexer] = value instead\n",
      "\n",
      "See the caveats in the documentation: https://pandas.pydata.org/pandas-docs/stable/user_guide/indexing.html#returning-a-view-versus-a-copy\n",
      "  Train['due_in_date-in-month'] = Train['due_in_date'].dt.month\n",
      "<ipython-input-33-a19fcca5893c>:5: SettingWithCopyWarning: \n",
      "A value is trying to be set on a copy of a slice from a DataFrame.\n",
      "Try using .loc[row_indexer,col_indexer] = value instead\n",
      "\n",
      "See the caveats in the documentation: https://pandas.pydata.org/pandas-docs/stable/user_guide/indexing.html#returning-a-view-versus-a-copy\n",
      "  Train['due_in_date-in-days'] =Train['due_in_date'].dt.day\n",
      "<ipython-input-33-a19fcca5893c>:6: SettingWithCopyWarning: \n",
      "A value is trying to be set on a copy of a slice from a DataFrame.\n",
      "Try using .loc[row_indexer,col_indexer] = value instead\n",
      "\n",
      "See the caveats in the documentation: https://pandas.pydata.org/pandas-docs/stable/user_guide/indexing.html#returning-a-view-versus-a-copy\n",
      "  Train['due_in_date-in-days'] =Train['due_in_date'].dt.quarter\n"
     ]
    },
    {
     "data": {
      "text/html": [
       "<div>\n",
       "<style scoped>\n",
       "    .dataframe tbody tr th:only-of-type {\n",
       "        vertical-align: middle;\n",
       "    }\n",
       "\n",
       "    .dataframe tbody tr th {\n",
       "        vertical-align: top;\n",
       "    }\n",
       "\n",
       "    .dataframe thead th {\n",
       "        text-align: right;\n",
       "    }\n",
       "</style>\n",
       "<table border=\"1\" class=\"dataframe\">\n",
       "  <thead>\n",
       "    <tr style=\"text-align: right;\">\n",
       "      <th></th>\n",
       "      <th>business_code</th>\n",
       "      <th>cust_number</th>\n",
       "      <th>name_customer</th>\n",
       "      <th>clear_date</th>\n",
       "      <th>document_create_date.1</th>\n",
       "      <th>due_in_date</th>\n",
       "      <th>total_open_amount</th>\n",
       "      <th>cust_payment_terms</th>\n",
       "      <th>isOpen</th>\n",
       "      <th>DELAY</th>\n",
       "      <th>document_create_date.1_month-in-quarter</th>\n",
       "      <th>document_create_date.-in-_month</th>\n",
       "      <th>due_in_date-in-month</th>\n",
       "      <th>due_in_date-in-days</th>\n",
       "    </tr>\n",
       "  </thead>\n",
       "  <tbody>\n",
       "    <tr>\n",
       "      <th>0</th>\n",
       "      <td>U001</td>\n",
       "      <td>0200739534</td>\n",
       "      <td>OK co</td>\n",
       "      <td>2019-01-14</td>\n",
       "      <td>2018-12-30</td>\n",
       "      <td>2019-01-14</td>\n",
       "      <td>90998.8000</td>\n",
       "      <td>NAA8</td>\n",
       "      <td>0</td>\n",
       "      <td>0 days</td>\n",
       "      <td>4</td>\n",
       "      <td>12</td>\n",
       "      <td>1</td>\n",
       "      <td>1</td>\n",
       "    </tr>\n",
       "    <tr>\n",
       "      <th>1</th>\n",
       "      <td>U001</td>\n",
       "      <td>0200769623</td>\n",
       "      <td>WAL-MAR associates</td>\n",
       "      <td>2019-01-09</td>\n",
       "      <td>2018-12-30</td>\n",
       "      <td>2019-01-14</td>\n",
       "      <td>11025.2700</td>\n",
       "      <td>NAH4</td>\n",
       "      <td>0</td>\n",
       "      <td>-5 days</td>\n",
       "      <td>4</td>\n",
       "      <td>12</td>\n",
       "      <td>1</td>\n",
       "      <td>1</td>\n",
       "    </tr>\n",
       "    <tr>\n",
       "      <th>2</th>\n",
       "      <td>CA02</td>\n",
       "      <td>0140105847</td>\n",
       "      <td>GORDON F in</td>\n",
       "      <td>2019-01-14</td>\n",
       "      <td>2018-12-30</td>\n",
       "      <td>2019-01-12</td>\n",
       "      <td>14088.2976</td>\n",
       "      <td>CA10</td>\n",
       "      <td>0</td>\n",
       "      <td>2 days</td>\n",
       "      <td>4</td>\n",
       "      <td>12</td>\n",
       "      <td>1</td>\n",
       "      <td>1</td>\n",
       "    </tr>\n",
       "    <tr>\n",
       "      <th>3</th>\n",
       "      <td>U001</td>\n",
       "      <td>0200769623</td>\n",
       "      <td>WAL-MAR systems</td>\n",
       "      <td>2019-01-14</td>\n",
       "      <td>2018-12-30</td>\n",
       "      <td>2019-01-14</td>\n",
       "      <td>21794.7000</td>\n",
       "      <td>NAH4</td>\n",
       "      <td>0</td>\n",
       "      <td>0 days</td>\n",
       "      <td>4</td>\n",
       "      <td>12</td>\n",
       "      <td>1</td>\n",
       "      <td>1</td>\n",
       "    </tr>\n",
       "    <tr>\n",
       "      <th>4</th>\n",
       "      <td>U001</td>\n",
       "      <td>0200769623</td>\n",
       "      <td>WAL-MAR co</td>\n",
       "      <td>2019-01-15</td>\n",
       "      <td>2018-12-30</td>\n",
       "      <td>2019-01-14</td>\n",
       "      <td>65940.4700</td>\n",
       "      <td>NAH4</td>\n",
       "      <td>0</td>\n",
       "      <td>1 days</td>\n",
       "      <td>4</td>\n",
       "      <td>12</td>\n",
       "      <td>1</td>\n",
       "      <td>1</td>\n",
       "    </tr>\n",
       "  </tbody>\n",
       "</table>\n",
       "</div>"
      ],
      "text/plain": [
       "  business_code cust_number       name_customer clear_date  \\\n",
       "0          U001  0200739534               OK co 2019-01-14   \n",
       "1          U001  0200769623  WAL-MAR associates 2019-01-09   \n",
       "2          CA02  0140105847         GORDON F in 2019-01-14   \n",
       "3          U001  0200769623     WAL-MAR systems 2019-01-14   \n",
       "4          U001  0200769623          WAL-MAR co 2019-01-15   \n",
       "\n",
       "  document_create_date.1 due_in_date  total_open_amount cust_payment_terms  \\\n",
       "0             2018-12-30  2019-01-14         90998.8000               NAA8   \n",
       "1             2018-12-30  2019-01-14         11025.2700               NAH4   \n",
       "2             2018-12-30  2019-01-12         14088.2976               CA10   \n",
       "3             2018-12-30  2019-01-14         21794.7000               NAH4   \n",
       "4             2018-12-30  2019-01-14         65940.4700               NAH4   \n",
       "\n",
       "   isOpen   DELAY  document_create_date.1_month-in-quarter  \\\n",
       "0       0  0 days                                        4   \n",
       "1       0 -5 days                                        4   \n",
       "2       0  2 days                                        4   \n",
       "3       0  0 days                                        4   \n",
       "4       0  1 days                                        4   \n",
       "\n",
       "   document_create_date.-in-_month  due_in_date-in-month  due_in_date-in-days  \n",
       "0                               12                     1                    1  \n",
       "1                               12                     1                    1  \n",
       "2                               12                     1                    1  \n",
       "3                               12                     1                    1  \n",
       "4                               12                     1                    1  "
      ]
     },
     "execution_count": 33,
     "metadata": {},
     "output_type": "execute_result"
    }
   ],
   "source": [
    "\n",
    "\n",
    "# month_quarter,month are calculated for further use in model prediction\n",
    "Train['document_create_date.1_month-in-quarter'] = Train['document_create_date.1'].dt.quarter\n",
    "Train['document_create_date.-in-_month'] = Train['document_create_date.1'].dt.month\n",
    "Train['due_in_date-in-month'] = Train['due_in_date'].dt.month\n",
    "Train['due_in_date-in-days'] =Train['due_in_date'].dt.day\n",
    "Train['due_in_date-in-days'] =Train['due_in_date'].dt.quarter\n",
    "\n",
    "\n",
    "\n",
    "\n",
    "\n",
    "Train.head()"
   ]
  },
  {
   "cell_type": "code",
   "execution_count": 34,
   "id": "d4ddb469",
   "metadata": {},
   "outputs": [
    {
     "name": "stderr",
     "output_type": "stream",
     "text": [
      "c:\\users\\telecom division\\appdata\\local\\programs\\python\\python39\\lib\\site-packages\\pandas\\core\\frame.py:4308: SettingWithCopyWarning: \n",
      "A value is trying to be set on a copy of a slice from a DataFrame\n",
      "\n",
      "See the caveats in the documentation: https://pandas.pydata.org/pandas-docs/stable/user_guide/indexing.html#returning-a-view-versus-a-copy\n",
      "  return super().drop(\n"
     ]
    }
   ],
   "source": [
    "# since we can't pass date datatype to a model so we have segregated it  and dropped the column document_create_date.1\n",
    "Train.drop(columns=['document_create_date.1'],inplace=True)"
   ]
  },
  {
   "cell_type": "code",
   "execution_count": 35,
   "id": "0c0fae46",
   "metadata": {},
   "outputs": [
    {
     "name": "stderr",
     "output_type": "stream",
     "text": [
      "<ipython-input-35-ea9222097a22>:3: SettingWithCopyWarning: \n",
      "A value is trying to be set on a copy of a slice from a DataFrame.\n",
      "Try using .loc[row_indexer,col_indexer] = value instead\n",
      "\n",
      "See the caveats in the documentation: https://pandas.pydata.org/pandas-docs/stable/user_guide/indexing.html#returning-a-view-versus-a-copy\n",
      "  Train['DELAY'] =  Train['DELAY'].dt.days\n"
     ]
    },
    {
     "data": {
      "text/html": [
       "<div>\n",
       "<style scoped>\n",
       "    .dataframe tbody tr th:only-of-type {\n",
       "        vertical-align: middle;\n",
       "    }\n",
       "\n",
       "    .dataframe tbody tr th {\n",
       "        vertical-align: top;\n",
       "    }\n",
       "\n",
       "    .dataframe thead th {\n",
       "        text-align: right;\n",
       "    }\n",
       "</style>\n",
       "<table border=\"1\" class=\"dataframe\">\n",
       "  <thead>\n",
       "    <tr style=\"text-align: right;\">\n",
       "      <th></th>\n",
       "      <th>business_code</th>\n",
       "      <th>cust_number</th>\n",
       "      <th>name_customer</th>\n",
       "      <th>total_open_amount</th>\n",
       "      <th>cust_payment_terms</th>\n",
       "      <th>isOpen</th>\n",
       "      <th>DELAY</th>\n",
       "      <th>document_create_date.1_month-in-quarter</th>\n",
       "      <th>document_create_date.-in-_month</th>\n",
       "      <th>due_in_date-in-month</th>\n",
       "      <th>due_in_date-in-days</th>\n",
       "    </tr>\n",
       "  </thead>\n",
       "  <tbody>\n",
       "    <tr>\n",
       "      <th>0</th>\n",
       "      <td>U001</td>\n",
       "      <td>0200739534</td>\n",
       "      <td>OK co</td>\n",
       "      <td>90998.8000</td>\n",
       "      <td>NAA8</td>\n",
       "      <td>0</td>\n",
       "      <td>0</td>\n",
       "      <td>4</td>\n",
       "      <td>12</td>\n",
       "      <td>1</td>\n",
       "      <td>1</td>\n",
       "    </tr>\n",
       "    <tr>\n",
       "      <th>1</th>\n",
       "      <td>U001</td>\n",
       "      <td>0200769623</td>\n",
       "      <td>WAL-MAR associates</td>\n",
       "      <td>11025.2700</td>\n",
       "      <td>NAH4</td>\n",
       "      <td>0</td>\n",
       "      <td>-5</td>\n",
       "      <td>4</td>\n",
       "      <td>12</td>\n",
       "      <td>1</td>\n",
       "      <td>1</td>\n",
       "    </tr>\n",
       "    <tr>\n",
       "      <th>2</th>\n",
       "      <td>CA02</td>\n",
       "      <td>0140105847</td>\n",
       "      <td>GORDON F in</td>\n",
       "      <td>14088.2976</td>\n",
       "      <td>CA10</td>\n",
       "      <td>0</td>\n",
       "      <td>2</td>\n",
       "      <td>4</td>\n",
       "      <td>12</td>\n",
       "      <td>1</td>\n",
       "      <td>1</td>\n",
       "    </tr>\n",
       "    <tr>\n",
       "      <th>3</th>\n",
       "      <td>U001</td>\n",
       "      <td>0200769623</td>\n",
       "      <td>WAL-MAR systems</td>\n",
       "      <td>21794.7000</td>\n",
       "      <td>NAH4</td>\n",
       "      <td>0</td>\n",
       "      <td>0</td>\n",
       "      <td>4</td>\n",
       "      <td>12</td>\n",
       "      <td>1</td>\n",
       "      <td>1</td>\n",
       "    </tr>\n",
       "    <tr>\n",
       "      <th>4</th>\n",
       "      <td>U001</td>\n",
       "      <td>0200769623</td>\n",
       "      <td>WAL-MAR co</td>\n",
       "      <td>65940.4700</td>\n",
       "      <td>NAH4</td>\n",
       "      <td>0</td>\n",
       "      <td>1</td>\n",
       "      <td>4</td>\n",
       "      <td>12</td>\n",
       "      <td>1</td>\n",
       "      <td>1</td>\n",
       "    </tr>\n",
       "  </tbody>\n",
       "</table>\n",
       "</div>"
      ],
      "text/plain": [
       "  business_code cust_number       name_customer  total_open_amount  \\\n",
       "0          U001  0200739534               OK co         90998.8000   \n",
       "1          U001  0200769623  WAL-MAR associates         11025.2700   \n",
       "2          CA02  0140105847         GORDON F in         14088.2976   \n",
       "3          U001  0200769623     WAL-MAR systems         21794.7000   \n",
       "4          U001  0200769623          WAL-MAR co         65940.4700   \n",
       "\n",
       "  cust_payment_terms  isOpen  DELAY  document_create_date.1_month-in-quarter  \\\n",
       "0               NAA8       0      0                                        4   \n",
       "1               NAH4       0     -5                                        4   \n",
       "2               CA10       0      2                                        4   \n",
       "3               NAH4       0      0                                        4   \n",
       "4               NAH4       0      1                                        4   \n",
       "\n",
       "   document_create_date.-in-_month  due_in_date-in-month  due_in_date-in-days  \n",
       "0                               12                     1                    1  \n",
       "1                               12                     1                    1  \n",
       "2                               12                     1                    1  \n",
       "3                               12                     1                    1  \n",
       "4                               12                     1                    1  "
      ]
     },
     "execution_count": 35,
     "metadata": {},
     "output_type": "execute_result"
    }
   ],
   "source": [
    "#Since we have deriver the delay from claer date and due date so we can drop the those features\n",
    "Train.drop(columns=['clear_date','due_in_date'],inplace=True)\n",
    "Train['DELAY'] =  Train['DELAY'].dt.days\n",
    "Train.head()"
   ]
  },
  {
   "cell_type": "code",
   "execution_count": 36,
   "id": "0e471e24",
   "metadata": {},
   "outputs": [
    {
     "data": {
      "text/plain": [
       "Index(['isOpen'], dtype='object')"
      ]
     },
     "execution_count": 36,
     "metadata": {},
     "output_type": "execute_result"
    }
   ],
   "source": [
    "Train.columns[Train.nunique()<=1]"
   ]
  },
  {
   "cell_type": "code",
   "execution_count": 37,
   "id": "b03b3258",
   "metadata": {},
   "outputs": [
    {
     "name": "stderr",
     "output_type": "stream",
     "text": [
      "c:\\users\\telecom division\\appdata\\local\\programs\\python\\python39\\lib\\site-packages\\pandas\\core\\frame.py:4308: SettingWithCopyWarning: \n",
      "A value is trying to be set on a copy of a slice from a DataFrame\n",
      "\n",
      "See the caveats in the documentation: https://pandas.pydata.org/pandas-docs/stable/user_guide/indexing.html#returning-a-view-versus-a-copy\n",
      "  return super().drop(\n"
     ]
    }
   ],
   "source": [
    "#Since the isopen is constant so we dropped it \n",
    "Train.drop(['isOpen'],axis=1,inplace= True)"
   ]
  },
  {
   "cell_type": "code",
   "execution_count": 38,
   "id": "7a459271",
   "metadata": {},
   "outputs": [],
   "source": [
    "# we don't need the cust_name  as cust id and cust_name are same and unique for training so dropped\n",
    "Train.drop(columns=['name_customer'],inplace=True)"
   ]
  },
  {
   "cell_type": "code",
   "execution_count": 39,
   "id": "41fbfe94",
   "metadata": {},
   "outputs": [
    {
     "data": {
      "text/plain": [
       "business_code                               object\n",
       "cust_number                                 object\n",
       "total_open_amount                          float64\n",
       "cust_payment_terms                          object\n",
       "DELAY                                        int64\n",
       "document_create_date.1_month-in-quarter      int64\n",
       "document_create_date.-in-_month              int64\n",
       "due_in_date-in-month                         int64\n",
       "due_in_date-in-days                          int64\n",
       "dtype: object"
      ]
     },
     "execution_count": 39,
     "metadata": {},
     "output_type": "execute_result"
    }
   ],
   "source": [
    "Train.dtypes"
   ]
  },
  {
   "cell_type": "markdown",
   "id": "4a3d5d12",
   "metadata": {},
   "source": [
    "### Splitting the Train data set into Train,Test,Validate set"
   ]
  },
  {
   "cell_type": "code",
   "execution_count": 40,
   "id": "ed08b476",
   "metadata": {},
   "outputs": [
    {
     "data": {
      "text/plain": [
       "((30550, 9), (7638, 9))"
      ]
     },
     "execution_count": 40,
     "metadata": {},
     "output_type": "execute_result"
    }
   ],
   "source": [
    "#train dat is splitted in 8:2 format \n",
    "from sklearn.model_selection import train_test_split\n",
    "Train_Final, validat = train_test_split(Train,test_size=.2,shuffle=False)\n",
    "Train_Final.shape,validat.shape"
   ]
  },
  {
   "cell_type": "code",
   "execution_count": 41,
   "id": "3ee8b05c",
   "metadata": {},
   "outputs": [
    {
     "data": {
      "text/plain": [
       "((3819, 9), (3819, 9))"
      ]
     },
     "execution_count": 41,
     "metadata": {},
     "output_type": "execute_result"
    }
   ],
   "source": [
    "#20% validation data is splited 50% slab (in the sorted document_create_date.1)\n",
    "validat_final,Test_Final = train_test_split(validat,test_size=.5,shuffle=False)\n",
    "validat_final.shape,Test_Final.shape"
   ]
  },
  {
   "cell_type": "code",
   "execution_count": 42,
   "id": "6d479c90",
   "metadata": {},
   "outputs": [
    {
     "data": {
      "text/html": [
       "<div>\n",
       "<style scoped>\n",
       "    .dataframe tbody tr th:only-of-type {\n",
       "        vertical-align: middle;\n",
       "    }\n",
       "\n",
       "    .dataframe tbody tr th {\n",
       "        vertical-align: top;\n",
       "    }\n",
       "\n",
       "    .dataframe thead th {\n",
       "        text-align: right;\n",
       "    }\n",
       "</style>\n",
       "<table border=\"1\" class=\"dataframe\">\n",
       "  <thead>\n",
       "    <tr style=\"text-align: right;\">\n",
       "      <th></th>\n",
       "      <th>business_code</th>\n",
       "      <th>cust_number</th>\n",
       "      <th>total_open_amount</th>\n",
       "      <th>cust_payment_terms</th>\n",
       "      <th>DELAY</th>\n",
       "      <th>document_create_date.1_month-in-quarter</th>\n",
       "      <th>document_create_date.-in-_month</th>\n",
       "      <th>due_in_date-in-month</th>\n",
       "      <th>due_in_date-in-days</th>\n",
       "    </tr>\n",
       "  </thead>\n",
       "  <tbody>\n",
       "    <tr>\n",
       "      <th>0</th>\n",
       "      <td>U001</td>\n",
       "      <td>0200739534</td>\n",
       "      <td>90998.8000</td>\n",
       "      <td>NAA8</td>\n",
       "      <td>0</td>\n",
       "      <td>4</td>\n",
       "      <td>12</td>\n",
       "      <td>1</td>\n",
       "      <td>1</td>\n",
       "    </tr>\n",
       "    <tr>\n",
       "      <th>1</th>\n",
       "      <td>U001</td>\n",
       "      <td>0200769623</td>\n",
       "      <td>11025.2700</td>\n",
       "      <td>NAH4</td>\n",
       "      <td>-5</td>\n",
       "      <td>4</td>\n",
       "      <td>12</td>\n",
       "      <td>1</td>\n",
       "      <td>1</td>\n",
       "    </tr>\n",
       "    <tr>\n",
       "      <th>2</th>\n",
       "      <td>CA02</td>\n",
       "      <td>0140105847</td>\n",
       "      <td>14088.2976</td>\n",
       "      <td>CA10</td>\n",
       "      <td>2</td>\n",
       "      <td>4</td>\n",
       "      <td>12</td>\n",
       "      <td>1</td>\n",
       "      <td>1</td>\n",
       "    </tr>\n",
       "    <tr>\n",
       "      <th>3</th>\n",
       "      <td>U001</td>\n",
       "      <td>0200769623</td>\n",
       "      <td>21794.7000</td>\n",
       "      <td>NAH4</td>\n",
       "      <td>0</td>\n",
       "      <td>4</td>\n",
       "      <td>12</td>\n",
       "      <td>1</td>\n",
       "      <td>1</td>\n",
       "    </tr>\n",
       "    <tr>\n",
       "      <th>4</th>\n",
       "      <td>U001</td>\n",
       "      <td>0200769623</td>\n",
       "      <td>65940.4700</td>\n",
       "      <td>NAH4</td>\n",
       "      <td>1</td>\n",
       "      <td>4</td>\n",
       "      <td>12</td>\n",
       "      <td>1</td>\n",
       "      <td>1</td>\n",
       "    </tr>\n",
       "  </tbody>\n",
       "</table>\n",
       "</div>"
      ],
      "text/plain": [
       "  business_code cust_number  total_open_amount cust_payment_terms  DELAY  \\\n",
       "0          U001  0200739534         90998.8000               NAA8      0   \n",
       "1          U001  0200769623         11025.2700               NAH4     -5   \n",
       "2          CA02  0140105847         14088.2976               CA10      2   \n",
       "3          U001  0200769623         21794.7000               NAH4      0   \n",
       "4          U001  0200769623         65940.4700               NAH4      1   \n",
       "\n",
       "   document_create_date.1_month-in-quarter  document_create_date.-in-_month  \\\n",
       "0                                        4                               12   \n",
       "1                                        4                               12   \n",
       "2                                        4                               12   \n",
       "3                                        4                               12   \n",
       "4                                        4                               12   \n",
       "\n",
       "   due_in_date-in-month  due_in_date-in-days  \n",
       "0                     1                    1  \n",
       "1                     1                    1  \n",
       "2                     1                    1  \n",
       "3                     1                    1  \n",
       "4                     1                    1  "
      ]
     },
     "execution_count": 42,
     "metadata": {},
     "output_type": "execute_result"
    }
   ],
   "source": [
    "Train_Final.head()"
   ]
  },
  {
   "cell_type": "code",
   "execution_count": 43,
   "id": "7d638608",
   "metadata": {},
   "outputs": [
    {
     "name": "stderr",
     "output_type": "stream",
     "text": [
      "c:\\users\\telecom division\\appdata\\local\\programs\\python\\python39\\lib\\site-packages\\pandas\\core\\indexing.py:1676: SettingWithCopyWarning: \n",
      "A value is trying to be set on a copy of a slice from a DataFrame.\n",
      "Try using .loc[row_indexer,col_indexer] = value instead\n",
      "\n",
      "See the caveats in the documentation: https://pandas.pydata.org/pandas-docs/stable/user_guide/indexing.html#returning-a-view-versus-a-copy\n",
      "  self._setitem_single_column(ilocs[0], value, pi)\n"
     ]
    }
   ],
   "source": [
    "#since some features are catagorical  we have done label-encoding so that we can pass to model \n",
    "from sklearn.preprocessing import LabelEncoder\n",
    "labelencoder = LabelEncoder()\n",
    "Train_Final.iloc[:,0] = labelencoder.fit_transform(Train_Final.iloc[:,0])\n",
    "Train_Final.iloc[:,1] = labelencoder.fit_transform(Train_Final.iloc[:,1])\n",
    "Train_Final.iloc[:,3] = labelencoder.fit_transform(Train_Final.iloc[:,3])"
   ]
  },
  {
   "cell_type": "code",
   "execution_count": 44,
   "id": "cded7601",
   "metadata": {},
   "outputs": [
    {
     "data": {
      "text/html": [
       "<div>\n",
       "<style scoped>\n",
       "    .dataframe tbody tr th:only-of-type {\n",
       "        vertical-align: middle;\n",
       "    }\n",
       "\n",
       "    .dataframe tbody tr th {\n",
       "        vertical-align: top;\n",
       "    }\n",
       "\n",
       "    .dataframe thead th {\n",
       "        text-align: right;\n",
       "    }\n",
       "</style>\n",
       "<table border=\"1\" class=\"dataframe\">\n",
       "  <thead>\n",
       "    <tr style=\"text-align: right;\">\n",
       "      <th></th>\n",
       "      <th>business_code</th>\n",
       "      <th>cust_number</th>\n",
       "      <th>total_open_amount</th>\n",
       "      <th>cust_payment_terms</th>\n",
       "      <th>DELAY</th>\n",
       "      <th>document_create_date.1_month-in-quarter</th>\n",
       "      <th>document_create_date.-in-_month</th>\n",
       "      <th>due_in_date-in-month</th>\n",
       "      <th>due_in_date-in-days</th>\n",
       "    </tr>\n",
       "  </thead>\n",
       "  <tbody>\n",
       "    <tr>\n",
       "      <th>0</th>\n",
       "      <td>1</td>\n",
       "      <td>715</td>\n",
       "      <td>90998.8000</td>\n",
       "      <td>21</td>\n",
       "      <td>0</td>\n",
       "      <td>4</td>\n",
       "      <td>12</td>\n",
       "      <td>1</td>\n",
       "      <td>1</td>\n",
       "    </tr>\n",
       "    <tr>\n",
       "      <th>1</th>\n",
       "      <td>1</td>\n",
       "      <td>782</td>\n",
       "      <td>11025.2700</td>\n",
       "      <td>33</td>\n",
       "      <td>-5</td>\n",
       "      <td>4</td>\n",
       "      <td>12</td>\n",
       "      <td>1</td>\n",
       "      <td>1</td>\n",
       "    </tr>\n",
       "    <tr>\n",
       "      <th>2</th>\n",
       "      <td>0</td>\n",
       "      <td>373</td>\n",
       "      <td>14088.2976</td>\n",
       "      <td>6</td>\n",
       "      <td>2</td>\n",
       "      <td>4</td>\n",
       "      <td>12</td>\n",
       "      <td>1</td>\n",
       "      <td>1</td>\n",
       "    </tr>\n",
       "    <tr>\n",
       "      <th>3</th>\n",
       "      <td>1</td>\n",
       "      <td>782</td>\n",
       "      <td>21794.7000</td>\n",
       "      <td>33</td>\n",
       "      <td>0</td>\n",
       "      <td>4</td>\n",
       "      <td>12</td>\n",
       "      <td>1</td>\n",
       "      <td>1</td>\n",
       "    </tr>\n",
       "    <tr>\n",
       "      <th>4</th>\n",
       "      <td>1</td>\n",
       "      <td>782</td>\n",
       "      <td>65940.4700</td>\n",
       "      <td>33</td>\n",
       "      <td>1</td>\n",
       "      <td>4</td>\n",
       "      <td>12</td>\n",
       "      <td>1</td>\n",
       "      <td>1</td>\n",
       "    </tr>\n",
       "  </tbody>\n",
       "</table>\n",
       "</div>"
      ],
      "text/plain": [
       "   business_code  cust_number  total_open_amount  cust_payment_terms  DELAY  \\\n",
       "0              1          715         90998.8000                  21      0   \n",
       "1              1          782         11025.2700                  33     -5   \n",
       "2              0          373         14088.2976                   6      2   \n",
       "3              1          782         21794.7000                  33      0   \n",
       "4              1          782         65940.4700                  33      1   \n",
       "\n",
       "   document_create_date.1_month-in-quarter  document_create_date.-in-_month  \\\n",
       "0                                        4                               12   \n",
       "1                                        4                               12   \n",
       "2                                        4                               12   \n",
       "3                                        4                               12   \n",
       "4                                        4                               12   \n",
       "\n",
       "   due_in_date-in-month  due_in_date-in-days  \n",
       "0                     1                    1  \n",
       "1                     1                    1  \n",
       "2                     1                    1  \n",
       "3                     1                    1  \n",
       "4                     1                    1  "
      ]
     },
     "execution_count": 44,
     "metadata": {},
     "output_type": "execute_result"
    }
   ],
   "source": [
    "Train_Final.head()"
   ]
  },
  {
   "cell_type": "code",
   "execution_count": 45,
   "id": "05000dac",
   "metadata": {},
   "outputs": [
    {
     "name": "stderr",
     "output_type": "stream",
     "text": [
      "c:\\users\\telecom division\\appdata\\local\\programs\\python\\python39\\lib\\site-packages\\pandas\\core\\indexing.py:1676: SettingWithCopyWarning: \n",
      "A value is trying to be set on a copy of a slice from a DataFrame.\n",
      "Try using .loc[row_indexer,col_indexer] = value instead\n",
      "\n",
      "See the caveats in the documentation: https://pandas.pydata.org/pandas-docs/stable/user_guide/indexing.html#returning-a-view-versus-a-copy\n",
      "  self._setitem_single_column(ilocs[0], value, pi)\n"
     ]
    }
   ],
   "source": [
    "#since some features are catagorical  we have done label-encoding so that we can pass to model \n",
    "from sklearn.preprocessing import LabelEncoder\n",
    "labelencoder = LabelEncoder()\n",
    "validat_final.iloc[:,0] = labelencoder.fit_transform(validat_final.iloc[:,0])\n",
    "validat_final.iloc[:,1] = labelencoder.fit_transform(validat_final.iloc[:,1])\n",
    "validat_final.iloc[:,3] = labelencoder.fit_transform(validat_final.iloc[:,3])"
   ]
  },
  {
   "cell_type": "code",
   "execution_count": 46,
   "id": "8ac5b8f2",
   "metadata": {},
   "outputs": [
    {
     "data": {
      "text/html": [
       "<div>\n",
       "<style scoped>\n",
       "    .dataframe tbody tr th:only-of-type {\n",
       "        vertical-align: middle;\n",
       "    }\n",
       "\n",
       "    .dataframe tbody tr th {\n",
       "        vertical-align: top;\n",
       "    }\n",
       "\n",
       "    .dataframe thead th {\n",
       "        text-align: right;\n",
       "    }\n",
       "</style>\n",
       "<table border=\"1\" class=\"dataframe\">\n",
       "  <thead>\n",
       "    <tr style=\"text-align: right;\">\n",
       "      <th></th>\n",
       "      <th>business_code</th>\n",
       "      <th>cust_number</th>\n",
       "      <th>total_open_amount</th>\n",
       "      <th>cust_payment_terms</th>\n",
       "      <th>DELAY</th>\n",
       "      <th>document_create_date.1_month-in-quarter</th>\n",
       "      <th>document_create_date.-in-_month</th>\n",
       "      <th>due_in_date-in-month</th>\n",
       "      <th>due_in_date-in-days</th>\n",
       "    </tr>\n",
       "  </thead>\n",
       "  <tbody>\n",
       "    <tr>\n",
       "      <th>30550</th>\n",
       "      <td>1</td>\n",
       "      <td>304</td>\n",
       "      <td>17951.54</td>\n",
       "      <td>21</td>\n",
       "      <td>-2</td>\n",
       "      <td>4</td>\n",
       "      <td>11</td>\n",
       "      <td>12</td>\n",
       "      <td>4</td>\n",
       "    </tr>\n",
       "    <tr>\n",
       "      <th>30551</th>\n",
       "      <td>1</td>\n",
       "      <td>304</td>\n",
       "      <td>54352.19</td>\n",
       "      <td>21</td>\n",
       "      <td>-5</td>\n",
       "      <td>4</td>\n",
       "      <td>11</td>\n",
       "      <td>12</td>\n",
       "      <td>4</td>\n",
       "    </tr>\n",
       "    <tr>\n",
       "      <th>30552</th>\n",
       "      <td>1</td>\n",
       "      <td>307</td>\n",
       "      <td>3013.65</td>\n",
       "      <td>26</td>\n",
       "      <td>1</td>\n",
       "      <td>4</td>\n",
       "      <td>11</td>\n",
       "      <td>12</td>\n",
       "      <td>4</td>\n",
       "    </tr>\n",
       "    <tr>\n",
       "      <th>30553</th>\n",
       "      <td>1</td>\n",
       "      <td>304</td>\n",
       "      <td>1695.68</td>\n",
       "      <td>21</td>\n",
       "      <td>-2</td>\n",
       "      <td>4</td>\n",
       "      <td>11</td>\n",
       "      <td>12</td>\n",
       "      <td>4</td>\n",
       "    </tr>\n",
       "    <tr>\n",
       "      <th>30554</th>\n",
       "      <td>1</td>\n",
       "      <td>304</td>\n",
       "      <td>17427.08</td>\n",
       "      <td>21</td>\n",
       "      <td>-4</td>\n",
       "      <td>4</td>\n",
       "      <td>11</td>\n",
       "      <td>12</td>\n",
       "      <td>4</td>\n",
       "    </tr>\n",
       "  </tbody>\n",
       "</table>\n",
       "</div>"
      ],
      "text/plain": [
       "       business_code  cust_number  total_open_amount  cust_payment_terms  \\\n",
       "30550              1          304           17951.54                  21   \n",
       "30551              1          304           54352.19                  21   \n",
       "30552              1          307            3013.65                  26   \n",
       "30553              1          304            1695.68                  21   \n",
       "30554              1          304           17427.08                  21   \n",
       "\n",
       "       DELAY  document_create_date.1_month-in-quarter  \\\n",
       "30550     -2                                        4   \n",
       "30551     -5                                        4   \n",
       "30552      1                                        4   \n",
       "30553     -2                                        4   \n",
       "30554     -4                                        4   \n",
       "\n",
       "       document_create_date.-in-_month  due_in_date-in-month  \\\n",
       "30550                               11                    12   \n",
       "30551                               11                    12   \n",
       "30552                               11                    12   \n",
       "30553                               11                    12   \n",
       "30554                               11                    12   \n",
       "\n",
       "       due_in_date-in-days  \n",
       "30550                    4  \n",
       "30551                    4  \n",
       "30552                    4  \n",
       "30553                    4  \n",
       "30554                    4  "
      ]
     },
     "execution_count": 46,
     "metadata": {},
     "output_type": "execute_result"
    }
   ],
   "source": [
    "validat_final.head()"
   ]
  },
  {
   "cell_type": "code",
   "execution_count": 47,
   "id": "e3bb22d5",
   "metadata": {},
   "outputs": [
    {
     "data": {
      "text/html": [
       "<div>\n",
       "<style scoped>\n",
       "    .dataframe tbody tr th:only-of-type {\n",
       "        vertical-align: middle;\n",
       "    }\n",
       "\n",
       "    .dataframe tbody tr th {\n",
       "        vertical-align: top;\n",
       "    }\n",
       "\n",
       "    .dataframe thead th {\n",
       "        text-align: right;\n",
       "    }\n",
       "</style>\n",
       "<table border=\"1\" class=\"dataframe\">\n",
       "  <thead>\n",
       "    <tr style=\"text-align: right;\">\n",
       "      <th></th>\n",
       "      <th>business_code</th>\n",
       "      <th>cust_number</th>\n",
       "      <th>total_open_amount</th>\n",
       "      <th>cust_payment_terms</th>\n",
       "      <th>DELAY</th>\n",
       "      <th>document_create_date.1_month-in-quarter</th>\n",
       "      <th>document_create_date.-in-_month</th>\n",
       "      <th>due_in_date-in-month</th>\n",
       "      <th>due_in_date-in-days</th>\n",
       "    </tr>\n",
       "  </thead>\n",
       "  <tbody>\n",
       "    <tr>\n",
       "      <th>34369</th>\n",
       "      <td>U001</td>\n",
       "      <td>0200769623</td>\n",
       "      <td>55671.23</td>\n",
       "      <td>NAH4</td>\n",
       "      <td>-1</td>\n",
       "      <td>1</td>\n",
       "      <td>1</td>\n",
       "      <td>1</td>\n",
       "      <td>1</td>\n",
       "    </tr>\n",
       "    <tr>\n",
       "      <th>34370</th>\n",
       "      <td>U001</td>\n",
       "      <td>0200776463</td>\n",
       "      <td>125277.01</td>\n",
       "      <td>NAA8</td>\n",
       "      <td>0</td>\n",
       "      <td>1</td>\n",
       "      <td>1</td>\n",
       "      <td>1</td>\n",
       "      <td>1</td>\n",
       "    </tr>\n",
       "    <tr>\n",
       "      <th>34371</th>\n",
       "      <td>U001</td>\n",
       "      <td>0200726979</td>\n",
       "      <td>269.58</td>\n",
       "      <td>NAA8</td>\n",
       "      <td>0</td>\n",
       "      <td>1</td>\n",
       "      <td>1</td>\n",
       "      <td>1</td>\n",
       "      <td>1</td>\n",
       "    </tr>\n",
       "    <tr>\n",
       "      <th>34372</th>\n",
       "      <td>U001</td>\n",
       "      <td>0200769623</td>\n",
       "      <td>2373.96</td>\n",
       "      <td>NAH4</td>\n",
       "      <td>-4</td>\n",
       "      <td>1</td>\n",
       "      <td>1</td>\n",
       "      <td>1</td>\n",
       "      <td>1</td>\n",
       "    </tr>\n",
       "    <tr>\n",
       "      <th>34373</th>\n",
       "      <td>U001</td>\n",
       "      <td>0200769623</td>\n",
       "      <td>344.76</td>\n",
       "      <td>NAH4</td>\n",
       "      <td>-5</td>\n",
       "      <td>1</td>\n",
       "      <td>1</td>\n",
       "      <td>1</td>\n",
       "      <td>1</td>\n",
       "    </tr>\n",
       "  </tbody>\n",
       "</table>\n",
       "</div>"
      ],
      "text/plain": [
       "      business_code cust_number  total_open_amount cust_payment_terms  DELAY  \\\n",
       "34369          U001  0200769623           55671.23               NAH4     -1   \n",
       "34370          U001  0200776463          125277.01               NAA8      0   \n",
       "34371          U001  0200726979             269.58               NAA8      0   \n",
       "34372          U001  0200769623            2373.96               NAH4     -4   \n",
       "34373          U001  0200769623             344.76               NAH4     -5   \n",
       "\n",
       "       document_create_date.1_month-in-quarter  \\\n",
       "34369                                        1   \n",
       "34370                                        1   \n",
       "34371                                        1   \n",
       "34372                                        1   \n",
       "34373                                        1   \n",
       "\n",
       "       document_create_date.-in-_month  due_in_date-in-month  \\\n",
       "34369                                1                     1   \n",
       "34370                                1                     1   \n",
       "34371                                1                     1   \n",
       "34372                                1                     1   \n",
       "34373                                1                     1   \n",
       "\n",
       "       due_in_date-in-days  \n",
       "34369                    1  \n",
       "34370                    1  \n",
       "34371                    1  \n",
       "34372                    1  \n",
       "34373                    1  "
      ]
     },
     "execution_count": 47,
     "metadata": {},
     "output_type": "execute_result"
    }
   ],
   "source": [
    "Test_Final.head()"
   ]
  },
  {
   "cell_type": "code",
   "execution_count": null,
   "id": "a9693200",
   "metadata": {},
   "outputs": [],
   "source": []
  },
  {
   "cell_type": "code",
   "execution_count": 48,
   "id": "3648bb60",
   "metadata": {},
   "outputs": [
    {
     "name": "stderr",
     "output_type": "stream",
     "text": [
      "c:\\users\\telecom division\\appdata\\local\\programs\\python\\python39\\lib\\site-packages\\pandas\\core\\indexing.py:1676: SettingWithCopyWarning: \n",
      "A value is trying to be set on a copy of a slice from a DataFrame.\n",
      "Try using .loc[row_indexer,col_indexer] = value instead\n",
      "\n",
      "See the caveats in the documentation: https://pandas.pydata.org/pandas-docs/stable/user_guide/indexing.html#returning-a-view-versus-a-copy\n",
      "  self._setitem_single_column(ilocs[0], value, pi)\n"
     ]
    }
   ],
   "source": [
    "#since some features are catagorical  we have done label-encoding so that we can pass to model \n",
    "from sklearn.preprocessing import LabelEncoder\n",
    "labelencoder = LabelEncoder()\n",
    "Test_Final.iloc[:,0] = labelencoder.fit_transform(Test_Final.iloc[:,0])\n",
    "Test_Final.iloc[:,1] = labelencoder.fit_transform(Test_Final.iloc[:,1])\n",
    "Test_Final.iloc[:,3] = labelencoder.fit_transform(Test_Final.iloc[:,3])"
   ]
  },
  {
   "cell_type": "code",
   "execution_count": 49,
   "id": "b63ac7e9",
   "metadata": {},
   "outputs": [
    {
     "data": {
      "text/html": [
       "<div>\n",
       "<style scoped>\n",
       "    .dataframe tbody tr th:only-of-type {\n",
       "        vertical-align: middle;\n",
       "    }\n",
       "\n",
       "    .dataframe tbody tr th {\n",
       "        vertical-align: top;\n",
       "    }\n",
       "\n",
       "    .dataframe thead th {\n",
       "        text-align: right;\n",
       "    }\n",
       "</style>\n",
       "<table border=\"1\" class=\"dataframe\">\n",
       "  <thead>\n",
       "    <tr style=\"text-align: right;\">\n",
       "      <th></th>\n",
       "      <th>business_code</th>\n",
       "      <th>cust_number</th>\n",
       "      <th>total_open_amount</th>\n",
       "      <th>cust_payment_terms</th>\n",
       "      <th>DELAY</th>\n",
       "      <th>document_create_date.1_month-in-quarter</th>\n",
       "      <th>document_create_date.-in-_month</th>\n",
       "      <th>due_in_date-in-month</th>\n",
       "      <th>due_in_date-in-days</th>\n",
       "    </tr>\n",
       "  </thead>\n",
       "  <tbody>\n",
       "    <tr>\n",
       "      <th>34369</th>\n",
       "      <td>1</td>\n",
       "      <td>333</td>\n",
       "      <td>55671.23</td>\n",
       "      <td>24</td>\n",
       "      <td>-1</td>\n",
       "      <td>1</td>\n",
       "      <td>1</td>\n",
       "      <td>1</td>\n",
       "      <td>1</td>\n",
       "    </tr>\n",
       "    <tr>\n",
       "      <th>34370</th>\n",
       "      <td>1</td>\n",
       "      <td>343</td>\n",
       "      <td>125277.01</td>\n",
       "      <td>11</td>\n",
       "      <td>0</td>\n",
       "      <td>1</td>\n",
       "      <td>1</td>\n",
       "      <td>1</td>\n",
       "      <td>1</td>\n",
       "    </tr>\n",
       "    <tr>\n",
       "      <th>34371</th>\n",
       "      <td>1</td>\n",
       "      <td>273</td>\n",
       "      <td>269.58</td>\n",
       "      <td>11</td>\n",
       "      <td>0</td>\n",
       "      <td>1</td>\n",
       "      <td>1</td>\n",
       "      <td>1</td>\n",
       "      <td>1</td>\n",
       "    </tr>\n",
       "    <tr>\n",
       "      <th>34372</th>\n",
       "      <td>1</td>\n",
       "      <td>333</td>\n",
       "      <td>2373.96</td>\n",
       "      <td>24</td>\n",
       "      <td>-4</td>\n",
       "      <td>1</td>\n",
       "      <td>1</td>\n",
       "      <td>1</td>\n",
       "      <td>1</td>\n",
       "    </tr>\n",
       "    <tr>\n",
       "      <th>34373</th>\n",
       "      <td>1</td>\n",
       "      <td>333</td>\n",
       "      <td>344.76</td>\n",
       "      <td>24</td>\n",
       "      <td>-5</td>\n",
       "      <td>1</td>\n",
       "      <td>1</td>\n",
       "      <td>1</td>\n",
       "      <td>1</td>\n",
       "    </tr>\n",
       "  </tbody>\n",
       "</table>\n",
       "</div>"
      ],
      "text/plain": [
       "       business_code  cust_number  total_open_amount  cust_payment_terms  \\\n",
       "34369              1          333           55671.23                  24   \n",
       "34370              1          343          125277.01                  11   \n",
       "34371              1          273             269.58                  11   \n",
       "34372              1          333            2373.96                  24   \n",
       "34373              1          333             344.76                  24   \n",
       "\n",
       "       DELAY  document_create_date.1_month-in-quarter  \\\n",
       "34369     -1                                        1   \n",
       "34370      0                                        1   \n",
       "34371      0                                        1   \n",
       "34372     -4                                        1   \n",
       "34373     -5                                        1   \n",
       "\n",
       "       document_create_date.-in-_month  due_in_date-in-month  \\\n",
       "34369                                1                     1   \n",
       "34370                                1                     1   \n",
       "34371                                1                     1   \n",
       "34372                                1                     1   \n",
       "34373                                1                     1   \n",
       "\n",
       "       due_in_date-in-days  \n",
       "34369                    1  \n",
       "34370                    1  \n",
       "34371                    1  \n",
       "34372                    1  \n",
       "34373                    1  "
      ]
     },
     "execution_count": 49,
     "metadata": {},
     "output_type": "execute_result"
    }
   ],
   "source": [
    "Test_Final.head()"
   ]
  },
  {
   "cell_type": "code",
   "execution_count": 50,
   "id": "c78268f5",
   "metadata": {},
   "outputs": [
    {
     "data": {
      "text/plain": [
       "business_code                                int32\n",
       "cust_number                                  int32\n",
       "total_open_amount                          float64\n",
       "cust_payment_terms                           int32\n",
       "DELAY                                        int64\n",
       "document_create_date.1_month-in-quarter      int64\n",
       "document_create_date.-in-_month              int64\n",
       "due_in_date-in-month                         int64\n",
       "due_in_date-in-days                          int64\n",
       "dtype: object"
      ]
     },
     "execution_count": 50,
     "metadata": {},
     "output_type": "execute_result"
    }
   ],
   "source": [
    "Train_Final.dtypes"
   ]
  },
  {
   "cell_type": "code",
   "execution_count": 51,
   "id": "4599e175",
   "metadata": {},
   "outputs": [
    {
     "data": {
      "text/plain": [
       "business_code                                int32\n",
       "cust_number                                  int32\n",
       "total_open_amount                          float64\n",
       "cust_payment_terms                           int32\n",
       "DELAY                                        int64\n",
       "document_create_date.1_month-in-quarter      int64\n",
       "document_create_date.-in-_month              int64\n",
       "due_in_date-in-month                         int64\n",
       "due_in_date-in-days                          int64\n",
       "dtype: object"
      ]
     },
     "execution_count": 51,
     "metadata": {},
     "output_type": "execute_result"
    }
   ],
   "source": [
    "Test_Final.dtypes"
   ]
  },
  {
   "cell_type": "code",
   "execution_count": 52,
   "id": "bb24b770",
   "metadata": {},
   "outputs": [
    {
     "data": {
      "text/plain": [
       "business_code                                int32\n",
       "cust_number                                  int32\n",
       "total_open_amount                          float64\n",
       "cust_payment_terms                           int32\n",
       "DELAY                                        int64\n",
       "document_create_date.1_month-in-quarter      int64\n",
       "document_create_date.-in-_month              int64\n",
       "due_in_date-in-month                         int64\n",
       "due_in_date-in-days                          int64\n",
       "dtype: object"
      ]
     },
     "execution_count": 52,
     "metadata": {},
     "output_type": "execute_result"
    }
   ],
   "source": [
    "validat_final.dtypes"
   ]
  },
  {
   "cell_type": "markdown",
   "id": "22f06eb4",
   "metadata": {},
   "source": [
    "# Features Selection"
   ]
  },
  {
   "cell_type": "code",
   "execution_count": 53,
   "id": "53f7b058",
   "metadata": {},
   "outputs": [
    {
     "data": {
      "text/plain": [
       "ExtraTreesClassifier()"
      ]
     },
     "execution_count": 53,
     "metadata": {},
     "output_type": "execute_result"
    }
   ],
   "source": [
    "#Extracting best features to be fed to train our model\n",
    "from sklearn.ensemble import ExtraTreesClassifier\n",
    "x=Train_Final.drop(labels=['DELAY'], axis=1)\n",
    "y= Train_Final['DELAY']\n",
    "model = ExtraTreesClassifier()\n",
    "model.fit(x,y)"
   ]
  },
  {
   "cell_type": "code",
   "execution_count": 54,
   "id": "f825a456",
   "metadata": {},
   "outputs": [
    {
     "data": {
      "image/png": "[encoded data removed]",
      "text/plain": [
       "<Figure size 432x288 with 1 Axes>"
      ]
     },
     "metadata": {},
     "output_type": "display_data"
    }
   ],
   "source": [
    "selt = pd.Series(model.feature_importances_, index=x.columns)\n",
    "selt.nlargest(11).plot(kind='barh')\n",
    "plt.show()"
   ]
  },
  {
   "cell_type": "code",
   "execution_count": 55,
   "id": "51b017e0",
   "metadata": {},
   "outputs": [
    {
     "name": "stderr",
     "output_type": "stream",
     "text": [
      "c:\\users\\telecom division\\appdata\\local\\programs\\python\\python39\\lib\\site-packages\\pandas\\core\\frame.py:4308: SettingWithCopyWarning: \n",
      "A value is trying to be set on a copy of a slice from a DataFrame\n",
      "\n",
      "See the caveats in the documentation: https://pandas.pydata.org/pandas-docs/stable/user_guide/indexing.html#returning-a-view-versus-a-copy\n",
      "  return super().drop(\n"
     ]
    }
   ],
   "source": [
    "Train_Final.drop(columns=['due_in_date-in-days','document_create_date.1_month-in-quarter','business_code'],inplace=True)\n",
    "Test_Final.drop(columns=['due_in_date-in-days','document_create_date.1_month-in-quarter','business_code'],inplace=True)\n",
    "validat_final.drop(columns=['due_in_date-in-days','document_create_date.1_month-in-quarter','business_code'],inplace=True)"
   ]
  },
  {
   "cell_type": "code",
   "execution_count": 57,
   "id": "fa421dfd",
   "metadata": {},
   "outputs": [],
   "source": [
    "#spliting train_final\n",
    "X_train, X_test, y_train, y_test = train_test_split(\n",
    "    Train_Final.drop(labels=['DELAY'], axis=1),\n",
    "    Train_Final['DELAY'],\n",
    "    test_size=0.3,\n",
    "    random_state=False)"
   ]
  },
  {
   "cell_type": "code",
   "execution_count": 58,
   "id": "bca24a0e",
   "metadata": {},
   "outputs": [
    {
     "data": {
      "text/plain": [
       "((3819, 5), (3819,))"
      ]
     },
     "execution_count": 58,
     "metadata": {},
     "output_type": "execute_result"
    }
   ],
   "source": [
    "#spliting validation_final\n",
    "X_val = validat_final.drop(labels=['DELAY'], axis=1)\n",
    "y_val = validat_final['DELAY']\n",
    "X_val.shape,y_val.shape"
   ]
  },
  {
   "cell_type": "code",
   "execution_count": 59,
   "id": "428881c7",
   "metadata": {},
   "outputs": [
    {
     "data": {
      "text/plain": [
       "((3819, 5), (3819,))"
      ]
     },
     "execution_count": 59,
     "metadata": {},
     "output_type": "execute_result"
    }
   ],
   "source": [
    "#spliting test_final\n",
    "X_test_final_test = Test_Final.drop(labels=['DELAY'], axis=1)\n",
    "y_test_final_test = Test_Final['DELAY']\n",
    "X_test_final_test.shape,y_test_final_test.shape"
   ]
  },
  {
   "cell_type": "code",
   "execution_count": 60,
   "id": "e8afe838",
   "metadata": {},
   "outputs": [],
   "source": [
    "#Normalization is performed before fitting inside model\n",
    "scaler = StandardScaler()\n",
    "X_train_scaled = scaler.fit_transform(X_train)\n",
    "X_test_scaled = scaler.fit_transform(X_val)"
   ]
  },
  {
   "cell_type": "code",
   "execution_count": 61,
   "id": "05ecec6b",
   "metadata": {},
   "outputs": [],
   "source": [
    "# checking model in train_final\n",
    "model_1 = LinearRegression()\n",
    "model_1.fit(X_train_scaled,y_train)\n",
    "pred_value = model_1.predict(X_test_scaled)\n",
    "# print(f'score = {model_1.score(X_test_scaled,y_test)}')\n",
    "# print(f'r2_score = {r2_score(y_test,pred_value)}')\n",
    "# print(f'mean_squared_error = {mean_squared_error(y_test, pred_value)}')\n",
    "# root_mean_square_error=sqrt(mean_squared_error(y_test, pred_value))\n",
    "# print(f'root_mean_square_error = {root_mean_square_error}')"
   ]
  },
  {
   "cell_type": "code",
   "execution_count": 62,
   "id": "2dab0aa2",
   "metadata": {},
   "outputs": [
    {
     "ename": "ValueError",
     "evalue": "Found input variables with inconsistent numbers of samples: [9165, 3819]",
     "output_type": "error",
     "traceback": [
      "\u001b[1;31m---------------------------------------------------------------------------\u001b[0m",
      "\u001b[1;31mValueError\u001b[0m                                Traceback (most recent call last)",
      "\u001b[1;32m<ipython-input-62-f504aa400a2f>\u001b[0m in \u001b[0;36m<module>\u001b[1;34m\u001b[0m\n\u001b[1;32m----> 1\u001b[1;33m \u001b[0mprint\u001b[0m\u001b[1;33m(\u001b[0m\u001b[1;34mf'mean_squared_error = {mean_squared_error(y_test, pred_value)}'\u001b[0m\u001b[1;33m)\u001b[0m\u001b[1;33m\u001b[0m\u001b[1;33m\u001b[0m\u001b[0m\n\u001b[0m",
      "\u001b[1;32mc:\\users\\telecom division\\appdata\\local\\programs\\python\\python39\\lib\\site-packages\\sklearn\\utils\\validation.py\u001b[0m in \u001b[0;36minner_f\u001b[1;34m(*args, **kwargs)\u001b[0m\n\u001b[0;32m     61\u001b[0m             \u001b[0mextra_args\u001b[0m \u001b[1;33m=\u001b[0m \u001b[0mlen\u001b[0m\u001b[1;33m(\u001b[0m\u001b[0margs\u001b[0m\u001b[1;33m)\u001b[0m \u001b[1;33m-\u001b[0m \u001b[0mlen\u001b[0m\u001b[1;33m(\u001b[0m\u001b[0mall_args\u001b[0m\u001b[1;33m)\u001b[0m\u001b[1;33m\u001b[0m\u001b[1;33m\u001b[0m\u001b[0m\n\u001b[0;32m     62\u001b[0m             \u001b[1;32mif\u001b[0m \u001b[0mextra_args\u001b[0m \u001b[1;33m<=\u001b[0m \u001b[1;36m0\u001b[0m\u001b[1;33m:\u001b[0m\u001b[1;33m\u001b[0m\u001b[1;33m\u001b[0m\u001b[0m\n\u001b[1;32m---> 63\u001b[1;33m                 \u001b[1;32mreturn\u001b[0m \u001b[0mf\u001b[0m\u001b[1;33m(\u001b[0m\u001b[1;33m*\u001b[0m\u001b[0margs\u001b[0m\u001b[1;33m,\u001b[0m \u001b[1;33m**\u001b[0m\u001b[0mkwargs\u001b[0m\u001b[1;33m)\u001b[0m\u001b[1;33m\u001b[0m\u001b[1;33m\u001b[0m\u001b[0m\n\u001b[0m\u001b[0;32m     64\u001b[0m \u001b[1;33m\u001b[0m\u001b[0m\n\u001b[0;32m     65\u001b[0m             \u001b[1;31m# extra_args > 0\u001b[0m\u001b[1;33m\u001b[0m\u001b[1;33m\u001b[0m\u001b[1;33m\u001b[0m\u001b[0m\n",
      "\u001b[1;32mc:\\users\\telecom division\\appdata\\local\\programs\\python\\python39\\lib\\site-packages\\sklearn\\metrics\\_regression.py\u001b[0m in \u001b[0;36mmean_squared_error\u001b[1;34m(y_true, y_pred, sample_weight, multioutput, squared)\u001b[0m\n\u001b[0;32m    333\u001b[0m     \u001b[1;36m0.825\u001b[0m\u001b[1;33m...\u001b[0m\u001b[1;33m\u001b[0m\u001b[1;33m\u001b[0m\u001b[0m\n\u001b[0;32m    334\u001b[0m     \"\"\"\n\u001b[1;32m--> 335\u001b[1;33m     y_type, y_true, y_pred, multioutput = _check_reg_targets(\n\u001b[0m\u001b[0;32m    336\u001b[0m         y_true, y_pred, multioutput)\n\u001b[0;32m    337\u001b[0m     \u001b[0mcheck_consistent_length\u001b[0m\u001b[1;33m(\u001b[0m\u001b[0my_true\u001b[0m\u001b[1;33m,\u001b[0m \u001b[0my_pred\u001b[0m\u001b[1;33m,\u001b[0m \u001b[0msample_weight\u001b[0m\u001b[1;33m)\u001b[0m\u001b[1;33m\u001b[0m\u001b[1;33m\u001b[0m\u001b[0m\n",
      "\u001b[1;32mc:\\users\\telecom division\\appdata\\local\\programs\\python\\python39\\lib\\site-packages\\sklearn\\metrics\\_regression.py\u001b[0m in \u001b[0;36m_check_reg_targets\u001b[1;34m(y_true, y_pred, multioutput, dtype)\u001b[0m\n\u001b[0;32m     86\u001b[0m         \u001b[0mthe\u001b[0m \u001b[0mdtype\u001b[0m \u001b[0margument\u001b[0m \u001b[0mpassed\u001b[0m \u001b[0mto\u001b[0m \u001b[0mcheck_array\u001b[0m\u001b[1;33m.\u001b[0m\u001b[1;33m\u001b[0m\u001b[1;33m\u001b[0m\u001b[0m\n\u001b[0;32m     87\u001b[0m     \"\"\"\n\u001b[1;32m---> 88\u001b[1;33m     \u001b[0mcheck_consistent_length\u001b[0m\u001b[1;33m(\u001b[0m\u001b[0my_true\u001b[0m\u001b[1;33m,\u001b[0m \u001b[0my_pred\u001b[0m\u001b[1;33m)\u001b[0m\u001b[1;33m\u001b[0m\u001b[1;33m\u001b[0m\u001b[0m\n\u001b[0m\u001b[0;32m     89\u001b[0m     \u001b[0my_true\u001b[0m \u001b[1;33m=\u001b[0m \u001b[0mcheck_array\u001b[0m\u001b[1;33m(\u001b[0m\u001b[0my_true\u001b[0m\u001b[1;33m,\u001b[0m \u001b[0mensure_2d\u001b[0m\u001b[1;33m=\u001b[0m\u001b[1;32mFalse\u001b[0m\u001b[1;33m,\u001b[0m \u001b[0mdtype\u001b[0m\u001b[1;33m=\u001b[0m\u001b[0mdtype\u001b[0m\u001b[1;33m)\u001b[0m\u001b[1;33m\u001b[0m\u001b[1;33m\u001b[0m\u001b[0m\n\u001b[0;32m     90\u001b[0m     \u001b[0my_pred\u001b[0m \u001b[1;33m=\u001b[0m \u001b[0mcheck_array\u001b[0m\u001b[1;33m(\u001b[0m\u001b[0my_pred\u001b[0m\u001b[1;33m,\u001b[0m \u001b[0mensure_2d\u001b[0m\u001b[1;33m=\u001b[0m\u001b[1;32mFalse\u001b[0m\u001b[1;33m,\u001b[0m \u001b[0mdtype\u001b[0m\u001b[1;33m=\u001b[0m\u001b[0mdtype\u001b[0m\u001b[1;33m)\u001b[0m\u001b[1;33m\u001b[0m\u001b[1;33m\u001b[0m\u001b[0m\n",
      "\u001b[1;32mc:\\users\\telecom division\\appdata\\local\\programs\\python\\python39\\lib\\site-packages\\sklearn\\utils\\validation.py\u001b[0m in \u001b[0;36mcheck_consistent_length\u001b[1;34m(*arrays)\u001b[0m\n\u001b[0;32m    317\u001b[0m     \u001b[0muniques\u001b[0m \u001b[1;33m=\u001b[0m \u001b[0mnp\u001b[0m\u001b[1;33m.\u001b[0m\u001b[0munique\u001b[0m\u001b[1;33m(\u001b[0m\u001b[0mlengths\u001b[0m\u001b[1;33m)\u001b[0m\u001b[1;33m\u001b[0m\u001b[1;33m\u001b[0m\u001b[0m\n\u001b[0;32m    318\u001b[0m     \u001b[1;32mif\u001b[0m \u001b[0mlen\u001b[0m\u001b[1;33m(\u001b[0m\u001b[0muniques\u001b[0m\u001b[1;33m)\u001b[0m \u001b[1;33m>\u001b[0m \u001b[1;36m1\u001b[0m\u001b[1;33m:\u001b[0m\u001b[1;33m\u001b[0m\u001b[1;33m\u001b[0m\u001b[0m\n\u001b[1;32m--> 319\u001b[1;33m         raise ValueError(\"Found input variables with inconsistent numbers of\"\n\u001b[0m\u001b[0;32m    320\u001b[0m                          \" samples: %r\" % [int(l) for l in lengths])\n\u001b[0;32m    321\u001b[0m \u001b[1;33m\u001b[0m\u001b[0m\n",
      "\u001b[1;31mValueError\u001b[0m: Found input variables with inconsistent numbers of samples: [9165, 3819]"
     ]
    }
   ],
   "source": []
  }
 ],
 "metadata": {
  "kernelspec": {
   "display_name": "Python 3",
   "language": "python",
   "name": "python3"
  },
  "language_info": {
   "codemirror_mode": {
    "name": "ipython",
    "version": 3
   },
   "file_extension": ".py",
   "mimetype": "text/x-python",
   "name": "python",
   "nbconvert_exporter": "python",
   "pygments_lexer": "ipython3",
   "version": "3.9.5"
  }
 },
 "nbformat": 4,
 "nbformat_minor": 5
}
