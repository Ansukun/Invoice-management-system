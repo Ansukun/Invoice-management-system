{
 "cells": [
  {
   "cell_type": "markdown",
   "id": "0bfe2d36",
   "metadata": {},
   "source": [
    "# Import the libraries"
   ]
  },
  {
   "cell_type": "code",
   "execution_count": 1,
   "id": "c7dcbdac",
   "metadata": {},
   "outputs": [],
   "source": [
    "import pandas as pd\n",
    "import numpy as np\n",
    "from sklearn.ensemble import ExtraTreesClassifier\n",
    "import matplotlib.pyplot as plt\n",
    "%matplotlib inline\n",
    "from scipy import stats\n",
    "from sklearn import metrics\n",
    "import seaborn as sns\n",
    "from sklearn.preprocessing import StandardScaler\n",
    "from sklearn.linear_model import LinearRegression\n",
    "from sklearn.metrics import mean_squared_error\n",
    "from sklearn.tree import DecisionTreeRegressor\n",
    "from sklearn.ensemble import RandomForestRegressor\n",
    "import warnings\n",
    "warnings.filterwarnings('ignore')\n",
    "from sklearn.svm import SVR"
   ]
  },
  {
   "cell_type": "markdown",
   "id": "351a2d6e",
   "metadata": {},
   "source": [
    "# Load the dataset"
   ]
  },
  {
   "cell_type": "code",
   "execution_count": 2,
   "id": "10073a3f",
   "metadata": {},
   "outputs": [],
   "source": [
    "data=pd.read_csv('H2HBABBA1533.csv')"
   ]
  },
  {
   "cell_type": "code",
   "execution_count": 3,
   "id": "1171cf03",
   "metadata": {},
   "outputs": [
    {
     "data": {
      "text/plain": [
       "(50000, 19)"
      ]
     },
     "execution_count": 3,
     "metadata": {},
     "output_type": "execute_result"
    }
   ],
   "source": [
    "data.shape"
   ]
  },
  {
   "cell_type": "markdown",
   "id": "b0cdad50",
   "metadata": {},
   "source": [
    "# Data cleaning"
   ]
  },
  {
   "cell_type": "markdown",
   "id": "5350c819",
   "metadata": {},
   "source": [
    "### Remove constants"
   ]
  },
  {
   "cell_type": "code",
   "execution_count": 4,
   "id": "f674256d",
   "metadata": {},
   "outputs": [
    {
     "data": {
      "text/plain": [
       "business_code                 6\n",
       "cust_number                1412\n",
       "name_customer              4250\n",
       "clear_date                  397\n",
       "buisness_year                 2\n",
       "doc_id                    48788\n",
       "posting_date                502\n",
       "document_create_date        506\n",
       "document_create_date.1      502\n",
       "due_in_date                 546\n",
       "invoice_currency              2\n",
       "document type                 2\n",
       "posting_id                    1\n",
       "area_business                 0\n",
       "total_open_amount         44166\n",
       "baseline_create_date        505\n",
       "cust_payment_terms           73\n",
       "invoice_id                48784\n",
       "isOpen                        2\n",
       "dtype: int64"
      ]
     },
     "execution_count": 4,
     "metadata": {},
     "output_type": "execute_result"
    }
   ],
   "source": [
    "data.nunique()"
   ]
  },
  {
   "cell_type": "code",
   "execution_count": 5,
   "id": "75ffafc6",
   "metadata": {},
   "outputs": [],
   "source": [
    "# posting_id and area_business can be droped as it contains 0 and 1 unique values"
   ]
  },
  {
   "cell_type": "code",
   "execution_count": 6,
   "id": "2f93e401",
   "metadata": {},
   "outputs": [],
   "source": [
    "data.drop(columns=['posting_id','area_business'],inplace=True,axis=1)"
   ]
  },
  {
   "cell_type": "code",
   "execution_count": 7,
   "id": "69c75a58",
   "metadata": {},
   "outputs": [],
   "source": [
    "# As doc_id and invoice id is unique we can drop this column\n",
    "data.drop(columns=['invoice_id','doc_id'],inplace=True,axis=1)"
   ]
  },
  {
   "cell_type": "markdown",
   "id": "705c6ead",
   "metadata": {},
   "source": [
    "### Checking for duplicates"
   ]
  },
  {
   "cell_type": "code",
   "execution_count": 8,
   "id": "9adfaeef",
   "metadata": {},
   "outputs": [
    {
     "data": {
      "text/plain": [
       "1225"
      ]
     },
     "execution_count": 8,
     "metadata": {},
     "output_type": "execute_result"
    }
   ],
   "source": [
    "data.duplicated().sum()"
   ]
  },
  {
   "cell_type": "code",
   "execution_count": 9,
   "id": "fc63b67d",
   "metadata": {},
   "outputs": [],
   "source": [
    "# We can delete this duplcate values to reduce redundancy\n",
    "data.drop_duplicates(keep=False,inplace=True)"
   ]
  },
  {
   "cell_type": "code",
   "execution_count": 10,
   "id": "c7658db4",
   "metadata": {},
   "outputs": [
    {
     "data": {
      "text/plain": [
       "0"
      ]
     },
     "execution_count": 10,
     "metadata": {},
     "output_type": "execute_result"
    }
   ],
   "source": [
    "data.duplicated().sum()#Duplcates removed"
   ]
  },
  {
   "cell_type": "code",
   "execution_count": 11,
   "id": "8a5d871a",
   "metadata": {},
   "outputs": [
    {
     "data": {
      "text/plain": [
       "0"
      ]
     },
     "execution_count": 11,
     "metadata": {},
     "output_type": "execute_result"
    }
   ],
   "source": [
    "data.T.duplicated().sum() # no duplicates in columns"
   ]
  },
  {
   "cell_type": "markdown",
   "id": "bd569cb0",
   "metadata": {},
   "source": [
    "# Conversion"
   ]
  },
  {
   "cell_type": "code",
   "execution_count": 12,
   "id": "78b63dac",
   "metadata": {},
   "outputs": [],
   "source": [
    "# Date time conversion\n",
    "#convert To date datatype for efficient calculations\n",
    "data['document_create_date'] = pd.to_datetime(data['document_create_date'],format='%Y%m%d')\n",
    "data['document_create_date.1'] = pd.to_datetime(data['document_create_date.1'],format='%Y%m%d')\n",
    "data['baseline_create_date'] = pd.to_datetime(data['baseline_create_date'],format='%Y%m%d')\n",
    "data['clear_date'] = pd.to_datetime(data['clear_date'])\n",
    "data['posting_date'] = pd.to_datetime(data['posting_date'])\n",
    "data['due_in_date'] = pd.to_datetime(data['due_in_date'],format='%Y%m%d')"
   ]
  },
  {
   "cell_type": "code",
   "execution_count": 13,
   "id": "72db1045",
   "metadata": {},
   "outputs": [
    {
     "data": {
      "text/html": [
       "<div>\n",
       "<style scoped>\n",
       "    .dataframe tbody tr th:only-of-type {\n",
       "        vertical-align: middle;\n",
       "    }\n",
       "\n",
       "    .dataframe tbody tr th {\n",
       "        vertical-align: top;\n",
       "    }\n",
       "\n",
       "    .dataframe thead th {\n",
       "        text-align: right;\n",
       "    }\n",
       "</style>\n",
       "<table border=\"1\" class=\"dataframe\">\n",
       "  <thead>\n",
       "    <tr style=\"text-align: right;\">\n",
       "      <th></th>\n",
       "      <th>business_code</th>\n",
       "      <th>cust_number</th>\n",
       "      <th>name_customer</th>\n",
       "      <th>clear_date</th>\n",
       "      <th>buisness_year</th>\n",
       "      <th>posting_date</th>\n",
       "      <th>document_create_date</th>\n",
       "      <th>document_create_date.1</th>\n",
       "      <th>due_in_date</th>\n",
       "      <th>invoice_currency</th>\n",
       "      <th>document type</th>\n",
       "      <th>total_open_amount</th>\n",
       "      <th>baseline_create_date</th>\n",
       "      <th>cust_payment_terms</th>\n",
       "      <th>isOpen</th>\n",
       "    </tr>\n",
       "  </thead>\n",
       "  <tbody>\n",
       "    <tr>\n",
       "      <th>0</th>\n",
       "      <td>U001</td>\n",
       "      <td>0200895843</td>\n",
       "      <td>US</td>\n",
       "      <td>2019-09-09</td>\n",
       "      <td>2019.0</td>\n",
       "      <td>2019-08-22</td>\n",
       "      <td>2019-08-22</td>\n",
       "      <td>2019-08-22</td>\n",
       "      <td>2019-09-06</td>\n",
       "      <td>USD</td>\n",
       "      <td>RV</td>\n",
       "      <td>41386.61</td>\n",
       "      <td>2019-08-22</td>\n",
       "      <td>NAA8</td>\n",
       "      <td>0</td>\n",
       "    </tr>\n",
       "    <tr>\n",
       "      <th>1</th>\n",
       "      <td>U001</td>\n",
       "      <td>0200769623</td>\n",
       "      <td>WAL-MAR</td>\n",
       "      <td>2019-11-25</td>\n",
       "      <td>2019.0</td>\n",
       "      <td>2019-11-12</td>\n",
       "      <td>2019-11-12</td>\n",
       "      <td>2019-11-12</td>\n",
       "      <td>2019-11-27</td>\n",
       "      <td>USD</td>\n",
       "      <td>RV</td>\n",
       "      <td>47178.82</td>\n",
       "      <td>2019-11-12</td>\n",
       "      <td>NAH4</td>\n",
       "      <td>0</td>\n",
       "    </tr>\n",
       "    <tr>\n",
       "      <th>2</th>\n",
       "      <td>U001</td>\n",
       "      <td>0200769623</td>\n",
       "      <td>WAL-MAR foundation</td>\n",
       "      <td>2019-04-23</td>\n",
       "      <td>2019.0</td>\n",
       "      <td>2019-04-12</td>\n",
       "      <td>2019-04-11</td>\n",
       "      <td>2019-04-12</td>\n",
       "      <td>2019-04-27</td>\n",
       "      <td>USD</td>\n",
       "      <td>RV</td>\n",
       "      <td>51389.52</td>\n",
       "      <td>2019-04-12</td>\n",
       "      <td>NAH4</td>\n",
       "      <td>0</td>\n",
       "    </tr>\n",
       "    <tr>\n",
       "      <th>3</th>\n",
       "      <td>U001</td>\n",
       "      <td>0200769623</td>\n",
       "      <td>WAL-MAR co</td>\n",
       "      <td>2019-11-26</td>\n",
       "      <td>2019.0</td>\n",
       "      <td>2019-11-15</td>\n",
       "      <td>2019-11-07</td>\n",
       "      <td>2019-11-15</td>\n",
       "      <td>2019-11-30</td>\n",
       "      <td>USD</td>\n",
       "      <td>RV</td>\n",
       "      <td>18177.18</td>\n",
       "      <td>2019-11-15</td>\n",
       "      <td>NAH4</td>\n",
       "      <td>0</td>\n",
       "    </tr>\n",
       "    <tr>\n",
       "      <th>4</th>\n",
       "      <td>U001</td>\n",
       "      <td>0200769623</td>\n",
       "      <td>WAL-MAR</td>\n",
       "      <td>NaT</td>\n",
       "      <td>2020.0</td>\n",
       "      <td>2020-04-03</td>\n",
       "      <td>2020-04-03</td>\n",
       "      <td>2020-04-03</td>\n",
       "      <td>2020-04-18</td>\n",
       "      <td>USD</td>\n",
       "      <td>RV</td>\n",
       "      <td>24079.57</td>\n",
       "      <td>2020-04-03</td>\n",
       "      <td>NAH4</td>\n",
       "      <td>1</td>\n",
       "    </tr>\n",
       "  </tbody>\n",
       "</table>\n",
       "</div>"
      ],
      "text/plain": [
       "  business_code cust_number       name_customer clear_date  buisness_year  \\\n",
       "0          U001  0200895843                US   2019-09-09         2019.0   \n",
       "1          U001  0200769623            WAL-MAR  2019-11-25         2019.0   \n",
       "2          U001  0200769623  WAL-MAR foundation 2019-04-23         2019.0   \n",
       "3          U001  0200769623          WAL-MAR co 2019-11-26         2019.0   \n",
       "4          U001  0200769623            WAL-MAR         NaT         2020.0   \n",
       "\n",
       "  posting_date document_create_date document_create_date.1 due_in_date  \\\n",
       "0   2019-08-22           2019-08-22             2019-08-22  2019-09-06   \n",
       "1   2019-11-12           2019-11-12             2019-11-12  2019-11-27   \n",
       "2   2019-04-12           2019-04-11             2019-04-12  2019-04-27   \n",
       "3   2019-11-15           2019-11-07             2019-11-15  2019-11-30   \n",
       "4   2020-04-03           2020-04-03             2020-04-03  2020-04-18   \n",
       "\n",
       "  invoice_currency document type  total_open_amount baseline_create_date  \\\n",
       "0              USD            RV           41386.61           2019-08-22   \n",
       "1              USD            RV           47178.82           2019-11-12   \n",
       "2              USD            RV           51389.52           2019-04-12   \n",
       "3              USD            RV           18177.18           2019-11-15   \n",
       "4              USD            RV           24079.57           2020-04-03   \n",
       "\n",
       "  cust_payment_terms  isOpen  \n",
       "0               NAA8       0  \n",
       "1               NAH4       0  \n",
       "2               NAH4       0  \n",
       "3               NAH4       0  \n",
       "4               NAH4       1  "
      ]
     },
     "execution_count": 13,
     "metadata": {},
     "output_type": "execute_result"
    }
   ],
   "source": [
    "data.head()"
   ]
  },
  {
   "cell_type": "code",
   "execution_count": 14,
   "id": "bd94ca73",
   "metadata": {},
   "outputs": [
    {
     "data": {
      "text/html": [
       "<div>\n",
       "<style scoped>\n",
       "    .dataframe tbody tr th:only-of-type {\n",
       "        vertical-align: middle;\n",
       "    }\n",
       "\n",
       "    .dataframe tbody tr th {\n",
       "        vertical-align: top;\n",
       "    }\n",
       "\n",
       "    .dataframe thead th {\n",
       "        text-align: right;\n",
       "    }\n",
       "</style>\n",
       "<table border=\"1\" class=\"dataframe\">\n",
       "  <thead>\n",
       "    <tr style=\"text-align: right;\">\n",
       "      <th></th>\n",
       "      <th>business_code</th>\n",
       "      <th>cust_number</th>\n",
       "      <th>name_customer</th>\n",
       "      <th>clear_date</th>\n",
       "      <th>buisness_year</th>\n",
       "      <th>posting_date</th>\n",
       "      <th>document_create_date</th>\n",
       "      <th>document_create_date.1</th>\n",
       "      <th>due_in_date</th>\n",
       "      <th>invoice_currency</th>\n",
       "      <th>document type</th>\n",
       "      <th>total_open_amount</th>\n",
       "      <th>baseline_create_date</th>\n",
       "      <th>cust_payment_terms</th>\n",
       "      <th>isOpen</th>\n",
       "    </tr>\n",
       "  </thead>\n",
       "  <tbody>\n",
       "    <tr>\n",
       "      <th>25</th>\n",
       "      <td>CA02</td>\n",
       "      <td>0140104409</td>\n",
       "      <td>LOB trust</td>\n",
       "      <td>NaT</td>\n",
       "      <td>2020.0</td>\n",
       "      <td>2020-02-29</td>\n",
       "      <td>2020-02-29</td>\n",
       "      <td>2020-02-29</td>\n",
       "      <td>2020-03-14</td>\n",
       "      <td>CAD</td>\n",
       "      <td>RV</td>\n",
       "      <td>150136.21</td>\n",
       "      <td>2020-03-04</td>\n",
       "      <td>CA10</td>\n",
       "      <td>1</td>\n",
       "    </tr>\n",
       "    <tr>\n",
       "      <th>36</th>\n",
       "      <td>CA02</td>\n",
       "      <td>0140104429</td>\n",
       "      <td>COSTCO co</td>\n",
       "      <td>2019-07-02</td>\n",
       "      <td>2019.0</td>\n",
       "      <td>2019-06-05</td>\n",
       "      <td>2019-06-05</td>\n",
       "      <td>2019-06-05</td>\n",
       "      <td>2019-06-24</td>\n",
       "      <td>CAD</td>\n",
       "      <td>RV</td>\n",
       "      <td>15993.34</td>\n",
       "      <td>2019-06-14</td>\n",
       "      <td>CA10</td>\n",
       "      <td>0</td>\n",
       "    </tr>\n",
       "    <tr>\n",
       "      <th>37</th>\n",
       "      <td>CA02</td>\n",
       "      <td>0140106408</td>\n",
       "      <td>WAL-M foundation</td>\n",
       "      <td>NaT</td>\n",
       "      <td>2020.0</td>\n",
       "      <td>2020-03-21</td>\n",
       "      <td>2020-03-21</td>\n",
       "      <td>2020-03-21</td>\n",
       "      <td>2020-03-31</td>\n",
       "      <td>CAD</td>\n",
       "      <td>RV</td>\n",
       "      <td>4878.02</td>\n",
       "      <td>2020-03-21</td>\n",
       "      <td>CA10</td>\n",
       "      <td>1</td>\n",
       "    </tr>\n",
       "    <tr>\n",
       "      <th>43</th>\n",
       "      <td>CA02</td>\n",
       "      <td>0140104423</td>\n",
       "      <td>METRO  llc</td>\n",
       "      <td>NaT</td>\n",
       "      <td>2020.0</td>\n",
       "      <td>2020-04-20</td>\n",
       "      <td>2020-04-20</td>\n",
       "      <td>2020-04-20</td>\n",
       "      <td>2020-05-01</td>\n",
       "      <td>CAD</td>\n",
       "      <td>RV</td>\n",
       "      <td>162295.09</td>\n",
       "      <td>2020-04-21</td>\n",
       "      <td>CA10</td>\n",
       "      <td>1</td>\n",
       "    </tr>\n",
       "    <tr>\n",
       "      <th>60</th>\n",
       "      <td>CA02</td>\n",
       "      <td>0140104429</td>\n",
       "      <td>COSTCO systems</td>\n",
       "      <td>NaT</td>\n",
       "      <td>2020.0</td>\n",
       "      <td>2020-02-27</td>\n",
       "      <td>2020-02-27</td>\n",
       "      <td>2020-02-27</td>\n",
       "      <td>2020-03-09</td>\n",
       "      <td>CAD</td>\n",
       "      <td>RV</td>\n",
       "      <td>12383.81</td>\n",
       "      <td>2020-02-28</td>\n",
       "      <td>CA10</td>\n",
       "      <td>1</td>\n",
       "    </tr>\n",
       "    <tr>\n",
       "      <th>...</th>\n",
       "      <td>...</td>\n",
       "      <td>...</td>\n",
       "      <td>...</td>\n",
       "      <td>...</td>\n",
       "      <td>...</td>\n",
       "      <td>...</td>\n",
       "      <td>...</td>\n",
       "      <td>...</td>\n",
       "      <td>...</td>\n",
       "      <td>...</td>\n",
       "      <td>...</td>\n",
       "      <td>...</td>\n",
       "      <td>...</td>\n",
       "      <td>...</td>\n",
       "      <td>...</td>\n",
       "    </tr>\n",
       "    <tr>\n",
       "      <th>49907</th>\n",
       "      <td>CA02</td>\n",
       "      <td>0140105847</td>\n",
       "      <td>GORDON F corporation</td>\n",
       "      <td>2019-11-08</td>\n",
       "      <td>2019.0</td>\n",
       "      <td>2019-10-24</td>\n",
       "      <td>2019-10-24</td>\n",
       "      <td>2019-10-24</td>\n",
       "      <td>2019-11-04</td>\n",
       "      <td>CAD</td>\n",
       "      <td>RV</td>\n",
       "      <td>69364.75</td>\n",
       "      <td>2019-10-25</td>\n",
       "      <td>CA10</td>\n",
       "      <td>0</td>\n",
       "    </tr>\n",
       "    <tr>\n",
       "      <th>49925</th>\n",
       "      <td>CA02</td>\n",
       "      <td>0140104409</td>\n",
       "      <td>LOB systems</td>\n",
       "      <td>2019-06-10</td>\n",
       "      <td>2019.0</td>\n",
       "      <td>2019-05-24</td>\n",
       "      <td>2019-05-24</td>\n",
       "      <td>2019-05-24</td>\n",
       "      <td>2019-06-10</td>\n",
       "      <td>CAD</td>\n",
       "      <td>RV</td>\n",
       "      <td>102637.83</td>\n",
       "      <td>2019-05-31</td>\n",
       "      <td>CA10</td>\n",
       "      <td>0</td>\n",
       "    </tr>\n",
       "    <tr>\n",
       "      <th>49942</th>\n",
       "      <td>CA02</td>\n",
       "      <td>140106408</td>\n",
       "      <td>WAL-M associates</td>\n",
       "      <td>NaT</td>\n",
       "      <td>2020.0</td>\n",
       "      <td>2020-03-29</td>\n",
       "      <td>2020-03-29</td>\n",
       "      <td>2020-03-29</td>\n",
       "      <td>2020-04-08</td>\n",
       "      <td>CAD</td>\n",
       "      <td>RV</td>\n",
       "      <td>346.36</td>\n",
       "      <td>2020-03-29</td>\n",
       "      <td>CA10</td>\n",
       "      <td>1</td>\n",
       "    </tr>\n",
       "    <tr>\n",
       "      <th>49973</th>\n",
       "      <td>CA02</td>\n",
       "      <td>0140104423</td>\n",
       "      <td>METRO  us</td>\n",
       "      <td>2019-06-18</td>\n",
       "      <td>2019.0</td>\n",
       "      <td>2019-06-06</td>\n",
       "      <td>2019-06-06</td>\n",
       "      <td>2019-06-06</td>\n",
       "      <td>2019-06-17</td>\n",
       "      <td>CAD</td>\n",
       "      <td>RV</td>\n",
       "      <td>136973.29</td>\n",
       "      <td>2019-06-07</td>\n",
       "      <td>CA10</td>\n",
       "      <td>0</td>\n",
       "    </tr>\n",
       "    <tr>\n",
       "      <th>49984</th>\n",
       "      <td>CA02</td>\n",
       "      <td>0140104440</td>\n",
       "      <td>SO corporation</td>\n",
       "      <td>2019-12-05</td>\n",
       "      <td>2019.0</td>\n",
       "      <td>2019-11-20</td>\n",
       "      <td>2019-11-20</td>\n",
       "      <td>2019-11-20</td>\n",
       "      <td>2019-12-02</td>\n",
       "      <td>CAD</td>\n",
       "      <td>RV</td>\n",
       "      <td>126478.21</td>\n",
       "      <td>2019-11-22</td>\n",
       "      <td>CA10</td>\n",
       "      <td>0</td>\n",
       "    </tr>\n",
       "  </tbody>\n",
       "</table>\n",
       "<p>3616 rows × 15 columns</p>\n",
       "</div>"
      ],
      "text/plain": [
       "      business_code cust_number         name_customer clear_date  \\\n",
       "25             CA02  0140104409             LOB trust        NaT   \n",
       "36             CA02  0140104429             COSTCO co 2019-07-02   \n",
       "37             CA02  0140106408      WAL-M foundation        NaT   \n",
       "43             CA02  0140104423            METRO  llc        NaT   \n",
       "60             CA02  0140104429        COSTCO systems        NaT   \n",
       "...             ...         ...                   ...        ...   \n",
       "49907          CA02  0140105847  GORDON F corporation 2019-11-08   \n",
       "49925          CA02  0140104409           LOB systems 2019-06-10   \n",
       "49942          CA02   140106408      WAL-M associates        NaT   \n",
       "49973          CA02  0140104423             METRO  us 2019-06-18   \n",
       "49984          CA02  0140104440        SO corporation 2019-12-05   \n",
       "\n",
       "       buisness_year posting_date document_create_date document_create_date.1  \\\n",
       "25            2020.0   2020-02-29           2020-02-29             2020-02-29   \n",
       "36            2019.0   2019-06-05           2019-06-05             2019-06-05   \n",
       "37            2020.0   2020-03-21           2020-03-21             2020-03-21   \n",
       "43            2020.0   2020-04-20           2020-04-20             2020-04-20   \n",
       "60            2020.0   2020-02-27           2020-02-27             2020-02-27   \n",
       "...              ...          ...                  ...                    ...   \n",
       "49907         2019.0   2019-10-24           2019-10-24             2019-10-24   \n",
       "49925         2019.0   2019-05-24           2019-05-24             2019-05-24   \n",
       "49942         2020.0   2020-03-29           2020-03-29             2020-03-29   \n",
       "49973         2019.0   2019-06-06           2019-06-06             2019-06-06   \n",
       "49984         2019.0   2019-11-20           2019-11-20             2019-11-20   \n",
       "\n",
       "      due_in_date invoice_currency document type  total_open_amount  \\\n",
       "25     2020-03-14              CAD            RV          150136.21   \n",
       "36     2019-06-24              CAD            RV           15993.34   \n",
       "37     2020-03-31              CAD            RV            4878.02   \n",
       "43     2020-05-01              CAD            RV          162295.09   \n",
       "60     2020-03-09              CAD            RV           12383.81   \n",
       "...           ...              ...           ...                ...   \n",
       "49907  2019-11-04              CAD            RV           69364.75   \n",
       "49925  2019-06-10              CAD            RV          102637.83   \n",
       "49942  2020-04-08              CAD            RV             346.36   \n",
       "49973  2019-06-17              CAD            RV          136973.29   \n",
       "49984  2019-12-02              CAD            RV          126478.21   \n",
       "\n",
       "      baseline_create_date cust_payment_terms  isOpen  \n",
       "25              2020-03-04               CA10       1  \n",
       "36              2019-06-14               CA10       0  \n",
       "37              2020-03-21               CA10       1  \n",
       "43              2020-04-21               CA10       1  \n",
       "60              2020-02-28               CA10       1  \n",
       "...                    ...                ...     ...  \n",
       "49907           2019-10-25               CA10       0  \n",
       "49925           2019-05-31               CA10       0  \n",
       "49942           2020-03-29               CA10       1  \n",
       "49973           2019-06-07               CA10       0  \n",
       "49984           2019-11-22               CA10       0  \n",
       "\n",
       "[3616 rows x 15 columns]"
      ]
     },
     "execution_count": 14,
     "metadata": {},
     "output_type": "execute_result"
    }
   ],
   "source": [
    "# Convert the units from USD to CAD common scale\n",
    "data[data['invoice_currency'] == 'CAD']"
   ]
  },
  {
   "cell_type": "code",
   "execution_count": 15,
   "id": "02861536",
   "metadata": {},
   "outputs": [],
   "source": [
    "#Convert to USD by multiplying the amount by 0.81 to values where currency is CAD\n",
    "data['total_open_amount'] = np.where((data['invoice_currency'] == 'CAD') ,((data['total_open_amount'])*0.81),(data['total_open_amount']))\n",
    "data.drop(columns='invoice_currency',inplace=True)"
   ]
  },
  {
   "cell_type": "markdown",
   "id": "32036085",
   "metadata": {},
   "source": [
    "### Sort the values according to posting date "
   ]
  },
  {
   "cell_type": "code",
   "execution_count": 16,
   "id": "7edcac98",
   "metadata": {},
   "outputs": [
    {
     "data": {
      "text/html": [
       "<div>\n",
       "<style scoped>\n",
       "    .dataframe tbody tr th:only-of-type {\n",
       "        vertical-align: middle;\n",
       "    }\n",
       "\n",
       "    .dataframe tbody tr th {\n",
       "        vertical-align: top;\n",
       "    }\n",
       "\n",
       "    .dataframe thead th {\n",
       "        text-align: right;\n",
       "    }\n",
       "</style>\n",
       "<table border=\"1\" class=\"dataframe\">\n",
       "  <thead>\n",
       "    <tr style=\"text-align: right;\">\n",
       "      <th></th>\n",
       "      <th>business_code</th>\n",
       "      <th>cust_number</th>\n",
       "      <th>name_customer</th>\n",
       "      <th>clear_date</th>\n",
       "      <th>buisness_year</th>\n",
       "      <th>posting_date</th>\n",
       "      <th>document_create_date</th>\n",
       "      <th>document_create_date.1</th>\n",
       "      <th>due_in_date</th>\n",
       "      <th>document type</th>\n",
       "      <th>total_open_amount</th>\n",
       "      <th>baseline_create_date</th>\n",
       "      <th>cust_payment_terms</th>\n",
       "      <th>isOpen</th>\n",
       "    </tr>\n",
       "  </thead>\n",
       "  <tbody>\n",
       "    <tr>\n",
       "      <th>0</th>\n",
       "      <td>U001</td>\n",
       "      <td>0200895843</td>\n",
       "      <td>US</td>\n",
       "      <td>2019-09-09</td>\n",
       "      <td>2019.0</td>\n",
       "      <td>2019-08-22</td>\n",
       "      <td>2019-08-22</td>\n",
       "      <td>2019-08-22</td>\n",
       "      <td>2019-09-06</td>\n",
       "      <td>RV</td>\n",
       "      <td>41386.61</td>\n",
       "      <td>2019-08-22</td>\n",
       "      <td>NAA8</td>\n",
       "      <td>0</td>\n",
       "    </tr>\n",
       "    <tr>\n",
       "      <th>1</th>\n",
       "      <td>U001</td>\n",
       "      <td>0200769623</td>\n",
       "      <td>WAL-MAR</td>\n",
       "      <td>2019-11-25</td>\n",
       "      <td>2019.0</td>\n",
       "      <td>2019-11-12</td>\n",
       "      <td>2019-11-12</td>\n",
       "      <td>2019-11-12</td>\n",
       "      <td>2019-11-27</td>\n",
       "      <td>RV</td>\n",
       "      <td>47178.82</td>\n",
       "      <td>2019-11-12</td>\n",
       "      <td>NAH4</td>\n",
       "      <td>0</td>\n",
       "    </tr>\n",
       "    <tr>\n",
       "      <th>2</th>\n",
       "      <td>U001</td>\n",
       "      <td>0200769623</td>\n",
       "      <td>WAL-MAR foundation</td>\n",
       "      <td>2019-04-23</td>\n",
       "      <td>2019.0</td>\n",
       "      <td>2019-04-12</td>\n",
       "      <td>2019-04-11</td>\n",
       "      <td>2019-04-12</td>\n",
       "      <td>2019-04-27</td>\n",
       "      <td>RV</td>\n",
       "      <td>51389.52</td>\n",
       "      <td>2019-04-12</td>\n",
       "      <td>NAH4</td>\n",
       "      <td>0</td>\n",
       "    </tr>\n",
       "    <tr>\n",
       "      <th>3</th>\n",
       "      <td>U001</td>\n",
       "      <td>0200769623</td>\n",
       "      <td>WAL-MAR co</td>\n",
       "      <td>2019-11-26</td>\n",
       "      <td>2019.0</td>\n",
       "      <td>2019-11-15</td>\n",
       "      <td>2019-11-07</td>\n",
       "      <td>2019-11-15</td>\n",
       "      <td>2019-11-30</td>\n",
       "      <td>RV</td>\n",
       "      <td>18177.18</td>\n",
       "      <td>2019-11-15</td>\n",
       "      <td>NAH4</td>\n",
       "      <td>0</td>\n",
       "    </tr>\n",
       "    <tr>\n",
       "      <th>4</th>\n",
       "      <td>U001</td>\n",
       "      <td>0200769623</td>\n",
       "      <td>WAL-MAR</td>\n",
       "      <td>NaT</td>\n",
       "      <td>2020.0</td>\n",
       "      <td>2020-04-03</td>\n",
       "      <td>2020-04-03</td>\n",
       "      <td>2020-04-03</td>\n",
       "      <td>2020-04-18</td>\n",
       "      <td>RV</td>\n",
       "      <td>24079.57</td>\n",
       "      <td>2020-04-03</td>\n",
       "      <td>NAH4</td>\n",
       "      <td>1</td>\n",
       "    </tr>\n",
       "  </tbody>\n",
       "</table>\n",
       "</div>"
      ],
      "text/plain": [
       "  business_code cust_number       name_customer clear_date  buisness_year  \\\n",
       "0          U001  0200895843                US   2019-09-09         2019.0   \n",
       "1          U001  0200769623            WAL-MAR  2019-11-25         2019.0   \n",
       "2          U001  0200769623  WAL-MAR foundation 2019-04-23         2019.0   \n",
       "3          U001  0200769623          WAL-MAR co 2019-11-26         2019.0   \n",
       "4          U001  0200769623            WAL-MAR         NaT         2020.0   \n",
       "\n",
       "  posting_date document_create_date document_create_date.1 due_in_date  \\\n",
       "0   2019-08-22           2019-08-22             2019-08-22  2019-09-06   \n",
       "1   2019-11-12           2019-11-12             2019-11-12  2019-11-27   \n",
       "2   2019-04-12           2019-04-11             2019-04-12  2019-04-27   \n",
       "3   2019-11-15           2019-11-07             2019-11-15  2019-11-30   \n",
       "4   2020-04-03           2020-04-03             2020-04-03  2020-04-18   \n",
       "\n",
       "  document type  total_open_amount baseline_create_date cust_payment_terms  \\\n",
       "0            RV           41386.61           2019-08-22               NAA8   \n",
       "1            RV           47178.82           2019-11-12               NAH4   \n",
       "2            RV           51389.52           2019-04-12               NAH4   \n",
       "3            RV           18177.18           2019-11-15               NAH4   \n",
       "4            RV           24079.57           2020-04-03               NAH4   \n",
       "\n",
       "   isOpen  \n",
       "0       0  \n",
       "1       0  \n",
       "2       0  \n",
       "3       0  \n",
       "4       1  "
      ]
     },
     "execution_count": 16,
     "metadata": {},
     "output_type": "execute_result"
    }
   ],
   "source": [
    "# To prevent anomaly behaviour of model it is sorted to ensure it is trained on past data\n",
    "data.sort_values('posting_date')\n",
    "data.reset_index(inplace=True,drop=True)\n",
    "data.head()"
   ]
  },
  {
   "cell_type": "markdown",
   "id": "29148f4b",
   "metadata": {},
   "source": [
    "## Split the data set "
   ]
  },
  {
   "cell_type": "code",
   "execution_count": 17,
   "id": "ac1175b8",
   "metadata": {},
   "outputs": [],
   "source": [
    "main_train=data[data['clear_date'].notnull()]\n",
    "main_test=data[data['clear_date'].isnull()]"
   ]
  },
  {
   "cell_type": "code",
   "execution_count": 18,
   "id": "90d6037c",
   "metadata": {},
   "outputs": [
    {
     "data": {
      "text/html": [
       "<div>\n",
       "<style scoped>\n",
       "    .dataframe tbody tr th:only-of-type {\n",
       "        vertical-align: middle;\n",
       "    }\n",
       "\n",
       "    .dataframe tbody tr th {\n",
       "        vertical-align: top;\n",
       "    }\n",
       "\n",
       "    .dataframe thead th {\n",
       "        text-align: right;\n",
       "    }\n",
       "</style>\n",
       "<table border=\"1\" class=\"dataframe\">\n",
       "  <thead>\n",
       "    <tr style=\"text-align: right;\">\n",
       "      <th></th>\n",
       "      <th>business_code</th>\n",
       "      <th>cust_number</th>\n",
       "      <th>name_customer</th>\n",
       "      <th>clear_date</th>\n",
       "      <th>buisness_year</th>\n",
       "      <th>posting_date</th>\n",
       "      <th>document_create_date</th>\n",
       "      <th>document_create_date.1</th>\n",
       "      <th>due_in_date</th>\n",
       "      <th>document type</th>\n",
       "      <th>total_open_amount</th>\n",
       "      <th>baseline_create_date</th>\n",
       "      <th>cust_payment_terms</th>\n",
       "      <th>isOpen</th>\n",
       "    </tr>\n",
       "  </thead>\n",
       "  <tbody>\n",
       "    <tr>\n",
       "      <th>0</th>\n",
       "      <td>U001</td>\n",
       "      <td>0200895843</td>\n",
       "      <td>US</td>\n",
       "      <td>2019-09-09</td>\n",
       "      <td>2019.0</td>\n",
       "      <td>2019-08-22</td>\n",
       "      <td>2019-08-22</td>\n",
       "      <td>2019-08-22</td>\n",
       "      <td>2019-09-06</td>\n",
       "      <td>RV</td>\n",
       "      <td>41386.61</td>\n",
       "      <td>2019-08-22</td>\n",
       "      <td>NAA8</td>\n",
       "      <td>0</td>\n",
       "    </tr>\n",
       "    <tr>\n",
       "      <th>1</th>\n",
       "      <td>U001</td>\n",
       "      <td>0200769623</td>\n",
       "      <td>WAL-MAR</td>\n",
       "      <td>2019-11-25</td>\n",
       "      <td>2019.0</td>\n",
       "      <td>2019-11-12</td>\n",
       "      <td>2019-11-12</td>\n",
       "      <td>2019-11-12</td>\n",
       "      <td>2019-11-27</td>\n",
       "      <td>RV</td>\n",
       "      <td>47178.82</td>\n",
       "      <td>2019-11-12</td>\n",
       "      <td>NAH4</td>\n",
       "      <td>0</td>\n",
       "    </tr>\n",
       "    <tr>\n",
       "      <th>2</th>\n",
       "      <td>U001</td>\n",
       "      <td>0200769623</td>\n",
       "      <td>WAL-MAR foundation</td>\n",
       "      <td>2019-04-23</td>\n",
       "      <td>2019.0</td>\n",
       "      <td>2019-04-12</td>\n",
       "      <td>2019-04-11</td>\n",
       "      <td>2019-04-12</td>\n",
       "      <td>2019-04-27</td>\n",
       "      <td>RV</td>\n",
       "      <td>51389.52</td>\n",
       "      <td>2019-04-12</td>\n",
       "      <td>NAH4</td>\n",
       "      <td>0</td>\n",
       "    </tr>\n",
       "    <tr>\n",
       "      <th>3</th>\n",
       "      <td>U001</td>\n",
       "      <td>0200769623</td>\n",
       "      <td>WAL-MAR co</td>\n",
       "      <td>2019-11-26</td>\n",
       "      <td>2019.0</td>\n",
       "      <td>2019-11-15</td>\n",
       "      <td>2019-11-07</td>\n",
       "      <td>2019-11-15</td>\n",
       "      <td>2019-11-30</td>\n",
       "      <td>RV</td>\n",
       "      <td>18177.18</td>\n",
       "      <td>2019-11-15</td>\n",
       "      <td>NAH4</td>\n",
       "      <td>0</td>\n",
       "    </tr>\n",
       "    <tr>\n",
       "      <th>6</th>\n",
       "      <td>U001</td>\n",
       "      <td>0200707005</td>\n",
       "      <td>KING S foundation</td>\n",
       "      <td>2019-07-05</td>\n",
       "      <td>2019.0</td>\n",
       "      <td>2019-06-19</td>\n",
       "      <td>2019-06-18</td>\n",
       "      <td>2019-06-19</td>\n",
       "      <td>2019-07-04</td>\n",
       "      <td>RV</td>\n",
       "      <td>64532.95</td>\n",
       "      <td>2019-06-19</td>\n",
       "      <td>NAA8</td>\n",
       "      <td>0</td>\n",
       "    </tr>\n",
       "  </tbody>\n",
       "</table>\n",
       "</div>"
      ],
      "text/plain": [
       "  business_code cust_number       name_customer clear_date  buisness_year  \\\n",
       "0          U001  0200895843                US   2019-09-09         2019.0   \n",
       "1          U001  0200769623            WAL-MAR  2019-11-25         2019.0   \n",
       "2          U001  0200769623  WAL-MAR foundation 2019-04-23         2019.0   \n",
       "3          U001  0200769623          WAL-MAR co 2019-11-26         2019.0   \n",
       "6          U001  0200707005   KING S foundation 2019-07-05         2019.0   \n",
       "\n",
       "  posting_date document_create_date document_create_date.1 due_in_date  \\\n",
       "0   2019-08-22           2019-08-22             2019-08-22  2019-09-06   \n",
       "1   2019-11-12           2019-11-12             2019-11-12  2019-11-27   \n",
       "2   2019-04-12           2019-04-11             2019-04-12  2019-04-27   \n",
       "3   2019-11-15           2019-11-07             2019-11-15  2019-11-30   \n",
       "6   2019-06-19           2019-06-18             2019-06-19  2019-07-04   \n",
       "\n",
       "  document type  total_open_amount baseline_create_date cust_payment_terms  \\\n",
       "0            RV           41386.61           2019-08-22               NAA8   \n",
       "1            RV           47178.82           2019-11-12               NAH4   \n",
       "2            RV           51389.52           2019-04-12               NAH4   \n",
       "3            RV           18177.18           2019-11-15               NAH4   \n",
       "6            RV           64532.95           2019-06-19               NAA8   \n",
       "\n",
       "   isOpen  \n",
       "0       0  \n",
       "1       0  \n",
       "2       0  \n",
       "3       0  \n",
       "6       0  "
      ]
     },
     "execution_count": 18,
     "metadata": {},
     "output_type": "execute_result"
    }
   ],
   "source": [
    "main_train.head()"
   ]
  },
  {
   "cell_type": "markdown",
   "id": "38027a71",
   "metadata": {},
   "source": [
    "# Data analysis"
   ]
  },
  {
   "cell_type": "code",
   "execution_count": 19,
   "id": "0702ed38",
   "metadata": {},
   "outputs": [],
   "source": [
    "# Caluculate the delay {clear_date-due_date}\n",
    "main_train['Delay']=main_train['clear_date']-main_train['due_in_date']"
   ]
  },
  {
   "cell_type": "code",
   "execution_count": 20,
   "id": "21897750",
   "metadata": {},
   "outputs": [
    {
     "data": {
      "image/png": "[encoded data removed]",
      "text/plain": [
       "<Figure size 432x288 with 1 Axes>"
      ]
     },
     "metadata": {
      "needs_background": "light"
     },
     "output_type": "display_data"
    }
   ],
   "source": [
    "# Realtion between dates\n",
    "plt.plot_date(data['posting_date'],data['document_create_date'])\n",
    "plt.plot_date(data['posting_date'],data['document_create_date.1'])\n",
    "plt.plot_date(data['posting_date'],data['baseline_create_date'])\n",
    "plt.show()"
   ]
  },
  {
   "cell_type": "code",
   "execution_count": 21,
   "id": "71052e85",
   "metadata": {},
   "outputs": [],
   "source": [
    "# As these three dates depicts the same thus we drop these\n",
    "# Thus as columns 'posting_date','document_create_date','document_create_date.1',\n",
    "#'baseline_create_date' the dates are quite similar we can drop all except \n",
    "#'document_create_date.1' as it is formatted\n",
    "main_train.drop(columns=['posting_date','document_create_date','baseline_create_date'],inplace=True,axis=1)"
   ]
  },
  {
   "cell_type": "code",
   "execution_count": 22,
   "id": "da8f8dec",
   "metadata": {},
   "outputs": [
    {
     "data": {
      "text/html": [
       "<div>\n",
       "<style scoped>\n",
       "    .dataframe tbody tr th:only-of-type {\n",
       "        vertical-align: middle;\n",
       "    }\n",
       "\n",
       "    .dataframe tbody tr th {\n",
       "        vertical-align: top;\n",
       "    }\n",
       "\n",
       "    .dataframe thead th {\n",
       "        text-align: right;\n",
       "    }\n",
       "</style>\n",
       "<table border=\"1\" class=\"dataframe\">\n",
       "  <thead>\n",
       "    <tr style=\"text-align: right;\">\n",
       "      <th></th>\n",
       "      <th>business_code</th>\n",
       "      <th>cust_number</th>\n",
       "      <th>name_customer</th>\n",
       "      <th>clear_date</th>\n",
       "      <th>buisness_year</th>\n",
       "      <th>document_create_date.1</th>\n",
       "      <th>due_in_date</th>\n",
       "      <th>document type</th>\n",
       "      <th>total_open_amount</th>\n",
       "      <th>cust_payment_terms</th>\n",
       "      <th>isOpen</th>\n",
       "      <th>Delay</th>\n",
       "    </tr>\n",
       "  </thead>\n",
       "  <tbody>\n",
       "    <tr>\n",
       "      <th>0</th>\n",
       "      <td>U001</td>\n",
       "      <td>0200895843</td>\n",
       "      <td>US</td>\n",
       "      <td>2019-09-09</td>\n",
       "      <td>2019.0</td>\n",
       "      <td>2019-08-22</td>\n",
       "      <td>2019-09-06</td>\n",
       "      <td>RV</td>\n",
       "      <td>41386.61</td>\n",
       "      <td>NAA8</td>\n",
       "      <td>0</td>\n",
       "      <td>3 days</td>\n",
       "    </tr>\n",
       "    <tr>\n",
       "      <th>1</th>\n",
       "      <td>U001</td>\n",
       "      <td>0200769623</td>\n",
       "      <td>WAL-MAR</td>\n",
       "      <td>2019-11-25</td>\n",
       "      <td>2019.0</td>\n",
       "      <td>2019-11-12</td>\n",
       "      <td>2019-11-27</td>\n",
       "      <td>RV</td>\n",
       "      <td>47178.82</td>\n",
       "      <td>NAH4</td>\n",
       "      <td>0</td>\n",
       "      <td>-2 days</td>\n",
       "    </tr>\n",
       "    <tr>\n",
       "      <th>2</th>\n",
       "      <td>U001</td>\n",
       "      <td>0200769623</td>\n",
       "      <td>WAL-MAR foundation</td>\n",
       "      <td>2019-04-23</td>\n",
       "      <td>2019.0</td>\n",
       "      <td>2019-04-12</td>\n",
       "      <td>2019-04-27</td>\n",
       "      <td>RV</td>\n",
       "      <td>51389.52</td>\n",
       "      <td>NAH4</td>\n",
       "      <td>0</td>\n",
       "      <td>-4 days</td>\n",
       "    </tr>\n",
       "    <tr>\n",
       "      <th>3</th>\n",
       "      <td>U001</td>\n",
       "      <td>0200769623</td>\n",
       "      <td>WAL-MAR co</td>\n",
       "      <td>2019-11-26</td>\n",
       "      <td>2019.0</td>\n",
       "      <td>2019-11-15</td>\n",
       "      <td>2019-11-30</td>\n",
       "      <td>RV</td>\n",
       "      <td>18177.18</td>\n",
       "      <td>NAH4</td>\n",
       "      <td>0</td>\n",
       "      <td>-4 days</td>\n",
       "    </tr>\n",
       "    <tr>\n",
       "      <th>6</th>\n",
       "      <td>U001</td>\n",
       "      <td>0200707005</td>\n",
       "      <td>KING S foundation</td>\n",
       "      <td>2019-07-05</td>\n",
       "      <td>2019.0</td>\n",
       "      <td>2019-06-19</td>\n",
       "      <td>2019-07-04</td>\n",
       "      <td>RV</td>\n",
       "      <td>64532.95</td>\n",
       "      <td>NAA8</td>\n",
       "      <td>0</td>\n",
       "      <td>1 days</td>\n",
       "    </tr>\n",
       "  </tbody>\n",
       "</table>\n",
       "</div>"
      ],
      "text/plain": [
       "  business_code cust_number       name_customer clear_date  buisness_year  \\\n",
       "0          U001  0200895843                US   2019-09-09         2019.0   \n",
       "1          U001  0200769623            WAL-MAR  2019-11-25         2019.0   \n",
       "2          U001  0200769623  WAL-MAR foundation 2019-04-23         2019.0   \n",
       "3          U001  0200769623          WAL-MAR co 2019-11-26         2019.0   \n",
       "6          U001  0200707005   KING S foundation 2019-07-05         2019.0   \n",
       "\n",
       "  document_create_date.1 due_in_date document type  total_open_amount  \\\n",
       "0             2019-08-22  2019-09-06            RV           41386.61   \n",
       "1             2019-11-12  2019-11-27            RV           47178.82   \n",
       "2             2019-04-12  2019-04-27            RV           51389.52   \n",
       "3             2019-11-15  2019-11-30            RV           18177.18   \n",
       "6             2019-06-19  2019-07-04            RV           64532.95   \n",
       "\n",
       "  cust_payment_terms  isOpen   Delay  \n",
       "0               NAA8       0  3 days  \n",
       "1               NAH4       0 -2 days  \n",
       "2               NAH4       0 -4 days  \n",
       "3               NAH4       0 -4 days  \n",
       "6               NAA8       0  1 days  "
      ]
     },
     "execution_count": 22,
     "metadata": {},
     "output_type": "execute_result"
    }
   ],
   "source": [
    "main_train.head()"
   ]
  },
  {
   "cell_type": "code",
   "execution_count": 23,
   "id": "2f6ca376",
   "metadata": {},
   "outputs": [
    {
     "data": {
      "text/plain": [
       "<matplotlib.collections.PathCollection at 0x17c13cbf250>"
      ]
     },
     "execution_count": 23,
     "metadata": {},
     "output_type": "execute_result"
    },
    {
     "data": {
      "image/png": "[encoded data removed]",
      "text/plain": [
       "<Figure size 432x288 with 1 Axes>"
      ]
     },
     "metadata": {
      "needs_background": "light"
     },
     "output_type": "display_data"
    }
   ],
   "source": [
    "plt.scatter(main_train.Delay,main_train.isOpen)\n"
   ]
  },
  {
   "cell_type": "code",
   "execution_count": 24,
   "id": "93f1a7a5",
   "metadata": {},
   "outputs": [],
   "source": [
    "# AS for every value delay isOpen is almost same thus it donot add any info\n",
    "main_train.drop('isOpen',inplace=True,axis=1)"
   ]
  },
  {
   "cell_type": "code",
   "execution_count": 25,
   "id": "b4a1e4c7",
   "metadata": {},
   "outputs": [
    {
     "data": {
      "text/plain": [
       "<seaborn.axisgrid.PairGrid at 0x17c13c6dfd0>"
      ]
     },
     "execution_count": 25,
     "metadata": {},
     "output_type": "execute_result"
    },
    {
     "data": {
      "image/png": "[encoded data removed]",
      "text/plain": [
       "<Figure size 360x360 with 6 Axes>"
      ]
     },
     "metadata": {
      "needs_background": "light"
     },
     "output_type": "display_data"
    }
   ],
   "source": [
    "sns.pairplot(main_train)\n"
   ]
  },
  {
   "cell_type": "markdown",
   "id": "7b88672e",
   "metadata": {},
   "source": [
    "### Segregating the days , months and quarter from our dates"
   ]
  },
  {
   "cell_type": "code",
   "execution_count": 26,
   "id": "f09c19d1",
   "metadata": {},
   "outputs": [],
   "source": [
    "# Segregating the date days , months and quater\n",
    "# month_quarter,month are calculated for further use\n",
    "main_train['document_create_date.1_month_quarter'] = main_train['document_create_date.1'].dt.quarter\n",
    "main_train['document_create_date.1_day'] = main_train['document_create_date.1'].dt.dayofweek\n",
    "main_train['document_create_date.1_month'] = main_train['document_create_date.1'].dt.month\n",
    "main_train['due_in_date_month_quarter'] =main_train['due_in_date'].dt.quarter\n",
    "main_train['due_in_date_month_day'] =main_train['due_in_date'].dt.dayofweek\n",
    "main_train['due_in_date_month'] =main_train['due_in_date'].dt.month\n",
    "# Converting delay into days\n",
    "main_train['Delay'] = main_train['Delay'].dt.days"
   ]
  },
  {
   "cell_type": "code",
   "execution_count": 27,
   "id": "3f1bbf61",
   "metadata": {},
   "outputs": [],
   "source": [
    "#clear_date,document_create_date.1,due_in_date are dropped because they are catagorical date  column and can not be passed into model for training\n",
    "main_train.drop(columns=['clear_date','document_create_date.1','due_in_date'],inplace=True)"
   ]
  },
  {
   "cell_type": "code",
   "execution_count": null,
   "id": "d238974d",
   "metadata": {},
   "outputs": [
    {
     "data": {
      "text/plain": [
       "<seaborn.axisgrid.PairGrid at 0x17c13c60280>"
      ]
     },
     "execution_count": 28,
     "metadata": {},
     "output_type": "execute_result"
    }
   ],
   "source": [
    "sns.pairplot(main_train)"
   ]
  },
  {
   "cell_type": "code",
   "execution_count": null,
   "id": "d265232e",
   "metadata": {},
   "outputs": [],
   "source": [
    "main_train.corr()"
   ]
  },
  {
   "cell_type": "markdown",
   "id": "64b6c259",
   "metadata": {},
   "source": [
    "### Handling the catagorical data"
   ]
  },
  {
   "cell_type": "code",
   "execution_count": 30,
   "id": "15995a6f",
   "metadata": {},
   "outputs": [
    {
     "data": {
      "text/html": [
       "<div>\n",
       "<style scoped>\n",
       "    .dataframe tbody tr th:only-of-type {\n",
       "        vertical-align: middle;\n",
       "    }\n",
       "\n",
       "    .dataframe tbody tr th {\n",
       "        vertical-align: top;\n",
       "    }\n",
       "\n",
       "    .dataframe thead th {\n",
       "        text-align: right;\n",
       "    }\n",
       "</style>\n",
       "<table border=\"1\" class=\"dataframe\">\n",
       "  <thead>\n",
       "    <tr style=\"text-align: right;\">\n",
       "      <th></th>\n",
       "      <th>business_code</th>\n",
       "      <th>cust_number</th>\n",
       "      <th>name_customer</th>\n",
       "      <th>buisness_year</th>\n",
       "      <th>document type</th>\n",
       "      <th>total_open_amount</th>\n",
       "      <th>cust_payment_terms</th>\n",
       "      <th>Delay</th>\n",
       "      <th>document_create_date.1_month_quarter</th>\n",
       "      <th>document_create_date.1_day</th>\n",
       "      <th>document_create_date.1_month</th>\n",
       "      <th>due_in_date_month_quarter</th>\n",
       "      <th>due_in_date_month_day</th>\n",
       "      <th>due_in_date_month</th>\n",
       "    </tr>\n",
       "  </thead>\n",
       "  <tbody>\n",
       "    <tr>\n",
       "      <th>0</th>\n",
       "      <td>U001</td>\n",
       "      <td>0200769623</td>\n",
       "      <td>WAL-MAR foundation</td>\n",
       "      <td>2019.0</td>\n",
       "      <td>RV</td>\n",
       "      <td>71230.52</td>\n",
       "      <td>NAH4</td>\n",
       "      <td>-5</td>\n",
       "      <td>1</td>\n",
       "      <td>1</td>\n",
       "      <td>1</td>\n",
       "      <td>1</td>\n",
       "      <td>2</td>\n",
       "      <td>2</td>\n",
       "    </tr>\n",
       "    <tr>\n",
       "      <th>1</th>\n",
       "      <td>U001</td>\n",
       "      <td>0200795490</td>\n",
       "      <td>HY -  corp</td>\n",
       "      <td>2019.0</td>\n",
       "      <td>RV</td>\n",
       "      <td>152541.24</td>\n",
       "      <td>NAA8</td>\n",
       "      <td>1</td>\n",
       "      <td>4</td>\n",
       "      <td>2</td>\n",
       "      <td>10</td>\n",
       "      <td>4</td>\n",
       "      <td>3</td>\n",
       "      <td>10</td>\n",
       "    </tr>\n",
       "    <tr>\n",
       "      <th>2</th>\n",
       "      <td>U001</td>\n",
       "      <td>0200726979</td>\n",
       "      <td>BJ'S  trust</td>\n",
       "      <td>2019.0</td>\n",
       "      <td>RV</td>\n",
       "      <td>854.64</td>\n",
       "      <td>NAA8</td>\n",
       "      <td>0</td>\n",
       "      <td>4</td>\n",
       "      <td>2</td>\n",
       "      <td>10</td>\n",
       "      <td>4</td>\n",
       "      <td>3</td>\n",
       "      <td>11</td>\n",
       "    </tr>\n",
       "    <tr>\n",
       "      <th>3</th>\n",
       "      <td>U001</td>\n",
       "      <td>0200793830</td>\n",
       "      <td>M systems</td>\n",
       "      <td>2019.0</td>\n",
       "      <td>RV</td>\n",
       "      <td>89413.86</td>\n",
       "      <td>NAA8</td>\n",
       "      <td>4</td>\n",
       "      <td>1</td>\n",
       "      <td>4</td>\n",
       "      <td>2</td>\n",
       "      <td>1</td>\n",
       "      <td>5</td>\n",
       "      <td>2</td>\n",
       "    </tr>\n",
       "    <tr>\n",
       "      <th>4</th>\n",
       "      <td>U001</td>\n",
       "      <td>0200794332</td>\n",
       "      <td>COST systems</td>\n",
       "      <td>2020.0</td>\n",
       "      <td>RV</td>\n",
       "      <td>32715.47</td>\n",
       "      <td>NAAX</td>\n",
       "      <td>-1</td>\n",
       "      <td>1</td>\n",
       "      <td>3</td>\n",
       "      <td>2</td>\n",
       "      <td>1</td>\n",
       "      <td>4</td>\n",
       "      <td>2</td>\n",
       "    </tr>\n",
       "  </tbody>\n",
       "</table>\n",
       "</div>"
      ],
      "text/plain": [
       "  business_code cust_number       name_customer  buisness_year document type  \\\n",
       "0          U001  0200769623  WAL-MAR foundation         2019.0            RV   \n",
       "1          U001  0200795490          HY -  corp         2019.0            RV   \n",
       "2          U001  0200726979         BJ'S  trust         2019.0            RV   \n",
       "3          U001  0200793830           M systems         2019.0            RV   \n",
       "4          U001  0200794332        COST systems         2020.0            RV   \n",
       "\n",
       "   total_open_amount cust_payment_terms  Delay  \\\n",
       "0           71230.52               NAH4     -5   \n",
       "1          152541.24               NAA8      1   \n",
       "2             854.64               NAA8      0   \n",
       "3           89413.86               NAA8      4   \n",
       "4           32715.47               NAAX     -1   \n",
       "\n",
       "   document_create_date.1_month_quarter  document_create_date.1_day  \\\n",
       "0                                     1                           1   \n",
       "1                                     4                           2   \n",
       "2                                     4                           2   \n",
       "3                                     1                           4   \n",
       "4                                     1                           3   \n",
       "\n",
       "   document_create_date.1_month  due_in_date_month_quarter  \\\n",
       "0                             1                          1   \n",
       "1                            10                          4   \n",
       "2                            10                          4   \n",
       "3                             2                          1   \n",
       "4                             2                          1   \n",
       "\n",
       "   due_in_date_month_day  due_in_date_month  \n",
       "0                      2                  2  \n",
       "1                      3                 10  \n",
       "2                      3                 11  \n",
       "3                      5                  2  \n",
       "4                      4                  2  "
      ]
     },
     "execution_count": 30,
     "metadata": {},
     "output_type": "execute_result"
    }
   ],
   "source": [
    "main_train.head()"
   ]
  },
  {
   "cell_type": "code",
   "execution_count": 31,
   "id": "51979381",
   "metadata": {},
   "outputs": [],
   "source": [
    "from sklearn.preprocessing import LabelEncoder\n",
    "labelencoder = LabelEncoder()\n",
    "main_train.iloc[:,0] = labelencoder.fit_transform(main_train.iloc[:,0])\n",
    "main_train.iloc[:,1] = labelencoder.fit_transform(main_train.iloc[:,1])\n",
    "main_train.iloc[:,3] = labelencoder.fit_transform(main_train.iloc[:,2])\n",
    "main_train.iloc[:,4] = labelencoder.fit_transform(main_train.iloc[:,4])\n",
    "main_train.iloc[:,6] = labelencoder.fit_transform(main_train.iloc[:,6])"
   ]
  },
  {
   "cell_type": "code",
   "execution_count": 32,
   "id": "44e60e5b",
   "metadata": {},
   "outputs": [
    {
     "data": {
      "text/html": [
       "<div>\n",
       "<style scoped>\n",
       "    .dataframe tbody tr th:only-of-type {\n",
       "        vertical-align: middle;\n",
       "    }\n",
       "\n",
       "    .dataframe tbody tr th {\n",
       "        vertical-align: top;\n",
       "    }\n",
       "\n",
       "    .dataframe thead th {\n",
       "        text-align: right;\n",
       "    }\n",
       "</style>\n",
       "<table border=\"1\" class=\"dataframe\">\n",
       "  <thead>\n",
       "    <tr style=\"text-align: right;\">\n",
       "      <th></th>\n",
       "      <th>business_code</th>\n",
       "      <th>cust_number</th>\n",
       "      <th>name_customer</th>\n",
       "      <th>buisness_year</th>\n",
       "      <th>document type</th>\n",
       "      <th>total_open_amount</th>\n",
       "      <th>cust_payment_terms</th>\n",
       "      <th>Delay</th>\n",
       "      <th>document_create_date.1_month_quarter</th>\n",
       "      <th>document_create_date.1_day</th>\n",
       "      <th>document_create_date.1_month</th>\n",
       "      <th>due_in_date_month_quarter</th>\n",
       "      <th>due_in_date_month_day</th>\n",
       "      <th>due_in_date_month</th>\n",
       "    </tr>\n",
       "  </thead>\n",
       "  <tbody>\n",
       "    <tr>\n",
       "      <th>0</th>\n",
       "      <td>1</td>\n",
       "      <td>821</td>\n",
       "      <td>WAL-MAR foundation</td>\n",
       "      <td>3718</td>\n",
       "      <td>0</td>\n",
       "      <td>71230.52</td>\n",
       "      <td>33</td>\n",
       "      <td>-5</td>\n",
       "      <td>1</td>\n",
       "      <td>1</td>\n",
       "      <td>1</td>\n",
       "      <td>1</td>\n",
       "      <td>2</td>\n",
       "      <td>2</td>\n",
       "    </tr>\n",
       "    <tr>\n",
       "      <th>1</th>\n",
       "      <td>1</td>\n",
       "      <td>899</td>\n",
       "      <td>HY -  corp</td>\n",
       "      <td>1633</td>\n",
       "      <td>0</td>\n",
       "      <td>152541.24</td>\n",
       "      <td>19</td>\n",
       "      <td>1</td>\n",
       "      <td>4</td>\n",
       "      <td>2</td>\n",
       "      <td>10</td>\n",
       "      <td>4</td>\n",
       "      <td>3</td>\n",
       "      <td>10</td>\n",
       "    </tr>\n",
       "    <tr>\n",
       "      <th>2</th>\n",
       "      <td>1</td>\n",
       "      <td>723</td>\n",
       "      <td>BJ'S  trust</td>\n",
       "      <td>402</td>\n",
       "      <td>0</td>\n",
       "      <td>854.64</td>\n",
       "      <td>19</td>\n",
       "      <td>0</td>\n",
       "      <td>4</td>\n",
       "      <td>2</td>\n",
       "      <td>10</td>\n",
       "      <td>4</td>\n",
       "      <td>3</td>\n",
       "      <td>11</td>\n",
       "    </tr>\n",
       "    <tr>\n",
       "      <th>3</th>\n",
       "      <td>1</td>\n",
       "      <td>897</td>\n",
       "      <td>M systems</td>\n",
       "      <td>2157</td>\n",
       "      <td>0</td>\n",
       "      <td>89413.86</td>\n",
       "      <td>19</td>\n",
       "      <td>4</td>\n",
       "      <td>1</td>\n",
       "      <td>4</td>\n",
       "      <td>2</td>\n",
       "      <td>1</td>\n",
       "      <td>5</td>\n",
       "      <td>2</td>\n",
       "    </tr>\n",
       "    <tr>\n",
       "      <th>4</th>\n",
       "      <td>1</td>\n",
       "      <td>898</td>\n",
       "      <td>COST systems</td>\n",
       "      <td>778</td>\n",
       "      <td>0</td>\n",
       "      <td>32715.47</td>\n",
       "      <td>21</td>\n",
       "      <td>-1</td>\n",
       "      <td>1</td>\n",
       "      <td>3</td>\n",
       "      <td>2</td>\n",
       "      <td>1</td>\n",
       "      <td>4</td>\n",
       "      <td>2</td>\n",
       "    </tr>\n",
       "  </tbody>\n",
       "</table>\n",
       "</div>"
      ],
      "text/plain": [
       "   business_code  cust_number       name_customer  buisness_year  \\\n",
       "0              1          821  WAL-MAR foundation           3718   \n",
       "1              1          899          HY -  corp           1633   \n",
       "2              1          723         BJ'S  trust            402   \n",
       "3              1          897           M systems           2157   \n",
       "4              1          898        COST systems            778   \n",
       "\n",
       "   document type  total_open_amount  cust_payment_terms  Delay  \\\n",
       "0              0           71230.52                  33     -5   \n",
       "1              0          152541.24                  19      1   \n",
       "2              0             854.64                  19      0   \n",
       "3              0           89413.86                  19      4   \n",
       "4              0           32715.47                  21     -1   \n",
       "\n",
       "   document_create_date.1_month_quarter  document_create_date.1_day  \\\n",
       "0                                     1                           1   \n",
       "1                                     4                           2   \n",
       "2                                     4                           2   \n",
       "3                                     1                           4   \n",
       "4                                     1                           3   \n",
       "\n",
       "   document_create_date.1_month  due_in_date_month_quarter  \\\n",
       "0                             1                          1   \n",
       "1                            10                          4   \n",
       "2                            10                          4   \n",
       "3                             2                          1   \n",
       "4                             2                          1   \n",
       "\n",
       "   due_in_date_month_day  due_in_date_month  \n",
       "0                      2                  2  \n",
       "1                      3                 10  \n",
       "2                      3                 11  \n",
       "3                      5                  2  \n",
       "4                      4                  2  "
      ]
     },
     "execution_count": 32,
     "metadata": {},
     "output_type": "execute_result"
    }
   ],
   "source": [
    "main_train.head()"
   ]
  },
  {
   "cell_type": "code",
   "execution_count": 33,
   "id": "fdf01b9b",
   "metadata": {},
   "outputs": [],
   "source": [
    "## We can drop customer name as it is depicted by customer number\n",
    "main_train.drop('name_customer',inplace=True,axis=1)"
   ]
  },
  {
   "cell_type": "markdown",
   "id": "266fa826",
   "metadata": {},
   "source": [
    "#### From corr table we can get inference that business_code , name customer,business_year,total amount all show a negetive corr"
   ]
  },
  {
   "cell_type": "code",
   "execution_count": 34,
   "id": "852c2d9a",
   "metadata": {},
   "outputs": [
    {
     "data": {
      "image/png": "[encoded data removed]",
      "text/plain": [
       "<Figure size 1440x1440 with 2 Axes>"
      ]
     },
     "metadata": {
      "needs_background": "light"
     },
     "output_type": "display_data"
    }
   ],
   "source": [
    "corrmat=main_train.corr()\n",
    "top_corr_features=corrmat.index\n",
    "plt.figure(figsize=(20,20))\n",
    "g=sns.heatmap(main_train[top_corr_features].corr(),annot=True,cmap=\"RdYlGn\")"
   ]
  },
  {
   "cell_type": "markdown",
   "id": "5d9ff0c7",
   "metadata": {},
   "source": [
    "### Check for skew ness of data"
   ]
  },
  {
   "cell_type": "code",
   "execution_count": 35,
   "id": "940861bb",
   "metadata": {},
   "outputs": [
    {
     "name": "stdout",
     "output_type": "stream",
     "text": [
      "2.558133112941186\n"
     ]
    },
    {
     "data": {
      "text/plain": [
       "<AxesSubplot:xlabel='total_open_amount', ylabel='Density'>"
      ]
     },
     "execution_count": 35,
     "metadata": {},
     "output_type": "execute_result"
    },
    {
     "data": {
      "image/png": "[encoded data removed]",
      "text/plain": [
       "<Figure size 432x288 with 1 Axes>"
      ]
     },
     "metadata": {
      "needs_background": "light"
     },
     "output_type": "display_data"
    }
   ],
   "source": [
    "# Checking for skewness\n",
    "print(main_train['total_open_amount'].skew())\n",
    "sns.distplot(main_train['total_open_amount']) \n",
    "# here we can get inference from the plot that that this column is right skewed"
   ]
  },
  {
   "cell_type": "markdown",
   "id": "f80e426f",
   "metadata": {},
   "source": [
    "#### Treament for skewness"
   ]
  },
  {
   "cell_type": "code",
   "execution_count": 36,
   "id": "4fcbc2a6",
   "metadata": {},
   "outputs": [
    {
     "data": {
      "text/plain": [
       "<AxesSubplot:xlabel='total_open_amount', ylabel='Density'>"
      ]
     },
     "execution_count": 36,
     "metadata": {},
     "output_type": "execute_result"
    },
    {
     "data": {
      "image/png": "[encoded data removed]",
      "text/plain": [
       "<Figure size 432x288 with 1 Axes>"
      ]
     },
     "metadata": {
      "needs_background": "light"
     },
     "output_type": "display_data"
    }
   ],
   "source": [
    "## Log transformation of the amount column\n",
    "sns.distplot(np.log(main_train['total_open_amount']))\n",
    "# We can see that the skewness is somewhat improved.."
   ]
  },
  {
   "cell_type": "code",
   "execution_count": 37,
   "id": "31c2fcc3",
   "metadata": {},
   "outputs": [
    {
     "data": {
      "text/plain": [
       "<AxesSubplot:ylabel='Density'>"
      ]
     },
     "execution_count": 37,
     "metadata": {},
     "output_type": "execute_result"
    },
    {
     "data": {
      "image/png": "[encoded data removed]",
      "text/plain": [
       "<Figure size 432x288 with 1 Axes>"
      ]
     },
     "metadata": {
      "needs_background": "light"
     },
     "output_type": "display_data"
    }
   ],
   "source": [
    "## Box_cox transformation\n",
    "amt_trans1 = stats.boxcox(main_train['total_open_amount'])[0]\n",
    "sns.distplot(amt_trans1) \n",
    "#WE can see that it nearly resulted into a gaussian curve"
   ]
  },
  {
   "cell_type": "markdown",
   "id": "d89ff851",
   "metadata": {},
   "source": [
    "## Checking for outliers\n",
    "\n",
    "### Now as per the empirical rule any absolute value of z-score above 3 is considered as an Outlier. This is quite \n",
    "\n",
    "### debatable and may not hold true for every dataset in this world.\n"
   ]
  },
  {
   "cell_type": "code",
   "execution_count": 38,
   "id": "e0d2d962",
   "metadata": {},
   "outputs": [
    {
     "data": {
      "text/plain": [
       "(array([ 0,  1,  2,  3,  4,  5,  6,  7,  8,  9, 10, 11, 12]),\n",
       " [Text(0, 0, 'business_code'),\n",
       "  Text(1, 0, 'cust_number'),\n",
       "  Text(2, 0, 'buisness_year'),\n",
       "  Text(3, 0, 'document type'),\n",
       "  Text(4, 0, 'total_open_amount'),\n",
       "  Text(5, 0, 'cust_payment_terms'),\n",
       "  Text(6, 0, 'Delay'),\n",
       "  Text(7, 0, 'document_create_date.1_month_quarter'),\n",
       "  Text(8, 0, 'document_create_date.1_day'),\n",
       "  Text(9, 0, 'document_create_date.1_month'),\n",
       "  Text(10, 0, 'due_in_date_month_quarter'),\n",
       "  Text(11, 0, 'due_in_date_month_day'),\n",
       "  Text(12, 0, 'due_in_date_month')])"
      ]
     },
     "execution_count": 38,
     "metadata": {},
     "output_type": "execute_result"
    },
    {
     "data": {
      "image/png": "[encoded data removed]",
      "text/plain": [
       "<Figure size 432x288 with 1 Axes>"
      ]
     },
     "metadata": {
      "needs_background": "light"
     },
     "output_type": "display_data"
    }
   ],
   "source": [
    "sns.boxplot(data=main_train)\n",
    "plt.xticks(rotation=90)"
   ]
  },
  {
   "cell_type": "code",
   "execution_count": 39,
   "id": "a52e46ea",
   "metadata": {},
   "outputs": [
    {
     "data": {
      "text/plain": [
       "(array([2.5892e+04, 7.3230e+03, 2.9000e+03, 1.4230e+03, 4.9400e+02,\n",
       "        1.2900e+02, 5.2000e+01, 3.9000e+01, 1.6000e+01, 5.0000e+00,\n",
       "        0.0000e+00, 0.0000e+00, 2.0000e+00, 0.0000e+00, 1.0000e+00,\n",
       "        1.0000e+00, 0.0000e+00, 1.0000e+00, 1.0000e+00, 2.0000e+00]),\n",
       " array([1.22310000e+00, 3.47405024e+04, 6.94797818e+04, 1.04219061e+05,\n",
       "        1.38958340e+05, 1.73697620e+05, 2.08436899e+05, 2.43176179e+05,\n",
       "        2.77915458e+05, 3.12654737e+05, 3.47394017e+05, 3.82133296e+05,\n",
       "        4.16872575e+05, 4.51611855e+05, 4.86351134e+05, 5.21090413e+05,\n",
       "        5.55829693e+05, 5.90568972e+05, 6.25308251e+05, 6.60047531e+05,\n",
       "        6.94786810e+05]),\n",
       " <BarContainer object of 20 artists>)"
      ]
     },
     "execution_count": 39,
     "metadata": {},
     "output_type": "execute_result"
    },
    {
     "data": {
      "image/png": "[encoded data removed]",
      "text/plain": [
       "<Figure size 432x288 with 1 Axes>"
      ]
     },
     "metadata": {
      "needs_background": "light"
     },
     "output_type": "display_data"
    }
   ],
   "source": [
    "plt.hist(main_train['total_open_amount'], bins=20)"
   ]
  },
  {
   "cell_type": "code",
   "execution_count": 40,
   "id": "d6f49c58",
   "metadata": {},
   "outputs": [
    {
     "data": {
      "text/plain": [
       "Not Outlier    37679\n",
       "Outlier          602\n",
       "dtype: int64"
      ]
     },
     "execution_count": 40,
     "metadata": {},
     "output_type": "execute_result"
    }
   ],
   "source": [
    "#Outlier in total_open_amount\n",
    "from scipy.stats import zscore\n",
    "z_scores = zscore(main_train['total_open_amount'])\n",
    "abs_z_scores = np.abs(z_scores)\n",
    "out=pd.DataFrame(np.where(abs_z_scores<3,'Not Outlier','Outlier'))\n",
    "out.value_counts()"
   ]
  },
  {
   "cell_type": "code",
   "execution_count": 41,
   "id": "9cffb073",
   "metadata": {},
   "outputs": [
    {
     "data": {
      "text/plain": [
       "160176.39199999993"
      ]
     },
     "execution_count": 41,
     "metadata": {},
     "output_type": "execute_result"
    }
   ],
   "source": [
    "# Outlier Treatment\n",
    "upper_lim=main_train['total_open_amount'].quantile(0.99) \n",
    "upper_lim"
   ]
  },
  {
   "cell_type": "code",
   "execution_count": 42,
   "id": "b12fc5ae",
   "metadata": {},
   "outputs": [],
   "source": [
    "# Replace all the value with outside the range of upperlimit\n",
    "# With the value of the upper limit to treat the outlier\n",
    "main_train.loc[(main_train['total_open_amount']>upper_lim),'total_open_amount']=upper_lim # Assign the value"
   ]
  },
  {
   "cell_type": "markdown",
   "id": "9ae45732",
   "metadata": {},
   "source": [
    "### Exploring columns relation with delay"
   ]
  },
  {
   "cell_type": "code",
   "execution_count": 43,
   "id": "442ed4d3",
   "metadata": {},
   "outputs": [
    {
     "data": {
      "text/plain": [
       "Index(['business_code', 'cust_number', 'buisness_year', 'document type',\n",
       "       'total_open_amount', 'cust_payment_terms', 'Delay',\n",
       "       'document_create_date.1_month_quarter', 'document_create_date.1_day',\n",
       "       'document_create_date.1_month', 'due_in_date_month_quarter',\n",
       "       'due_in_date_month_day', 'due_in_date_month'],\n",
       "      dtype='object')"
      ]
     },
     "execution_count": 43,
     "metadata": {},
     "output_type": "execute_result"
    }
   ],
   "source": [
    "main_train.columns"
   ]
  },
  {
   "cell_type": "code",
   "execution_count": 44,
   "id": "90c97f5c",
   "metadata": {},
   "outputs": [
    {
     "data": {
      "text/html": [
       "<div>\n",
       "<style scoped>\n",
       "    .dataframe tbody tr th:only-of-type {\n",
       "        vertical-align: middle;\n",
       "    }\n",
       "\n",
       "    .dataframe tbody tr th {\n",
       "        vertical-align: top;\n",
       "    }\n",
       "\n",
       "    .dataframe thead th {\n",
       "        text-align: right;\n",
       "    }\n",
       "</style>\n",
       "<table border=\"1\" class=\"dataframe\">\n",
       "  <thead>\n",
       "    <tr style=\"text-align: right;\">\n",
       "      <th></th>\n",
       "      <th>Delay</th>\n",
       "    </tr>\n",
       "    <tr>\n",
       "      <th>cust_number</th>\n",
       "      <th></th>\n",
       "    </tr>\n",
       "  </thead>\n",
       "  <tbody>\n",
       "    <tr>\n",
       "      <th>0</th>\n",
       "      <td>37.000000</td>\n",
       "    </tr>\n",
       "    <tr>\n",
       "      <th>1</th>\n",
       "      <td>-4.200000</td>\n",
       "    </tr>\n",
       "    <tr>\n",
       "      <th>2</th>\n",
       "      <td>1.500000</td>\n",
       "    </tr>\n",
       "    <tr>\n",
       "      <th>3</th>\n",
       "      <td>-2.000000</td>\n",
       "    </tr>\n",
       "    <tr>\n",
       "      <th>4</th>\n",
       "      <td>-2.714286</td>\n",
       "    </tr>\n",
       "    <tr>\n",
       "      <th>...</th>\n",
       "      <td>...</td>\n",
       "    </tr>\n",
       "    <tr>\n",
       "      <th>1333</th>\n",
       "      <td>20.500000</td>\n",
       "    </tr>\n",
       "    <tr>\n",
       "      <th>1334</th>\n",
       "      <td>6.680095</td>\n",
       "    </tr>\n",
       "    <tr>\n",
       "      <th>1335</th>\n",
       "      <td>7.944444</td>\n",
       "    </tr>\n",
       "    <tr>\n",
       "      <th>1336</th>\n",
       "      <td>7.413793</td>\n",
       "    </tr>\n",
       "    <tr>\n",
       "      <th>1337</th>\n",
       "      <td>43.495108</td>\n",
       "    </tr>\n",
       "  </tbody>\n",
       "</table>\n",
       "<p>1338 rows × 1 columns</p>\n",
       "</div>"
      ],
      "text/plain": [
       "                 Delay\n",
       "cust_number           \n",
       "0            37.000000\n",
       "1            -4.200000\n",
       "2             1.500000\n",
       "3            -2.000000\n",
       "4            -2.714286\n",
       "...                ...\n",
       "1333         20.500000\n",
       "1334          6.680095\n",
       "1335          7.944444\n",
       "1336          7.413793\n",
       "1337         43.495108\n",
       "\n",
       "[1338 rows x 1 columns]"
      ]
     },
     "execution_count": 44,
     "metadata": {},
     "output_type": "execute_result"
    }
   ],
   "source": [
    "# To see customer wise delay practised\n",
    "extract_data=main_train.groupby('cust_number')['Delay'].agg('mean')\n",
    "avg_cust_delay=extract_data.to_frame()\n",
    "avg_cust_delay\n"
   ]
  },
  {
   "cell_type": "code",
   "execution_count": 45,
   "id": "7110dd0a",
   "metadata": {},
   "outputs": [],
   "source": [
    "## Adding a new column as avg customer delay\n",
    "for i in extract_data.index:\n",
    "    main_train.loc[main_train.cust_number==i, \"average_delayby\"] =avg_cust_delay['Delay'][i]"
   ]
  },
  {
   "cell_type": "code",
   "execution_count": 46,
   "id": "dd36015a",
   "metadata": {},
   "outputs": [
    {
     "data": {
      "text/html": [
       "<div>\n",
       "<style scoped>\n",
       "    .dataframe tbody tr th:only-of-type {\n",
       "        vertical-align: middle;\n",
       "    }\n",
       "\n",
       "    .dataframe tbody tr th {\n",
       "        vertical-align: top;\n",
       "    }\n",
       "\n",
       "    .dataframe thead th {\n",
       "        text-align: right;\n",
       "    }\n",
       "</style>\n",
       "<table border=\"1\" class=\"dataframe\">\n",
       "  <thead>\n",
       "    <tr style=\"text-align: right;\">\n",
       "      <th></th>\n",
       "      <th>Delay</th>\n",
       "    </tr>\n",
       "    <tr>\n",
       "      <th>business_code</th>\n",
       "      <th></th>\n",
       "    </tr>\n",
       "  </thead>\n",
       "  <tbody>\n",
       "    <tr>\n",
       "      <th>0</th>\n",
       "      <td>5.907563</td>\n",
       "    </tr>\n",
       "    <tr>\n",
       "      <th>1</th>\n",
       "      <td>0.260261</td>\n",
       "    </tr>\n",
       "    <tr>\n",
       "      <th>2</th>\n",
       "      <td>3.725490</td>\n",
       "    </tr>\n",
       "    <tr>\n",
       "      <th>3</th>\n",
       "      <td>6.777778</td>\n",
       "    </tr>\n",
       "    <tr>\n",
       "      <th>4</th>\n",
       "      <td>6.500000</td>\n",
       "    </tr>\n",
       "    <tr>\n",
       "      <th>5</th>\n",
       "      <td>5.963740</td>\n",
       "    </tr>\n",
       "  </tbody>\n",
       "</table>\n",
       "</div>"
      ],
      "text/plain": [
       "                  Delay\n",
       "business_code          \n",
       "0              5.907563\n",
       "1              0.260261\n",
       "2              3.725490\n",
       "3              6.777778\n",
       "4              6.500000\n",
       "5              5.963740"
      ]
     },
     "execution_count": 46,
     "metadata": {},
     "output_type": "execute_result"
    }
   ],
   "source": [
    "## Realation between business code and delay\n",
    "code_data=main_train.groupby('business_code')['Delay'].mean()\n",
    "avg_delay_bycode=code_data.to_frame()\n",
    "avg_delay_bycode"
   ]
  },
  {
   "cell_type": "code",
   "execution_count": 47,
   "id": "7855777c",
   "metadata": {},
   "outputs": [],
   "source": [
    "# We will create a new column based on the business code\n",
    "trans = main_train.groupby('business_code')['Delay'].mean().to_dict()"
   ]
  },
  {
   "cell_type": "code",
   "execution_count": 48,
   "id": "788448dc",
   "metadata": {},
   "outputs": [],
   "source": [
    "# Mapped the dictionary with the following delay\n",
    "main_train['code_Wise_delay'] = main_train['business_code'].map(trans)"
   ]
  },
  {
   "cell_type": "markdown",
   "id": "1124d127",
   "metadata": {},
   "source": [
    "### Feature selection"
   ]
  },
  {
   "cell_type": "code",
   "execution_count": null,
   "id": "9cb80c1f",
   "metadata": {},
   "outputs": [],
   "source": []
  },
  {
   "cell_type": "code",
   "execution_count": 49,
   "id": "47f9b9ca",
   "metadata": {},
   "outputs": [
    {
     "data": {
      "text/plain": [
       "ExtraTreesClassifier()"
      ]
     },
     "execution_count": 49,
     "metadata": {},
     "output_type": "execute_result"
    }
   ],
   "source": [
    "#Extracting best features to be fed to train our model\n",
    "x=main_train.drop(labels=['Delay'], axis=1)\n",
    "y= main_train['Delay']\n",
    "model = ExtraTreesClassifier()\n",
    "model.fit(x,y)"
   ]
  },
  {
   "cell_type": "code",
   "execution_count": 50,
   "id": "01d21559",
   "metadata": {},
   "outputs": [
    {
     "data": {
      "image/png": "[encoded data removed]",
      "text/plain": [
       "<Figure size 432x288 with 1 Axes>"
      ]
     },
     "metadata": {
      "needs_background": "light"
     },
     "output_type": "display_data"
    }
   ],
   "source": [
    "selt = pd.Series(model.feature_importances_, index=x.columns)\n",
    "selt.nlargest(11).plot(kind='barh')\n",
    "plt.show()"
   ]
  },
  {
   "cell_type": "markdown",
   "id": "a828a966",
   "metadata": {},
   "source": [
    "<h4> Now we will split the data for training<h4>\n",
    "<ul>\n",
    "<li> training 80 %</li>\n",
    "<li> Validation 10 %</li>\n",
    "<li> Test 10 %</li>"
   ]
  },
  {
   "cell_type": "code",
   "execution_count": 51,
   "id": "efa406f5",
   "metadata": {},
   "outputs": [
    {
     "data": {
      "text/plain": [
       "((30624, 15), (7657, 15))"
      ]
     },
     "execution_count": 51,
     "metadata": {},
     "output_type": "execute_result"
    }
   ],
   "source": [
    "# WE WILL SPPLIT TRAIN SET AS 80 % OF DATA AND VALIDATION INTERMIDEATE AS 20 %\n",
    "from sklearn.model_selection import train_test_split\n",
    "train_set, validation_intermediate = train_test_split(main_train,test_size=.2,shuffle=False)\n",
    "train_set.shape,validation_intermediate.shape"
   ]
  },
  {
   "cell_type": "code",
   "execution_count": 52,
   "id": "4c277269",
   "metadata": {},
   "outputs": [],
   "source": [
    "# Now we will split the validation intermidiate to two sets one is valdiation set and another test set"
   ]
  },
  {
   "cell_type": "code",
   "execution_count": 53,
   "id": "cddae451",
   "metadata": {},
   "outputs": [
    {
     "data": {
      "text/plain": [
       "((3829, 15), (3828, 15))"
      ]
     },
     "execution_count": 53,
     "metadata": {},
     "output_type": "execute_result"
    }
   ],
   "source": [
    "validation_set,test_set = train_test_split(validation_intermediate,test_size=.5,shuffle=False)\n",
    "test_set.shape,validation_set.shape"
   ]
  },
  {
   "cell_type": "code",
   "execution_count": 81,
   "id": "d2f3626d",
   "metadata": {},
   "outputs": [],
   "source": [
    "X=train_set.drop('Delay',axis=1)\n",
    "y=train_set.Delay\n",
    "x_val=validation_set.drop('Delay',axis=1)\n",
    "y_val=validation_set.Delay\n",
    "x_test=test_set.drop('Delay',axis=1)\n",
    "y_test=test_set.Delay"
   ]
  },
  {
   "cell_type": "markdown",
   "id": "7e3c6301",
   "metadata": {},
   "source": [
    "### Normalisation before fed to model"
   ]
  },
  {
   "cell_type": "code",
   "execution_count": 82,
   "id": "46255f86",
   "metadata": {},
   "outputs": [
    {
     "data": {
      "text/plain": [
       "Index(['business_code', 'cust_number', 'buisness_year', 'document type',\n",
       "       'total_open_amount', 'cust_payment_terms',\n",
       "       'document_create_date.1_month_quarter', 'document_create_date.1_day',\n",
       "       'document_create_date.1_month', 'due_in_date_month_quarter',\n",
       "       'due_in_date_month_day', 'due_in_date_month', 'average_delayby',\n",
       "       'code_Wise_delay'],\n",
       "      dtype='object')"
      ]
     },
     "execution_count": 82,
     "metadata": {},
     "output_type": "execute_result"
    }
   ],
   "source": [
    "x_val.columns"
   ]
  },
  {
   "cell_type": "code",
   "execution_count": 83,
   "id": "bcbf7a5f",
   "metadata": {},
   "outputs": [],
   "source": [
    "from sklearn.preprocessing import MinMaxScaler\n",
    "scaler = MinMaxScaler() \n",
    "X[['business_code', 'cust_number', 'buisness_year',\n",
    "       'document type', 'total_open_amount', 'cust_payment_terms',\n",
    "       'document_create_date.1_month_quarter', 'document_create_date.1_day',\n",
    "       'document_create_date.1_month', 'due_in_date_month_quarter',\n",
    "       'due_in_date_month_day', 'due_in_date_month']] = scaler.fit_transform(X[['business_code', 'cust_number', 'buisness_year',\n",
    "       'document type', 'total_open_amount', 'cust_payment_terms',\n",
    "       'document_create_date.1_month_quarter', 'document_create_date.1_day',\n",
    "       'document_create_date.1_month', 'due_in_date_month_quarter',\n",
    "       'due_in_date_month_day', 'due_in_date_month']])\n",
    "x_val[['business_code', 'cust_number', 'buisness_year',\n",
    "       'document type', 'total_open_amount', 'cust_payment_terms',\n",
    "       'document_create_date.1_month_quarter', 'document_create_date.1_day',\n",
    "       'document_create_date.1_month', 'due_in_date_month_quarter',\n",
    "       'due_in_date_month_day', 'due_in_date_month']] = scaler.fit_transform(x_val[['business_code', 'cust_number', 'buisness_year',\n",
    "       'document type', 'total_open_amount', 'cust_payment_terms',\n",
    "       'document_create_date.1_month_quarter', 'document_create_date.1_day',\n",
    "       'document_create_date.1_month', 'due_in_date_month_quarter',\n",
    "       'due_in_date_month_day', 'due_in_date_month']])\n",
    "x_test[['business_code', 'cust_number', 'buisness_year',\n",
    "       'document type', 'total_open_amount', 'cust_payment_terms',\n",
    "       'document_create_date.1_month_quarter', 'document_create_date.1_day',\n",
    "       'document_create_date.1_month', 'due_in_date_month_quarter',\n",
    "       'due_in_date_month_day', 'due_in_date_month']] = scaler.fit_transform(x_test[['business_code', 'cust_number','buisness_year',\n",
    "       'document type', 'total_open_amount', 'cust_payment_terms',\n",
    "       'document_create_date.1_month_quarter', 'document_create_date.1_day',\n",
    "       'document_create_date.1_month', 'due_in_date_month_quarter',\n",
    "       'due_in_date_month_day', 'due_in_date_month']])\n"
   ]
  },
  {
   "cell_type": "markdown",
   "id": "cd4a7e76",
   "metadata": {},
   "source": [
    "### Linear Regression model"
   ]
  },
  {
   "cell_type": "code",
   "execution_count": 84,
   "id": "59267a46",
   "metadata": {},
   "outputs": [
    {
     "data": {
      "text/plain": [
       "LinearRegression()"
      ]
     },
     "execution_count": 84,
     "metadata": {},
     "output_type": "execute_result"
    }
   ],
   "source": [
    "model_1 = LinearRegression()\n",
    "model_1.fit(X,y)"
   ]
  },
  {
   "cell_type": "markdown",
   "id": "4b68807b",
   "metadata": {},
   "source": [
    "### Test on validate set"
   ]
  },
  {
   "cell_type": "code",
   "execution_count": 85,
   "id": "551d724c",
   "metadata": {},
   "outputs": [],
   "source": [
    "pred_value = model_1.predict(x_val)"
   ]
  },
  {
   "cell_type": "code",
   "execution_count": 86,
   "id": "2192ea3d",
   "metadata": {},
   "outputs": [
    {
     "name": "stdout",
     "output_type": "stream",
     "text": [
      "mean_squared_error = 7.5577877282226\n",
      "Accuracy of the model achived =  39.87732177661316%\n"
     ]
    }
   ],
   "source": [
    "print(f'mean_squared_error = {mean_squared_error(y_val, pred_value,squared=False)}')\n",
    "pd.DataFrame(zip(y_val,pred_value))\n",
    "accuracy = model_1.score(x_val,y_val)\n",
    "print('Accuracy of the model achived =  {}%'.format(accuracy*100,'%'))"
   ]
  },
  {
   "cell_type": "markdown",
   "id": "bf6354ad",
   "metadata": {},
   "source": [
    "### Test on test set"
   ]
  },
  {
   "cell_type": "code",
   "execution_count": 87,
   "id": "85e6eb1f",
   "metadata": {},
   "outputs": [],
   "source": [
    "pred_value1=model_1.predict(x_test)"
   ]
  },
  {
   "cell_type": "code",
   "execution_count": 88,
   "id": "935da592",
   "metadata": {},
   "outputs": [
    {
     "name": "stdout",
     "output_type": "stream",
     "text": [
      "Accuracy of the model achived =  46.63151932581946 %\n"
     ]
    }
   ],
   "source": [
    "y_pred=model_1.predict(x_val)\n",
    "mean_squared_error(y_val, y_pred)\n",
    "accuracy = model_1.score(x_test,y_test)\n",
    "print('Accuracy of the model achived =  {} %'.format(accuracy*100,))"
   ]
  },
  {
   "cell_type": "markdown",
   "id": "c058a805",
   "metadata": {},
   "source": [
    "### Decision tree model"
   ]
  },
  {
   "cell_type": "code",
   "execution_count": 89,
   "id": "dcd5d0d8",
   "metadata": {},
   "outputs": [
    {
     "data": {
      "text/plain": [
       "RandomForestRegressor(max_depth=100)"
      ]
     },
     "execution_count": 89,
     "metadata": {},
     "output_type": "execute_result"
    }
   ],
   "source": [
    "model_4 = RandomForestRegressor(max_depth=100)\n",
    "model_4.fit(X,y)"
   ]
  },
  {
   "cell_type": "markdown",
   "id": "7fa7d45c",
   "metadata": {},
   "source": [
    "### Test on validation set"
   ]
  },
  {
   "cell_type": "code",
   "execution_count": 90,
   "id": "d6cb0d6e",
   "metadata": {},
   "outputs": [
    {
     "name": "stdout",
     "output_type": "stream",
     "text": [
      "score = 0.2241312341586814\n",
      "mean_squared_error = 8.585580510722519\n",
      "Accuracy of the model achived =  22.413123415868142 %\n"
     ]
    }
   ],
   "source": [
    "pred_value = model_4.predict(x_val)\n",
    "print(f'score = {model_4.score(x_val,y_val)}')\n",
    "print(f'mean_squared_error = {mean_squared_error(y_val, pred_value,squared=False)}')\n",
    "print('Accuracy of the model achived =  {} %'.format(model_4.score(x_val,y_val)*100,))"
   ]
  },
  {
   "cell_type": "markdown",
   "id": "e33e447f",
   "metadata": {},
   "source": [
    "### Test on test set"
   ]
  },
  {
   "cell_type": "code",
   "execution_count": 91,
   "id": "294f67d6",
   "metadata": {},
   "outputs": [
    {
     "name": "stdout",
     "output_type": "stream",
     "text": [
      "score = 0.09241365213831065\n",
      "mean_squared_error = 10.470531234696965\n",
      "Accuracy of the model achived =  9.241365213831065 %\n"
     ]
    }
   ],
   "source": [
    "pred_value2 = model_4.predict(x_test)\n",
    "print(f'score = {model_4.score(x_test,y_test)}')\n",
    "print(f'mean_squared_error = {mean_squared_error(y_test, pred_value2,squared=False)}')\n",
    "print('Accuracy of the model achived =  {} %'.format(model_4.score(x_test,y_test)*100,))"
   ]
  },
  {
   "cell_type": "code",
   "execution_count": 92,
   "id": "941e2e55",
   "metadata": {},
   "outputs": [],
   "source": [
    "model_5=SVR()"
   ]
  },
  {
   "cell_type": "code",
   "execution_count": 93,
   "id": "a674246b",
   "metadata": {},
   "outputs": [
    {
     "data": {
      "text/plain": [
       "SVR()"
      ]
     },
     "execution_count": 93,
     "metadata": {},
     "output_type": "execute_result"
    }
   ],
   "source": [
    "model_5.fit(X,y)"
   ]
  },
  {
   "cell_type": "code",
   "execution_count": 95,
   "id": "206d1ebd",
   "metadata": {},
   "outputs": [
    {
     "name": "stdout",
     "output_type": "stream",
     "text": [
      "score = 0.3761370802888775\n",
      "mean_squared_error = 7.698748233335414\n",
      "Accuracy of the model achived =  37.61370802888775 %\n"
     ]
    }
   ],
   "source": [
    "pred_value3 = model_5.predict(x_val)\n",
    "print(f'score = {model_5.score(x_val,y_val)}')\n",
    "print(f'mean_squared_error = {mean_squared_error(y_val, pred_value3,squared=False)}')\n",
    "print('Accuracy of the model achived =  {} %'.format(model_5.score(x_val,y_val)*100,))\n",
    "acc1=model_5.score(x_val,y_val)*100"
   ]
  },
  {
   "cell_type": "code",
   "execution_count": 96,
   "id": "84316183",
   "metadata": {},
   "outputs": [
    {
     "data": {
      "text/plain": [
       "[<matplotlib.lines.Line2D at 0x142e1bf0fc8>]"
      ]
     },
     "execution_count": 96,
     "metadata": {},
     "output_type": "execute_result"
    },
    {
     "data": {
      "image/png": "[encoded data removed]",
      "text/plain": [
       "<Figure size 432x288 with 1 Axes>"
      ]
     },
     "metadata": {
      "needs_background": "light"
     },
     "output_type": "display_data"
    }
   ],
   "source": [
    "plt.plot(acc1)"
   ]
  },
  {
   "cell_type": "code",
   "execution_count": null,
   "id": "e1e312a6",
   "metadata": {},
   "outputs": [],
   "source": []
  }
 ],
 "metadata": {
  "kernelspec": {
   "display_name": "Python 3",
   "language": "python",
   "name": "python3"
  },
  "language_info": {
   "codemirror_mode": {
    "name": "ipython",
    "version": 3
   },
   "file_extension": ".py",
   "mimetype": "text/x-python",
   "name": "python",
   "nbconvert_exporter": "python",
   "pygments_lexer": "ipython3",
   "version": "3.9.5"
  }
 },
 "nbformat": 4,
 "nbformat_minor": 5
}
