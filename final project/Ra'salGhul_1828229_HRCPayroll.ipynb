{
 "cells": [
  {
   "cell_type": "markdown",
   "metadata": {
    "id": "rSxufwj3EMG1"
   },
   "source": [
    "Name: Ankita Bera\n",
    "\n",
    "Roll-number: 1828229\n",
    "\n",
    "House: Ra's al Ghul"
   ]
  },
  {
   "cell_type": "markdown",
   "metadata": {
    "id": "vg4LepXoEovh"
   },
   "source": [
    "# EDA, FE, FS & Modeling Assignment"
   ]
  },
  {
   "cell_type": "code",
   "execution_count": 198,
   "metadata": {
    "id": "knCfRD91Zrek"
   },
   "outputs": [],
   "source": [
    "import pandas as pd\n",
    "import datetime"
   ]
  },
  {
   "cell_type": "code",
   "execution_count": 199,
   "metadata": {
    "colab": {
     "base_uri": "https://localhost:8080/",
     "height": 230
    },
    "id": "vGnMWDp8cvcV",
    "outputId": "156d6a37-2d15-47f3-dc3c-4db7b3350c81"
   },
   "outputs": [
    {
     "data": {
      "text/html": [
       "<div>\n",
       "<style scoped>\n",
       "    .dataframe tbody tr th:only-of-type {\n",
       "        vertical-align: middle;\n",
       "    }\n",
       "\n",
       "    .dataframe tbody tr th {\n",
       "        vertical-align: top;\n",
       "    }\n",
       "\n",
       "    .dataframe thead th {\n",
       "        text-align: right;\n",
       "    }\n",
       "</style>\n",
       "<table border=\"1\" class=\"dataframe\">\n",
       "  <thead>\n",
       "    <tr style=\"text-align: right;\">\n",
       "      <th></th>\n",
       "      <th>business_code</th>\n",
       "      <th>cust_number</th>\n",
       "      <th>name_customer</th>\n",
       "      <th>clear_date</th>\n",
       "      <th>buisness_year</th>\n",
       "      <th>doc_id</th>\n",
       "      <th>posting_date</th>\n",
       "      <th>document_create_date</th>\n",
       "      <th>document_create_date.1</th>\n",
       "      <th>due_in_date</th>\n",
       "      <th>invoice_currency</th>\n",
       "      <th>document type</th>\n",
       "      <th>posting_id</th>\n",
       "      <th>area_business</th>\n",
       "      <th>total_open_amount</th>\n",
       "      <th>baseline_create_date</th>\n",
       "      <th>cust_payment_terms</th>\n",
       "      <th>invoice_id</th>\n",
       "      <th>isOpen</th>\n",
       "    </tr>\n",
       "  </thead>\n",
       "  <tbody>\n",
       "    <tr>\n",
       "      <th>0</th>\n",
       "      <td>U001</td>\n",
       "      <td>0200895843</td>\n",
       "      <td>US</td>\n",
       "      <td>2019-09-09 00:00:00</td>\n",
       "      <td>2019.0</td>\n",
       "      <td>1.929776e+09</td>\n",
       "      <td>2019-08-22</td>\n",
       "      <td>20190822</td>\n",
       "      <td>20190822</td>\n",
       "      <td>20190906.0</td>\n",
       "      <td>USD</td>\n",
       "      <td>RV</td>\n",
       "      <td>1.0</td>\n",
       "      <td>NaN</td>\n",
       "      <td>41386.61</td>\n",
       "      <td>20190822.0</td>\n",
       "      <td>NAA8</td>\n",
       "      <td>1.929776e+09</td>\n",
       "      <td>0</td>\n",
       "    </tr>\n",
       "    <tr>\n",
       "      <th>1</th>\n",
       "      <td>U001</td>\n",
       "      <td>0200769623</td>\n",
       "      <td>WAL-MAR</td>\n",
       "      <td>2019-11-25 00:00:00</td>\n",
       "      <td>2019.0</td>\n",
       "      <td>1.930144e+09</td>\n",
       "      <td>2019-11-12</td>\n",
       "      <td>20191112</td>\n",
       "      <td>20191112</td>\n",
       "      <td>20191127.0</td>\n",
       "      <td>USD</td>\n",
       "      <td>RV</td>\n",
       "      <td>1.0</td>\n",
       "      <td>NaN</td>\n",
       "      <td>47178.82</td>\n",
       "      <td>20191112.0</td>\n",
       "      <td>NAH4</td>\n",
       "      <td>1.930144e+09</td>\n",
       "      <td>0</td>\n",
       "    </tr>\n",
       "    <tr>\n",
       "      <th>2</th>\n",
       "      <td>U001</td>\n",
       "      <td>0200769623</td>\n",
       "      <td>WAL-MAR foundation</td>\n",
       "      <td>2019-04-23 00:00:00</td>\n",
       "      <td>2019.0</td>\n",
       "      <td>1.929131e+09</td>\n",
       "      <td>2019-04-12</td>\n",
       "      <td>20190411</td>\n",
       "      <td>20190412</td>\n",
       "      <td>20190427.0</td>\n",
       "      <td>USD</td>\n",
       "      <td>RV</td>\n",
       "      <td>1.0</td>\n",
       "      <td>NaN</td>\n",
       "      <td>51389.52</td>\n",
       "      <td>20190412.0</td>\n",
       "      <td>NAH4</td>\n",
       "      <td>1.929131e+09</td>\n",
       "      <td>0</td>\n",
       "    </tr>\n",
       "  </tbody>\n",
       "</table>\n",
       "</div>"
      ],
      "text/plain": [
       "  business_code cust_number       name_customer           clear_date  \\\n",
       "0          U001  0200895843                US    2019-09-09 00:00:00   \n",
       "1          U001  0200769623            WAL-MAR   2019-11-25 00:00:00   \n",
       "2          U001  0200769623  WAL-MAR foundation  2019-04-23 00:00:00   \n",
       "\n",
       "   buisness_year        doc_id posting_date  document_create_date  \\\n",
       "0         2019.0  1.929776e+09   2019-08-22              20190822   \n",
       "1         2019.0  1.930144e+09   2019-11-12              20191112   \n",
       "2         2019.0  1.929131e+09   2019-04-12              20190411   \n",
       "\n",
       "   document_create_date.1  due_in_date invoice_currency document type  \\\n",
       "0                20190822   20190906.0              USD            RV   \n",
       "1                20191112   20191127.0              USD            RV   \n",
       "2                20190412   20190427.0              USD            RV   \n",
       "\n",
       "   posting_id  area_business  total_open_amount  baseline_create_date  \\\n",
       "0         1.0            NaN           41386.61            20190822.0   \n",
       "1         1.0            NaN           47178.82            20191112.0   \n",
       "2         1.0            NaN           51389.52            20190412.0   \n",
       "\n",
       "  cust_payment_terms    invoice_id  isOpen  \n",
       "0               NAA8  1.929776e+09       0  \n",
       "1               NAH4  1.930144e+09       0  \n",
       "2               NAH4  1.929131e+09       0  "
      ]
     },
     "execution_count": 199,
     "metadata": {},
     "output_type": "execute_result"
    }
   ],
   "source": [
    "df = pd.read_csv('H2HBABBA1533.csv')\n",
    "df.head(3)"
   ]
  },
  {
   "cell_type": "markdown",
   "metadata": {
    "id": "Om9jNhrvqV8j"
   },
   "source": [
    "### Analysing the statistical measures of our data set"
   ]
  },
  {
   "cell_type": "code",
   "execution_count": 200,
   "metadata": {
    "colab": {
     "base_uri": "https://localhost:8080/"
    },
    "id": "xWuTIySeqdum",
    "outputId": "d2bc821f-728f-4648-d4b8-dc122f72b108"
   },
   "outputs": [
    {
     "name": "stdout",
     "output_type": "stream",
     "text": [
      "<class 'pandas.core.frame.DataFrame'>\n",
      "RangeIndex: 50000 entries, 0 to 49999\n",
      "Data columns (total 19 columns):\n",
      " #   Column                  Non-Null Count  Dtype  \n",
      "---  ------                  --------------  -----  \n",
      " 0   business_code           50000 non-null  object \n",
      " 1   cust_number             50000 non-null  object \n",
      " 2   name_customer           50000 non-null  object \n",
      " 3   clear_date              40000 non-null  object \n",
      " 4   buisness_year           50000 non-null  float64\n",
      " 5   doc_id                  50000 non-null  float64\n",
      " 6   posting_date            50000 non-null  object \n",
      " 7   document_create_date    50000 non-null  int64  \n",
      " 8   document_create_date.1  50000 non-null  int64  \n",
      " 9   due_in_date             50000 non-null  float64\n",
      " 10  invoice_currency        50000 non-null  object \n",
      " 11  document type           50000 non-null  object \n",
      " 12  posting_id              50000 non-null  float64\n",
      " 13  area_business           0 non-null      float64\n",
      " 14  total_open_amount       50000 non-null  float64\n",
      " 15  baseline_create_date    50000 non-null  float64\n",
      " 16  cust_payment_terms      50000 non-null  object \n",
      " 17  invoice_id              49996 non-null  float64\n",
      " 18  isOpen                  50000 non-null  int64  \n",
      "dtypes: float64(8), int64(3), object(8)\n",
      "memory usage: 7.2+ MB\n"
     ]
    }
   ],
   "source": [
    "df.info()"
   ]
  },
  {
   "cell_type": "code",
   "execution_count": 201,
   "metadata": {
    "colab": {
     "base_uri": "https://localhost:8080/"
    },
    "id": "zNyDRG4OqdrJ",
    "outputId": "fa53f8b6-222a-4f16-e3e7-48cb0c80c7ef"
   },
   "outputs": [
    {
     "data": {
      "text/plain": [
       "count     50000.000000\n",
       "mean      32133.379209\n",
       "std       38865.400209\n",
       "min           0.830000\n",
       "25%        4867.550000\n",
       "50%       17332.835000\n",
       "75%       47075.895000\n",
       "max      773749.610000\n",
       "Name: total_open_amount, dtype: float64"
      ]
     },
     "execution_count": 201,
     "metadata": {},
     "output_type": "execute_result"
    }
   ],
   "source": [
    "#Deriving the stastics of the amount that is yet to be paid for that invoice\n",
    "df['total_open_amount'].describe()"
   ]
  },
  {
   "cell_type": "code",
   "execution_count": 202,
   "metadata": {
    "colab": {
     "base_uri": "https://localhost:8080/",
     "height": 278
    },
    "id": "XxUMmaWJqdjI",
    "outputId": "b64fc764-f777-473d-a4dc-4d1787d72f0a"
   },
   "outputs": [
    {
     "data": {
      "image/png": "[encoded data removed]",
      "text/plain": [
       "<Figure size 432x288 with 1 Axes>"
      ]
     },
     "metadata": {},
     "output_type": "display_data"
    }
   ],
   "source": [
    "#Performing exploratory data analysis on the amount due for the invoice\n",
    "import matplotlib.pyplot as plt\n",
    "fig=df.total_open_amount.hist(bins=20)"
   ]
  },
  {
   "cell_type": "code",
   "execution_count": 203,
   "metadata": {
    "colab": {
     "base_uri": "https://localhost:8080/"
    },
    "id": "WS8Iuvzcc1-9",
    "outputId": "980742cc-b538-4f7c-dd98-12eb062790f2"
   },
   "outputs": [
    {
     "data": {
      "text/plain": [
       "business_code                 0\n",
       "cust_number                   0\n",
       "name_customer                 0\n",
       "clear_date                10000\n",
       "buisness_year                 0\n",
       "doc_id                        0\n",
       "posting_date                  0\n",
       "document_create_date          0\n",
       "document_create_date.1        0\n",
       "due_in_date                   0\n",
       "invoice_currency              0\n",
       "document type                 0\n",
       "posting_id                    0\n",
       "area_business             50000\n",
       "total_open_amount             0\n",
       "baseline_create_date          0\n",
       "cust_payment_terms            0\n",
       "invoice_id                    4\n",
       "isOpen                        0\n",
       "dtype: int64"
      ]
     },
     "execution_count": 203,
     "metadata": {},
     "output_type": "execute_result"
    }
   ],
   "source": [
    "df.isnull().sum()"
   ]
  },
  {
   "cell_type": "code",
   "execution_count": 204,
   "metadata": {
    "colab": {
     "base_uri": "https://localhost:8080/"
    },
    "id": "Vraun-SxhsRm",
    "outputId": "942527df-f505-4601-b4ed-f1faa4870407"
   },
   "outputs": [
    {
     "data": {
      "text/plain": [
       "business_code                 6\n",
       "cust_number                1412\n",
       "name_customer              4250\n",
       "clear_date                  397\n",
       "buisness_year                 2\n",
       "doc_id                    48788\n",
       "posting_date                502\n",
       "document_create_date        506\n",
       "document_create_date.1      502\n",
       "due_in_date                 546\n",
       "invoice_currency              2\n",
       "document type                 2\n",
       "posting_id                    1\n",
       "area_business                 0\n",
       "total_open_amount         44166\n",
       "baseline_create_date        505\n",
       "cust_payment_terms           73\n",
       "invoice_id                48784\n",
       "isOpen                        2\n",
       "dtype: int64"
      ]
     },
     "execution_count": 204,
     "metadata": {},
     "output_type": "execute_result"
    }
   ],
   "source": [
    "df.nunique()"
   ]
  },
  {
   "cell_type": "markdown",
   "metadata": {
    "id": "USZK39P_tu2S"
   },
   "source": [
    "### Dropping Constant, Quasi-constant, and Null columns"
   ]
  },
  {
   "cell_type": "code",
   "execution_count": 205,
   "metadata": {
    "colab": {
     "base_uri": "https://localhost:8080/"
    },
    "id": "KnnzXdiViOVr",
    "outputId": "086e9d59-2667-4b44-8a74-745145771c0a"
   },
   "outputs": [
    {
     "name": "stdout",
     "output_type": "stream",
     "text": [
      "1.0    50000\n",
      "Name: posting_id, dtype: int64\n",
      "1.929807e+09    3\n",
      "1.928856e+09    3\n",
      "1.929868e+09    3\n",
      "1.929196e+09    3\n",
      "1.930828e+09    3\n",
      "               ..\n",
      "1.930549e+09    1\n",
      "1.930214e+09    1\n",
      "1.928826e+09    1\n",
      "1.929491e+09    1\n",
      "1.928814e+09    1\n",
      "Name: doc_id, Length: 48788, dtype: int64\n"
     ]
    }
   ],
   "source": [
    "#Dropping primary key columns doc_id and invoice_id as they have unique values at all data points\n",
    "#Dropping posting_id since it is a constant column\n",
    "print(df['posting_id'].value_counts())\n",
    "print(df['doc_id'].value_counts())"
   ]
  },
  {
   "cell_type": "code",
   "execution_count": 206,
   "metadata": {
    "id": "AXTwuUkFj3Jj"
   },
   "outputs": [],
   "source": [
    "df.drop(columns=['area_business','posting_id','doc_id','invoice_id'], axis=1, inplace=True)"
   ]
  },
  {
   "cell_type": "code",
   "execution_count": 207,
   "metadata": {
    "colab": {
     "base_uri": "https://localhost:8080/",
     "height": 230
    },
    "id": "bGV0lANake9T",
    "outputId": "98e37cfb-428b-4506-8304-d16173659804"
   },
   "outputs": [
    {
     "data": {
      "text/html": [
       "<div>\n",
       "<style scoped>\n",
       "    .dataframe tbody tr th:only-of-type {\n",
       "        vertical-align: middle;\n",
       "    }\n",
       "\n",
       "    .dataframe tbody tr th {\n",
       "        vertical-align: top;\n",
       "    }\n",
       "\n",
       "    .dataframe thead th {\n",
       "        text-align: right;\n",
       "    }\n",
       "</style>\n",
       "<table border=\"1\" class=\"dataframe\">\n",
       "  <thead>\n",
       "    <tr style=\"text-align: right;\">\n",
       "      <th></th>\n",
       "      <th>business_code</th>\n",
       "      <th>cust_number</th>\n",
       "      <th>name_customer</th>\n",
       "      <th>clear_date</th>\n",
       "      <th>buisness_year</th>\n",
       "      <th>posting_date</th>\n",
       "      <th>document_create_date</th>\n",
       "      <th>document_create_date.1</th>\n",
       "      <th>due_in_date</th>\n",
       "      <th>invoice_currency</th>\n",
       "      <th>document type</th>\n",
       "      <th>total_open_amount</th>\n",
       "      <th>baseline_create_date</th>\n",
       "      <th>cust_payment_terms</th>\n",
       "      <th>isOpen</th>\n",
       "    </tr>\n",
       "  </thead>\n",
       "  <tbody>\n",
       "    <tr>\n",
       "      <th>0</th>\n",
       "      <td>U001</td>\n",
       "      <td>0200895843</td>\n",
       "      <td>US</td>\n",
       "      <td>2019-09-09 00:00:00</td>\n",
       "      <td>2019.0</td>\n",
       "      <td>2019-08-22</td>\n",
       "      <td>20190822</td>\n",
       "      <td>20190822</td>\n",
       "      <td>20190906.0</td>\n",
       "      <td>USD</td>\n",
       "      <td>RV</td>\n",
       "      <td>41386.61</td>\n",
       "      <td>20190822.0</td>\n",
       "      <td>NAA8</td>\n",
       "      <td>0</td>\n",
       "    </tr>\n",
       "    <tr>\n",
       "      <th>1</th>\n",
       "      <td>U001</td>\n",
       "      <td>0200769623</td>\n",
       "      <td>WAL-MAR</td>\n",
       "      <td>2019-11-25 00:00:00</td>\n",
       "      <td>2019.0</td>\n",
       "      <td>2019-11-12</td>\n",
       "      <td>20191112</td>\n",
       "      <td>20191112</td>\n",
       "      <td>20191127.0</td>\n",
       "      <td>USD</td>\n",
       "      <td>RV</td>\n",
       "      <td>47178.82</td>\n",
       "      <td>20191112.0</td>\n",
       "      <td>NAH4</td>\n",
       "      <td>0</td>\n",
       "    </tr>\n",
       "    <tr>\n",
       "      <th>2</th>\n",
       "      <td>U001</td>\n",
       "      <td>0200769623</td>\n",
       "      <td>WAL-MAR foundation</td>\n",
       "      <td>2019-04-23 00:00:00</td>\n",
       "      <td>2019.0</td>\n",
       "      <td>2019-04-12</td>\n",
       "      <td>20190411</td>\n",
       "      <td>20190412</td>\n",
       "      <td>20190427.0</td>\n",
       "      <td>USD</td>\n",
       "      <td>RV</td>\n",
       "      <td>51389.52</td>\n",
       "      <td>20190412.0</td>\n",
       "      <td>NAH4</td>\n",
       "      <td>0</td>\n",
       "    </tr>\n",
       "  </tbody>\n",
       "</table>\n",
       "</div>"
      ],
      "text/plain": [
       "  business_code cust_number       name_customer           clear_date  \\\n",
       "0          U001  0200895843                US    2019-09-09 00:00:00   \n",
       "1          U001  0200769623            WAL-MAR   2019-11-25 00:00:00   \n",
       "2          U001  0200769623  WAL-MAR foundation  2019-04-23 00:00:00   \n",
       "\n",
       "   buisness_year posting_date  document_create_date  document_create_date.1  \\\n",
       "0         2019.0   2019-08-22              20190822                20190822   \n",
       "1         2019.0   2019-11-12              20191112                20191112   \n",
       "2         2019.0   2019-04-12              20190411                20190412   \n",
       "\n",
       "   due_in_date invoice_currency document type  total_open_amount  \\\n",
       "0   20190906.0              USD            RV           41386.61   \n",
       "1   20191127.0              USD            RV           47178.82   \n",
       "2   20190427.0              USD            RV           51389.52   \n",
       "\n",
       "   baseline_create_date cust_payment_terms  isOpen  \n",
       "0            20190822.0               NAA8       0  \n",
       "1            20191112.0               NAH4       0  \n",
       "2            20190412.0               NAH4       0  "
      ]
     },
     "execution_count": 207,
     "metadata": {},
     "output_type": "execute_result"
    }
   ],
   "source": [
    "df.head(3)"
   ]
  },
  {
   "cell_type": "markdown",
   "metadata": {
    "id": "EMQsq3HulMDA"
   },
   "source": [
    "**Checking for quasi-constant values**"
   ]
  },
  {
   "cell_type": "code",
   "execution_count": 208,
   "metadata": {
    "colab": {
     "base_uri": "https://localhost:8080/"
    },
    "id": "KW4GjR_ZkhGi",
    "outputId": "b73aee56-1043-42cb-9528-89c3fc3b3bc9"
   },
   "outputs": [
    {
     "data": {
      "text/plain": [
       "2019.0    0.69666\n",
       "2020.0    0.30334\n",
       "Name: buisness_year, dtype: float64"
      ]
     },
     "execution_count": 208,
     "metadata": {},
     "output_type": "execute_result"
    }
   ],
   "source": [
    "#Percentage of observations showing each of the different values\n",
    "df['buisness_year'].value_counts()/50000"
   ]
  },
  {
   "cell_type": "code",
   "execution_count": 209,
   "metadata": {
    "colab": {
     "base_uri": "https://localhost:8080/"
    },
    "id": "tej1hlTFpf2I",
    "outputId": "4f9d0bfe-881d-4cb3-ea04-fd3dbecb8806"
   },
   "outputs": [
    {
     "data": {
      "text/plain": [
       "0    0.8\n",
       "1    0.2\n",
       "Name: isOpen, dtype: float64"
      ]
     },
     "execution_count": 209,
     "metadata": {},
     "output_type": "execute_result"
    }
   ],
   "source": [
    "df['isOpen'].value_counts()/50000"
   ]
  },
  {
   "cell_type": "code",
   "execution_count": 210,
   "metadata": {
    "colab": {
     "base_uri": "https://localhost:8080/"
    },
    "id": "ex0ivbAbpuob",
    "outputId": "f991261e-fdbe-4507-c047-f5ac8b387b65"
   },
   "outputs": [
    {
     "data": {
      "text/plain": [
       "RV    0.99992\n",
       "X2    0.00008\n",
       "Name: document type, dtype: float64"
      ]
     },
     "execution_count": 210,
     "metadata": {},
     "output_type": "execute_result"
    }
   ],
   "source": [
    "df['document type'].value_counts()/50000"
   ]
  },
  {
   "cell_type": "code",
   "execution_count": 211,
   "metadata": {
    "id": "9exGtvgipv3R"
   },
   "outputs": [],
   "source": [
    "#dropping document type column since it is a constant column\n",
    "df.drop(columns = 'document type' , inplace = True)"
   ]
  },
  {
   "cell_type": "code",
   "execution_count": 212,
   "metadata": {
    "colab": {
     "base_uri": "https://localhost:8080/"
    },
    "id": "gPp_askTqA7D",
    "outputId": "aadd800c-4ed6-451c-c464-5fbe787d8cee"
   },
   "outputs": [
    {
     "data": {
      "text/plain": [
       "USD    0.9237\n",
       "CAD    0.0763\n",
       "Name: invoice_currency, dtype: float64"
      ]
     },
     "execution_count": 212,
     "metadata": {},
     "output_type": "execute_result"
    }
   ],
   "source": [
    "df['invoice_currency'].value_counts()/50000"
   ]
  },
  {
   "cell_type": "markdown",
   "metadata": {
    "id": "ZX02EKPuqmbS"
   },
   "source": [
    "**Convert date columns to datetime**"
   ]
  },
  {
   "cell_type": "code",
   "execution_count": 213,
   "metadata": {
    "id": "arrPFzdwuGfi"
   },
   "outputs": [],
   "source": [
    "df['buisness_year']=df['buisness_year'].astype('int')"
   ]
  },
  {
   "cell_type": "code",
   "execution_count": 214,
   "metadata": {
    "id": "03YIGGauqPDG"
   },
   "outputs": [],
   "source": [
    "df['clear_date']= pd.to_datetime(df['clear_date']) \n",
    "df['due_in_date'] = pd.to_datetime(df['due_in_date'],format='%Y%m%d')"
   ]
  },
  {
   "cell_type": "code",
   "execution_count": 215,
   "metadata": {
    "id": "EP7Mq4QJrHNU"
   },
   "outputs": [],
   "source": [
    "# Converting all the date columns into datetime format\n",
    "df[['document_create_date','document_create_date.1','baseline_create_date']]=df[['document_create_date','document_create_date.1','baseline_create_date']].apply(pd.to_datetime, format='%Y%m%d')"
   ]
  },
  {
   "cell_type": "code",
   "execution_count": 216,
   "metadata": {
    "colab": {
     "base_uri": "https://localhost:8080/"
    },
    "id": "RdhDObRhi_C6",
    "outputId": "f932ecba-3e9a-4e82-c62f-46a46bff6ac4"
   },
   "outputs": [
    {
     "data": {
      "text/plain": [
       "0"
      ]
     },
     "execution_count": 216,
     "metadata": {},
     "output_type": "execute_result"
    }
   ],
   "source": [
    "# transpose the dataframe, so that the columns are the rows of the new dataframe\n",
    "data_t = df.T\n",
    "\n",
    "# check if there are duplicated rows (the columns of the original dataframe)\n",
    "# this is a computionally expensive operation, so it might take a while\n",
    "# sum indicates how many rows are duplicated\n",
    "\n",
    "data_t.duplicated().sum()"
   ]
  },
  {
   "cell_type": "markdown",
   "metadata": {
    "id": "lMFcz-nJujpY"
   },
   "source": [
    "Checking for date discrepancies"
   ]
  },
  {
   "cell_type": "code",
   "execution_count": 217,
   "metadata": {
    "id": "Zy_HA122ui3O"
   },
   "outputs": [],
   "source": [
    "values1=df[df['clear_date']<df['document_create_date.1']].index"
   ]
  },
  {
   "cell_type": "code",
   "execution_count": 218,
   "metadata": {
    "colab": {
     "base_uri": "https://localhost:8080/"
    },
    "id": "pQ480QsUusPH",
    "outputId": "26307430-81ec-4d3f-f67b-b0bc0c386043"
   },
   "outputs": [
    {
     "data": {
      "text/plain": [
       "Int64Index([], dtype='int64')"
      ]
     },
     "execution_count": 218,
     "metadata": {},
     "output_type": "execute_result"
    }
   ],
   "source": [
    "values1 #Anomaly in data because clear_date can't be before the document_create_date.1"
   ]
  },
  {
   "cell_type": "code",
   "execution_count": 219,
   "metadata": {
    "id": "5KlSQrVuusJr"
   },
   "outputs": [],
   "source": [
    "values2=df[df['due_in_date']<df['document_create_date.1']].index"
   ]
  },
  {
   "cell_type": "code",
   "execution_count": 220,
   "metadata": {
    "colab": {
     "base_uri": "https://localhost:8080/"
    },
    "id": "VaEfQ-NJvEBZ",
    "outputId": "ebe072da-fb21-43e0-95c1-80e4a3b30a62"
   },
   "outputs": [
    {
     "data": {
      "text/plain": [
       "Int64Index([  346,   422,   746,   893,  1154,  1367,  1929,  2434,  3202,\n",
       "             3208,\n",
       "            ...\n",
       "            46161, 46618, 47337, 47356, 47432, 47616, 47793, 47828, 49146,\n",
       "            49500],\n",
       "           dtype='int64', length=146)"
      ]
     },
     "execution_count": 220,
     "metadata": {},
     "output_type": "execute_result"
    }
   ],
   "source": [
    "values2 #Anomalies found in data because due_in_date can't be before the document_create_date.1"
   ]
  },
  {
   "cell_type": "code",
   "execution_count": 221,
   "metadata": {
    "id": "zMIJbVivvkl-"
   },
   "outputs": [],
   "source": [
    "values3=df[df['clear_date']<df['baseline_create_date']].index #Anomalies found with clear_date before baseline_date that needs to be dropped"
   ]
  },
  {
   "cell_type": "code",
   "execution_count": 222,
   "metadata": {
    "colab": {
     "base_uri": "https://localhost:8080/"
    },
    "id": "RcI7mu1nvqBW",
    "outputId": "e07f0062-0f7f-4c63-e672-a45cfb64de9b"
   },
   "outputs": [
    {
     "data": {
      "text/plain": [
       "Int64Index([20089, 47223], dtype='int64')"
      ]
     },
     "execution_count": 222,
     "metadata": {},
     "output_type": "execute_result"
    }
   ],
   "source": [
    "values3"
   ]
  },
  {
   "cell_type": "code",
   "execution_count": 223,
   "metadata": {
    "id": "rPM3RoX_wX_n"
   },
   "outputs": [],
   "source": [
    "values4=df[df['due_in_date']<df['baseline_create_date']].index"
   ]
  },
  {
   "cell_type": "code",
   "execution_count": 224,
   "metadata": {
    "colab": {
     "base_uri": "https://localhost:8080/"
    },
    "id": "DDkVXohswZmG",
    "outputId": "84091831-b04f-4b0a-cd3f-ccc9801b1e31"
   },
   "outputs": [
    {
     "data": {
      "text/plain": [
       "Int64Index([], dtype='int64')"
      ]
     },
     "execution_count": 224,
     "metadata": {},
     "output_type": "execute_result"
    }
   ],
   "source": [
    "values4"
   ]
  },
  {
   "cell_type": "code",
   "execution_count": 225,
   "metadata": {
    "id": "-30QFpOVNm_5"
   },
   "outputs": [],
   "source": [
    "is_same=df['posting_date']==df['document_create_date.1']"
   ]
  },
  {
   "cell_type": "code",
   "execution_count": 226,
   "metadata": {
    "colab": {
     "base_uri": "https://localhost:8080/"
    },
    "id": "eSW5WaeUNslu",
    "outputId": "dab317ed-5cb1-4757-eb1d-945886f7d386"
   },
   "outputs": [
    {
     "data": {
      "text/plain": [
       "True     49996\n",
       "False        4\n",
       "dtype: int64"
      ]
     },
     "execution_count": 226,
     "metadata": {},
     "output_type": "execute_result"
    }
   ],
   "source": [
    "is_same.value_counts() #since values are nearly same, we are going to drop this column."
   ]
  },
  {
   "cell_type": "markdown",
   "metadata": {
    "id": "bNQ_r3MovN53"
   },
   "source": [
    "Dropping rows that contain date discrepancies"
   ]
  },
  {
   "cell_type": "code",
   "execution_count": 227,
   "metadata": {
    "id": "8VzKd1WmvMx9"
   },
   "outputs": [],
   "source": [
    "df.drop(values2,inplace=True)"
   ]
  },
  {
   "cell_type": "code",
   "execution_count": 228,
   "metadata": {
    "id": "VU-2w9nxwR4Q"
   },
   "outputs": [],
   "source": [
    "df.drop(values3,inplace=True)"
   ]
  },
  {
   "cell_type": "code",
   "execution_count": 229,
   "metadata": {
    "id": "Wtp0OYcMvrqg"
   },
   "outputs": [],
   "source": [
    "df.drop(values4,inplace=True)"
   ]
  },
  {
   "cell_type": "code",
   "execution_count": 230,
   "metadata": {
    "id": "6X4Hb39ewndL"
   },
   "outputs": [],
   "source": [
    "#Dropping document_create_date since we will be working on document_create_date.1\n",
    "df.drop('document_create_date',axis=1,inplace=True)"
   ]
  },
  {
   "cell_type": "code",
   "execution_count": 231,
   "metadata": {
    "id": "gfCGD2R-PFZ2"
   },
   "outputs": [],
   "source": [
    "df.drop(columns = 'posting_date' , inplace = True)"
   ]
  },
  {
   "cell_type": "markdown",
   "metadata": {
    "id": "NSRNRWzdw98z"
   },
   "source": [
    "Sorting the DataFrame according to our target column"
   ]
  },
  {
   "cell_type": "code",
   "execution_count": 232,
   "metadata": {
    "id": "NRBhZnnyw-0y"
   },
   "outputs": [],
   "source": [
    "df = df.sort_values(['document_create_date.1'], ascending = (True))#sort the given data in terms of clear date"
   ]
  },
  {
   "cell_type": "code",
   "execution_count": 233,
   "metadata": {
    "colab": {
     "base_uri": "https://localhost:8080/",
     "height": 222
    },
    "id": "iRH1EFcfxKVJ",
    "outputId": "b89aa8a0-80d2-4449-ce3b-171c667847ba"
   },
   "outputs": [
    {
     "data": {
      "text/html": [
       "<div>\n",
       "<style scoped>\n",
       "    .dataframe tbody tr th:only-of-type {\n",
       "        vertical-align: middle;\n",
       "    }\n",
       "\n",
       "    .dataframe tbody tr th {\n",
       "        vertical-align: top;\n",
       "    }\n",
       "\n",
       "    .dataframe thead th {\n",
       "        text-align: right;\n",
       "    }\n",
       "</style>\n",
       "<table border=\"1\" class=\"dataframe\">\n",
       "  <thead>\n",
       "    <tr style=\"text-align: right;\">\n",
       "      <th></th>\n",
       "      <th>business_code</th>\n",
       "      <th>cust_number</th>\n",
       "      <th>name_customer</th>\n",
       "      <th>clear_date</th>\n",
       "      <th>buisness_year</th>\n",
       "      <th>document_create_date.1</th>\n",
       "      <th>due_in_date</th>\n",
       "      <th>invoice_currency</th>\n",
       "      <th>total_open_amount</th>\n",
       "      <th>baseline_create_date</th>\n",
       "      <th>cust_payment_terms</th>\n",
       "      <th>isOpen</th>\n",
       "    </tr>\n",
       "  </thead>\n",
       "  <tbody>\n",
       "    <tr>\n",
       "      <th>32625</th>\n",
       "      <td>U001</td>\n",
       "      <td>0200759878</td>\n",
       "      <td>SA corp</td>\n",
       "      <td>2019-01-15</td>\n",
       "      <td>2019</td>\n",
       "      <td>2018-12-30</td>\n",
       "      <td>2019-01-14</td>\n",
       "      <td>USD</td>\n",
       "      <td>14869.30</td>\n",
       "      <td>2018-12-30</td>\n",
       "      <td>NAH4</td>\n",
       "      <td>0</td>\n",
       "    </tr>\n",
       "    <tr>\n",
       "      <th>32031</th>\n",
       "      <td>U001</td>\n",
       "      <td>0200769623</td>\n",
       "      <td>WAL-MAR</td>\n",
       "      <td>2019-01-11</td>\n",
       "      <td>2019</td>\n",
       "      <td>2018-12-30</td>\n",
       "      <td>2019-01-14</td>\n",
       "      <td>USD</td>\n",
       "      <td>49677.54</td>\n",
       "      <td>2018-12-30</td>\n",
       "      <td>NAH4</td>\n",
       "      <td>0</td>\n",
       "    </tr>\n",
       "    <tr>\n",
       "      <th>11185</th>\n",
       "      <td>U001</td>\n",
       "      <td>0200726979</td>\n",
       "      <td>BJ'S  systems</td>\n",
       "      <td>2019-01-22</td>\n",
       "      <td>2019</td>\n",
       "      <td>2018-12-30</td>\n",
       "      <td>2019-01-14</td>\n",
       "      <td>USD</td>\n",
       "      <td>16515.44</td>\n",
       "      <td>2018-12-30</td>\n",
       "      <td>NAA8</td>\n",
       "      <td>0</td>\n",
       "    </tr>\n",
       "    <tr>\n",
       "      <th>48522</th>\n",
       "      <td>U001</td>\n",
       "      <td>0200769623</td>\n",
       "      <td>WAL-MAR us</td>\n",
       "      <td>2019-01-10</td>\n",
       "      <td>2019</td>\n",
       "      <td>2018-12-30</td>\n",
       "      <td>2019-01-14</td>\n",
       "      <td>USD</td>\n",
       "      <td>50901.85</td>\n",
       "      <td>2018-12-30</td>\n",
       "      <td>NAH4</td>\n",
       "      <td>0</td>\n",
       "    </tr>\n",
       "    <tr>\n",
       "      <th>12056</th>\n",
       "      <td>U001</td>\n",
       "      <td>0200726979</td>\n",
       "      <td>BJ'S  co</td>\n",
       "      <td>2019-01-15</td>\n",
       "      <td>2019</td>\n",
       "      <td>2018-12-30</td>\n",
       "      <td>2019-01-14</td>\n",
       "      <td>USD</td>\n",
       "      <td>201.39</td>\n",
       "      <td>2018-12-30</td>\n",
       "      <td>NAA8</td>\n",
       "      <td>0</td>\n",
       "    </tr>\n",
       "  </tbody>\n",
       "</table>\n",
       "</div>"
      ],
      "text/plain": [
       "      business_code cust_number  name_customer clear_date  buisness_year  \\\n",
       "32625          U001  0200759878        SA corp 2019-01-15           2019   \n",
       "32031          U001  0200769623       WAL-MAR  2019-01-11           2019   \n",
       "11185          U001  0200726979  BJ'S  systems 2019-01-22           2019   \n",
       "48522          U001  0200769623     WAL-MAR us 2019-01-10           2019   \n",
       "12056          U001  0200726979       BJ'S  co 2019-01-15           2019   \n",
       "\n",
       "      document_create_date.1 due_in_date invoice_currency  total_open_amount  \\\n",
       "32625             2018-12-30  2019-01-14              USD           14869.30   \n",
       "32031             2018-12-30  2019-01-14              USD           49677.54   \n",
       "11185             2018-12-30  2019-01-14              USD           16515.44   \n",
       "48522             2018-12-30  2019-01-14              USD           50901.85   \n",
       "12056             2018-12-30  2019-01-14              USD             201.39   \n",
       "\n",
       "      baseline_create_date cust_payment_terms  isOpen  \n",
       "32625           2018-12-30               NAH4       0  \n",
       "32031           2018-12-30               NAH4       0  \n",
       "11185           2018-12-30               NAA8       0  \n",
       "48522           2018-12-30               NAH4       0  \n",
       "12056           2018-12-30               NAA8       0  "
      ]
     },
     "execution_count": 233,
     "metadata": {},
     "output_type": "execute_result"
    }
   ],
   "source": [
    "df.head()"
   ]
  },
  {
   "cell_type": "markdown",
   "metadata": {
    "id": "MuYG94un8oWl"
   },
   "source": [
    "### Encoding our categorical columns"
   ]
  },
  {
   "cell_type": "code",
   "execution_count": 234,
   "metadata": {
    "id": "n-m6cHjX8oxK"
   },
   "outputs": [],
   "source": [
    "from sklearn.preprocessing import LabelEncoder\n",
    "le=LabelEncoder()"
   ]
  },
  {
   "cell_type": "code",
   "execution_count": 235,
   "metadata": {
    "id": "WcWSIDsW9W3X"
   },
   "outputs": [],
   "source": [
    "df[\"business_code\"]=le.fit_transform(df[\"business_code\"])\n",
    "df[\"name_customer\"]=le.fit_transform(df[\"name_customer\"])\n",
    "df[\"invoice_currency\"]=le.fit_transform(df[\"invoice_currency\"])\n",
    "df[\"cust_payment_terms\"]=le.fit_transform(df[\"cust_payment_terms\"])"
   ]
  },
  {
   "cell_type": "code",
   "execution_count": 236,
   "metadata": {
    "colab": {
     "base_uri": "https://localhost:8080/",
     "height": 527
    },
    "id": "vWc5y2TU2sX_",
    "outputId": "ee677cfb-bfb0-472d-ae95-b9450888278e"
   },
   "outputs": [
    {
     "data": {
      "image/png": "[encoded data removed]",
      "text/plain": [
       "<Figure size 648x504 with 2 Axes>"
      ]
     },
     "metadata": {},
     "output_type": "display_data"
    }
   ],
   "source": [
    "import seaborn as sns\n",
    "fig, ax = plt.subplots(figsize=(9, 7))\n",
    "sns.heatmap(df.corr(),cmap=\"Blues\")\n",
    "sns.set()\n",
    "plt.show()"
   ]
  },
  {
   "cell_type": "markdown",
   "metadata": {
    "id": "lWzeENR5kscL"
   },
   "source": [
    "Converting the currency of total open amount"
   ]
  },
  {
   "cell_type": "code",
   "execution_count": 237,
   "metadata": {
    "id": "0s51Gj_sjGTX"
   },
   "outputs": [],
   "source": [
    "import numpy as np\n",
    "df[\"total_open_amount\"]=np.where(df[\"invoice_currency\"]==\"USD\", df[\"total_open_amount\"],0.78*df[\"total_open_amount\"])"
   ]
  },
  {
   "cell_type": "code",
   "execution_count": 238,
   "metadata": {
    "id": "oaLjLUWBlion"
   },
   "outputs": [],
   "source": [
    "#Dropping column invoice_currency since it is useless\n",
    "df.drop('invoice_currency',axis=1,inplace=True)"
   ]
  },
  {
   "cell_type": "markdown",
   "metadata": {
    "id": "2dTvZwww2Q0s"
   },
   "source": [
    "### Train-Test-Validation Split"
   ]
  },
  {
   "cell_type": "code",
   "execution_count": 239,
   "metadata": {
    "id": "nH_xPaK8lyAh"
   },
   "outputs": [],
   "source": [
    "train=df.dropna(axis = 0, how='any')\n",
    "train.reset_index(drop=True,inplace=True)"
   ]
  },
  {
   "cell_type": "code",
   "execution_count": 240,
   "metadata": {
    "colab": {
     "base_uri": "https://localhost:8080/",
     "height": 161
    },
    "id": "TFug6e1Y0EMZ",
    "outputId": "d72ee880-6808-4a4b-f55c-9436aaf95951"
   },
   "outputs": [
    {
     "data": {
      "text/html": [
       "<div>\n",
       "<style scoped>\n",
       "    .dataframe tbody tr th:only-of-type {\n",
       "        vertical-align: middle;\n",
       "    }\n",
       "\n",
       "    .dataframe tbody tr th {\n",
       "        vertical-align: top;\n",
       "    }\n",
       "\n",
       "    .dataframe thead th {\n",
       "        text-align: right;\n",
       "    }\n",
       "</style>\n",
       "<table border=\"1\" class=\"dataframe\">\n",
       "  <thead>\n",
       "    <tr style=\"text-align: right;\">\n",
       "      <th></th>\n",
       "      <th>business_code</th>\n",
       "      <th>cust_number</th>\n",
       "      <th>name_customer</th>\n",
       "      <th>clear_date</th>\n",
       "      <th>buisness_year</th>\n",
       "      <th>document_create_date.1</th>\n",
       "      <th>due_in_date</th>\n",
       "      <th>total_open_amount</th>\n",
       "      <th>baseline_create_date</th>\n",
       "      <th>cust_payment_terms</th>\n",
       "      <th>isOpen</th>\n",
       "    </tr>\n",
       "  </thead>\n",
       "  <tbody>\n",
       "    <tr>\n",
       "      <th>0</th>\n",
       "      <td>1</td>\n",
       "      <td>0200759878</td>\n",
       "      <td>3284</td>\n",
       "      <td>2019-01-15</td>\n",
       "      <td>2019</td>\n",
       "      <td>2018-12-30</td>\n",
       "      <td>2019-01-14</td>\n",
       "      <td>11598.0540</td>\n",
       "      <td>2018-12-30</td>\n",
       "      <td>38</td>\n",
       "      <td>0</td>\n",
       "    </tr>\n",
       "    <tr>\n",
       "      <th>1</th>\n",
       "      <td>1</td>\n",
       "      <td>0200769623</td>\n",
       "      <td>4104</td>\n",
       "      <td>2019-01-11</td>\n",
       "      <td>2019</td>\n",
       "      <td>2018-12-30</td>\n",
       "      <td>2019-01-14</td>\n",
       "      <td>38748.4812</td>\n",
       "      <td>2018-12-30</td>\n",
       "      <td>38</td>\n",
       "      <td>0</td>\n",
       "    </tr>\n",
       "    <tr>\n",
       "      <th>2</th>\n",
       "      <td>1</td>\n",
       "      <td>0200726979</td>\n",
       "      <td>427</td>\n",
       "      <td>2019-01-22</td>\n",
       "      <td>2019</td>\n",
       "      <td>2018-12-30</td>\n",
       "      <td>2019-01-14</td>\n",
       "      <td>12882.0432</td>\n",
       "      <td>2018-12-30</td>\n",
       "      <td>22</td>\n",
       "      <td>0</td>\n",
       "    </tr>\n",
       "  </tbody>\n",
       "</table>\n",
       "</div>"
      ],
      "text/plain": [
       "   business_code cust_number  name_customer clear_date  buisness_year  \\\n",
       "0              1  0200759878           3284 2019-01-15           2019   \n",
       "1              1  0200769623           4104 2019-01-11           2019   \n",
       "2              1  0200726979            427 2019-01-22           2019   \n",
       "\n",
       "  document_create_date.1 due_in_date  total_open_amount baseline_create_date  \\\n",
       "0             2018-12-30  2019-01-14         11598.0540           2018-12-30   \n",
       "1             2018-12-30  2019-01-14         38748.4812           2018-12-30   \n",
       "2             2018-12-30  2019-01-14         12882.0432           2018-12-30   \n",
       "\n",
       "   cust_payment_terms  isOpen  \n",
       "0                  38       0  \n",
       "1                  38       0  \n",
       "2                  22       0  "
      ]
     },
     "execution_count": 240,
     "metadata": {},
     "output_type": "execute_result"
    }
   ],
   "source": [
    "train.head(3)"
   ]
  },
  {
   "cell_type": "code",
   "execution_count": 241,
   "metadata": {
    "id": "1Ms6viTlCSCg"
   },
   "outputs": [],
   "source": [
    "test=df[df.clear_date.isnull()]"
   ]
  },
  {
   "cell_type": "code",
   "execution_count": 242,
   "metadata": {
    "colab": {
     "base_uri": "https://localhost:8080/",
     "height": 222
    },
    "id": "LbHkPRkSybVM",
    "outputId": "d291e257-ecb7-4eba-e69c-21ab71d4aaa6"
   },
   "outputs": [
    {
     "data": {
      "text/html": [
       "<div>\n",
       "<style scoped>\n",
       "    .dataframe tbody tr th:only-of-type {\n",
       "        vertical-align: middle;\n",
       "    }\n",
       "\n",
       "    .dataframe tbody tr th {\n",
       "        vertical-align: top;\n",
       "    }\n",
       "\n",
       "    .dataframe thead th {\n",
       "        text-align: right;\n",
       "    }\n",
       "</style>\n",
       "<table border=\"1\" class=\"dataframe\">\n",
       "  <thead>\n",
       "    <tr style=\"text-align: right;\">\n",
       "      <th></th>\n",
       "      <th>business_code</th>\n",
       "      <th>cust_number</th>\n",
       "      <th>name_customer</th>\n",
       "      <th>clear_date</th>\n",
       "      <th>buisness_year</th>\n",
       "      <th>document_create_date.1</th>\n",
       "      <th>due_in_date</th>\n",
       "      <th>total_open_amount</th>\n",
       "      <th>baseline_create_date</th>\n",
       "      <th>cust_payment_terms</th>\n",
       "      <th>isOpen</th>\n",
       "    </tr>\n",
       "  </thead>\n",
       "  <tbody>\n",
       "    <tr>\n",
       "      <th>29647</th>\n",
       "      <td>1</td>\n",
       "      <td>0200974851</td>\n",
       "      <td>3185</td>\n",
       "      <td>NaT</td>\n",
       "      <td>2020</td>\n",
       "      <td>2020-02-27</td>\n",
       "      <td>2020-03-18</td>\n",
       "      <td>5740.4334</td>\n",
       "      <td>2020-02-27</td>\n",
       "      <td>32</td>\n",
       "      <td>1</td>\n",
       "    </tr>\n",
       "    <tr>\n",
       "      <th>5343</th>\n",
       "      <td>1</td>\n",
       "      <td>0200705742</td>\n",
       "      <td>1113</td>\n",
       "      <td>NaT</td>\n",
       "      <td>2020</td>\n",
       "      <td>2020-02-27</td>\n",
       "      <td>2020-03-18</td>\n",
       "      <td>63307.0230</td>\n",
       "      <td>2020-02-27</td>\n",
       "      <td>32</td>\n",
       "      <td>1</td>\n",
       "    </tr>\n",
       "    <tr>\n",
       "      <th>40552</th>\n",
       "      <td>1</td>\n",
       "      <td>0200762301</td>\n",
       "      <td>563</td>\n",
       "      <td>NaT</td>\n",
       "      <td>2020</td>\n",
       "      <td>2020-02-27</td>\n",
       "      <td>2020-03-13</td>\n",
       "      <td>18030.7608</td>\n",
       "      <td>2020-02-27</td>\n",
       "      <td>27</td>\n",
       "      <td>1</td>\n",
       "    </tr>\n",
       "    <tr>\n",
       "      <th>17456</th>\n",
       "      <td>1</td>\n",
       "      <td>0200763489</td>\n",
       "      <td>1444</td>\n",
       "      <td>NaT</td>\n",
       "      <td>2020</td>\n",
       "      <td>2020-02-27</td>\n",
       "      <td>2020-05-02</td>\n",
       "      <td>10218.7878</td>\n",
       "      <td>2020-02-27</td>\n",
       "      <td>37</td>\n",
       "      <td>1</td>\n",
       "    </tr>\n",
       "    <tr>\n",
       "      <th>6297</th>\n",
       "      <td>1</td>\n",
       "      <td>0200772670</td>\n",
       "      <td>245</td>\n",
       "      <td>NaT</td>\n",
       "      <td>2020</td>\n",
       "      <td>2020-02-27</td>\n",
       "      <td>2020-03-13</td>\n",
       "      <td>778.3776</td>\n",
       "      <td>2020-02-27</td>\n",
       "      <td>53</td>\n",
       "      <td>1</td>\n",
       "    </tr>\n",
       "  </tbody>\n",
       "</table>\n",
       "</div>"
      ],
      "text/plain": [
       "       business_code cust_number  name_customer clear_date  buisness_year  \\\n",
       "29647              1  0200974851           3185        NaT           2020   \n",
       "5343               1  0200705742           1113        NaT           2020   \n",
       "40552              1  0200762301            563        NaT           2020   \n",
       "17456              1  0200763489           1444        NaT           2020   \n",
       "6297               1  0200772670            245        NaT           2020   \n",
       "\n",
       "      document_create_date.1 due_in_date  total_open_amount  \\\n",
       "29647             2020-02-27  2020-03-18          5740.4334   \n",
       "5343              2020-02-27  2020-03-18         63307.0230   \n",
       "40552             2020-02-27  2020-03-13         18030.7608   \n",
       "17456             2020-02-27  2020-05-02         10218.7878   \n",
       "6297              2020-02-27  2020-03-13           778.3776   \n",
       "\n",
       "      baseline_create_date  cust_payment_terms  isOpen  \n",
       "29647           2020-02-27                  32       1  \n",
       "5343            2020-02-27                  32       1  \n",
       "40552           2020-02-27                  27       1  \n",
       "17456           2020-02-27                  37       1  \n",
       "6297            2020-02-27                  53       1  "
      ]
     },
     "execution_count": 242,
     "metadata": {},
     "output_type": "execute_result"
    }
   ],
   "source": [
    "test.head()"
   ]
  },
  {
   "cell_type": "code",
   "execution_count": 243,
   "metadata": {
    "colab": {
     "base_uri": "https://localhost:8080/"
    },
    "id": "1gXI7oIEDCp1",
    "outputId": "d2f961c4-d397-4997-e6a7-8ae72bff811f"
   },
   "outputs": [
    {
     "name": "stdout",
     "output_type": "stream",
     "text": [
      "2020-02-27 00:00:00\n",
      "2018-12-30 00:00:00\n"
     ]
    }
   ],
   "source": [
    "print(train['document_create_date.1'].max())\n",
    "print(train['document_create_date.1'].min())"
   ]
  },
  {
   "cell_type": "code",
   "execution_count": 244,
   "metadata": {
    "id": "P3Sa-ye6DCZc"
   },
   "outputs": [],
   "source": [
    "train = train.sort_values(by=[\"document_create_date.1\"]) #sorting data by datewise on documnet create date\n",
    "train.reset_index(drop=True,inplace=True)"
   ]
  },
  {
   "cell_type": "code",
   "execution_count": 245,
   "metadata": {
    "colab": {
     "base_uri": "https://localhost:8080/"
    },
    "id": "8iB_pyWVFmy8",
    "outputId": "50460c04-8434-4265-c694-a8ca4098e9a2"
   },
   "outputs": [
    {
     "data": {
      "text/plain": [
       "((33045, 11), (6848, 11))"
      ]
     },
     "execution_count": 245,
     "metadata": {},
     "output_type": "execute_result"
    }
   ],
   "source": [
    "X_train=train[train[\"document_create_date.1\"]<='2019-11-28'].copy()\n",
    "X_temp=train[train[\"document_create_date.1\"]>'2019-11-28'].copy()\n",
    "X_train.shape, X_temp.shape"
   ]
  },
  {
   "cell_type": "code",
   "execution_count": 246,
   "metadata": {
    "id": "LgIfbVcaPRue"
   },
   "outputs": [],
   "source": [
    "from sklearn.model_selection import train_test_split"
   ]
  },
  {
   "cell_type": "code",
   "execution_count": 247,
   "metadata": {
    "colab": {
     "base_uri": "https://localhost:8080/"
    },
    "id": "AUG0C0prHVAq",
    "outputId": "fdc1fba6-3a09-4424-eb50-e3cb9e75f1b3"
   },
   "outputs": [
    {
     "data": {
      "text/plain": [
       "((3424, 11), (3424, 11))"
      ]
     },
     "execution_count": 247,
     "metadata": {},
     "output_type": "execute_result"
    }
   ],
   "source": [
    "x_val1, x_val2=train_test_split(X_temp, test_size=0.5, shuffle=False, random_state=0)\n",
    "x_val1.shape, x_val2.shape"
   ]
  },
  {
   "cell_type": "markdown",
   "metadata": {
    "id": "n5tw5PKlIKPc"
   },
   "source": [
    "### Creating columns for calculating the delay in between the dates"
   ]
  },
  {
   "cell_type": "code",
   "execution_count": 248,
   "metadata": {
    "colab": {
     "base_uri": "https://localhost:8080/",
     "height": 222
    },
    "id": "M93uliEvIEF3",
    "outputId": "588680c6-4688-4c7a-b16e-299a31d648e1"
   },
   "outputs": [
    {
     "data": {
      "text/html": [
       "<div>\n",
       "<style scoped>\n",
       "    .dataframe tbody tr th:only-of-type {\n",
       "        vertical-align: middle;\n",
       "    }\n",
       "\n",
       "    .dataframe tbody tr th {\n",
       "        vertical-align: top;\n",
       "    }\n",
       "\n",
       "    .dataframe thead th {\n",
       "        text-align: right;\n",
       "    }\n",
       "</style>\n",
       "<table border=\"1\" class=\"dataframe\">\n",
       "  <thead>\n",
       "    <tr style=\"text-align: right;\">\n",
       "      <th></th>\n",
       "      <th>business_code</th>\n",
       "      <th>cust_number</th>\n",
       "      <th>name_customer</th>\n",
       "      <th>clear_date</th>\n",
       "      <th>buisness_year</th>\n",
       "      <th>document_create_date.1</th>\n",
       "      <th>due_in_date</th>\n",
       "      <th>total_open_amount</th>\n",
       "      <th>baseline_create_date</th>\n",
       "      <th>cust_payment_terms</th>\n",
       "      <th>isOpen</th>\n",
       "      <th>delay</th>\n",
       "    </tr>\n",
       "  </thead>\n",
       "  <tbody>\n",
       "    <tr>\n",
       "      <th>0</th>\n",
       "      <td>1</td>\n",
       "      <td>0200759878</td>\n",
       "      <td>3284</td>\n",
       "      <td>2019-01-15</td>\n",
       "      <td>2019</td>\n",
       "      <td>2018-12-30</td>\n",
       "      <td>2019-01-14</td>\n",
       "      <td>11598.0540</td>\n",
       "      <td>2018-12-30</td>\n",
       "      <td>38</td>\n",
       "      <td>0</td>\n",
       "      <td>1</td>\n",
       "    </tr>\n",
       "    <tr>\n",
       "      <th>1</th>\n",
       "      <td>1</td>\n",
       "      <td>0200726979</td>\n",
       "      <td>426</td>\n",
       "      <td>2019-01-15</td>\n",
       "      <td>2019</td>\n",
       "      <td>2018-12-30</td>\n",
       "      <td>2019-01-14</td>\n",
       "      <td>25.8804</td>\n",
       "      <td>2018-12-30</td>\n",
       "      <td>22</td>\n",
       "      <td>0</td>\n",
       "      <td>1</td>\n",
       "    </tr>\n",
       "    <tr>\n",
       "      <th>2</th>\n",
       "      <td>1</td>\n",
       "      <td>0200769623</td>\n",
       "      <td>4114</td>\n",
       "      <td>2019-01-15</td>\n",
       "      <td>2019</td>\n",
       "      <td>2018-12-30</td>\n",
       "      <td>2019-01-14</td>\n",
       "      <td>268.3278</td>\n",
       "      <td>2018-12-30</td>\n",
       "      <td>38</td>\n",
       "      <td>0</td>\n",
       "      <td>1</td>\n",
       "    </tr>\n",
       "    <tr>\n",
       "      <th>3</th>\n",
       "      <td>1</td>\n",
       "      <td>0200741174</td>\n",
       "      <td>2381</td>\n",
       "      <td>2019-02-01</td>\n",
       "      <td>2019</td>\n",
       "      <td>2018-12-30</td>\n",
       "      <td>2019-01-31</td>\n",
       "      <td>17765.2800</td>\n",
       "      <td>2018-12-30</td>\n",
       "      <td>15</td>\n",
       "      <td>0</td>\n",
       "      <td>1</td>\n",
       "    </tr>\n",
       "    <tr>\n",
       "      <th>4</th>\n",
       "      <td>1</td>\n",
       "      <td>0200744019</td>\n",
       "      <td>3801</td>\n",
       "      <td>2019-01-18</td>\n",
       "      <td>2019</td>\n",
       "      <td>2018-12-30</td>\n",
       "      <td>2019-01-14</td>\n",
       "      <td>9346.4202</td>\n",
       "      <td>2018-12-30</td>\n",
       "      <td>22</td>\n",
       "      <td>0</td>\n",
       "      <td>4</td>\n",
       "    </tr>\n",
       "  </tbody>\n",
       "</table>\n",
       "</div>"
      ],
      "text/plain": [
       "   business_code cust_number  name_customer clear_date  buisness_year  \\\n",
       "0              1  0200759878           3284 2019-01-15           2019   \n",
       "1              1  0200726979            426 2019-01-15           2019   \n",
       "2              1  0200769623           4114 2019-01-15           2019   \n",
       "3              1  0200741174           2381 2019-02-01           2019   \n",
       "4              1  0200744019           3801 2019-01-18           2019   \n",
       "\n",
       "  document_create_date.1 due_in_date  total_open_amount baseline_create_date  \\\n",
       "0             2018-12-30  2019-01-14         11598.0540           2018-12-30   \n",
       "1             2018-12-30  2019-01-14            25.8804           2018-12-30   \n",
       "2             2018-12-30  2019-01-14           268.3278           2018-12-30   \n",
       "3             2018-12-30  2019-01-31         17765.2800           2018-12-30   \n",
       "4             2018-12-30  2019-01-14          9346.4202           2018-12-30   \n",
       "\n",
       "   cust_payment_terms  isOpen  delay  \n",
       "0                  38       0      1  \n",
       "1                  22       0      1  \n",
       "2                  38       0      1  \n",
       "3                  15       0      1  \n",
       "4                  22       0      4  "
      ]
     },
     "execution_count": 248,
     "metadata": {},
     "output_type": "execute_result"
    }
   ],
   "source": [
    "X_train['delay']=(X_train['clear_date']-X_train['due_in_date']).dt.days\n",
    "X_train['delay']=X_train['delay'].astype('int')\n",
    "X_train.reset_index(drop=True,inplace=True)\n",
    "X_train.head()"
   ]
  },
  {
   "cell_type": "code",
   "execution_count": 249,
   "metadata": {
    "id": "2rrlEc_hIvhD"
   },
   "outputs": [],
   "source": [
    "import warnings\n",
    "warnings.filterwarnings('ignore')"
   ]
  },
  {
   "cell_type": "code",
   "execution_count": 250,
   "metadata": {
    "colab": {
     "base_uri": "https://localhost:8080/",
     "height": 161
    },
    "id": "W6jCc_90IbKv",
    "outputId": "fe46fbaf-acf2-4ab7-fdd0-9b686f9a4a0e"
   },
   "outputs": [
    {
     "data": {
      "text/html": [
       "<div>\n",
       "<style scoped>\n",
       "    .dataframe tbody tr th:only-of-type {\n",
       "        vertical-align: middle;\n",
       "    }\n",
       "\n",
       "    .dataframe tbody tr th {\n",
       "        vertical-align: top;\n",
       "    }\n",
       "\n",
       "    .dataframe thead th {\n",
       "        text-align: right;\n",
       "    }\n",
       "</style>\n",
       "<table border=\"1\" class=\"dataframe\">\n",
       "  <thead>\n",
       "    <tr style=\"text-align: right;\">\n",
       "      <th></th>\n",
       "      <th>business_code</th>\n",
       "      <th>cust_number</th>\n",
       "      <th>name_customer</th>\n",
       "      <th>clear_date</th>\n",
       "      <th>buisness_year</th>\n",
       "      <th>document_create_date.1</th>\n",
       "      <th>due_in_date</th>\n",
       "      <th>total_open_amount</th>\n",
       "      <th>baseline_create_date</th>\n",
       "      <th>cust_payment_terms</th>\n",
       "      <th>isOpen</th>\n",
       "      <th>delay</th>\n",
       "    </tr>\n",
       "  </thead>\n",
       "  <tbody>\n",
       "    <tr>\n",
       "      <th>0</th>\n",
       "      <td>1</td>\n",
       "      <td>0200744707</td>\n",
       "      <td>2912</td>\n",
       "      <td>2019-12-20</td>\n",
       "      <td>2019</td>\n",
       "      <td>2019-11-29</td>\n",
       "      <td>2019-12-31</td>\n",
       "      <td>9835.2072</td>\n",
       "      <td>2019-11-29</td>\n",
       "      <td>15</td>\n",
       "      <td>0</td>\n",
       "      <td>-11</td>\n",
       "    </tr>\n",
       "    <tr>\n",
       "      <th>1</th>\n",
       "      <td>1</td>\n",
       "      <td>0200759878</td>\n",
       "      <td>3289</td>\n",
       "      <td>2019-12-16</td>\n",
       "      <td>2019</td>\n",
       "      <td>2019-11-29</td>\n",
       "      <td>2019-12-14</td>\n",
       "      <td>36589.7844</td>\n",
       "      <td>2019-11-29</td>\n",
       "      <td>38</td>\n",
       "      <td>0</td>\n",
       "      <td>2</td>\n",
       "    </tr>\n",
       "    <tr>\n",
       "      <th>2</th>\n",
       "      <td>1</td>\n",
       "      <td>0200759878</td>\n",
       "      <td>3284</td>\n",
       "      <td>2019-12-16</td>\n",
       "      <td>2019</td>\n",
       "      <td>2019-11-29</td>\n",
       "      <td>2019-12-14</td>\n",
       "      <td>17202.0810</td>\n",
       "      <td>2019-11-29</td>\n",
       "      <td>38</td>\n",
       "      <td>0</td>\n",
       "      <td>2</td>\n",
       "    </tr>\n",
       "  </tbody>\n",
       "</table>\n",
       "</div>"
      ],
      "text/plain": [
       "   business_code cust_number  name_customer clear_date  buisness_year  \\\n",
       "0              1  0200744707           2912 2019-12-20           2019   \n",
       "1              1  0200759878           3289 2019-12-16           2019   \n",
       "2              1  0200759878           3284 2019-12-16           2019   \n",
       "\n",
       "  document_create_date.1 due_in_date  total_open_amount baseline_create_date  \\\n",
       "0             2019-11-29  2019-12-31          9835.2072           2019-11-29   \n",
       "1             2019-11-29  2019-12-14         36589.7844           2019-11-29   \n",
       "2             2019-11-29  2019-12-14         17202.0810           2019-11-29   \n",
       "\n",
       "   cust_payment_terms  isOpen  delay  \n",
       "0                  15       0    -11  \n",
       "1                  38       0      2  \n",
       "2                  38       0      2  "
      ]
     },
     "execution_count": 250,
     "metadata": {},
     "output_type": "execute_result"
    }
   ],
   "source": [
    "x_val1['delay']=(x_val1['clear_date']-x_val1['due_in_date']).dt.days\n",
    "x_val1['delay']=x_val1['delay'].astype(int)\n",
    "x_val2['delay']=(x_val2['clear_date']-x_val2['due_in_date']).dt.days\n",
    "x_val2['delay']=x_val2['delay'].astype(int)\n",
    "x_val1.reset_index(drop=True,inplace=True)\n",
    "x_val1.head(3)"
   ]
  },
  {
   "cell_type": "code",
   "execution_count": 251,
   "metadata": {
    "colab": {
     "base_uri": "https://localhost:8080/",
     "height": 161
    },
    "id": "NDkbKO1cIj1q",
    "outputId": "ed02dc4e-f2d9-4e6f-da0f-bd4bf1e8d2b2"
   },
   "outputs": [
    {
     "data": {
      "text/html": [
       "<div>\n",
       "<style scoped>\n",
       "    .dataframe tbody tr th:only-of-type {\n",
       "        vertical-align: middle;\n",
       "    }\n",
       "\n",
       "    .dataframe tbody tr th {\n",
       "        vertical-align: top;\n",
       "    }\n",
       "\n",
       "    .dataframe thead th {\n",
       "        text-align: right;\n",
       "    }\n",
       "</style>\n",
       "<table border=\"1\" class=\"dataframe\">\n",
       "  <thead>\n",
       "    <tr style=\"text-align: right;\">\n",
       "      <th></th>\n",
       "      <th>business_code</th>\n",
       "      <th>cust_number</th>\n",
       "      <th>name_customer</th>\n",
       "      <th>clear_date</th>\n",
       "      <th>buisness_year</th>\n",
       "      <th>document_create_date.1</th>\n",
       "      <th>due_in_date</th>\n",
       "      <th>total_open_amount</th>\n",
       "      <th>baseline_create_date</th>\n",
       "      <th>cust_payment_terms</th>\n",
       "      <th>isOpen</th>\n",
       "      <th>delay</th>\n",
       "    </tr>\n",
       "  </thead>\n",
       "  <tbody>\n",
       "    <tr>\n",
       "      <th>0</th>\n",
       "      <td>1</td>\n",
       "      <td>0200762301</td>\n",
       "      <td>568</td>\n",
       "      <td>2020-02-04</td>\n",
       "      <td>2020</td>\n",
       "      <td>2020-01-20</td>\n",
       "      <td>2020-02-04</td>\n",
       "      <td>5171.3376</td>\n",
       "      <td>2020-01-20</td>\n",
       "      <td>27</td>\n",
       "      <td>0</td>\n",
       "      <td>0</td>\n",
       "    </tr>\n",
       "    <tr>\n",
       "      <th>1</th>\n",
       "      <td>1</td>\n",
       "      <td>0200781803</td>\n",
       "      <td>2038</td>\n",
       "      <td>2020-02-10</td>\n",
       "      <td>2020</td>\n",
       "      <td>2020-01-20</td>\n",
       "      <td>2020-02-09</td>\n",
       "      <td>325.5252</td>\n",
       "      <td>2020-01-20</td>\n",
       "      <td>32</td>\n",
       "      <td>0</td>\n",
       "      <td>1</td>\n",
       "    </tr>\n",
       "    <tr>\n",
       "      <th>2</th>\n",
       "      <td>1</td>\n",
       "      <td>0200795490</td>\n",
       "      <td>1821</td>\n",
       "      <td>2020-02-06</td>\n",
       "      <td>2020</td>\n",
       "      <td>2020-01-20</td>\n",
       "      <td>2020-02-04</td>\n",
       "      <td>42630.9312</td>\n",
       "      <td>2020-01-20</td>\n",
       "      <td>22</td>\n",
       "      <td>0</td>\n",
       "      <td>2</td>\n",
       "    </tr>\n",
       "  </tbody>\n",
       "</table>\n",
       "</div>"
      ],
      "text/plain": [
       "   business_code cust_number  name_customer clear_date  buisness_year  \\\n",
       "0              1  0200762301            568 2020-02-04           2020   \n",
       "1              1  0200781803           2038 2020-02-10           2020   \n",
       "2              1  0200795490           1821 2020-02-06           2020   \n",
       "\n",
       "  document_create_date.1 due_in_date  total_open_amount baseline_create_date  \\\n",
       "0             2020-01-20  2020-02-04          5171.3376           2020-01-20   \n",
       "1             2020-01-20  2020-02-09           325.5252           2020-01-20   \n",
       "2             2020-01-20  2020-02-04         42630.9312           2020-01-20   \n",
       "\n",
       "   cust_payment_terms  isOpen  delay  \n",
       "0                  27       0      0  \n",
       "1                  32       0      1  \n",
       "2                  22       0      2  "
      ]
     },
     "execution_count": 251,
     "metadata": {},
     "output_type": "execute_result"
    }
   ],
   "source": [
    "x_val2.reset_index(drop=True,inplace=True)\n",
    "x_val2.head(3)"
   ]
  },
  {
   "cell_type": "code",
   "execution_count": 252,
   "metadata": {
    "colab": {
     "base_uri": "https://localhost:8080/"
    },
    "id": "lxZsUh1AI9wT",
    "outputId": "2a7c33e9-0ce7-410a-a61f-026484e18902"
   },
   "outputs": [
    {
     "data": {
      "text/plain": [
       "business_code                 6\n",
       "cust_number                1283\n",
       "name_customer              3647\n",
       "clear_date                  298\n",
       "buisness_year                 1\n",
       "document_create_date.1      334\n",
       "due_in_date                 367\n",
       "total_open_amount         29477\n",
       "baseline_create_date        341\n",
       "cust_payment_terms           66\n",
       "isOpen                        1\n",
       "delay                       177\n",
       "dtype: int64"
      ]
     },
     "execution_count": 252,
     "metadata": {},
     "output_type": "execute_result"
    }
   ],
   "source": [
    "X_train.nunique()"
   ]
  },
  {
   "cell_type": "code",
   "execution_count": 253,
   "metadata": {
    "colab": {
     "base_uri": "https://localhost:8080/",
     "height": 99
    },
    "id": "xkpHLQgicDE6",
    "outputId": "374531c6-fd75-4a1b-f02a-17e3c170c12b"
   },
   "outputs": [
    {
     "data": {
      "text/html": [
       "<div>\n",
       "<style scoped>\n",
       "    .dataframe tbody tr th:only-of-type {\n",
       "        vertical-align: middle;\n",
       "    }\n",
       "\n",
       "    .dataframe tbody tr th {\n",
       "        vertical-align: top;\n",
       "    }\n",
       "\n",
       "    .dataframe thead th {\n",
       "        text-align: right;\n",
       "    }\n",
       "</style>\n",
       "<table border=\"1\" class=\"dataframe\">\n",
       "  <thead>\n",
       "    <tr style=\"text-align: right;\">\n",
       "      <th></th>\n",
       "      <th>business_code</th>\n",
       "      <th>cust_number</th>\n",
       "      <th>name_customer</th>\n",
       "      <th>clear_date</th>\n",
       "      <th>buisness_year</th>\n",
       "      <th>document_create_date.1</th>\n",
       "      <th>due_in_date</th>\n",
       "      <th>total_open_amount</th>\n",
       "      <th>baseline_create_date</th>\n",
       "      <th>cust_payment_terms</th>\n",
       "      <th>isOpen</th>\n",
       "      <th>delay</th>\n",
       "    </tr>\n",
       "  </thead>\n",
       "  <tbody>\n",
       "    <tr>\n",
       "      <th>0</th>\n",
       "      <td>1</td>\n",
       "      <td>0200759878</td>\n",
       "      <td>3284</td>\n",
       "      <td>2019-01-15</td>\n",
       "      <td>2019</td>\n",
       "      <td>2018-12-30</td>\n",
       "      <td>2019-01-14</td>\n",
       "      <td>11598.054</td>\n",
       "      <td>2018-12-30</td>\n",
       "      <td>38</td>\n",
       "      <td>0</td>\n",
       "      <td>1</td>\n",
       "    </tr>\n",
       "  </tbody>\n",
       "</table>\n",
       "</div>"
      ],
      "text/plain": [
       "   business_code cust_number  name_customer clear_date  buisness_year  \\\n",
       "0              1  0200759878           3284 2019-01-15           2019   \n",
       "\n",
       "  document_create_date.1 due_in_date  total_open_amount baseline_create_date  \\\n",
       "0             2018-12-30  2019-01-14          11598.054           2018-12-30   \n",
       "\n",
       "   cust_payment_terms  isOpen  delay  \n",
       "0                  38       0      1  "
      ]
     },
     "execution_count": 253,
     "metadata": {},
     "output_type": "execute_result"
    }
   ],
   "source": [
    "X_train.head(1)"
   ]
  },
  {
   "cell_type": "code",
   "execution_count": 254,
   "metadata": {
    "colab": {
     "base_uri": "https://localhost:8080/",
     "height": 99
    },
    "id": "B4cJWxrCxpU4",
    "outputId": "637d2ec9-1229-4571-c968-9881e1d974db"
   },
   "outputs": [
    {
     "data": {
      "text/html": [
       "<div>\n",
       "<style scoped>\n",
       "    .dataframe tbody tr th:only-of-type {\n",
       "        vertical-align: middle;\n",
       "    }\n",
       "\n",
       "    .dataframe tbody tr th {\n",
       "        vertical-align: top;\n",
       "    }\n",
       "\n",
       "    .dataframe thead th {\n",
       "        text-align: right;\n",
       "    }\n",
       "</style>\n",
       "<table border=\"1\" class=\"dataframe\">\n",
       "  <thead>\n",
       "    <tr style=\"text-align: right;\">\n",
       "      <th></th>\n",
       "      <th>business_code</th>\n",
       "      <th>cust_number</th>\n",
       "      <th>name_customer</th>\n",
       "      <th>clear_date</th>\n",
       "      <th>buisness_year</th>\n",
       "      <th>document_create_date.1</th>\n",
       "      <th>due_in_date</th>\n",
       "      <th>total_open_amount</th>\n",
       "      <th>baseline_create_date</th>\n",
       "      <th>cust_payment_terms</th>\n",
       "      <th>isOpen</th>\n",
       "    </tr>\n",
       "  </thead>\n",
       "  <tbody>\n",
       "    <tr>\n",
       "      <th>29647</th>\n",
       "      <td>1</td>\n",
       "      <td>0200974851</td>\n",
       "      <td>3185</td>\n",
       "      <td>NaT</td>\n",
       "      <td>2020</td>\n",
       "      <td>2020-02-27</td>\n",
       "      <td>2020-03-18</td>\n",
       "      <td>5740.4334</td>\n",
       "      <td>2020-02-27</td>\n",
       "      <td>32</td>\n",
       "      <td>1</td>\n",
       "    </tr>\n",
       "  </tbody>\n",
       "</table>\n",
       "</div>"
      ],
      "text/plain": [
       "       business_code cust_number  name_customer clear_date  buisness_year  \\\n",
       "29647              1  0200974851           3185        NaT           2020   \n",
       "\n",
       "      document_create_date.1 due_in_date  total_open_amount  \\\n",
       "29647             2020-02-27  2020-03-18          5740.4334   \n",
       "\n",
       "      baseline_create_date  cust_payment_terms  isOpen  \n",
       "29647           2020-02-27                  32       1  "
      ]
     },
     "execution_count": 254,
     "metadata": {},
     "output_type": "execute_result"
    }
   ],
   "source": [
    "test.head(1)"
   ]
  },
  {
   "cell_type": "code",
   "execution_count": 255,
   "metadata": {
    "id": "wIkj5YqJJ1rz"
   },
   "outputs": [],
   "source": [
    "#Dropping constant columns respresented by 1\n",
    "\n",
    "X_train.drop(columns = 'buisness_year' , inplace = True)\n",
    "X_train.drop(columns = 'isOpen' , inplace = True)\n",
    "x_val1.drop(columns = 'buisness_year' , inplace = True)\n",
    "x_val1.drop(columns = 'isOpen' , inplace = True)\n",
    "x_val2.drop(columns = 'buisness_year' , inplace = True)\n",
    "x_val2.drop(columns = 'isOpen' , inplace = True)\n",
    "test.drop(columns = 'buisness_year' , inplace = True)\n",
    "test.drop(columns = 'isOpen' , inplace = True)"
   ]
  },
  {
   "cell_type": "code",
   "execution_count": 256,
   "metadata": {
    "colab": {
     "base_uri": "https://localhost:8080/"
    },
    "id": "CeQeLeKCjK2E",
    "outputId": "73eebc10-0a42-4f81-8429-db9130c6cb60"
   },
   "outputs": [
    {
     "data": {
      "text/plain": [
       "((33045, 10), (3424, 10), (3424, 10))"
      ]
     },
     "execution_count": 256,
     "metadata": {},
     "output_type": "execute_result"
    }
   ],
   "source": [
    "X_train.shape,x_val1.shape,x_val2.shape"
   ]
  },
  {
   "cell_type": "markdown",
   "metadata": {
    "id": "NhryhBLXPdyc"
   },
   "source": [
    "**Understanding our split data better**"
   ]
  },
  {
   "cell_type": "code",
   "execution_count": 257,
   "metadata": {
    "colab": {
     "base_uri": "https://localhost:8080/",
     "height": 331
    },
    "id": "A9ZOkoe7Pc_B",
    "outputId": "dbb11659-7a41-4d0f-de8b-c19e8feee545"
   },
   "outputs": [
    {
     "name": "stdout",
     "output_type": "stream",
     "text": [
      "2.7410559086608814\n"
     ]
    },
    {
     "data": {
      "text/plain": [
       "<AxesSubplot:xlabel='total_open_amount', ylabel='Density'>"
      ]
     },
     "execution_count": 257,
     "metadata": {},
     "output_type": "execute_result"
    },
    {
     "data": {
      "image/png": "[encoded data removed]",
      "text/plain": [
       "<Figure size 432x288 with 1 Axes>"
      ]
     },
     "metadata": {},
     "output_type": "display_data"
    }
   ],
   "source": [
    "import seaborn as sns\n",
    "print(X_train['total_open_amount'].skew())\n",
    "sns.distplot(train['total_open_amount']) #We can see total_open_amount is right skewed"
   ]
  },
  {
   "cell_type": "code",
   "execution_count": 258,
   "metadata": {
    "id": "yuEsrcqYdJCd"
   },
   "outputs": [],
   "source": [
    "import numpy as np "
   ]
  },
  {
   "cell_type": "code",
   "execution_count": 259,
   "metadata": {
    "colab": {
     "base_uri": "https://localhost:8080/",
     "height": 323
    },
    "id": "Joph8Q_PN7eG",
    "outputId": "205731c6-1b82-4d50-935b-b7c07f1cfbdd"
   },
   "outputs": [
    {
     "name": "stdout",
     "output_type": "stream",
     "text": [
      "-0.9567067847259794\n"
     ]
    },
    {
     "data": {
      "text/plain": [
       "<AxesSubplot:xlabel='total_open_amount', ylabel='Density'>"
      ]
     },
     "execution_count": 259,
     "metadata": {},
     "output_type": "execute_result"
    },
    {
     "data": {
      "image/png": "[encoded data removed]",
      "text/plain": [
       "<Figure size 432x288 with 1 Axes>"
      ]
     },
     "metadata": {},
     "output_type": "display_data"
    }
   ],
   "source": [
    "x = np.log(X_train['total_open_amount'])\n",
    "print(x.skew())\n",
    "sns.distplot(np.log(X_train['total_open_amount'])) #Skew-ness improved"
   ]
  },
  {
   "cell_type": "code",
   "execution_count": 260,
   "metadata": {
    "colab": {
     "base_uri": "https://localhost:8080/",
     "height": 320
    },
    "id": "m-orL5OQdMfL",
    "outputId": "89bf5450-6f76-4b89-c9af-cf4c1894349c"
   },
   "outputs": [
    {
     "name": "stdout",
     "output_type": "stream",
     "text": [
      "0.7676522501457905\n"
     ]
    },
    {
     "data": {
      "text/plain": [
       "<AxesSubplot:xlabel='total_open_amount', ylabel='Density'>"
      ]
     },
     "execution_count": 260,
     "metadata": {},
     "output_type": "execute_result"
    },
    {
     "data": {
      "image/png": "[encoded data removed]",
      "text/plain": [
       "<Figure size 432x288 with 1 Axes>"
      ]
     },
     "metadata": {},
     "output_type": "display_data"
    }
   ],
   "source": [
    "x1 = np.sqrt(X_train['total_open_amount'])\n",
    "print(x1.skew())\n",
    "sns.distplot(np.sqrt(X_train['total_open_amount'])) #Better than previous observation"
   ]
  },
  {
   "cell_type": "code",
   "execution_count": 261,
   "metadata": {
    "colab": {
     "base_uri": "https://localhost:8080/",
     "height": 303
    },
    "id": "NVYuMaCCdfBj",
    "outputId": "4d26850e-dccf-4ccb-edc8-72493ef8c564"
   },
   "outputs": [
    {
     "name": "stdout",
     "output_type": "stream",
     "text": [
      "-0.10288562240572625\n"
     ]
    },
    {
     "data": {
      "text/plain": [
       "<AxesSubplot:ylabel='Density'>"
      ]
     },
     "execution_count": 261,
     "metadata": {},
     "output_type": "execute_result"
    },
    {
     "data": {
      "image/png": "[encoded data removed]",
      "text/plain": [
       "<Figure size 432x288 with 1 Axes>"
      ]
     },
     "metadata": {},
     "output_type": "display_data"
    }
   ],
   "source": [
    "from scipy import stats\n",
    "x2 = stats.boxcox(X_train['total_open_amount'])[0]\n",
    "x3 = pd.Series(x2)\n",
    "print(x3.skew())\n",
    "sns.distplot(x2) #Almost resembling a Gaussian Curve"
   ]
  },
  {
   "cell_type": "code",
   "execution_count": 262,
   "metadata": {
    "id": "kZ3_PNlOxabj"
   },
   "outputs": [],
   "source": [
    "X_train['due_date_day']=X_train['due_in_date'].dt.day\n",
    "X_train['due_date_month']=X_train['due_in_date'].dt.month\n",
    "X_train['due_date_year']=X_train['due_in_date'].dt.year"
   ]
  },
  {
   "cell_type": "code",
   "execution_count": 263,
   "metadata": {
    "id": "ou2w7_YIBPQp"
   },
   "outputs": [],
   "source": [
    "x_val1['due_date_day']=x_val1['due_in_date'].dt.day\n",
    "x_val1['due_date_month']=x_val1['due_in_date'].dt.month\n",
    "x_val1['due_date_year']=x_val1['due_in_date'].dt.year"
   ]
  },
  {
   "cell_type": "code",
   "execution_count": 264,
   "metadata": {
    "id": "2hUpWiSfBQbu"
   },
   "outputs": [],
   "source": [
    "x_val2['due_date_day']=x_val2['due_in_date'].dt.day\n",
    "x_val2['due_date_month']=x_val2['due_in_date'].dt.month\n",
    "x_val2['due_date_year']=x_val2['due_in_date'].dt.year"
   ]
  },
  {
   "cell_type": "code",
   "execution_count": 265,
   "metadata": {
    "id": "zGNKjpCCfztd"
   },
   "outputs": [],
   "source": [
    "test['due_date_day']=test['due_in_date'].dt.day\n",
    "test['due_date_month']=test['due_in_date'].dt.month\n",
    "test['due_date_year']=test['due_in_date'].dt.year"
   ]
  },
  {
   "cell_type": "code",
   "execution_count": 266,
   "metadata": {
    "id": "3Mdt3KIMxirS"
   },
   "outputs": [],
   "source": [
    "X_train['baseline_date_day']=X_train['baseline_create_date'].dt.day\n",
    "X_train['baseline_date_month']=X_train['baseline_create_date'].dt.month\n",
    "X_train['baseline_date_year']=X_train['baseline_create_date'].dt.year"
   ]
  },
  {
   "cell_type": "code",
   "execution_count": 267,
   "metadata": {
    "id": "fqy4XiN-BRNv"
   },
   "outputs": [],
   "source": [
    "x_val1['baseline_date_day']=x_val1['baseline_create_date'].dt.day\n",
    "x_val1['baseline_date_month']=x_val1['baseline_create_date'].dt.month\n",
    "x_val1['baseline_date_year']=x_val1['baseline_create_date'].dt.year"
   ]
  },
  {
   "cell_type": "code",
   "execution_count": 268,
   "metadata": {
    "id": "fx6XzDcJBRAx"
   },
   "outputs": [],
   "source": [
    "x_val2['baseline_date_day']=x_val2['baseline_create_date'].dt.day\n",
    "x_val2['baseline_date_month']=x_val2['baseline_create_date'].dt.month\n",
    "x_val2['baseline_date_year']=x_val2['baseline_create_date'].dt.year"
   ]
  },
  {
   "cell_type": "code",
   "execution_count": 269,
   "metadata": {
    "id": "KsJqSn2nfqxY"
   },
   "outputs": [],
   "source": [
    "test['baseline_date_day']=test['baseline_create_date'].dt.day\n",
    "test['baseline_date_month']=test['baseline_create_date'].dt.month\n",
    "test['baseline_date_year']=test['baseline_create_date'].dt.year"
   ]
  },
  {
   "cell_type": "code",
   "execution_count": 270,
   "metadata": {
    "id": "pwXGlKL8xpug"
   },
   "outputs": [],
   "source": [
    "X_train['create_date_day']=X_train['document_create_date.1'].dt.day\n",
    "X_train['create_date_month']=X_train['document_create_date.1'].dt.month\n",
    "X_train['create_date_year']=X_train['document_create_date.1'].dt.year"
   ]
  },
  {
   "cell_type": "code",
   "execution_count": 271,
   "metadata": {
    "id": "JS1AZ6pIBSkp"
   },
   "outputs": [],
   "source": [
    "x_val1['create_date_day']=x_val1['document_create_date.1'].dt.day\n",
    "x_val1['create_date_month']=x_val1['document_create_date.1'].dt.month\n",
    "x_val1['create_date_year']=x_val1['document_create_date.1'].dt.year"
   ]
  },
  {
   "cell_type": "code",
   "execution_count": 272,
   "metadata": {
    "id": "sOB4hg9LBSXv"
   },
   "outputs": [],
   "source": [
    "x_val2['create_date_day']=x_val2['document_create_date.1'].dt.day\n",
    "x_val2['create_date_month']=x_val2['document_create_date.1'].dt.month\n",
    "x_val2['create_date_year']=x_val2['document_create_date.1'].dt.year"
   ]
  },
  {
   "cell_type": "code",
   "execution_count": 273,
   "metadata": {
    "id": "O5lRdpE3fiNq"
   },
   "outputs": [],
   "source": [
    "test['create_date_day']=test['document_create_date.1'].dt.day\n",
    "test['create_date_month']=test['document_create_date.1'].dt.month\n",
    "test['create_date_year']=test['document_create_date.1'].dt.year"
   ]
  },
  {
   "cell_type": "code",
   "execution_count": 274,
   "metadata": {
    "colab": {
     "base_uri": "https://localhost:8080/",
     "height": 161
    },
    "id": "hypZ00kIx4Bn",
    "outputId": "ca45b257-80fe-4b69-a576-c30e96a4c72b"
   },
   "outputs": [
    {
     "data": {
      "text/html": [
       "<div>\n",
       "<style scoped>\n",
       "    .dataframe tbody tr th:only-of-type {\n",
       "        vertical-align: middle;\n",
       "    }\n",
       "\n",
       "    .dataframe tbody tr th {\n",
       "        vertical-align: top;\n",
       "    }\n",
       "\n",
       "    .dataframe thead th {\n",
       "        text-align: right;\n",
       "    }\n",
       "</style>\n",
       "<table border=\"1\" class=\"dataframe\">\n",
       "  <thead>\n",
       "    <tr style=\"text-align: right;\">\n",
       "      <th></th>\n",
       "      <th>business_code</th>\n",
       "      <th>cust_number</th>\n",
       "      <th>name_customer</th>\n",
       "      <th>clear_date</th>\n",
       "      <th>document_create_date.1</th>\n",
       "      <th>due_in_date</th>\n",
       "      <th>total_open_amount</th>\n",
       "      <th>baseline_create_date</th>\n",
       "      <th>cust_payment_terms</th>\n",
       "      <th>delay</th>\n",
       "      <th>due_date_day</th>\n",
       "      <th>due_date_month</th>\n",
       "      <th>due_date_year</th>\n",
       "      <th>baseline_date_day</th>\n",
       "      <th>baseline_date_month</th>\n",
       "      <th>baseline_date_year</th>\n",
       "      <th>create_date_day</th>\n",
       "      <th>create_date_month</th>\n",
       "      <th>create_date_year</th>\n",
       "    </tr>\n",
       "  </thead>\n",
       "  <tbody>\n",
       "    <tr>\n",
       "      <th>0</th>\n",
       "      <td>1</td>\n",
       "      <td>0200759878</td>\n",
       "      <td>3284</td>\n",
       "      <td>2019-01-15</td>\n",
       "      <td>2018-12-30</td>\n",
       "      <td>2019-01-14</td>\n",
       "      <td>11598.0540</td>\n",
       "      <td>2018-12-30</td>\n",
       "      <td>38</td>\n",
       "      <td>1</td>\n",
       "      <td>14</td>\n",
       "      <td>1</td>\n",
       "      <td>2019</td>\n",
       "      <td>30</td>\n",
       "      <td>12</td>\n",
       "      <td>2018</td>\n",
       "      <td>30</td>\n",
       "      <td>12</td>\n",
       "      <td>2018</td>\n",
       "    </tr>\n",
       "    <tr>\n",
       "      <th>1</th>\n",
       "      <td>1</td>\n",
       "      <td>0200726979</td>\n",
       "      <td>426</td>\n",
       "      <td>2019-01-15</td>\n",
       "      <td>2018-12-30</td>\n",
       "      <td>2019-01-14</td>\n",
       "      <td>25.8804</td>\n",
       "      <td>2018-12-30</td>\n",
       "      <td>22</td>\n",
       "      <td>1</td>\n",
       "      <td>14</td>\n",
       "      <td>1</td>\n",
       "      <td>2019</td>\n",
       "      <td>30</td>\n",
       "      <td>12</td>\n",
       "      <td>2018</td>\n",
       "      <td>30</td>\n",
       "      <td>12</td>\n",
       "      <td>2018</td>\n",
       "    </tr>\n",
       "    <tr>\n",
       "      <th>2</th>\n",
       "      <td>1</td>\n",
       "      <td>0200769623</td>\n",
       "      <td>4114</td>\n",
       "      <td>2019-01-15</td>\n",
       "      <td>2018-12-30</td>\n",
       "      <td>2019-01-14</td>\n",
       "      <td>268.3278</td>\n",
       "      <td>2018-12-30</td>\n",
       "      <td>38</td>\n",
       "      <td>1</td>\n",
       "      <td>14</td>\n",
       "      <td>1</td>\n",
       "      <td>2019</td>\n",
       "      <td>30</td>\n",
       "      <td>12</td>\n",
       "      <td>2018</td>\n",
       "      <td>30</td>\n",
       "      <td>12</td>\n",
       "      <td>2018</td>\n",
       "    </tr>\n",
       "  </tbody>\n",
       "</table>\n",
       "</div>"
      ],
      "text/plain": [
       "   business_code cust_number  name_customer clear_date document_create_date.1  \\\n",
       "0              1  0200759878           3284 2019-01-15             2018-12-30   \n",
       "1              1  0200726979            426 2019-01-15             2018-12-30   \n",
       "2              1  0200769623           4114 2019-01-15             2018-12-30   \n",
       "\n",
       "  due_in_date  total_open_amount baseline_create_date  cust_payment_terms  \\\n",
       "0  2019-01-14         11598.0540           2018-12-30                  38   \n",
       "1  2019-01-14            25.8804           2018-12-30                  22   \n",
       "2  2019-01-14           268.3278           2018-12-30                  38   \n",
       "\n",
       "   delay  due_date_day  due_date_month  due_date_year  baseline_date_day  \\\n",
       "0      1            14               1           2019                 30   \n",
       "1      1            14               1           2019                 30   \n",
       "2      1            14               1           2019                 30   \n",
       "\n",
       "   baseline_date_month  baseline_date_year  create_date_day  \\\n",
       "0                   12                2018               30   \n",
       "1                   12                2018               30   \n",
       "2                   12                2018               30   \n",
       "\n",
       "   create_date_month  create_date_year  \n",
       "0                 12              2018  \n",
       "1                 12              2018  \n",
       "2                 12              2018  "
      ]
     },
     "execution_count": 274,
     "metadata": {},
     "output_type": "execute_result"
    }
   ],
   "source": [
    "X_train.head(3)"
   ]
  },
  {
   "cell_type": "code",
   "execution_count": 275,
   "metadata": {
    "id": "DatBtJkGqqTt"
   },
   "outputs": [],
   "source": [
    "X_train.reset_index(drop=True,inplace=True)"
   ]
  },
  {
   "cell_type": "code",
   "execution_count": 276,
   "metadata": {
    "colab": {
     "base_uri": "https://localhost:8080/"
    },
    "id": "ueglKmUqClej",
    "outputId": "c9082b66-91e3-4f59-f5cc-8648e04371bd"
   },
   "outputs": [
    {
     "data": {
      "text/plain": [
       "(33045, 19)"
      ]
     },
     "execution_count": 276,
     "metadata": {},
     "output_type": "execute_result"
    }
   ],
   "source": [
    "X_train.shape"
   ]
  },
  {
   "cell_type": "code",
   "execution_count": 277,
   "metadata": {
    "id": "zVVyI2taqolu"
   },
   "outputs": [],
   "source": [
    "x_val1.reset_index(drop=True,inplace=True)"
   ]
  },
  {
   "cell_type": "code",
   "execution_count": 278,
   "metadata": {
    "colab": {
     "base_uri": "https://localhost:8080/"
    },
    "id": "w7krhftWBawJ",
    "outputId": "eff85848-40be-482d-cd32-fa9d6b03606a"
   },
   "outputs": [
    {
     "data": {
      "text/plain": [
       "(3424, 19)"
      ]
     },
     "execution_count": 278,
     "metadata": {},
     "output_type": "execute_result"
    }
   ],
   "source": [
    "x_val1.shape"
   ]
  },
  {
   "cell_type": "code",
   "execution_count": 279,
   "metadata": {
    "id": "AC4JGLD5qi50"
   },
   "outputs": [],
   "source": [
    "x_val2.reset_index(drop=True,inplace=True)"
   ]
  },
  {
   "cell_type": "code",
   "execution_count": 280,
   "metadata": {
    "colab": {
     "base_uri": "https://localhost:8080/"
    },
    "id": "vRzugDE8Bage",
    "outputId": "1d82098a-7824-4a20-9478-abd5e4984d4d"
   },
   "outputs": [
    {
     "data": {
      "text/plain": [
       "(3424, 19)"
      ]
     },
     "execution_count": 280,
     "metadata": {},
     "output_type": "execute_result"
    }
   ],
   "source": [
    "x_val2.shape"
   ]
  },
  {
   "cell_type": "code",
   "execution_count": 281,
   "metadata": {
    "colab": {
     "base_uri": "https://localhost:8080/"
    },
    "id": "vsAXV-kXf9kj",
    "outputId": "213837b3-fe6b-47fa-baf7-161f97d77d07"
   },
   "outputs": [
    {
     "data": {
      "text/plain": [
       "(9959, 18)"
      ]
     },
     "execution_count": 281,
     "metadata": {},
     "output_type": "execute_result"
    }
   ],
   "source": [
    "test.shape"
   ]
  },
  {
   "cell_type": "code",
   "execution_count": 282,
   "metadata": {
    "colab": {
     "base_uri": "https://localhost:8080/",
     "height": 99
    },
    "id": "M9dz7dsidQ56",
    "outputId": "1ef7c39a-f820-4f1f-cc90-3782ac389a14"
   },
   "outputs": [
    {
     "data": {
      "text/html": [
       "<div>\n",
       "<style scoped>\n",
       "    .dataframe tbody tr th:only-of-type {\n",
       "        vertical-align: middle;\n",
       "    }\n",
       "\n",
       "    .dataframe tbody tr th {\n",
       "        vertical-align: top;\n",
       "    }\n",
       "\n",
       "    .dataframe thead th {\n",
       "        text-align: right;\n",
       "    }\n",
       "</style>\n",
       "<table border=\"1\" class=\"dataframe\">\n",
       "  <thead>\n",
       "    <tr style=\"text-align: right;\">\n",
       "      <th></th>\n",
       "      <th>business_code</th>\n",
       "      <th>cust_number</th>\n",
       "      <th>name_customer</th>\n",
       "      <th>clear_date</th>\n",
       "      <th>document_create_date.1</th>\n",
       "      <th>due_in_date</th>\n",
       "      <th>total_open_amount</th>\n",
       "      <th>baseline_create_date</th>\n",
       "      <th>cust_payment_terms</th>\n",
       "      <th>delay</th>\n",
       "      <th>due_date_day</th>\n",
       "      <th>due_date_month</th>\n",
       "      <th>due_date_year</th>\n",
       "      <th>baseline_date_day</th>\n",
       "      <th>baseline_date_month</th>\n",
       "      <th>baseline_date_year</th>\n",
       "      <th>create_date_day</th>\n",
       "      <th>create_date_month</th>\n",
       "      <th>create_date_year</th>\n",
       "    </tr>\n",
       "  </thead>\n",
       "  <tbody>\n",
       "    <tr>\n",
       "      <th>0</th>\n",
       "      <td>1</td>\n",
       "      <td>0200759878</td>\n",
       "      <td>3284</td>\n",
       "      <td>2019-01-15</td>\n",
       "      <td>2018-12-30</td>\n",
       "      <td>2019-01-14</td>\n",
       "      <td>11598.054</td>\n",
       "      <td>2018-12-30</td>\n",
       "      <td>38</td>\n",
       "      <td>1</td>\n",
       "      <td>14</td>\n",
       "      <td>1</td>\n",
       "      <td>2019</td>\n",
       "      <td>30</td>\n",
       "      <td>12</td>\n",
       "      <td>2018</td>\n",
       "      <td>30</td>\n",
       "      <td>12</td>\n",
       "      <td>2018</td>\n",
       "    </tr>\n",
       "  </tbody>\n",
       "</table>\n",
       "</div>"
      ],
      "text/plain": [
       "   business_code cust_number  name_customer clear_date document_create_date.1  \\\n",
       "0              1  0200759878           3284 2019-01-15             2018-12-30   \n",
       "\n",
       "  due_in_date  total_open_amount baseline_create_date  cust_payment_terms  \\\n",
       "0  2019-01-14          11598.054           2018-12-30                  38   \n",
       "\n",
       "   delay  due_date_day  due_date_month  due_date_year  baseline_date_day  \\\n",
       "0      1            14               1           2019                 30   \n",
       "\n",
       "   baseline_date_month  baseline_date_year  create_date_day  \\\n",
       "0                   12                2018               30   \n",
       "\n",
       "   create_date_month  create_date_year  \n",
       "0                 12              2018  "
      ]
     },
     "execution_count": 282,
     "metadata": {},
     "output_type": "execute_result"
    }
   ],
   "source": [
    "X_train.head(1)"
   ]
  },
  {
   "cell_type": "code",
   "execution_count": 283,
   "metadata": {
    "colab": {
     "base_uri": "https://localhost:8080/",
     "height": 99
    },
    "id": "Oulx3QAfdMIn",
    "outputId": "d5e3288b-c9f5-465f-c720-41621f1bd39d"
   },
   "outputs": [
    {
     "data": {
      "text/html": [
       "<div>\n",
       "<style scoped>\n",
       "    .dataframe tbody tr th:only-of-type {\n",
       "        vertical-align: middle;\n",
       "    }\n",
       "\n",
       "    .dataframe tbody tr th {\n",
       "        vertical-align: top;\n",
       "    }\n",
       "\n",
       "    .dataframe thead th {\n",
       "        text-align: right;\n",
       "    }\n",
       "</style>\n",
       "<table border=\"1\" class=\"dataframe\">\n",
       "  <thead>\n",
       "    <tr style=\"text-align: right;\">\n",
       "      <th></th>\n",
       "      <th>business_code</th>\n",
       "      <th>cust_number</th>\n",
       "      <th>name_customer</th>\n",
       "      <th>clear_date</th>\n",
       "      <th>document_create_date.1</th>\n",
       "      <th>due_in_date</th>\n",
       "      <th>total_open_amount</th>\n",
       "      <th>baseline_create_date</th>\n",
       "      <th>cust_payment_terms</th>\n",
       "      <th>delay</th>\n",
       "      <th>due_date_day</th>\n",
       "      <th>due_date_month</th>\n",
       "      <th>due_date_year</th>\n",
       "      <th>baseline_date_day</th>\n",
       "      <th>baseline_date_month</th>\n",
       "      <th>baseline_date_year</th>\n",
       "      <th>create_date_day</th>\n",
       "      <th>create_date_month</th>\n",
       "      <th>create_date_year</th>\n",
       "    </tr>\n",
       "  </thead>\n",
       "  <tbody>\n",
       "    <tr>\n",
       "      <th>0</th>\n",
       "      <td>1</td>\n",
       "      <td>0200762301</td>\n",
       "      <td>568</td>\n",
       "      <td>2020-02-04</td>\n",
       "      <td>2020-01-20</td>\n",
       "      <td>2020-02-04</td>\n",
       "      <td>5171.3376</td>\n",
       "      <td>2020-01-20</td>\n",
       "      <td>27</td>\n",
       "      <td>0</td>\n",
       "      <td>4</td>\n",
       "      <td>2</td>\n",
       "      <td>2020</td>\n",
       "      <td>20</td>\n",
       "      <td>1</td>\n",
       "      <td>2020</td>\n",
       "      <td>20</td>\n",
       "      <td>1</td>\n",
       "      <td>2020</td>\n",
       "    </tr>\n",
       "  </tbody>\n",
       "</table>\n",
       "</div>"
      ],
      "text/plain": [
       "   business_code cust_number  name_customer clear_date document_create_date.1  \\\n",
       "0              1  0200762301            568 2020-02-04             2020-01-20   \n",
       "\n",
       "  due_in_date  total_open_amount baseline_create_date  cust_payment_terms  \\\n",
       "0  2020-02-04          5171.3376           2020-01-20                  27   \n",
       "\n",
       "   delay  due_date_day  due_date_month  due_date_year  baseline_date_day  \\\n",
       "0      0             4               2           2020                 20   \n",
       "\n",
       "   baseline_date_month  baseline_date_year  create_date_day  \\\n",
       "0                    1                2020               20   \n",
       "\n",
       "   create_date_month  create_date_year  \n",
       "0                  1              2020  "
      ]
     },
     "execution_count": 283,
     "metadata": {},
     "output_type": "execute_result"
    }
   ],
   "source": [
    "x_val2.head(1)#index missing due to some reason"
   ]
  },
  {
   "cell_type": "code",
   "execution_count": 284,
   "metadata": {
    "colab": {
     "base_uri": "https://localhost:8080/",
     "height": 340
    },
    "id": "DSFb5aPbx2IQ",
    "outputId": "7ad869b5-d662-4d6e-967e-e7b08a7acbad"
   },
   "outputs": [
    {
     "name": "stderr",
     "output_type": "stream",
     "text": [
      "*c* argument looks like a single numeric RGB or RGBA sequence, which should be avoided as value-mapping will have precedence in case its length matches with *x* & *y*.  Please use the *color* keyword-argument or provide a 2D array with a single row if you intend to specify the same RGB or RGBA value for all points.\n"
     ]
    },
    {
     "data": {
      "text/plain": [
       "<AxesSubplot:xlabel='total_open_amount', ylabel='delay'>"
      ]
     },
     "execution_count": 284,
     "metadata": {},
     "output_type": "execute_result"
    },
    {
     "data": {
      "image/png": "[encoded data removed]",
      "text/plain": [
       "<Figure size 432x288 with 1 Axes>"
      ]
     },
     "metadata": {},
     "output_type": "display_data"
    }
   ],
   "source": [
    "X_train.plot(x=\"total_open_amount\", y=\"delay\", kind=\"scatter\")"
   ]
  },
  {
   "cell_type": "code",
   "execution_count": 285,
   "metadata": {
    "colab": {
     "base_uri": "https://localhost:8080/",
     "height": 340
    },
    "id": "etoLiXsyII7R",
    "outputId": "eb9eff7e-c0bb-4cb8-b2e1-a0681fcb9a9f"
   },
   "outputs": [
    {
     "name": "stderr",
     "output_type": "stream",
     "text": [
      "*c* argument looks like a single numeric RGB or RGBA sequence, which should be avoided as value-mapping will have precedence in case its length matches with *x* & *y*.  Please use the *color* keyword-argument or provide a 2D array with a single row if you intend to specify the same RGB or RGBA value for all points.\n"
     ]
    },
    {
     "data": {
      "text/plain": [
       "<AxesSubplot:xlabel='total_open_amount', ylabel='delay'>"
      ]
     },
     "execution_count": 285,
     "metadata": {},
     "output_type": "execute_result"
    },
    {
     "data": {
      "image/png": "[encoded data removed]",
      "text/plain": [
       "<Figure size 432x288 with 1 Axes>"
      ]
     },
     "metadata": {},
     "output_type": "display_data"
    }
   ],
   "source": [
    "x_val1.plot(x=\"total_open_amount\", y=\"delay\", kind=\"scatter\")"
   ]
  },
  {
   "cell_type": "code",
   "execution_count": 286,
   "metadata": {
    "colab": {
     "base_uri": "https://localhost:8080/",
     "height": 340
    },
    "id": "HJ9P5vLjIMTb",
    "outputId": "7cd2306a-f4f0-42ed-c710-43de48f98394"
   },
   "outputs": [
    {
     "name": "stderr",
     "output_type": "stream",
     "text": [
      "*c* argument looks like a single numeric RGB or RGBA sequence, which should be avoided as value-mapping will have precedence in case its length matches with *x* & *y*.  Please use the *color* keyword-argument or provide a 2D array with a single row if you intend to specify the same RGB or RGBA value for all points.\n"
     ]
    },
    {
     "data": {
      "text/plain": [
       "<AxesSubplot:xlabel='total_open_amount', ylabel='delay'>"
      ]
     },
     "execution_count": 286,
     "metadata": {},
     "output_type": "execute_result"
    },
    {
     "data": {
      "image/png": "[encoded data removed]",
      "text/plain": [
       "<Figure size 432x288 with 1 Axes>"
      ]
     },
     "metadata": {},
     "output_type": "display_data"
    }
   ],
   "source": [
    "x_val2.plot(x=\"total_open_amount\", y=\"delay\", kind=\"scatter\")"
   ]
  },
  {
   "cell_type": "code",
   "execution_count": 287,
   "metadata": {
    "colab": {
     "base_uri": "https://localhost:8080/",
     "height": 467
    },
    "id": "1LE9AeBtx7CZ",
    "outputId": "e9d9a4ae-e1a1-46ec-9a9d-8ac770508204"
   },
   "outputs": [
    {
     "data": {
      "image/png": "[encoded data removed]",
      "text/plain": [
       "<Figure size 1440x720 with 1 Axes>"
      ]
     },
     "metadata": {},
     "output_type": "display_data"
    }
   ],
   "source": [
    "plt.figure(figsize=(20,10))\n",
    "sns.boxplot(X_train['delay'])\n",
    "plt.show()"
   ]
  },
  {
   "cell_type": "code",
   "execution_count": 288,
   "metadata": {
    "colab": {
     "base_uri": "https://localhost:8080/",
     "height": 464
    },
    "id": "xkKZ4UXDIjfE",
    "outputId": "ac619921-d966-4111-dbeb-021f8d1d6c06"
   },
   "outputs": [
    {
     "data": {
      "image/png": "[encoded data removed]",
      "text/plain": [
       "<Figure size 1440x720 with 1 Axes>"
      ]
     },
     "metadata": {},
     "output_type": "display_data"
    }
   ],
   "source": [
    "plt.figure(figsize=(20,10))\n",
    "sns.boxplot(x_val1['delay'])\n",
    "plt.show()"
   ]
  },
  {
   "cell_type": "code",
   "execution_count": 289,
   "metadata": {
    "colab": {
     "base_uri": "https://localhost:8080/",
     "height": 611
    },
    "id": "WtiBvqI1InkN",
    "outputId": "8beefed3-51c7-4953-8560-53883ee4af7a"
   },
   "outputs": [
    {
     "data": {
      "image/png": "[encoded data removed]",
      "text/plain": [
       "<Figure size 1440x720 with 1 Axes>"
      ]
     },
     "metadata": {},
     "output_type": "display_data"
    }
   ],
   "source": [
    "plt.figure(figsize=(20,10))\n",
    "sns.boxplot(x_val2['delay'])\n",
    "plt.show()"
   ]
  },
  {
   "cell_type": "code",
   "execution_count": 290,
   "metadata": {
    "colab": {
     "base_uri": "https://localhost:8080/",
     "height": 394
    },
    "id": "ZAxYQSszzctN",
    "outputId": "f76c31d9-eebe-4a83-dd2b-155ce8a912d8"
   },
   "outputs": [
    {
     "data": {
      "image/png": "[encoded data removed]",
      "text/plain": [
       "<Figure size 1440x432 with 1 Axes>"
      ]
     },
     "metadata": {},
     "output_type": "display_data"
    }
   ],
   "source": [
    "plt.figure(figsize=(20,6))\n",
    "sns.boxplot(X_train['total_open_amount'])\n",
    "plt.show()"
   ]
  },
  {
   "cell_type": "code",
   "execution_count": 291,
   "metadata": {
    "colab": {
     "base_uri": "https://localhost:8080/",
     "height": 467
    },
    "id": "PdPe4w15IwvY",
    "outputId": "8dd72a8f-c631-4b3b-9ca1-1be0fb066b31"
   },
   "outputs": [
    {
     "data": {
      "image/png": "[encoded data removed]",
      "text/plain": [
       "<Figure size 1440x720 with 1 Axes>"
      ]
     },
     "metadata": {},
     "output_type": "display_data"
    }
   ],
   "source": [
    "plt.figure(figsize=(20,10))\n",
    "sns.boxplot(x_val1['total_open_amount'])\n",
    "plt.show()"
   ]
  },
  {
   "cell_type": "code",
   "execution_count": 292,
   "metadata": {
    "colab": {
     "base_uri": "https://localhost:8080/",
     "height": 467
    },
    "id": "ZkaPMQ7yIwiI",
    "outputId": "70d62c65-4b0b-4e08-b7a6-3ca8bdc90886"
   },
   "outputs": [
    {
     "data": {
      "image/png": "[encoded data removed]",
      "text/plain": [
       "<Figure size 1440x720 with 1 Axes>"
      ]
     },
     "metadata": {},
     "output_type": "display_data"
    }
   ],
   "source": [
    "plt.figure(figsize=(20,10))\n",
    "sns.boxplot(x_val2['total_open_amount'])\n",
    "plt.show()"
   ]
  },
  {
   "cell_type": "markdown",
   "metadata": {
    "id": "DwcArXVuzqCf"
   },
   "source": [
    "The above plots show that total_open_amount and delay columns has a lot of outliers."
   ]
  },
  {
   "cell_type": "markdown",
   "metadata": {
    "id": "AiXZc5wXz1GU"
   },
   "source": [
    "### IQR Treatment"
   ]
  },
  {
   "cell_type": "code",
   "execution_count": 293,
   "metadata": {
    "colab": {
     "base_uri": "https://localhost:8080/"
    },
    "id": "bIwQqSByzpsb",
    "outputId": "354dac8f-f662-4906-e0d4-754f5a5e2c33"
   },
   "outputs": [
    {
     "name": "stdout",
     "output_type": "stream",
     "text": [
      "129781.07656800018\n"
     ]
    }
   ],
   "source": [
    "upper_lim1=X_train['total_open_amount'].quantile(0.99) \n",
    "print(upper_lim1)"
   ]
  },
  {
   "cell_type": "code",
   "execution_count": 294,
   "metadata": {
    "colab": {
     "base_uri": "https://localhost:8080/"
    },
    "id": "6M6GjHTRIZX-",
    "outputId": "22d960d3-528c-4529-9343-a0d523d39afb"
   },
   "outputs": [
    {
     "name": "stdout",
     "output_type": "stream",
     "text": [
      "129523.10178599998\n"
     ]
    }
   ],
   "source": [
    "upper_lim2=x_val1['total_open_amount'].quantile(0.99) \n",
    "print(upper_lim2)"
   ]
  },
  {
   "cell_type": "code",
   "execution_count": 295,
   "metadata": {
    "colab": {
     "base_uri": "https://localhost:8080/"
    },
    "id": "sj8jlMf9IZDq",
    "outputId": "9a0e1233-863d-4764-8768-2b36976c3003"
   },
   "outputs": [
    {
     "name": "stdout",
     "output_type": "stream",
     "text": [
      "117534.530724\n"
     ]
    }
   ],
   "source": [
    "upper_lim3=x_val2['total_open_amount'].quantile(0.99) \n",
    "print(upper_lim3)"
   ]
  },
  {
   "cell_type": "code",
   "execution_count": 296,
   "metadata": {
    "colab": {
     "base_uri": "https://localhost:8080/"
    },
    "id": "Ldoch1higEZK",
    "outputId": "2059902d-dd6f-45d2-93a9-666c2e7483e0"
   },
   "outputs": [
    {
     "name": "stdout",
     "output_type": "stream",
     "text": [
      "118531.13298000004\n"
     ]
    }
   ],
   "source": [
    "upper_lim4=test['total_open_amount'].quantile(0.99) \n",
    "print(upper_lim4)"
   ]
  },
  {
   "cell_type": "code",
   "execution_count": 297,
   "metadata": {
    "id": "7Av76ywKzlXf"
   },
   "outputs": [],
   "source": [
    "X_train.loc[(X_train['total_open_amount']>upper_lim1),'total_open_amount']=upper_lim1"
   ]
  },
  {
   "cell_type": "code",
   "execution_count": 298,
   "metadata": {
    "id": "OarLTNRTJOQt"
   },
   "outputs": [],
   "source": [
    "x_val1.loc[(x_val1['total_open_amount']>upper_lim2),'total_open_amount']=upper_lim2"
   ]
  },
  {
   "cell_type": "code",
   "execution_count": 299,
   "metadata": {
    "id": "_Vte1G81JOCw"
   },
   "outputs": [],
   "source": [
    "x_val2.loc[(x_val2['total_open_amount']>upper_lim3),'total_open_amount']=upper_lim3"
   ]
  },
  {
   "cell_type": "code",
   "execution_count": 300,
   "metadata": {
    "id": "ypVzl-ydgJn1"
   },
   "outputs": [],
   "source": [
    "test.loc[(test['total_open_amount']>upper_lim4),'total_open_amount']=upper_lim4"
   ]
  },
  {
   "cell_type": "code",
   "execution_count": 301,
   "metadata": {
    "colab": {
     "base_uri": "https://localhost:8080/",
     "height": 611
    },
    "id": "cnwKZRVl3gk-",
    "outputId": "a0b57c3f-1099-417a-caca-e4c439cd2f2a"
   },
   "outputs": [
    {
     "data": {
      "image/png": "[encoded data removed]",
      "text/plain": [
       "<Figure size 1440x720 with 1 Axes>"
      ]
     },
     "metadata": {},
     "output_type": "display_data"
    }
   ],
   "source": [
    "plt.figure(figsize=(20,10))\n",
    "sns.boxplot(X_train['total_open_amount'])\n",
    "plt.show()"
   ]
  },
  {
   "cell_type": "code",
   "execution_count": 302,
   "metadata": {
    "colab": {
     "base_uri": "https://localhost:8080/",
     "height": 467
    },
    "id": "4d1iC_LMJvdr",
    "outputId": "cd6fd557-68a0-485d-9bde-e874d9d82981"
   },
   "outputs": [
    {
     "data": {
      "image/png": "[encoded data removed]",
      "text/plain": [
       "<Figure size 1440x720 with 1 Axes>"
      ]
     },
     "metadata": {},
     "output_type": "display_data"
    }
   ],
   "source": [
    "plt.figure(figsize=(20,10))\n",
    "sns.boxplot(x_val1['total_open_amount'])\n",
    "plt.show()"
   ]
  },
  {
   "cell_type": "code",
   "execution_count": 303,
   "metadata": {
    "colab": {
     "base_uri": "https://localhost:8080/",
     "height": 467
    },
    "id": "TbiUUc2pJvUm",
    "outputId": "fcce55f8-33c0-42fb-f202-35862cfa0a13"
   },
   "outputs": [
    {
     "data": {
      "image/png": "[encoded data removed]",
      "text/plain": [
       "<Figure size 1440x720 with 1 Axes>"
      ]
     },
     "metadata": {},
     "output_type": "display_data"
    }
   ],
   "source": [
    "plt.figure(figsize=(20,10))\n",
    "sns.boxplot(x_val2['total_open_amount'])\n",
    "plt.show()"
   ]
  },
  {
   "cell_type": "code",
   "execution_count": 304,
   "metadata": {
    "colab": {
     "base_uri": "https://localhost:8080/",
     "height": 467
    },
    "id": "LRF9G9DTpuwd",
    "outputId": "ca9f8d29-287b-48ec-86b3-cfbfcc585bf5"
   },
   "outputs": [
    {
     "data": {
      "image/png": "[encoded data removed]",
      "text/plain": [
       "<Figure size 1440x720 with 1 Axes>"
      ]
     },
     "metadata": {},
     "output_type": "display_data"
    }
   ],
   "source": [
    "plt.figure(figsize=(20,10))\n",
    "sns.boxplot(test['total_open_amount'])\n",
    "plt.show()"
   ]
  },
  {
   "cell_type": "code",
   "execution_count": 305,
   "metadata": {
    "colab": {
     "base_uri": "https://localhost:8080/"
    },
    "id": "DXmWe9Bm3hY_",
    "outputId": "4ccb39ea-c7a3-44d4-905d-62f99d2d078d"
   },
   "outputs": [
    {
     "name": "stdout",
     "output_type": "stream",
     "text": [
      "9.0\n",
      "-7.0\n"
     ]
    }
   ],
   "source": [
    "upper_lim=X_train['delay'].quantile(0.94) #IQR treatment  of target\n",
    "lower_lim=X_train['delay'].quantile(0.05)\n",
    "print(upper_lim)\n",
    "print(lower_lim)"
   ]
  },
  {
   "cell_type": "code",
   "execution_count": 306,
   "metadata": {
    "colab": {
     "base_uri": "https://localhost:8080/"
    },
    "id": "hEKtEG5YNPjI",
    "outputId": "03d2390e-fe4e-442e-ebe2-4474121d9137"
   },
   "outputs": [
    {
     "name": "stdout",
     "output_type": "stream",
     "text": [
      "6.0\n",
      "-8.0\n"
     ]
    }
   ],
   "source": [
    "upper_lim2=x_val1['delay'].quantile(0.94) #IQR treatment  of target\n",
    "lower_lim2=x_val1['delay'].quantile(0.05)\n",
    "print(upper_lim2)\n",
    "print(lower_lim2)"
   ]
  },
  {
   "cell_type": "code",
   "execution_count": 307,
   "metadata": {
    "colab": {
     "base_uri": "https://localhost:8080/"
    },
    "id": "n8YufHQ2NPWV",
    "outputId": "46ce95fa-6302-454d-92c1-b7a1f066e19d"
   },
   "outputs": [
    {
     "name": "stdout",
     "output_type": "stream",
     "text": [
      "8.0\n",
      "-8.0\n"
     ]
    }
   ],
   "source": [
    "upper_lim3=x_val2['delay'].quantile(0.94) #IQR treatment  of target\n",
    "lower_lim3=x_val2['delay'].quantile(0.05)\n",
    "print(upper_lim3)\n",
    "print(lower_lim3)"
   ]
  },
  {
   "cell_type": "code",
   "execution_count": 308,
   "metadata": {
    "colab": {
     "base_uri": "https://localhost:8080/",
     "height": 467
    },
    "id": "4OzCdYzc3h9s",
    "outputId": "bff28fa8-0241-4727-c159-0995313698c1"
   },
   "outputs": [
    {
     "data": {
      "image/png": "[encoded data removed]",
      "text/plain": [
       "<Figure size 1440x720 with 1 Axes>"
      ]
     },
     "metadata": {},
     "output_type": "display_data"
    }
   ],
   "source": [
    "plt.figure(figsize=(20,10))\n",
    "sns.boxplot(X_train['delay'])\n",
    "plt.show()"
   ]
  },
  {
   "cell_type": "code",
   "execution_count": 309,
   "metadata": {
    "colab": {
     "base_uri": "https://localhost:8080/",
     "height": 464
    },
    "id": "JrRXck09Nl7g",
    "outputId": "b5d227d6-fe15-454c-ad8a-c50fdfbc4660"
   },
   "outputs": [
    {
     "data": {
      "image/png": "[encoded data removed]",
      "text/plain": [
       "<Figure size 1440x720 with 1 Axes>"
      ]
     },
     "metadata": {},
     "output_type": "display_data"
    }
   ],
   "source": [
    "plt.figure(figsize=(20,10))\n",
    "sns.boxplot(x_val1['delay'])\n",
    "plt.show()"
   ]
  },
  {
   "cell_type": "code",
   "execution_count": 310,
   "metadata": {
    "colab": {
     "base_uri": "https://localhost:8080/",
     "height": 467
    },
    "id": "c-3ZUwExNlnd",
    "outputId": "1bc89a13-aa2f-4b37-fb16-db23ff1ba6f4"
   },
   "outputs": [
    {
     "data": {
      "image/png": "[encoded data removed]",
      "text/plain": [
       "<Figure size 1440x720 with 1 Axes>"
      ]
     },
     "metadata": {},
     "output_type": "display_data"
    }
   ],
   "source": [
    "plt.figure(figsize=(20,10))\n",
    "sns.boxplot(x_val2['delay'])\n",
    "plt.show()"
   ]
  },
  {
   "cell_type": "code",
   "execution_count": 311,
   "metadata": {
    "colab": {
     "base_uri": "https://localhost:8080/",
     "height": 599
    },
    "id": "TTziLPQ53_PW",
    "outputId": "115987fe-bdec-494d-8220-911d015c39b7"
   },
   "outputs": [
    {
     "data": {
      "image/png": "[encoded data removed]",
      "text/plain": [
       "<Figure size 1440x720 with 1 Axes>"
      ]
     },
     "metadata": {},
     "output_type": "display_data"
    }
   ],
   "source": [
    "plt.figure(figsize=(20,10))   #Distribution Curve for X_train\n",
    "sns.distplot(X_train['delay'], bins=10)\n",
    "plt.show()"
   ]
  },
  {
   "cell_type": "code",
   "execution_count": 312,
   "metadata": {
    "colab": {
     "base_uri": "https://localhost:8080/",
     "height": 599
    },
    "id": "5hJsjzCANm-a",
    "outputId": "e3c0cd71-7e6b-48a4-b911-a38dddb293aa"
   },
   "outputs": [
    {
     "data": {
      "image/png": "[encoded data removed]",
      "text/plain": [
       "<Figure size 1440x720 with 1 Axes>"
      ]
     },
     "metadata": {},
     "output_type": "display_data"
    }
   ],
   "source": [
    "plt.figure(figsize=(20,10))   #Distribution Curve for x_val1\n",
    "sns.distplot(x_val1['delay'], bins=10)\n",
    "plt.show()"
   ]
  },
  {
   "cell_type": "code",
   "execution_count": 313,
   "metadata": {
    "colab": {
     "base_uri": "https://localhost:8080/",
     "height": 448
    },
    "id": "dFExcUkKNmvU",
    "outputId": "4258b1c8-b550-4f44-c9b0-3720efecdcba"
   },
   "outputs": [
    {
     "data": {
      "image/png": "[encoded data removed]",
      "text/plain": [
       "<Figure size 1440x720 with 1 Axes>"
      ]
     },
     "metadata": {},
     "output_type": "display_data"
    }
   ],
   "source": [
    "plt.figure(figsize=(20,10))   #Distribution Curve for x_val2\n",
    "sns.distplot(x_val2['delay'], bins=10)\n",
    "plt.show()"
   ]
  },
  {
   "cell_type": "markdown",
   "metadata": {
    "id": "fE1Wrn7_K1o5"
   },
   "source": [
    "**Generating new columns for our data**"
   ]
  },
  {
   "cell_type": "code",
   "execution_count": 314,
   "metadata": {
    "colab": {
     "base_uri": "https://localhost:8080/",
     "height": 446
    },
    "id": "hQkl4Pm45Uyf",
    "outputId": "393d0f20-075b-44ad-ee2c-7d7e0bcddd84"
   },
   "outputs": [
    {
     "data": {
      "text/html": [
       "<div>\n",
       "<style scoped>\n",
       "    .dataframe tbody tr th:only-of-type {\n",
       "        vertical-align: middle;\n",
       "    }\n",
       "\n",
       "    .dataframe tbody tr th {\n",
       "        vertical-align: top;\n",
       "    }\n",
       "\n",
       "    .dataframe thead th {\n",
       "        text-align: right;\n",
       "    }\n",
       "</style>\n",
       "<table border=\"1\" class=\"dataframe\">\n",
       "  <thead>\n",
       "    <tr style=\"text-align: right;\">\n",
       "      <th></th>\n",
       "      <th>delay</th>\n",
       "    </tr>\n",
       "    <tr>\n",
       "      <th>name_customer</th>\n",
       "      <th></th>\n",
       "    </tr>\n",
       "  </thead>\n",
       "  <tbody>\n",
       "    <tr>\n",
       "      <th>0</th>\n",
       "      <td>14.5</td>\n",
       "    </tr>\n",
       "    <tr>\n",
       "      <th>1</th>\n",
       "      <td>-10.0</td>\n",
       "    </tr>\n",
       "    <tr>\n",
       "      <th>2</th>\n",
       "      <td>7.0</td>\n",
       "    </tr>\n",
       "    <tr>\n",
       "      <th>3</th>\n",
       "      <td>0.0</td>\n",
       "    </tr>\n",
       "    <tr>\n",
       "      <th>4</th>\n",
       "      <td>-3.0</td>\n",
       "    </tr>\n",
       "    <tr>\n",
       "      <th>...</th>\n",
       "      <td>...</td>\n",
       "    </tr>\n",
       "    <tr>\n",
       "      <th>4242</th>\n",
       "      <td>-0.5</td>\n",
       "    </tr>\n",
       "    <tr>\n",
       "      <th>4243</th>\n",
       "      <td>0.0</td>\n",
       "    </tr>\n",
       "    <tr>\n",
       "      <th>4244</th>\n",
       "      <td>-9.0</td>\n",
       "    </tr>\n",
       "    <tr>\n",
       "      <th>4245</th>\n",
       "      <td>13.0</td>\n",
       "    </tr>\n",
       "    <tr>\n",
       "      <th>4247</th>\n",
       "      <td>-2.0</td>\n",
       "    </tr>\n",
       "  </tbody>\n",
       "</table>\n",
       "<p>3647 rows × 1 columns</p>\n",
       "</div>"
      ],
      "text/plain": [
       "               delay\n",
       "name_customer       \n",
       "0               14.5\n",
       "1              -10.0\n",
       "2                7.0\n",
       "3                0.0\n",
       "4               -3.0\n",
       "...              ...\n",
       "4242            -0.5\n",
       "4243             0.0\n",
       "4244            -9.0\n",
       "4245            13.0\n",
       "4247            -2.0\n",
       "\n",
       "[3647 rows x 1 columns]"
      ]
     },
     "execution_count": 314,
     "metadata": {},
     "output_type": "execute_result"
    }
   ],
   "source": [
    "groupdata=X_train.groupby('name_customer')['delay'].agg('mean') # to see how much avg delay a customer can do\n",
    "avg_delay=groupdata.to_frame()\n",
    "avg_delay"
   ]
  },
  {
   "cell_type": "code",
   "execution_count": 315,
   "metadata": {
    "colab": {
     "base_uri": "https://localhost:8080/",
     "height": 446
    },
    "id": "W91nYxGxYOTT",
    "outputId": "e202ceeb-339f-4ba4-997f-61baec6636e3"
   },
   "outputs": [
    {
     "data": {
      "text/html": [
       "<div>\n",
       "<style scoped>\n",
       "    .dataframe tbody tr th:only-of-type {\n",
       "        vertical-align: middle;\n",
       "    }\n",
       "\n",
       "    .dataframe tbody tr th {\n",
       "        vertical-align: top;\n",
       "    }\n",
       "\n",
       "    .dataframe thead th {\n",
       "        text-align: right;\n",
       "    }\n",
       "</style>\n",
       "<table border=\"1\" class=\"dataframe\">\n",
       "  <thead>\n",
       "    <tr style=\"text-align: right;\">\n",
       "      <th></th>\n",
       "      <th>delay</th>\n",
       "    </tr>\n",
       "    <tr>\n",
       "      <th>name_customer</th>\n",
       "      <th></th>\n",
       "    </tr>\n",
       "  </thead>\n",
       "  <tbody>\n",
       "    <tr>\n",
       "      <th>2</th>\n",
       "      <td>-1.0</td>\n",
       "    </tr>\n",
       "    <tr>\n",
       "      <th>32</th>\n",
       "      <td>12.0</td>\n",
       "    </tr>\n",
       "    <tr>\n",
       "      <th>71</th>\n",
       "      <td>1.0</td>\n",
       "    </tr>\n",
       "    <tr>\n",
       "      <th>74</th>\n",
       "      <td>1.0</td>\n",
       "    </tr>\n",
       "    <tr>\n",
       "      <th>75</th>\n",
       "      <td>1.0</td>\n",
       "    </tr>\n",
       "    <tr>\n",
       "      <th>...</th>\n",
       "      <td>...</td>\n",
       "    </tr>\n",
       "    <tr>\n",
       "      <th>4203</th>\n",
       "      <td>0.0</td>\n",
       "    </tr>\n",
       "    <tr>\n",
       "      <th>4228</th>\n",
       "      <td>0.0</td>\n",
       "    </tr>\n",
       "    <tr>\n",
       "      <th>4237</th>\n",
       "      <td>0.0</td>\n",
       "    </tr>\n",
       "    <tr>\n",
       "      <th>4238</th>\n",
       "      <td>4.0</td>\n",
       "    </tr>\n",
       "    <tr>\n",
       "      <th>4241</th>\n",
       "      <td>-1.0</td>\n",
       "    </tr>\n",
       "  </tbody>\n",
       "</table>\n",
       "<p>1028 rows × 1 columns</p>\n",
       "</div>"
      ],
      "text/plain": [
       "               delay\n",
       "name_customer       \n",
       "2               -1.0\n",
       "32              12.0\n",
       "71               1.0\n",
       "74               1.0\n",
       "75               1.0\n",
       "...              ...\n",
       "4203             0.0\n",
       "4228             0.0\n",
       "4237             0.0\n",
       "4238             4.0\n",
       "4241            -1.0\n",
       "\n",
       "[1028 rows x 1 columns]"
      ]
     },
     "execution_count": 315,
     "metadata": {},
     "output_type": "execute_result"
    }
   ],
   "source": [
    "groupdata2=x_val1.groupby('name_customer')['delay'].agg('mean') # to see how much avg delay a customer can do\n",
    "avg_delay2=groupdata2.to_frame()\n",
    "avg_delay2"
   ]
  },
  {
   "cell_type": "code",
   "execution_count": 316,
   "metadata": {
    "colab": {
     "base_uri": "https://localhost:8080/",
     "height": 446
    },
    "id": "g3AAlY7WYOCZ",
    "outputId": "64645016-eb05-4dcf-b186-ae115eda3767"
   },
   "outputs": [
    {
     "data": {
      "text/html": [
       "<div>\n",
       "<style scoped>\n",
       "    .dataframe tbody tr th:only-of-type {\n",
       "        vertical-align: middle;\n",
       "    }\n",
       "\n",
       "    .dataframe tbody tr th {\n",
       "        vertical-align: top;\n",
       "    }\n",
       "\n",
       "    .dataframe thead th {\n",
       "        text-align: right;\n",
       "    }\n",
       "</style>\n",
       "<table border=\"1\" class=\"dataframe\">\n",
       "  <thead>\n",
       "    <tr style=\"text-align: right;\">\n",
       "      <th></th>\n",
       "      <th>delay</th>\n",
       "    </tr>\n",
       "    <tr>\n",
       "      <th>name_customer</th>\n",
       "      <th></th>\n",
       "    </tr>\n",
       "  </thead>\n",
       "  <tbody>\n",
       "    <tr>\n",
       "      <th>11</th>\n",
       "      <td>4.0</td>\n",
       "    </tr>\n",
       "    <tr>\n",
       "      <th>18</th>\n",
       "      <td>1.0</td>\n",
       "    </tr>\n",
       "    <tr>\n",
       "      <th>50</th>\n",
       "      <td>-2.5</td>\n",
       "    </tr>\n",
       "    <tr>\n",
       "      <th>54</th>\n",
       "      <td>-2.0</td>\n",
       "    </tr>\n",
       "    <tr>\n",
       "      <th>70</th>\n",
       "      <td>4.0</td>\n",
       "    </tr>\n",
       "    <tr>\n",
       "      <th>...</th>\n",
       "      <td>...</td>\n",
       "    </tr>\n",
       "    <tr>\n",
       "      <th>4197</th>\n",
       "      <td>0.0</td>\n",
       "    </tr>\n",
       "    <tr>\n",
       "      <th>4198</th>\n",
       "      <td>3.0</td>\n",
       "    </tr>\n",
       "    <tr>\n",
       "      <th>4199</th>\n",
       "      <td>1.4</td>\n",
       "    </tr>\n",
       "    <tr>\n",
       "      <th>4224</th>\n",
       "      <td>-8.0</td>\n",
       "    </tr>\n",
       "    <tr>\n",
       "      <th>4232</th>\n",
       "      <td>-13.0</td>\n",
       "    </tr>\n",
       "  </tbody>\n",
       "</table>\n",
       "<p>1116 rows × 1 columns</p>\n",
       "</div>"
      ],
      "text/plain": [
       "               delay\n",
       "name_customer       \n",
       "11               4.0\n",
       "18               1.0\n",
       "50              -2.5\n",
       "54              -2.0\n",
       "70               4.0\n",
       "...              ...\n",
       "4197             0.0\n",
       "4198             3.0\n",
       "4199             1.4\n",
       "4224            -8.0\n",
       "4232           -13.0\n",
       "\n",
       "[1116 rows x 1 columns]"
      ]
     },
     "execution_count": 316,
     "metadata": {},
     "output_type": "execute_result"
    }
   ],
   "source": [
    "groupdata3=x_val2.groupby('name_customer')['delay'].agg('mean') # to see how much avg delay a customer can do\n",
    "avg_delay3=groupdata3.to_frame()\n",
    "avg_delay3"
   ]
  },
  {
   "cell_type": "code",
   "execution_count": 317,
   "metadata": {
    "id": "frIjdrKy6Rz0"
   },
   "outputs": [],
   "source": [
    "for i in groupdata.index:\n",
    "  X_train.loc[X_train.name_customer==i, \"avg_cust_delay\"] = avg_delay['delay'][i]"
   ]
  },
  {
   "cell_type": "code",
   "execution_count": 318,
   "metadata": {
    "id": "l0Kd37PTY5Jl"
   },
   "outputs": [],
   "source": [
    "for i in groupdata2.index:\n",
    "  x_val1.loc[x_val1.name_customer==i, \"avg_cust_delay\"] = avg_delay2['delay'][i]"
   ]
  },
  {
   "cell_type": "code",
   "execution_count": 319,
   "metadata": {
    "id": "agp6XZGYY9uL"
   },
   "outputs": [],
   "source": [
    "for i in groupdata3.index:\n",
    "  x_val2.loc[x_val2.name_customer==i, \"avg_cust_delay\"] = avg_delay3['delay'][i]"
   ]
  },
  {
   "cell_type": "code",
   "execution_count": 320,
   "metadata": {
    "colab": {
     "base_uri": "https://localhost:8080/",
     "height": 447
    },
    "id": "CJYezf0J7Tdf",
    "outputId": "04ab56b6-f5f6-4e38-c7ff-d5914c709bba"
   },
   "outputs": [
    {
     "data": {
      "text/html": [
       "<div>\n",
       "<style scoped>\n",
       "    .dataframe tbody tr th:only-of-type {\n",
       "        vertical-align: middle;\n",
       "    }\n",
       "\n",
       "    .dataframe tbody tr th {\n",
       "        vertical-align: top;\n",
       "    }\n",
       "\n",
       "    .dataframe thead th {\n",
       "        text-align: right;\n",
       "    }\n",
       "</style>\n",
       "<table border=\"1\" class=\"dataframe\">\n",
       "  <thead>\n",
       "    <tr style=\"text-align: right;\">\n",
       "      <th></th>\n",
       "      <th>count</th>\n",
       "      <th>amin</th>\n",
       "      <th>mean</th>\n",
       "      <th>amax</th>\n",
       "      <th>median</th>\n",
       "    </tr>\n",
       "    <tr>\n",
       "      <th>due_date_month</th>\n",
       "      <th></th>\n",
       "      <th></th>\n",
       "      <th></th>\n",
       "      <th></th>\n",
       "      <th></th>\n",
       "    </tr>\n",
       "  </thead>\n",
       "  <tbody>\n",
       "    <tr>\n",
       "      <th>1</th>\n",
       "      <td>1373</td>\n",
       "      <td>-31</td>\n",
       "      <td>2.450838</td>\n",
       "      <td>121</td>\n",
       "      <td>0</td>\n",
       "    </tr>\n",
       "    <tr>\n",
       "      <th>2</th>\n",
       "      <td>2527</td>\n",
       "      <td>-75</td>\n",
       "      <td>1.557182</td>\n",
       "      <td>206</td>\n",
       "      <td>0</td>\n",
       "    </tr>\n",
       "    <tr>\n",
       "      <th>3</th>\n",
       "      <td>3081</td>\n",
       "      <td>-48</td>\n",
       "      <td>1.860110</td>\n",
       "      <td>258</td>\n",
       "      <td>0</td>\n",
       "    </tr>\n",
       "    <tr>\n",
       "      <th>4</th>\n",
       "      <td>3187</td>\n",
       "      <td>-55</td>\n",
       "      <td>0.897082</td>\n",
       "      <td>238</td>\n",
       "      <td>0</td>\n",
       "    </tr>\n",
       "    <tr>\n",
       "      <th>5</th>\n",
       "      <td>3331</td>\n",
       "      <td>-58</td>\n",
       "      <td>1.150705</td>\n",
       "      <td>182</td>\n",
       "      <td>0</td>\n",
       "    </tr>\n",
       "    <tr>\n",
       "      <th>6</th>\n",
       "      <td>3004</td>\n",
       "      <td>-89</td>\n",
       "      <td>0.559587</td>\n",
       "      <td>144</td>\n",
       "      <td>0</td>\n",
       "    </tr>\n",
       "    <tr>\n",
       "      <th>7</th>\n",
       "      <td>3106</td>\n",
       "      <td>-50</td>\n",
       "      <td>1.529298</td>\n",
       "      <td>112</td>\n",
       "      <td>0</td>\n",
       "    </tr>\n",
       "    <tr>\n",
       "      <th>8</th>\n",
       "      <td>2951</td>\n",
       "      <td>-74</td>\n",
       "      <td>1.329041</td>\n",
       "      <td>147</td>\n",
       "      <td>0</td>\n",
       "    </tr>\n",
       "    <tr>\n",
       "      <th>9</th>\n",
       "      <td>2958</td>\n",
       "      <td>-76</td>\n",
       "      <td>1.160920</td>\n",
       "      <td>91</td>\n",
       "      <td>0</td>\n",
       "    </tr>\n",
       "    <tr>\n",
       "      <th>10</th>\n",
       "      <td>3157</td>\n",
       "      <td>-79</td>\n",
       "      <td>0.721571</td>\n",
       "      <td>68</td>\n",
       "      <td>0</td>\n",
       "    </tr>\n",
       "    <tr>\n",
       "      <th>11</th>\n",
       "      <td>3073</td>\n",
       "      <td>-75</td>\n",
       "      <td>0.258705</td>\n",
       "      <td>53</td>\n",
       "      <td>0</td>\n",
       "    </tr>\n",
       "    <tr>\n",
       "      <th>12</th>\n",
       "      <td>1297</td>\n",
       "      <td>-35</td>\n",
       "      <td>-0.615266</td>\n",
       "      <td>61</td>\n",
       "      <td>0</td>\n",
       "    </tr>\n",
       "  </tbody>\n",
       "</table>\n",
       "</div>"
      ],
      "text/plain": [
       "                count  amin      mean  amax  median\n",
       "due_date_month                                     \n",
       "1                1373   -31  2.450838   121       0\n",
       "2                2527   -75  1.557182   206       0\n",
       "3                3081   -48  1.860110   258       0\n",
       "4                3187   -55  0.897082   238       0\n",
       "5                3331   -58  1.150705   182       0\n",
       "6                3004   -89  0.559587   144       0\n",
       "7                3106   -50  1.529298   112       0\n",
       "8                2951   -74  1.329041   147       0\n",
       "9                2958   -76  1.160920    91       0\n",
       "10               3157   -79  0.721571    68       0\n",
       "11               3073   -75  0.258705    53       0\n",
       "12               1297   -35 -0.615266    61       0"
      ]
     },
     "execution_count": 320,
     "metadata": {},
     "output_type": "execute_result"
    }
   ],
   "source": [
    "temp=X_train.groupby('due_date_month')['delay'].agg({\"mean\",\"median\",\"count\",np.max,np.min})\n",
    "temp"
   ]
  },
  {
   "cell_type": "code",
   "execution_count": 321,
   "metadata": {
    "colab": {
     "base_uri": "https://localhost:8080/",
     "height": 294
    },
    "id": "LAKXJnloZwNG",
    "outputId": "64f0b8ad-69fe-4cb4-dc95-0107abfd4597"
   },
   "outputs": [
    {
     "data": {
      "text/html": [
       "<div>\n",
       "<style scoped>\n",
       "    .dataframe tbody tr th:only-of-type {\n",
       "        vertical-align: middle;\n",
       "    }\n",
       "\n",
       "    .dataframe tbody tr th {\n",
       "        vertical-align: top;\n",
       "    }\n",
       "\n",
       "    .dataframe thead th {\n",
       "        text-align: right;\n",
       "    }\n",
       "</style>\n",
       "<table border=\"1\" class=\"dataframe\">\n",
       "  <thead>\n",
       "    <tr style=\"text-align: right;\">\n",
       "      <th></th>\n",
       "      <th>count</th>\n",
       "      <th>amin</th>\n",
       "      <th>mean</th>\n",
       "      <th>amax</th>\n",
       "      <th>median</th>\n",
       "    </tr>\n",
       "    <tr>\n",
       "      <th>due_date_month</th>\n",
       "      <th></th>\n",
       "      <th></th>\n",
       "      <th></th>\n",
       "      <th></th>\n",
       "      <th></th>\n",
       "    </tr>\n",
       "  </thead>\n",
       "  <tbody>\n",
       "    <tr>\n",
       "      <th>1</th>\n",
       "      <td>1566</td>\n",
       "      <td>-33</td>\n",
       "      <td>0.111111</td>\n",
       "      <td>119</td>\n",
       "      <td>0</td>\n",
       "    </tr>\n",
       "    <tr>\n",
       "      <th>2</th>\n",
       "      <td>322</td>\n",
       "      <td>-28</td>\n",
       "      <td>1.344720</td>\n",
       "      <td>84</td>\n",
       "      <td>0</td>\n",
       "    </tr>\n",
       "    <tr>\n",
       "      <th>3</th>\n",
       "      <td>9</td>\n",
       "      <td>-3</td>\n",
       "      <td>7.000000</td>\n",
       "      <td>21</td>\n",
       "      <td>5</td>\n",
       "    </tr>\n",
       "    <tr>\n",
       "      <th>4</th>\n",
       "      <td>2</td>\n",
       "      <td>-35</td>\n",
       "      <td>-31.000000</td>\n",
       "      <td>-27</td>\n",
       "      <td>-31</td>\n",
       "    </tr>\n",
       "    <tr>\n",
       "      <th>11</th>\n",
       "      <td>4</td>\n",
       "      <td>21</td>\n",
       "      <td>21.000000</td>\n",
       "      <td>21</td>\n",
       "      <td>21</td>\n",
       "    </tr>\n",
       "    <tr>\n",
       "      <th>12</th>\n",
       "      <td>1521</td>\n",
       "      <td>-18</td>\n",
       "      <td>-0.512821</td>\n",
       "      <td>61</td>\n",
       "      <td>0</td>\n",
       "    </tr>\n",
       "  </tbody>\n",
       "</table>\n",
       "</div>"
      ],
      "text/plain": [
       "                count  amin       mean  amax  median\n",
       "due_date_month                                      \n",
       "1                1566   -33   0.111111   119       0\n",
       "2                 322   -28   1.344720    84       0\n",
       "3                   9    -3   7.000000    21       5\n",
       "4                   2   -35 -31.000000   -27     -31\n",
       "11                  4    21  21.000000    21      21\n",
       "12               1521   -18  -0.512821    61       0"
      ]
     },
     "execution_count": 321,
     "metadata": {},
     "output_type": "execute_result"
    }
   ],
   "source": [
    "temp2=x_val1.groupby('due_date_month')['delay'].agg({\"mean\",\"median\",\"count\",np.max,np.min})\n",
    "temp2"
   ]
  },
  {
   "cell_type": "code",
   "execution_count": 322,
   "metadata": {
    "colab": {
     "base_uri": "https://localhost:8080/",
     "height": 263
    },
    "id": "iSiCqZsfeNyH",
    "outputId": "57e1f221-6f1e-4eb3-8e89-2cf3dca27b57"
   },
   "outputs": [
    {
     "data": {
      "text/html": [
       "<div>\n",
       "<style scoped>\n",
       "    .dataframe tbody tr th:only-of-type {\n",
       "        vertical-align: middle;\n",
       "    }\n",
       "\n",
       "    .dataframe tbody tr th {\n",
       "        vertical-align: top;\n",
       "    }\n",
       "\n",
       "    .dataframe thead th {\n",
       "        text-align: right;\n",
       "    }\n",
       "</style>\n",
       "<table border=\"1\" class=\"dataframe\">\n",
       "  <thead>\n",
       "    <tr style=\"text-align: right;\">\n",
       "      <th></th>\n",
       "      <th>count</th>\n",
       "      <th>amin</th>\n",
       "      <th>mean</th>\n",
       "      <th>amax</th>\n",
       "      <th>median</th>\n",
       "    </tr>\n",
       "    <tr>\n",
       "      <th>due_date_month</th>\n",
       "      <th></th>\n",
       "      <th></th>\n",
       "      <th></th>\n",
       "      <th></th>\n",
       "      <th></th>\n",
       "    </tr>\n",
       "  </thead>\n",
       "  <tbody>\n",
       "    <tr>\n",
       "      <th>1</th>\n",
       "      <td>39</td>\n",
       "      <td>0</td>\n",
       "      <td>14.410256</td>\n",
       "      <td>37</td>\n",
       "      <td>5</td>\n",
       "    </tr>\n",
       "    <tr>\n",
       "      <th>2</th>\n",
       "      <td>2118</td>\n",
       "      <td>-30</td>\n",
       "      <td>0.889046</td>\n",
       "      <td>98</td>\n",
       "      <td>0</td>\n",
       "    </tr>\n",
       "    <tr>\n",
       "      <th>3</th>\n",
       "      <td>1133</td>\n",
       "      <td>-29</td>\n",
       "      <td>0.200353</td>\n",
       "      <td>69</td>\n",
       "      <td>0</td>\n",
       "    </tr>\n",
       "    <tr>\n",
       "      <th>4</th>\n",
       "      <td>120</td>\n",
       "      <td>-75</td>\n",
       "      <td>-17.525000</td>\n",
       "      <td>25</td>\n",
       "      <td>0</td>\n",
       "    </tr>\n",
       "    <tr>\n",
       "      <th>5</th>\n",
       "      <td>13</td>\n",
       "      <td>-51</td>\n",
       "      <td>-13.461538</td>\n",
       "      <td>3</td>\n",
       "      <td>-1</td>\n",
       "    </tr>\n",
       "    <tr>\n",
       "      <th>6</th>\n",
       "      <td>1</td>\n",
       "      <td>-15</td>\n",
       "      <td>-15.000000</td>\n",
       "      <td>-15</td>\n",
       "      <td>-15</td>\n",
       "    </tr>\n",
       "  </tbody>\n",
       "</table>\n",
       "</div>"
      ],
      "text/plain": [
       "                count  amin       mean  amax  median\n",
       "due_date_month                                      \n",
       "1                  39     0  14.410256    37       5\n",
       "2                2118   -30   0.889046    98       0\n",
       "3                1133   -29   0.200353    69       0\n",
       "4                 120   -75 -17.525000    25       0\n",
       "5                  13   -51 -13.461538     3      -1\n",
       "6                   1   -15 -15.000000   -15     -15"
      ]
     },
     "execution_count": 322,
     "metadata": {},
     "output_type": "execute_result"
    }
   ],
   "source": [
    "temp3=x_val2.groupby('due_date_month')['delay'].agg({\"mean\",\"median\",\"count\",np.max,np.min})\n",
    "temp3"
   ]
  },
  {
   "cell_type": "code",
   "execution_count": 323,
   "metadata": {
    "colab": {
     "base_uri": "https://localhost:8080/"
    },
    "id": "0hA1fylgJ8Ib",
    "outputId": "7e951080-e818-4f59-c204-253f771bda19"
   },
   "outputs": [
    {
     "data": {
      "text/plain": [
       "(33045, 21)"
      ]
     },
     "execution_count": 323,
     "metadata": {},
     "output_type": "execute_result"
    }
   ],
   "source": [
    "for i in temp.index:\n",
    "    X_train.loc[X_train['due_date_month']==i, \"dueDateWise_avg_monthly_delay_\"] = temp['mean'][i]\n",
    "X_train.shape"
   ]
  },
  {
   "cell_type": "code",
   "execution_count": 324,
   "metadata": {
    "colab": {
     "base_uri": "https://localhost:8080/"
    },
    "id": "I5JZO9dFeTPB",
    "outputId": "f1e45f96-c008-467d-bb83-188c656f159a"
   },
   "outputs": [
    {
     "data": {
      "text/plain": [
       "(3424, 21)"
      ]
     },
     "execution_count": 324,
     "metadata": {},
     "output_type": "execute_result"
    }
   ],
   "source": [
    "for i in temp2.index:\n",
    "    x_val1.loc[X_train['due_date_month']==i, \"dueDateWise_avg_monthly_delay_\"] = temp['mean'][i]\n",
    "x_val1.shape"
   ]
  },
  {
   "cell_type": "code",
   "execution_count": 325,
   "metadata": {
    "colab": {
     "base_uri": "https://localhost:8080/"
    },
    "id": "G_NDGPLseTHl",
    "outputId": "e7b99027-9b00-46c5-8501-42c64fdb8c00"
   },
   "outputs": [
    {
     "data": {
      "text/plain": [
       "(3424, 21)"
      ]
     },
     "execution_count": 325,
     "metadata": {},
     "output_type": "execute_result"
    }
   ],
   "source": [
    "for i in temp3.index:\n",
    "    x_val2.loc[X_train['due_date_month']==i, \"dueDateWise_avg_monthly_delay_\"] = temp['mean'][i]\n",
    "x_val2.shape"
   ]
  },
  {
   "cell_type": "markdown",
   "metadata": {
    "id": "q_YxYdZ8K7aM"
   },
   "source": [
    "**Binning our data**"
   ]
  },
  {
   "cell_type": "code",
   "execution_count": 326,
   "metadata": {
    "id": "THQ6K3oaKjYp"
   },
   "outputs": [],
   "source": [
    "X_train['amount_bins'] = pd.qcut(X_train['total_open_amount'],q=4,labels=[1,2,3,4])"
   ]
  },
  {
   "cell_type": "code",
   "execution_count": 327,
   "metadata": {
    "id": "pYaGBmp5euXw"
   },
   "outputs": [],
   "source": [
    "x_val1['amount_bins'] = pd.qcut(x_val1['total_open_amount'],q=4,labels=[1,2,3,4])\n",
    "x_val2['amount_bins'] = pd.qcut(x_val2['total_open_amount'],q=4,labels=[1,2,3,4])"
   ]
  },
  {
   "cell_type": "code",
   "execution_count": 328,
   "metadata": {
    "colab": {
     "base_uri": "https://localhost:8080/"
    },
    "id": "y481Ehn8LA9m",
    "outputId": "5da48a23-d359-4bb4-b3dd-ab6a95bd9c0c"
   },
   "outputs": [
    {
     "data": {
      "text/plain": [
       "0    2\n",
       "1    1\n",
       "2    1\n",
       "3    3\n",
       "4    2\n",
       "Name: amount_bins, dtype: category\n",
       "Categories (4, int64): [1 < 2 < 3 < 4]"
      ]
     },
     "execution_count": 328,
     "metadata": {},
     "output_type": "execute_result"
    }
   ],
   "source": [
    "X_train['amount_bins'].head()"
   ]
  },
  {
   "cell_type": "code",
   "execution_count": 329,
   "metadata": {
    "colab": {
     "base_uri": "https://localhost:8080/"
    },
    "id": "fb5EjZDLriNs",
    "outputId": "4aa44d70-4c80-4831-fa41-dc0fe3119648"
   },
   "outputs": [
    {
     "data": {
      "text/plain": [
       "(33045, 22)"
      ]
     },
     "execution_count": 329,
     "metadata": {},
     "output_type": "execute_result"
    }
   ],
   "source": [
    "X_train.shape"
   ]
  },
  {
   "cell_type": "code",
   "execution_count": 330,
   "metadata": {
    "colab": {
     "base_uri": "https://localhost:8080/"
    },
    "id": "fZszbgOgrgIX",
    "outputId": "d242aadd-45e6-4fa7-81a2-613c1fa4b3cf"
   },
   "outputs": [
    {
     "data": {
      "text/plain": [
       "(3424, 22)"
      ]
     },
     "execution_count": 330,
     "metadata": {},
     "output_type": "execute_result"
    }
   ],
   "source": [
    "x_val1.shape"
   ]
  },
  {
   "cell_type": "code",
   "execution_count": 331,
   "metadata": {
    "colab": {
     "base_uri": "https://localhost:8080/"
    },
    "id": "ra7jVdB7rjvN",
    "outputId": "5ef3d94e-4ccf-438d-aea5-05e614cafca3"
   },
   "outputs": [
    {
     "data": {
      "text/plain": [
       "(3424, 22)"
      ]
     },
     "execution_count": 331,
     "metadata": {},
     "output_type": "execute_result"
    }
   ],
   "source": [
    "x_val2.shape"
   ]
  },
  {
   "cell_type": "code",
   "execution_count": 332,
   "metadata": {
    "colab": {
     "base_uri": "https://localhost:8080/"
    },
    "id": "tKoVOsEyrmqo",
    "outputId": "5c9eb31d-c7e5-4739-e56e-6493b117a5f3"
   },
   "outputs": [
    {
     "data": {
      "text/plain": [
       "(9959, 18)"
      ]
     },
     "execution_count": 332,
     "metadata": {},
     "output_type": "execute_result"
    }
   ],
   "source": [
    "test.shape"
   ]
  },
  {
   "cell_type": "code",
   "execution_count": 333,
   "metadata": {
    "colab": {
     "base_uri": "https://localhost:8080/",
     "height": 285
    },
    "id": "O4sxpSNDLLOE",
    "outputId": "d7bb004d-9cc3-475e-d2d4-8e4e75259444"
   },
   "outputs": [
    {
     "data": {
      "image/png": "[encoded data removed]",
      "text/plain": [
       "<Figure size 432x288 with 1 Axes>"
      ]
     },
     "metadata": {},
     "output_type": "display_data"
    }
   ],
   "source": [
    "sns.barplot(x='amount_bins',y='delay',data=X_train)\n",
    "sns.set()"
   ]
  },
  {
   "cell_type": "markdown",
   "metadata": {
    "id": "y0tma6UzM8zc"
   },
   "source": [
    "**Exploring various aspects of our data**"
   ]
  },
  {
   "cell_type": "code",
   "execution_count": 334,
   "metadata": {
    "colab": {
     "base_uri": "https://localhost:8080/",
     "height": 305
    },
    "id": "Let3ztsSLO1p",
    "outputId": "3ff0056f-0eea-43cb-a88a-8b0120f64d61"
   },
   "outputs": [
    {
     "data": {
      "text/plain": [
       "<AxesSubplot:xlabel='business_code', ylabel='count'>"
      ]
     },
     "execution_count": 334,
     "metadata": {},
     "output_type": "execute_result"
    },
    {
     "data": {
      "image/png": "[encoded data removed]",
      "text/plain": [
       "<Figure size 432x288 with 1 Axes>"
      ]
     },
     "metadata": {},
     "output_type": "display_data"
    }
   ],
   "source": [
    "sns.countplot(x='business_code', data=X_train) #business_code 1 has maximum number of occurences in buisness code"
   ]
  },
  {
   "cell_type": "code",
   "execution_count": 335,
   "metadata": {
    "colab": {
     "base_uri": "https://localhost:8080/",
     "height": 469
    },
    "id": "eoJLd29sStqG",
    "outputId": "34dbd013-8f94-4da5-8283-3725e2b25224"
   },
   "outputs": [
    {
     "data": {
      "text/plain": [
       "<AxesSubplot:xlabel='business_code', ylabel='delay'>"
      ]
     },
     "execution_count": 335,
     "metadata": {},
     "output_type": "execute_result"
    },
    {
     "data": {
      "image/png": "[encoded data removed]",
      "text/plain": [
       "<Figure size 1440x720 with 1 Axes>"
      ]
     },
     "metadata": {},
     "output_type": "display_data"
    }
   ],
   "source": [
    "plt.figure(figsize=(20,10))\n",
    "temp1=pd.DataFrame(X_train.groupby('business_code')['delay'].mean())\n",
    "sns.barplot(x=temp1.index,y='delay',data=temp1) #business_code 3 have highest mean of delay"
   ]
  },
  {
   "cell_type": "markdown",
   "metadata": {
    "id": "jIvTomjWTceS"
   },
   "source": [
    "**Creating more columns for futher analysis.**"
   ]
  },
  {
   "cell_type": "code",
   "execution_count": 336,
   "metadata": {
    "id": "_t0600wKTUYF"
   },
   "outputs": [],
   "source": [
    "d = X_train.groupby('business_code')['delay'].mean().to_dict()"
   ]
  },
  {
   "cell_type": "code",
   "execution_count": 337,
   "metadata": {
    "id": "pP3XPeF9TnUf"
   },
   "outputs": [],
   "source": [
    "X_train['bcode_avg_delay'] = X_train['business_code'].map(d)\n",
    "x_val1['bcode_avg_delay'] = X_train['business_code'].map(d)\n",
    "x_val2['bcode_avg_delay'] = X_train['business_code'].map(d)"
   ]
  },
  {
   "cell_type": "markdown",
   "metadata": {
    "id": "iSt8cQq6B8tP"
   },
   "source": [
    "**Checking correlation between columns**"
   ]
  },
  {
   "cell_type": "code",
   "execution_count": 338,
   "metadata": {
    "colab": {
     "base_uri": "https://localhost:8080/",
     "height": 590
    },
    "id": "x7I4vuxYTrsq",
    "outputId": "f8b1ce02-19e9-4377-de12-3a2b257e76c7"
   },
   "outputs": [
    {
     "data": {
      "text/html": [
       "<div>\n",
       "<style scoped>\n",
       "    .dataframe tbody tr th:only-of-type {\n",
       "        vertical-align: middle;\n",
       "    }\n",
       "\n",
       "    .dataframe tbody tr th {\n",
       "        vertical-align: top;\n",
       "    }\n",
       "\n",
       "    .dataframe thead th {\n",
       "        text-align: right;\n",
       "    }\n",
       "</style>\n",
       "<table border=\"1\" class=\"dataframe\">\n",
       "  <thead>\n",
       "    <tr style=\"text-align: right;\">\n",
       "      <th></th>\n",
       "      <th>business_code</th>\n",
       "      <th>name_customer</th>\n",
       "      <th>total_open_amount</th>\n",
       "      <th>cust_payment_terms</th>\n",
       "      <th>delay</th>\n",
       "      <th>due_date_day</th>\n",
       "      <th>due_date_month</th>\n",
       "      <th>due_date_year</th>\n",
       "      <th>baseline_date_day</th>\n",
       "      <th>baseline_date_month</th>\n",
       "      <th>baseline_date_year</th>\n",
       "      <th>create_date_day</th>\n",
       "      <th>create_date_month</th>\n",
       "      <th>create_date_year</th>\n",
       "      <th>avg_cust_delay</th>\n",
       "      <th>dueDateWise_avg_monthly_delay_</th>\n",
       "      <th>bcode_avg_delay</th>\n",
       "    </tr>\n",
       "  </thead>\n",
       "  <tbody>\n",
       "    <tr>\n",
       "      <th>business_code</th>\n",
       "      <td>1.000000</td>\n",
       "      <td>-0.025355</td>\n",
       "      <td>-0.102167</td>\n",
       "      <td>0.474280</td>\n",
       "      <td>0.002329</td>\n",
       "      <td>0.009717</td>\n",
       "      <td>0.009837</td>\n",
       "      <td>0.007878</td>\n",
       "      <td>-0.003524</td>\n",
       "      <td>-0.017506</td>\n",
       "      <td>-0.014122</td>\n",
       "      <td>-0.001404</td>\n",
       "      <td>-0.014378</td>\n",
       "      <td>-0.008289</td>\n",
       "      <td>-0.005170</td>\n",
       "      <td>-0.016783</td>\n",
       "      <td>0.014732</td>\n",
       "    </tr>\n",
       "    <tr>\n",
       "      <th>name_customer</th>\n",
       "      <td>-0.025355</td>\n",
       "      <td>1.000000</td>\n",
       "      <td>-0.015438</td>\n",
       "      <td>0.133443</td>\n",
       "      <td>-0.016412</td>\n",
       "      <td>-0.000034</td>\n",
       "      <td>-0.007478</td>\n",
       "      <td>-0.003059</td>\n",
       "      <td>0.026685</td>\n",
       "      <td>0.000341</td>\n",
       "      <td>-0.010945</td>\n",
       "      <td>-0.000932</td>\n",
       "      <td>0.000821</td>\n",
       "      <td>-0.012111</td>\n",
       "      <td>-0.022420</td>\n",
       "      <td>0.005661</td>\n",
       "      <td>-0.035524</td>\n",
       "    </tr>\n",
       "    <tr>\n",
       "      <th>total_open_amount</th>\n",
       "      <td>-0.102167</td>\n",
       "      <td>-0.015438</td>\n",
       "      <td>1.000000</td>\n",
       "      <td>-0.192618</td>\n",
       "      <td>-0.002462</td>\n",
       "      <td>-0.014202</td>\n",
       "      <td>0.007114</td>\n",
       "      <td>-0.001702</td>\n",
       "      <td>0.036628</td>\n",
       "      <td>0.011800</td>\n",
       "      <td>0.004709</td>\n",
       "      <td>0.018433</td>\n",
       "      <td>0.011254</td>\n",
       "      <td>0.002441</td>\n",
       "      <td>0.001536</td>\n",
       "      <td>-0.007268</td>\n",
       "      <td>0.104443</td>\n",
       "    </tr>\n",
       "    <tr>\n",
       "      <th>cust_payment_terms</th>\n",
       "      <td>0.474280</td>\n",
       "      <td>0.133443</td>\n",
       "      <td>-0.192618</td>\n",
       "      <td>1.000000</td>\n",
       "      <td>0.074069</td>\n",
       "      <td>0.006616</td>\n",
       "      <td>0.032598</td>\n",
       "      <td>-0.012002</td>\n",
       "      <td>-0.029280</td>\n",
       "      <td>0.006339</td>\n",
       "      <td>-0.016542</td>\n",
       "      <td>-0.004769</td>\n",
       "      <td>0.009141</td>\n",
       "      <td>-0.011657</td>\n",
       "      <td>0.148207</td>\n",
       "      <td>-0.033175</td>\n",
       "      <td>-0.269400</td>\n",
       "    </tr>\n",
       "    <tr>\n",
       "      <th>delay</th>\n",
       "      <td>0.002329</td>\n",
       "      <td>-0.016412</td>\n",
       "      <td>-0.002462</td>\n",
       "      <td>0.074069</td>\n",
       "      <td>1.000000</td>\n",
       "      <td>-0.006826</td>\n",
       "      <td>-0.040173</td>\n",
       "      <td>-0.068698</td>\n",
       "      <td>0.000933</td>\n",
       "      <td>-0.021436</td>\n",
       "      <td>-0.010508</td>\n",
       "      <td>-0.012364</td>\n",
       "      <td>-0.022256</td>\n",
       "      <td>-0.010938</td>\n",
       "      <td>0.732031</td>\n",
       "      <td>0.055154</td>\n",
       "      <td>0.158088</td>\n",
       "    </tr>\n",
       "    <tr>\n",
       "      <th>due_date_day</th>\n",
       "      <td>0.009717</td>\n",
       "      <td>-0.000034</td>\n",
       "      <td>-0.014202</td>\n",
       "      <td>0.006616</td>\n",
       "      <td>-0.006826</td>\n",
       "      <td>1.000000</td>\n",
       "      <td>-0.099411</td>\n",
       "      <td>-0.030835</td>\n",
       "      <td>-0.367820</td>\n",
       "      <td>0.023660</td>\n",
       "      <td>0.000523</td>\n",
       "      <td>-0.373262</td>\n",
       "      <td>0.023760</td>\n",
       "      <td>0.002232</td>\n",
       "      <td>0.002679</td>\n",
       "      <td>0.154144</td>\n",
       "      <td>-0.008603</td>\n",
       "    </tr>\n",
       "    <tr>\n",
       "      <th>due_date_month</th>\n",
       "      <td>0.009837</td>\n",
       "      <td>-0.007478</td>\n",
       "      <td>0.007114</td>\n",
       "      <td>0.032598</td>\n",
       "      <td>-0.040173</td>\n",
       "      <td>-0.099411</td>\n",
       "      <td>1.000000</td>\n",
       "      <td>-0.039062</td>\n",
       "      <td>0.089979</td>\n",
       "      <td>0.958041</td>\n",
       "      <td>0.094223</td>\n",
       "      <td>0.085883</td>\n",
       "      <td>0.957227</td>\n",
       "      <td>0.096203</td>\n",
       "      <td>-0.016718</td>\n",
       "      <td>-0.728383</td>\n",
       "      <td>0.001663</td>\n",
       "    </tr>\n",
       "    <tr>\n",
       "      <th>due_date_year</th>\n",
       "      <td>0.007878</td>\n",
       "      <td>-0.003059</td>\n",
       "      <td>-0.001702</td>\n",
       "      <td>-0.012002</td>\n",
       "      <td>-0.068698</td>\n",
       "      <td>-0.030835</td>\n",
       "      <td>-0.039062</td>\n",
       "      <td>1.000000</td>\n",
       "      <td>0.007465</td>\n",
       "      <td>0.012397</td>\n",
       "      <td>0.114329</td>\n",
       "      <td>0.006997</td>\n",
       "      <td>0.012420</td>\n",
       "      <td>0.112400</td>\n",
       "      <td>-0.037410</td>\n",
       "      <td>0.049175</td>\n",
       "      <td>0.007239</td>\n",
       "    </tr>\n",
       "    <tr>\n",
       "      <th>baseline_date_day</th>\n",
       "      <td>-0.003524</td>\n",
       "      <td>0.026685</td>\n",
       "      <td>0.036628</td>\n",
       "      <td>-0.029280</td>\n",
       "      <td>0.000933</td>\n",
       "      <td>-0.367820</td>\n",
       "      <td>0.089979</td>\n",
       "      <td>0.007465</td>\n",
       "      <td>1.000000</td>\n",
       "      <td>-0.012293</td>\n",
       "      <td>-0.098384</td>\n",
       "      <td>0.950235</td>\n",
       "      <td>-0.009681</td>\n",
       "      <td>-0.092369</td>\n",
       "      <td>0.027293</td>\n",
       "      <td>-0.115302</td>\n",
       "      <td>0.011264</td>\n",
       "    </tr>\n",
       "    <tr>\n",
       "      <th>baseline_date_month</th>\n",
       "      <td>-0.017506</td>\n",
       "      <td>0.000341</td>\n",
       "      <td>0.011800</td>\n",
       "      <td>0.006339</td>\n",
       "      <td>-0.021436</td>\n",
       "      <td>0.023660</td>\n",
       "      <td>0.958041</td>\n",
       "      <td>0.012397</td>\n",
       "      <td>-0.012293</td>\n",
       "      <td>1.000000</td>\n",
       "      <td>-0.113214</td>\n",
       "      <td>-0.013063</td>\n",
       "      <td>0.998403</td>\n",
       "      <td>-0.106223</td>\n",
       "      <td>-0.006843</td>\n",
       "      <td>-0.669388</td>\n",
       "      <td>0.001514</td>\n",
       "    </tr>\n",
       "    <tr>\n",
       "      <th>baseline_date_year</th>\n",
       "      <td>-0.014122</td>\n",
       "      <td>-0.010945</td>\n",
       "      <td>0.004709</td>\n",
       "      <td>-0.016542</td>\n",
       "      <td>-0.010508</td>\n",
       "      <td>0.000523</td>\n",
       "      <td>0.094223</td>\n",
       "      <td>0.114329</td>\n",
       "      <td>-0.098384</td>\n",
       "      <td>-0.113214</td>\n",
       "      <td>1.000000</td>\n",
       "      <td>-0.096580</td>\n",
       "      <td>-0.111529</td>\n",
       "      <td>0.974193</td>\n",
       "      <td>-0.009954</td>\n",
       "      <td>-0.112753</td>\n",
       "      <td>0.008814</td>\n",
       "    </tr>\n",
       "    <tr>\n",
       "      <th>create_date_day</th>\n",
       "      <td>-0.001404</td>\n",
       "      <td>-0.000932</td>\n",
       "      <td>0.018433</td>\n",
       "      <td>-0.004769</td>\n",
       "      <td>-0.012364</td>\n",
       "      <td>-0.373262</td>\n",
       "      <td>0.085883</td>\n",
       "      <td>0.006997</td>\n",
       "      <td>0.950235</td>\n",
       "      <td>-0.013063</td>\n",
       "      <td>-0.096580</td>\n",
       "      <td>1.000000</td>\n",
       "      <td>-0.015634</td>\n",
       "      <td>-0.099896</td>\n",
       "      <td>0.011203</td>\n",
       "      <td>-0.114078</td>\n",
       "      <td>0.001237</td>\n",
       "    </tr>\n",
       "    <tr>\n",
       "      <th>create_date_month</th>\n",
       "      <td>-0.014378</td>\n",
       "      <td>0.000821</td>\n",
       "      <td>0.011254</td>\n",
       "      <td>0.009141</td>\n",
       "      <td>-0.022256</td>\n",
       "      <td>0.023760</td>\n",
       "      <td>0.957227</td>\n",
       "      <td>0.012420</td>\n",
       "      <td>-0.009681</td>\n",
       "      <td>0.998403</td>\n",
       "      <td>-0.111529</td>\n",
       "      <td>-0.015634</td>\n",
       "      <td>1.000000</td>\n",
       "      <td>-0.115332</td>\n",
       "      <td>-0.007809</td>\n",
       "      <td>-0.668158</td>\n",
       "      <td>-0.004201</td>\n",
       "    </tr>\n",
       "    <tr>\n",
       "      <th>create_date_year</th>\n",
       "      <td>-0.008289</td>\n",
       "      <td>-0.012111</td>\n",
       "      <td>0.002441</td>\n",
       "      <td>-0.011657</td>\n",
       "      <td>-0.010938</td>\n",
       "      <td>0.002232</td>\n",
       "      <td>0.096203</td>\n",
       "      <td>0.112400</td>\n",
       "      <td>-0.092369</td>\n",
       "      <td>-0.106223</td>\n",
       "      <td>0.974193</td>\n",
       "      <td>-0.099896</td>\n",
       "      <td>-0.115332</td>\n",
       "      <td>1.000000</td>\n",
       "      <td>-0.012437</td>\n",
       "      <td>-0.115257</td>\n",
       "      <td>0.002413</td>\n",
       "    </tr>\n",
       "    <tr>\n",
       "      <th>avg_cust_delay</th>\n",
       "      <td>-0.005170</td>\n",
       "      <td>-0.022420</td>\n",
       "      <td>0.001536</td>\n",
       "      <td>0.148207</td>\n",
       "      <td>0.732031</td>\n",
       "      <td>0.002679</td>\n",
       "      <td>-0.016718</td>\n",
       "      <td>-0.037410</td>\n",
       "      <td>0.027293</td>\n",
       "      <td>-0.006843</td>\n",
       "      <td>-0.009954</td>\n",
       "      <td>0.011203</td>\n",
       "      <td>-0.007809</td>\n",
       "      <td>-0.012437</td>\n",
       "      <td>1.000000</td>\n",
       "      <td>0.030333</td>\n",
       "      <td>0.198705</td>\n",
       "    </tr>\n",
       "    <tr>\n",
       "      <th>dueDateWise_avg_monthly_delay_</th>\n",
       "      <td>-0.016783</td>\n",
       "      <td>0.005661</td>\n",
       "      <td>-0.007268</td>\n",
       "      <td>-0.033175</td>\n",
       "      <td>0.055154</td>\n",
       "      <td>0.154144</td>\n",
       "      <td>-0.728383</td>\n",
       "      <td>0.049175</td>\n",
       "      <td>-0.115302</td>\n",
       "      <td>-0.669388</td>\n",
       "      <td>-0.112753</td>\n",
       "      <td>-0.114078</td>\n",
       "      <td>-0.668158</td>\n",
       "      <td>-0.115257</td>\n",
       "      <td>0.030333</td>\n",
       "      <td>1.000000</td>\n",
       "      <td>-0.001060</td>\n",
       "    </tr>\n",
       "    <tr>\n",
       "      <th>bcode_avg_delay</th>\n",
       "      <td>0.014732</td>\n",
       "      <td>-0.035524</td>\n",
       "      <td>0.104443</td>\n",
       "      <td>-0.269400</td>\n",
       "      <td>0.158088</td>\n",
       "      <td>-0.008603</td>\n",
       "      <td>0.001663</td>\n",
       "      <td>0.007239</td>\n",
       "      <td>0.011264</td>\n",
       "      <td>0.001514</td>\n",
       "      <td>0.008814</td>\n",
       "      <td>0.001237</td>\n",
       "      <td>-0.004201</td>\n",
       "      <td>0.002413</td>\n",
       "      <td>0.198705</td>\n",
       "      <td>-0.001060</td>\n",
       "      <td>1.000000</td>\n",
       "    </tr>\n",
       "  </tbody>\n",
       "</table>\n",
       "</div>"
      ],
      "text/plain": [
       "                                business_code  name_customer  \\\n",
       "business_code                        1.000000      -0.025355   \n",
       "name_customer                       -0.025355       1.000000   \n",
       "total_open_amount                   -0.102167      -0.015438   \n",
       "cust_payment_terms                   0.474280       0.133443   \n",
       "delay                                0.002329      -0.016412   \n",
       "due_date_day                         0.009717      -0.000034   \n",
       "due_date_month                       0.009837      -0.007478   \n",
       "due_date_year                        0.007878      -0.003059   \n",
       "baseline_date_day                   -0.003524       0.026685   \n",
       "baseline_date_month                 -0.017506       0.000341   \n",
       "baseline_date_year                  -0.014122      -0.010945   \n",
       "create_date_day                     -0.001404      -0.000932   \n",
       "create_date_month                   -0.014378       0.000821   \n",
       "create_date_year                    -0.008289      -0.012111   \n",
       "avg_cust_delay                      -0.005170      -0.022420   \n",
       "dueDateWise_avg_monthly_delay_      -0.016783       0.005661   \n",
       "bcode_avg_delay                      0.014732      -0.035524   \n",
       "\n",
       "                                total_open_amount  cust_payment_terms  \\\n",
       "business_code                           -0.102167            0.474280   \n",
       "name_customer                           -0.015438            0.133443   \n",
       "total_open_amount                        1.000000           -0.192618   \n",
       "cust_payment_terms                      -0.192618            1.000000   \n",
       "delay                                   -0.002462            0.074069   \n",
       "due_date_day                            -0.014202            0.006616   \n",
       "due_date_month                           0.007114            0.032598   \n",
       "due_date_year                           -0.001702           -0.012002   \n",
       "baseline_date_day                        0.036628           -0.029280   \n",
       "baseline_date_month                      0.011800            0.006339   \n",
       "baseline_date_year                       0.004709           -0.016542   \n",
       "create_date_day                          0.018433           -0.004769   \n",
       "create_date_month                        0.011254            0.009141   \n",
       "create_date_year                         0.002441           -0.011657   \n",
       "avg_cust_delay                           0.001536            0.148207   \n",
       "dueDateWise_avg_monthly_delay_          -0.007268           -0.033175   \n",
       "bcode_avg_delay                          0.104443           -0.269400   \n",
       "\n",
       "                                   delay  due_date_day  due_date_month  \\\n",
       "business_code                   0.002329      0.009717        0.009837   \n",
       "name_customer                  -0.016412     -0.000034       -0.007478   \n",
       "total_open_amount              -0.002462     -0.014202        0.007114   \n",
       "cust_payment_terms              0.074069      0.006616        0.032598   \n",
       "delay                           1.000000     -0.006826       -0.040173   \n",
       "due_date_day                   -0.006826      1.000000       -0.099411   \n",
       "due_date_month                 -0.040173     -0.099411        1.000000   \n",
       "due_date_year                  -0.068698     -0.030835       -0.039062   \n",
       "baseline_date_day               0.000933     -0.367820        0.089979   \n",
       "baseline_date_month            -0.021436      0.023660        0.958041   \n",
       "baseline_date_year             -0.010508      0.000523        0.094223   \n",
       "create_date_day                -0.012364     -0.373262        0.085883   \n",
       "create_date_month              -0.022256      0.023760        0.957227   \n",
       "create_date_year               -0.010938      0.002232        0.096203   \n",
       "avg_cust_delay                  0.732031      0.002679       -0.016718   \n",
       "dueDateWise_avg_monthly_delay_  0.055154      0.154144       -0.728383   \n",
       "bcode_avg_delay                 0.158088     -0.008603        0.001663   \n",
       "\n",
       "                                due_date_year  baseline_date_day  \\\n",
       "business_code                        0.007878          -0.003524   \n",
       "name_customer                       -0.003059           0.026685   \n",
       "total_open_amount                   -0.001702           0.036628   \n",
       "cust_payment_terms                  -0.012002          -0.029280   \n",
       "delay                               -0.068698           0.000933   \n",
       "due_date_day                        -0.030835          -0.367820   \n",
       "due_date_month                      -0.039062           0.089979   \n",
       "due_date_year                        1.000000           0.007465   \n",
       "baseline_date_day                    0.007465           1.000000   \n",
       "baseline_date_month                  0.012397          -0.012293   \n",
       "baseline_date_year                   0.114329          -0.098384   \n",
       "create_date_day                      0.006997           0.950235   \n",
       "create_date_month                    0.012420          -0.009681   \n",
       "create_date_year                     0.112400          -0.092369   \n",
       "avg_cust_delay                      -0.037410           0.027293   \n",
       "dueDateWise_avg_monthly_delay_       0.049175          -0.115302   \n",
       "bcode_avg_delay                      0.007239           0.011264   \n",
       "\n",
       "                                baseline_date_month  baseline_date_year  \\\n",
       "business_code                             -0.017506           -0.014122   \n",
       "name_customer                              0.000341           -0.010945   \n",
       "total_open_amount                          0.011800            0.004709   \n",
       "cust_payment_terms                         0.006339           -0.016542   \n",
       "delay                                     -0.021436           -0.010508   \n",
       "due_date_day                               0.023660            0.000523   \n",
       "due_date_month                             0.958041            0.094223   \n",
       "due_date_year                              0.012397            0.114329   \n",
       "baseline_date_day                         -0.012293           -0.098384   \n",
       "baseline_date_month                        1.000000           -0.113214   \n",
       "baseline_date_year                        -0.113214            1.000000   \n",
       "create_date_day                           -0.013063           -0.096580   \n",
       "create_date_month                          0.998403           -0.111529   \n",
       "create_date_year                          -0.106223            0.974193   \n",
       "avg_cust_delay                            -0.006843           -0.009954   \n",
       "dueDateWise_avg_monthly_delay_            -0.669388           -0.112753   \n",
       "bcode_avg_delay                            0.001514            0.008814   \n",
       "\n",
       "                                create_date_day  create_date_month  \\\n",
       "business_code                         -0.001404          -0.014378   \n",
       "name_customer                         -0.000932           0.000821   \n",
       "total_open_amount                      0.018433           0.011254   \n",
       "cust_payment_terms                    -0.004769           0.009141   \n",
       "delay                                 -0.012364          -0.022256   \n",
       "due_date_day                          -0.373262           0.023760   \n",
       "due_date_month                         0.085883           0.957227   \n",
       "due_date_year                          0.006997           0.012420   \n",
       "baseline_date_day                      0.950235          -0.009681   \n",
       "baseline_date_month                   -0.013063           0.998403   \n",
       "baseline_date_year                    -0.096580          -0.111529   \n",
       "create_date_day                        1.000000          -0.015634   \n",
       "create_date_month                     -0.015634           1.000000   \n",
       "create_date_year                      -0.099896          -0.115332   \n",
       "avg_cust_delay                         0.011203          -0.007809   \n",
       "dueDateWise_avg_monthly_delay_        -0.114078          -0.668158   \n",
       "bcode_avg_delay                        0.001237          -0.004201   \n",
       "\n",
       "                                create_date_year  avg_cust_delay  \\\n",
       "business_code                          -0.008289       -0.005170   \n",
       "name_customer                          -0.012111       -0.022420   \n",
       "total_open_amount                       0.002441        0.001536   \n",
       "cust_payment_terms                     -0.011657        0.148207   \n",
       "delay                                  -0.010938        0.732031   \n",
       "due_date_day                            0.002232        0.002679   \n",
       "due_date_month                          0.096203       -0.016718   \n",
       "due_date_year                           0.112400       -0.037410   \n",
       "baseline_date_day                      -0.092369        0.027293   \n",
       "baseline_date_month                    -0.106223       -0.006843   \n",
       "baseline_date_year                      0.974193       -0.009954   \n",
       "create_date_day                        -0.099896        0.011203   \n",
       "create_date_month                      -0.115332       -0.007809   \n",
       "create_date_year                        1.000000       -0.012437   \n",
       "avg_cust_delay                         -0.012437        1.000000   \n",
       "dueDateWise_avg_monthly_delay_         -0.115257        0.030333   \n",
       "bcode_avg_delay                         0.002413        0.198705   \n",
       "\n",
       "                                dueDateWise_avg_monthly_delay_  \\\n",
       "business_code                                        -0.016783   \n",
       "name_customer                                         0.005661   \n",
       "total_open_amount                                    -0.007268   \n",
       "cust_payment_terms                                   -0.033175   \n",
       "delay                                                 0.055154   \n",
       "due_date_day                                          0.154144   \n",
       "due_date_month                                       -0.728383   \n",
       "due_date_year                                         0.049175   \n",
       "baseline_date_day                                    -0.115302   \n",
       "baseline_date_month                                  -0.669388   \n",
       "baseline_date_year                                   -0.112753   \n",
       "create_date_day                                      -0.114078   \n",
       "create_date_month                                    -0.668158   \n",
       "create_date_year                                     -0.115257   \n",
       "avg_cust_delay                                        0.030333   \n",
       "dueDateWise_avg_monthly_delay_                        1.000000   \n",
       "bcode_avg_delay                                      -0.001060   \n",
       "\n",
       "                                bcode_avg_delay  \n",
       "business_code                          0.014732  \n",
       "name_customer                         -0.035524  \n",
       "total_open_amount                      0.104443  \n",
       "cust_payment_terms                    -0.269400  \n",
       "delay                                  0.158088  \n",
       "due_date_day                          -0.008603  \n",
       "due_date_month                         0.001663  \n",
       "due_date_year                          0.007239  \n",
       "baseline_date_day                      0.011264  \n",
       "baseline_date_month                    0.001514  \n",
       "baseline_date_year                     0.008814  \n",
       "create_date_day                        0.001237  \n",
       "create_date_month                     -0.004201  \n",
       "create_date_year                       0.002413  \n",
       "avg_cust_delay                         0.198705  \n",
       "dueDateWise_avg_monthly_delay_        -0.001060  \n",
       "bcode_avg_delay                        1.000000  "
      ]
     },
     "execution_count": 338,
     "metadata": {},
     "output_type": "execute_result"
    }
   ],
   "source": [
    "X_train.corr()"
   ]
  },
  {
   "cell_type": "code",
   "execution_count": 339,
   "metadata": {
    "colab": {
     "base_uri": "https://localhost:8080/",
     "height": 725
    },
    "id": "Fsy5Qo31T2mS",
    "outputId": "18d6b7d3-8a97-48ab-accb-5c394fe6b871"
   },
   "outputs": [
    {
     "data": {
      "image/png": "[encoded data removed]",
      "text/plain": [
       "<Figure size 792x648 with 2 Axes>"
      ]
     },
     "metadata": {},
     "output_type": "display_data"
    }
   ],
   "source": [
    "fig, ax = plt.subplots(figsize=(11, 9))\n",
    "sns.heatmap(X_train.corr(),cmap=\"Blues\")\n",
    "plt.show()"
   ]
  },
  {
   "cell_type": "markdown",
   "metadata": {
    "id": "VfkuPCgrCDJ-"
   },
   "source": [
    "**Dropping columns with high correlation**"
   ]
  },
  {
   "cell_type": "code",
   "execution_count": 340,
   "metadata": {
    "id": "-f46BmCUUP8_"
   },
   "outputs": [],
   "source": [
    "#due_date_month has high correlation with baseline date month and create date month\n",
    "#dropping these columns\n",
    "X_train.drop(columns = [\"baseline_date_month\",\"create_date_month\"], inplace = True)\n",
    "X_train.reset_index(inplace=True, drop=True)"
   ]
  },
  {
   "cell_type": "code",
   "execution_count": 341,
   "metadata": {
    "id": "8nek2nhJsFa7"
   },
   "outputs": [],
   "source": [
    "x_val1.drop(columns = [\"baseline_date_month\",\"create_date_month\"], inplace = True)\n",
    "x_val1.reset_index(inplace=True, drop=True)"
   ]
  },
  {
   "cell_type": "code",
   "execution_count": 342,
   "metadata": {
    "id": "Oz4b3XbVsOif"
   },
   "outputs": [],
   "source": [
    "x_val2.drop(columns = [\"baseline_date_month\",\"create_date_month\"], inplace = True)\n",
    "x_val2.reset_index(inplace=True)"
   ]
  },
  {
   "cell_type": "code",
   "execution_count": 343,
   "metadata": {
    "id": "SSgYjU6zsRb4"
   },
   "outputs": [],
   "source": [
    "test.drop(columns = [\"baseline_date_month\",\"create_date_month\"], inplace = True)\n",
    "test.reset_index(inplace=True)"
   ]
  },
  {
   "cell_type": "code",
   "execution_count": 344,
   "metadata": {
    "colab": {
     "base_uri": "https://localhost:8080/",
     "height": 222
    },
    "id": "X8ieAXO7VKYy",
    "outputId": "75cd26df-05ea-4a23-82ab-f8f910ed3aa6"
   },
   "outputs": [
    {
     "data": {
      "text/html": [
       "<div>\n",
       "<style scoped>\n",
       "    .dataframe tbody tr th:only-of-type {\n",
       "        vertical-align: middle;\n",
       "    }\n",
       "\n",
       "    .dataframe tbody tr th {\n",
       "        vertical-align: top;\n",
       "    }\n",
       "\n",
       "    .dataframe thead th {\n",
       "        text-align: right;\n",
       "    }\n",
       "</style>\n",
       "<table border=\"1\" class=\"dataframe\">\n",
       "  <thead>\n",
       "    <tr style=\"text-align: right;\">\n",
       "      <th></th>\n",
       "      <th>business_code</th>\n",
       "      <th>cust_number</th>\n",
       "      <th>name_customer</th>\n",
       "      <th>clear_date</th>\n",
       "      <th>document_create_date.1</th>\n",
       "      <th>due_in_date</th>\n",
       "      <th>total_open_amount</th>\n",
       "      <th>baseline_create_date</th>\n",
       "      <th>cust_payment_terms</th>\n",
       "      <th>delay</th>\n",
       "      <th>...</th>\n",
       "      <th>due_date_month</th>\n",
       "      <th>due_date_year</th>\n",
       "      <th>baseline_date_day</th>\n",
       "      <th>baseline_date_year</th>\n",
       "      <th>create_date_day</th>\n",
       "      <th>create_date_year</th>\n",
       "      <th>avg_cust_delay</th>\n",
       "      <th>dueDateWise_avg_monthly_delay_</th>\n",
       "      <th>amount_bins</th>\n",
       "      <th>bcode_avg_delay</th>\n",
       "    </tr>\n",
       "  </thead>\n",
       "  <tbody>\n",
       "    <tr>\n",
       "      <th>0</th>\n",
       "      <td>1</td>\n",
       "      <td>0200759878</td>\n",
       "      <td>3284</td>\n",
       "      <td>2019-01-15</td>\n",
       "      <td>2018-12-30</td>\n",
       "      <td>2019-01-14</td>\n",
       "      <td>11598.0540</td>\n",
       "      <td>2018-12-30</td>\n",
       "      <td>38</td>\n",
       "      <td>1</td>\n",
       "      <td>...</td>\n",
       "      <td>1</td>\n",
       "      <td>2019</td>\n",
       "      <td>30</td>\n",
       "      <td>2018</td>\n",
       "      <td>30</td>\n",
       "      <td>2018</td>\n",
       "      <td>1.303571</td>\n",
       "      <td>2.450838</td>\n",
       "      <td>2</td>\n",
       "      <td>0.519311</td>\n",
       "    </tr>\n",
       "    <tr>\n",
       "      <th>1</th>\n",
       "      <td>1</td>\n",
       "      <td>0200726979</td>\n",
       "      <td>426</td>\n",
       "      <td>2019-01-15</td>\n",
       "      <td>2018-12-30</td>\n",
       "      <td>2019-01-14</td>\n",
       "      <td>25.8804</td>\n",
       "      <td>2018-12-30</td>\n",
       "      <td>22</td>\n",
       "      <td>1</td>\n",
       "      <td>...</td>\n",
       "      <td>1</td>\n",
       "      <td>2019</td>\n",
       "      <td>30</td>\n",
       "      <td>2018</td>\n",
       "      <td>30</td>\n",
       "      <td>2018</td>\n",
       "      <td>0.788732</td>\n",
       "      <td>2.450838</td>\n",
       "      <td>1</td>\n",
       "      <td>0.519311</td>\n",
       "    </tr>\n",
       "    <tr>\n",
       "      <th>2</th>\n",
       "      <td>1</td>\n",
       "      <td>0200769623</td>\n",
       "      <td>4114</td>\n",
       "      <td>2019-01-15</td>\n",
       "      <td>2018-12-30</td>\n",
       "      <td>2019-01-14</td>\n",
       "      <td>268.3278</td>\n",
       "      <td>2018-12-30</td>\n",
       "      <td>38</td>\n",
       "      <td>1</td>\n",
       "      <td>...</td>\n",
       "      <td>1</td>\n",
       "      <td>2019</td>\n",
       "      <td>30</td>\n",
       "      <td>2018</td>\n",
       "      <td>30</td>\n",
       "      <td>2018</td>\n",
       "      <td>-2.171470</td>\n",
       "      <td>2.450838</td>\n",
       "      <td>1</td>\n",
       "      <td>0.519311</td>\n",
       "    </tr>\n",
       "    <tr>\n",
       "      <th>3</th>\n",
       "      <td>1</td>\n",
       "      <td>0200741174</td>\n",
       "      <td>2381</td>\n",
       "      <td>2019-02-01</td>\n",
       "      <td>2018-12-30</td>\n",
       "      <td>2019-01-31</td>\n",
       "      <td>17765.2800</td>\n",
       "      <td>2018-12-30</td>\n",
       "      <td>15</td>\n",
       "      <td>1</td>\n",
       "      <td>...</td>\n",
       "      <td>1</td>\n",
       "      <td>2019</td>\n",
       "      <td>30</td>\n",
       "      <td>2018</td>\n",
       "      <td>30</td>\n",
       "      <td>2018</td>\n",
       "      <td>2.583333</td>\n",
       "      <td>2.450838</td>\n",
       "      <td>3</td>\n",
       "      <td>0.519311</td>\n",
       "    </tr>\n",
       "    <tr>\n",
       "      <th>4</th>\n",
       "      <td>1</td>\n",
       "      <td>0200744019</td>\n",
       "      <td>3801</td>\n",
       "      <td>2019-01-18</td>\n",
       "      <td>2018-12-30</td>\n",
       "      <td>2019-01-14</td>\n",
       "      <td>9346.4202</td>\n",
       "      <td>2018-12-30</td>\n",
       "      <td>22</td>\n",
       "      <td>4</td>\n",
       "      <td>...</td>\n",
       "      <td>1</td>\n",
       "      <td>2019</td>\n",
       "      <td>30</td>\n",
       "      <td>2018</td>\n",
       "      <td>30</td>\n",
       "      <td>2018</td>\n",
       "      <td>2.794118</td>\n",
       "      <td>2.450838</td>\n",
       "      <td>2</td>\n",
       "      <td>0.519311</td>\n",
       "    </tr>\n",
       "  </tbody>\n",
       "</table>\n",
       "<p>5 rows × 21 columns</p>\n",
       "</div>"
      ],
      "text/plain": [
       "   business_code cust_number  name_customer clear_date document_create_date.1  \\\n",
       "0              1  0200759878           3284 2019-01-15             2018-12-30   \n",
       "1              1  0200726979            426 2019-01-15             2018-12-30   \n",
       "2              1  0200769623           4114 2019-01-15             2018-12-30   \n",
       "3              1  0200741174           2381 2019-02-01             2018-12-30   \n",
       "4              1  0200744019           3801 2019-01-18             2018-12-30   \n",
       "\n",
       "  due_in_date  total_open_amount baseline_create_date  cust_payment_terms  \\\n",
       "0  2019-01-14         11598.0540           2018-12-30                  38   \n",
       "1  2019-01-14            25.8804           2018-12-30                  22   \n",
       "2  2019-01-14           268.3278           2018-12-30                  38   \n",
       "3  2019-01-31         17765.2800           2018-12-30                  15   \n",
       "4  2019-01-14          9346.4202           2018-12-30                  22   \n",
       "\n",
       "   delay  ...  due_date_month  due_date_year  baseline_date_day  \\\n",
       "0      1  ...               1           2019                 30   \n",
       "1      1  ...               1           2019                 30   \n",
       "2      1  ...               1           2019                 30   \n",
       "3      1  ...               1           2019                 30   \n",
       "4      4  ...               1           2019                 30   \n",
       "\n",
       "   baseline_date_year  create_date_day  create_date_year  avg_cust_delay  \\\n",
       "0                2018               30              2018        1.303571   \n",
       "1                2018               30              2018        0.788732   \n",
       "2                2018               30              2018       -2.171470   \n",
       "3                2018               30              2018        2.583333   \n",
       "4                2018               30              2018        2.794118   \n",
       "\n",
       "   dueDateWise_avg_monthly_delay_  amount_bins bcode_avg_delay  \n",
       "0                        2.450838            2        0.519311  \n",
       "1                        2.450838            1        0.519311  \n",
       "2                        2.450838            1        0.519311  \n",
       "3                        2.450838            3        0.519311  \n",
       "4                        2.450838            2        0.519311  \n",
       "\n",
       "[5 rows x 21 columns]"
      ]
     },
     "execution_count": 344,
     "metadata": {},
     "output_type": "execute_result"
    }
   ],
   "source": [
    "X_train.head()"
   ]
  },
  {
   "cell_type": "code",
   "execution_count": 345,
   "metadata": {
    "id": "nPb8-Y-VVL_P"
   },
   "outputs": [],
   "source": [
    "#create_date_day have high correlation with baseline_date_day, so we can drop one\n",
    "X_train.drop(columns = 'create_date_day' , inplace = True)\n",
    "X_train.reset_index(inplace=True, drop=True)"
   ]
  },
  {
   "cell_type": "code",
   "execution_count": 346,
   "metadata": {
    "id": "_TBw0nMUViZP"
   },
   "outputs": [],
   "source": [
    "#baseline_date_year have high correlation with create_date_year, so we drop one\n",
    "X_train.drop(columns = 'create_date_year' , inplace = True)\n",
    "X_train.reset_index(inplace=True, drop=True)"
   ]
  },
  {
   "cell_type": "code",
   "execution_count": 347,
   "metadata": {
    "id": "JZ1QkdPpsg4Q"
   },
   "outputs": [],
   "source": [
    "x_val1.drop(['create_date_day','create_date_year'],axis=1,inplace=True)\n",
    "x_val2.drop(['create_date_day','create_date_year'],axis=1,inplace=True)\n",
    "test.drop(['create_date_day','create_date_year'],axis=1,inplace=True)"
   ]
  },
  {
   "cell_type": "code",
   "execution_count": 348,
   "metadata": {
    "colab": {
     "base_uri": "https://localhost:8080/"
    },
    "id": "DU4CVhIEsyKn",
    "outputId": "5a141dd5-9fe8-4ebb-d1cf-75a07ddbd260"
   },
   "outputs": [
    {
     "data": {
      "text/plain": [
       "(33045, 19)"
      ]
     },
     "execution_count": 348,
     "metadata": {},
     "output_type": "execute_result"
    }
   ],
   "source": [
    "X_train.shape"
   ]
  },
  {
   "cell_type": "code",
   "execution_count": 349,
   "metadata": {
    "colab": {
     "base_uri": "https://localhost:8080/"
    },
    "id": "LyKeBMRWssQ5",
    "outputId": "d6803108-6bc4-4a34-bdc2-3175685a08bb"
   },
   "outputs": [
    {
     "data": {
      "text/plain": [
       "(3424, 19)"
      ]
     },
     "execution_count": 349,
     "metadata": {},
     "output_type": "execute_result"
    }
   ],
   "source": [
    "x_val1.shape"
   ]
  },
  {
   "cell_type": "code",
   "execution_count": 350,
   "metadata": {
    "colab": {
     "base_uri": "https://localhost:8080/"
    },
    "id": "hUG3KVv16d5w",
    "outputId": "008233c0-e666-401a-d153-2c22d646ab31"
   },
   "outputs": [
    {
     "data": {
      "text/plain": [
       "(3424, 20)"
      ]
     },
     "execution_count": 350,
     "metadata": {},
     "output_type": "execute_result"
    }
   ],
   "source": [
    "x_val2.shape"
   ]
  },
  {
   "cell_type": "code",
   "execution_count": 351,
   "metadata": {
    "colab": {
     "base_uri": "https://localhost:8080/"
    },
    "id": "9bkywfsxs7oY",
    "outputId": "09cf536f-fd22-4dde-aaaa-0f9743cebcb1"
   },
   "outputs": [
    {
     "data": {
      "text/plain": [
       "(9959, 15)"
      ]
     },
     "execution_count": 351,
     "metadata": {},
     "output_type": "execute_result"
    }
   ],
   "source": [
    "test.shape"
   ]
  },
  {
   "cell_type": "code",
   "execution_count": 352,
   "metadata": {
    "colab": {
     "base_uri": "https://localhost:8080/",
     "height": 721
    },
    "id": "tL2Qcn6CXgGN",
    "outputId": "859d06e3-3bca-436a-8fb9-2b5de05f9fad"
   },
   "outputs": [
    {
     "data": {
      "image/png": "[encoded data removed]",
      "text/plain": [
       "<Figure size 792x648 with 2 Axes>"
      ]
     },
     "metadata": {},
     "output_type": "display_data"
    }
   ],
   "source": [
    "fig, ax = plt.subplots(figsize=(11, 9))\n",
    "df_corr=X_train.corr()\n",
    "# mask\n",
    "mask = np.triu(np.ones_like(df_corr, dtype=np.bool))\n",
    "# adjust mask and df\n",
    "mask = mask[1:, :-1]\n",
    "corr = df_corr.iloc[1:,:-1].copy()\n",
    "# color map\n",
    "cmap = sns.diverging_palette(0, 230, 90, 60, as_cmap=True)\n",
    "# plot heatmap\n",
    "sns.heatmap(corr,cmap=cmap,mask=mask, annot=True, fmt=\".2f\",vmin=-1, vmax=1, cbar_kws={\"shrink\": .8})\n",
    "# yticks\n",
    "plt.yticks(rotation=0)\n",
    "plt.show()"
   ]
  },
  {
   "cell_type": "code",
   "execution_count": 353,
   "metadata": {
    "id": "yw3opZs-bf4K"
   },
   "outputs": [],
   "source": [
    "#due_date_month and dueDateWise_avg_monthly_delay_ has correlation, dropping one column\n",
    "X_train.drop(\"dueDateWise_avg_monthly_delay_\",axis=1,inplace=True)"
   ]
  },
  {
   "cell_type": "code",
   "execution_count": 354,
   "metadata": {
    "id": "KdXyLJW5tEah"
   },
   "outputs": [],
   "source": [
    "x_val1.drop(\"dueDateWise_avg_monthly_delay_\",axis=1,inplace=True)"
   ]
  },
  {
   "cell_type": "code",
   "execution_count": 355,
   "metadata": {
    "id": "R3eH572TtFK3"
   },
   "outputs": [],
   "source": [
    "x_val2.drop(\"dueDateWise_avg_monthly_delay_\",axis=1,inplace=True)"
   ]
  },
  {
   "cell_type": "code",
   "execution_count": 356,
   "metadata": {
    "colab": {
     "base_uri": "https://localhost:8080/",
     "height": 222
    },
    "id": "_F4g_MmbdGiV",
    "outputId": "644786da-8aed-4942-f2fa-e7011e6503ba"
   },
   "outputs": [
    {
     "data": {
      "text/html": [
       "<div>\n",
       "<style scoped>\n",
       "    .dataframe tbody tr th:only-of-type {\n",
       "        vertical-align: middle;\n",
       "    }\n",
       "\n",
       "    .dataframe tbody tr th {\n",
       "        vertical-align: top;\n",
       "    }\n",
       "\n",
       "    .dataframe thead th {\n",
       "        text-align: right;\n",
       "    }\n",
       "</style>\n",
       "<table border=\"1\" class=\"dataframe\">\n",
       "  <thead>\n",
       "    <tr style=\"text-align: right;\">\n",
       "      <th></th>\n",
       "      <th>business_code</th>\n",
       "      <th>name_customer</th>\n",
       "      <th>clear_date</th>\n",
       "      <th>document_create_date.1</th>\n",
       "      <th>due_in_date</th>\n",
       "      <th>total_open_amount</th>\n",
       "      <th>baseline_create_date</th>\n",
       "      <th>cust_payment_terms</th>\n",
       "      <th>delay</th>\n",
       "      <th>due_date_day</th>\n",
       "      <th>due_date_month</th>\n",
       "      <th>due_date_year</th>\n",
       "      <th>baseline_date_day</th>\n",
       "      <th>baseline_date_year</th>\n",
       "      <th>avg_cust_delay</th>\n",
       "      <th>amount_bins</th>\n",
       "      <th>bcode_avg_delay</th>\n",
       "    </tr>\n",
       "  </thead>\n",
       "  <tbody>\n",
       "    <tr>\n",
       "      <th>0</th>\n",
       "      <td>1</td>\n",
       "      <td>3284</td>\n",
       "      <td>2019-01-15</td>\n",
       "      <td>2018-12-30</td>\n",
       "      <td>2019-01-14</td>\n",
       "      <td>11598.0540</td>\n",
       "      <td>2018-12-30</td>\n",
       "      <td>38</td>\n",
       "      <td>1</td>\n",
       "      <td>14</td>\n",
       "      <td>1</td>\n",
       "      <td>2019</td>\n",
       "      <td>30</td>\n",
       "      <td>2018</td>\n",
       "      <td>1.303571</td>\n",
       "      <td>2</td>\n",
       "      <td>0.519311</td>\n",
       "    </tr>\n",
       "    <tr>\n",
       "      <th>1</th>\n",
       "      <td>1</td>\n",
       "      <td>426</td>\n",
       "      <td>2019-01-15</td>\n",
       "      <td>2018-12-30</td>\n",
       "      <td>2019-01-14</td>\n",
       "      <td>25.8804</td>\n",
       "      <td>2018-12-30</td>\n",
       "      <td>22</td>\n",
       "      <td>1</td>\n",
       "      <td>14</td>\n",
       "      <td>1</td>\n",
       "      <td>2019</td>\n",
       "      <td>30</td>\n",
       "      <td>2018</td>\n",
       "      <td>0.788732</td>\n",
       "      <td>1</td>\n",
       "      <td>0.519311</td>\n",
       "    </tr>\n",
       "    <tr>\n",
       "      <th>2</th>\n",
       "      <td>1</td>\n",
       "      <td>4114</td>\n",
       "      <td>2019-01-15</td>\n",
       "      <td>2018-12-30</td>\n",
       "      <td>2019-01-14</td>\n",
       "      <td>268.3278</td>\n",
       "      <td>2018-12-30</td>\n",
       "      <td>38</td>\n",
       "      <td>1</td>\n",
       "      <td>14</td>\n",
       "      <td>1</td>\n",
       "      <td>2019</td>\n",
       "      <td>30</td>\n",
       "      <td>2018</td>\n",
       "      <td>-2.171470</td>\n",
       "      <td>1</td>\n",
       "      <td>0.519311</td>\n",
       "    </tr>\n",
       "    <tr>\n",
       "      <th>3</th>\n",
       "      <td>1</td>\n",
       "      <td>2381</td>\n",
       "      <td>2019-02-01</td>\n",
       "      <td>2018-12-30</td>\n",
       "      <td>2019-01-31</td>\n",
       "      <td>17765.2800</td>\n",
       "      <td>2018-12-30</td>\n",
       "      <td>15</td>\n",
       "      <td>1</td>\n",
       "      <td>31</td>\n",
       "      <td>1</td>\n",
       "      <td>2019</td>\n",
       "      <td>30</td>\n",
       "      <td>2018</td>\n",
       "      <td>2.583333</td>\n",
       "      <td>3</td>\n",
       "      <td>0.519311</td>\n",
       "    </tr>\n",
       "    <tr>\n",
       "      <th>4</th>\n",
       "      <td>1</td>\n",
       "      <td>3801</td>\n",
       "      <td>2019-01-18</td>\n",
       "      <td>2018-12-30</td>\n",
       "      <td>2019-01-14</td>\n",
       "      <td>9346.4202</td>\n",
       "      <td>2018-12-30</td>\n",
       "      <td>22</td>\n",
       "      <td>4</td>\n",
       "      <td>14</td>\n",
       "      <td>1</td>\n",
       "      <td>2019</td>\n",
       "      <td>30</td>\n",
       "      <td>2018</td>\n",
       "      <td>2.794118</td>\n",
       "      <td>2</td>\n",
       "      <td>0.519311</td>\n",
       "    </tr>\n",
       "  </tbody>\n",
       "</table>\n",
       "</div>"
      ],
      "text/plain": [
       "   business_code  name_customer clear_date document_create_date.1 due_in_date  \\\n",
       "0              1           3284 2019-01-15             2018-12-30  2019-01-14   \n",
       "1              1            426 2019-01-15             2018-12-30  2019-01-14   \n",
       "2              1           4114 2019-01-15             2018-12-30  2019-01-14   \n",
       "3              1           2381 2019-02-01             2018-12-30  2019-01-31   \n",
       "4              1           3801 2019-01-18             2018-12-30  2019-01-14   \n",
       "\n",
       "   total_open_amount baseline_create_date  cust_payment_terms  delay  \\\n",
       "0         11598.0540           2018-12-30                  38      1   \n",
       "1            25.8804           2018-12-30                  22      1   \n",
       "2           268.3278           2018-12-30                  38      1   \n",
       "3         17765.2800           2018-12-30                  15      1   \n",
       "4          9346.4202           2018-12-30                  22      4   \n",
       "\n",
       "   due_date_day  due_date_month  due_date_year  baseline_date_day  \\\n",
       "0            14               1           2019                 30   \n",
       "1            14               1           2019                 30   \n",
       "2            14               1           2019                 30   \n",
       "3            31               1           2019                 30   \n",
       "4            14               1           2019                 30   \n",
       "\n",
       "   baseline_date_year  avg_cust_delay amount_bins  bcode_avg_delay  \n",
       "0                2018        1.303571           2         0.519311  \n",
       "1                2018        0.788732           1         0.519311  \n",
       "2                2018       -2.171470           1         0.519311  \n",
       "3                2018        2.583333           3         0.519311  \n",
       "4                2018        2.794118           2         0.519311  "
      ]
     },
     "execution_count": 356,
     "metadata": {},
     "output_type": "execute_result"
    }
   ],
   "source": [
    "X_train.drop(\"cust_number\",axis=1,inplace=True)\n",
    "X_train.head()"
   ]
  },
  {
   "cell_type": "code",
   "execution_count": 357,
   "metadata": {
    "id": "doHZVeGktKbN"
   },
   "outputs": [],
   "source": [
    "x_val1.drop(\"cust_number\",axis=1,inplace=True)\n",
    "x_val2.drop(\"cust_number\",axis=1,inplace=True)\n",
    "test.drop(\"cust_number\",axis=1,inplace=True)"
   ]
  },
  {
   "cell_type": "code",
   "execution_count": 358,
   "metadata": {
    "colab": {
     "base_uri": "https://localhost:8080/"
    },
    "id": "jULIBJa-dJaE",
    "outputId": "370e49fe-fd7d-41ad-ed02-e1739863d19a"
   },
   "outputs": [
    {
     "data": {
      "text/plain": [
       "(9959, 14)"
      ]
     },
     "execution_count": 358,
     "metadata": {},
     "output_type": "execute_result"
    }
   ],
   "source": [
    "test.shape"
   ]
  },
  {
   "cell_type": "code",
   "execution_count": 359,
   "metadata": {
    "colab": {
     "base_uri": "https://localhost:8080/"
    },
    "id": "FXhx_x86dO5-",
    "outputId": "669ca26c-0803-416d-b385-06e0142b3243"
   },
   "outputs": [
    {
     "data": {
      "text/plain": [
       "((3424, 17), (3424, 18))"
      ]
     },
     "execution_count": 359,
     "metadata": {},
     "output_type": "execute_result"
    }
   ],
   "source": [
    "x_val1.shape, x_val2.shape"
   ]
  },
  {
   "cell_type": "code",
   "execution_count": 360,
   "metadata": {
    "id": "vwZ4YH8lkAB8"
   },
   "outputs": [],
   "source": [
    "for i in X_train.columns:\n",
    "  if X_train[i].dtype==\"datetime64\":\n",
    "    X_train.i=X_train.i.map(datetime.datetime.toordinal)"
   ]
  },
  {
   "cell_type": "code",
   "execution_count": 361,
   "metadata": {
    "colab": {
     "base_uri": "https://localhost:8080/",
     "height": 161
    },
    "id": "Sk1-m8Ullbg1",
    "outputId": "91a8bdd1-0e91-42f0-b2ae-79b70cd35b8d"
   },
   "outputs": [
    {
     "data": {
      "text/html": [
       "<div>\n",
       "<style scoped>\n",
       "    .dataframe tbody tr th:only-of-type {\n",
       "        vertical-align: middle;\n",
       "    }\n",
       "\n",
       "    .dataframe tbody tr th {\n",
       "        vertical-align: top;\n",
       "    }\n",
       "\n",
       "    .dataframe thead th {\n",
       "        text-align: right;\n",
       "    }\n",
       "</style>\n",
       "<table border=\"1\" class=\"dataframe\">\n",
       "  <thead>\n",
       "    <tr style=\"text-align: right;\">\n",
       "      <th></th>\n",
       "      <th>business_code</th>\n",
       "      <th>name_customer</th>\n",
       "      <th>clear_date</th>\n",
       "      <th>document_create_date.1</th>\n",
       "      <th>due_in_date</th>\n",
       "      <th>total_open_amount</th>\n",
       "      <th>baseline_create_date</th>\n",
       "      <th>cust_payment_terms</th>\n",
       "      <th>delay</th>\n",
       "      <th>due_date_day</th>\n",
       "      <th>due_date_month</th>\n",
       "      <th>due_date_year</th>\n",
       "      <th>baseline_date_day</th>\n",
       "      <th>baseline_date_year</th>\n",
       "      <th>avg_cust_delay</th>\n",
       "      <th>amount_bins</th>\n",
       "      <th>bcode_avg_delay</th>\n",
       "    </tr>\n",
       "  </thead>\n",
       "  <tbody>\n",
       "    <tr>\n",
       "      <th>0</th>\n",
       "      <td>1</td>\n",
       "      <td>3284</td>\n",
       "      <td>2019-01-15</td>\n",
       "      <td>2018-12-30</td>\n",
       "      <td>2019-01-14</td>\n",
       "      <td>11598.0540</td>\n",
       "      <td>2018-12-30</td>\n",
       "      <td>38</td>\n",
       "      <td>1</td>\n",
       "      <td>14</td>\n",
       "      <td>1</td>\n",
       "      <td>2019</td>\n",
       "      <td>30</td>\n",
       "      <td>2018</td>\n",
       "      <td>1.303571</td>\n",
       "      <td>2</td>\n",
       "      <td>0.519311</td>\n",
       "    </tr>\n",
       "    <tr>\n",
       "      <th>1</th>\n",
       "      <td>1</td>\n",
       "      <td>426</td>\n",
       "      <td>2019-01-15</td>\n",
       "      <td>2018-12-30</td>\n",
       "      <td>2019-01-14</td>\n",
       "      <td>25.8804</td>\n",
       "      <td>2018-12-30</td>\n",
       "      <td>22</td>\n",
       "      <td>1</td>\n",
       "      <td>14</td>\n",
       "      <td>1</td>\n",
       "      <td>2019</td>\n",
       "      <td>30</td>\n",
       "      <td>2018</td>\n",
       "      <td>0.788732</td>\n",
       "      <td>1</td>\n",
       "      <td>0.519311</td>\n",
       "    </tr>\n",
       "    <tr>\n",
       "      <th>2</th>\n",
       "      <td>1</td>\n",
       "      <td>4114</td>\n",
       "      <td>2019-01-15</td>\n",
       "      <td>2018-12-30</td>\n",
       "      <td>2019-01-14</td>\n",
       "      <td>268.3278</td>\n",
       "      <td>2018-12-30</td>\n",
       "      <td>38</td>\n",
       "      <td>1</td>\n",
       "      <td>14</td>\n",
       "      <td>1</td>\n",
       "      <td>2019</td>\n",
       "      <td>30</td>\n",
       "      <td>2018</td>\n",
       "      <td>-2.171470</td>\n",
       "      <td>1</td>\n",
       "      <td>0.519311</td>\n",
       "    </tr>\n",
       "  </tbody>\n",
       "</table>\n",
       "</div>"
      ],
      "text/plain": [
       "   business_code  name_customer clear_date document_create_date.1 due_in_date  \\\n",
       "0              1           3284 2019-01-15             2018-12-30  2019-01-14   \n",
       "1              1            426 2019-01-15             2018-12-30  2019-01-14   \n",
       "2              1           4114 2019-01-15             2018-12-30  2019-01-14   \n",
       "\n",
       "   total_open_amount baseline_create_date  cust_payment_terms  delay  \\\n",
       "0         11598.0540           2018-12-30                  38      1   \n",
       "1            25.8804           2018-12-30                  22      1   \n",
       "2           268.3278           2018-12-30                  38      1   \n",
       "\n",
       "   due_date_day  due_date_month  due_date_year  baseline_date_day  \\\n",
       "0            14               1           2019                 30   \n",
       "1            14               1           2019                 30   \n",
       "2            14               1           2019                 30   \n",
       "\n",
       "   baseline_date_year  avg_cust_delay amount_bins  bcode_avg_delay  \n",
       "0                2018        1.303571           2         0.519311  \n",
       "1                2018        0.788732           1         0.519311  \n",
       "2                2018       -2.171470           1         0.519311  "
      ]
     },
     "execution_count": 361,
     "metadata": {},
     "output_type": "execute_result"
    }
   ],
   "source": [
    "X_train.head(3)"
   ]
  },
  {
   "cell_type": "code",
   "execution_count": 362,
   "metadata": {
    "colab": {
     "base_uri": "https://localhost:8080/"
    },
    "id": "rW-fGI6RmQ05",
    "outputId": "51260ea4-ea0c-4c15-b380-c6e884e7cdd1"
   },
   "outputs": [
    {
     "data": {
      "text/plain": [
       "business_code                      int32\n",
       "name_customer                      int32\n",
       "clear_date                datetime64[ns]\n",
       "document_create_date.1    datetime64[ns]\n",
       "due_in_date               datetime64[ns]\n",
       "total_open_amount                float64\n",
       "baseline_create_date      datetime64[ns]\n",
       "cust_payment_terms                 int32\n",
       "delay                              int32\n",
       "due_date_day                       int64\n",
       "due_date_month                     int64\n",
       "due_date_year                      int64\n",
       "baseline_date_day                  int64\n",
       "baseline_date_year                 int64\n",
       "avg_cust_delay                   float64\n",
       "amount_bins                     category\n",
       "bcode_avg_delay                  float64\n",
       "dtype: object"
      ]
     },
     "execution_count": 362,
     "metadata": {},
     "output_type": "execute_result"
    }
   ],
   "source": [
    "X_train.dtypes"
   ]
  },
  {
   "cell_type": "code",
   "execution_count": 363,
   "metadata": {
    "colab": {
     "base_uri": "https://localhost:8080/"
    },
    "id": "z4QBUGeetbPg",
    "outputId": "22b35fe9-da9f-43e0-daa8-c86347e06219"
   },
   "outputs": [
    {
     "data": {
      "text/plain": [
       "(33045, 17)"
      ]
     },
     "execution_count": 363,
     "metadata": {},
     "output_type": "execute_result"
    }
   ],
   "source": [
    "X_train.shape"
   ]
  },
  {
   "cell_type": "code",
   "execution_count": 364,
   "metadata": {
    "colab": {
     "base_uri": "https://localhost:8080/"
    },
    "id": "mVbrAEeUtoCW",
    "outputId": "2747cbf2-7d12-4733-e2ee-d5a167334ff5"
   },
   "outputs": [
    {
     "data": {
      "text/plain": [
       "(3424, 17)"
      ]
     },
     "execution_count": 364,
     "metadata": {},
     "output_type": "execute_result"
    }
   ],
   "source": [
    "x_val1.shape"
   ]
  },
  {
   "cell_type": "code",
   "execution_count": 365,
   "metadata": {
    "colab": {
     "base_uri": "https://localhost:8080/"
    },
    "id": "gOQ-YW_5tppt",
    "outputId": "fe567dd3-0f03-4948-9943-dfd45b898d1c"
   },
   "outputs": [
    {
     "data": {
      "text/plain": [
       "(3424, 18)"
      ]
     },
     "execution_count": 365,
     "metadata": {},
     "output_type": "execute_result"
    }
   ],
   "source": [
    "x_val2.shape"
   ]
  },
  {
   "cell_type": "markdown",
   "metadata": {
    "id": "ecK_uzjutcrL"
   },
   "source": [
    "**Creating a baseline model for the data**"
   ]
  },
  {
   "cell_type": "code",
   "execution_count": 366,
   "metadata": {
    "id": "vOUZQ5amhCYJ"
   },
   "outputs": [],
   "source": [
    "y=X_train['delay']\n",
    "X_pass=X_train.drop('clear_date',axis=1)"
   ]
  },
  {
   "cell_type": "code",
   "execution_count": 367,
   "metadata": {
    "id": "dpjU9HHBj-US"
   },
   "outputs": [],
   "source": [
    "X_pass.drop(['document_create_date.1','due_in_date','baseline_create_date','delay'],axis=1,inplace=True)#datetime objects"
   ]
  },
  {
   "cell_type": "code",
   "execution_count": 368,
   "metadata": {
    "id": "UlLxbmftgx2K"
   },
   "outputs": [],
   "source": [
    "#train_test_split\n",
    "xtrain,xtest,ytrain,ytest=train_test_split(X_pass,y,test_size=0.2)"
   ]
  },
  {
   "cell_type": "code",
   "execution_count": 394,
   "metadata": {},
   "outputs": [
    {
     "data": {
      "text/html": [
       "<div>\n",
       "<style scoped>\n",
       "    .dataframe tbody tr th:only-of-type {\n",
       "        vertical-align: middle;\n",
       "    }\n",
       "\n",
       "    .dataframe tbody tr th {\n",
       "        vertical-align: top;\n",
       "    }\n",
       "\n",
       "    .dataframe thead th {\n",
       "        text-align: right;\n",
       "    }\n",
       "</style>\n",
       "<table border=\"1\" class=\"dataframe\">\n",
       "  <thead>\n",
       "    <tr style=\"text-align: right;\">\n",
       "      <th></th>\n",
       "      <th>business_code</th>\n",
       "      <th>name_customer</th>\n",
       "      <th>total_open_amount</th>\n",
       "      <th>cust_payment_terms</th>\n",
       "      <th>due_date_day</th>\n",
       "      <th>due_date_month</th>\n",
       "      <th>due_date_year</th>\n",
       "      <th>baseline_date_day</th>\n",
       "      <th>baseline_date_year</th>\n",
       "      <th>avg_cust_delay</th>\n",
       "      <th>amount_bins</th>\n",
       "      <th>bcode_avg_delay</th>\n",
       "    </tr>\n",
       "  </thead>\n",
       "  <tbody>\n",
       "    <tr>\n",
       "      <th>28463</th>\n",
       "      <td>1</td>\n",
       "      <td>4110</td>\n",
       "      <td>367.8168</td>\n",
       "      <td>38</td>\n",
       "      <td>26</td>\n",
       "      <td>10</td>\n",
       "      <td>2019</td>\n",
       "      <td>11</td>\n",
       "      <td>2019</td>\n",
       "      <td>-2.010959</td>\n",
       "      <td>1</td>\n",
       "      <td>0.519311</td>\n",
       "    </tr>\n",
       "    <tr>\n",
       "      <th>1543</th>\n",
       "      <td>1</td>\n",
       "      <td>824</td>\n",
       "      <td>3109.8366</td>\n",
       "      <td>24</td>\n",
       "      <td>2</td>\n",
       "      <td>2</td>\n",
       "      <td>2019</td>\n",
       "      <td>18</td>\n",
       "      <td>2019</td>\n",
       "      <td>1.373134</td>\n",
       "      <td>1</td>\n",
       "      <td>0.519311</td>\n",
       "    </tr>\n",
       "    <tr>\n",
       "      <th>6641</th>\n",
       "      <td>1</td>\n",
       "      <td>4113</td>\n",
       "      <td>634.3038</td>\n",
       "      <td>38</td>\n",
       "      <td>26</td>\n",
       "      <td>3</td>\n",
       "      <td>2019</td>\n",
       "      <td>11</td>\n",
       "      <td>2019</td>\n",
       "      <td>-2.200809</td>\n",
       "      <td>1</td>\n",
       "      <td>0.519311</td>\n",
       "    </tr>\n",
       "    <tr>\n",
       "      <th>4259</th>\n",
       "      <td>1</td>\n",
       "      <td>2418</td>\n",
       "      <td>12374.0604</td>\n",
       "      <td>22</td>\n",
       "      <td>2</td>\n",
       "      <td>3</td>\n",
       "      <td>2019</td>\n",
       "      <td>15</td>\n",
       "      <td>2019</td>\n",
       "      <td>3.500000</td>\n",
       "      <td>2</td>\n",
       "      <td>0.519311</td>\n",
       "    </tr>\n",
       "    <tr>\n",
       "      <th>23447</th>\n",
       "      <td>1</td>\n",
       "      <td>4110</td>\n",
       "      <td>99.9648</td>\n",
       "      <td>38</td>\n",
       "      <td>7</td>\n",
       "      <td>9</td>\n",
       "      <td>2019</td>\n",
       "      <td>23</td>\n",
       "      <td>2019</td>\n",
       "      <td>-2.010959</td>\n",
       "      <td>1</td>\n",
       "      <td>0.519311</td>\n",
       "    </tr>\n",
       "    <tr>\n",
       "      <th>...</th>\n",
       "      <td>...</td>\n",
       "      <td>...</td>\n",
       "      <td>...</td>\n",
       "      <td>...</td>\n",
       "      <td>...</td>\n",
       "      <td>...</td>\n",
       "      <td>...</td>\n",
       "      <td>...</td>\n",
       "      <td>...</td>\n",
       "      <td>...</td>\n",
       "      <td>...</td>\n",
       "      <td>...</td>\n",
       "    </tr>\n",
       "    <tr>\n",
       "      <th>19848</th>\n",
       "      <td>1</td>\n",
       "      <td>3283</td>\n",
       "      <td>62858.2500</td>\n",
       "      <td>38</td>\n",
       "      <td>1</td>\n",
       "      <td>8</td>\n",
       "      <td>2019</td>\n",
       "      <td>17</td>\n",
       "      <td>2019</td>\n",
       "      <td>0.065934</td>\n",
       "      <td>4</td>\n",
       "      <td>0.519311</td>\n",
       "    </tr>\n",
       "    <tr>\n",
       "      <th>27468</th>\n",
       "      <td>1</td>\n",
       "      <td>3629</td>\n",
       "      <td>120592.1574</td>\n",
       "      <td>22</td>\n",
       "      <td>16</td>\n",
       "      <td>10</td>\n",
       "      <td>2019</td>\n",
       "      <td>1</td>\n",
       "      <td>2019</td>\n",
       "      <td>1.268293</td>\n",
       "      <td>4</td>\n",
       "      <td>0.519311</td>\n",
       "    </tr>\n",
       "    <tr>\n",
       "      <th>10886</th>\n",
       "      <td>1</td>\n",
       "      <td>422</td>\n",
       "      <td>223.1502</td>\n",
       "      <td>22</td>\n",
       "      <td>3</td>\n",
       "      <td>5</td>\n",
       "      <td>2019</td>\n",
       "      <td>18</td>\n",
       "      <td>2019</td>\n",
       "      <td>0.712871</td>\n",
       "      <td>1</td>\n",
       "      <td>0.519311</td>\n",
       "    </tr>\n",
       "    <tr>\n",
       "      <th>6580</th>\n",
       "      <td>1</td>\n",
       "      <td>2171</td>\n",
       "      <td>654.0456</td>\n",
       "      <td>71</td>\n",
       "      <td>9</td>\n",
       "      <td>3</td>\n",
       "      <td>2019</td>\n",
       "      <td>9</td>\n",
       "      <td>2019</td>\n",
       "      <td>47.142857</td>\n",
       "      <td>1</td>\n",
       "      <td>0.519311</td>\n",
       "    </tr>\n",
       "    <tr>\n",
       "      <th>19812</th>\n",
       "      <td>1</td>\n",
       "      <td>2568</td>\n",
       "      <td>17263.9740</td>\n",
       "      <td>22</td>\n",
       "      <td>1</td>\n",
       "      <td>8</td>\n",
       "      <td>2019</td>\n",
       "      <td>17</td>\n",
       "      <td>2019</td>\n",
       "      <td>-0.294118</td>\n",
       "      <td>3</td>\n",
       "      <td>0.519311</td>\n",
       "    </tr>\n",
       "  </tbody>\n",
       "</table>\n",
       "<p>26436 rows × 12 columns</p>\n",
       "</div>"
      ],
      "text/plain": [
       "       business_code  name_customer  total_open_amount  cust_payment_terms  \\\n",
       "28463              1           4110           367.8168                  38   \n",
       "1543               1            824          3109.8366                  24   \n",
       "6641               1           4113           634.3038                  38   \n",
       "4259               1           2418         12374.0604                  22   \n",
       "23447              1           4110            99.9648                  38   \n",
       "...              ...            ...                ...                 ...   \n",
       "19848              1           3283         62858.2500                  38   \n",
       "27468              1           3629        120592.1574                  22   \n",
       "10886              1            422           223.1502                  22   \n",
       "6580               1           2171           654.0456                  71   \n",
       "19812              1           2568         17263.9740                  22   \n",
       "\n",
       "       due_date_day  due_date_month  due_date_year  baseline_date_day  \\\n",
       "28463            26              10           2019                 11   \n",
       "1543              2               2           2019                 18   \n",
       "6641             26               3           2019                 11   \n",
       "4259              2               3           2019                 15   \n",
       "23447             7               9           2019                 23   \n",
       "...             ...             ...            ...                ...   \n",
       "19848             1               8           2019                 17   \n",
       "27468            16              10           2019                  1   \n",
       "10886             3               5           2019                 18   \n",
       "6580              9               3           2019                  9   \n",
       "19812             1               8           2019                 17   \n",
       "\n",
       "       baseline_date_year  avg_cust_delay amount_bins  bcode_avg_delay  \n",
       "28463                2019       -2.010959           1         0.519311  \n",
       "1543                 2019        1.373134           1         0.519311  \n",
       "6641                 2019       -2.200809           1         0.519311  \n",
       "4259                 2019        3.500000           2         0.519311  \n",
       "23447                2019       -2.010959           1         0.519311  \n",
       "...                   ...             ...         ...              ...  \n",
       "19848                2019        0.065934           4         0.519311  \n",
       "27468                2019        1.268293           4         0.519311  \n",
       "10886                2019        0.712871           1         0.519311  \n",
       "6580                 2019       47.142857           1         0.519311  \n",
       "19812                2019       -0.294118           3         0.519311  \n",
       "\n",
       "[26436 rows x 12 columns]"
      ]
     },
     "execution_count": 394,
     "metadata": {},
     "output_type": "execute_result"
    }
   ],
   "source": [
    "xtrain"
   ]
  },
  {
   "cell_type": "code",
   "execution_count": 395,
   "metadata": {},
   "outputs": [
    {
     "data": {
      "text/html": [
       "<div>\n",
       "<style scoped>\n",
       "    .dataframe tbody tr th:only-of-type {\n",
       "        vertical-align: middle;\n",
       "    }\n",
       "\n",
       "    .dataframe tbody tr th {\n",
       "        vertical-align: top;\n",
       "    }\n",
       "\n",
       "    .dataframe thead th {\n",
       "        text-align: right;\n",
       "    }\n",
       "</style>\n",
       "<table border=\"1\" class=\"dataframe\">\n",
       "  <thead>\n",
       "    <tr style=\"text-align: right;\">\n",
       "      <th></th>\n",
       "      <th>business_code</th>\n",
       "      <th>name_customer</th>\n",
       "      <th>total_open_amount</th>\n",
       "      <th>cust_payment_terms</th>\n",
       "      <th>due_date_day</th>\n",
       "      <th>due_date_month</th>\n",
       "      <th>due_date_year</th>\n",
       "      <th>baseline_date_day</th>\n",
       "      <th>baseline_date_year</th>\n",
       "      <th>avg_cust_delay</th>\n",
       "      <th>amount_bins</th>\n",
       "      <th>bcode_avg_delay</th>\n",
       "    </tr>\n",
       "  </thead>\n",
       "  <tbody>\n",
       "    <tr>\n",
       "      <th>23771</th>\n",
       "      <td>1</td>\n",
       "      <td>81</td>\n",
       "      <td>11222.7882</td>\n",
       "      <td>68</td>\n",
       "      <td>9</td>\n",
       "      <td>11</td>\n",
       "      <td>2019</td>\n",
       "      <td>26</td>\n",
       "      <td>2019</td>\n",
       "      <td>-10.600000</td>\n",
       "      <td>2</td>\n",
       "      <td>0.519311</td>\n",
       "    </tr>\n",
       "    <tr>\n",
       "      <th>20558</th>\n",
       "      <td>1</td>\n",
       "      <td>1986</td>\n",
       "      <td>2438.9508</td>\n",
       "      <td>22</td>\n",
       "      <td>8</td>\n",
       "      <td>8</td>\n",
       "      <td>2019</td>\n",
       "      <td>24</td>\n",
       "      <td>2019</td>\n",
       "      <td>0.416667</td>\n",
       "      <td>1</td>\n",
       "      <td>0.519311</td>\n",
       "    </tr>\n",
       "    <tr>\n",
       "      <th>22609</th>\n",
       "      <td>1</td>\n",
       "      <td>2909</td>\n",
       "      <td>11156.5818</td>\n",
       "      <td>22</td>\n",
       "      <td>30</td>\n",
       "      <td>8</td>\n",
       "      <td>2019</td>\n",
       "      <td>15</td>\n",
       "      <td>2019</td>\n",
       "      <td>-1.937500</td>\n",
       "      <td>2</td>\n",
       "      <td>0.519311</td>\n",
       "    </tr>\n",
       "    <tr>\n",
       "      <th>19019</th>\n",
       "      <td>1</td>\n",
       "      <td>3301</td>\n",
       "      <td>106002.0078</td>\n",
       "      <td>22</td>\n",
       "      <td>24</td>\n",
       "      <td>7</td>\n",
       "      <td>2019</td>\n",
       "      <td>9</td>\n",
       "      <td>2019</td>\n",
       "      <td>0.846154</td>\n",
       "      <td>4</td>\n",
       "      <td>0.519311</td>\n",
       "    </tr>\n",
       "    <tr>\n",
       "      <th>12947</th>\n",
       "      <td>1</td>\n",
       "      <td>2665</td>\n",
       "      <td>478.1244</td>\n",
       "      <td>28</td>\n",
       "      <td>8</td>\n",
       "      <td>7</td>\n",
       "      <td>2019</td>\n",
       "      <td>9</td>\n",
       "      <td>2019</td>\n",
       "      <td>5.666667</td>\n",
       "      <td>1</td>\n",
       "      <td>0.519311</td>\n",
       "    </tr>\n",
       "    <tr>\n",
       "      <th>...</th>\n",
       "      <td>...</td>\n",
       "      <td>...</td>\n",
       "      <td>...</td>\n",
       "      <td>...</td>\n",
       "      <td>...</td>\n",
       "      <td>...</td>\n",
       "      <td>...</td>\n",
       "      <td>...</td>\n",
       "      <td>...</td>\n",
       "      <td>...</td>\n",
       "      <td>...</td>\n",
       "      <td>...</td>\n",
       "    </tr>\n",
       "    <tr>\n",
       "      <th>13399</th>\n",
       "      <td>1</td>\n",
       "      <td>3636</td>\n",
       "      <td>44023.2624</td>\n",
       "      <td>22</td>\n",
       "      <td>29</td>\n",
       "      <td>5</td>\n",
       "      <td>2019</td>\n",
       "      <td>14</td>\n",
       "      <td>2019</td>\n",
       "      <td>2.000000</td>\n",
       "      <td>4</td>\n",
       "      <td>0.519311</td>\n",
       "    </tr>\n",
       "    <tr>\n",
       "      <th>16488</th>\n",
       "      <td>1</td>\n",
       "      <td>2163</td>\n",
       "      <td>13819.2054</td>\n",
       "      <td>71</td>\n",
       "      <td>13</td>\n",
       "      <td>6</td>\n",
       "      <td>2019</td>\n",
       "      <td>13</td>\n",
       "      <td>2019</td>\n",
       "      <td>40.743590</td>\n",
       "      <td>3</td>\n",
       "      <td>0.519311</td>\n",
       "    </tr>\n",
       "    <tr>\n",
       "      <th>18836</th>\n",
       "      <td>1</td>\n",
       "      <td>4194</td>\n",
       "      <td>3357.9780</td>\n",
       "      <td>22</td>\n",
       "      <td>22</td>\n",
       "      <td>7</td>\n",
       "      <td>2019</td>\n",
       "      <td>7</td>\n",
       "      <td>2019</td>\n",
       "      <td>-8.285714</td>\n",
       "      <td>1</td>\n",
       "      <td>0.519311</td>\n",
       "    </tr>\n",
       "    <tr>\n",
       "      <th>25618</th>\n",
       "      <td>1</td>\n",
       "      <td>829</td>\n",
       "      <td>11921.8164</td>\n",
       "      <td>24</td>\n",
       "      <td>28</td>\n",
       "      <td>9</td>\n",
       "      <td>2019</td>\n",
       "      <td>13</td>\n",
       "      <td>2019</td>\n",
       "      <td>-0.328947</td>\n",
       "      <td>2</td>\n",
       "      <td>0.519311</td>\n",
       "    </tr>\n",
       "    <tr>\n",
       "      <th>28317</th>\n",
       "      <td>1</td>\n",
       "      <td>2585</td>\n",
       "      <td>671.0340</td>\n",
       "      <td>22</td>\n",
       "      <td>25</td>\n",
       "      <td>10</td>\n",
       "      <td>2019</td>\n",
       "      <td>10</td>\n",
       "      <td>2019</td>\n",
       "      <td>0.384615</td>\n",
       "      <td>1</td>\n",
       "      <td>0.519311</td>\n",
       "    </tr>\n",
       "  </tbody>\n",
       "</table>\n",
       "<p>6609 rows × 12 columns</p>\n",
       "</div>"
      ],
      "text/plain": [
       "       business_code  name_customer  total_open_amount  cust_payment_terms  \\\n",
       "23771              1             81         11222.7882                  68   \n",
       "20558              1           1986          2438.9508                  22   \n",
       "22609              1           2909         11156.5818                  22   \n",
       "19019              1           3301        106002.0078                  22   \n",
       "12947              1           2665           478.1244                  28   \n",
       "...              ...            ...                ...                 ...   \n",
       "13399              1           3636         44023.2624                  22   \n",
       "16488              1           2163         13819.2054                  71   \n",
       "18836              1           4194          3357.9780                  22   \n",
       "25618              1            829         11921.8164                  24   \n",
       "28317              1           2585           671.0340                  22   \n",
       "\n",
       "       due_date_day  due_date_month  due_date_year  baseline_date_day  \\\n",
       "23771             9              11           2019                 26   \n",
       "20558             8               8           2019                 24   \n",
       "22609            30               8           2019                 15   \n",
       "19019            24               7           2019                  9   \n",
       "12947             8               7           2019                  9   \n",
       "...             ...             ...            ...                ...   \n",
       "13399            29               5           2019                 14   \n",
       "16488            13               6           2019                 13   \n",
       "18836            22               7           2019                  7   \n",
       "25618            28               9           2019                 13   \n",
       "28317            25              10           2019                 10   \n",
       "\n",
       "       baseline_date_year  avg_cust_delay amount_bins  bcode_avg_delay  \n",
       "23771                2019      -10.600000           2         0.519311  \n",
       "20558                2019        0.416667           1         0.519311  \n",
       "22609                2019       -1.937500           2         0.519311  \n",
       "19019                2019        0.846154           4         0.519311  \n",
       "12947                2019        5.666667           1         0.519311  \n",
       "...                   ...             ...         ...              ...  \n",
       "13399                2019        2.000000           4         0.519311  \n",
       "16488                2019       40.743590           3         0.519311  \n",
       "18836                2019       -8.285714           1         0.519311  \n",
       "25618                2019       -0.328947           2         0.519311  \n",
       "28317                2019        0.384615           1         0.519311  \n",
       "\n",
       "[6609 rows x 12 columns]"
      ]
     },
     "execution_count": 395,
     "metadata": {},
     "output_type": "execute_result"
    }
   ],
   "source": [
    "xtest"
   ]
  },
  {
   "cell_type": "code",
   "execution_count": 369,
   "metadata": {
    "colab": {
     "base_uri": "https://localhost:8080/"
    },
    "id": "uv0W43IUdWSO",
    "outputId": "9fa206f0-6193-4903-b73d-02b4522a5f39"
   },
   "outputs": [
    {
     "name": "stdout",
     "output_type": "stream",
     "text": [
      "Training complete.\n"
     ]
    }
   ],
   "source": [
    "#linear regession \n",
    "from sklearn.linear_model import LinearRegression\n",
    "reg = LinearRegression(normalize=True)\n",
    "reg.fit(xtrain,ytrain)\n",
    "print(\"Training complete.\")"
   ]
  },
  {
   "cell_type": "code",
   "execution_count": 370,
   "metadata": {
    "colab": {
     "base_uri": "https://localhost:8080/"
    },
    "id": "fZ6w64Byj4VE",
    "outputId": "6aa0ec98-8d35-4bd3-a7b4-fc1c5e24004c"
   },
   "outputs": [
    {
     "name": "stdout",
     "output_type": "stream",
     "text": [
      "52.55774913067492 %\n"
     ]
    }
   ],
   "source": [
    "accuracy = reg.score(xtest,ytest)\n",
    "print(accuracy*100,'%')"
   ]
  },
  {
   "cell_type": "code",
   "execution_count": 371,
   "metadata": {
    "colab": {
     "base_uri": "https://localhost:8080/"
    },
    "id": "pFtOmaYvpwwI",
    "outputId": "4a093a13-ead1-465e-ff04-ecf8852370a9"
   },
   "outputs": [
    {
     "data": {
      "text/plain": [
       "59.49741148996876"
      ]
     },
     "execution_count": 371,
     "metadata": {},
     "output_type": "execute_result"
    }
   ],
   "source": [
    "y_pred=reg.predict(xtest)\n",
    "from sklearn.metrics import mean_squared_error\n",
    "mean_squared_error(ytest, y_pred)"
   ]
  },
  {
   "cell_type": "code",
   "execution_count": 372,
   "metadata": {
    "colab": {
     "base_uri": "https://localhost:8080/"
    },
    "id": "VeQtIPxKe3kS",
    "outputId": "9da9095b-457d-4c9b-b216-d76013f7c665"
   },
   "outputs": [
    {
     "data": {
      "text/plain": [
       "0.5255774913067492"
      ]
     },
     "execution_count": 372,
     "metadata": {},
     "output_type": "execute_result"
    }
   ],
   "source": [
    "from sklearn.metrics import r2_score \n",
    "r2_score(ytest,y_pred)"
   ]
  },
  {
   "cell_type": "markdown",
   "metadata": {
    "id": "x5NMJIN6twxP"
   },
   "source": [
    "### Implementing our final model"
   ]
  },
  {
   "cell_type": "code",
   "execution_count": 373,
   "metadata": {
    "id": "AccwtzUbtwSg"
   },
   "outputs": [],
   "source": [
    "X_new=X_train.drop(['clear_date','document_create_date.1','due_in_date','baseline_create_date','delay'],axis=1)#datetime objects"
   ]
  },
  {
   "cell_type": "code",
   "execution_count": 374,
   "metadata": {
    "colab": {
     "base_uri": "https://localhost:8080/"
    },
    "id": "EbNjoJfzuZ2H",
    "outputId": "9fb6fcda-3fc6-48cb-fe57-dc9ed176b150"
   },
   "outputs": [
    {
     "data": {
      "text/plain": [
       "(33045, 12)"
      ]
     },
     "execution_count": 374,
     "metadata": {},
     "output_type": "execute_result"
    }
   ],
   "source": [
    "X_new.shape"
   ]
  },
  {
   "cell_type": "code",
   "execution_count": 375,
   "metadata": {
    "id": "Q2fcBvceuK-C"
   },
   "outputs": [],
   "source": [
    "y_new=y=X_train['delay']\n",
    "y_val1=x_val1['delay']\n",
    "y_val2=x_val2['delay']"
   ]
  },
  {
   "cell_type": "code",
   "execution_count": 376,
   "metadata": {
    "id": "2BM2n2SDuVU5"
   },
   "outputs": [],
   "source": [
    "x_val1=x_val1.drop(['clear_date','document_create_date.1','due_in_date','baseline_create_date','delay'],axis=1)#datetime objects"
   ]
  },
  {
   "cell_type": "code",
   "execution_count": 377,
   "metadata": {
    "colab": {
     "base_uri": "https://localhost:8080/"
    },
    "id": "DDYwKzFEumO1",
    "outputId": "c74327e7-d7b3-4952-ab0b-8787b9799191"
   },
   "outputs": [
    {
     "data": {
      "text/plain": [
       "(3424, 12)"
      ]
     },
     "execution_count": 377,
     "metadata": {},
     "output_type": "execute_result"
    }
   ],
   "source": [
    "x_val1.shape"
   ]
  },
  {
   "cell_type": "code",
   "execution_count": 378,
   "metadata": {
    "id": "aqyg4yw0ueYn"
   },
   "outputs": [],
   "source": [
    "x_val2=x_val2.drop(['clear_date','document_create_date.1','due_in_date','baseline_create_date','index','delay'],axis=1)#datetime objects"
   ]
  },
  {
   "cell_type": "code",
   "execution_count": 379,
   "metadata": {
    "colab": {
     "base_uri": "https://localhost:8080/"
    },
    "id": "wItjM2reuoCQ",
    "outputId": "825adaa2-d0ba-4900-ba71-6a9cf15b465b"
   },
   "outputs": [
    {
     "data": {
      "text/plain": [
       "(3424, 12)"
      ]
     },
     "execution_count": 379,
     "metadata": {},
     "output_type": "execute_result"
    }
   ],
   "source": [
    "x_val2.shape"
   ]
  },
  {
   "cell_type": "code",
   "execution_count": 380,
   "metadata": {
    "id": "hzXn7nj-w97o"
   },
   "outputs": [],
   "source": [
    "xtrain1,xtest1,ytrain1,ytest1=train_test_split(X_pass,y,test_size=0.2)"
   ]
  },
  {
   "cell_type": "code",
   "execution_count": 381,
   "metadata": {
    "id": "BhZMsw0Xw-jt"
   },
   "outputs": [],
   "source": [
    "xtrain2,xtest2,ytrain2,ytest2=train_test_split(X_pass,y,test_size=0.2)"
   ]
  },
  {
   "cell_type": "code",
   "execution_count": 382,
   "metadata": {
    "id": "273RH6a4ugR3"
   },
   "outputs": [],
   "source": [
    "test=test.drop(['clear_date','document_create_date.1','due_in_date','baseline_create_date','index'],axis=1)#datetime objects"
   ]
  },
  {
   "cell_type": "code",
   "execution_count": 383,
   "metadata": {
    "colab": {
     "base_uri": "https://localhost:8080/"
    },
    "id": "HZFCaXrWulMV",
    "outputId": "d9797cac-c615-490c-821e-c5f236caff14"
   },
   "outputs": [
    {
     "data": {
      "text/plain": [
       "(9959, 9)"
      ]
     },
     "execution_count": 383,
     "metadata": {},
     "output_type": "execute_result"
    }
   ],
   "source": [
    "test.shape"
   ]
  },
  {
   "cell_type": "markdown",
   "metadata": {
    "id": "jzZGYBlgBhmB"
   },
   "source": [
    "## Implementation of Linear Regression"
   ]
  },
  {
   "cell_type": "code",
   "execution_count": 384,
   "metadata": {
    "colab": {
     "base_uri": "https://localhost:8080/"
    },
    "id": "8m2VwhOmwS-w",
    "outputId": "e4455986-6883-4884-94d7-b67f3280be27"
   },
   "outputs": [
    {
     "name": "stdout",
     "output_type": "stream",
     "text": [
      "Training complete.\n"
     ]
    }
   ],
   "source": [
    "#linear regession \n",
    "reg = LinearRegression(normalize=True)\n",
    "reg.fit(X_new,y_new)\n",
    "print(\"Training complete.\")"
   ]
  },
  {
   "cell_type": "code",
   "execution_count": 385,
   "metadata": {
    "colab": {
     "base_uri": "https://localhost:8080/"
    },
    "id": "6q4gdiidweKv",
    "outputId": "0e5ddb1a-3411-4e8b-9d4a-5d5b5bc2d299"
   },
   "outputs": [
    {
     "name": "stdout",
     "output_type": "stream",
     "text": [
      "48.026445265835505 %\n"
     ]
    }
   ],
   "source": [
    "acc1= reg.score(xtest1,ytest1)\n",
    "print(acc1*100,'%')"
   ]
  },
  {
   "cell_type": "code",
   "execution_count": 386,
   "metadata": {
    "colab": {
     "base_uri": "https://localhost:8080/"
    },
    "id": "_aNNAUBqxHN1",
    "outputId": "620e1617-63e8-4d90-ffec-e1311b1fd12d"
   },
   "outputs": [
    {
     "name": "stdout",
     "output_type": "stream",
     "text": [
      "48.026445265835505 %\n"
     ]
    }
   ],
   "source": [
    "acc2= reg.score(xtest2,ytest2)\n",
    "print(acc1*100,'%')"
   ]
  },
  {
   "cell_type": "code",
   "execution_count": 387,
   "metadata": {
    "colab": {
     "base_uri": "https://localhost:8080/"
    },
    "id": "TOhXmqwV4mxZ",
    "outputId": "25957830-b06c-4a6b-eab7-b33294b92ee2"
   },
   "outputs": [
    {
     "data": {
      "text/plain": [
       "68.50690619165802"
      ]
     },
     "execution_count": 387,
     "metadata": {},
     "output_type": "execute_result"
    }
   ],
   "source": [
    "y_pred1=reg.predict(xtest1)\n",
    "from sklearn.metrics import mean_squared_error\n",
    "mean_squared_error(ytest1, y_pred1)"
   ]
  },
  {
   "cell_type": "code",
   "execution_count": 388,
   "metadata": {
    "colab": {
     "base_uri": "https://localhost:8080/"
    },
    "id": "HVKP6ZG55D7i",
    "outputId": "82105fb8-9444-4066-a9c3-d5998bbb9dc1"
   },
   "outputs": [
    {
     "data": {
      "text/plain": [
       "52.408346981305634"
      ]
     },
     "execution_count": 388,
     "metadata": {},
     "output_type": "execute_result"
    }
   ],
   "source": [
    "y_pred2=reg.predict(xtest2)\n",
    "from sklearn.metrics import mean_squared_error\n",
    "mean_squared_error(ytest2, y_pred2)"
   ]
  },
  {
   "cell_type": "markdown",
   "metadata": {
    "id": "AKLxKueqBqY6"
   },
   "source": [
    "## Implementation of Ridge Regression"
   ]
  },
  {
   "cell_type": "code",
   "execution_count": 389,
   "metadata": {
    "colab": {
     "base_uri": "https://localhost:8080/"
    },
    "id": "zj9Flpv284I8",
    "outputId": "c6bf49e1-7238-4fc6-febf-d28293562862"
   },
   "outputs": [
    {
     "name": "stdout",
     "output_type": "stream",
     "text": [
      "7.7031745154209075\n",
      "0.541253642853454\n",
      "8.276893392524126\n",
      "0.4802640123346016\n"
     ]
    }
   ],
   "source": [
    "from sklearn.linear_model import Ridge\n",
    "rr = Ridge(alpha=0.01)\n",
    "rr.fit(X_new, y_new) \n",
    "pred_train_rr= rr.predict(X_new)\n",
    "print(np.sqrt(mean_squared_error(y_new,pred_train_rr)))\n",
    "print(r2_score(y_new, pred_train_rr))\n",
    "\n",
    "pred_test_rr= rr.predict(xtest1)\n",
    "print(np.sqrt(mean_squared_error(ytest1,pred_test_rr))) \n",
    "print(r2_score(ytest1, pred_test_rr))"
   ]
  },
  {
   "cell_type": "code",
   "execution_count": 390,
   "metadata": {
    "colab": {
     "base_uri": "https://localhost:8080/"
    },
    "id": "r1ibVKYt-xCi",
    "outputId": "fd3689a4-a4c1-4f22-daac-8d64299ace44"
   },
   "outputs": [
    {
     "name": "stdout",
     "output_type": "stream",
     "text": [
      "48.026401233460156 %\n"
     ]
    }
   ],
   "source": [
    "acc1= rr.score(xtest1,ytest1)\n",
    "print(acc1*100,'%')"
   ]
  },
  {
   "cell_type": "code",
   "execution_count": 391,
   "metadata": {
    "colab": {
     "base_uri": "https://localhost:8080/"
    },
    "id": "GjxR49qz-ke_",
    "outputId": "8ba92762-82c5-4f0d-c999-0553b0aaf41f"
   },
   "outputs": [
    {
     "name": "stdout",
     "output_type": "stream",
     "text": [
      "48.026401233460156 %\n"
     ]
    }
   ],
   "source": [
    "acc2= rr.score(xtest2,ytest2)\n",
    "print(acc1*100,'%')"
   ]
  },
  {
   "cell_type": "markdown",
   "metadata": {
    "id": "9Z42-PHABwIO"
   },
   "source": [
    "## Implementation of Elastic Net"
   ]
  },
  {
   "cell_type": "code",
   "execution_count": 392,
   "metadata": {
    "colab": {
     "base_uri": "https://localhost:8080/"
    },
    "id": "8hR8idyc_8it",
    "outputId": "10e26719-1b5c-4725-dffa-c641abc148fb"
   },
   "outputs": [
    {
     "name": "stdout",
     "output_type": "stream",
     "text": [
      "7.717427340402489\n",
      "0.5395544783326707\n",
      "8.285873628247913\n",
      "0.479135597736127\n"
     ]
    }
   ],
   "source": [
    "#Elastic Net\n",
    "from sklearn.linear_model import ElasticNet\n",
    "model_enet = ElasticNet(alpha = 0.01)\n",
    "model_enet.fit(X_new, y_new) \n",
    "pred_train_enet= model_enet.predict(X_new)\n",
    "print(np.sqrt(mean_squared_error(y_new,pred_train_enet)))\n",
    "print(r2_score(y_new, pred_train_enet))\n",
    "\n",
    "pred_test_enet= model_enet.predict(xtest1)\n",
    "print(np.sqrt(mean_squared_error(ytest1,pred_test_enet)))\n",
    "print(r2_score(ytest1, pred_test_enet))"
   ]
  },
  {
   "cell_type": "code",
   "execution_count": 393,
   "metadata": {
    "colab": {
     "base_uri": "https://localhost:8080/"
    },
    "id": "HuKVL-ApAc88",
    "outputId": "deb13bb7-612b-4a66-e1d8-444f3771b257"
   },
   "outputs": [
    {
     "name": "stdout",
     "output_type": "stream",
     "text": [
      "47.913559773612704 %\n"
     ]
    }
   ],
   "source": [
    "acc1= model_enet.score(xtest1,ytest1)\n",
    "print(acc1*100,'%')"
   ]
  },
  {
   "cell_type": "code",
   "execution_count": null,
   "metadata": {},
   "outputs": [],
   "source": []
  }
 ],
 "metadata": {
  "colab": {
   "collapsed_sections": [],
   "name": "Ra'salGhul_1828229_HRCPayroll.ipynb",
   "provenance": []
  },
  "kernelspec": {
   "display_name": "Python 3",
   "language": "python",
   "name": "python3"
  },
  "language_info": {
   "codemirror_mode": {
    "name": "ipython",
    "version": 3
   },
   "file_extension": ".py",
   "mimetype": "text/x-python",
   "name": "python",
   "nbconvert_exporter": "python",
   "pygments_lexer": "ipython3",
   "version": "3.9.5"
  }
 },
 "nbformat": 4,
 "nbformat_minor": 1
}
