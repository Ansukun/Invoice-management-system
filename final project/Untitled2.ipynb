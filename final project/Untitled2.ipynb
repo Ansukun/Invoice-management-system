{
 "cells": [
  {
   "cell_type": "code",
   "execution_count": 2,
   "id": "bd2eb224",
   "metadata": {},
   "outputs": [],
   "source": [
    "import pandas as pd\n",
    "import numpy as np\n",
    "from sklearn.model_selection import train_test_split\n",
    "import seaborn as sns\n",
    "import matplotlib.pyplot as plt\n",
    "from math import sqrt\n",
    "from sklearn.feature_selection import VarianceThreshold\n",
    "from sklearn.preprocessing import StandardScaler\n",
    "from sklearn.preprocessing import LabelEncoder\n",
    "from sklearn.linear_model import LinearRegression\n",
    "from sklearn.svm import SVR\n",
    "from sklearn.tree import DecisionTreeRegressor\n",
    "from sklearn.ensemble import RandomForestRegressor\n",
    "from sklearn.datasets import load_boston\n",
    "from sklearn.metrics import mean_squared_error\n",
    "from sklearn.metrics import r2_score"
   ]
  },
  {
   "cell_type": "code",
   "execution_count": 3,
   "id": "78de75e9",
   "metadata": {},
   "outputs": [],
   "source": [
    "data = pd.read_csv('H2HBABBA1533.csv')"
   ]
  },
  {
   "cell_type": "code",
   "execution_count": 4,
   "id": "dc77bf45",
   "metadata": {},
   "outputs": [
    {
     "data": {
      "text/plain": [
       "1212"
      ]
     },
     "execution_count": 4,
     "metadata": {},
     "output_type": "execute_result"
    }
   ],
   "source": [
    "#check if  dupilcates are present in data\n",
    "data.duplicated().sum()"
   ]
  },
  {
   "cell_type": "code",
   "execution_count": 5,
   "id": "c33671e3",
   "metadata": {},
   "outputs": [],
   "source": [
    "#deleteing dupicates\n",
    "data.drop_duplicates(keep =False,inplace  = True)"
   ]
  },
  {
   "cell_type": "code",
   "execution_count": 6,
   "id": "fac57c7e",
   "metadata": {},
   "outputs": [
    {
     "data": {
      "text/html": [
       "<div>\n",
       "<style scoped>\n",
       "    .dataframe tbody tr th:only-of-type {\n",
       "        vertical-align: middle;\n",
       "    }\n",
       "\n",
       "    .dataframe tbody tr th {\n",
       "        vertical-align: top;\n",
       "    }\n",
       "\n",
       "    .dataframe thead th {\n",
       "        text-align: right;\n",
       "    }\n",
       "</style>\n",
       "<table border=\"1\" class=\"dataframe\">\n",
       "  <thead>\n",
       "    <tr style=\"text-align: right;\">\n",
       "      <th></th>\n",
       "      <th>business_code</th>\n",
       "      <th>cust_number</th>\n",
       "      <th>name_customer</th>\n",
       "      <th>clear_date</th>\n",
       "      <th>buisness_year</th>\n",
       "      <th>doc_id</th>\n",
       "      <th>posting_date</th>\n",
       "      <th>document_create_date</th>\n",
       "      <th>document_create_date.1</th>\n",
       "      <th>due_in_date</th>\n",
       "      <th>invoice_currency</th>\n",
       "      <th>document type</th>\n",
       "      <th>posting_id</th>\n",
       "      <th>area_business</th>\n",
       "      <th>total_open_amount</th>\n",
       "      <th>baseline_create_date</th>\n",
       "      <th>cust_payment_terms</th>\n",
       "      <th>invoice_id</th>\n",
       "      <th>isOpen</th>\n",
       "    </tr>\n",
       "  </thead>\n",
       "  <tbody>\n",
       "    <tr>\n",
       "      <th>0</th>\n",
       "      <td>U001</td>\n",
       "      <td>0200895843</td>\n",
       "      <td>US</td>\n",
       "      <td>2019-09-09 00:00:00</td>\n",
       "      <td>2019.0</td>\n",
       "      <td>1.929776e+09</td>\n",
       "      <td>2019-08-22</td>\n",
       "      <td>20190822</td>\n",
       "      <td>20190822</td>\n",
       "      <td>20190906.0</td>\n",
       "      <td>USD</td>\n",
       "      <td>RV</td>\n",
       "      <td>1.0</td>\n",
       "      <td>NaN</td>\n",
       "      <td>41386.61</td>\n",
       "      <td>20190822.0</td>\n",
       "      <td>NAA8</td>\n",
       "      <td>1.929776e+09</td>\n",
       "      <td>0</td>\n",
       "    </tr>\n",
       "    <tr>\n",
       "      <th>1</th>\n",
       "      <td>U001</td>\n",
       "      <td>0200769623</td>\n",
       "      <td>WAL-MAR</td>\n",
       "      <td>2019-11-25 00:00:00</td>\n",
       "      <td>2019.0</td>\n",
       "      <td>1.930144e+09</td>\n",
       "      <td>2019-11-12</td>\n",
       "      <td>20191112</td>\n",
       "      <td>20191112</td>\n",
       "      <td>20191127.0</td>\n",
       "      <td>USD</td>\n",
       "      <td>RV</td>\n",
       "      <td>1.0</td>\n",
       "      <td>NaN</td>\n",
       "      <td>47178.82</td>\n",
       "      <td>20191112.0</td>\n",
       "      <td>NAH4</td>\n",
       "      <td>1.930144e+09</td>\n",
       "      <td>0</td>\n",
       "    </tr>\n",
       "    <tr>\n",
       "      <th>2</th>\n",
       "      <td>U001</td>\n",
       "      <td>0200769623</td>\n",
       "      <td>WAL-MAR foundation</td>\n",
       "      <td>2019-04-23 00:00:00</td>\n",
       "      <td>2019.0</td>\n",
       "      <td>1.929131e+09</td>\n",
       "      <td>2019-04-12</td>\n",
       "      <td>20190411</td>\n",
       "      <td>20190412</td>\n",
       "      <td>20190427.0</td>\n",
       "      <td>USD</td>\n",
       "      <td>RV</td>\n",
       "      <td>1.0</td>\n",
       "      <td>NaN</td>\n",
       "      <td>51389.52</td>\n",
       "      <td>20190412.0</td>\n",
       "      <td>NAH4</td>\n",
       "      <td>1.929131e+09</td>\n",
       "      <td>0</td>\n",
       "    </tr>\n",
       "    <tr>\n",
       "      <th>3</th>\n",
       "      <td>U001</td>\n",
       "      <td>0200769623</td>\n",
       "      <td>WAL-MAR co</td>\n",
       "      <td>2019-11-26 00:00:00</td>\n",
       "      <td>2019.0</td>\n",
       "      <td>1.930124e+09</td>\n",
       "      <td>2019-11-15</td>\n",
       "      <td>20191107</td>\n",
       "      <td>20191115</td>\n",
       "      <td>20191130.0</td>\n",
       "      <td>USD</td>\n",
       "      <td>RV</td>\n",
       "      <td>1.0</td>\n",
       "      <td>NaN</td>\n",
       "      <td>18177.18</td>\n",
       "      <td>20191115.0</td>\n",
       "      <td>NAH4</td>\n",
       "      <td>1.930124e+09</td>\n",
       "      <td>0</td>\n",
       "    </tr>\n",
       "    <tr>\n",
       "      <th>4</th>\n",
       "      <td>U001</td>\n",
       "      <td>0200769623</td>\n",
       "      <td>WAL-MAR</td>\n",
       "      <td>NaN</td>\n",
       "      <td>2020.0</td>\n",
       "      <td>1.930737e+09</td>\n",
       "      <td>2020-04-03</td>\n",
       "      <td>20200403</td>\n",
       "      <td>20200403</td>\n",
       "      <td>20200418.0</td>\n",
       "      <td>USD</td>\n",
       "      <td>RV</td>\n",
       "      <td>1.0</td>\n",
       "      <td>NaN</td>\n",
       "      <td>24079.57</td>\n",
       "      <td>20200403.0</td>\n",
       "      <td>NAH4</td>\n",
       "      <td>1.930737e+09</td>\n",
       "      <td>1</td>\n",
       "    </tr>\n",
       "  </tbody>\n",
       "</table>\n",
       "</div>"
      ],
      "text/plain": [
       "  business_code cust_number       name_customer           clear_date  \\\n",
       "0          U001  0200895843                US    2019-09-09 00:00:00   \n",
       "1          U001  0200769623            WAL-MAR   2019-11-25 00:00:00   \n",
       "2          U001  0200769623  WAL-MAR foundation  2019-04-23 00:00:00   \n",
       "3          U001  0200769623          WAL-MAR co  2019-11-26 00:00:00   \n",
       "4          U001  0200769623            WAL-MAR                   NaN   \n",
       "\n",
       "   buisness_year        doc_id posting_date  document_create_date  \\\n",
       "0         2019.0  1.929776e+09   2019-08-22              20190822   \n",
       "1         2019.0  1.930144e+09   2019-11-12              20191112   \n",
       "2         2019.0  1.929131e+09   2019-04-12              20190411   \n",
       "3         2019.0  1.930124e+09   2019-11-15              20191107   \n",
       "4         2020.0  1.930737e+09   2020-04-03              20200403   \n",
       "\n",
       "   document_create_date.1  due_in_date invoice_currency document type  \\\n",
       "0                20190822   20190906.0              USD            RV   \n",
       "1                20191112   20191127.0              USD            RV   \n",
       "2                20190412   20190427.0              USD            RV   \n",
       "3                20191115   20191130.0              USD            RV   \n",
       "4                20200403   20200418.0              USD            RV   \n",
       "\n",
       "   posting_id  area_business  total_open_amount  baseline_create_date  \\\n",
       "0         1.0            NaN           41386.61            20190822.0   \n",
       "1         1.0            NaN           47178.82            20191112.0   \n",
       "2         1.0            NaN           51389.52            20190412.0   \n",
       "3         1.0            NaN           18177.18            20191115.0   \n",
       "4         1.0            NaN           24079.57            20200403.0   \n",
       "\n",
       "  cust_payment_terms    invoice_id  isOpen  \n",
       "0               NAA8  1.929776e+09       0  \n",
       "1               NAH4  1.930144e+09       0  \n",
       "2               NAH4  1.929131e+09       0  \n",
       "3               NAH4  1.930124e+09       0  \n",
       "4               NAH4  1.930737e+09       1  "
      ]
     },
     "execution_count": 6,
     "metadata": {},
     "output_type": "execute_result"
    }
   ],
   "source": [
    "data.head()"
   ]
  },
  {
   "cell_type": "code",
   "execution_count": 7,
   "id": "34be2142",
   "metadata": {},
   "outputs": [
    {
     "data": {
      "text/plain": [
       "Index(['posting_id', 'area_business'], dtype='object')"
      ]
     },
     "execution_count": 7,
     "metadata": {},
     "output_type": "execute_result"
    }
   ],
   "source": [
    "#check for any constant features are present or not\n",
    "data.columns[data.nunique()<=1]"
   ]
  },
  {
   "cell_type": "code",
   "execution_count": 8,
   "id": "f82a68ef",
   "metadata": {},
   "outputs": [],
   "source": [
    "#delete the constant features\n",
    "data.drop(columns=['posting_id', 'area_business'],inplace=True)"
   ]
  },
  {
   "cell_type": "code",
   "execution_count": 9,
   "id": "93f8047d",
   "metadata": {},
   "outputs": [
    {
     "data": {
      "text/plain": [
       "buisness_year             float64\n",
       "doc_id                    float64\n",
       "document_create_date        int64\n",
       "document_create_date.1      int64\n",
       "due_in_date               float64\n",
       "total_open_amount         float64\n",
       "baseline_create_date      float64\n",
       "invoice_id                float64\n",
       "isOpen                      int64\n",
       "dtype: object"
      ]
     },
     "execution_count": 9,
     "metadata": {},
     "output_type": "execute_result"
    }
   ],
   "source": [
    "# a new list in created discarding the object datatype \n",
    "temp_data = data.drop(labels=['cust_number','business_code','name_customer','clear_date','posting_date','invoice_currency','document type','cust_payment_terms'], axis=1)\n",
    "temp_data.dtypes"
   ]
  },
  {
   "cell_type": "code",
   "execution_count": 10,
   "id": "75734326",
   "metadata": {},
   "outputs": [
    {
     "data": {
      "text/html": [
       "<div>\n",
       "<style scoped>\n",
       "    .dataframe tbody tr th:only-of-type {\n",
       "        vertical-align: middle;\n",
       "    }\n",
       "\n",
       "    .dataframe tbody tr th {\n",
       "        vertical-align: top;\n",
       "    }\n",
       "\n",
       "    .dataframe thead th {\n",
       "        text-align: right;\n",
       "    }\n",
       "</style>\n",
       "<table border=\"1\" class=\"dataframe\">\n",
       "  <thead>\n",
       "    <tr style=\"text-align: right;\">\n",
       "      <th></th>\n",
       "      <th>buisness_year</th>\n",
       "      <th>doc_id</th>\n",
       "      <th>document_create_date</th>\n",
       "      <th>document_create_date.1</th>\n",
       "      <th>due_in_date</th>\n",
       "      <th>total_open_amount</th>\n",
       "      <th>baseline_create_date</th>\n",
       "      <th>invoice_id</th>\n",
       "      <th>isOpen</th>\n",
       "    </tr>\n",
       "  </thead>\n",
       "  <tbody>\n",
       "    <tr>\n",
       "      <th>0</th>\n",
       "      <td>2019.0</td>\n",
       "      <td>1.929776e+09</td>\n",
       "      <td>20190822</td>\n",
       "      <td>20190822</td>\n",
       "      <td>20190906.0</td>\n",
       "      <td>41386.61</td>\n",
       "      <td>20190822.0</td>\n",
       "      <td>1.929776e+09</td>\n",
       "      <td>0</td>\n",
       "    </tr>\n",
       "    <tr>\n",
       "      <th>1</th>\n",
       "      <td>2019.0</td>\n",
       "      <td>1.930144e+09</td>\n",
       "      <td>20191112</td>\n",
       "      <td>20191112</td>\n",
       "      <td>20191127.0</td>\n",
       "      <td>47178.82</td>\n",
       "      <td>20191112.0</td>\n",
       "      <td>1.930144e+09</td>\n",
       "      <td>0</td>\n",
       "    </tr>\n",
       "    <tr>\n",
       "      <th>2</th>\n",
       "      <td>2019.0</td>\n",
       "      <td>1.929131e+09</td>\n",
       "      <td>20190411</td>\n",
       "      <td>20190412</td>\n",
       "      <td>20190427.0</td>\n",
       "      <td>51389.52</td>\n",
       "      <td>20190412.0</td>\n",
       "      <td>1.929131e+09</td>\n",
       "      <td>0</td>\n",
       "    </tr>\n",
       "    <tr>\n",
       "      <th>3</th>\n",
       "      <td>2019.0</td>\n",
       "      <td>1.930124e+09</td>\n",
       "      <td>20191107</td>\n",
       "      <td>20191115</td>\n",
       "      <td>20191130.0</td>\n",
       "      <td>18177.18</td>\n",
       "      <td>20191115.0</td>\n",
       "      <td>1.930124e+09</td>\n",
       "      <td>0</td>\n",
       "    </tr>\n",
       "    <tr>\n",
       "      <th>4</th>\n",
       "      <td>2020.0</td>\n",
       "      <td>1.930737e+09</td>\n",
       "      <td>20200403</td>\n",
       "      <td>20200403</td>\n",
       "      <td>20200418.0</td>\n",
       "      <td>24079.57</td>\n",
       "      <td>20200403.0</td>\n",
       "      <td>1.930737e+09</td>\n",
       "      <td>1</td>\n",
       "    </tr>\n",
       "  </tbody>\n",
       "</table>\n",
       "</div>"
      ],
      "text/plain": [
       "   buisness_year        doc_id  document_create_date  document_create_date.1  \\\n",
       "0         2019.0  1.929776e+09              20190822                20190822   \n",
       "1         2019.0  1.930144e+09              20191112                20191112   \n",
       "2         2019.0  1.929131e+09              20190411                20190412   \n",
       "3         2019.0  1.930124e+09              20191107                20191115   \n",
       "4         2020.0  1.930737e+09              20200403                20200403   \n",
       "\n",
       "   due_in_date  total_open_amount  baseline_create_date    invoice_id  isOpen  \n",
       "0   20190906.0           41386.61            20190822.0  1.929776e+09       0  \n",
       "1   20191127.0           47178.82            20191112.0  1.930144e+09       0  \n",
       "2   20190427.0           51389.52            20190412.0  1.929131e+09       0  \n",
       "3   20191130.0           18177.18            20191115.0  1.930124e+09       0  \n",
       "4   20200418.0           24079.57            20200403.0  1.930737e+09       1  "
      ]
     },
     "execution_count": 10,
     "metadata": {},
     "output_type": "execute_result"
    }
   ],
   "source": [
    "temp_data.head()"
   ]
  },
  {
   "cell_type": "code",
   "execution_count": 11,
   "id": "b26239eb",
   "metadata": {},
   "outputs": [
    {
     "data": {
      "text/plain": [
       "9"
      ]
     },
     "execution_count": 11,
     "metadata": {},
     "output_type": "execute_result"
    }
   ],
   "source": [
    "#checking for quasi-constant \n",
    "s = VarianceThreshold(\n",
    "    threshold=0.01)\n",
    "\n",
    "s.fit(temp_data)\n",
    "sum(s.get_support())"
   ]
  },
  {
   "cell_type": "code",
   "execution_count": 12,
   "id": "7b2197eb",
   "metadata": {},
   "outputs": [
    {
     "name": "stdout",
     "output_type": "stream",
     "text": [
      "0\n"
     ]
    },
    {
     "data": {
      "text/plain": [
       "[]"
      ]
     },
     "execution_count": 12,
     "metadata": {},
     "output_type": "execute_result"
    }
   ],
   "source": [
    "#  print the quasi-constant features if Any \n",
    "print(\n",
    "    len([\n",
    "        x for x in temp_data.columns\n",
    "        if x not in temp_data.columns[s.get_support()]\n",
    "    ]))\n",
    "\n",
    "[x for x in temp_data.columns if x not in temp_data.columns[s.get_support()]]"
   ]
  },
  {
   "cell_type": "code",
   "execution_count": 13,
   "id": "8b9591be",
   "metadata": {},
   "outputs": [
    {
     "data": {
      "text/plain": [
       "RV    47598\n",
       "X2        4\n",
       "Name: document type, dtype: int64"
      ]
     },
     "execution_count": 13,
     "metadata": {},
     "output_type": "execute_result"
    }
   ],
   "source": [
    "# checkin for majority of data\n",
    "data[\"document type\"].value_counts()"
   ]
  },
  {
   "cell_type": "code",
   "execution_count": 14,
   "id": "80a9b258",
   "metadata": {},
   "outputs": [],
   "source": [
    "#since we are getting rv as 0.999 so it is of no use so we can delete it\n",
    "data.drop('document type',axis = 1,inplace = True)"
   ]
  },
  {
   "cell_type": "code",
   "execution_count": 15,
   "id": "34bea6f3",
   "metadata": {},
   "outputs": [
    {
     "data": {
      "text/html": [
       "<div>\n",
       "<style scoped>\n",
       "    .dataframe tbody tr th:only-of-type {\n",
       "        vertical-align: middle;\n",
       "    }\n",
       "\n",
       "    .dataframe tbody tr th {\n",
       "        vertical-align: top;\n",
       "    }\n",
       "\n",
       "    .dataframe thead th {\n",
       "        text-align: right;\n",
       "    }\n",
       "</style>\n",
       "<table border=\"1\" class=\"dataframe\">\n",
       "  <thead>\n",
       "    <tr style=\"text-align: right;\">\n",
       "      <th></th>\n",
       "      <th>business_code</th>\n",
       "      <th>cust_number</th>\n",
       "      <th>name_customer</th>\n",
       "      <th>clear_date</th>\n",
       "      <th>buisness_year</th>\n",
       "      <th>doc_id</th>\n",
       "      <th>posting_date</th>\n",
       "      <th>document_create_date</th>\n",
       "      <th>document_create_date.1</th>\n",
       "      <th>due_in_date</th>\n",
       "      <th>invoice_currency</th>\n",
       "      <th>total_open_amount</th>\n",
       "      <th>baseline_create_date</th>\n",
       "      <th>cust_payment_terms</th>\n",
       "      <th>invoice_id</th>\n",
       "      <th>isOpen</th>\n",
       "    </tr>\n",
       "  </thead>\n",
       "  <tbody>\n",
       "    <tr>\n",
       "      <th>25</th>\n",
       "      <td>CA02</td>\n",
       "      <td>0140104409</td>\n",
       "      <td>LOB trust</td>\n",
       "      <td>NaN</td>\n",
       "      <td>2020.0</td>\n",
       "      <td>2.960617e+09</td>\n",
       "      <td>2020-02-29</td>\n",
       "      <td>20200229</td>\n",
       "      <td>20200229</td>\n",
       "      <td>20200314.0</td>\n",
       "      <td>CAD</td>\n",
       "      <td>150136.21</td>\n",
       "      <td>20200304.0</td>\n",
       "      <td>CA10</td>\n",
       "      <td>2.960617e+09</td>\n",
       "      <td>1</td>\n",
       "    </tr>\n",
       "    <tr>\n",
       "      <th>36</th>\n",
       "      <td>CA02</td>\n",
       "      <td>0140104429</td>\n",
       "      <td>COSTCO co</td>\n",
       "      <td>2019-07-02 00:00:00</td>\n",
       "      <td>2019.0</td>\n",
       "      <td>2.960553e+09</td>\n",
       "      <td>2019-06-05</td>\n",
       "      <td>20190605</td>\n",
       "      <td>20190605</td>\n",
       "      <td>20190624.0</td>\n",
       "      <td>CAD</td>\n",
       "      <td>15993.34</td>\n",
       "      <td>20190614.0</td>\n",
       "      <td>CA10</td>\n",
       "      <td>2.960553e+09</td>\n",
       "      <td>0</td>\n",
       "    </tr>\n",
       "    <tr>\n",
       "      <th>37</th>\n",
       "      <td>CA02</td>\n",
       "      <td>0140106408</td>\n",
       "      <td>WAL-M foundation</td>\n",
       "      <td>NaN</td>\n",
       "      <td>2020.0</td>\n",
       "      <td>2.960623e+09</td>\n",
       "      <td>2020-03-21</td>\n",
       "      <td>20200321</td>\n",
       "      <td>20200321</td>\n",
       "      <td>20200331.0</td>\n",
       "      <td>CAD</td>\n",
       "      <td>4878.02</td>\n",
       "      <td>20200321.0</td>\n",
       "      <td>CA10</td>\n",
       "      <td>2.960623e+09</td>\n",
       "      <td>1</td>\n",
       "    </tr>\n",
       "    <tr>\n",
       "      <th>43</th>\n",
       "      <td>CA02</td>\n",
       "      <td>0140104423</td>\n",
       "      <td>METRO  llc</td>\n",
       "      <td>NaN</td>\n",
       "      <td>2020.0</td>\n",
       "      <td>2.960630e+09</td>\n",
       "      <td>2020-04-20</td>\n",
       "      <td>20200420</td>\n",
       "      <td>20200420</td>\n",
       "      <td>20200501.0</td>\n",
       "      <td>CAD</td>\n",
       "      <td>162295.09</td>\n",
       "      <td>20200421.0</td>\n",
       "      <td>CA10</td>\n",
       "      <td>2.960630e+09</td>\n",
       "      <td>1</td>\n",
       "    </tr>\n",
       "    <tr>\n",
       "      <th>60</th>\n",
       "      <td>CA02</td>\n",
       "      <td>0140104429</td>\n",
       "      <td>COSTCO systems</td>\n",
       "      <td>NaN</td>\n",
       "      <td>2020.0</td>\n",
       "      <td>2.960617e+09</td>\n",
       "      <td>2020-02-27</td>\n",
       "      <td>20200227</td>\n",
       "      <td>20200227</td>\n",
       "      <td>20200309.0</td>\n",
       "      <td>CAD</td>\n",
       "      <td>12383.81</td>\n",
       "      <td>20200228.0</td>\n",
       "      <td>CA10</td>\n",
       "      <td>2.960617e+09</td>\n",
       "      <td>1</td>\n",
       "    </tr>\n",
       "  </tbody>\n",
       "</table>\n",
       "</div>"
      ],
      "text/plain": [
       "   business_code cust_number     name_customer           clear_date  \\\n",
       "25          CA02  0140104409         LOB trust                  NaN   \n",
       "36          CA02  0140104429         COSTCO co  2019-07-02 00:00:00   \n",
       "37          CA02  0140106408  WAL-M foundation                  NaN   \n",
       "43          CA02  0140104423        METRO  llc                  NaN   \n",
       "60          CA02  0140104429    COSTCO systems                  NaN   \n",
       "\n",
       "    buisness_year        doc_id posting_date  document_create_date  \\\n",
       "25         2020.0  2.960617e+09   2020-02-29              20200229   \n",
       "36         2019.0  2.960553e+09   2019-06-05              20190605   \n",
       "37         2020.0  2.960623e+09   2020-03-21              20200321   \n",
       "43         2020.0  2.960630e+09   2020-04-20              20200420   \n",
       "60         2020.0  2.960617e+09   2020-02-27              20200227   \n",
       "\n",
       "    document_create_date.1  due_in_date invoice_currency  total_open_amount  \\\n",
       "25                20200229   20200314.0              CAD          150136.21   \n",
       "36                20190605   20190624.0              CAD           15993.34   \n",
       "37                20200321   20200331.0              CAD            4878.02   \n",
       "43                20200420   20200501.0              CAD          162295.09   \n",
       "60                20200227   20200309.0              CAD           12383.81   \n",
       "\n",
       "    baseline_create_date cust_payment_terms    invoice_id  isOpen  \n",
       "25            20200304.0               CA10  2.960617e+09       1  \n",
       "36            20190614.0               CA10  2.960553e+09       0  \n",
       "37            20200321.0               CA10  2.960623e+09       1  \n",
       "43            20200421.0               CA10  2.960630e+09       1  \n",
       "60            20200228.0               CA10  2.960617e+09       1  "
      ]
     },
     "execution_count": 15,
     "metadata": {},
     "output_type": "execute_result"
    }
   ],
   "source": [
    "data[data['invoice_currency'] == 'CAD'].head()"
   ]
  },
  {
   "cell_type": "code",
   "execution_count": 16,
   "id": "5a51e1bc",
   "metadata": {},
   "outputs": [],
   "source": [
    "#CAD in converted into USD and all the values are stored in new column Total-open-Amount \n",
    "data['total_open_amount'] = np.where((data['invoice_currency'] == 'CAD') ,((data['total_open_amount'])*0.78),(data['total_open_amount']))"
   ]
  },
  {
   "cell_type": "code",
   "execution_count": 17,
   "id": "a0163e87",
   "metadata": {},
   "outputs": [
    {
     "data": {
      "text/html": [
       "<div>\n",
       "<style scoped>\n",
       "    .dataframe tbody tr th:only-of-type {\n",
       "        vertical-align: middle;\n",
       "    }\n",
       "\n",
       "    .dataframe tbody tr th {\n",
       "        vertical-align: top;\n",
       "    }\n",
       "\n",
       "    .dataframe thead th {\n",
       "        text-align: right;\n",
       "    }\n",
       "</style>\n",
       "<table border=\"1\" class=\"dataframe\">\n",
       "  <thead>\n",
       "    <tr style=\"text-align: right;\">\n",
       "      <th></th>\n",
       "      <th>business_code</th>\n",
       "      <th>cust_number</th>\n",
       "      <th>name_customer</th>\n",
       "      <th>clear_date</th>\n",
       "      <th>buisness_year</th>\n",
       "      <th>doc_id</th>\n",
       "      <th>posting_date</th>\n",
       "      <th>document_create_date</th>\n",
       "      <th>document_create_date.1</th>\n",
       "      <th>due_in_date</th>\n",
       "      <th>invoice_currency</th>\n",
       "      <th>total_open_amount</th>\n",
       "      <th>baseline_create_date</th>\n",
       "      <th>cust_payment_terms</th>\n",
       "      <th>invoice_id</th>\n",
       "      <th>isOpen</th>\n",
       "    </tr>\n",
       "  </thead>\n",
       "  <tbody>\n",
       "    <tr>\n",
       "      <th>0</th>\n",
       "      <td>U001</td>\n",
       "      <td>0200895843</td>\n",
       "      <td>US</td>\n",
       "      <td>2019-09-09 00:00:00</td>\n",
       "      <td>2019.0</td>\n",
       "      <td>1.929776e+09</td>\n",
       "      <td>2019-08-22</td>\n",
       "      <td>20190822</td>\n",
       "      <td>20190822</td>\n",
       "      <td>20190906.0</td>\n",
       "      <td>USD</td>\n",
       "      <td>41386.61</td>\n",
       "      <td>20190822.0</td>\n",
       "      <td>NAA8</td>\n",
       "      <td>1.929776e+09</td>\n",
       "      <td>0</td>\n",
       "    </tr>\n",
       "    <tr>\n",
       "      <th>1</th>\n",
       "      <td>U001</td>\n",
       "      <td>0200769623</td>\n",
       "      <td>WAL-MAR</td>\n",
       "      <td>2019-11-25 00:00:00</td>\n",
       "      <td>2019.0</td>\n",
       "      <td>1.930144e+09</td>\n",
       "      <td>2019-11-12</td>\n",
       "      <td>20191112</td>\n",
       "      <td>20191112</td>\n",
       "      <td>20191127.0</td>\n",
       "      <td>USD</td>\n",
       "      <td>47178.82</td>\n",
       "      <td>20191112.0</td>\n",
       "      <td>NAH4</td>\n",
       "      <td>1.930144e+09</td>\n",
       "      <td>0</td>\n",
       "    </tr>\n",
       "    <tr>\n",
       "      <th>2</th>\n",
       "      <td>U001</td>\n",
       "      <td>0200769623</td>\n",
       "      <td>WAL-MAR foundation</td>\n",
       "      <td>2019-04-23 00:00:00</td>\n",
       "      <td>2019.0</td>\n",
       "      <td>1.929131e+09</td>\n",
       "      <td>2019-04-12</td>\n",
       "      <td>20190411</td>\n",
       "      <td>20190412</td>\n",
       "      <td>20190427.0</td>\n",
       "      <td>USD</td>\n",
       "      <td>51389.52</td>\n",
       "      <td>20190412.0</td>\n",
       "      <td>NAH4</td>\n",
       "      <td>1.929131e+09</td>\n",
       "      <td>0</td>\n",
       "    </tr>\n",
       "    <tr>\n",
       "      <th>3</th>\n",
       "      <td>U001</td>\n",
       "      <td>0200769623</td>\n",
       "      <td>WAL-MAR co</td>\n",
       "      <td>2019-11-26 00:00:00</td>\n",
       "      <td>2019.0</td>\n",
       "      <td>1.930124e+09</td>\n",
       "      <td>2019-11-15</td>\n",
       "      <td>20191107</td>\n",
       "      <td>20191115</td>\n",
       "      <td>20191130.0</td>\n",
       "      <td>USD</td>\n",
       "      <td>18177.18</td>\n",
       "      <td>20191115.0</td>\n",
       "      <td>NAH4</td>\n",
       "      <td>1.930124e+09</td>\n",
       "      <td>0</td>\n",
       "    </tr>\n",
       "    <tr>\n",
       "      <th>4</th>\n",
       "      <td>U001</td>\n",
       "      <td>0200769623</td>\n",
       "      <td>WAL-MAR</td>\n",
       "      <td>NaN</td>\n",
       "      <td>2020.0</td>\n",
       "      <td>1.930737e+09</td>\n",
       "      <td>2020-04-03</td>\n",
       "      <td>20200403</td>\n",
       "      <td>20200403</td>\n",
       "      <td>20200418.0</td>\n",
       "      <td>USD</td>\n",
       "      <td>24079.57</td>\n",
       "      <td>20200403.0</td>\n",
       "      <td>NAH4</td>\n",
       "      <td>1.930737e+09</td>\n",
       "      <td>1</td>\n",
       "    </tr>\n",
       "  </tbody>\n",
       "</table>\n",
       "</div>"
      ],
      "text/plain": [
       "  business_code cust_number       name_customer           clear_date  \\\n",
       "0          U001  0200895843                US    2019-09-09 00:00:00   \n",
       "1          U001  0200769623            WAL-MAR   2019-11-25 00:00:00   \n",
       "2          U001  0200769623  WAL-MAR foundation  2019-04-23 00:00:00   \n",
       "3          U001  0200769623          WAL-MAR co  2019-11-26 00:00:00   \n",
       "4          U001  0200769623            WAL-MAR                   NaN   \n",
       "\n",
       "   buisness_year        doc_id posting_date  document_create_date  \\\n",
       "0         2019.0  1.929776e+09   2019-08-22              20190822   \n",
       "1         2019.0  1.930144e+09   2019-11-12              20191112   \n",
       "2         2019.0  1.929131e+09   2019-04-12              20190411   \n",
       "3         2019.0  1.930124e+09   2019-11-15              20191107   \n",
       "4         2020.0  1.930737e+09   2020-04-03              20200403   \n",
       "\n",
       "   document_create_date.1  due_in_date invoice_currency  total_open_amount  \\\n",
       "0                20190822   20190906.0              USD           41386.61   \n",
       "1                20191112   20191127.0              USD           47178.82   \n",
       "2                20190412   20190427.0              USD           51389.52   \n",
       "3                20191115   20191130.0              USD           18177.18   \n",
       "4                20200403   20200418.0              USD           24079.57   \n",
       "\n",
       "   baseline_create_date cust_payment_terms    invoice_id  isOpen  \n",
       "0            20190822.0               NAA8  1.929776e+09       0  \n",
       "1            20191112.0               NAH4  1.930144e+09       0  \n",
       "2            20190412.0               NAH4  1.929131e+09       0  \n",
       "3            20191115.0               NAH4  1.930124e+09       0  \n",
       "4            20200403.0               NAH4  1.930737e+09       1  "
      ]
     },
     "execution_count": 17,
     "metadata": {},
     "output_type": "execute_result"
    }
   ],
   "source": [
    "# All the CAD is converted to USD\n",
    "data['invoice_currency'] = 'USD'\n",
    "data.head()"
   ]
  },
  {
   "cell_type": "code",
   "execution_count": 18,
   "id": "6300d48e",
   "metadata": {},
   "outputs": [
    {
     "data": {
      "text/plain": [
       "array(['USD'], dtype=object)"
      ]
     },
     "execution_count": 18,
     "metadata": {},
     "output_type": "execute_result"
    }
   ],
   "source": [
    "data['invoice_currency'].unique()"
   ]
  },
  {
   "cell_type": "code",
   "execution_count": 19,
   "id": "a318c65b",
   "metadata": {},
   "outputs": [],
   "source": [
    "#since the invoice_currency becomes a constant so it is of no use thus dropped\n",
    "data.drop(columns=['invoice_currency'],inplace=True)\n"
   ]
  },
  {
   "cell_type": "code",
   "execution_count": 20,
   "id": "572ca7a5",
   "metadata": {},
   "outputs": [
    {
     "data": {
      "text/plain": [
       "<AxesSubplot:>"
      ]
     },
     "execution_count": 20,
     "metadata": {},
     "output_type": "execute_result"
    },
    {
     "data": {
      "image/png": "[encoded data removed]",
      "text/plain": [
       "<Figure size 432x288 with 2 Axes>"
      ]
     },
     "metadata": {
      "needs_background": "light"
     },
     "output_type": "display_data"
    }
   ],
   "source": [
    "# corelation plot is done to eliminate some highly coorelated features\n",
    "cor = data.corr()\n",
    "sns.heatmap(cor, xticklabels=cor.columns, yticklabels=cor.columns, annot=True)\n",
    " "
   ]
  },
  {
   "cell_type": "code",
   "execution_count": 21,
   "id": "7684e94a",
   "metadata": {},
   "outputs": [],
   "source": [
    "# Since 'document_create_date','buisness_year','invoice_id','baseline_create_date' are corelated with others \n",
    "# so we can drop these features\n",
    "\n",
    "data.drop(columns=['document_create_date','invoice_id','baseline_create_date'],inplace=True)"
   ]
  },
  {
   "cell_type": "code",
   "execution_count": 22,
   "id": "10181659",
   "metadata": {},
   "outputs": [
    {
     "data": {
      "text/plain": [
       "business_code              object\n",
       "cust_number                object\n",
       "name_customer              object\n",
       "clear_date                 object\n",
       "buisness_year             float64\n",
       "doc_id                    float64\n",
       "posting_date               object\n",
       "document_create_date.1      int64\n",
       "due_in_date               float64\n",
       "total_open_amount         float64\n",
       "cust_payment_terms         object\n",
       "isOpen                      int64\n",
       "dtype: object"
      ]
     },
     "execution_count": 22,
     "metadata": {},
     "output_type": "execute_result"
    }
   ],
   "source": [
    "data.dtypes"
   ]
  },
  {
   "cell_type": "code",
   "execution_count": 23,
   "id": "e4ee6be7",
   "metadata": {},
   "outputs": [],
   "source": [
    "# #since doc-id is a unique ids for the entitites we don't need it to train model so dropped\n",
    "# data.drop(columns=['doc_id'],inplace=True)"
   ]
  },
  {
   "cell_type": "code",
   "execution_count": 24,
   "id": "29eb8a4d",
   "metadata": {},
   "outputs": [
    {
     "data": {
      "text/html": [
       "<div>\n",
       "<style scoped>\n",
       "    .dataframe tbody tr th:only-of-type {\n",
       "        vertical-align: middle;\n",
       "    }\n",
       "\n",
       "    .dataframe tbody tr th {\n",
       "        vertical-align: top;\n",
       "    }\n",
       "\n",
       "    .dataframe thead th {\n",
       "        text-align: right;\n",
       "    }\n",
       "</style>\n",
       "<table border=\"1\" class=\"dataframe\">\n",
       "  <thead>\n",
       "    <tr style=\"text-align: right;\">\n",
       "      <th></th>\n",
       "      <th>business_code</th>\n",
       "      <th>cust_number</th>\n",
       "      <th>name_customer</th>\n",
       "      <th>clear_date</th>\n",
       "      <th>buisness_year</th>\n",
       "      <th>doc_id</th>\n",
       "      <th>posting_date</th>\n",
       "      <th>document_create_date.1</th>\n",
       "      <th>due_in_date</th>\n",
       "      <th>total_open_amount</th>\n",
       "      <th>cust_payment_terms</th>\n",
       "      <th>isOpen</th>\n",
       "    </tr>\n",
       "  </thead>\n",
       "  <tbody>\n",
       "    <tr>\n",
       "      <th>0</th>\n",
       "      <td>U001</td>\n",
       "      <td>0200895843</td>\n",
       "      <td>US</td>\n",
       "      <td>2019-09-09</td>\n",
       "      <td>2019.0</td>\n",
       "      <td>1.929776e+09</td>\n",
       "      <td>2019-08-22</td>\n",
       "      <td>2019-08-22</td>\n",
       "      <td>2019-09-06</td>\n",
       "      <td>41386.61</td>\n",
       "      <td>NAA8</td>\n",
       "      <td>0</td>\n",
       "    </tr>\n",
       "    <tr>\n",
       "      <th>1</th>\n",
       "      <td>U001</td>\n",
       "      <td>0200769623</td>\n",
       "      <td>WAL-MAR</td>\n",
       "      <td>2019-11-25</td>\n",
       "      <td>2019.0</td>\n",
       "      <td>1.930144e+09</td>\n",
       "      <td>2019-11-12</td>\n",
       "      <td>2019-11-12</td>\n",
       "      <td>2019-11-27</td>\n",
       "      <td>47178.82</td>\n",
       "      <td>NAH4</td>\n",
       "      <td>0</td>\n",
       "    </tr>\n",
       "    <tr>\n",
       "      <th>2</th>\n",
       "      <td>U001</td>\n",
       "      <td>0200769623</td>\n",
       "      <td>WAL-MAR foundation</td>\n",
       "      <td>2019-04-23</td>\n",
       "      <td>2019.0</td>\n",
       "      <td>1.929131e+09</td>\n",
       "      <td>2019-04-12</td>\n",
       "      <td>2019-04-12</td>\n",
       "      <td>2019-04-27</td>\n",
       "      <td>51389.52</td>\n",
       "      <td>NAH4</td>\n",
       "      <td>0</td>\n",
       "    </tr>\n",
       "    <tr>\n",
       "      <th>3</th>\n",
       "      <td>U001</td>\n",
       "      <td>0200769623</td>\n",
       "      <td>WAL-MAR co</td>\n",
       "      <td>2019-11-26</td>\n",
       "      <td>2019.0</td>\n",
       "      <td>1.930124e+09</td>\n",
       "      <td>2019-11-15</td>\n",
       "      <td>2019-11-15</td>\n",
       "      <td>2019-11-30</td>\n",
       "      <td>18177.18</td>\n",
       "      <td>NAH4</td>\n",
       "      <td>0</td>\n",
       "    </tr>\n",
       "    <tr>\n",
       "      <th>4</th>\n",
       "      <td>U001</td>\n",
       "      <td>0200769623</td>\n",
       "      <td>WAL-MAR</td>\n",
       "      <td>NaT</td>\n",
       "      <td>2020.0</td>\n",
       "      <td>1.930737e+09</td>\n",
       "      <td>2020-04-03</td>\n",
       "      <td>2020-04-03</td>\n",
       "      <td>2020-04-18</td>\n",
       "      <td>24079.57</td>\n",
       "      <td>NAH4</td>\n",
       "      <td>1</td>\n",
       "    </tr>\n",
       "  </tbody>\n",
       "</table>\n",
       "</div>"
      ],
      "text/plain": [
       "  business_code cust_number       name_customer clear_date  buisness_year  \\\n",
       "0          U001  0200895843                US   2019-09-09         2019.0   \n",
       "1          U001  0200769623            WAL-MAR  2019-11-25         2019.0   \n",
       "2          U001  0200769623  WAL-MAR foundation 2019-04-23         2019.0   \n",
       "3          U001  0200769623          WAL-MAR co 2019-11-26         2019.0   \n",
       "4          U001  0200769623            WAL-MAR         NaT         2020.0   \n",
       "\n",
       "         doc_id posting_date document_create_date.1 due_in_date  \\\n",
       "0  1.929776e+09   2019-08-22             2019-08-22  2019-09-06   \n",
       "1  1.930144e+09   2019-11-12             2019-11-12  2019-11-27   \n",
       "2  1.929131e+09   2019-04-12             2019-04-12  2019-04-27   \n",
       "3  1.930124e+09   2019-11-15             2019-11-15  2019-11-30   \n",
       "4  1.930737e+09   2020-04-03             2020-04-03  2020-04-18   \n",
       "\n",
       "   total_open_amount cust_payment_terms  isOpen  \n",
       "0           41386.61               NAA8       0  \n",
       "1           47178.82               NAH4       0  \n",
       "2           51389.52               NAH4       0  \n",
       "3           18177.18               NAH4       0  \n",
       "4           24079.57               NAH4       1  "
      ]
     },
     "execution_count": 24,
     "metadata": {},
     "output_type": "execute_result"
    }
   ],
   "source": [
    "#clear_date,posting_date,document_create_date.1,due_in_date are converted into datetime format for future operation\n",
    "data['clear_date'] = pd.to_datetime(data['clear_date'])\n",
    "data['posting_date'] = pd.to_datetime(data['posting_date']) \n",
    "data['document_create_date.1'] = pd.to_datetime(data['document_create_date.1'], format='%Y%m%d')\n",
    "data['due_in_date'] = pd.to_datetime(data['due_in_date'], format='%Y%m%d')\n",
    "data.head()"
   ]
  },
  {
   "cell_type": "code",
   "execution_count": 25,
   "id": "31738014",
   "metadata": {},
   "outputs": [
    {
     "data": {
      "text/html": [
       "<div>\n",
       "<style scoped>\n",
       "    .dataframe tbody tr th:only-of-type {\n",
       "        vertical-align: middle;\n",
       "    }\n",
       "\n",
       "    .dataframe tbody tr th {\n",
       "        vertical-align: top;\n",
       "    }\n",
       "\n",
       "    .dataframe thead th {\n",
       "        text-align: right;\n",
       "    }\n",
       "</style>\n",
       "<table border=\"1\" class=\"dataframe\">\n",
       "  <thead>\n",
       "    <tr style=\"text-align: right;\">\n",
       "      <th></th>\n",
       "      <th>business_code</th>\n",
       "      <th>cust_number</th>\n",
       "      <th>name_customer</th>\n",
       "      <th>clear_date</th>\n",
       "      <th>buisness_year</th>\n",
       "      <th>doc_id</th>\n",
       "      <th>posting_date</th>\n",
       "      <th>document_create_date.1</th>\n",
       "      <th>due_in_date</th>\n",
       "      <th>total_open_amount</th>\n",
       "      <th>cust_payment_terms</th>\n",
       "      <th>isOpen</th>\n",
       "    </tr>\n",
       "  </thead>\n",
       "  <tbody>\n",
       "    <tr>\n",
       "      <th>0</th>\n",
       "      <td>U001</td>\n",
       "      <td>0200739534</td>\n",
       "      <td>OK co</td>\n",
       "      <td>2019-01-14</td>\n",
       "      <td>2019.0</td>\n",
       "      <td>1.928541e+09</td>\n",
       "      <td>2018-12-30</td>\n",
       "      <td>2018-12-30</td>\n",
       "      <td>2019-01-14</td>\n",
       "      <td>90998.8000</td>\n",
       "      <td>NAA8</td>\n",
       "      <td>0</td>\n",
       "    </tr>\n",
       "    <tr>\n",
       "      <th>1</th>\n",
       "      <td>U001</td>\n",
       "      <td>0200769623</td>\n",
       "      <td>WAL-MAR associates</td>\n",
       "      <td>2019-01-09</td>\n",
       "      <td>2019.0</td>\n",
       "      <td>1.928540e+09</td>\n",
       "      <td>2018-12-30</td>\n",
       "      <td>2018-12-30</td>\n",
       "      <td>2019-01-14</td>\n",
       "      <td>11025.2700</td>\n",
       "      <td>NAH4</td>\n",
       "      <td>0</td>\n",
       "    </tr>\n",
       "    <tr>\n",
       "      <th>2</th>\n",
       "      <td>CA02</td>\n",
       "      <td>0140105847</td>\n",
       "      <td>GORDON F in</td>\n",
       "      <td>2019-01-14</td>\n",
       "      <td>2019.0</td>\n",
       "      <td>2.960521e+09</td>\n",
       "      <td>2018-12-30</td>\n",
       "      <td>2018-12-30</td>\n",
       "      <td>2019-01-12</td>\n",
       "      <td>14088.2976</td>\n",
       "      <td>CA10</td>\n",
       "      <td>0</td>\n",
       "    </tr>\n",
       "    <tr>\n",
       "      <th>3</th>\n",
       "      <td>U001</td>\n",
       "      <td>0200769623</td>\n",
       "      <td>WAL-MAR systems</td>\n",
       "      <td>2019-01-14</td>\n",
       "      <td>2019.0</td>\n",
       "      <td>1.928535e+09</td>\n",
       "      <td>2018-12-30</td>\n",
       "      <td>2018-12-30</td>\n",
       "      <td>2019-01-14</td>\n",
       "      <td>21794.7000</td>\n",
       "      <td>NAH4</td>\n",
       "      <td>0</td>\n",
       "    </tr>\n",
       "    <tr>\n",
       "      <th>4</th>\n",
       "      <td>U001</td>\n",
       "      <td>0200769623</td>\n",
       "      <td>WAL-MAR co</td>\n",
       "      <td>2019-01-15</td>\n",
       "      <td>2019.0</td>\n",
       "      <td>1.928542e+09</td>\n",
       "      <td>2018-12-30</td>\n",
       "      <td>2018-12-30</td>\n",
       "      <td>2019-01-14</td>\n",
       "      <td>65940.4700</td>\n",
       "      <td>NAH4</td>\n",
       "      <td>0</td>\n",
       "    </tr>\n",
       "  </tbody>\n",
       "</table>\n",
       "</div>"
      ],
      "text/plain": [
       "  business_code cust_number       name_customer clear_date  buisness_year  \\\n",
       "0          U001  0200739534               OK co 2019-01-14         2019.0   \n",
       "1          U001  0200769623  WAL-MAR associates 2019-01-09         2019.0   \n",
       "2          CA02  0140105847         GORDON F in 2019-01-14         2019.0   \n",
       "3          U001  0200769623     WAL-MAR systems 2019-01-14         2019.0   \n",
       "4          U001  0200769623          WAL-MAR co 2019-01-15         2019.0   \n",
       "\n",
       "         doc_id posting_date document_create_date.1 due_in_date  \\\n",
       "0  1.928541e+09   2018-12-30             2018-12-30  2019-01-14   \n",
       "1  1.928540e+09   2018-12-30             2018-12-30  2019-01-14   \n",
       "2  2.960521e+09   2018-12-30             2018-12-30  2019-01-12   \n",
       "3  1.928535e+09   2018-12-30             2018-12-30  2019-01-14   \n",
       "4  1.928542e+09   2018-12-30             2018-12-30  2019-01-14   \n",
       "\n",
       "   total_open_amount cust_payment_terms  isOpen  \n",
       "0         90998.8000               NAA8       0  \n",
       "1         11025.2700               NAH4       0  \n",
       "2         14088.2976               CA10       0  \n",
       "3         21794.7000               NAH4       0  \n",
       "4         65940.4700               NAH4       0  "
      ]
     },
     "execution_count": 25,
     "metadata": {},
     "output_type": "execute_result"
    }
   ],
   "source": [
    "#sort the train data according to document_create_date.1 as we can't train model based on future data\n",
    "data.sort_values(['posting_date'],inplace=True)\n",
    "data.reset_index(inplace=True,drop=True)\n",
    "data.head()"
   ]
  },
  {
   "cell_type": "code",
   "execution_count": 26,
   "id": "f90443b3",
   "metadata": {},
   "outputs": [
    {
     "data": {
      "text/html": [
       "<div>\n",
       "<style scoped>\n",
       "    .dataframe tbody tr th:only-of-type {\n",
       "        vertical-align: middle;\n",
       "    }\n",
       "\n",
       "    .dataframe tbody tr th {\n",
       "        vertical-align: top;\n",
       "    }\n",
       "\n",
       "    .dataframe thead th {\n",
       "        text-align: right;\n",
       "    }\n",
       "</style>\n",
       "<table border=\"1\" class=\"dataframe\">\n",
       "  <thead>\n",
       "    <tr style=\"text-align: right;\">\n",
       "      <th></th>\n",
       "      <th>business_code</th>\n",
       "      <th>cust_number</th>\n",
       "      <th>name_customer</th>\n",
       "      <th>clear_date</th>\n",
       "      <th>buisness_year</th>\n",
       "      <th>doc_id</th>\n",
       "      <th>posting_date</th>\n",
       "      <th>document_create_date.1</th>\n",
       "      <th>due_in_date</th>\n",
       "      <th>total_open_amount</th>\n",
       "      <th>cust_payment_terms</th>\n",
       "      <th>isOpen</th>\n",
       "    </tr>\n",
       "  </thead>\n",
       "  <tbody>\n",
       "    <tr>\n",
       "      <th>0</th>\n",
       "      <td>U001</td>\n",
       "      <td>0200739534</td>\n",
       "      <td>OK co</td>\n",
       "      <td>2019-01-14</td>\n",
       "      <td>2019.0</td>\n",
       "      <td>1.928541e+09</td>\n",
       "      <td>2018-12-30</td>\n",
       "      <td>2018-12-30</td>\n",
       "      <td>2019-01-14</td>\n",
       "      <td>90998.8000</td>\n",
       "      <td>NAA8</td>\n",
       "      <td>0</td>\n",
       "    </tr>\n",
       "    <tr>\n",
       "      <th>1</th>\n",
       "      <td>U001</td>\n",
       "      <td>0200769623</td>\n",
       "      <td>WAL-MAR associates</td>\n",
       "      <td>2019-01-09</td>\n",
       "      <td>2019.0</td>\n",
       "      <td>1.928540e+09</td>\n",
       "      <td>2018-12-30</td>\n",
       "      <td>2018-12-30</td>\n",
       "      <td>2019-01-14</td>\n",
       "      <td>11025.2700</td>\n",
       "      <td>NAH4</td>\n",
       "      <td>0</td>\n",
       "    </tr>\n",
       "    <tr>\n",
       "      <th>2</th>\n",
       "      <td>CA02</td>\n",
       "      <td>0140105847</td>\n",
       "      <td>GORDON F in</td>\n",
       "      <td>2019-01-14</td>\n",
       "      <td>2019.0</td>\n",
       "      <td>2.960521e+09</td>\n",
       "      <td>2018-12-30</td>\n",
       "      <td>2018-12-30</td>\n",
       "      <td>2019-01-12</td>\n",
       "      <td>14088.2976</td>\n",
       "      <td>CA10</td>\n",
       "      <td>0</td>\n",
       "    </tr>\n",
       "    <tr>\n",
       "      <th>3</th>\n",
       "      <td>U001</td>\n",
       "      <td>0200769623</td>\n",
       "      <td>WAL-MAR systems</td>\n",
       "      <td>2019-01-14</td>\n",
       "      <td>2019.0</td>\n",
       "      <td>1.928535e+09</td>\n",
       "      <td>2018-12-30</td>\n",
       "      <td>2018-12-30</td>\n",
       "      <td>2019-01-14</td>\n",
       "      <td>21794.7000</td>\n",
       "      <td>NAH4</td>\n",
       "      <td>0</td>\n",
       "    </tr>\n",
       "    <tr>\n",
       "      <th>4</th>\n",
       "      <td>U001</td>\n",
       "      <td>0200769623</td>\n",
       "      <td>WAL-MAR co</td>\n",
       "      <td>2019-01-15</td>\n",
       "      <td>2019.0</td>\n",
       "      <td>1.928542e+09</td>\n",
       "      <td>2018-12-30</td>\n",
       "      <td>2018-12-30</td>\n",
       "      <td>2019-01-14</td>\n",
       "      <td>65940.4700</td>\n",
       "      <td>NAH4</td>\n",
       "      <td>0</td>\n",
       "    </tr>\n",
       "  </tbody>\n",
       "</table>\n",
       "</div>"
      ],
      "text/plain": [
       "  business_code cust_number       name_customer clear_date  buisness_year  \\\n",
       "0          U001  0200739534               OK co 2019-01-14         2019.0   \n",
       "1          U001  0200769623  WAL-MAR associates 2019-01-09         2019.0   \n",
       "2          CA02  0140105847         GORDON F in 2019-01-14         2019.0   \n",
       "3          U001  0200769623     WAL-MAR systems 2019-01-14         2019.0   \n",
       "4          U001  0200769623          WAL-MAR co 2019-01-15         2019.0   \n",
       "\n",
       "         doc_id posting_date document_create_date.1 due_in_date  \\\n",
       "0  1.928541e+09   2018-12-30             2018-12-30  2019-01-14   \n",
       "1  1.928540e+09   2018-12-30             2018-12-30  2019-01-14   \n",
       "2  2.960521e+09   2018-12-30             2018-12-30  2019-01-12   \n",
       "3  1.928535e+09   2018-12-30             2018-12-30  2019-01-14   \n",
       "4  1.928542e+09   2018-12-30             2018-12-30  2019-01-14   \n",
       "\n",
       "   total_open_amount cust_payment_terms  isOpen  \n",
       "0         90998.8000               NAA8       0  \n",
       "1         11025.2700               NAH4       0  \n",
       "2         14088.2976               CA10       0  \n",
       "3         21794.7000               NAH4       0  \n",
       "4         65940.4700               NAH4       0  "
      ]
     },
     "execution_count": 26,
     "metadata": {},
     "output_type": "execute_result"
    }
   ],
   "source": [
    "#splitting the the test and train data based on the clear_data features\n",
    "#A new data set is created based on \n",
    "Train = data.loc[data['clear_date'].notnull()]\n",
    "Train.head()"
   ]
  },
  {
   "cell_type": "code",
   "execution_count": 27,
   "id": "8608f240",
   "metadata": {},
   "outputs": [
    {
     "data": {
      "text/plain": [
       "(9414, 12)"
      ]
     },
     "execution_count": 27,
     "metadata": {},
     "output_type": "execute_result"
    }
   ],
   "source": [
    "#Where clear_date == null is putted into test dataframe\n",
    "Test = data.loc[data.clear_date.isnull()]\n",
    "Test.shape"
   ]
  },
  {
   "cell_type": "code",
   "execution_count": 28,
   "id": "dbaa5fa5",
   "metadata": {},
   "outputs": [
    {
     "name": "stderr",
     "output_type": "stream",
     "text": [
      "<ipython-input-28-10028587da12>:3: SettingWithCopyWarning: \n",
      "A value is trying to be set on a copy of a slice from a DataFrame.\n",
      "Try using .loc[row_indexer,col_indexer] = value instead\n",
      "\n",
      "See the caveats in the documentation: https://pandas.pydata.org/pandas-docs/stable/user_guide/indexing.html#returning-a-view-versus-a-copy\n",
      "  Train['DELAY']=Train['clear_date'] - Train['due_in_date']\n"
     ]
    },
    {
     "data": {
      "text/html": [
       "<div>\n",
       "<style scoped>\n",
       "    .dataframe tbody tr th:only-of-type {\n",
       "        vertical-align: middle;\n",
       "    }\n",
       "\n",
       "    .dataframe tbody tr th {\n",
       "        vertical-align: top;\n",
       "    }\n",
       "\n",
       "    .dataframe thead th {\n",
       "        text-align: right;\n",
       "    }\n",
       "</style>\n",
       "<table border=\"1\" class=\"dataframe\">\n",
       "  <thead>\n",
       "    <tr style=\"text-align: right;\">\n",
       "      <th></th>\n",
       "      <th>business_code</th>\n",
       "      <th>cust_number</th>\n",
       "      <th>name_customer</th>\n",
       "      <th>clear_date</th>\n",
       "      <th>buisness_year</th>\n",
       "      <th>doc_id</th>\n",
       "      <th>posting_date</th>\n",
       "      <th>document_create_date.1</th>\n",
       "      <th>due_in_date</th>\n",
       "      <th>total_open_amount</th>\n",
       "      <th>cust_payment_terms</th>\n",
       "      <th>isOpen</th>\n",
       "      <th>DELAY</th>\n",
       "    </tr>\n",
       "  </thead>\n",
       "  <tbody>\n",
       "    <tr>\n",
       "      <th>0</th>\n",
       "      <td>U001</td>\n",
       "      <td>0200739534</td>\n",
       "      <td>OK co</td>\n",
       "      <td>2019-01-14</td>\n",
       "      <td>2019.0</td>\n",
       "      <td>1.928541e+09</td>\n",
       "      <td>2018-12-30</td>\n",
       "      <td>2018-12-30</td>\n",
       "      <td>2019-01-14</td>\n",
       "      <td>90998.8000</td>\n",
       "      <td>NAA8</td>\n",
       "      <td>0</td>\n",
       "      <td>0 days</td>\n",
       "    </tr>\n",
       "    <tr>\n",
       "      <th>1</th>\n",
       "      <td>U001</td>\n",
       "      <td>0200769623</td>\n",
       "      <td>WAL-MAR associates</td>\n",
       "      <td>2019-01-09</td>\n",
       "      <td>2019.0</td>\n",
       "      <td>1.928540e+09</td>\n",
       "      <td>2018-12-30</td>\n",
       "      <td>2018-12-30</td>\n",
       "      <td>2019-01-14</td>\n",
       "      <td>11025.2700</td>\n",
       "      <td>NAH4</td>\n",
       "      <td>0</td>\n",
       "      <td>-5 days</td>\n",
       "    </tr>\n",
       "    <tr>\n",
       "      <th>2</th>\n",
       "      <td>CA02</td>\n",
       "      <td>0140105847</td>\n",
       "      <td>GORDON F in</td>\n",
       "      <td>2019-01-14</td>\n",
       "      <td>2019.0</td>\n",
       "      <td>2.960521e+09</td>\n",
       "      <td>2018-12-30</td>\n",
       "      <td>2018-12-30</td>\n",
       "      <td>2019-01-12</td>\n",
       "      <td>14088.2976</td>\n",
       "      <td>CA10</td>\n",
       "      <td>0</td>\n",
       "      <td>2 days</td>\n",
       "    </tr>\n",
       "    <tr>\n",
       "      <th>3</th>\n",
       "      <td>U001</td>\n",
       "      <td>0200769623</td>\n",
       "      <td>WAL-MAR systems</td>\n",
       "      <td>2019-01-14</td>\n",
       "      <td>2019.0</td>\n",
       "      <td>1.928535e+09</td>\n",
       "      <td>2018-12-30</td>\n",
       "      <td>2018-12-30</td>\n",
       "      <td>2019-01-14</td>\n",
       "      <td>21794.7000</td>\n",
       "      <td>NAH4</td>\n",
       "      <td>0</td>\n",
       "      <td>0 days</td>\n",
       "    </tr>\n",
       "    <tr>\n",
       "      <th>4</th>\n",
       "      <td>U001</td>\n",
       "      <td>0200769623</td>\n",
       "      <td>WAL-MAR co</td>\n",
       "      <td>2019-01-15</td>\n",
       "      <td>2019.0</td>\n",
       "      <td>1.928542e+09</td>\n",
       "      <td>2018-12-30</td>\n",
       "      <td>2018-12-30</td>\n",
       "      <td>2019-01-14</td>\n",
       "      <td>65940.4700</td>\n",
       "      <td>NAH4</td>\n",
       "      <td>0</td>\n",
       "      <td>1 days</td>\n",
       "    </tr>\n",
       "  </tbody>\n",
       "</table>\n",
       "</div>"
      ],
      "text/plain": [
       "  business_code cust_number       name_customer clear_date  buisness_year  \\\n",
       "0          U001  0200739534               OK co 2019-01-14         2019.0   \n",
       "1          U001  0200769623  WAL-MAR associates 2019-01-09         2019.0   \n",
       "2          CA02  0140105847         GORDON F in 2019-01-14         2019.0   \n",
       "3          U001  0200769623     WAL-MAR systems 2019-01-14         2019.0   \n",
       "4          U001  0200769623          WAL-MAR co 2019-01-15         2019.0   \n",
       "\n",
       "         doc_id posting_date document_create_date.1 due_in_date  \\\n",
       "0  1.928541e+09   2018-12-30             2018-12-30  2019-01-14   \n",
       "1  1.928540e+09   2018-12-30             2018-12-30  2019-01-14   \n",
       "2  2.960521e+09   2018-12-30             2018-12-30  2019-01-12   \n",
       "3  1.928535e+09   2018-12-30             2018-12-30  2019-01-14   \n",
       "4  1.928542e+09   2018-12-30             2018-12-30  2019-01-14   \n",
       "\n",
       "   total_open_amount cust_payment_terms  isOpen   DELAY  \n",
       "0         90998.8000               NAA8       0  0 days  \n",
       "1         11025.2700               NAH4       0 -5 days  \n",
       "2         14088.2976               CA10       0  2 days  \n",
       "3         21794.7000               NAH4       0  0 days  \n",
       "4         65940.4700               NAH4       0  1 days  "
      ]
     },
     "execution_count": 28,
     "metadata": {},
     "output_type": "execute_result"
    }
   ],
   "source": [
    "#calculate the delay feature using clear_date-due_date\n",
    "#DELAY is calculated by (clear_date-due_in_date)\n",
    "Train['DELAY']=Train['clear_date'] - Train['due_in_date']\n",
    "Train.head()"
   ]
  },
  {
   "cell_type": "markdown",
   "id": "cb1c4cbf",
   "metadata": {},
   "source": [
    "# EDA PART\n"
   ]
  },
  {
   "cell_type": "code",
   "execution_count": 29,
   "id": "81acbd0f",
   "metadata": {},
   "outputs": [
    {
     "data": {
      "image/png": "[encoded data removed]",
      "text/plain": [
       "<Figure size 432x288 with 1 Axes>"
      ]
     },
     "metadata": {
      "needs_background": "light"
     },
     "output_type": "display_data"
    }
   ],
   "source": [
    "import matplotlib.pyplot as p\n",
    "p.plot_date(Train['posting_date'], Train['document_create_date.1'],'r')\n",
    "p.show()"
   ]
  },
  {
   "cell_type": "markdown",
   "id": "04c11422",
   "metadata": {},
   "source": [
    "From this Graph we are getting to know that Total-open-amount havs high no. of outliers present thus we need to handle it for better predictions of the model "
   ]
  },
  {
   "cell_type": "code",
   "execution_count": 30,
   "id": "ef6106be",
   "metadata": {},
   "outputs": [
    {
     "name": "stderr",
     "output_type": "stream",
     "text": [
      "c:\\users\\telecom division\\appdata\\local\\programs\\python\\python39\\lib\\site-packages\\pandas\\core\\frame.py:4308: SettingWithCopyWarning: \n",
      "A value is trying to be set on a copy of a slice from a DataFrame\n",
      "\n",
      "See the caveats in the documentation: https://pandas.pydata.org/pandas-docs/stable/user_guide/indexing.html#returning-a-view-versus-a-copy\n",
      "  return super().drop(\n"
     ]
    }
   ],
   "source": [
    "#since 'posting_date' ,'document_create_date.1'  features data are almost same so we can ignore either of feature\n",
    "Train.drop(columns=['posting_date'],inplace=True)"
   ]
  },
  {
   "cell_type": "code",
   "execution_count": 31,
   "id": "0561bdb2",
   "metadata": {},
   "outputs": [
    {
     "data": {
      "image/png": "[encoded data removed]",
      "text/plain": [
       "<Figure size 432x288 with 1 Axes>"
      ]
     },
     "metadata": {
      "needs_background": "light"
     },
     "output_type": "display_data"
    }
   ],
   "source": [
    "sns.boxplot(data=Train)\n",
    "plt.xticks(rotation =90)\n",
    "plt.show()"
   ]
  },
  {
   "cell_type": "code",
   "execution_count": 32,
   "id": "2b0e9b0a",
   "metadata": {
    "scrolled": false
   },
   "outputs": [
    {
     "data": {
      "image/png": "[encoded data removed]",
      "text/plain": [
       "<Figure size 432x288 with 1 Axes>"
      ]
     },
     "metadata": {},
     "output_type": "display_data"
    }
   ],
   "source": [
    "plt.style.use('ggplot')\n",
    "plt.hist(Train['total_open_amount'],bins=50)\n",
    "plt.show()"
   ]
  },
  {
   "cell_type": "raw",
   "id": "7e7e103f",
   "metadata": {},
   "source": [
    "From this graphs we infered that the total_open_amount feature is left skewed thus it will not right   estimations to make it as a gausian ditribution we need to handle the outliers  which is prsent comparetively lesser , \n",
    "using standardization methods"
   ]
  },
  {
   "cell_type": "code",
   "execution_count": 33,
   "id": "a175e452",
   "metadata": {},
   "outputs": [
    {
     "data": {
      "text/plain": [
       "Not Outlier    37522\n",
       "Outlier          666\n",
       "dtype: int64"
      ]
     },
     "execution_count": 33,
     "metadata": {},
     "output_type": "execute_result"
    }
   ],
   "source": [
    "# checkin for Outliers in total_open_amount  present\n",
    "from scipy.stats import zscore\n",
    "z_scores = zscore(Train['total_open_amount'])\n",
    "abs_z_scores = np.abs(z_scores)\n",
    "out=pd.DataFrame(np.where(abs_z_scores<3,'Not Outlier','Outlier'))\n",
    "out.value_counts()"
   ]
  },
  {
   "cell_type": "markdown",
   "id": "97724d03",
   "metadata": {},
   "source": [
    "from this inference we found that 666 no of outliers are present in total_open_amount we need to handle it \n",
    "through standarizations or normalizations before training "
   ]
  },
  {
   "cell_type": "markdown",
   "id": "bb148887",
   "metadata": {},
   "source": [
    "# Feature Engineering\n"
   ]
  },
  {
   "cell_type": "code",
   "execution_count": 34,
   "id": "a0596f6d",
   "metadata": {},
   "outputs": [
    {
     "name": "stderr",
     "output_type": "stream",
     "text": [
      "<ipython-input-34-a19fcca5893c>:2: SettingWithCopyWarning: \n",
      "A value is trying to be set on a copy of a slice from a DataFrame.\n",
      "Try using .loc[row_indexer,col_indexer] = value instead\n",
      "\n",
      "See the caveats in the documentation: https://pandas.pydata.org/pandas-docs/stable/user_guide/indexing.html#returning-a-view-versus-a-copy\n",
      "  Train['document_create_date.1_month-in-quarter'] = Train['document_create_date.1'].dt.quarter\n",
      "<ipython-input-34-a19fcca5893c>:3: SettingWithCopyWarning: \n",
      "A value is trying to be set on a copy of a slice from a DataFrame.\n",
      "Try using .loc[row_indexer,col_indexer] = value instead\n",
      "\n",
      "See the caveats in the documentation: https://pandas.pydata.org/pandas-docs/stable/user_guide/indexing.html#returning-a-view-versus-a-copy\n",
      "  Train['document_create_date.-in-_month'] = Train['document_create_date.1'].dt.month\n",
      "<ipython-input-34-a19fcca5893c>:4: SettingWithCopyWarning: \n",
      "A value is trying to be set on a copy of a slice from a DataFrame.\n",
      "Try using .loc[row_indexer,col_indexer] = value instead\n",
      "\n",
      "See the caveats in the documentation: https://pandas.pydata.org/pandas-docs/stable/user_guide/indexing.html#returning-a-view-versus-a-copy\n",
      "  Train['due_in_date-in-month'] = Train['due_in_date'].dt.month\n",
      "<ipython-input-34-a19fcca5893c>:5: SettingWithCopyWarning: \n",
      "A value is trying to be set on a copy of a slice from a DataFrame.\n",
      "Try using .loc[row_indexer,col_indexer] = value instead\n",
      "\n",
      "See the caveats in the documentation: https://pandas.pydata.org/pandas-docs/stable/user_guide/indexing.html#returning-a-view-versus-a-copy\n",
      "  Train['due_in_date-in-days'] =Train['due_in_date'].dt.day\n",
      "<ipython-input-34-a19fcca5893c>:6: SettingWithCopyWarning: \n",
      "A value is trying to be set on a copy of a slice from a DataFrame.\n",
      "Try using .loc[row_indexer,col_indexer] = value instead\n",
      "\n",
      "See the caveats in the documentation: https://pandas.pydata.org/pandas-docs/stable/user_guide/indexing.html#returning-a-view-versus-a-copy\n",
      "  Train['due_in_date-in-days'] =Train['due_in_date'].dt.quarter\n"
     ]
    },
    {
     "data": {
      "text/html": [
       "<div>\n",
       "<style scoped>\n",
       "    .dataframe tbody tr th:only-of-type {\n",
       "        vertical-align: middle;\n",
       "    }\n",
       "\n",
       "    .dataframe tbody tr th {\n",
       "        vertical-align: top;\n",
       "    }\n",
       "\n",
       "    .dataframe thead th {\n",
       "        text-align: right;\n",
       "    }\n",
       "</style>\n",
       "<table border=\"1\" class=\"dataframe\">\n",
       "  <thead>\n",
       "    <tr style=\"text-align: right;\">\n",
       "      <th></th>\n",
       "      <th>business_code</th>\n",
       "      <th>cust_number</th>\n",
       "      <th>name_customer</th>\n",
       "      <th>clear_date</th>\n",
       "      <th>buisness_year</th>\n",
       "      <th>doc_id</th>\n",
       "      <th>document_create_date.1</th>\n",
       "      <th>due_in_date</th>\n",
       "      <th>total_open_amount</th>\n",
       "      <th>cust_payment_terms</th>\n",
       "      <th>isOpen</th>\n",
       "      <th>DELAY</th>\n",
       "      <th>document_create_date.1_month-in-quarter</th>\n",
       "      <th>document_create_date.-in-_month</th>\n",
       "      <th>due_in_date-in-month</th>\n",
       "      <th>due_in_date-in-days</th>\n",
       "    </tr>\n",
       "  </thead>\n",
       "  <tbody>\n",
       "    <tr>\n",
       "      <th>0</th>\n",
       "      <td>U001</td>\n",
       "      <td>0200739534</td>\n",
       "      <td>OK co</td>\n",
       "      <td>2019-01-14</td>\n",
       "      <td>2019.0</td>\n",
       "      <td>1.928541e+09</td>\n",
       "      <td>2018-12-30</td>\n",
       "      <td>2019-01-14</td>\n",
       "      <td>90998.8000</td>\n",
       "      <td>NAA8</td>\n",
       "      <td>0</td>\n",
       "      <td>0 days</td>\n",
       "      <td>4</td>\n",
       "      <td>12</td>\n",
       "      <td>1</td>\n",
       "      <td>1</td>\n",
       "    </tr>\n",
       "    <tr>\n",
       "      <th>1</th>\n",
       "      <td>U001</td>\n",
       "      <td>0200769623</td>\n",
       "      <td>WAL-MAR associates</td>\n",
       "      <td>2019-01-09</td>\n",
       "      <td>2019.0</td>\n",
       "      <td>1.928540e+09</td>\n",
       "      <td>2018-12-30</td>\n",
       "      <td>2019-01-14</td>\n",
       "      <td>11025.2700</td>\n",
       "      <td>NAH4</td>\n",
       "      <td>0</td>\n",
       "      <td>-5 days</td>\n",
       "      <td>4</td>\n",
       "      <td>12</td>\n",
       "      <td>1</td>\n",
       "      <td>1</td>\n",
       "    </tr>\n",
       "    <tr>\n",
       "      <th>2</th>\n",
       "      <td>CA02</td>\n",
       "      <td>0140105847</td>\n",
       "      <td>GORDON F in</td>\n",
       "      <td>2019-01-14</td>\n",
       "      <td>2019.0</td>\n",
       "      <td>2.960521e+09</td>\n",
       "      <td>2018-12-30</td>\n",
       "      <td>2019-01-12</td>\n",
       "      <td>14088.2976</td>\n",
       "      <td>CA10</td>\n",
       "      <td>0</td>\n",
       "      <td>2 days</td>\n",
       "      <td>4</td>\n",
       "      <td>12</td>\n",
       "      <td>1</td>\n",
       "      <td>1</td>\n",
       "    </tr>\n",
       "    <tr>\n",
       "      <th>3</th>\n",
       "      <td>U001</td>\n",
       "      <td>0200769623</td>\n",
       "      <td>WAL-MAR systems</td>\n",
       "      <td>2019-01-14</td>\n",
       "      <td>2019.0</td>\n",
       "      <td>1.928535e+09</td>\n",
       "      <td>2018-12-30</td>\n",
       "      <td>2019-01-14</td>\n",
       "      <td>21794.7000</td>\n",
       "      <td>NAH4</td>\n",
       "      <td>0</td>\n",
       "      <td>0 days</td>\n",
       "      <td>4</td>\n",
       "      <td>12</td>\n",
       "      <td>1</td>\n",
       "      <td>1</td>\n",
       "    </tr>\n",
       "    <tr>\n",
       "      <th>4</th>\n",
       "      <td>U001</td>\n",
       "      <td>0200769623</td>\n",
       "      <td>WAL-MAR co</td>\n",
       "      <td>2019-01-15</td>\n",
       "      <td>2019.0</td>\n",
       "      <td>1.928542e+09</td>\n",
       "      <td>2018-12-30</td>\n",
       "      <td>2019-01-14</td>\n",
       "      <td>65940.4700</td>\n",
       "      <td>NAH4</td>\n",
       "      <td>0</td>\n",
       "      <td>1 days</td>\n",
       "      <td>4</td>\n",
       "      <td>12</td>\n",
       "      <td>1</td>\n",
       "      <td>1</td>\n",
       "    </tr>\n",
       "  </tbody>\n",
       "</table>\n",
       "</div>"
      ],
      "text/plain": [
       "  business_code cust_number       name_customer clear_date  buisness_year  \\\n",
       "0          U001  0200739534               OK co 2019-01-14         2019.0   \n",
       "1          U001  0200769623  WAL-MAR associates 2019-01-09         2019.0   \n",
       "2          CA02  0140105847         GORDON F in 2019-01-14         2019.0   \n",
       "3          U001  0200769623     WAL-MAR systems 2019-01-14         2019.0   \n",
       "4          U001  0200769623          WAL-MAR co 2019-01-15         2019.0   \n",
       "\n",
       "         doc_id document_create_date.1 due_in_date  total_open_amount  \\\n",
       "0  1.928541e+09             2018-12-30  2019-01-14         90998.8000   \n",
       "1  1.928540e+09             2018-12-30  2019-01-14         11025.2700   \n",
       "2  2.960521e+09             2018-12-30  2019-01-12         14088.2976   \n",
       "3  1.928535e+09             2018-12-30  2019-01-14         21794.7000   \n",
       "4  1.928542e+09             2018-12-30  2019-01-14         65940.4700   \n",
       "\n",
       "  cust_payment_terms  isOpen   DELAY  document_create_date.1_month-in-quarter  \\\n",
       "0               NAA8       0  0 days                                        4   \n",
       "1               NAH4       0 -5 days                                        4   \n",
       "2               CA10       0  2 days                                        4   \n",
       "3               NAH4       0  0 days                                        4   \n",
       "4               NAH4       0  1 days                                        4   \n",
       "\n",
       "   document_create_date.-in-_month  due_in_date-in-month  due_in_date-in-days  \n",
       "0                               12                     1                    1  \n",
       "1                               12                     1                    1  \n",
       "2                               12                     1                    1  \n",
       "3                               12                     1                    1  \n",
       "4                               12                     1                    1  "
      ]
     },
     "execution_count": 34,
     "metadata": {},
     "output_type": "execute_result"
    }
   ],
   "source": [
    "\n",
    "\n",
    "# month_quarter,month are calculated for further use in model prediction\n",
    "Train['document_create_date.1_month-in-quarter'] = Train['document_create_date.1'].dt.quarter\n",
    "Train['document_create_date.-in-_month'] = Train['document_create_date.1'].dt.month\n",
    "Train['due_in_date-in-month'] = Train['due_in_date'].dt.month\n",
    "Train['due_in_date-in-days'] =Train['due_in_date'].dt.day\n",
    "Train['due_in_date-in-days'] =Train['due_in_date'].dt.quarter\n",
    "\n",
    "\n",
    "\n",
    "\n",
    "\n",
    "Train.head()"
   ]
  },
  {
   "cell_type": "code",
   "execution_count": 35,
   "id": "d4ddb469",
   "metadata": {},
   "outputs": [
    {
     "name": "stderr",
     "output_type": "stream",
     "text": [
      "c:\\users\\telecom division\\appdata\\local\\programs\\python\\python39\\lib\\site-packages\\pandas\\core\\frame.py:4308: SettingWithCopyWarning: \n",
      "A value is trying to be set on a copy of a slice from a DataFrame\n",
      "\n",
      "See the caveats in the documentation: https://pandas.pydata.org/pandas-docs/stable/user_guide/indexing.html#returning-a-view-versus-a-copy\n",
      "  return super().drop(\n"
     ]
    }
   ],
   "source": [
    "# since we can't pass date datatype to a model so we have segregated it  and dropped the column document_create_date.1\n",
    "Train.drop(columns=['document_create_date.1'],inplace=True)"
   ]
  },
  {
   "cell_type": "code",
   "execution_count": 36,
   "id": "0c0fae46",
   "metadata": {},
   "outputs": [
    {
     "name": "stderr",
     "output_type": "stream",
     "text": [
      "<ipython-input-36-ea9222097a22>:3: SettingWithCopyWarning: \n",
      "A value is trying to be set on a copy of a slice from a DataFrame.\n",
      "Try using .loc[row_indexer,col_indexer] = value instead\n",
      "\n",
      "See the caveats in the documentation: https://pandas.pydata.org/pandas-docs/stable/user_guide/indexing.html#returning-a-view-versus-a-copy\n",
      "  Train['DELAY'] =  Train['DELAY'].dt.days\n"
     ]
    },
    {
     "data": {
      "text/html": [
       "<div>\n",
       "<style scoped>\n",
       "    .dataframe tbody tr th:only-of-type {\n",
       "        vertical-align: middle;\n",
       "    }\n",
       "\n",
       "    .dataframe tbody tr th {\n",
       "        vertical-align: top;\n",
       "    }\n",
       "\n",
       "    .dataframe thead th {\n",
       "        text-align: right;\n",
       "    }\n",
       "</style>\n",
       "<table border=\"1\" class=\"dataframe\">\n",
       "  <thead>\n",
       "    <tr style=\"text-align: right;\">\n",
       "      <th></th>\n",
       "      <th>business_code</th>\n",
       "      <th>cust_number</th>\n",
       "      <th>name_customer</th>\n",
       "      <th>buisness_year</th>\n",
       "      <th>doc_id</th>\n",
       "      <th>total_open_amount</th>\n",
       "      <th>cust_payment_terms</th>\n",
       "      <th>isOpen</th>\n",
       "      <th>DELAY</th>\n",
       "      <th>document_create_date.1_month-in-quarter</th>\n",
       "      <th>document_create_date.-in-_month</th>\n",
       "      <th>due_in_date-in-month</th>\n",
       "      <th>due_in_date-in-days</th>\n",
       "    </tr>\n",
       "  </thead>\n",
       "  <tbody>\n",
       "    <tr>\n",
       "      <th>0</th>\n",
       "      <td>U001</td>\n",
       "      <td>0200739534</td>\n",
       "      <td>OK co</td>\n",
       "      <td>2019.0</td>\n",
       "      <td>1.928541e+09</td>\n",
       "      <td>90998.8000</td>\n",
       "      <td>NAA8</td>\n",
       "      <td>0</td>\n",
       "      <td>0</td>\n",
       "      <td>4</td>\n",
       "      <td>12</td>\n",
       "      <td>1</td>\n",
       "      <td>1</td>\n",
       "    </tr>\n",
       "    <tr>\n",
       "      <th>1</th>\n",
       "      <td>U001</td>\n",
       "      <td>0200769623</td>\n",
       "      <td>WAL-MAR associates</td>\n",
       "      <td>2019.0</td>\n",
       "      <td>1.928540e+09</td>\n",
       "      <td>11025.2700</td>\n",
       "      <td>NAH4</td>\n",
       "      <td>0</td>\n",
       "      <td>-5</td>\n",
       "      <td>4</td>\n",
       "      <td>12</td>\n",
       "      <td>1</td>\n",
       "      <td>1</td>\n",
       "    </tr>\n",
       "    <tr>\n",
       "      <th>2</th>\n",
       "      <td>CA02</td>\n",
       "      <td>0140105847</td>\n",
       "      <td>GORDON F in</td>\n",
       "      <td>2019.0</td>\n",
       "      <td>2.960521e+09</td>\n",
       "      <td>14088.2976</td>\n",
       "      <td>CA10</td>\n",
       "      <td>0</td>\n",
       "      <td>2</td>\n",
       "      <td>4</td>\n",
       "      <td>12</td>\n",
       "      <td>1</td>\n",
       "      <td>1</td>\n",
       "    </tr>\n",
       "    <tr>\n",
       "      <th>3</th>\n",
       "      <td>U001</td>\n",
       "      <td>0200769623</td>\n",
       "      <td>WAL-MAR systems</td>\n",
       "      <td>2019.0</td>\n",
       "      <td>1.928535e+09</td>\n",
       "      <td>21794.7000</td>\n",
       "      <td>NAH4</td>\n",
       "      <td>0</td>\n",
       "      <td>0</td>\n",
       "      <td>4</td>\n",
       "      <td>12</td>\n",
       "      <td>1</td>\n",
       "      <td>1</td>\n",
       "    </tr>\n",
       "    <tr>\n",
       "      <th>4</th>\n",
       "      <td>U001</td>\n",
       "      <td>0200769623</td>\n",
       "      <td>WAL-MAR co</td>\n",
       "      <td>2019.0</td>\n",
       "      <td>1.928542e+09</td>\n",
       "      <td>65940.4700</td>\n",
       "      <td>NAH4</td>\n",
       "      <td>0</td>\n",
       "      <td>1</td>\n",
       "      <td>4</td>\n",
       "      <td>12</td>\n",
       "      <td>1</td>\n",
       "      <td>1</td>\n",
       "    </tr>\n",
       "  </tbody>\n",
       "</table>\n",
       "</div>"
      ],
      "text/plain": [
       "  business_code cust_number       name_customer  buisness_year        doc_id  \\\n",
       "0          U001  0200739534               OK co         2019.0  1.928541e+09   \n",
       "1          U001  0200769623  WAL-MAR associates         2019.0  1.928540e+09   \n",
       "2          CA02  0140105847         GORDON F in         2019.0  2.960521e+09   \n",
       "3          U001  0200769623     WAL-MAR systems         2019.0  1.928535e+09   \n",
       "4          U001  0200769623          WAL-MAR co         2019.0  1.928542e+09   \n",
       "\n",
       "   total_open_amount cust_payment_terms  isOpen  DELAY  \\\n",
       "0         90998.8000               NAA8       0      0   \n",
       "1         11025.2700               NAH4       0     -5   \n",
       "2         14088.2976               CA10       0      2   \n",
       "3         21794.7000               NAH4       0      0   \n",
       "4         65940.4700               NAH4       0      1   \n",
       "\n",
       "   document_create_date.1_month-in-quarter  document_create_date.-in-_month  \\\n",
       "0                                        4                               12   \n",
       "1                                        4                               12   \n",
       "2                                        4                               12   \n",
       "3                                        4                               12   \n",
       "4                                        4                               12   \n",
       "\n",
       "   due_in_date-in-month  due_in_date-in-days  \n",
       "0                     1                    1  \n",
       "1                     1                    1  \n",
       "2                     1                    1  \n",
       "3                     1                    1  \n",
       "4                     1                    1  "
      ]
     },
     "execution_count": 36,
     "metadata": {},
     "output_type": "execute_result"
    }
   ],
   "source": [
    "#Since we have deriver the delay from claer date and due date so we can drop the those features\n",
    "Train.drop(columns=['clear_date','due_in_date'],inplace=True)\n",
    "Train['DELAY'] =  Train['DELAY'].dt.days\n",
    "Train.head()"
   ]
  },
  {
   "cell_type": "code",
   "execution_count": 37,
   "id": "0e471e24",
   "metadata": {},
   "outputs": [
    {
     "data": {
      "text/plain": [
       "Index(['isOpen'], dtype='object')"
      ]
     },
     "execution_count": 37,
     "metadata": {},
     "output_type": "execute_result"
    }
   ],
   "source": [
    "Train.columns[Train.nunique()<=1]"
   ]
  },
  {
   "cell_type": "code",
   "execution_count": 38,
   "id": "b03b3258",
   "metadata": {},
   "outputs": [
    {
     "name": "stderr",
     "output_type": "stream",
     "text": [
      "c:\\users\\telecom division\\appdata\\local\\programs\\python\\python39\\lib\\site-packages\\pandas\\core\\frame.py:4308: SettingWithCopyWarning: \n",
      "A value is trying to be set on a copy of a slice from a DataFrame\n",
      "\n",
      "See the caveats in the documentation: https://pandas.pydata.org/pandas-docs/stable/user_guide/indexing.html#returning-a-view-versus-a-copy\n",
      "  return super().drop(\n"
     ]
    }
   ],
   "source": [
    "#Since the isopen is constant so we dropped it \n",
    "Train.drop(['isOpen'],axis=1,inplace= True)"
   ]
  },
  {
   "cell_type": "code",
   "execution_count": 39,
   "id": "7a459271",
   "metadata": {},
   "outputs": [],
   "source": [
    "# we don't need the cust_name  as cust id and cust_name are same and unique for training so dropped\n",
    "Train.drop(columns=['name_customer'],inplace=True)"
   ]
  },
  {
   "cell_type": "code",
   "execution_count": 40,
   "id": "41fbfe94",
   "metadata": {},
   "outputs": [
    {
     "data": {
      "text/plain": [
       "business_code                               object\n",
       "cust_number                                 object\n",
       "buisness_year                              float64\n",
       "doc_id                                     float64\n",
       "total_open_amount                          float64\n",
       "cust_payment_terms                          object\n",
       "DELAY                                        int64\n",
       "document_create_date.1_month-in-quarter      int64\n",
       "document_create_date.-in-_month              int64\n",
       "due_in_date-in-month                         int64\n",
       "due_in_date-in-days                          int64\n",
       "dtype: object"
      ]
     },
     "execution_count": 40,
     "metadata": {},
     "output_type": "execute_result"
    }
   ],
   "source": [
    "Train.dtypes"
   ]
  },
  {
   "cell_type": "markdown",
   "id": "4a3d5d12",
   "metadata": {},
   "source": [
    "### Splitting the Train data set into Train,Test,Validate set"
   ]
  },
  {
   "cell_type": "code",
   "execution_count": 41,
   "id": "ed08b476",
   "metadata": {},
   "outputs": [
    {
     "data": {
      "text/plain": [
       "((30550, 11), (7638, 11))"
      ]
     },
     "execution_count": 41,
     "metadata": {},
     "output_type": "execute_result"
    }
   ],
   "source": [
    "#train dat is splitted in 8:2 format \n",
    "from sklearn.model_selection import train_test_split\n",
    "Train_Final, validat = train_test_split(Train,test_size=.2,shuffle=False)\n",
    "Train_Final.shape,validat.shape"
   ]
  },
  {
   "cell_type": "code",
   "execution_count": 42,
   "id": "3ee8b05c",
   "metadata": {},
   "outputs": [
    {
     "data": {
      "text/plain": [
       "((3819, 11), (3819, 11))"
      ]
     },
     "execution_count": 42,
     "metadata": {},
     "output_type": "execute_result"
    }
   ],
   "source": [
    "#20% validation data is splited 50% slab (in the sorted document_create_date.1)\n",
    "validat_final,Test_Final = train_test_split(validat,test_size=.5,shuffle=False)\n",
    "validat_final.shape,Test_Final.shape"
   ]
  },
  {
   "cell_type": "code",
   "execution_count": 43,
   "id": "6d479c90",
   "metadata": {},
   "outputs": [
    {
     "data": {
      "text/html": [
       "<div>\n",
       "<style scoped>\n",
       "    .dataframe tbody tr th:only-of-type {\n",
       "        vertical-align: middle;\n",
       "    }\n",
       "\n",
       "    .dataframe tbody tr th {\n",
       "        vertical-align: top;\n",
       "    }\n",
       "\n",
       "    .dataframe thead th {\n",
       "        text-align: right;\n",
       "    }\n",
       "</style>\n",
       "<table border=\"1\" class=\"dataframe\">\n",
       "  <thead>\n",
       "    <tr style=\"text-align: right;\">\n",
       "      <th></th>\n",
       "      <th>business_code</th>\n",
       "      <th>cust_number</th>\n",
       "      <th>buisness_year</th>\n",
       "      <th>doc_id</th>\n",
       "      <th>total_open_amount</th>\n",
       "      <th>cust_payment_terms</th>\n",
       "      <th>DELAY</th>\n",
       "      <th>document_create_date.1_month-in-quarter</th>\n",
       "      <th>document_create_date.-in-_month</th>\n",
       "      <th>due_in_date-in-month</th>\n",
       "      <th>due_in_date-in-days</th>\n",
       "    </tr>\n",
       "  </thead>\n",
       "  <tbody>\n",
       "    <tr>\n",
       "      <th>0</th>\n",
       "      <td>U001</td>\n",
       "      <td>0200739534</td>\n",
       "      <td>2019.0</td>\n",
       "      <td>1.928541e+09</td>\n",
       "      <td>90998.8000</td>\n",
       "      <td>NAA8</td>\n",
       "      <td>0</td>\n",
       "      <td>4</td>\n",
       "      <td>12</td>\n",
       "      <td>1</td>\n",
       "      <td>1</td>\n",
       "    </tr>\n",
       "    <tr>\n",
       "      <th>1</th>\n",
       "      <td>U001</td>\n",
       "      <td>0200769623</td>\n",
       "      <td>2019.0</td>\n",
       "      <td>1.928540e+09</td>\n",
       "      <td>11025.2700</td>\n",
       "      <td>NAH4</td>\n",
       "      <td>-5</td>\n",
       "      <td>4</td>\n",
       "      <td>12</td>\n",
       "      <td>1</td>\n",
       "      <td>1</td>\n",
       "    </tr>\n",
       "    <tr>\n",
       "      <th>2</th>\n",
       "      <td>CA02</td>\n",
       "      <td>0140105847</td>\n",
       "      <td>2019.0</td>\n",
       "      <td>2.960521e+09</td>\n",
       "      <td>14088.2976</td>\n",
       "      <td>CA10</td>\n",
       "      <td>2</td>\n",
       "      <td>4</td>\n",
       "      <td>12</td>\n",
       "      <td>1</td>\n",
       "      <td>1</td>\n",
       "    </tr>\n",
       "    <tr>\n",
       "      <th>3</th>\n",
       "      <td>U001</td>\n",
       "      <td>0200769623</td>\n",
       "      <td>2019.0</td>\n",
       "      <td>1.928535e+09</td>\n",
       "      <td>21794.7000</td>\n",
       "      <td>NAH4</td>\n",
       "      <td>0</td>\n",
       "      <td>4</td>\n",
       "      <td>12</td>\n",
       "      <td>1</td>\n",
       "      <td>1</td>\n",
       "    </tr>\n",
       "    <tr>\n",
       "      <th>4</th>\n",
       "      <td>U001</td>\n",
       "      <td>0200769623</td>\n",
       "      <td>2019.0</td>\n",
       "      <td>1.928542e+09</td>\n",
       "      <td>65940.4700</td>\n",
       "      <td>NAH4</td>\n",
       "      <td>1</td>\n",
       "      <td>4</td>\n",
       "      <td>12</td>\n",
       "      <td>1</td>\n",
       "      <td>1</td>\n",
       "    </tr>\n",
       "  </tbody>\n",
       "</table>\n",
       "</div>"
      ],
      "text/plain": [
       "  business_code cust_number  buisness_year        doc_id  total_open_amount  \\\n",
       "0          U001  0200739534         2019.0  1.928541e+09         90998.8000   \n",
       "1          U001  0200769623         2019.0  1.928540e+09         11025.2700   \n",
       "2          CA02  0140105847         2019.0  2.960521e+09         14088.2976   \n",
       "3          U001  0200769623         2019.0  1.928535e+09         21794.7000   \n",
       "4          U001  0200769623         2019.0  1.928542e+09         65940.4700   \n",
       "\n",
       "  cust_payment_terms  DELAY  document_create_date.1_month-in-quarter  \\\n",
       "0               NAA8      0                                        4   \n",
       "1               NAH4     -5                                        4   \n",
       "2               CA10      2                                        4   \n",
       "3               NAH4      0                                        4   \n",
       "4               NAH4      1                                        4   \n",
       "\n",
       "   document_create_date.-in-_month  due_in_date-in-month  due_in_date-in-days  \n",
       "0                               12                     1                    1  \n",
       "1                               12                     1                    1  \n",
       "2                               12                     1                    1  \n",
       "3                               12                     1                    1  \n",
       "4                               12                     1                    1  "
      ]
     },
     "execution_count": 43,
     "metadata": {},
     "output_type": "execute_result"
    }
   ],
   "source": [
    "Train_Final.head()"
   ]
  },
  {
   "cell_type": "code",
   "execution_count": 44,
   "id": "7d638608",
   "metadata": {},
   "outputs": [
    {
     "name": "stderr",
     "output_type": "stream",
     "text": [
      "c:\\users\\telecom division\\appdata\\local\\programs\\python\\python39\\lib\\site-packages\\pandas\\core\\indexing.py:1676: SettingWithCopyWarning: \n",
      "A value is trying to be set on a copy of a slice from a DataFrame.\n",
      "Try using .loc[row_indexer,col_indexer] = value instead\n",
      "\n",
      "See the caveats in the documentation: https://pandas.pydata.org/pandas-docs/stable/user_guide/indexing.html#returning-a-view-versus-a-copy\n",
      "  self._setitem_single_column(ilocs[0], value, pi)\n"
     ]
    }
   ],
   "source": [
    "#since some features are catagorical  we have done label-encoding so that we can pass to model \n",
    "from sklearn.preprocessing import LabelEncoder\n",
    "labelencoder = LabelEncoder()\n",
    "Train_Final.iloc[:,0] = labelencoder.fit_transform(Train_Final.iloc[:,0])\n",
    "Train_Final.iloc[:,1] = labelencoder.fit_transform(Train_Final.iloc[:,1])\n",
    "Train_Final.iloc[:,3] = labelencoder.fit_transform(Train_Final.iloc[:,3])\n",
    "Train_Final.iloc[:,5] = labelencoder.fit_transform(Train_Final.iloc[:,5])"
   ]
  },
  {
   "cell_type": "code",
   "execution_count": 45,
   "id": "cded7601",
   "metadata": {},
   "outputs": [
    {
     "data": {
      "text/html": [
       "<div>\n",
       "<style scoped>\n",
       "    .dataframe tbody tr th:only-of-type {\n",
       "        vertical-align: middle;\n",
       "    }\n",
       "\n",
       "    .dataframe tbody tr th {\n",
       "        vertical-align: top;\n",
       "    }\n",
       "\n",
       "    .dataframe thead th {\n",
       "        text-align: right;\n",
       "    }\n",
       "</style>\n",
       "<table border=\"1\" class=\"dataframe\">\n",
       "  <thead>\n",
       "    <tr style=\"text-align: right;\">\n",
       "      <th></th>\n",
       "      <th>business_code</th>\n",
       "      <th>cust_number</th>\n",
       "      <th>buisness_year</th>\n",
       "      <th>doc_id</th>\n",
       "      <th>total_open_amount</th>\n",
       "      <th>cust_payment_terms</th>\n",
       "      <th>DELAY</th>\n",
       "      <th>document_create_date.1_month-in-quarter</th>\n",
       "      <th>document_create_date.-in-_month</th>\n",
       "      <th>due_in_date-in-month</th>\n",
       "      <th>due_in_date-in-days</th>\n",
       "    </tr>\n",
       "  </thead>\n",
       "  <tbody>\n",
       "    <tr>\n",
       "      <th>0</th>\n",
       "      <td>1</td>\n",
       "      <td>715</td>\n",
       "      <td>2019.0</td>\n",
       "      <td>83</td>\n",
       "      <td>90998.8000</td>\n",
       "      <td>21</td>\n",
       "      <td>0</td>\n",
       "      <td>4</td>\n",
       "      <td>12</td>\n",
       "      <td>1</td>\n",
       "      <td>1</td>\n",
       "    </tr>\n",
       "    <tr>\n",
       "      <th>1</th>\n",
       "      <td>1</td>\n",
       "      <td>782</td>\n",
       "      <td>2019.0</td>\n",
       "      <td>65</td>\n",
       "      <td>11025.2700</td>\n",
       "      <td>33</td>\n",
       "      <td>-5</td>\n",
       "      <td>4</td>\n",
       "      <td>12</td>\n",
       "      <td>1</td>\n",
       "      <td>1</td>\n",
       "    </tr>\n",
       "    <tr>\n",
       "      <th>2</th>\n",
       "      <td>0</td>\n",
       "      <td>373</td>\n",
       "      <td>2019.0</td>\n",
       "      <td>28193</td>\n",
       "      <td>14088.2976</td>\n",
       "      <td>6</td>\n",
       "      <td>2</td>\n",
       "      <td>4</td>\n",
       "      <td>12</td>\n",
       "      <td>1</td>\n",
       "      <td>1</td>\n",
       "    </tr>\n",
       "    <tr>\n",
       "      <th>3</th>\n",
       "      <td>1</td>\n",
       "      <td>782</td>\n",
       "      <td>2019.0</td>\n",
       "      <td>35</td>\n",
       "      <td>21794.7000</td>\n",
       "      <td>33</td>\n",
       "      <td>0</td>\n",
       "      <td>4</td>\n",
       "      <td>12</td>\n",
       "      <td>1</td>\n",
       "      <td>1</td>\n",
       "    </tr>\n",
       "    <tr>\n",
       "      <th>4</th>\n",
       "      <td>1</td>\n",
       "      <td>782</td>\n",
       "      <td>2019.0</td>\n",
       "      <td>89</td>\n",
       "      <td>65940.4700</td>\n",
       "      <td>33</td>\n",
       "      <td>1</td>\n",
       "      <td>4</td>\n",
       "      <td>12</td>\n",
       "      <td>1</td>\n",
       "      <td>1</td>\n",
       "    </tr>\n",
       "  </tbody>\n",
       "</table>\n",
       "</div>"
      ],
      "text/plain": [
       "   business_code  cust_number  buisness_year  doc_id  total_open_amount  \\\n",
       "0              1          715         2019.0      83         90998.8000   \n",
       "1              1          782         2019.0      65         11025.2700   \n",
       "2              0          373         2019.0   28193         14088.2976   \n",
       "3              1          782         2019.0      35         21794.7000   \n",
       "4              1          782         2019.0      89         65940.4700   \n",
       "\n",
       "   cust_payment_terms  DELAY  document_create_date.1_month-in-quarter  \\\n",
       "0                  21      0                                        4   \n",
       "1                  33     -5                                        4   \n",
       "2                   6      2                                        4   \n",
       "3                  33      0                                        4   \n",
       "4                  33      1                                        4   \n",
       "\n",
       "   document_create_date.-in-_month  due_in_date-in-month  due_in_date-in-days  \n",
       "0                               12                     1                    1  \n",
       "1                               12                     1                    1  \n",
       "2                               12                     1                    1  \n",
       "3                               12                     1                    1  \n",
       "4                               12                     1                    1  "
      ]
     },
     "execution_count": 45,
     "metadata": {},
     "output_type": "execute_result"
    }
   ],
   "source": [
    "Train_Final.head()"
   ]
  },
  {
   "cell_type": "code",
   "execution_count": 46,
   "id": "05000dac",
   "metadata": {},
   "outputs": [
    {
     "name": "stderr",
     "output_type": "stream",
     "text": [
      "c:\\users\\telecom division\\appdata\\local\\programs\\python\\python39\\lib\\site-packages\\pandas\\core\\indexing.py:1676: SettingWithCopyWarning: \n",
      "A value is trying to be set on a copy of a slice from a DataFrame.\n",
      "Try using .loc[row_indexer,col_indexer] = value instead\n",
      "\n",
      "See the caveats in the documentation: https://pandas.pydata.org/pandas-docs/stable/user_guide/indexing.html#returning-a-view-versus-a-copy\n",
      "  self._setitem_single_column(ilocs[0], value, pi)\n"
     ]
    }
   ],
   "source": [
    "#since some features are catagorical  we have done label-encoding so that we can pass to model \n",
    "from sklearn.preprocessing import LabelEncoder\n",
    "labelencoder = LabelEncoder()\n",
    "validat_final.iloc[:,0] = labelencoder.fit_transform(validat_final.iloc[:,0])\n",
    "validat_final.iloc[:,1] = labelencoder.fit_transform(validat_final.iloc[:,1])\n",
    "validat_final.iloc[:,3] = labelencoder.fit_transform(validat_final.iloc[:,3])\n",
    "validat_final.iloc[:,5] = labelencoder.fit_transform(validat_final.iloc[:,5])"
   ]
  },
  {
   "cell_type": "code",
   "execution_count": 47,
   "id": "8ac5b8f2",
   "metadata": {},
   "outputs": [
    {
     "data": {
      "text/html": [
       "<div>\n",
       "<style scoped>\n",
       "    .dataframe tbody tr th:only-of-type {\n",
       "        vertical-align: middle;\n",
       "    }\n",
       "\n",
       "    .dataframe tbody tr th {\n",
       "        vertical-align: top;\n",
       "    }\n",
       "\n",
       "    .dataframe thead th {\n",
       "        text-align: right;\n",
       "    }\n",
       "</style>\n",
       "<table border=\"1\" class=\"dataframe\">\n",
       "  <thead>\n",
       "    <tr style=\"text-align: right;\">\n",
       "      <th></th>\n",
       "      <th>business_code</th>\n",
       "      <th>cust_number</th>\n",
       "      <th>buisness_year</th>\n",
       "      <th>doc_id</th>\n",
       "      <th>total_open_amount</th>\n",
       "      <th>cust_payment_terms</th>\n",
       "      <th>DELAY</th>\n",
       "      <th>document_create_date.1_month-in-quarter</th>\n",
       "      <th>document_create_date.-in-_month</th>\n",
       "      <th>due_in_date-in-month</th>\n",
       "      <th>due_in_date-in-days</th>\n",
       "    </tr>\n",
       "  </thead>\n",
       "  <tbody>\n",
       "    <tr>\n",
       "      <th>30550</th>\n",
       "      <td>1</td>\n",
       "      <td>304</td>\n",
       "      <td>2019.0</td>\n",
       "      <td>53</td>\n",
       "      <td>17951.54</td>\n",
       "      <td>21</td>\n",
       "      <td>-2</td>\n",
       "      <td>4</td>\n",
       "      <td>11</td>\n",
       "      <td>12</td>\n",
       "      <td>4</td>\n",
       "    </tr>\n",
       "    <tr>\n",
       "      <th>30551</th>\n",
       "      <td>1</td>\n",
       "      <td>304</td>\n",
       "      <td>2019.0</td>\n",
       "      <td>16</td>\n",
       "      <td>54352.19</td>\n",
       "      <td>21</td>\n",
       "      <td>-5</td>\n",
       "      <td>4</td>\n",
       "      <td>11</td>\n",
       "      <td>12</td>\n",
       "      <td>4</td>\n",
       "    </tr>\n",
       "    <tr>\n",
       "      <th>30552</th>\n",
       "      <td>1</td>\n",
       "      <td>307</td>\n",
       "      <td>2019.0</td>\n",
       "      <td>97</td>\n",
       "      <td>3013.65</td>\n",
       "      <td>26</td>\n",
       "      <td>1</td>\n",
       "      <td>4</td>\n",
       "      <td>11</td>\n",
       "      <td>12</td>\n",
       "      <td>4</td>\n",
       "    </tr>\n",
       "    <tr>\n",
       "      <th>30553</th>\n",
       "      <td>1</td>\n",
       "      <td>304</td>\n",
       "      <td>2019.0</td>\n",
       "      <td>82</td>\n",
       "      <td>1695.68</td>\n",
       "      <td>21</td>\n",
       "      <td>-2</td>\n",
       "      <td>4</td>\n",
       "      <td>11</td>\n",
       "      <td>12</td>\n",
       "      <td>4</td>\n",
       "    </tr>\n",
       "    <tr>\n",
       "      <th>30554</th>\n",
       "      <td>1</td>\n",
       "      <td>304</td>\n",
       "      <td>2019.0</td>\n",
       "      <td>93</td>\n",
       "      <td>17427.08</td>\n",
       "      <td>21</td>\n",
       "      <td>-4</td>\n",
       "      <td>4</td>\n",
       "      <td>11</td>\n",
       "      <td>12</td>\n",
       "      <td>4</td>\n",
       "    </tr>\n",
       "  </tbody>\n",
       "</table>\n",
       "</div>"
      ],
      "text/plain": [
       "       business_code  cust_number  buisness_year  doc_id  total_open_amount  \\\n",
       "30550              1          304         2019.0      53           17951.54   \n",
       "30551              1          304         2019.0      16           54352.19   \n",
       "30552              1          307         2019.0      97            3013.65   \n",
       "30553              1          304         2019.0      82            1695.68   \n",
       "30554              1          304         2019.0      93           17427.08   \n",
       "\n",
       "       cust_payment_terms  DELAY  document_create_date.1_month-in-quarter  \\\n",
       "30550                  21     -2                                        4   \n",
       "30551                  21     -5                                        4   \n",
       "30552                  26      1                                        4   \n",
       "30553                  21     -2                                        4   \n",
       "30554                  21     -4                                        4   \n",
       "\n",
       "       document_create_date.-in-_month  due_in_date-in-month  \\\n",
       "30550                               11                    12   \n",
       "30551                               11                    12   \n",
       "30552                               11                    12   \n",
       "30553                               11                    12   \n",
       "30554                               11                    12   \n",
       "\n",
       "       due_in_date-in-days  \n",
       "30550                    4  \n",
       "30551                    4  \n",
       "30552                    4  \n",
       "30553                    4  \n",
       "30554                    4  "
      ]
     },
     "execution_count": 47,
     "metadata": {},
     "output_type": "execute_result"
    }
   ],
   "source": [
    "validat_final.head()"
   ]
  },
  {
   "cell_type": "code",
   "execution_count": 48,
   "id": "e3bb22d5",
   "metadata": {},
   "outputs": [
    {
     "data": {
      "text/html": [
       "<div>\n",
       "<style scoped>\n",
       "    .dataframe tbody tr th:only-of-type {\n",
       "        vertical-align: middle;\n",
       "    }\n",
       "\n",
       "    .dataframe tbody tr th {\n",
       "        vertical-align: top;\n",
       "    }\n",
       "\n",
       "    .dataframe thead th {\n",
       "        text-align: right;\n",
       "    }\n",
       "</style>\n",
       "<table border=\"1\" class=\"dataframe\">\n",
       "  <thead>\n",
       "    <tr style=\"text-align: right;\">\n",
       "      <th></th>\n",
       "      <th>business_code</th>\n",
       "      <th>cust_number</th>\n",
       "      <th>buisness_year</th>\n",
       "      <th>doc_id</th>\n",
       "      <th>total_open_amount</th>\n",
       "      <th>cust_payment_terms</th>\n",
       "      <th>DELAY</th>\n",
       "      <th>document_create_date.1_month-in-quarter</th>\n",
       "      <th>document_create_date.-in-_month</th>\n",
       "      <th>due_in_date-in-month</th>\n",
       "      <th>due_in_date-in-days</th>\n",
       "    </tr>\n",
       "  </thead>\n",
       "  <tbody>\n",
       "    <tr>\n",
       "      <th>34369</th>\n",
       "      <td>U001</td>\n",
       "      <td>0200769623</td>\n",
       "      <td>2020.0</td>\n",
       "      <td>1.930395e+09</td>\n",
       "      <td>55671.23</td>\n",
       "      <td>NAH4</td>\n",
       "      <td>-1</td>\n",
       "      <td>1</td>\n",
       "      <td>1</td>\n",
       "      <td>1</td>\n",
       "      <td>1</td>\n",
       "    </tr>\n",
       "    <tr>\n",
       "      <th>34370</th>\n",
       "      <td>U001</td>\n",
       "      <td>0200776463</td>\n",
       "      <td>2020.0</td>\n",
       "      <td>1.930390e+09</td>\n",
       "      <td>125277.01</td>\n",
       "      <td>NAA8</td>\n",
       "      <td>0</td>\n",
       "      <td>1</td>\n",
       "      <td>1</td>\n",
       "      <td>1</td>\n",
       "      <td>1</td>\n",
       "    </tr>\n",
       "    <tr>\n",
       "      <th>34371</th>\n",
       "      <td>U001</td>\n",
       "      <td>0200726979</td>\n",
       "      <td>2020.0</td>\n",
       "      <td>1.930390e+09</td>\n",
       "      <td>269.58</td>\n",
       "      <td>NAA8</td>\n",
       "      <td>0</td>\n",
       "      <td>1</td>\n",
       "      <td>1</td>\n",
       "      <td>1</td>\n",
       "      <td>1</td>\n",
       "    </tr>\n",
       "    <tr>\n",
       "      <th>34372</th>\n",
       "      <td>U001</td>\n",
       "      <td>0200769623</td>\n",
       "      <td>2020.0</td>\n",
       "      <td>1.930385e+09</td>\n",
       "      <td>2373.96</td>\n",
       "      <td>NAH4</td>\n",
       "      <td>-4</td>\n",
       "      <td>1</td>\n",
       "      <td>1</td>\n",
       "      <td>1</td>\n",
       "      <td>1</td>\n",
       "    </tr>\n",
       "    <tr>\n",
       "      <th>34373</th>\n",
       "      <td>U001</td>\n",
       "      <td>0200769623</td>\n",
       "      <td>2020.0</td>\n",
       "      <td>1.930386e+09</td>\n",
       "      <td>344.76</td>\n",
       "      <td>NAH4</td>\n",
       "      <td>-5</td>\n",
       "      <td>1</td>\n",
       "      <td>1</td>\n",
       "      <td>1</td>\n",
       "      <td>1</td>\n",
       "    </tr>\n",
       "  </tbody>\n",
       "</table>\n",
       "</div>"
      ],
      "text/plain": [
       "      business_code cust_number  buisness_year        doc_id  \\\n",
       "34369          U001  0200769623         2020.0  1.930395e+09   \n",
       "34370          U001  0200776463         2020.0  1.930390e+09   \n",
       "34371          U001  0200726979         2020.0  1.930390e+09   \n",
       "34372          U001  0200769623         2020.0  1.930385e+09   \n",
       "34373          U001  0200769623         2020.0  1.930386e+09   \n",
       "\n",
       "       total_open_amount cust_payment_terms  DELAY  \\\n",
       "34369           55671.23               NAH4     -1   \n",
       "34370          125277.01               NAA8      0   \n",
       "34371             269.58               NAA8      0   \n",
       "34372            2373.96               NAH4     -4   \n",
       "34373             344.76               NAH4     -5   \n",
       "\n",
       "       document_create_date.1_month-in-quarter  \\\n",
       "34369                                        1   \n",
       "34370                                        1   \n",
       "34371                                        1   \n",
       "34372                                        1   \n",
       "34373                                        1   \n",
       "\n",
       "       document_create_date.-in-_month  due_in_date-in-month  \\\n",
       "34369                                1                     1   \n",
       "34370                                1                     1   \n",
       "34371                                1                     1   \n",
       "34372                                1                     1   \n",
       "34373                                1                     1   \n",
       "\n",
       "       due_in_date-in-days  \n",
       "34369                    1  \n",
       "34370                    1  \n",
       "34371                    1  \n",
       "34372                    1  \n",
       "34373                    1  "
      ]
     },
     "execution_count": 48,
     "metadata": {},
     "output_type": "execute_result"
    }
   ],
   "source": [
    "Test_Final.head()"
   ]
  },
  {
   "cell_type": "code",
   "execution_count": null,
   "id": "a9693200",
   "metadata": {},
   "outputs": [],
   "source": []
  },
  {
   "cell_type": "code",
   "execution_count": 49,
   "id": "3648bb60",
   "metadata": {},
   "outputs": [
    {
     "name": "stderr",
     "output_type": "stream",
     "text": [
      "c:\\users\\telecom division\\appdata\\local\\programs\\python\\python39\\lib\\site-packages\\pandas\\core\\indexing.py:1676: SettingWithCopyWarning: \n",
      "A value is trying to be set on a copy of a slice from a DataFrame.\n",
      "Try using .loc[row_indexer,col_indexer] = value instead\n",
      "\n",
      "See the caveats in the documentation: https://pandas.pydata.org/pandas-docs/stable/user_guide/indexing.html#returning-a-view-versus-a-copy\n",
      "  self._setitem_single_column(ilocs[0], value, pi)\n"
     ]
    }
   ],
   "source": [
    "#since some features are catagorical  we have done label-encoding so that we can pass to model \n",
    "from sklearn.preprocessing import LabelEncoder\n",
    "labelencoder = LabelEncoder()\n",
    "Test_Final.iloc[:,0] = labelencoder.fit_transform(Test_Final.iloc[:,0])\n",
    "Test_Final.iloc[:,1] = labelencoder.fit_transform(Test_Final.iloc[:,1])\n",
    "Test_Final.iloc[:,5] = labelencoder.fit_transform(Test_Final.iloc[:,5])\n",
    "Test_Final.iloc[:,3] = labelencoder.fit_transform(Test_Final.iloc[:,3])"
   ]
  },
  {
   "cell_type": "code",
   "execution_count": 50,
   "id": "b63ac7e9",
   "metadata": {},
   "outputs": [
    {
     "data": {
      "text/html": [
       "<div>\n",
       "<style scoped>\n",
       "    .dataframe tbody tr th:only-of-type {\n",
       "        vertical-align: middle;\n",
       "    }\n",
       "\n",
       "    .dataframe tbody tr th {\n",
       "        vertical-align: top;\n",
       "    }\n",
       "\n",
       "    .dataframe thead th {\n",
       "        text-align: right;\n",
       "    }\n",
       "</style>\n",
       "<table border=\"1\" class=\"dataframe\">\n",
       "  <thead>\n",
       "    <tr style=\"text-align: right;\">\n",
       "      <th></th>\n",
       "      <th>business_code</th>\n",
       "      <th>cust_number</th>\n",
       "      <th>buisness_year</th>\n",
       "      <th>doc_id</th>\n",
       "      <th>total_open_amount</th>\n",
       "      <th>cust_payment_terms</th>\n",
       "      <th>DELAY</th>\n",
       "      <th>document_create_date.1_month-in-quarter</th>\n",
       "      <th>document_create_date.-in-_month</th>\n",
       "      <th>due_in_date-in-month</th>\n",
       "      <th>due_in_date-in-days</th>\n",
       "    </tr>\n",
       "  </thead>\n",
       "  <tbody>\n",
       "    <tr>\n",
       "      <th>34369</th>\n",
       "      <td>1</td>\n",
       "      <td>333</td>\n",
       "      <td>2020.0</td>\n",
       "      <td>124</td>\n",
       "      <td>55671.23</td>\n",
       "      <td>24</td>\n",
       "      <td>-1</td>\n",
       "      <td>1</td>\n",
       "      <td>1</td>\n",
       "      <td>1</td>\n",
       "      <td>1</td>\n",
       "    </tr>\n",
       "    <tr>\n",
       "      <th>34370</th>\n",
       "      <td>1</td>\n",
       "      <td>343</td>\n",
       "      <td>2020.0</td>\n",
       "      <td>51</td>\n",
       "      <td>125277.01</td>\n",
       "      <td>11</td>\n",
       "      <td>0</td>\n",
       "      <td>1</td>\n",
       "      <td>1</td>\n",
       "      <td>1</td>\n",
       "      <td>1</td>\n",
       "    </tr>\n",
       "    <tr>\n",
       "      <th>34371</th>\n",
       "      <td>1</td>\n",
       "      <td>273</td>\n",
       "      <td>2020.0</td>\n",
       "      <td>54</td>\n",
       "      <td>269.58</td>\n",
       "      <td>11</td>\n",
       "      <td>0</td>\n",
       "      <td>1</td>\n",
       "      <td>1</td>\n",
       "      <td>1</td>\n",
       "      <td>1</td>\n",
       "    </tr>\n",
       "    <tr>\n",
       "      <th>34372</th>\n",
       "      <td>1</td>\n",
       "      <td>333</td>\n",
       "      <td>2020.0</td>\n",
       "      <td>26</td>\n",
       "      <td>2373.96</td>\n",
       "      <td>24</td>\n",
       "      <td>-4</td>\n",
       "      <td>1</td>\n",
       "      <td>1</td>\n",
       "      <td>1</td>\n",
       "      <td>1</td>\n",
       "    </tr>\n",
       "    <tr>\n",
       "      <th>34373</th>\n",
       "      <td>1</td>\n",
       "      <td>333</td>\n",
       "      <td>2020.0</td>\n",
       "      <td>31</td>\n",
       "      <td>344.76</td>\n",
       "      <td>24</td>\n",
       "      <td>-5</td>\n",
       "      <td>1</td>\n",
       "      <td>1</td>\n",
       "      <td>1</td>\n",
       "      <td>1</td>\n",
       "    </tr>\n",
       "  </tbody>\n",
       "</table>\n",
       "</div>"
      ],
      "text/plain": [
       "       business_code  cust_number  buisness_year  doc_id  total_open_amount  \\\n",
       "34369              1          333         2020.0     124           55671.23   \n",
       "34370              1          343         2020.0      51          125277.01   \n",
       "34371              1          273         2020.0      54             269.58   \n",
       "34372              1          333         2020.0      26            2373.96   \n",
       "34373              1          333         2020.0      31             344.76   \n",
       "\n",
       "       cust_payment_terms  DELAY  document_create_date.1_month-in-quarter  \\\n",
       "34369                  24     -1                                        1   \n",
       "34370                  11      0                                        1   \n",
       "34371                  11      0                                        1   \n",
       "34372                  24     -4                                        1   \n",
       "34373                  24     -5                                        1   \n",
       "\n",
       "       document_create_date.-in-_month  due_in_date-in-month  \\\n",
       "34369                                1                     1   \n",
       "34370                                1                     1   \n",
       "34371                                1                     1   \n",
       "34372                                1                     1   \n",
       "34373                                1                     1   \n",
       "\n",
       "       due_in_date-in-days  \n",
       "34369                    1  \n",
       "34370                    1  \n",
       "34371                    1  \n",
       "34372                    1  \n",
       "34373                    1  "
      ]
     },
     "execution_count": 50,
     "metadata": {},
     "output_type": "execute_result"
    }
   ],
   "source": [
    "Test_Final.head()"
   ]
  },
  {
   "cell_type": "code",
   "execution_count": 51,
   "id": "c78268f5",
   "metadata": {},
   "outputs": [
    {
     "data": {
      "text/plain": [
       "business_code                                int32\n",
       "cust_number                                  int32\n",
       "buisness_year                              float64\n",
       "doc_id                                       int64\n",
       "total_open_amount                          float64\n",
       "cust_payment_terms                           int32\n",
       "DELAY                                        int64\n",
       "document_create_date.1_month-in-quarter      int64\n",
       "document_create_date.-in-_month              int64\n",
       "due_in_date-in-month                         int64\n",
       "due_in_date-in-days                          int64\n",
       "dtype: object"
      ]
     },
     "execution_count": 51,
     "metadata": {},
     "output_type": "execute_result"
    }
   ],
   "source": [
    "Train_Final.dtypes"
   ]
  },
  {
   "cell_type": "code",
   "execution_count": 52,
   "id": "4599e175",
   "metadata": {},
   "outputs": [
    {
     "data": {
      "text/plain": [
       "business_code                                int32\n",
       "cust_number                                  int32\n",
       "buisness_year                              float64\n",
       "doc_id                                       int64\n",
       "total_open_amount                          float64\n",
       "cust_payment_terms                           int32\n",
       "DELAY                                        int64\n",
       "document_create_date.1_month-in-quarter      int64\n",
       "document_create_date.-in-_month              int64\n",
       "due_in_date-in-month                         int64\n",
       "due_in_date-in-days                          int64\n",
       "dtype: object"
      ]
     },
     "execution_count": 52,
     "metadata": {},
     "output_type": "execute_result"
    }
   ],
   "source": [
    "Test_Final.dtypes"
   ]
  },
  {
   "cell_type": "code",
   "execution_count": 53,
   "id": "bb24b770",
   "metadata": {},
   "outputs": [
    {
     "data": {
      "text/plain": [
       "business_code                                int32\n",
       "cust_number                                  int32\n",
       "buisness_year                              float64\n",
       "doc_id                                       int64\n",
       "total_open_amount                          float64\n",
       "cust_payment_terms                           int32\n",
       "DELAY                                        int64\n",
       "document_create_date.1_month-in-quarter      int64\n",
       "document_create_date.-in-_month              int64\n",
       "due_in_date-in-month                         int64\n",
       "due_in_date-in-days                          int64\n",
       "dtype: object"
      ]
     },
     "execution_count": 53,
     "metadata": {},
     "output_type": "execute_result"
    }
   ],
   "source": [
    "validat_final.dtypes"
   ]
  },
  {
   "cell_type": "markdown",
   "id": "22f06eb4",
   "metadata": {},
   "source": [
    "# Features Selection"
   ]
  },
  {
   "cell_type": "code",
   "execution_count": 54,
   "id": "53f7b058",
   "metadata": {},
   "outputs": [
    {
     "data": {
      "text/plain": [
       "ExtraTreesClassifier()"
      ]
     },
     "execution_count": 54,
     "metadata": {},
     "output_type": "execute_result"
    }
   ],
   "source": [
    "#Extracting best features to be fed to train our model\n",
    "from sklearn.ensemble import ExtraTreesClassifier\n",
    "x=Train_Final.drop(labels=['DELAY'], axis=1)\n",
    "y= Train_Final['DELAY']\n",
    "model = ExtraTreesClassifier()\n",
    "model.fit(x,y)"
   ]
  },
  {
   "cell_type": "code",
   "execution_count": 55,
   "id": "f825a456",
   "metadata": {},
   "outputs": [
    {
     "data": {
      "image/png": "[encoded data removed]",
      "text/plain": [
       "<Figure size 432x288 with 1 Axes>"
      ]
     },
     "metadata": {},
     "output_type": "display_data"
    }
   ],
   "source": [
    "selt = pd.Series(model.feature_importances_, index=x.columns)\n",
    "selt.nlargest(11).plot(kind='barh')\n",
    "plt.show()"
   ]
  },
  {
   "cell_type": "code",
   "execution_count": 57,
   "id": "51b017e0",
   "metadata": {},
   "outputs": [
    {
     "name": "stderr",
     "output_type": "stream",
     "text": [
      "c:\\users\\telecom division\\appdata\\local\\programs\\python\\python39\\lib\\site-packages\\pandas\\core\\frame.py:4308: SettingWithCopyWarning: \n",
      "A value is trying to be set on a copy of a slice from a DataFrame\n",
      "\n",
      "See the caveats in the documentation: https://pandas.pydata.org/pandas-docs/stable/user_guide/indexing.html#returning-a-view-versus-a-copy\n",
      "  return super().drop(\n"
     ]
    }
   ],
   "source": [
    "Train_Final.drop(columns=['due_in_date-in-days','document_create_date.1_month-in-quarter','business_code','buisness_year'],inplace=True)\n",
    "Test_Final.drop(columns=['due_in_date-in-days','document_create_date.1_month-in-quarter','business_code','buisness_year'],inplace=True)\n",
    "validat_final.drop(columns=['due_in_date-in-days','document_create_date.1_month-in-quarter','business_code','buisness_year'],inplace=True)"
   ]
  },
  {
   "cell_type": "code",
   "execution_count": 58,
   "id": "3e2c5592",
   "metadata": {},
   "outputs": [
    {
     "data": {
      "text/plain": [
       "cust_number                          int32\n",
       "doc_id                               int64\n",
       "total_open_amount                  float64\n",
       "cust_payment_terms                   int32\n",
       "DELAY                                int64\n",
       "document_create_date.-in-_month      int64\n",
       "due_in_date-in-month                 int64\n",
       "dtype: object"
      ]
     },
     "execution_count": 58,
     "metadata": {},
     "output_type": "execute_result"
    }
   ],
   "source": [
    "Train_Final.dtypes"
   ]
  },
  {
   "cell_type": "code",
   "execution_count": 59,
   "id": "fa421dfd",
   "metadata": {},
   "outputs": [
    {
     "data": {
      "text/plain": [
       "((30550, 6), (30550,))"
      ]
     },
     "execution_count": 59,
     "metadata": {},
     "output_type": "execute_result"
    }
   ],
   "source": [
    "#spliting train_final\n",
    "X_train = Train_Final.drop(labels=['DELAY'], axis=1)\n",
    "y_train = Train_Final['DELAY']\n",
    "X_train.shape,y_train.shape"
   ]
  },
  {
   "cell_type": "code",
   "execution_count": 60,
   "id": "bca24a0e",
   "metadata": {},
   "outputs": [
    {
     "data": {
      "text/plain": [
       "((3819, 6), (3819,))"
      ]
     },
     "execution_count": 60,
     "metadata": {},
     "output_type": "execute_result"
    }
   ],
   "source": [
    "#spliting validation_final\n",
    "X_val = validat_final.drop(labels=['DELAY'], axis=1)\n",
    "y_val = validat_final['DELAY']\n",
    "X_val.shape,y_val.shape"
   ]
  },
  {
   "cell_type": "code",
   "execution_count": 61,
   "id": "428881c7",
   "metadata": {},
   "outputs": [
    {
     "data": {
      "text/plain": [
       "((3819, 6), (3819,))"
      ]
     },
     "execution_count": 61,
     "metadata": {},
     "output_type": "execute_result"
    }
   ],
   "source": [
    "#spliting test_final\n",
    "X_test = Test_Final.drop(labels=['DELAY'], axis=1)\n",
    "y_test = Test_Final['DELAY']\n",
    "X_test.shape,y_test.shape"
   ]
  },
  {
   "cell_type": "code",
   "execution_count": 62,
   "id": "e8afe838",
   "metadata": {},
   "outputs": [],
   "source": [
    "#Normalization is performed before fitting inside model\n",
    "scaler = StandardScaler()\n",
    "X_train_scaled = scaler.fit_transform(X_train)\n",
    "X_test_scaled = scaler.fit_transform(X_val)"
   ]
  },
  {
   "cell_type": "code",
   "execution_count": 63,
   "id": "fe9be90c",
   "metadata": {},
   "outputs": [
    {
     "data": {
      "text/plain": [
       "0        0\n",
       "1       -5\n",
       "2        2\n",
       "3        0\n",
       "4        1\n",
       "        ..\n",
       "30545   -2\n",
       "30546    1\n",
       "30547   -5\n",
       "30548    2\n",
       "30549   -4\n",
       "Name: DELAY, Length: 30550, dtype: int64"
      ]
     },
     "execution_count": 63,
     "metadata": {},
     "output_type": "execute_result"
    }
   ],
   "source": [
    "y_train"
   ]
  },
  {
   "cell_type": "code",
   "execution_count": 64,
   "id": "1145aae5",
   "metadata": {},
   "outputs": [
    {
     "data": {
      "text/html": [
       "<div>\n",
       "<style scoped>\n",
       "    .dataframe tbody tr th:only-of-type {\n",
       "        vertical-align: middle;\n",
       "    }\n",
       "\n",
       "    .dataframe tbody tr th {\n",
       "        vertical-align: top;\n",
       "    }\n",
       "\n",
       "    .dataframe thead th {\n",
       "        text-align: right;\n",
       "    }\n",
       "</style>\n",
       "<table border=\"1\" class=\"dataframe\">\n",
       "  <thead>\n",
       "    <tr style=\"text-align: right;\">\n",
       "      <th></th>\n",
       "      <th>cust_number</th>\n",
       "      <th>doc_id</th>\n",
       "      <th>total_open_amount</th>\n",
       "      <th>cust_payment_terms</th>\n",
       "      <th>document_create_date.-in-_month</th>\n",
       "      <th>due_in_date-in-month</th>\n",
       "    </tr>\n",
       "  </thead>\n",
       "  <tbody>\n",
       "    <tr>\n",
       "      <th>0</th>\n",
       "      <td>715</td>\n",
       "      <td>83</td>\n",
       "      <td>90998.8000</td>\n",
       "      <td>21</td>\n",
       "      <td>12</td>\n",
       "      <td>1</td>\n",
       "    </tr>\n",
       "    <tr>\n",
       "      <th>1</th>\n",
       "      <td>782</td>\n",
       "      <td>65</td>\n",
       "      <td>11025.2700</td>\n",
       "      <td>33</td>\n",
       "      <td>12</td>\n",
       "      <td>1</td>\n",
       "    </tr>\n",
       "    <tr>\n",
       "      <th>2</th>\n",
       "      <td>373</td>\n",
       "      <td>28193</td>\n",
       "      <td>14088.2976</td>\n",
       "      <td>6</td>\n",
       "      <td>12</td>\n",
       "      <td>1</td>\n",
       "    </tr>\n",
       "    <tr>\n",
       "      <th>3</th>\n",
       "      <td>782</td>\n",
       "      <td>35</td>\n",
       "      <td>21794.7000</td>\n",
       "      <td>33</td>\n",
       "      <td>12</td>\n",
       "      <td>1</td>\n",
       "    </tr>\n",
       "    <tr>\n",
       "      <th>4</th>\n",
       "      <td>782</td>\n",
       "      <td>89</td>\n",
       "      <td>65940.4700</td>\n",
       "      <td>33</td>\n",
       "      <td>12</td>\n",
       "      <td>1</td>\n",
       "    </tr>\n",
       "    <tr>\n",
       "      <th>...</th>\n",
       "      <td>...</td>\n",
       "      <td>...</td>\n",
       "      <td>...</td>\n",
       "      <td>...</td>\n",
       "      <td>...</td>\n",
       "      <td>...</td>\n",
       "    </tr>\n",
       "    <tr>\n",
       "      <th>30545</th>\n",
       "      <td>782</td>\n",
       "      <td>27658</td>\n",
       "      <td>1259.3400</td>\n",
       "      <td>33</td>\n",
       "      <td>11</td>\n",
       "      <td>12</td>\n",
       "    </tr>\n",
       "    <tr>\n",
       "      <th>30546</th>\n",
       "      <td>685</td>\n",
       "      <td>27619</td>\n",
       "      <td>737.2600</td>\n",
       "      <td>21</td>\n",
       "      <td>11</td>\n",
       "      <td>12</td>\n",
       "    </tr>\n",
       "    <tr>\n",
       "      <th>30547</th>\n",
       "      <td>782</td>\n",
       "      <td>27641</td>\n",
       "      <td>18103.7300</td>\n",
       "      <td>33</td>\n",
       "      <td>11</td>\n",
       "      <td>12</td>\n",
       "    </tr>\n",
       "    <tr>\n",
       "      <th>30548</th>\n",
       "      <td>729</td>\n",
       "      <td>27633</td>\n",
       "      <td>35551.6600</td>\n",
       "      <td>21</td>\n",
       "      <td>11</td>\n",
       "      <td>12</td>\n",
       "    </tr>\n",
       "    <tr>\n",
       "      <th>30549</th>\n",
       "      <td>782</td>\n",
       "      <td>27532</td>\n",
       "      <td>27756.3500</td>\n",
       "      <td>33</td>\n",
       "      <td>11</td>\n",
       "      <td>12</td>\n",
       "    </tr>\n",
       "  </tbody>\n",
       "</table>\n",
       "<p>30550 rows × 6 columns</p>\n",
       "</div>"
      ],
      "text/plain": [
       "       cust_number  doc_id  total_open_amount  cust_payment_terms  \\\n",
       "0              715      83         90998.8000                  21   \n",
       "1              782      65         11025.2700                  33   \n",
       "2              373   28193         14088.2976                   6   \n",
       "3              782      35         21794.7000                  33   \n",
       "4              782      89         65940.4700                  33   \n",
       "...            ...     ...                ...                 ...   \n",
       "30545          782   27658          1259.3400                  33   \n",
       "30546          685   27619           737.2600                  21   \n",
       "30547          782   27641         18103.7300                  33   \n",
       "30548          729   27633         35551.6600                  21   \n",
       "30549          782   27532         27756.3500                  33   \n",
       "\n",
       "       document_create_date.-in-_month  due_in_date-in-month  \n",
       "0                                   12                     1  \n",
       "1                                   12                     1  \n",
       "2                                   12                     1  \n",
       "3                                   12                     1  \n",
       "4                                   12                     1  \n",
       "...                                ...                   ...  \n",
       "30545                               11                    12  \n",
       "30546                               11                    12  \n",
       "30547                               11                    12  \n",
       "30548                               11                    12  \n",
       "30549                               11                    12  \n",
       "\n",
       "[30550 rows x 6 columns]"
      ]
     },
     "execution_count": 64,
     "metadata": {},
     "output_type": "execute_result"
    }
   ],
   "source": [
    "X_train"
   ]
  },
  {
   "cell_type": "code",
   "execution_count": 65,
   "id": "4f2d2e4b",
   "metadata": {},
   "outputs": [
    {
     "data": {
      "text/plain": [
       "0        0\n",
       "1       -5\n",
       "2        2\n",
       "3        0\n",
       "4        1\n",
       "        ..\n",
       "30545   -2\n",
       "30546    1\n",
       "30547   -5\n",
       "30548    2\n",
       "30549   -4\n",
       "Name: DELAY, Length: 30550, dtype: int64"
      ]
     },
     "execution_count": 65,
     "metadata": {},
     "output_type": "execute_result"
    }
   ],
   "source": [
    "y_train"
   ]
  },
  {
   "cell_type": "code",
   "execution_count": 66,
   "id": "9a136c41",
   "metadata": {},
   "outputs": [
    {
     "name": "stdout",
     "output_type": "stream",
     "text": [
      "score = -0.10914571294142683\n",
      "r2_score = -0.10914571294142683\n",
      "mean_squared_error = 10.429909994441527\n",
      "root_mean_square_error = 10.429909994441527\n"
     ]
    }
   ],
   "source": [
    "# checking model in train_final\n",
    "model_2 = SVR()\n",
    "model_2.fit(X_train_scaled,y_train)\n",
    "pred_value = model_2.predict(X_test_scaled)\n",
    "print(f'score = {model_2.score(X_test_scaled,y_test)}')\n",
    "print(f'r2_score = {r2_score(y_test,pred_value)}')\n",
    "print(f'mean_squared_error = {mean_squared_error(y_test, pred_value,squared =False)}')\n",
    "root_mean_square_error=sqrt(mean_squared_error(y_test, pred_value))\n",
    "print(f'root_mean_square_error = {root_mean_square_error}')"
   ]
  },
  {
   "cell_type": "code",
   "execution_count": 495,
   "id": "e9fc8a94",
   "metadata": {},
   "outputs": [
    {
     "data": {
      "text/plain": [
       "array([1.01467495, 0.51834948, 0.94730099, ..., 3.16359949, 2.3251826 ,\n",
       "       1.87735283])"
      ]
     },
     "execution_count": 495,
     "metadata": {},
     "output_type": "execute_result"
    }
   ],
   "source": [
    "pred_value"
   ]
  },
  {
   "cell_type": "code",
   "execution_count": 496,
   "id": "88e59de7",
   "metadata": {},
   "outputs": [
    {
     "data": {
      "text/plain": [
       "34369   -1\n",
       "34370    0\n",
       "34371    0\n",
       "34372   -4\n",
       "34373   -5\n",
       "        ..\n",
       "38204    7\n",
       "38225    4\n",
       "38247   -1\n",
       "38293   -1\n",
       "38307    0\n",
       "Name: DELAY, Length: 3819, dtype: int64"
      ]
     },
     "execution_count": 496,
     "metadata": {},
     "output_type": "execute_result"
    }
   ],
   "source": [
    "y_test"
   ]
  },
  {
   "cell_type": "code",
   "execution_count": 67,
   "id": "9cdfc22d",
   "metadata": {},
   "outputs": [
    {
     "data": {
      "text/html": [
       "<div>\n",
       "<style scoped>\n",
       "    .dataframe tbody tr th:only-of-type {\n",
       "        vertical-align: middle;\n",
       "    }\n",
       "\n",
       "    .dataframe tbody tr th {\n",
       "        vertical-align: top;\n",
       "    }\n",
       "\n",
       "    .dataframe thead th {\n",
       "        text-align: right;\n",
       "    }\n",
       "</style>\n",
       "<table border=\"1\" class=\"dataframe\">\n",
       "  <thead>\n",
       "    <tr style=\"text-align: right;\">\n",
       "      <th></th>\n",
       "      <th>0</th>\n",
       "      <th>1</th>\n",
       "    </tr>\n",
       "  </thead>\n",
       "  <tbody>\n",
       "    <tr>\n",
       "      <th>0</th>\n",
       "      <td>-1</td>\n",
       "      <td>2.257752</td>\n",
       "    </tr>\n",
       "    <tr>\n",
       "      <th>1</th>\n",
       "      <td>0</td>\n",
       "      <td>1.216339</td>\n",
       "    </tr>\n",
       "    <tr>\n",
       "      <th>2</th>\n",
       "      <td>0</td>\n",
       "      <td>1.725982</td>\n",
       "    </tr>\n",
       "    <tr>\n",
       "      <th>3</th>\n",
       "      <td>-4</td>\n",
       "      <td>2.317503</td>\n",
       "    </tr>\n",
       "    <tr>\n",
       "      <th>4</th>\n",
       "      <td>-5</td>\n",
       "      <td>2.140428</td>\n",
       "    </tr>\n",
       "    <tr>\n",
       "      <th>...</th>\n",
       "      <td>...</td>\n",
       "      <td>...</td>\n",
       "    </tr>\n",
       "    <tr>\n",
       "      <th>3814</th>\n",
       "      <td>7</td>\n",
       "      <td>4.670226</td>\n",
       "    </tr>\n",
       "    <tr>\n",
       "      <th>3815</th>\n",
       "      <td>4</td>\n",
       "      <td>1.528416</td>\n",
       "    </tr>\n",
       "    <tr>\n",
       "      <th>3816</th>\n",
       "      <td>-1</td>\n",
       "      <td>5.050969</td>\n",
       "    </tr>\n",
       "    <tr>\n",
       "      <th>3817</th>\n",
       "      <td>-1</td>\n",
       "      <td>4.131187</td>\n",
       "    </tr>\n",
       "    <tr>\n",
       "      <th>3818</th>\n",
       "      <td>0</td>\n",
       "      <td>2.733055</td>\n",
       "    </tr>\n",
       "  </tbody>\n",
       "</table>\n",
       "<p>3819 rows × 2 columns</p>\n",
       "</div>"
      ],
      "text/plain": [
       "      0         1\n",
       "0    -1  2.257752\n",
       "1     0  1.216339\n",
       "2     0  1.725982\n",
       "3    -4  2.317503\n",
       "4    -5  2.140428\n",
       "...  ..       ...\n",
       "3814  7  4.670226\n",
       "3815  4  1.528416\n",
       "3816 -1  5.050969\n",
       "3817 -1  4.131187\n",
       "3818  0  2.733055\n",
       "\n",
       "[3819 rows x 2 columns]"
      ]
     },
     "execution_count": 67,
     "metadata": {},
     "output_type": "execute_result"
    }
   ],
   "source": [
    "deta = pd.DataFrame(zip(y_test,pred_value))\n",
    "deta"
   ]
  },
  {
   "cell_type": "code",
   "execution_count": 68,
   "id": "0234a37d",
   "metadata": {},
   "outputs": [
    {
     "name": "stdout",
     "output_type": "stream",
     "text": [
      "score = -0.04023199797829813\n",
      "r2_score = -19.183300059561137\n",
      "mean_squared_error = 44.49204282892475\n",
      "root_mean_square_error = 44.49204282892475\n"
     ]
    }
   ],
   "source": [
    "# checking model in train_final\n",
    "model_3 = DecisionTreeRegressor(max_depth =2)\n",
    "model_3.fit(X_train_scaled,y_train)\n",
    "pred_value = model_3.predict(X_val)\n",
    "print(f'score = {model_3.score(X_test_scaled,y_test)}')\n",
    "print(f'r2_score = {r2_score(y_test,pred_value)}')\n",
    "print(f'mean_squared_error = {mean_squared_error(y_test, pred_value,squared=False)}')\n",
    "root_mean_square_error=sqrt(mean_squared_error(y_test, pred_value))\n",
    "print(f'root_mean_square_error = {root_mean_square_error}')"
   ]
  },
  {
   "cell_type": "code",
   "execution_count": 485,
   "id": "8b3bf243",
   "metadata": {},
   "outputs": [
    {
     "data": {
      "text/plain": [
       "array([45.21132898, 45.21132898, 45.21132898, ..., 45.21132898,\n",
       "       45.21132898, 45.21132898])"
      ]
     },
     "execution_count": 485,
     "metadata": {},
     "output_type": "execute_result"
    }
   ],
   "source": [
    "pred_value"
   ]
  },
  {
   "cell_type": "code",
   "execution_count": 241,
   "id": "5ec640e2",
   "metadata": {},
   "outputs": [
    {
     "data": {
      "text/html": [
       "<div>\n",
       "<style scoped>\n",
       "    .dataframe tbody tr th:only-of-type {\n",
       "        vertical-align: middle;\n",
       "    }\n",
       "\n",
       "    .dataframe tbody tr th {\n",
       "        vertical-align: top;\n",
       "    }\n",
       "\n",
       "    .dataframe thead th {\n",
       "        text-align: right;\n",
       "    }\n",
       "</style>\n",
       "<table border=\"1\" class=\"dataframe\">\n",
       "  <thead>\n",
       "    <tr style=\"text-align: right;\">\n",
       "      <th></th>\n",
       "      <th>0</th>\n",
       "      <th>1</th>\n",
       "    </tr>\n",
       "  </thead>\n",
       "  <tbody>\n",
       "    <tr>\n",
       "      <th>0</th>\n",
       "      <td>0</td>\n",
       "      <td>43.211321</td>\n",
       "    </tr>\n",
       "    <tr>\n",
       "      <th>1</th>\n",
       "      <td>-5</td>\n",
       "      <td>43.211321</td>\n",
       "    </tr>\n",
       "    <tr>\n",
       "      <th>2</th>\n",
       "      <td>2</td>\n",
       "      <td>43.211321</td>\n",
       "    </tr>\n",
       "    <tr>\n",
       "      <th>3</th>\n",
       "      <td>0</td>\n",
       "      <td>43.211321</td>\n",
       "    </tr>\n",
       "    <tr>\n",
       "      <th>4</th>\n",
       "      <td>1</td>\n",
       "      <td>43.211321</td>\n",
       "    </tr>\n",
       "    <tr>\n",
       "      <th>...</th>\n",
       "      <td>...</td>\n",
       "      <td>...</td>\n",
       "    </tr>\n",
       "    <tr>\n",
       "      <th>3814</th>\n",
       "      <td>-1</td>\n",
       "      <td>43.211321</td>\n",
       "    </tr>\n",
       "    <tr>\n",
       "      <th>3815</th>\n",
       "      <td>-10</td>\n",
       "      <td>43.211321</td>\n",
       "    </tr>\n",
       "    <tr>\n",
       "      <th>3816</th>\n",
       "      <td>-5</td>\n",
       "      <td>43.211321</td>\n",
       "    </tr>\n",
       "    <tr>\n",
       "      <th>3817</th>\n",
       "      <td>2</td>\n",
       "      <td>43.211321</td>\n",
       "    </tr>\n",
       "    <tr>\n",
       "      <th>3818</th>\n",
       "      <td>-2</td>\n",
       "      <td>43.211321</td>\n",
       "    </tr>\n",
       "  </tbody>\n",
       "</table>\n",
       "<p>3819 rows × 2 columns</p>\n",
       "</div>"
      ],
      "text/plain": [
       "       0          1\n",
       "0      0  43.211321\n",
       "1     -5  43.211321\n",
       "2      2  43.211321\n",
       "3      0  43.211321\n",
       "4      1  43.211321\n",
       "...   ..        ...\n",
       "3814  -1  43.211321\n",
       "3815 -10  43.211321\n",
       "3816  -5  43.211321\n",
       "3817   2  43.211321\n",
       "3818  -2  43.211321\n",
       "\n",
       "[3819 rows x 2 columns]"
      ]
     },
     "execution_count": 241,
     "metadata": {},
     "output_type": "execute_result"
    }
   ],
   "source": [
    "deta = pd.DataFrame(zip(y_train,pred_value))\n",
    "deta"
   ]
  },
  {
   "cell_type": "code",
   "execution_count": 488,
   "id": "8ad38309",
   "metadata": {},
   "outputs": [
    {
     "name": "stderr",
     "output_type": "stream",
     "text": [
      "c:\\users\\telecom division\\appdata\\local\\programs\\python\\python39\\lib\\site-packages\\xgboost\\sklearn.py:1146: UserWarning: The use of label encoder in XGBClassifier is deprecated and will be removed in a future release. To remove this warning, do the following: 1) Pass option use_label_encoder=False when constructing XGBClassifier object; and 2) Encode your labels (y) as integers starting with 0, i.e. 0, 1, 2, ..., [num_class - 1].\n",
      "  warnings.warn(label_encoder_deprecation_msg, UserWarning)\n"
     ]
    },
    {
     "name": "stdout",
     "output_type": "stream",
     "text": [
      "[11:45:25] WARNING: C:/Users/Administrator/workspace/xgboost-win64_release_1.4.0/src/learner.cc:1095: Starting in XGBoost 1.3.0, the default evaluation metric used with the objective 'multi:softprob' was changed from 'merror' to 'mlogloss'. Explicitly set eval_metric if you'd like to restore the old behavior.\n",
      "score = 0.08064938465566902\n",
      "r2_score = -0.08648085903071201\n",
      "mean_squared_error = 10.322794886343258\n",
      "root_mean_square_error = 10.322794886343258\n"
     ]
    }
   ],
   "source": [
    "from xgboost import XGBClassifier\n",
    "model_4 = XGBClassifier(max_depth =20)\n",
    "model_4.fit(X_train_scaled,y_train)\n",
    "pred_value = model_4.predict(X_val)\n",
    "print(f'score = {model_4.score(X_test_scaled,y_test)}')\n",
    "print(f'r2_score = {r2_score(y_test,pred_value)}')\n",
    "print(f'mean_squared_error = {mean_squared_error(y_test, pred_value,squared=False)}')\n",
    "root_mean_square_error=sqrt(mean_squared_error(y_test, pred_value))\n",
    "print(f'root_mean_square_error = {root_mean_square_error}')"
   ]
  },
  {
   "cell_type": "code",
   "execution_count": 487,
   "id": "820ec203",
   "metadata": {},
   "outputs": [
    {
     "data": {
      "text/plain": [
       "array([20, 20, 20, ..., -7, -7, -7], dtype=int64)"
      ]
     },
     "execution_count": 487,
     "metadata": {},
     "output_type": "execute_result"
    }
   ],
   "source": [
    "pred_value"
   ]
  },
  {
   "cell_type": "code",
   "execution_count": 498,
   "id": "9014bbcd",
   "metadata": {},
   "outputs": [
    {
     "name": "stdout",
     "output_type": "stream",
     "text": [
      "score = -0.45009996324212476\n",
      "r2_score = -0.45009996324212476\n",
      "mean_squared_error = 142.22320392772977\n",
      "root_mean_square_error = 11.925737039182517\n"
     ]
    }
   ],
   "source": [
    "# checking model in train_final\n",
    "model_4 = RandomForestRegressor()\n",
    "model_4.fit(X_train_scaled,y_train)\n",
    "pred_value = model_4.predict(X_test_scaled)\n",
    "print(f'score = {model_4.score(X_test_scaled,y_test)}')\n",
    "print(f'r2_score = {r2_score(y_test,pred_value)}')\n",
    "print(f'mean_squared_error = {mean_squared_error(y_test, pred_value)}')\n",
    "root_mean_square_error=sqrt(mean_squared_error(y_test, pred_value))\n",
    "print(f'root_mean_square_error = {root_mean_square_error}')"
   ]
  }
 ],
 "metadata": {
  "kernelspec": {
   "display_name": "Python 3",
   "language": "python",
   "name": "python3"
  },
  "language_info": {
   "codemirror_mode": {
    "name": "ipython",
    "version": 3
   },
   "file_extension": ".py",
   "mimetype": "text/x-python",
   "name": "python",
   "nbconvert_exporter": "python",
   "pygments_lexer": "ipython3",
   "version": "3.9.5"
  }
 },
 "nbformat": 4,
 "nbformat_minor": 5
}
